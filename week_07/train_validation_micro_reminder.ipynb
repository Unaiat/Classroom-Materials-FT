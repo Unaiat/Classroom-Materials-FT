{
 "cells": [
  {
   "cell_type": "code",
<<<<<<< HEAD
   "execution_count": 1,
=======
   "execution_count": 3,
>>>>>>> a282d9ababe32ff030c47b1a9ec33bc3f0a40288
   "metadata": {},
   "outputs": [],
   "source": [
    "import pandas as pd\n",
    "import seaborn as sns"
   ]
  },
  {
   "cell_type": "markdown",
   "metadata": {},
   "source": [
    "## Explore the data"
   ]
  },
  {
   "cell_type": "markdown",
   "metadata": {},
   "source": [
    "Suppose we want to predict `acceleration` given the other numerical characteristics of a car"
   ]
  },
  {
   "cell_type": "code",
<<<<<<< HEAD
   "execution_count": 2,
=======
   "execution_count": 4,
>>>>>>> a282d9ababe32ff030c47b1a9ec33bc3f0a40288
   "metadata": {},
   "outputs": [],
   "source": [
    "df = pd.read_csv(\"../datasets/auto-mpg.csv\")"
   ]
  },
  {
   "cell_type": "code",
<<<<<<< HEAD
   "execution_count": 3,
=======
   "execution_count": 6,
>>>>>>> a282d9ababe32ff030c47b1a9ec33bc3f0a40288
   "metadata": {},
   "outputs": [
    {
     "data": {
      "text/plain": [
       "(398, 9)"
      ]
     },
<<<<<<< HEAD
     "execution_count": 3,
=======
     "execution_count": 6,
>>>>>>> a282d9ababe32ff030c47b1a9ec33bc3f0a40288
     "metadata": {},
     "output_type": "execute_result"
    }
   ],
   "source": [
    "df.shape"
   ]
  },
  {
   "cell_type": "code",
<<<<<<< HEAD
   "execution_count": 4,
=======
   "execution_count": 7,
>>>>>>> a282d9ababe32ff030c47b1a9ec33bc3f0a40288
   "metadata": {},
   "outputs": [],
   "source": [
    "df = df.drop(\"car name\", axis=1)"
   ]
  },
  {
   "cell_type": "code",
<<<<<<< HEAD
   "execution_count": 5,
=======
   "execution_count": 8,
>>>>>>> a282d9ababe32ff030c47b1a9ec33bc3f0a40288
   "metadata": {},
   "outputs": [
    {
     "data": {
      "text/html": [
       "<div>\n",
       "<style scoped>\n",
       "    .dataframe tbody tr th:only-of-type {\n",
       "        vertical-align: middle;\n",
       "    }\n",
       "\n",
       "    .dataframe tbody tr th {\n",
       "        vertical-align: top;\n",
       "    }\n",
       "\n",
       "    .dataframe thead th {\n",
       "        text-align: right;\n",
       "    }\n",
       "</style>\n",
       "<table border=\"1\" class=\"dataframe\">\n",
       "  <thead>\n",
       "    <tr style=\"text-align: right;\">\n",
       "      <th></th>\n",
       "      <th>mpg</th>\n",
       "      <th>cylinders</th>\n",
       "      <th>displacement</th>\n",
       "      <th>horsepower</th>\n",
       "      <th>weight</th>\n",
       "      <th>acceleration</th>\n",
       "      <th>model year</th>\n",
       "      <th>origin</th>\n",
       "    </tr>\n",
       "  </thead>\n",
       "  <tbody>\n",
       "    <tr>\n",
       "      <th>0</th>\n",
       "      <td>18.0</td>\n",
       "      <td>8</td>\n",
       "      <td>307.0</td>\n",
       "      <td>130</td>\n",
       "      <td>3504</td>\n",
       "      <td>12.0</td>\n",
       "      <td>70</td>\n",
       "      <td>1</td>\n",
       "    </tr>\n",
       "    <tr>\n",
       "      <th>1</th>\n",
       "      <td>15.0</td>\n",
       "      <td>8</td>\n",
       "      <td>350.0</td>\n",
       "      <td>165</td>\n",
       "      <td>3693</td>\n",
       "      <td>11.5</td>\n",
       "      <td>70</td>\n",
       "      <td>1</td>\n",
       "    </tr>\n",
       "    <tr>\n",
       "      <th>2</th>\n",
       "      <td>18.0</td>\n",
       "      <td>8</td>\n",
       "      <td>318.0</td>\n",
       "      <td>150</td>\n",
       "      <td>3436</td>\n",
       "      <td>11.0</td>\n",
       "      <td>70</td>\n",
       "      <td>1</td>\n",
       "    </tr>\n",
       "    <tr>\n",
       "      <th>3</th>\n",
       "      <td>16.0</td>\n",
       "      <td>8</td>\n",
       "      <td>304.0</td>\n",
       "      <td>150</td>\n",
       "      <td>3433</td>\n",
       "      <td>12.0</td>\n",
       "      <td>70</td>\n",
       "      <td>1</td>\n",
       "    </tr>\n",
       "    <tr>\n",
       "      <th>4</th>\n",
       "      <td>17.0</td>\n",
       "      <td>8</td>\n",
       "      <td>302.0</td>\n",
       "      <td>140</td>\n",
       "      <td>3449</td>\n",
       "      <td>10.5</td>\n",
       "      <td>70</td>\n",
       "      <td>1</td>\n",
       "    </tr>\n",
       "  </tbody>\n",
       "</table>\n",
       "</div>"
      ],
      "text/plain": [
       "    mpg  cylinders  displacement horsepower  weight  acceleration  model year  \\\n",
       "0  18.0          8         307.0        130    3504          12.0          70   \n",
       "1  15.0          8         350.0        165    3693          11.5          70   \n",
       "2  18.0          8         318.0        150    3436          11.0          70   \n",
       "3  16.0          8         304.0        150    3433          12.0          70   \n",
       "4  17.0          8         302.0        140    3449          10.5          70   \n",
       "\n",
       "   origin  \n",
       "0       1  \n",
       "1       1  \n",
       "2       1  \n",
       "3       1  \n",
       "4       1  "
      ]
     },
<<<<<<< HEAD
     "execution_count": 5,
=======
     "execution_count": 8,
>>>>>>> a282d9ababe32ff030c47b1a9ec33bc3f0a40288
     "metadata": {},
     "output_type": "execute_result"
    }
   ],
   "source": [
    "df.head()"
   ]
  },
  {
   "cell_type": "code",
<<<<<<< HEAD
   "execution_count": 6,
=======
   "execution_count": 9,
>>>>>>> a282d9ababe32ff030c47b1a9ec33bc3f0a40288
   "metadata": {},
   "outputs": [
    {
     "data": {
      "text/plain": [
       "mpg             float64\n",
       "cylinders         int64\n",
       "displacement    float64\n",
       "horsepower       object\n",
       "weight            int64\n",
       "acceleration    float64\n",
       "model year        int64\n",
       "origin            int64\n",
       "dtype: object"
      ]
     },
<<<<<<< HEAD
     "execution_count": 6,
=======
     "execution_count": 9,
>>>>>>> a282d9ababe32ff030c47b1a9ec33bc3f0a40288
     "metadata": {},
     "output_type": "execute_result"
    }
   ],
   "source": [
    "df.dtypes"
   ]
  },
  {
   "cell_type": "code",
   "execution_count": 7,
   "metadata": {},
   "outputs": [
    {
     "data": {
      "text/plain": [
       "'130'"
      ]
     },
     "execution_count": 7,
     "metadata": {},
     "output_type": "execute_result"
    }
   ],
   "source": [
    "# Check one example to see how it prints\n",
    "df.iloc[0].horsepower"
   ]
  },
  {
   "cell_type": "markdown",
   "metadata": {},
   "source": [
    "Horsepower seems not to be a numeric column. What is going on?"
   ]
  },
  {
   "cell_type": "code",
<<<<<<< HEAD
   "execution_count": 8,
=======
   "execution_count": 12,
>>>>>>> a282d9ababe32ff030c47b1a9ec33bc3f0a40288
   "metadata": {},
   "outputs": [
    {
     "name": "stdout",
     "output_type": "stream",
     "text": [
      "?\n",
      "?\n",
      "?\n",
      "?\n",
      "?\n",
      "?\n"
     ]
    }
   ],
   "source": [
    "for hp in df.horsepower:\n",
    "    try:\n",
    "        int(hp)\n",
    "    except:\n",
    "        print(hp)"
   ]
  },
  {
   "cell_type": "code",
<<<<<<< HEAD
   "execution_count": 9,
=======
   "execution_count": 13,
>>>>>>> a282d9ababe32ff030c47b1a9ec33bc3f0a40288
   "metadata": {},
   "outputs": [],
   "source": [
    "# drop ? horsepowers\n",
    "# Creating a dataframe with all the cars except the ones with the horsepower ?\n",
    "df = df[df.horsepower != \"?\"]"
   ]
  },
  {
   "cell_type": "code",
<<<<<<< HEAD
   "execution_count": 10,
=======
   "execution_count": 14,
>>>>>>> a282d9ababe32ff030c47b1a9ec33bc3f0a40288
   "metadata": {},
   "outputs": [
    {
     "data": {
      "text/plain": [
       "(392, 8)"
      ]
     },
<<<<<<< HEAD
     "execution_count": 10,
=======
     "execution_count": 14,
>>>>>>> a282d9ababe32ff030c47b1a9ec33bc3f0a40288
     "metadata": {},
     "output_type": "execute_result"
    }
   ],
   "source": [
    "df.shape"
   ]
  },
  {
   "cell_type": "code",
   "execution_count": 15,
   "metadata": {},
   "outputs": [],
   "source": [
    "df.horsepower = df.horsepower.astype(float)"
   ]
  },
  {
   "cell_type": "code",
<<<<<<< HEAD
   "execution_count": 11,
=======
   "execution_count": 16,
>>>>>>> a282d9ababe32ff030c47b1a9ec33bc3f0a40288
   "metadata": {},
   "outputs": [
    {
     "data": {
      "text/plain": [
       "mpg             float64\n",
       "cylinders         int64\n",
       "displacement    float64\n",
<<<<<<< HEAD
       "horsepower       object\n",
=======
       "horsepower      float64\n",
>>>>>>> a282d9ababe32ff030c47b1a9ec33bc3f0a40288
       "weight            int64\n",
       "acceleration    float64\n",
       "model year        int64\n",
       "origin            int64\n",
       "dtype: object"
      ]
     },
<<<<<<< HEAD
     "execution_count": 11,
=======
     "execution_count": 16,
>>>>>>> a282d9ababe32ff030c47b1a9ec33bc3f0a40288
     "metadata": {},
     "output_type": "execute_result"
    }
   ],
   "source": [
    "df.dtypes"
   ]
  },
  {
   "cell_type": "code",
<<<<<<< HEAD
   "execution_count": 12,
=======
   "execution_count": 18,
>>>>>>> a282d9ababe32ff030c47b1a9ec33bc3f0a40288
   "metadata": {},
   "outputs": [
    {
     "data": {
<<<<<<< HEAD
=======
      "text/plain": [
       "(392, 8)"
      ]
     },
     "execution_count": 18,
     "metadata": {},
     "output_type": "execute_result"
    }
   ],
   "source": [
    "df.shape"
   ]
  },
  {
   "cell_type": "code",
   "execution_count": 17,
   "metadata": {},
   "outputs": [
    {
     "data": {
>>>>>>> a282d9ababe32ff030c47b1a9ec33bc3f0a40288
      "text/html": [
       "<div>\n",
       "<style scoped>\n",
       "    .dataframe tbody tr th:only-of-type {\n",
       "        vertical-align: middle;\n",
       "    }\n",
       "\n",
       "    .dataframe tbody tr th {\n",
       "        vertical-align: top;\n",
       "    }\n",
       "\n",
       "    .dataframe thead th {\n",
       "        text-align: right;\n",
       "    }\n",
       "</style>\n",
       "<table border=\"1\" class=\"dataframe\">\n",
       "  <thead>\n",
       "    <tr style=\"text-align: right;\">\n",
       "      <th></th>\n",
       "      <th>mpg</th>\n",
       "      <th>cylinders</th>\n",
       "      <th>displacement</th>\n",
       "      <th>horsepower</th>\n",
       "      <th>weight</th>\n",
       "      <th>acceleration</th>\n",
       "      <th>model year</th>\n",
       "      <th>origin</th>\n",
       "    </tr>\n",
       "  </thead>\n",
       "  <tbody>\n",
       "    <tr>\n",
       "      <th>0</th>\n",
       "      <td>18.0</td>\n",
       "      <td>8</td>\n",
       "      <td>307.0</td>\n",
<<<<<<< HEAD
       "      <td>130</td>\n",
=======
       "      <td>130.0</td>\n",
>>>>>>> a282d9ababe32ff030c47b1a9ec33bc3f0a40288
       "      <td>3504</td>\n",
       "      <td>12.0</td>\n",
       "      <td>70</td>\n",
       "      <td>1</td>\n",
       "    </tr>\n",
       "    <tr>\n",
       "      <th>1</th>\n",
       "      <td>15.0</td>\n",
       "      <td>8</td>\n",
       "      <td>350.0</td>\n",
<<<<<<< HEAD
       "      <td>165</td>\n",
=======
       "      <td>165.0</td>\n",
>>>>>>> a282d9ababe32ff030c47b1a9ec33bc3f0a40288
       "      <td>3693</td>\n",
       "      <td>11.5</td>\n",
       "      <td>70</td>\n",
       "      <td>1</td>\n",
       "    </tr>\n",
       "    <tr>\n",
       "      <th>2</th>\n",
       "      <td>18.0</td>\n",
       "      <td>8</td>\n",
       "      <td>318.0</td>\n",
<<<<<<< HEAD
       "      <td>150</td>\n",
=======
       "      <td>150.0</td>\n",
>>>>>>> a282d9ababe32ff030c47b1a9ec33bc3f0a40288
       "      <td>3436</td>\n",
       "      <td>11.0</td>\n",
       "      <td>70</td>\n",
       "      <td>1</td>\n",
       "    </tr>\n",
       "    <tr>\n",
       "      <th>3</th>\n",
       "      <td>16.0</td>\n",
       "      <td>8</td>\n",
       "      <td>304.0</td>\n",
<<<<<<< HEAD
       "      <td>150</td>\n",
=======
       "      <td>150.0</td>\n",
>>>>>>> a282d9ababe32ff030c47b1a9ec33bc3f0a40288
       "      <td>3433</td>\n",
       "      <td>12.0</td>\n",
       "      <td>70</td>\n",
       "      <td>1</td>\n",
       "    </tr>\n",
       "    <tr>\n",
       "      <th>4</th>\n",
       "      <td>17.0</td>\n",
       "      <td>8</td>\n",
       "      <td>302.0</td>\n",
<<<<<<< HEAD
       "      <td>140</td>\n",
=======
       "      <td>140.0</td>\n",
>>>>>>> a282d9ababe32ff030c47b1a9ec33bc3f0a40288
       "      <td>3449</td>\n",
       "      <td>10.5</td>\n",
       "      <td>70</td>\n",
       "      <td>1</td>\n",
       "    </tr>\n",
       "  </tbody>\n",
       "</table>\n",
       "</div>"
      ],
      "text/plain": [
<<<<<<< HEAD
       "    mpg  cylinders  displacement horsepower  weight  acceleration  model year  \\\n",
       "0  18.0          8         307.0        130    3504          12.0          70   \n",
       "1  15.0          8         350.0        165    3693          11.5          70   \n",
       "2  18.0          8         318.0        150    3436          11.0          70   \n",
       "3  16.0          8         304.0        150    3433          12.0          70   \n",
       "4  17.0          8         302.0        140    3449          10.5          70   \n",
       "\n",
       "   origin  \n",
       "0       1  \n",
       "1       1  \n",
       "2       1  \n",
       "3       1  \n",
       "4       1  "
      ]
     },
     "execution_count": 12,
=======
       "    mpg  cylinders  displacement  horsepower  weight  acceleration  \\\n",
       "0  18.0          8         307.0       130.0    3504          12.0   \n",
       "1  15.0          8         350.0       165.0    3693          11.5   \n",
       "2  18.0          8         318.0       150.0    3436          11.0   \n",
       "3  16.0          8         304.0       150.0    3433          12.0   \n",
       "4  17.0          8         302.0       140.0    3449          10.5   \n",
       "\n",
       "   model year  origin  \n",
       "0          70       1  \n",
       "1          70       1  \n",
       "2          70       1  \n",
       "3          70       1  \n",
       "4          70       1  "
      ]
     },
     "execution_count": 17,
>>>>>>> a282d9ababe32ff030c47b1a9ec33bc3f0a40288
     "metadata": {},
     "output_type": "execute_result"
    }
   ],
   "source": [
    "df.head()"
   ]
  },
  {
   "cell_type": "markdown",
   "metadata": {},
   "source": [
    "## Build model with whole dataset"
   ]
  },
  {
   "cell_type": "code",
<<<<<<< HEAD
   "execution_count": 13,
=======
   "execution_count": 19,
>>>>>>> a282d9ababe32ff030c47b1a9ec33bc3f0a40288
   "metadata": {},
   "outputs": [],
   "source": [
    "from sklearn.linear_model import LinearRegression"
   ]
  },
  {
   "cell_type": "code",
<<<<<<< HEAD
   "execution_count": 14,
=======
   "execution_count": 20,
>>>>>>> a282d9ababe32ff030c47b1a9ec33bc3f0a40288
   "metadata": {},
   "outputs": [],
   "source": [
    "lr = LinearRegression()"
   ]
  },
  {
   "cell_type": "code",
<<<<<<< HEAD
   "execution_count": 15,
=======
   "execution_count": 21,
>>>>>>> a282d9ababe32ff030c47b1a9ec33bc3f0a40288
   "metadata": {},
   "outputs": [],
   "source": [
    "X = df.drop(\"acceleration\", axis=1)\n",
    "y = df.acceleration"
   ]
  },
  {
   "cell_type": "code",
<<<<<<< HEAD
   "execution_count": 16,
=======
   "execution_count": 22,
>>>>>>> a282d9ababe32ff030c47b1a9ec33bc3f0a40288
   "metadata": {},
   "outputs": [
    {
     "data": {
      "text/html": [
       "<div>\n",
       "<style scoped>\n",
       "    .dataframe tbody tr th:only-of-type {\n",
       "        vertical-align: middle;\n",
       "    }\n",
       "\n",
       "    .dataframe tbody tr th {\n",
       "        vertical-align: top;\n",
       "    }\n",
       "\n",
       "    .dataframe thead th {\n",
       "        text-align: right;\n",
       "    }\n",
       "</style>\n",
       "<table border=\"1\" class=\"dataframe\">\n",
       "  <thead>\n",
       "    <tr style=\"text-align: right;\">\n",
       "      <th></th>\n",
       "      <th>mpg</th>\n",
       "      <th>cylinders</th>\n",
       "      <th>displacement</th>\n",
       "      <th>horsepower</th>\n",
       "      <th>weight</th>\n",
       "      <th>model year</th>\n",
       "      <th>origin</th>\n",
       "    </tr>\n",
       "  </thead>\n",
       "  <tbody>\n",
       "    <tr>\n",
       "      <th>0</th>\n",
       "      <td>18.0</td>\n",
       "      <td>8</td>\n",
       "      <td>307.0</td>\n",
<<<<<<< HEAD
       "      <td>130</td>\n",
=======
       "      <td>130.0</td>\n",
>>>>>>> a282d9ababe32ff030c47b1a9ec33bc3f0a40288
       "      <td>3504</td>\n",
       "      <td>70</td>\n",
       "      <td>1</td>\n",
       "    </tr>\n",
       "    <tr>\n",
       "      <th>1</th>\n",
       "      <td>15.0</td>\n",
       "      <td>8</td>\n",
       "      <td>350.0</td>\n",
<<<<<<< HEAD
       "      <td>165</td>\n",
=======
       "      <td>165.0</td>\n",
>>>>>>> a282d9ababe32ff030c47b1a9ec33bc3f0a40288
       "      <td>3693</td>\n",
       "      <td>70</td>\n",
       "      <td>1</td>\n",
       "    </tr>\n",
       "    <tr>\n",
       "      <th>2</th>\n",
       "      <td>18.0</td>\n",
       "      <td>8</td>\n",
       "      <td>318.0</td>\n",
<<<<<<< HEAD
       "      <td>150</td>\n",
=======
       "      <td>150.0</td>\n",
>>>>>>> a282d9ababe32ff030c47b1a9ec33bc3f0a40288
       "      <td>3436</td>\n",
       "      <td>70</td>\n",
       "      <td>1</td>\n",
       "    </tr>\n",
       "    <tr>\n",
       "      <th>3</th>\n",
       "      <td>16.0</td>\n",
       "      <td>8</td>\n",
       "      <td>304.0</td>\n",
<<<<<<< HEAD
       "      <td>150</td>\n",
=======
       "      <td>150.0</td>\n",
>>>>>>> a282d9ababe32ff030c47b1a9ec33bc3f0a40288
       "      <td>3433</td>\n",
       "      <td>70</td>\n",
       "      <td>1</td>\n",
       "    </tr>\n",
       "    <tr>\n",
       "      <th>4</th>\n",
       "      <td>17.0</td>\n",
       "      <td>8</td>\n",
       "      <td>302.0</td>\n",
<<<<<<< HEAD
       "      <td>140</td>\n",
=======
       "      <td>140.0</td>\n",
>>>>>>> a282d9ababe32ff030c47b1a9ec33bc3f0a40288
       "      <td>3449</td>\n",
       "      <td>70</td>\n",
       "      <td>1</td>\n",
       "    </tr>\n",
       "  </tbody>\n",
       "</table>\n",
       "</div>"
      ],
      "text/plain": [
<<<<<<< HEAD
       "    mpg  cylinders  displacement horsepower  weight  model year  origin\n",
       "0  18.0          8         307.0        130    3504          70       1\n",
       "1  15.0          8         350.0        165    3693          70       1\n",
       "2  18.0          8         318.0        150    3436          70       1\n",
       "3  16.0          8         304.0        150    3433          70       1\n",
       "4  17.0          8         302.0        140    3449          70       1"
      ]
     },
     "execution_count": 16,
=======
       "    mpg  cylinders  displacement  horsepower  weight  model year  origin\n",
       "0  18.0          8         307.0       130.0    3504          70       1\n",
       "1  15.0          8         350.0       165.0    3693          70       1\n",
       "2  18.0          8         318.0       150.0    3436          70       1\n",
       "3  16.0          8         304.0       150.0    3433          70       1\n",
       "4  17.0          8         302.0       140.0    3449          70       1"
      ]
     },
     "execution_count": 22,
>>>>>>> a282d9ababe32ff030c47b1a9ec33bc3f0a40288
     "metadata": {},
     "output_type": "execute_result"
    }
   ],
   "source": [
    "X[:5]"
   ]
  },
  {
   "cell_type": "code",
<<<<<<< HEAD
   "execution_count": 17,
=======
   "execution_count": 23,
>>>>>>> a282d9ababe32ff030c47b1a9ec33bc3f0a40288
   "metadata": {},
   "outputs": [
    {
     "data": {
      "text/plain": [
       "0    12.0\n",
       "1    11.5\n",
       "2    11.0\n",
       "3    12.0\n",
       "4    10.5\n",
       "Name: acceleration, dtype: float64"
      ]
     },
<<<<<<< HEAD
     "execution_count": 17,
=======
     "execution_count": 23,
>>>>>>> a282d9ababe32ff030c47b1a9ec33bc3f0a40288
     "metadata": {},
     "output_type": "execute_result"
    }
   ],
   "source": [
    "y[:5]"
   ]
  },
  {
   "cell_type": "code",
<<<<<<< HEAD
   "execution_count": 18,
=======
   "execution_count": 24,
>>>>>>> a282d9ababe32ff030c47b1a9ec33bc3f0a40288
   "metadata": {},
   "outputs": [
    {
     "data": {
      "text/plain": [
       "LinearRegression()"
      ]
     },
<<<<<<< HEAD
     "execution_count": 18,
=======
     "execution_count": 24,
>>>>>>> a282d9ababe32ff030c47b1a9ec33bc3f0a40288
     "metadata": {},
     "output_type": "execute_result"
    }
   ],
   "source": [
    "lr.fit(X=X, y=y)"
   ]
  },
  {
   "cell_type": "code",
<<<<<<< HEAD
   "execution_count": 19,
=======
   "execution_count": 25,
>>>>>>> a282d9ababe32ff030c47b1a9ec33bc3f0a40288
   "metadata": {},
   "outputs": [
    {
     "data": {
      "text/plain": [
       "0    12.0\n",
       "Name: acceleration, dtype: float64"
      ]
     },
<<<<<<< HEAD
     "execution_count": 19,
=======
     "execution_count": 25,
>>>>>>> a282d9ababe32ff030c47b1a9ec33bc3f0a40288
     "metadata": {},
     "output_type": "execute_result"
    }
   ],
   "source": [
    "y[:1]"
   ]
  },
  {
   "cell_type": "code",
<<<<<<< HEAD
   "execution_count": 20,
=======
   "execution_count": 26,
>>>>>>> a282d9ababe32ff030c47b1a9ec33bc3f0a40288
   "metadata": {},
   "outputs": [
    {
     "data": {
      "text/plain": [
       "array([14.00670318])"
      ]
     },
<<<<<<< HEAD
     "execution_count": 20,
=======
     "execution_count": 26,
>>>>>>> a282d9ababe32ff030c47b1a9ec33bc3f0a40288
     "metadata": {},
     "output_type": "execute_result"
    }
   ],
   "source": [
    "lr.predict(X[:1])"
   ]
  },
  {
   "cell_type": "code",
<<<<<<< HEAD
   "execution_count": 23,
=======
   "execution_count": 28,
>>>>>>> a282d9ababe32ff030c47b1a9ec33bc3f0a40288
   "metadata": {},
   "outputs": [
    {
     "data": {
      "text/plain": [
       "0    12.0\n",
       "1    11.5\n",
       "2    11.0\n",
       "3    12.0\n",
       "4    10.5\n",
       "Name: acceleration, dtype: float64"
      ]
     },
<<<<<<< HEAD
     "execution_count": 23,
     "metadata": {},
     "output_type": "execute_result"
    }
   ],
   "source": [
    "y[:5]"
   ]
  },
  {
   "cell_type": "code",
   "execution_count": 21,
   "metadata": {},
   "outputs": [
    {
     "data": {
      "text/plain": [
       "array([14.00670318, 11.21709765, 11.9784462 , 12.04025895, 12.98764533])"
      ]
     },
     "execution_count": 21,
=======
     "execution_count": 28,
>>>>>>> a282d9ababe32ff030c47b1a9ec33bc3f0a40288
     "metadata": {},
     "output_type": "execute_result"
    }
   ],
   "source": [
    "y[:5]"
   ]
  },
  {
   "cell_type": "code",
<<<<<<< HEAD
   "execution_count": 22,
=======
   "execution_count": 30,
>>>>>>> a282d9ababe32ff030c47b1a9ec33bc3f0a40288
   "metadata": {},
   "outputs": [
    {
     "data": {
      "text/plain": [
<<<<<<< HEAD
       "0.619822478208412"
      ]
     },
     "execution_count": 22,
=======
       "array([14. , 11.2, 12. , 12. , 13. ])"
      ]
     },
     "execution_count": 30,
>>>>>>> a282d9ababe32ff030c47b1a9ec33bc3f0a40288
     "metadata": {},
     "output_type": "execute_result"
    }
   ],
   "source": [
    "lr.predict(X[:5]).round(1)"
   ]
  },
  {
   "cell_type": "code",
<<<<<<< HEAD
   "execution_count": 24,
=======
   "execution_count": 32,
>>>>>>> a282d9ababe32ff030c47b1a9ec33bc3f0a40288
   "metadata": {},
   "outputs": [],
   "source": [
    "from sklearn.metrics import mean_squared_error"
   ]
  },
  {
   "cell_type": "code",
<<<<<<< HEAD
   "execution_count": 25,
=======
   "execution_count": 33,
>>>>>>> a282d9ababe32ff030c47b1a9ec33bc3f0a40288
   "metadata": {},
   "outputs": [
    {
     "data": {
      "text/plain": [
       "2.8862752656774058"
      ]
     },
<<<<<<< HEAD
     "execution_count": 25,
=======
     "execution_count": 33,
>>>>>>> a282d9ababe32ff030c47b1a9ec33bc3f0a40288
     "metadata": {},
     "output_type": "execute_result"
    }
   ],
   "source": [
    "mean_squared_error(y_true=y, y_pred=lr.predict(X))"
   ]
  },
  {
   "cell_type": "code",
<<<<<<< HEAD
   "execution_count": 28,
=======
   "execution_count": 41,
   "metadata": {},
   "outputs": [
    {
     "data": {
      "text/plain": [
       "0.619822478208412"
      ]
     },
     "execution_count": 41,
     "metadata": {},
     "output_type": "execute_result"
    }
   ],
   "source": [
    "# r2 is the default score for LinearRegression\n",
    "lr.score(X, y)"
   ]
  },
  {
   "cell_type": "code",
   "execution_count": 40,
>>>>>>> a282d9ababe32ff030c47b1a9ec33bc3f0a40288
   "metadata": {},
   "outputs": [
    {
     "data": {
      "text/html": [
       "<div>\n",
       "<style scoped>\n",
       "    .dataframe tbody tr th:only-of-type {\n",
       "        vertical-align: middle;\n",
       "    }\n",
       "\n",
       "    .dataframe tbody tr th {\n",
       "        vertical-align: top;\n",
       "    }\n",
       "\n",
       "    .dataframe thead th {\n",
       "        text-align: right;\n",
       "    }\n",
       "</style>\n",
       "<table border=\"1\" class=\"dataframe\">\n",
       "  <thead>\n",
       "    <tr style=\"text-align: right;\">\n",
       "      <th></th>\n",
       "      <th>real</th>\n",
       "      <th>pred</th>\n",
       "    </tr>\n",
       "  </thead>\n",
       "  <tbody>\n",
       "    <tr>\n",
       "      <th>0</th>\n",
       "      <td>12.0</td>\n",
       "      <td>14.0</td>\n",
       "    </tr>\n",
       "    <tr>\n",
       "      <th>1</th>\n",
       "      <td>11.5</td>\n",
       "      <td>11.2</td>\n",
       "    </tr>\n",
       "    <tr>\n",
       "      <th>2</th>\n",
       "      <td>11.0</td>\n",
       "      <td>12.0</td>\n",
       "    </tr>\n",
       "    <tr>\n",
       "      <th>3</th>\n",
       "      <td>12.0</td>\n",
       "      <td>12.0</td>\n",
       "    </tr>\n",
       "    <tr>\n",
       "      <th>4</th>\n",
       "      <td>10.5</td>\n",
       "      <td>13.0</td>\n",
       "    </tr>\n",
       "  </tbody>\n",
       "</table>\n",
       "</div>"
      ],
      "text/plain": [
       "   real  pred\n",
       "0  12.0  14.0\n",
       "1  11.5  11.2\n",
       "2  11.0  12.0\n",
       "3  12.0  12.0\n",
       "4  10.5  13.0"
      ]
     },
<<<<<<< HEAD
     "execution_count": 28,
=======
     "execution_count": 40,
>>>>>>> a282d9ababe32ff030c47b1a9ec33bc3f0a40288
     "metadata": {},
     "output_type": "execute_result"
    }
   ],
   "source": [
    "pd.DataFrame({\"real\": y, \"pred\": lr.predict(X).round(1)}).head()"
   ]
  },
  {
   "cell_type": "code",
<<<<<<< HEAD
   "execution_count": 26,
=======
   "execution_count": 36,
>>>>>>> a282d9ababe32ff030c47b1a9ec33bc3f0a40288
   "metadata": {},
   "outputs": [
    {
     "data": {
      "text/plain": [
       "<AxesSubplot:xlabel='acceleration'>"
      ]
     },
<<<<<<< HEAD
     "execution_count": 26,
=======
     "execution_count": 36,
>>>>>>> a282d9ababe32ff030c47b1a9ec33bc3f0a40288
     "metadata": {},
     "output_type": "execute_result"
    },
    {
     "data": {
<<<<<<< HEAD
      "image/png": "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\n",
=======
      "image/png": "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\n",
>>>>>>> a282d9ababe32ff030c47b1a9ec33bc3f0a40288
      "text/plain": [
       "<Figure size 432x288 with 1 Axes>"
      ]
     },
     "metadata": {
      "needs_background": "light"
     },
     "output_type": "display_data"
    }
   ],
   "source": [
<<<<<<< HEAD
    "# x = reality\n",
    "# y = prediction\n",
    "sns.scatterplot(x = y, y = lr.predict(X))"
=======
    "sns.scatterplot(x=y, y=lr.predict(X))"
>>>>>>> a282d9ababe32ff030c47b1a9ec33bc3f0a40288
   ]
  },
  {
   "cell_type": "markdown",
   "metadata": {},
   "source": [
    "## Train-test split procedure"
   ]
  },
  {
   "cell_type": "code",
<<<<<<< HEAD
   "execution_count": 29,
=======
   "execution_count": 43,
>>>>>>> a282d9ababe32ff030c47b1a9ec33bc3f0a40288
   "metadata": {},
   "outputs": [],
   "source": [
    "from sklearn.model_selection import train_test_split"
   ]
  },
  {
   "cell_type": "code",
<<<<<<< HEAD
   "execution_count": 30,
=======
   "execution_count": 44,
>>>>>>> a282d9ababe32ff030c47b1a9ec33bc3f0a40288
   "metadata": {},
   "outputs": [
    {
     "data": {
      "text/plain": [
       "(392, 8)"
      ]
     },
<<<<<<< HEAD
     "execution_count": 30,
=======
     "execution_count": 44,
>>>>>>> a282d9ababe32ff030c47b1a9ec33bc3f0a40288
     "metadata": {},
     "output_type": "execute_result"
    }
   ],
   "source": [
    "df.shape"
   ]
  },
  {
   "cell_type": "code",
<<<<<<< HEAD
   "execution_count": 31,
=======
   "execution_count": 59,
>>>>>>> a282d9ababe32ff030c47b1a9ec33bc3f0a40288
   "metadata": {},
   "outputs": [],
   "source": [
    "X_train, X_test, y_train, y_test = train_test_split(X, y, test_size=0.2, random_state=11)"
   ]
  },
  {
   "cell_type": "code",
<<<<<<< HEAD
   "execution_count": 32,
=======
   "execution_count": 60,
>>>>>>> a282d9ababe32ff030c47b1a9ec33bc3f0a40288
   "metadata": {},
   "outputs": [
    {
     "data": {
      "text/plain": [
       "(313, 7)"
      ]
     },
<<<<<<< HEAD
     "execution_count": 32,
=======
     "execution_count": 60,
>>>>>>> a282d9ababe32ff030c47b1a9ec33bc3f0a40288
     "metadata": {},
     "output_type": "execute_result"
    }
   ],
   "source": [
    "X_train.shape"
   ]
  },
  {
   "cell_type": "code",
<<<<<<< HEAD
   "execution_count": 33,
=======
   "execution_count": 61,
>>>>>>> a282d9ababe32ff030c47b1a9ec33bc3f0a40288
   "metadata": {},
   "outputs": [
    {
     "data": {
      "text/plain": [
       "(79, 7)"
      ]
     },
<<<<<<< HEAD
     "execution_count": 33,
=======
     "execution_count": 61,
>>>>>>> a282d9ababe32ff030c47b1a9ec33bc3f0a40288
     "metadata": {},
     "output_type": "execute_result"
    }
   ],
   "source": [
    "X_test.shape"
   ]
  },
  {
   "cell_type": "code",
<<<<<<< HEAD
   "execution_count": 34,
=======
   "execution_count": 62,
>>>>>>> a282d9ababe32ff030c47b1a9ec33bc3f0a40288
   "metadata": {},
   "outputs": [],
   "source": [
    "lr2 = LinearRegression()"
   ]
  },
  {
   "cell_type": "code",
<<<<<<< HEAD
   "execution_count": 35,
=======
   "execution_count": 63,
>>>>>>> a282d9ababe32ff030c47b1a9ec33bc3f0a40288
   "metadata": {},
   "outputs": [
    {
     "data": {
      "text/plain": [
       "LinearRegression()"
      ]
     },
<<<<<<< HEAD
     "execution_count": 35,
=======
     "execution_count": 63,
>>>>>>> a282d9ababe32ff030c47b1a9ec33bc3f0a40288
     "metadata": {},
     "output_type": "execute_result"
    }
   ],
   "source": [
    "lr2.fit(X_train, y_train)"
   ]
  },
  {
   "cell_type": "code",
<<<<<<< HEAD
   "execution_count": 36,
=======
   "execution_count": 64,
>>>>>>> a282d9ababe32ff030c47b1a9ec33bc3f0a40288
   "metadata": {},
   "outputs": [
    {
     "data": {
      "text/plain": [
<<<<<<< HEAD
       "0.6487240926173845"
      ]
     },
     "execution_count": 36,
=======
       "0.6400123165412906"
      ]
     },
     "execution_count": 64,
>>>>>>> a282d9ababe32ff030c47b1a9ec33bc3f0a40288
     "metadata": {},
     "output_type": "execute_result"
    }
   ],
   "source": [
    "lr2.score(X_train, y_train)"
   ]
  },
  {
   "cell_type": "code",
<<<<<<< HEAD
   "execution_count": 37,
=======
   "execution_count": 65,
>>>>>>> a282d9ababe32ff030c47b1a9ec33bc3f0a40288
   "metadata": {},
   "outputs": [
    {
     "data": {
      "text/plain": [
       "<AxesSubplot:xlabel='acceleration'>"
      ]
     },
<<<<<<< HEAD
     "execution_count": 37,
=======
     "execution_count": 65,
>>>>>>> a282d9ababe32ff030c47b1a9ec33bc3f0a40288
     "metadata": {},
     "output_type": "execute_result"
    },
    {
     "data": {
<<<<<<< HEAD
      "image/png": "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\n",
=======
      "image/png": "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\n",
>>>>>>> a282d9ababe32ff030c47b1a9ec33bc3f0a40288
      "text/plain": [
       "<Figure size 432x288 with 1 Axes>"
      ]
     },
     "metadata": {
      "needs_background": "light"
     },
     "output_type": "display_data"
    }
   ],
   "source": [
    "sns.scatterplot(x=y_train, y=lr2.predict(X_train))"
   ]
  },
  {
   "cell_type": "code",
<<<<<<< HEAD
   "execution_count": 38,
=======
   "execution_count": 66,
>>>>>>> a282d9ababe32ff030c47b1a9ec33bc3f0a40288
   "metadata": {},
   "outputs": [
    {
     "data": {
      "text/plain": [
       "(79, 7)"
      ]
     },
<<<<<<< HEAD
     "execution_count": 38,
=======
     "execution_count": 66,
>>>>>>> a282d9ababe32ff030c47b1a9ec33bc3f0a40288
     "metadata": {},
     "output_type": "execute_result"
    }
   ],
   "source": [
    "X_test.shape"
   ]
  },
  {
   "cell_type": "code",
<<<<<<< HEAD
   "execution_count": 39,
=======
   "execution_count": 67,
>>>>>>> a282d9ababe32ff030c47b1a9ec33bc3f0a40288
   "metadata": {},
   "outputs": [
    {
     "data": {
      "text/html": [
       "<div>\n",
       "<style scoped>\n",
       "    .dataframe tbody tr th:only-of-type {\n",
       "        vertical-align: middle;\n",
       "    }\n",
       "\n",
       "    .dataframe tbody tr th {\n",
       "        vertical-align: top;\n",
       "    }\n",
       "\n",
       "    .dataframe thead th {\n",
       "        text-align: right;\n",
       "    }\n",
       "</style>\n",
       "<table border=\"1\" class=\"dataframe\">\n",
       "  <thead>\n",
       "    <tr style=\"text-align: right;\">\n",
       "      <th></th>\n",
       "      <th>mpg</th>\n",
       "      <th>cylinders</th>\n",
       "      <th>displacement</th>\n",
       "      <th>horsepower</th>\n",
       "      <th>weight</th>\n",
       "      <th>model year</th>\n",
       "      <th>origin</th>\n",
       "    </tr>\n",
       "  </thead>\n",
       "  <tbody>\n",
       "    <tr>\n",
<<<<<<< HEAD
       "      <th>396</th>\n",
       "      <td>28.0</td>\n",
       "      <td>4</td>\n",
       "      <td>120.0</td>\n",
       "      <td>79</td>\n",
       "      <td>2625</td>\n",
       "      <td>82</td>\n",
       "      <td>1</td>\n",
       "    </tr>\n",
       "    <tr>\n",
       "      <th>117</th>\n",
       "      <td>29.0</td>\n",
       "      <td>4</td>\n",
       "      <td>68.0</td>\n",
       "      <td>49</td>\n",
       "      <td>1867</td>\n",
       "      <td>73</td>\n",
       "      <td>2</td>\n",
       "    </tr>\n",
       "    <tr>\n",
       "      <th>191</th>\n",
       "      <td>22.0</td>\n",
       "      <td>6</td>\n",
       "      <td>225.0</td>\n",
       "      <td>100</td>\n",
       "      <td>3233</td>\n",
       "      <td>76</td>\n",
       "      <td>1</td>\n",
       "    </tr>\n",
       "    <tr>\n",
       "      <th>371</th>\n",
       "      <td>29.0</td>\n",
       "      <td>4</td>\n",
       "      <td>135.0</td>\n",
       "      <td>84</td>\n",
       "      <td>2525</td>\n",
       "      <td>82</td>\n",
       "      <td>1</td>\n",
       "    </tr>\n",
       "    <tr>\n",
       "      <th>274</th>\n",
       "      <td>20.3</td>\n",
       "      <td>5</td>\n",
       "      <td>131.0</td>\n",
       "      <td>103</td>\n",
       "      <td>2830</td>\n",
       "      <td>78</td>\n",
       "      <td>2</td>\n",
=======
       "      <th>240</th>\n",
       "      <td>30.5</td>\n",
       "      <td>4</td>\n",
       "      <td>97.0</td>\n",
       "      <td>78.0</td>\n",
       "      <td>2190</td>\n",
       "      <td>77</td>\n",
       "      <td>2</td>\n",
       "    </tr>\n",
       "    <tr>\n",
       "      <th>390</th>\n",
       "      <td>32.0</td>\n",
       "      <td>4</td>\n",
       "      <td>144.0</td>\n",
       "      <td>96.0</td>\n",
       "      <td>2665</td>\n",
       "      <td>82</td>\n",
       "      <td>3</td>\n",
       "    </tr>\n",
       "    <tr>\n",
       "      <th>391</th>\n",
       "      <td>36.0</td>\n",
       "      <td>4</td>\n",
       "      <td>135.0</td>\n",
       "      <td>84.0</td>\n",
       "      <td>2370</td>\n",
       "      <td>82</td>\n",
       "      <td>1</td>\n",
       "    </tr>\n",
       "    <tr>\n",
       "      <th>236</th>\n",
       "      <td>25.5</td>\n",
       "      <td>4</td>\n",
       "      <td>140.0</td>\n",
       "      <td>89.0</td>\n",
       "      <td>2755</td>\n",
       "      <td>77</td>\n",
       "      <td>1</td>\n",
       "    </tr>\n",
       "    <tr>\n",
       "      <th>222</th>\n",
       "      <td>17.0</td>\n",
       "      <td>8</td>\n",
       "      <td>260.0</td>\n",
       "      <td>110.0</td>\n",
       "      <td>4060</td>\n",
       "      <td>77</td>\n",
       "      <td>1</td>\n",
>>>>>>> a282d9ababe32ff030c47b1a9ec33bc3f0a40288
       "    </tr>\n",
       "  </tbody>\n",
       "</table>\n",
       "</div>"
      ],
      "text/plain": [
<<<<<<< HEAD
       "      mpg  cylinders  displacement horsepower  weight  model year  origin\n",
       "396  28.0          4         120.0         79    2625          82       1\n",
       "117  29.0          4          68.0         49    1867          73       2\n",
       "191  22.0          6         225.0        100    3233          76       1\n",
       "371  29.0          4         135.0         84    2525          82       1\n",
       "274  20.3          5         131.0        103    2830          78       2"
      ]
     },
     "execution_count": 39,
=======
       "      mpg  cylinders  displacement  horsepower  weight  model year  origin\n",
       "240  30.5          4          97.0        78.0    2190          77       2\n",
       "390  32.0          4         144.0        96.0    2665          82       3\n",
       "391  36.0          4         135.0        84.0    2370          82       1\n",
       "236  25.5          4         140.0        89.0    2755          77       1\n",
       "222  17.0          8         260.0       110.0    4060          77       1"
      ]
     },
     "execution_count": 67,
>>>>>>> a282d9ababe32ff030c47b1a9ec33bc3f0a40288
     "metadata": {},
     "output_type": "execute_result"
    }
   ],
   "source": [
    "X_test.head()"
   ]
  },
  {
   "cell_type": "code",
<<<<<<< HEAD
   "execution_count": 45,
=======
   "execution_count": 68,
>>>>>>> a282d9ababe32ff030c47b1a9ec33bc3f0a40288
   "metadata": {},
   "outputs": [
    {
     "data": {
      "text/plain": [
<<<<<<< HEAD
       "array([17.2, 18.3, 16.5, 16.4, 15.3, 15.2, 14.3, 18.1, 14.1, 17. , 17.6,\n",
       "       13.5, 12.5, 15. , 16.6, 14.1, 16.8, 18.5, 14.7, 16.9, 15.9, 17.1,\n",
       "       16.6, 18.2, 16.4, 17.6, 17.3,  9.6, 16.4, 15.8, 13.2, 12. , 11.2,\n",
       "       14.6,  8.8, 15.5, 15.7, 17.5, 16.5, 17. , 13.7, 16.6, 15.8, 15.4,\n",
       "       15.6, 16.9, 16.4, 16.8, 17.1, 11.3, 16.5, 15. , 14. , 19.5, 16.8,\n",
       "       16.7, 17.6,  9.7, 17.4, 14.7,  6.2, 17.5, 16. , 14.4, 16.7,  7.6,\n",
       "       16.6, 17.3, 15.8, 17.1, 11.4, 16.6, 13.4, 17. , 16.9, 16.5, 17.4,\n",
       "       15.4, 16.9])"
      ]
     },
     "execution_count": 45,
=======
       "array([16.2, 15.8, 15.7, 16.8, 17.3])"
      ]
     },
     "execution_count": 68,
>>>>>>> a282d9ababe32ff030c47b1a9ec33bc3f0a40288
     "metadata": {},
     "output_type": "execute_result"
    }
   ],
   "source": [
<<<<<<< HEAD
    "lr2.predict(X_test).round(1)"
=======
    "lr2.predict(X_test.head()).round(1)"
>>>>>>> a282d9ababe32ff030c47b1a9ec33bc3f0a40288
   ]
  },
  {
   "cell_type": "code",
<<<<<<< HEAD
   "execution_count": 43,
=======
   "execution_count": 69,
>>>>>>> a282d9ababe32ff030c47b1a9ec33bc3f0a40288
   "metadata": {},
   "outputs": [
    {
     "data": {
      "text/plain": [
<<<<<<< HEAD
       "396    18.6\n",
       "117    19.5\n",
       "191    15.4\n",
       "371    16.0\n",
       "274    15.9\n",
       "Name: acceleration, dtype: float64"
      ]
     },
     "execution_count": 43,
=======
       "240    14.1\n",
       "390    13.9\n",
       "391    13.0\n",
       "236    15.8\n",
       "222    19.0\n",
       "Name: acceleration, dtype: float64"
      ]
     },
     "execution_count": 69,
>>>>>>> a282d9ababe32ff030c47b1a9ec33bc3f0a40288
     "metadata": {},
     "output_type": "execute_result"
    }
   ],
   "source": [
    "y_test[:5]"
   ]
  },
  {
   "cell_type": "code",
<<<<<<< HEAD
   "execution_count": 46,
=======
   "execution_count": 70,
>>>>>>> a282d9ababe32ff030c47b1a9ec33bc3f0a40288
   "metadata": {},
   "outputs": [
    {
     "data": {
      "text/plain": [
<<<<<<< HEAD
       "0.43439098354133543"
      ]
     },
     "execution_count": 46,
=======
       "0.48635667169188646"
      ]
     },
     "execution_count": 70,
>>>>>>> a282d9ababe32ff030c47b1a9ec33bc3f0a40288
     "metadata": {},
     "output_type": "execute_result"
    }
   ],
   "source": [
    "lr2.score(X_test, y_test)"
   ]
  },
  {
   "cell_type": "markdown",
   "metadata": {},
   "source": [
    "This is the expected error we will have when testing on OTHER UNSEEN cars"
   ]
  },
  {
   "cell_type": "code",
<<<<<<< HEAD
   "execution_count": 47,
=======
   "execution_count": 58,
>>>>>>> a282d9ababe32ff030c47b1a9ec33bc3f0a40288
   "metadata": {},
   "outputs": [
    {
     "data": {
      "text/plain": [
       "<AxesSubplot:xlabel='acceleration'>"
      ]
     },
<<<<<<< HEAD
     "execution_count": 47,
=======
     "execution_count": 58,
>>>>>>> a282d9ababe32ff030c47b1a9ec33bc3f0a40288
     "metadata": {},
     "output_type": "execute_result"
    },
    {
     "data": {
<<<<<<< HEAD
      "image/png": "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\n",
=======
      "image/png": "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\n",
>>>>>>> a282d9ababe32ff030c47b1a9ec33bc3f0a40288
      "text/plain": [
       "<Figure size 432x288 with 1 Axes>"
      ]
     },
     "metadata": {
      "needs_background": "light"
     },
     "output_type": "display_data"
    }
   ],
   "source": [
    "sns.scatterplot(x=y_test, y=lr2.predict(X_test))"
   ]
  },
  {
   "cell_type": "markdown",
   "metadata": {},
   "source": [
<<<<<<< HEAD
    "Extra: Cross validation to consider different train-test-split"
   ]
  },
  {
   "cell_type": "markdown",
   "metadata": {},
   "source": [
    "Find out how to do it"
   ]
  },
  {
   "cell_type": "code",
   "execution_count": null,
   "metadata": {},
   "outputs": [],
   "source": []
=======
    "EXTRA: CROSS VALIDATION to consider different train-test splits"
   ]
>>>>>>> a282d9ababe32ff030c47b1a9ec33bc3f0a40288
  }
 ],
 "metadata": {
  "kernelspec": {
   "display_name": "Python 3",
   "language": "python",
   "name": "python3"
  },
  "language_info": {
   "codemirror_mode": {
    "name": "ipython",
    "version": 3
   },
   "file_extension": ".py",
   "mimetype": "text/x-python",
   "name": "python",
   "nbconvert_exporter": "python",
   "pygments_lexer": "ipython3",
   "version": "3.8.5"
  },
  "toc": {
   "base_numbering": 1,
   "nav_menu": {},
   "number_sections": true,
   "sideBar": true,
   "skip_h1_title": false,
   "title_cell": "Table of Contents",
   "title_sidebar": "Contents",
   "toc_cell": false,
   "toc_position": {},
   "toc_section_display": true,
   "toc_window_display": false
  },
  "varInspector": {
   "cols": {
    "lenName": 16,
    "lenType": 16,
    "lenVar": 40
   },
   "kernels_config": {
    "python": {
     "delete_cmd_postfix": "",
     "delete_cmd_prefix": "del ",
     "library": "var_list.py",
     "varRefreshCmd": "print(var_dic_list())"
    },
    "r": {
     "delete_cmd_postfix": ") ",
     "delete_cmd_prefix": "rm(",
     "library": "var_list.r",
     "varRefreshCmd": "cat(var_dic_list()) "
    }
   },
   "types_to_exclude": [
    "module",
    "function",
    "builtin_function_or_method",
    "instance",
    "_Feature"
   ],
   "window_display": false
  }
 },
 "nbformat": 4,
 "nbformat_minor": 4
}

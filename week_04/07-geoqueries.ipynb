{
 "cells": [
  {
   "cell_type": "markdown",
   "metadata": {},
   "source": [
    "# Geoqueries en Mongo"
   ]
  },
  {
   "cell_type": "markdown",
   "metadata": {
    "toc": true
   },
   "source": [
    "<h1>Table of Contents<span class=\"tocSkip\"></span></h1>\n",
    "<div class=\"toc\"><ul class=\"toc-item\"><li><span><a href=\"#¿Qué-podemos-hacer-con-las-geoqueries?\" data-toc-modified-id=\"¿Qué-podemos-hacer-con-las-geoqueries?-1\"><span class=\"toc-item-num\">1&nbsp;&nbsp;</span>¿Qué podemos hacer con las geoqueries?</a></span></li><li><span><a href=\"#Generamos-la-conexión-con-Mongo\" data-toc-modified-id=\"Generamos-la-conexión-con-Mongo-2\"><span class=\"toc-item-num\">2&nbsp;&nbsp;</span>Generamos la conexión con Mongo</a></span></li><li><span><a href=\"#Importar-colecciones\" data-toc-modified-id=\"Importar-colecciones-3\"><span class=\"toc-item-num\">3&nbsp;&nbsp;</span>Importar colecciones</a></span></li><li><span><a href=\"#Crear-indexes\" data-toc-modified-id=\"Crear-indexes-4\"><span class=\"toc-item-num\">4&nbsp;&nbsp;</span>Crear indexes</a></span></li><li><span><a href=\"#Generamos-lasconexionescon-la-base-de-datos\" data-toc-modified-id=\"Generamos-lasconexionescon-la-base-de-datos-5\"><span class=\"toc-item-num\">5&nbsp;&nbsp;</span>Generamos lasconexionescon la base de datos</a></span></li><li><span><a href=\"#Empezamos-con-las-Geoqueries\" data-toc-modified-id=\"Empezamos-con-las-Geoqueries-6\"><span class=\"toc-item-num\">6&nbsp;&nbsp;</span>Empezamos con las Geoqueries</a></span></li><li><span><a href=\"#Intersects\" data-toc-modified-id=\"Intersects-7\"><span class=\"toc-item-num\">7&nbsp;&nbsp;</span>Intersects</a></span></li><li><span><a href=\"#GeoWithin\" data-toc-modified-id=\"GeoWithin-8\"><span class=\"toc-item-num\">8&nbsp;&nbsp;</span>GeoWithin</a></span></li><li><span><a href=\"#Near\" data-toc-modified-id=\"Near-9\"><span class=\"toc-item-num\">9&nbsp;&nbsp;</span>Near</a></span><ul class=\"toc-item\"><li><ul class=\"toc-item\"><li><ul class=\"toc-item\"><li><span><a href=\"#Extra--->-Revisad-$geoNear\" data-toc-modified-id=\"Extra--->-Revisad-$geoNear-9.0.0.1\"><span class=\"toc-item-num\">9.0.0.1&nbsp;&nbsp;</span>Extra --&gt; Revisad $geoNear</a></span></li></ul></li></ul></li></ul></li><li><span><a href=\"#Extra,-extra!!-mis-datos-extraídos-de-Foursquare-en-Mongo\" data-toc-modified-id=\"Extra,-extra!!-mis-datos-extraídos-de-Foursquare-en-Mongo-10\"><span class=\"toc-item-num\">10&nbsp;&nbsp;</span>Extra, extra!! mis datos extraídos de Foursquare en Mongo</a></span><ul class=\"toc-item\"><li><span><a href=\"#Voy-a-traerme-todas-las-fruterías-de-Madrid\" data-toc-modified-id=\"Voy-a-traerme-todas-las-fruterías-de-Madrid-10.1\"><span class=\"toc-item-num\">10.1&nbsp;&nbsp;</span>Voy a traerme todas las fruterías de Madrid</a></span></li></ul></li><li><span><a href=\"#Vamos-a-buscar-a-cuántos-km-están-las-fruterías-de-mi-casa\" data-toc-modified-id=\"Vamos-a-buscar-a-cuántos-km-están-las-fruterías-de-mi-casa-11\"><span class=\"toc-item-num\">11&nbsp;&nbsp;</span>Vamos a buscar a cuántos km están las fruterías de mi casa</a></span></li></ul></div>"
   ]
  },
  {
   "cell_type": "markdown",
   "metadata": {},
   "source": [
    "## ¿Qué podemos hacer con las geoqueries?\n",
    "Con las geoquerías podemos responder a preguntas como las siguientes\n",
    " * ¿Dónde están las farmacias más cercanas a mi ubicación?\n",
    " * ¿Qué restaurantes hay en esta poligonal?"
   ]
  },
  {
   "cell_type": "markdown",
   "metadata": {},
   "source": [
    "Cada punto de la Tierra se caracteriza por dos números:\n",
    " * Longitud: ángulo respecto al meridiano de Greenwich. Va de -180° (antiGreenwich) a +180° (también antiGreenwich)\n",
    " * Latitud: ángulo con respecto al ecuador. Va de -90° (sur) a +90° (norte)"
   ]
  },
  {
   "cell_type": "markdown",
<<<<<<< HEAD
=======
   "id": "signal-kuwait",
>>>>>>> 3bf8f7c9e05c70f913312b9450070304693a3d39
   "metadata": {},
   "source": [
    "![latierra](../images/latlon.gif)"
   ]
  },
  {
   "cell_type": "markdown",
<<<<<<< HEAD
=======
   "id": "killing-adams",
>>>>>>> 3bf8f7c9e05c70f913312b9450070304693a3d39
   "metadata": {},
   "source": [
    "## Generamos la conexión con Mongo"
   ]
  },
  {
   "cell_type": "code",
<<<<<<< HEAD
   "execution_count": 1,
=======
   "execution_count": 2,
   "id": "continuing-world",
>>>>>>> 3bf8f7c9e05c70f913312b9450070304693a3d39
   "metadata": {},
   "outputs": [],
   "source": [
    "from pymongo import MongoClient\n",
    "conn = MongoClient(\"localhost:27017\")\n",
    "db = conn.get_database(\"Lab\")"
   ]
  },
  {
   "cell_type": "markdown",
<<<<<<< HEAD
=======
   "id": "functioning-cylinder",
>>>>>>> 3bf8f7c9e05c70f913312b9450070304693a3d39
   "metadata": {},
   "source": [
    "## Importar colecciones     \n",
    "Sigamos la documentación oficial de Mongo: [Mongo Geo Example](https://docs.mongodb.com/manual/tutorial/geospatial-tutorial/)\n",
    "Creamos estas dos colecciones nuevas:\n",
    " * `restaurants2`\n",
    " * `neighborhoods`"
   ]
  },
  {
   "cell_type": "markdown",
<<<<<<< HEAD
=======
   "id": "peripheral-spelling",
>>>>>>> 3bf8f7c9e05c70f913312b9450070304693a3d39
   "metadata": {},
   "source": [
    "## Crear indexes\n",
    "La indexación geoespacial de MongoDB permite   \n",
    "ejecutar eficientemente **consultas espaciales** sobre una colección que contiene formas y puntos geoespaciales.\n",
    "Vamos a crear un índice geográfico para que Mongo sepa que queremos hacer geo-consultas en esta colección.  \n",
    "Esto sólo debe hacerse una vez, y ahora la colección de Mongo está correctamente indexada para siempre."
   ]
  },
  {
   "cell_type": "code",
<<<<<<< HEAD
   "execution_count": 2,
=======
   "execution_count": 3,
   "id": "marked-offset",
>>>>>>> 3bf8f7c9e05c70f913312b9450070304693a3d39
   "metadata": {},
   "outputs": [],
   "source": [
    "from pymongo import GEOSPHERE"
   ]
  },
  {
   "cell_type": "code",
<<<<<<< HEAD
   "execution_count": 4,
   "metadata": {},
   "outputs": [
    {
     "data": {
      "text/plain": [
       "'location_2dsphere'"
      ]
     },
     "execution_count": 4,
     "metadata": {},
     "output_type": "execute_result"
    }
   ],
   "source": [
    "# Creamos el  index 2dsphere desde pymongo\n",
    "db.restaurants2.create_index([(\"location\", GEOSPHERE)])"
   ]
  },
  {
   "cell_type": "code",
   "execution_count": 3,
   "metadata": {},
   "outputs": [
    {
     "data": {
      "text/plain": [
       "{'_id': ObjectId('55cba2476c522cafdb053add'),\n",
       " 'location': {'coordinates': [-73.856077, 40.848447], 'type': 'Point'},\n",
       " 'name': 'Morris Park Bake Shop'}"
      ]
     },
     "execution_count": 3,
     "metadata": {},
     "output_type": "execute_result"
    }
   ],
   "source": [
    "db.restaurants2.find_one({})"
   ]
  },
  {
   "cell_type": "markdown",
   "metadata": {},
   "source": [
    "Es importante indicarle el campo donde  tenemo tanto el tipo de elemento (polígonos o  puntos (point)) como las coordenadas."
   ]
  },
  {
   "cell_type": "code",
   "execution_count": 5,
   "metadata": {},
   "outputs": [
    {
     "data": {
      "text/plain": [
       "'geometry_2dsphere'"
      ]
     },
     "execution_count": 5,
     "metadata": {},
     "output_type": "execute_result"
    }
   ],
   "source": [
    "db.neighborhoods.create_index([(\"geometry\", GEOSPHERE)])"
   ]
  },
  {
   "cell_type": "code",
   "execution_count": 6,
   "metadata": {},
   "outputs": [],
   "source": [
    "#db.neighborhoods.find_one({})"
   ]
  },
  {
   "cell_type": "markdown",
   "metadata": {},
   "source": [
    "## Generamos lasconexionescon la base de datos"
=======
   "execution_count": 6,
   "id": "northern-tender",
   "metadata": {},
   "outputs": [
    {
     "data": {
      "text/plain": [
       "'location_2dsphere'"
      ]
     },
     "execution_count": 6,
     "metadata": {},
     "output_type": "execute_result"
    }
   ],
   "source": [
    "# Creamos el  index 2dsphere desde pymongo\n",
    "db.restaurants2.create_index([(\"location\", GEOSPHERE)])"
>>>>>>> 3bf8f7c9e05c70f913312b9450070304693a3d39
   ]
  },
  {
   "cell_type": "code",
<<<<<<< HEAD
   "execution_count": 5,
   "metadata": {},
   "outputs": [],
   "source": [
    "n = db.get_collection(\"neighborhoods\")\n",
    "r = db.get_collection(\"restaurants2\")"
=======
   "execution_count": 7,
   "id": "several-classification",
   "metadata": {},
   "outputs": [
    {
     "data": {
      "text/plain": [
       "{'_id': ObjectId('55cba2476c522cafdb053add'),\n",
       " 'location': {'coordinates': [-73.856077, 40.848447], 'type': 'Point'},\n",
       " 'name': 'Morris Park Bake Shop'}"
      ]
     },
     "execution_count": 7,
     "metadata": {},
     "output_type": "execute_result"
    }
   ],
   "source": [
    "db.restaurants2.find_one({})"
   ]
  },
  {
   "cell_type": "markdown",
   "id": "brave-singles",
   "metadata": {},
   "source": [
    "Es importante indicarle el campo donde  tenemo tanto el tipo de elemento (polígonos o  puntos (point)) como las coordenadas."
   ]
  },
  {
   "cell_type": "code",
   "execution_count": 11,
   "id": "toxic-luxembourg",
   "metadata": {},
   "outputs": [
    {
     "data": {
      "text/plain": [
       "'geometry_2dsphere'"
      ]
     },
     "execution_count": 11,
     "metadata": {},
     "output_type": "execute_result"
    }
   ],
   "source": [
    "db.neighborhoods.create_index([(\"geometry\", GEOSPHERE)])"
   ]
  },
  {
   "cell_type": "code",
   "execution_count": 13,
   "id": "printable-shareware",
   "metadata": {},
   "outputs": [],
   "source": [
    "#db.neighborhoods.find_one({})"
>>>>>>> 3bf8f7c9e05c70f913312b9450070304693a3d39
   ]
  },
  {
   "cell_type": "markdown",
<<<<<<< HEAD
=======
   "id": "thermal-truth",
   "metadata": {},
   "source": [
    "## Generamos lasconexionescon la base de datos"
   ]
  },
  {
   "cell_type": "code",
   "execution_count": 14,
   "id": "loaded-billion",
   "metadata": {},
   "outputs": [],
   "source": [
    "n = db.get_collection(\"neighborhoods\")\n",
    "r = db.get_collection(\"restaurants2\")"
   ]
  },
  {
   "cell_type": "markdown",
   "id": "auburn-sixth",
>>>>>>> 3bf8f7c9e05c70f913312b9450070304693a3d39
   "metadata": {},
   "source": [
    "## Empezamos con las Geoqueries   \n",
    "¿En qué barrio estoy?      \n",
    "¿Qué elementos **intersecan** el elemento dado?"
   ]
  },
  {
   "cell_type": "markdown",
<<<<<<< HEAD
=======
   "id": "material-relationship",
>>>>>>> 3bf8f7c9e05c70f913312b9450070304693a3d39
   "metadata": {},
   "source": [
    "## Intersects"
   ]
  },
  {
   "cell_type": "markdown",
<<<<<<< HEAD
=======
   "id": "positive-gregory",
>>>>>>> 3bf8f7c9e05c70f913312b9450070304693a3d39
   "metadata": {},
   "source": [
    "Necesitamos tener los datos  con tipo polígono en este caso tenemos una colección con barrios donde cada barrio  tiene dentro  el polígono que lo delimita. Y cada barrio es un documento, por eso cuando  intersecta me devuelve el documento y yo veo  que es el barrio  en concreto."
   ]
  },
  {
   "cell_type": "code",
<<<<<<< HEAD
   "execution_count": 6,
=======
   "execution_count": 15,
   "id": "enormous-camel",
>>>>>>> 3bf8f7c9e05c70f913312b9450070304693a3d39
   "metadata": {},
   "outputs": [],
   "source": [
    "coordenadas = [-73.93, 40.82]"
   ]
  },
  {
   "cell_type": "code",
<<<<<<< HEAD
   "execution_count": 7,
=======
   "execution_count": 22,
   "id": "configured-symphony",
>>>>>>> 3bf8f7c9e05c70f913312b9450070304693a3d39
   "metadata": {},
   "outputs": [],
   "source": [
    "coord_buscar = {\"type\":\"Point\", \"coordinates\": coordenadas}"
   ]
  },
  {
   "cell_type": "code",
<<<<<<< HEAD
   "execution_count": 8,
=======
   "execution_count": 17,
   "id": "compliant-cologne",
>>>>>>> 3bf8f7c9e05c70f913312b9450070304693a3d39
   "metadata": {},
   "outputs": [],
   "source": [
    "proj = {\"_id\":0, \"name\": 1}"
   ]
  },
  {
   "cell_type": "code",
<<<<<<< HEAD
   "execution_count": 9,
=======
   "execution_count": 19,
   "id": "bound-blake",
>>>>>>> 3bf8f7c9e05c70f913312b9450070304693a3d39
   "metadata": {},
   "outputs": [
    {
     "data": {
      "text/plain": [
       "dict_keys(['_id', 'geometry', 'name'])"
      ]
     },
<<<<<<< HEAD
     "execution_count": 9,
=======
     "execution_count": 19,
>>>>>>> 3bf8f7c9e05c70f913312b9450070304693a3d39
     "metadata": {},
     "output_type": "execute_result"
    }
   ],
   "source": [
    "n.find_one().keys()"
   ]
  },
  {
   "cell_type": "code",
<<<<<<< HEAD
   "execution_count": 10,
=======
   "execution_count": 23,
   "id": "latter-formation",
>>>>>>> 3bf8f7c9e05c70f913312b9450070304693a3d39
   "metadata": {},
   "outputs": [
    {
     "data": {
      "text/plain": [
       "{'name': 'West Concourse'}"
      ]
     },
<<<<<<< HEAD
     "execution_count": 10,
=======
     "execution_count": 23,
>>>>>>> 3bf8f7c9e05c70f913312b9450070304693a3d39
     "metadata": {},
     "output_type": "execute_result"
    }
   ],
   "source": [
    "n.find_one({\"geometry\": {\"$geoIntersects\": {\"$geometry\":coord_buscar}}},proj)"
   ]
  },
  {
   "cell_type": "markdown",
<<<<<<< HEAD
=======
   "id": "timely-amazon",
>>>>>>> 3bf8f7c9e05c70f913312b9450070304693a3d39
   "metadata": {},
   "source": [
    "## GeoWithin"
   ]
  },
  {
   "cell_type": "markdown",
<<<<<<< HEAD
=======
   "id": "greek-regular",
>>>>>>> 3bf8f7c9e05c70f913312b9450070304693a3d39
   "metadata": {},
   "source": [
    "¿Qué elementos están **contenidos** en el elemento dado?     \n",
    "¿Qué restaurantes hay en este barrio (polígono)?"
   ]
  },
  {
   "cell_type": "code",
<<<<<<< HEAD
   "execution_count": 11,
=======
   "execution_count": 29,
   "id": "registered-thirty",
>>>>>>> 3bf8f7c9e05c70f913312b9450070304693a3d39
   "metadata": {},
   "outputs": [
    {
     "data": {
      "text/plain": [
       "dict_keys(['_id', 'geometry', 'name'])"
      ]
     },
<<<<<<< HEAD
     "execution_count": 11,
=======
     "execution_count": 29,
>>>>>>> 3bf8f7c9e05c70f913312b9450070304693a3d39
     "metadata": {},
     "output_type": "execute_result"
    }
   ],
   "source": [
    "# Vemos la estructura de los documentos sacando uno y viendo sus keys\n",
    "n.find_one({}).keys()"
   ]
  },
  {
   "cell_type": "code",
<<<<<<< HEAD
   "execution_count": 12,
=======
   "execution_count": 25,
   "id": "extensive-cincinnati",
>>>>>>> 3bf8f7c9e05c70f913312b9450070304693a3d39
   "metadata": {},
   "outputs": [],
   "source": [
    "#bUSCAMOS UN barrio en  concreto\n",
    "barrio = n.find_one({\"name\": \"West Concourse\"})\n",
    "#barrio"
   ]
  },
  {
   "cell_type": "code",
<<<<<<< HEAD
   "execution_count": 13,
=======
   "execution_count": 38,
   "id": "tribal-ceramic",
>>>>>>> 3bf8f7c9e05c70f913312b9450070304693a3d39
   "metadata": {},
   "outputs": [],
   "source": [
    "#Extraigo las coordenadas\n",
    "geo = barrio.get(\"geometry\")\n",
    "#geo"
   ]
  },
  {
   "cell_type": "code",
<<<<<<< HEAD
   "execution_count": 14,
=======
   "execution_count": 31,
   "id": "level-reception",
>>>>>>> 3bf8f7c9e05c70f913312b9450070304693a3d39
   "metadata": {},
   "outputs": [
    {
     "data": {
      "text/plain": [
       "dict_keys(['_id', 'location', 'name'])"
      ]
     },
<<<<<<< HEAD
     "execution_count": 14,
=======
     "execution_count": 31,
>>>>>>> 3bf8f7c9e05c70f913312b9450070304693a3d39
     "metadata": {},
     "output_type": "execute_result"
    }
   ],
   "source": [
<<<<<<< HEAD
    "#Saco las keys de un documento de la coleccción  de restaurantes\n",
=======
    "#Saco las keys de un documento d e la coleccción  de restaurantes\n",
>>>>>>> 3bf8f7c9e05c70f913312b9450070304693a3d39
    "r.find_one({}).keys()"
   ]
  },
  {
   "cell_type": "code",
<<<<<<< HEAD
   "execution_count": 15,
=======
   "execution_count": 39,
   "id": "million-priest",
>>>>>>> 3bf8f7c9e05c70f913312b9450070304693a3d39
   "metadata": {},
   "outputs": [],
   "source": [
    "query = r.find({\"location\": {\"$geoWithin\": {\"$geometry\": geo}}})"
   ]
  },
  {
   "cell_type": "code",
<<<<<<< HEAD
   "execution_count": 16,
=======
   "execution_count": null,
   "id": "laughing-productivity",
>>>>>>> 3bf8f7c9e05c70f913312b9450070304693a3d39
   "metadata": {},
   "outputs": [],
   "source": [
    "# ER FIRTRO\n",
    "filtro = {\"location\": {\"$geoWithin\": {\"$geometry\": geo}}}"
   ]
  },
  {
   "cell_type": "code",
<<<<<<< HEAD
   "execution_count": 17,
=======
   "execution_count": 40,
   "id": "hungry-masters",
>>>>>>> 3bf8f7c9e05c70f913312b9450070304693a3d39
   "metadata": {},
   "outputs": [
    {
     "data": {
      "text/html": [
       "<div>\n",
       "<style scoped>\n",
       "    .dataframe tbody tr th:only-of-type {\n",
       "        vertical-align: middle;\n",
       "    }\n",
       "\n",
       "    .dataframe tbody tr th {\n",
       "        vertical-align: top;\n",
       "    }\n",
       "\n",
       "    .dataframe thead th {\n",
       "        text-align: right;\n",
       "    }\n",
       "</style>\n",
       "<table border=\"1\" class=\"dataframe\">\n",
       "  <thead>\n",
       "    <tr style=\"text-align: right;\">\n",
       "      <th></th>\n",
       "      <th>_id</th>\n",
       "      <th>location</th>\n",
       "      <th>name</th>\n",
       "    </tr>\n",
       "  </thead>\n",
       "  <tbody>\n",
       "    <tr>\n",
       "      <th>0</th>\n",
       "      <td>55cba2476c522cafdb056004</td>\n",
       "      <td>{'coordinates': [-73.9259201, 40.8278293], 'ty...</td>\n",
       "      <td>Hard Rock Cafe</td>\n",
       "    </tr>\n",
       "    <tr>\n",
       "      <th>1</th>\n",
       "      <td>55cba2476c522cafdb056005</td>\n",
       "      <td>{'coordinates': [-73.9259201, 40.8278293], 'ty...</td>\n",
       "      <td>Nyy Steak</td>\n",
       "    </tr>\n",
       "    <tr>\n",
       "      <th>2</th>\n",
       "      <td>55cba2476c522cafdb058ae9</td>\n",
       "      <td>{'coordinates': [-73.9259245, 40.827435], 'typ...</td>\n",
       "      <td>Dunkin Donuts</td>\n",
       "    </tr>\n",
       "    <tr>\n",
       "      <th>3</th>\n",
       "      <td>55cba2476c522cafdb0543cb</td>\n",
       "      <td>{'coordinates': [-73.92594439999999, 40.827212...</td>\n",
       "      <td>Billy'S Sport Bar Restaurant &amp; Lounge</td>\n",
       "    </tr>\n",
       "    <tr>\n",
       "      <th>4</th>\n",
       "      <td>55cba2476c522cafdb056784</td>\n",
       "      <td>{'coordinates': [-73.9262845, 40.8266956999999...</td>\n",
       "      <td>Stan'S Sports Bar</td>\n",
       "    </tr>\n",
       "  </tbody>\n",
       "</table>\n",
       "</div>"
      ],
      "text/plain": [
       "                        _id  \\\n",
       "0  55cba2476c522cafdb056004   \n",
       "1  55cba2476c522cafdb056005   \n",
       "2  55cba2476c522cafdb058ae9   \n",
       "3  55cba2476c522cafdb0543cb   \n",
       "4  55cba2476c522cafdb056784   \n",
       "\n",
       "                                            location  \\\n",
       "0  {'coordinates': [-73.9259201, 40.8278293], 'ty...   \n",
       "1  {'coordinates': [-73.9259201, 40.8278293], 'ty...   \n",
       "2  {'coordinates': [-73.9259245, 40.827435], 'typ...   \n",
       "3  {'coordinates': [-73.92594439999999, 40.827212...   \n",
       "4  {'coordinates': [-73.9262845, 40.8266956999999...   \n",
       "\n",
       "                                    name  \n",
       "0                         Hard Rock Cafe  \n",
       "1                              Nyy Steak  \n",
       "2                          Dunkin Donuts  \n",
       "3  Billy'S Sport Bar Restaurant & Lounge  \n",
       "4                      Stan'S Sports Bar  "
      ]
     },
<<<<<<< HEAD
     "execution_count": 17,
=======
     "execution_count": 40,
>>>>>>> 3bf8f7c9e05c70f913312b9450070304693a3d39
     "metadata": {},
     "output_type": "execute_result"
    }
   ],
   "source": [
    "import pandas as pd\n",
    "df = pd.DataFrame(list(query))\n",
    "df.head()"
   ]
  },
  {
   "cell_type": "markdown",
<<<<<<< HEAD
=======
   "id": "lightweight-section",
>>>>>>> 3bf8f7c9e05c70f913312b9450070304693a3d39
   "metadata": {},
   "source": [
    "## Near"
   ]
  },
  {
   "cell_type": "markdown",
<<<<<<< HEAD
=======
   "id": "wound-campus",
>>>>>>> 3bf8f7c9e05c70f913312b9450070304693a3d39
   "metadata": {},
   "source": [
    "¿Qué elementos se encuentran a una distancia de una geometría determinada?     \n",
    "`$nearSphere`/`$near` y `$maxDistance` nos ayudan a encontrar todos los elementos dentro de `maxDistance` metros de la geometría deseada, **ordenados** de más cercano a más lejano."
   ]
  },
  {
   "cell_type": "code",
<<<<<<< HEAD
   "execution_count": 18,
=======
   "execution_count": 88,
   "id": "dental-radar",
>>>>>>> 3bf8f7c9e05c70f913312b9450070304693a3d39
   "metadata": {},
   "outputs": [],
   "source": [
    "#  Mi posición, voy a buscar restaurantes cercanos a  ESTE punto\n",
    "coordenadas2 = [-73.93, 40.82]\n",
    "coord_point = {\"type\":\"Point\", \"coordinates\": coordenadas2}"
   ]
  },
  {
   "cell_type": "code",
<<<<<<< HEAD
   "execution_count": 19,
=======
   "execution_count": 89,
   "id": "digital-young",
>>>>>>> 3bf8f7c9e05c70f913312b9450070304693a3d39
   "metadata": {},
   "outputs": [],
   "source": [
    "# Km que quiero  caminar\n",
    "metros = 3000"
   ]
  },
  {
   "cell_type": "code",
<<<<<<< HEAD
   "execution_count": 20,
=======
   "execution_count": 99,
   "id": "flying-essex",
>>>>>>> 3bf8f7c9e05c70f913312b9450070304693a3d39
   "metadata": {},
   "outputs": [],
   "source": [
    "query = {\"location\": {\"$near\": {\"$geometry\": coord_point,\"$minDistance\": 500  , \"$maxDistance\": metros}}}"
   ]
  },
  {
   "cell_type": "code",
<<<<<<< HEAD
   "execution_count": 21,
=======
   "execution_count": 100,
   "id": "competitive-heavy",
>>>>>>> 3bf8f7c9e05c70f913312b9450070304693a3d39
   "metadata": {},
   "outputs": [],
   "source": [
    "query_final = r.find(query,proj)"
   ]
  },
  {
   "cell_type": "code",
<<<<<<< HEAD
   "execution_count": 22,
=======
   "execution_count": 101,
   "id": "concrete-lambda",
>>>>>>> 3bf8f7c9e05c70f913312b9450070304693a3d39
   "metadata": {},
   "outputs": [],
   "source": [
    "df = pd.DataFrame(list(query_final))"
   ]
  },
  {
   "cell_type": "code",
<<<<<<< HEAD
   "execution_count": 23,
=======
   "execution_count": 102,
   "id": "received-spell",
>>>>>>> 3bf8f7c9e05c70f913312b9450070304693a3d39
   "metadata": {},
   "outputs": [
    {
     "data": {
      "text/html": [
       "<div>\n",
       "<style scoped>\n",
       "    .dataframe tbody tr th:only-of-type {\n",
       "        vertical-align: middle;\n",
       "    }\n",
       "\n",
       "    .dataframe tbody tr th {\n",
       "        vertical-align: top;\n",
       "    }\n",
       "\n",
       "    .dataframe thead th {\n",
       "        text-align: right;\n",
       "    }\n",
       "</style>\n",
       "<table border=\"1\" class=\"dataframe\">\n",
       "  <thead>\n",
       "    <tr style=\"text-align: right;\">\n",
       "      <th></th>\n",
       "      <th>name</th>\n",
       "    </tr>\n",
       "  </thead>\n",
       "  <tbody>\n",
       "    <tr>\n",
       "      <th>0</th>\n",
       "      <td>Jo Jo Pizza</td>\n",
       "    </tr>\n",
       "    <tr>\n",
       "      <th>1</th>\n",
       "      <td>Kentucky Fried Chicken</td>\n",
       "    </tr>\n",
       "    <tr>\n",
       "      <th>2</th>\n",
       "      <td>Papa John'S</td>\n",
       "    </tr>\n",
       "    <tr>\n",
       "      <th>3</th>\n",
       "      <td>Jimbo'S Hamburgers</td>\n",
       "    </tr>\n",
       "    <tr>\n",
       "      <th>4</th>\n",
       "      <td>Sweet Mama'S Soul Food</td>\n",
       "    </tr>\n",
       "  </tbody>\n",
       "</table>\n",
       "</div>"
      ],
      "text/plain": [
       "                     name\n",
       "0             Jo Jo Pizza\n",
       "1  Kentucky Fried Chicken\n",
       "2             Papa John'S\n",
       "3      Jimbo'S Hamburgers\n",
       "4  Sweet Mama'S Soul Food"
      ]
     },
<<<<<<< HEAD
     "execution_count": 23,
=======
     "execution_count": 102,
>>>>>>> 3bf8f7c9e05c70f913312b9450070304693a3d39
     "metadata": {},
     "output_type": "execute_result"
    }
   ],
   "source": [
    "df.head()"
   ]
<<<<<<< HEAD
  },
  {
   "cell_type": "markdown",
   "metadata": {},
   "source": [
    "##### Extra --> Revisad $geoNear \n",
    "https://docs.mongodb.com/manual/reference/operator/aggregation/geoNear/"
   ]
  },
  {
   "cell_type": "markdown",
=======
  },
  {
   "cell_type": "markdown",
   "id": "loose-celtic",
   "metadata": {},
   "source": [
    "##### Extra --> Revisad $geoNear \n",
    "https://docs.mongodb.com/manual/reference/operator/aggregation/geoNear/"
   ]
  },
  {
   "cell_type": "markdown",
   "id": "hybrid-despite",
>>>>>>> 3bf8f7c9e05c70f913312b9450070304693a3d39
   "metadata": {},
   "source": [
    "## Extra, extra!! mis datos extraídos de Foursquare en Mongo"
   ]
  },
  {
   "cell_type": "markdown",
<<<<<<< HEAD
=======
   "id": "driving-dublin",
>>>>>>> 3bf8f7c9e05c70f913312b9450070304693a3d39
   "metadata": {},
   "source": [
    "### Voy a traerme todas las fruterías de Madrid"
   ]
  },
  {
   "cell_type": "code",
<<<<<<< HEAD
   "execution_count": 27,
=======
   "execution_count": 103,
   "id": "tight-spiritual",
>>>>>>> 3bf8f7c9e05c70f913312b9450070304693a3d39
   "metadata": {},
   "outputs": [
    {
     "data": {
      "text/plain": [
       "True"
      ]
     },
<<<<<<< HEAD
     "execution_count": 27,
=======
     "execution_count": 103,
>>>>>>> 3bf8f7c9e05c70f913312b9450070304693a3d39
     "metadata": {},
     "output_type": "execute_result"
    }
   ],
   "source": [
    "import requests\n",
    "import json\n",
    "from dotenv import load_dotenv\n",
    "import os\n",
    "import pandas as pd\n",
    "load_dotenv()"
   ]
  },
  {
   "cell_type": "code",
<<<<<<< HEAD
   "execution_count": 28,
=======
   "execution_count": 104,
   "id": "sacred-investigator",
>>>>>>> 3bf8f7c9e05c70f913312b9450070304693a3d39
   "metadata": {},
   "outputs": [],
   "source": [
    "tok1= os.getenv(\"tok1\")\n",
    "tok2= os.getenv(\"tok2\")"
   ]
  },
  {
   "cell_type": "code",
<<<<<<< HEAD
   "execution_count": 29,
=======
   "execution_count": 106,
   "id": "vietnamese-timothy",
>>>>>>> 3bf8f7c9e05c70f913312b9450070304693a3d39
   "metadata": {},
   "outputs": [],
   "source": [
    "madrid = {'type': 'Point', 'coordinates': [40.42955,-3.6793]}"
   ]
  },
  {
   "cell_type": "code",
<<<<<<< HEAD
   "execution_count": 30,
=======
   "execution_count": 107,
   "id": "popular-shanghai",
>>>>>>> 3bf8f7c9e05c70f913312b9450070304693a3d39
   "metadata": {},
   "outputs": [],
   "source": [
    "url_query = 'https://api.foursquare.com/v2/venues/explore'"
   ]
  },
  {
   "cell_type": "code",
<<<<<<< HEAD
   "execution_count": 38,
=======
   "execution_count": 119,
   "id": "removable-affair",
>>>>>>> 3bf8f7c9e05c70f913312b9450070304693a3d39
   "metadata": {},
   "outputs": [],
   "source": [
    "parametros = {\n",
    "    \"client_id\": tok1,\n",
    "    \"client_secret\": tok2,\n",
    "    \"v\": \"20180323\",\n",
    "    \"ll\": f\"{madrid.get('coordinates')[0]},{madrid.get('coordinates')[1]}\",\n",
<<<<<<< HEAD
    "    \"query\": \"52f2ab2ebcbc57f1066b8b1c\", \n",
=======
    "    \"query\": \"frutería\", \n",
>>>>>>> 3bf8f7c9e05c70f913312b9450070304693a3d39
    "    \"limit\": 100    \n",
    "}"
   ]
  },
  {
   "cell_type": "code",
<<<<<<< HEAD
   "execution_count": 39,
=======
   "execution_count": 120,
   "id": "satisfactory-security",
>>>>>>> 3bf8f7c9e05c70f913312b9450070304693a3d39
   "metadata": {},
   "outputs": [],
   "source": [
    "resp = requests.get(url= url_query, params = parametros).json()"
   ]
  },
  {
   "cell_type": "code",
<<<<<<< HEAD
   "execution_count": 40,
=======
   "execution_count": 122,
   "id": "incomplete-while",
   "metadata": {},
   "outputs": [],
   "source": [
    "#resp"
   ]
  },
  {
   "cell_type": "code",
   "execution_count": 123,
   "id": "backed-isolation",
>>>>>>> 3bf8f7c9e05c70f913312b9450070304693a3d39
   "metadata": {},
   "outputs": [
    {
     "data": {
      "text/plain": [
       "{'meta': {'code': 400,\n",
       "  'errorType': 'invalid_auth',\n",
       "  'errorDetail': 'Missing access credentials. See https://developer.foursquare.com/docs/api/configuration/authentication for details.',\n",
       "  'requestId': '607b27fef0fd8d4e87109de7'},\n",
       " 'response': {}}"
      ]
     },
     "execution_count": 40,
     "metadata": {},
     "output_type": "execute_result"
    }
   ],
   "source": [
    "resp"
   ]
  },
  {
   "cell_type": "code",
   "execution_count": 34,
   "metadata": {},
   "outputs": [
    {
     "ename": "TypeError",
     "evalue": "'NoneType' object is not subscriptable",
     "output_type": "error",
     "traceback": [
      "\u001b[0;31m---------------------------------------------------------------------------\u001b[0m",
      "\u001b[0;31mTypeError\u001b[0m                                 Traceback (most recent call last)",
      "\u001b[0;32m<ipython-input-34-45d616bd27e4>\u001b[0m in \u001b[0;36m<module>\u001b[0;34m\u001b[0m\n\u001b[0;32m----> 1\u001b[0;31m \u001b[0mdata\u001b[0m \u001b[0;34m=\u001b[0m \u001b[0mresp\u001b[0m\u001b[0;34m.\u001b[0m\u001b[0mget\u001b[0m\u001b[0;34m(\u001b[0m\u001b[0;34m\"response\"\u001b[0m\u001b[0;34m)\u001b[0m\u001b[0;34m.\u001b[0m\u001b[0mget\u001b[0m\u001b[0;34m(\u001b[0m\u001b[0;34m\"groups\"\u001b[0m\u001b[0;34m)\u001b[0m\u001b[0;34m[\u001b[0m\u001b[0;36m0\u001b[0m\u001b[0;34m]\u001b[0m\u001b[0;34m.\u001b[0m\u001b[0mget\u001b[0m\u001b[0;34m(\u001b[0m\u001b[0;34m\"items\"\u001b[0m\u001b[0;34m)\u001b[0m\u001b[0;34m\u001b[0m\u001b[0;34m\u001b[0m\u001b[0m\n\u001b[0m",
      "\u001b[0;31mTypeError\u001b[0m: 'NoneType' object is not subscriptable"
     ]
    }
   ],
   "source": [
    "data = resp.get(\"response\").get(\"groups\")[0].get(\"items\")"
   ]
  },
  {
   "cell_type": "code",
<<<<<<< HEAD
   "execution_count": null,
=======
   "execution_count": 124,
   "id": "collectible-literature",
>>>>>>> 3bf8f7c9e05c70f913312b9450070304693a3d39
   "metadata": {},
   "outputs": [],
   "source": [
    "from functools import reduce\n",
    "import operator"
   ]
  },
  {
   "cell_type": "code",
<<<<<<< HEAD
   "execution_count": null,
=======
   "execution_count": 126,
   "id": "joined-universal",
>>>>>>> 3bf8f7c9e05c70f913312b9450070304693a3d39
   "metadata": {},
   "outputs": [],
   "source": [
    "# Mis fuentes --stackoverflow\n",
    "def getFromDict(diccionario,mapa):\n",
    "    return reduce(operator.getitem,mapa,diccionario)"
   ]
  },
  {
   "cell_type": "code",
<<<<<<< HEAD
   "execution_count": null,
=======
   "execution_count": 131,
   "id": "sacred-mercy",
>>>>>>> 3bf8f7c9e05c70f913312b9450070304693a3d39
   "metadata": {},
   "outputs": [],
   "source": [
    "mapa_nombre =  [\"venue\", \"name\"]\n",
    "mapa_latitud = [\"venue\", \"location\", \"lat\"]\n",
    "mapa_longitud = [\"venue\", \"location\", \"lng\"]"
   ]
  },
  {
   "cell_type": "code",
<<<<<<< HEAD
   "execution_count": null,
=======
   "execution_count": 132,
   "id": "signal-boost",
>>>>>>> 3bf8f7c9e05c70f913312b9450070304693a3d39
   "metadata": {},
   "outputs": [],
   "source": [
    "lista_frutas = []\n",
    "for dic in data:\n",
    "    paralista = {}\n",
    "    paralista[\"name\"] = getFromDict(dic, mapa_nombre)\n",
    "    paralista[\"latitud\"]= getFromDict(dic, mapa_latitud)\n",
    "    paralista[\"longitud\"] = getFromDict(dic,mapa_longitud)\n",
    "    lista_frutas.append(paralista)"
   ]
  },
  {
   "cell_type": "code",
<<<<<<< HEAD
   "execution_count": null,
=======
   "execution_count": 133,
   "id": "universal-bedroom",
>>>>>>> 3bf8f7c9e05c70f913312b9450070304693a3d39
   "metadata": {},
   "outputs": [
    {
     "data": {
      "text/html": [
       "<div>\n",
       "<style scoped>\n",
       "    .dataframe tbody tr th:only-of-type {\n",
       "        vertical-align: middle;\n",
       "    }\n",
       "\n",
       "    .dataframe tbody tr th {\n",
       "        vertical-align: top;\n",
       "    }\n",
       "\n",
       "    .dataframe thead th {\n",
       "        text-align: right;\n",
       "    }\n",
       "</style>\n",
       "<table border=\"1\" class=\"dataframe\">\n",
       "  <thead>\n",
       "    <tr style=\"text-align: right;\">\n",
       "      <th></th>\n",
       "      <th>name</th>\n",
       "      <th>latitud</th>\n",
       "      <th>longitud</th>\n",
       "    </tr>\n",
       "  </thead>\n",
       "  <tbody>\n",
       "    <tr>\n",
       "      <th>0</th>\n",
       "      <td>Platea Madrid</td>\n",
       "      <td>40.426083</td>\n",
       "      <td>-3.688664</td>\n",
       "    </tr>\n",
       "    <tr>\n",
       "      <th>1</th>\n",
       "      <td>Frutas Charito</td>\n",
       "      <td>40.457393</td>\n",
       "      <td>-3.678066</td>\n",
       "    </tr>\n",
       "    <tr>\n",
       "      <th>2</th>\n",
       "      <td>Supermercado Rotterdam</td>\n",
       "      <td>40.426497</td>\n",
       "      <td>-3.706774</td>\n",
       "    </tr>\n",
       "    <tr>\n",
       "      <th>3</th>\n",
       "      <td>Frutería Vázquez</td>\n",
       "      <td>40.427790</td>\n",
       "      <td>-3.686750</td>\n",
       "    </tr>\n",
       "    <tr>\n",
       "      <th>4</th>\n",
       "      <td>Fruteria Helen - La 24</td>\n",
       "      <td>40.444155</td>\n",
       "      <td>-3.699177</td>\n",
       "    </tr>\n",
       "  </tbody>\n",
       "</table>\n",
       "</div>"
      ],
      "text/plain": [
       "                     name    latitud  longitud\n",
       "0           Platea Madrid  40.426083 -3.688664\n",
       "1          Frutas Charito  40.457393 -3.678066\n",
       "2  Supermercado Rotterdam  40.426497 -3.706774\n",
       "3        Frutería Vázquez  40.427790 -3.686750\n",
       "4  Fruteria Helen - La 24  40.444155 -3.699177"
      ]
     },
     "execution_count": 133,
     "metadata": {},
     "output_type": "execute_result"
    }
   ],
   "source": [
    "df = pd.DataFrame(lista_frutas)\n",
    "df.head()"
   ]
  },
  {
   "cell_type": "markdown",
<<<<<<< HEAD
=======
   "id": "alert-passenger",
>>>>>>> 3bf8f7c9e05c70f913312b9450070304693a3d39
   "metadata": {},
   "source": [
    "Vamos a manipular los datos para tener esta misma estructura en tipo point y poder hacer un index en Mongo para realizar geoqueries"
   ]
  },
  {
   "cell_type": "code",
<<<<<<< HEAD
   "execution_count": null,
=======
   "execution_count": 134,
   "id": "accepting-lebanon",
>>>>>>> 3bf8f7c9e05c70f913312b9450070304693a3d39
   "metadata": {},
   "outputs": [
    {
     "data": {
      "text/plain": [
       "{'name': 'Platea Madrid',\n",
       " 'latitud': 40.426083288964996,\n",
       " 'longitud': -3.68866416486341}"
      ]
     },
     "execution_count": 134,
     "metadata": {},
     "output_type": "execute_result"
    }
   ],
   "source": [
    "lista_frutas[0]"
   ]
  },
  {
   "cell_type": "code",
<<<<<<< HEAD
   "execution_count": null,
=======
   "execution_count": 135,
   "id": "oriental-sequence",
>>>>>>> 3bf8f7c9e05c70f913312b9450070304693a3d39
   "metadata": {},
   "outputs": [],
   "source": [
    "documentos = []\n",
    "for diccionario in lista_frutas:\n",
    "    temporal = {\n",
    "        \"name\": diccionario.get(\"name\"),\n",
    "        \"location\": {\"type\": \"Point\", \"coordinates\": [diccionario.get(\"latitud\"), diccionario.get(\"longitud\")]}\n",
    "        \n",
    "    }\n",
    "    documentos.append(temporal)"
   ]
  },
  {
   "cell_type": "code",
<<<<<<< HEAD
   "execution_count": null,
   "metadata": {},
   "outputs": [],
=======
   "execution_count": 136,
   "id": "automatic-singapore",
   "metadata": {},
   "outputs": [
    {
     "data": {
      "text/plain": [
       "{'name': 'Platea Madrid',\n",
       " 'location': {'type': 'Point',\n",
       "  'coordinates': [40.426083288964996, -3.68866416486341]}}"
      ]
     },
     "execution_count": 136,
     "metadata": {},
     "output_type": "execute_result"
    }
   ],
>>>>>>> 3bf8f7c9e05c70f913312b9450070304693a3d39
   "source": [
    "documentos[0]"
   ]
  },
  {
   "cell_type": "code",
<<<<<<< HEAD
   "execution_count": null,
   "metadata": {},
   "outputs": [],
=======
   "execution_count": 138,
   "id": "juvenile-tourism",
   "metadata": {},
   "outputs": [
    {
     "data": {
      "text/html": [
       "<div>\n",
       "<style scoped>\n",
       "    .dataframe tbody tr th:only-of-type {\n",
       "        vertical-align: middle;\n",
       "    }\n",
       "\n",
       "    .dataframe tbody tr th {\n",
       "        vertical-align: top;\n",
       "    }\n",
       "\n",
       "    .dataframe thead th {\n",
       "        text-align: right;\n",
       "    }\n",
       "</style>\n",
       "<table border=\"1\" class=\"dataframe\">\n",
       "  <thead>\n",
       "    <tr style=\"text-align: right;\">\n",
       "      <th></th>\n",
       "      <th>name</th>\n",
       "      <th>location</th>\n",
       "    </tr>\n",
       "  </thead>\n",
       "  <tbody>\n",
       "    <tr>\n",
       "      <th>0</th>\n",
       "      <td>Platea Madrid</td>\n",
       "      <td>{'type': 'Point', 'coordinates': [40.426083288...</td>\n",
       "    </tr>\n",
       "    <tr>\n",
       "      <th>1</th>\n",
       "      <td>Frutas Charito</td>\n",
       "      <td>{'type': 'Point', 'coordinates': [40.457392971...</td>\n",
       "    </tr>\n",
       "    <tr>\n",
       "      <th>2</th>\n",
       "      <td>Supermercado Rotterdam</td>\n",
       "      <td>{'type': 'Point', 'coordinates': [40.426497213...</td>\n",
       "    </tr>\n",
       "    <tr>\n",
       "      <th>3</th>\n",
       "      <td>Frutería Vázquez</td>\n",
       "      <td>{'type': 'Point', 'coordinates': [40.427789898...</td>\n",
       "    </tr>\n",
       "    <tr>\n",
       "      <th>4</th>\n",
       "      <td>Fruteria Helen - La 24</td>\n",
       "      <td>{'type': 'Point', 'coordinates': [40.444155226...</td>\n",
       "    </tr>\n",
       "  </tbody>\n",
       "</table>\n",
       "</div>"
      ],
      "text/plain": [
       "                     name                                           location\n",
       "0           Platea Madrid  {'type': 'Point', 'coordinates': [40.426083288...\n",
       "1          Frutas Charito  {'type': 'Point', 'coordinates': [40.457392971...\n",
       "2  Supermercado Rotterdam  {'type': 'Point', 'coordinates': [40.426497213...\n",
       "3        Frutería Vázquez  {'type': 'Point', 'coordinates': [40.427789898...\n",
       "4  Fruteria Helen - La 24  {'type': 'Point', 'coordinates': [40.444155226..."
      ]
     },
     "execution_count": 138,
     "metadata": {},
     "output_type": "execute_result"
    }
   ],
>>>>>>> 3bf8f7c9e05c70f913312b9450070304693a3d39
   "source": [
    "df = pd.DataFrame(documentos)\n",
    "df.head()"
   ]
  },
  {
   "cell_type": "code",
<<<<<<< HEAD
   "execution_count": null,
=======
   "execution_count": 139,
   "id": "defensive-array",
>>>>>>> 3bf8f7c9e05c70f913312b9450070304693a3d39
   "metadata": {},
   "outputs": [],
   "source": [
    "df.to_json(\"lasfruterias.json\", orient=\"records\")"
   ]
  },
  {
   "cell_type": "markdown",
<<<<<<< HEAD
=======
   "id": "dried-motion",
>>>>>>> 3bf8f7c9e05c70f913312b9450070304693a3d39
   "metadata": {},
   "source": [
    "## Vamos a buscar a cuántos km están las fruterías de mi casa"
   ]
  },
  {
   "cell_type": "code",
   "execution_count": 146,
   "id": "rolled-complement",
   "metadata": {},
   "outputs": [
    {
     "data": {
      "text/plain": [
       "'geometry_2dsphere'"
      ]
     },
     "execution_count": 146,
     "metadata": {},
     "output_type": "execute_result"
    }
   ],
   "source": [
    "fruterias = db.get_collection(\"misfruterias\")\n",
    "fruterias.create_index([(\"geometry\", GEOSPHERE)])"
   ]
  },
  {
   "cell_type": "code",
   "execution_count": 147,
   "id": "operating-financing",
   "metadata": {},
   "outputs": [
    {
     "data": {
      "text/plain": [
       "{'_id': ObjectId('607951b2645a080cb3957708'),\n",
       " 'name': 'Platea Madrid',\n",
       " 'location': {'type': 'Point', 'coordinates': [40.426083289, -3.6886641649]}}"
      ]
     },
     "execution_count": 147,
     "metadata": {},
     "output_type": "execute_result"
    }
   ],
   "source": [
    "fruterias.find_one({})"
   ]
  },
  {
   "cell_type": "code",
   "execution_count": null,
<<<<<<< HEAD
   "metadata": {},
   "outputs": [],
   "source": [
    "fruterias = db.get_collection(\"misfruterias\")\n",
    "fruterias.create_index([(\"geometry\", GEOSPHERE)])"
   ]
  },
  {
   "cell_type": "code",
   "execution_count": null,
   "metadata": {},
   "outputs": [],
   "source": [
    "fruterias.find_one({})"
   ]
  },
  {
   "cell_type": "code",
   "execution_count": null,
=======
   "id": "retained-classic",
>>>>>>> 3bf8f7c9e05c70f913312b9450070304693a3d39
   "metadata": {},
   "outputs": [],
   "source": []
  },
  {
   "cell_type": "code",
<<<<<<< HEAD
   "execution_count": null,
   "metadata": {},
   "outputs": [],
   "source": [
    "lavapi = [40.408808, -3.7034796]\n",
    "lavapi_point = {\"type\": \"Point\",  \"coordinates\": lavapi}"
   ]
  },
  {
   "cell_type": "code",
   "execution_count": null,
   "metadata": {},
   "outputs": [],
   "source": [
    "lavapi_point"
   ]
  },
  {
   "cell_type": "code",
   "execution_count": null,
   "metadata": {},
   "outputs": [],
   "source": [
    "consulta = {\"location\": {\"$near\": {\"$geometry\": lavapi_point, \"$maxDistance\": 2000}}}"
   ]
  },
  {
   "cell_type": "code",
   "execution_count": null,
   "metadata": {},
   "outputs": [],
   "source": [
    "fru = list(fruterias.find(consulta))"
   ]
  },
  {
   "cell_type": "code",
   "execution_count": null,
   "metadata": {},
   "outputs": [],
   "source": [
    "df = pd.DataFrame(fru)\n",
    "df.head()"
   ]
  },
  {
   "cell_type": "code",
   "execution_count": null,
=======
   "execution_count": 148,
   "id": "burning-background",
>>>>>>> 3bf8f7c9e05c70f913312b9450070304693a3d39
   "metadata": {},
   "outputs": [],
   "source": [
    "lavapi = [40.408808, -3.7034796]\n",
    "lavapi_point = {\"type\": \"Point\",  \"coordinates\": lavapi}"
   ]
  },
  {
   "cell_type": "code",
<<<<<<< HEAD
   "execution_count": null,
=======
   "execution_count": 150,
   "id": "absent-assistant",
   "metadata": {},
   "outputs": [
    {
     "data": {
      "text/plain": [
       "{'type': 'Point', 'coordinates': [40.408808, -3.7034796]}"
      ]
     },
     "execution_count": 150,
     "metadata": {},
     "output_type": "execute_result"
    }
   ],
   "source": [
    "lavapi_point"
   ]
  },
  {
   "cell_type": "code",
   "execution_count": 151,
   "id": "ordered-contract",
>>>>>>> 3bf8f7c9e05c70f913312b9450070304693a3d39
   "metadata": {},
   "outputs": [],
   "source": [
    "consulta = {\"location\": {\"$near\": {\"$geometry\": lavapi_point, \"$maxDistance\": 2000}}}"
   ]
  },
  {
   "cell_type": "code",
   "execution_count": 153,
   "id": "inner-subscription",
   "metadata": {},
   "outputs": [],
   "source": [
    "fru = list(fruterias.find(consulta))"
   ]
  },
  {
   "cell_type": "code",
   "execution_count": 154,
   "id": "direct-rouge",
   "metadata": {},
   "outputs": [
    {
     "data": {
      "text/html": [
       "<div>\n",
       "<style scoped>\n",
       "    .dataframe tbody tr th:only-of-type {\n",
       "        vertical-align: middle;\n",
       "    }\n",
       "\n",
       "    .dataframe tbody tr th {\n",
       "        vertical-align: top;\n",
       "    }\n",
       "\n",
       "    .dataframe thead th {\n",
       "        text-align: right;\n",
       "    }\n",
       "</style>\n",
       "<table border=\"1\" class=\"dataframe\">\n",
       "  <thead>\n",
       "    <tr style=\"text-align: right;\">\n",
       "      <th></th>\n",
       "      <th>_id</th>\n",
       "      <th>name</th>\n",
       "      <th>location</th>\n",
       "    </tr>\n",
       "  </thead>\n",
       "  <tbody>\n",
       "    <tr>\n",
       "      <th>0</th>\n",
       "      <td>607951b2645a080cb395770a</td>\n",
       "      <td>Supermercado Rotterdam</td>\n",
       "      <td>{'type': 'Point', 'coordinates': [40.426497213...</td>\n",
       "    </tr>\n",
       "  </tbody>\n",
       "</table>\n",
       "</div>"
      ],
      "text/plain": [
       "                        _id                    name  \\\n",
       "0  607951b2645a080cb395770a  Supermercado Rotterdam   \n",
       "\n",
       "                                            location  \n",
       "0  {'type': 'Point', 'coordinates': [40.426497213...  "
      ]
     },
     "execution_count": 154,
     "metadata": {},
     "output_type": "execute_result"
    }
   ],
   "source": [
    "df = pd.DataFrame(fru)\n",
    "df.head()"
   ]
  }
 ],
 "metadata": {
  "kernelspec": {
   "display_name": "Ironhack",
   "language": "python",
   "name": "ironhack"
  },
  "language_info": {
   "codemirror_mode": {
    "name": "ipython",
    "version": 3
   },
   "file_extension": ".py",
   "mimetype": "text/x-python",
   "name": "python",
   "nbconvert_exporter": "python",
   "pygments_lexer": "ipython3",
   "version": "3.7.7"
  },
  "toc": {
   "base_numbering": 1,
   "nav_menu": {},
   "number_sections": true,
   "sideBar": true,
   "skip_h1_title": true,
   "title_cell": "Table of Contents",
   "title_sidebar": "Contents",
   "toc_cell": true,
   "toc_position": {
    "height": "calc(100% - 180px)",
    "left": "10px",
    "top": "150px",
    "width": "288px"
   },
   "toc_section_display": true,
   "toc_window_display": true
  }
 },
 "nbformat": 4,
 "nbformat_minor": 5
}

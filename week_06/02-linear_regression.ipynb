{
 "cells": [
  {
   "cell_type": "markdown",
   "metadata": {},
   "source": [
    "# Regresión lineal"
   ]
  },
  {
   "cell_type": "markdown",
   "metadata": {},
   "source": [
    "![memesitodeldía](../images/linear.jpeg)"
   ]
  },
  {
   "cell_type": "markdown",
   "metadata": {
    "toc": true
   },
   "source": [
    "<h1>Table of Contents<span class=\"tocSkip\"></span></h1>\n",
    "<div class=\"toc\"><ul class=\"toc-item\"><li><span><a href=\"#Simple-linear-regression\" data-toc-modified-id=\"Simple-linear-regression-1\"><span class=\"toc-item-num\">1&nbsp;&nbsp;</span>Simple linear regression</a></span></li><li><span><a href=\"#Generamos-datos-para-explicar-de-forma-&quot;inversa&quot;-a-lo-visto-ayer-en-clase\" data-toc-modified-id=\"Generamos-datos-para-explicar-de-forma-&quot;inversa&quot;-a-lo-visto-ayer-en-clase-2\"><span class=\"toc-item-num\">2&nbsp;&nbsp;</span>Generamos datos para explicar de forma \"inversa\" a lo visto ayer en clase</a></span></li><li><span><a href=\"#Configuraciones-para-poner-mono-el-plot-de-seaborn\" data-toc-modified-id=\"Configuraciones-para-poner-mono-el-plot-de-seaborn-3\"><span class=\"toc-item-num\">3&nbsp;&nbsp;</span>Configuraciones para poner mono el plot de seaborn</a></span></li><li><span><a href=\"#¿Cómo-de-bueno-es-nuestro-modelo?\" data-toc-modified-id=\"¿Cómo-de-bueno-es-nuestro-modelo?-4\"><span class=\"toc-item-num\">4&nbsp;&nbsp;</span>¿Cómo de bueno es nuestro modelo?</a></span></li><li><span><a href=\"#Calculamos-el-R2-del-modelo\" data-toc-modified-id=\"Calculamos-el-R2-del-modelo-5\"><span class=\"toc-item-num\">5&nbsp;&nbsp;</span>Calculamos el R2 del modelo</a></span></li><li><span><a href=\"#Regresión-lineal-con-sklearn\" data-toc-modified-id=\"Regresión-lineal-con-sklearn-6\"><span class=\"toc-item-num\">6&nbsp;&nbsp;</span>Regresión lineal con sklearn</a></span></li><li><span><a href=\"#Regresión-lineal-con-statsmodels\" data-toc-modified-id=\"Regresión-lineal-con-statsmodels-7\"><span class=\"toc-item-num\">7&nbsp;&nbsp;</span>Regresión lineal con statsmodels</a></span></li><li><span><a href=\"#Conceptos-del-OLS\" data-toc-modified-id=\"Conceptos-del-OLS-8\"><span class=\"toc-item-num\">8&nbsp;&nbsp;</span>Conceptos del OLS</a></span></li><li><span><a href=\"#Regresión-lineal-múltiple\" data-toc-modified-id=\"Regresión-lineal-múltiple-9\"><span class=\"toc-item-num\">9&nbsp;&nbsp;</span>Regresión lineal múltiple</a></span></li><li><span><a href=\"#Variables-categóricas\" data-toc-modified-id=\"Variables-categóricas-10\"><span class=\"toc-item-num\">10&nbsp;&nbsp;</span>Variables categóricas</a></span></li><li><span><a href=\"#Extensiones-del-modelo-lineal\" data-toc-modified-id=\"Extensiones-del-modelo-lineal-11\"><span class=\"toc-item-num\">11&nbsp;&nbsp;</span>Extensiones del modelo lineal</a></span><ul class=\"toc-item\"><li><span><a href=\"#Desafiando-la-suposición-aditiva:-la-sinergia\" data-toc-modified-id=\"Desafiando-la-suposición-aditiva:-la-sinergia-11.1\"><span class=\"toc-item-num\">11.1&nbsp;&nbsp;</span>Desafiando la suposición aditiva: la sinergia</a></span></li></ul></li><li><span><a href=\"#Manos-a-la-obra\" data-toc-modified-id=\"Manos-a-la-obra-12\"><span class=\"toc-item-num\">12&nbsp;&nbsp;</span>Manos a la obra</a></span></li><li><span><a href=\"#Selección-de-modelo\" data-toc-modified-id=\"Selección-de-modelo-13\"><span class=\"toc-item-num\">13&nbsp;&nbsp;</span>Selección de modelo</a></span><ul class=\"toc-item\"><li><span><a href=\"#$R^2$-Ajustado\" data-toc-modified-id=\"$R^2$-Ajustado-13.1\"><span class=\"toc-item-num\">13.1&nbsp;&nbsp;</span>$R^2$ Ajustado</a></span></li></ul></li><li><span><a href=\"#Selección-por-pasos\" data-toc-modified-id=\"Selección-por-pasos-14\"><span class=\"toc-item-num\">14&nbsp;&nbsp;</span>Selección por pasos</a></span><ul class=\"toc-item\"><li><span><a href=\"#Best-subset-selection\" data-toc-modified-id=\"Best-subset-selection-14.1\"><span class=\"toc-item-num\">14.1&nbsp;&nbsp;</span>Best subset selection</a></span></li><li><span><a href=\"#Modelo-nulo\" data-toc-modified-id=\"Modelo-nulo-14.2\"><span class=\"toc-item-num\">14.2&nbsp;&nbsp;</span>Modelo nulo</a></span></li><li><span><a href=\"#Forward-stepwise-selection\" data-toc-modified-id=\"Forward-stepwise-selection-14.3\"><span class=\"toc-item-num\">14.3&nbsp;&nbsp;</span>Forward stepwise selection</a></span></li></ul></li><li><span><a href=\"#Problemas-potenciales-en-la-regresión-lineal\" data-toc-modified-id=\"Problemas-potenciales-en-la-regresión-lineal-15\"><span class=\"toc-item-num\">15&nbsp;&nbsp;</span>Problemas potenciales en la regresión lineal</a></span></li><li><span><a href=\"#Resumen\" data-toc-modified-id=\"Resumen-16\"><span class=\"toc-item-num\">16&nbsp;&nbsp;</span>Resumen</a></span></li><li><span><a href=\"#Further-Materials\" data-toc-modified-id=\"Further-Materials-17\"><span class=\"toc-item-num\">17&nbsp;&nbsp;</span>Further Materials</a></span></li></ul></div>"
   ]
  },
  {
   "cell_type": "code",
   "execution_count": 1,
<<<<<<< HEAD
=======
   "id": "effective-dispute",
>>>>>>> d6ea45aef3915597f0a9abeaf087f33c6da746ca
   "metadata": {},
   "outputs": [],
   "source": [
    "#Visualización\n",
    "from matplotlib import pyplot as plt\n",
    "from matplotlib import cm\n",
    "\n",
    "%matplotlib inline\n",
    "%config Inlinebackend.figure_format = 'retina'\n",
    "\n",
    "import seaborn as sns\n",
    "\n",
    "# Librerías de modelado\n",
    "import statsmodels.formula.api as smf\n",
    "from sklearn.linear_model import LinearRegression\n",
    "\n",
    "import pandas as pd\n",
    "import numpy as np"
   ]
  },
  {
   "cell_type": "markdown",
   "metadata": {},
   "source": [
    "## Simple linear regression\n",
    "\n",
    "Regresión lineal simple un modelo estadístico que supone una relación lineal entre un predictor y una variable objetivo. Matemáticamente, se puede expresar como:"
   ]
  },
  {
   "cell_type": "markdown",
   "metadata": {},
   "source": [
    "![formula](../images/formula.png)"
   ]
  },
  {
   "cell_type": "markdown",
   "metadata": {},
   "source": [
    "Si profundizamos un poco más, podemos encontrar esta otra expresión:\n",
    "\n",
    " $$ Y = \\beta_0 +  \\beta_1 X + \\epsilon$$\n",
    "\n",
    "Donde:\n",
    " * $X$ = variable predictora\n",
    " * $Y$ = variable objetivo\n",
    " * $\\beta_0$ = intercept\n",
    " * $\\beta_1$ = pendiente / slope\n",
    " * $\\epsilon$ = ruido (gaussiano)\n",
    "\n",
    "\n",
    "La ecuación anterior se conoce como *línea de regresión poblacional*.\n",
    "La línea de regresión lineal simple suele tener la forma que se muestra en la fórmula anterior, donde β0 y β1 son constantes desconocidas, que representan el intercepto y la pendiente de la línea de regresión, respectivamente.\n",
    "\n",
    "El intercepto es el valor de la variable dependiente (Y) cuando la variable independiente (X) tiene un valor de cero (0). La pendiente es una medida de la velocidad a la que cambia la variable dependiente (Y) cuando la variable independiente (X) cambia en uno (1). Las constantes desconocidas se denominan coeficientes o parámetros del modelo. Esta forma de la línea de regresión se conoce a veces como línea de regresión poblacional y, como modelo probabilístico, se ajusta al conjunto de datos de forma aproximada de ahí el uso del símbolo (≈) en la imagen. El modelo se denomina probabilístico porque no modela toda la variabilidad de la variable dependiente (Y) : El modelo se llama probabilístico porque no modela toda la variabilidad de la variable dependiente (Y)"
   ]
  },
  {
   "cell_type": "code",
   "execution_count": 2,
<<<<<<< HEAD
=======
   "id": "sized-monaco",
>>>>>>> d6ea45aef3915597f0a9abeaf087f33c6da746ca
   "metadata": {},
   "outputs": [],
   "source": [
    "data = pd.read_csv(\"../datasets/hours_vs_mark.csv\", index_col=0)"
   ]
  },
  {
   "cell_type": "code",
   "execution_count": 3,
<<<<<<< HEAD
=======
   "id": "stone-turkish",
>>>>>>> d6ea45aef3915597f0a9abeaf087f33c6da746ca
   "metadata": {},
   "outputs": [
    {
     "data": {
      "text/html": [
       "<div>\n",
       "<style scoped>\n",
       "    .dataframe tbody tr th:only-of-type {\n",
       "        vertical-align: middle;\n",
       "    }\n",
       "\n",
       "    .dataframe tbody tr th {\n",
       "        vertical-align: top;\n",
       "    }\n",
       "\n",
       "    .dataframe thead th {\n",
       "        text-align: right;\n",
       "    }\n",
       "</style>\n",
       "<table border=\"1\" class=\"dataframe\">\n",
       "  <thead>\n",
       "    <tr style=\"text-align: right;\">\n",
       "      <th></th>\n",
       "      <th>hours</th>\n",
       "      <th>mark</th>\n",
       "    </tr>\n",
       "  </thead>\n",
       "  <tbody>\n",
       "    <tr>\n",
       "      <th>0</th>\n",
       "      <td>865</td>\n",
       "      <td>95</td>\n",
       "    </tr>\n",
       "    <tr>\n",
       "      <th>1</th>\n",
       "      <td>4</td>\n",
       "      <td>12</td>\n",
       "    </tr>\n",
       "    <tr>\n",
       "      <th>2</th>\n",
       "      <td>305</td>\n",
       "      <td>35</td>\n",
       "    </tr>\n",
       "    <tr>\n",
       "      <th>3</th>\n",
       "      <td>437</td>\n",
       "      <td>56</td>\n",
       "    </tr>\n",
       "    <tr>\n",
       "      <th>4</th>\n",
       "      <td>682</td>\n",
       "      <td>86</td>\n",
       "    </tr>\n",
       "  </tbody>\n",
       "</table>\n",
       "</div>"
      ],
      "text/plain": [
       "   hours  mark\n",
       "0    865    95\n",
       "1      4    12\n",
       "2    305    35\n",
       "3    437    56\n",
       "4    682    86"
      ]
     },
     "execution_count": 3,
     "metadata": {},
     "output_type": "execute_result"
    }
   ],
   "source": [
    "data.head()"
   ]
  },
  {
   "cell_type": "code",
   "execution_count": 4,
   "metadata": {},
   "outputs": [],
   "source": [
    "## Hacíamos predicciones en base a una inferencia de beta_0 y beta_1 (m,n / pendiente, intercept)"
   ]
  },
  {
   "cell_type": "code",
   "execution_count": 5,
<<<<<<< HEAD
=======
   "id": "placed-monkey",
>>>>>>> d6ea45aef3915597f0a9abeaf087f33c6da746ca
   "metadata": {},
   "outputs": [],
   "source": [
    "# Del ejemplo visto ayer en clase\n",
    "beta_0 = 11.78\n",
    "beta_1 = 0.084"
   ]
  },
  {
   "cell_type": "code",
   "execution_count": 6,
<<<<<<< HEAD
=======
   "id": "expressed-pontiac",
>>>>>>> d6ea45aef3915597f0a9abeaf087f33c6da746ca
   "metadata": {},
   "outputs": [],
   "source": [
    "data[\"predict\"] = beta_1 * data.hours + beta_0"
   ]
<<<<<<< HEAD
  },
  {
   "cell_type": "code",
   "execution_count": 7,
   "metadata": {},
   "outputs": [
    {
     "data": {
      "text/html": [
       "<div>\n",
       "<style scoped>\n",
       "    .dataframe tbody tr th:only-of-type {\n",
       "        vertical-align: middle;\n",
       "    }\n",
       "\n",
       "    .dataframe tbody tr th {\n",
       "        vertical-align: top;\n",
       "    }\n",
       "\n",
       "    .dataframe thead th {\n",
       "        text-align: right;\n",
       "    }\n",
       "</style>\n",
       "<table border=\"1\" class=\"dataframe\">\n",
       "  <thead>\n",
       "    <tr style=\"text-align: right;\">\n",
       "      <th></th>\n",
       "      <th>hours</th>\n",
       "      <th>mark</th>\n",
       "      <th>predict</th>\n",
       "    </tr>\n",
       "  </thead>\n",
       "  <tbody>\n",
       "    <tr>\n",
       "      <th>0</th>\n",
       "      <td>865</td>\n",
       "      <td>95</td>\n",
       "      <td>84.440</td>\n",
       "    </tr>\n",
       "    <tr>\n",
       "      <th>1</th>\n",
       "      <td>4</td>\n",
       "      <td>12</td>\n",
       "      <td>12.116</td>\n",
       "    </tr>\n",
       "    <tr>\n",
       "      <th>2</th>\n",
       "      <td>305</td>\n",
       "      <td>35</td>\n",
       "      <td>37.400</td>\n",
       "    </tr>\n",
       "    <tr>\n",
       "      <th>3</th>\n",
       "      <td>437</td>\n",
       "      <td>56</td>\n",
       "      <td>48.488</td>\n",
       "    </tr>\n",
       "    <tr>\n",
       "      <th>4</th>\n",
       "      <td>682</td>\n",
       "      <td>86</td>\n",
       "      <td>69.068</td>\n",
       "    </tr>\n",
       "  </tbody>\n",
       "</table>\n",
       "</div>"
      ],
      "text/plain": [
       "   hours  mark  predict\n",
       "0    865    95   84.440\n",
       "1      4    12   12.116\n",
       "2    305    35   37.400\n",
       "3    437    56   48.488\n",
       "4    682    86   69.068"
      ]
     },
     "execution_count": 7,
     "metadata": {},
     "output_type": "execute_result"
    }
   ],
   "source": [
    "data.head()"
   ]
  },
  {
   "cell_type": "code",
   "execution_count": 8,
=======
  },
  {
   "cell_type": "code",
   "execution_count": 7,
   "id": "protected-bangkok",
   "metadata": {},
   "outputs": [
    {
     "data": {
      "text/html": [
       "<div>\n",
       "<style scoped>\n",
       "    .dataframe tbody tr th:only-of-type {\n",
       "        vertical-align: middle;\n",
       "    }\n",
       "\n",
       "    .dataframe tbody tr th {\n",
       "        vertical-align: top;\n",
       "    }\n",
       "\n",
       "    .dataframe thead th {\n",
       "        text-align: right;\n",
       "    }\n",
       "</style>\n",
       "<table border=\"1\" class=\"dataframe\">\n",
       "  <thead>\n",
       "    <tr style=\"text-align: right;\">\n",
       "      <th></th>\n",
       "      <th>hours</th>\n",
       "      <th>mark</th>\n",
       "      <th>predict</th>\n",
       "    </tr>\n",
       "  </thead>\n",
       "  <tbody>\n",
       "    <tr>\n",
       "      <th>0</th>\n",
       "      <td>865</td>\n",
       "      <td>95</td>\n",
       "      <td>84.440</td>\n",
       "    </tr>\n",
       "    <tr>\n",
       "      <th>1</th>\n",
       "      <td>4</td>\n",
       "      <td>12</td>\n",
       "      <td>12.116</td>\n",
       "    </tr>\n",
       "    <tr>\n",
       "      <th>2</th>\n",
       "      <td>305</td>\n",
       "      <td>35</td>\n",
       "      <td>37.400</td>\n",
       "    </tr>\n",
       "    <tr>\n",
       "      <th>3</th>\n",
       "      <td>437</td>\n",
       "      <td>56</td>\n",
       "      <td>48.488</td>\n",
       "    </tr>\n",
       "    <tr>\n",
       "      <th>4</th>\n",
       "      <td>682</td>\n",
       "      <td>86</td>\n",
       "      <td>69.068</td>\n",
       "    </tr>\n",
       "  </tbody>\n",
       "</table>\n",
       "</div>"
      ],
      "text/plain": [
       "   hours  mark  predict\n",
       "0    865    95   84.440\n",
       "1      4    12   12.116\n",
       "2    305    35   37.400\n",
       "3    437    56   48.488\n",
       "4    682    86   69.068"
      ]
     },
     "execution_count": 7,
     "metadata": {},
     "output_type": "execute_result"
    }
   ],
   "source": [
    "data.head()"
   ]
  },
  {
   "cell_type": "code",
   "execution_count": 8,
   "id": "north-silicon",
>>>>>>> d6ea45aef3915597f0a9abeaf087f33c6da746ca
   "metadata": {},
   "outputs": [],
   "source": [
    "## Calculábamos el error "
   ]
  },
  {
   "cell_type": "code",
<<<<<<< HEAD
   "execution_count": 9,
=======
   "execution_count": 10,
   "id": "divine-killing",
>>>>>>> d6ea45aef3915597f0a9abeaf087f33c6da746ca
   "metadata": {},
   "outputs": [],
   "source": [
    "data[\"error\"] = (data.mark - data.predict).abs()"
   ]
  },
  {
   "cell_type": "code",
<<<<<<< HEAD
   "execution_count": 10,
=======
   "execution_count": 11,
   "id": "convertible-impact",
>>>>>>> d6ea45aef3915597f0a9abeaf087f33c6da746ca
   "metadata": {},
   "outputs": [
    {
     "data": {
      "text/html": [
       "<div>\n",
       "<style scoped>\n",
       "    .dataframe tbody tr th:only-of-type {\n",
       "        vertical-align: middle;\n",
       "    }\n",
       "\n",
       "    .dataframe tbody tr th {\n",
       "        vertical-align: top;\n",
       "    }\n",
       "\n",
       "    .dataframe thead th {\n",
       "        text-align: right;\n",
       "    }\n",
       "</style>\n",
       "<table border=\"1\" class=\"dataframe\">\n",
       "  <thead>\n",
       "    <tr style=\"text-align: right;\">\n",
       "      <th></th>\n",
       "      <th>hours</th>\n",
       "      <th>mark</th>\n",
       "      <th>predict</th>\n",
       "      <th>error</th>\n",
       "    </tr>\n",
       "  </thead>\n",
       "  <tbody>\n",
       "    <tr>\n",
       "      <th>0</th>\n",
       "      <td>865</td>\n",
       "      <td>95</td>\n",
       "      <td>84.440</td>\n",
       "      <td>10.560</td>\n",
       "    </tr>\n",
       "    <tr>\n",
       "      <th>1</th>\n",
       "      <td>4</td>\n",
       "      <td>12</td>\n",
       "      <td>12.116</td>\n",
       "      <td>0.116</td>\n",
       "    </tr>\n",
       "    <tr>\n",
       "      <th>2</th>\n",
       "      <td>305</td>\n",
       "      <td>35</td>\n",
       "      <td>37.400</td>\n",
       "      <td>2.400</td>\n",
       "    </tr>\n",
       "    <tr>\n",
       "      <th>3</th>\n",
       "      <td>437</td>\n",
       "      <td>56</td>\n",
       "      <td>48.488</td>\n",
       "      <td>7.512</td>\n",
       "    </tr>\n",
       "    <tr>\n",
       "      <th>4</th>\n",
       "      <td>682</td>\n",
       "      <td>86</td>\n",
       "      <td>69.068</td>\n",
       "      <td>16.932</td>\n",
       "    </tr>\n",
       "  </tbody>\n",
       "</table>\n",
       "</div>"
      ],
      "text/plain": [
       "   hours  mark  predict   error\n",
       "0    865    95   84.440  10.560\n",
       "1      4    12   12.116   0.116\n",
       "2    305    35   37.400   2.400\n",
       "3    437    56   48.488   7.512\n",
       "4    682    86   69.068  16.932"
      ]
     },
<<<<<<< HEAD
     "execution_count": 10,
=======
     "execution_count": 11,
>>>>>>> d6ea45aef3915597f0a9abeaf087f33c6da746ca
     "metadata": {},
     "output_type": "execute_result"
    }
   ],
   "source": [
    "data.head()"
   ]
  },
  {
   "cell_type": "code",
<<<<<<< HEAD
   "execution_count": 11,
=======
   "execution_count": 12,
   "id": "atomic-magic",
>>>>>>> d6ea45aef3915597f0a9abeaf087f33c6da746ca
   "metadata": {},
   "outputs": [
    {
     "data": {
      "text/plain": [
       "11.402720000000002"
      ]
     },
<<<<<<< HEAD
     "execution_count": 11,
=======
     "execution_count": 12,
>>>>>>> d6ea45aef3915597f0a9abeaf087f33c6da746ca
     "metadata": {},
     "output_type": "execute_result"
    }
   ],
   "source": [
    "data.error.mean()"
   ]
  },
  {
   "cell_type": "markdown",
   "metadata": {},
   "source": [
    "## Generamos datos para explicar de forma \"inversa\" a lo visto ayer en clase"
   ]
  },
  {
   "cell_type": "code",
<<<<<<< HEAD
   "execution_count": 12,
=======
   "execution_count": 13,
   "id": "imperial-gauge",
>>>>>>> d6ea45aef3915597f0a9abeaf087f33c6da746ca
   "metadata": {},
   "outputs": [],
   "source": [
    "# Del ejemplo visto ayer en clase \n",
    "beta_0 = 11.78\n",
    "beta_1 = 0.084\n",
    "num_notas = 100"
   ]
  },
  {
   "cell_type": "markdown",
   "metadata": {},
   "source": [
    "Documentación de np.random normal --> https://numpy.org/doc/stable/reference/random/generated/numpy.random.normal.html    \n",
    "Parámetros : \n",
    "- Media\n",
    "- Desviación estándar\n",
    "- Tamaño de la muestra"
   ]
  },
  {
   "cell_type": "code",
<<<<<<< HEAD
   "execution_count": 13,
=======
   "execution_count": 14,
   "id": "continued-jacksonville",
>>>>>>> d6ea45aef3915597f0a9abeaf087f33c6da746ca
   "metadata": {},
   "outputs": [],
   "source": [
    "# Generamos las horas de estudio\n",
    "X = np.random.normal(600, 150, num_notas)"
   ]
  },
  {
   "cell_type": "code",
<<<<<<< HEAD
   "execution_count": 14,
=======
   "execution_count": 29,
   "id": "classified-visibility",
>>>>>>> d6ea45aef3915597f0a9abeaf087f33c6da746ca
   "metadata": {},
   "outputs": [],
   "source": [
    "# Generamos las notas\n",
    "y = beta_0 + (beta_1 * X) + np.random.normal(loc=0, scale=5, size=num_notas)"
   ]
  },
  {
   "cell_type": "code",
<<<<<<< HEAD
   "execution_count": 15,
=======
   "execution_count": 30,
   "id": "british-absolute",
>>>>>>> d6ea45aef3915597f0a9abeaf087f33c6da746ca
   "metadata": {},
   "outputs": [],
   "source": [
    "# Generamos el dataframe\n",
    "data = pd.DataFrame({\"horas\": X, \"nota\":y}).round().astype(int)"
   ]
  },
  {
   "cell_type": "code",
<<<<<<< HEAD
   "execution_count": 16,
=======
   "execution_count": 31,
   "id": "accomplished-industry",
>>>>>>> d6ea45aef3915597f0a9abeaf087f33c6da746ca
   "metadata": {},
   "outputs": [
    {
     "data": {
      "text/html": [
       "<div>\n",
       "<style scoped>\n",
       "    .dataframe tbody tr th:only-of-type {\n",
       "        vertical-align: middle;\n",
       "    }\n",
       "\n",
       "    .dataframe tbody tr th {\n",
       "        vertical-align: top;\n",
       "    }\n",
       "\n",
       "    .dataframe thead th {\n",
       "        text-align: right;\n",
       "    }\n",
       "</style>\n",
       "<table border=\"1\" class=\"dataframe\">\n",
       "  <thead>\n",
       "    <tr style=\"text-align: right;\">\n",
       "      <th></th>\n",
       "      <th>horas</th>\n",
       "      <th>nota</th>\n",
       "    </tr>\n",
       "  </thead>\n",
       "  <tbody>\n",
       "    <tr>\n",
       "      <th>0</th>\n",
<<<<<<< HEAD
       "      <td>417</td>\n",
       "      <td>53</td>\n",
       "    </tr>\n",
       "    <tr>\n",
       "      <th>1</th>\n",
       "      <td>397</td>\n",
       "      <td>41</td>\n",
       "    </tr>\n",
       "    <tr>\n",
       "      <th>2</th>\n",
       "      <td>650</td>\n",
       "      <td>65</td>\n",
       "    </tr>\n",
       "    <tr>\n",
       "      <th>3</th>\n",
       "      <td>765</td>\n",
       "      <td>70</td>\n",
       "    </tr>\n",
       "    <tr>\n",
       "      <th>4</th>\n",
       "      <td>621</td>\n",
       "      <td>68</td>\n",
=======
       "      <td>855</td>\n",
       "      <td>87</td>\n",
       "    </tr>\n",
       "    <tr>\n",
       "      <th>1</th>\n",
       "      <td>520</td>\n",
       "      <td>43</td>\n",
       "    </tr>\n",
       "    <tr>\n",
       "      <th>2</th>\n",
       "      <td>636</td>\n",
       "      <td>70</td>\n",
       "    </tr>\n",
       "    <tr>\n",
       "      <th>3</th>\n",
       "      <td>657</td>\n",
       "      <td>71</td>\n",
       "    </tr>\n",
       "    <tr>\n",
       "      <th>4</th>\n",
       "      <td>491</td>\n",
       "      <td>54</td>\n",
>>>>>>> d6ea45aef3915597f0a9abeaf087f33c6da746ca
       "    </tr>\n",
       "  </tbody>\n",
       "</table>\n",
       "</div>"
      ],
      "text/plain": [
       "   horas  nota\n",
<<<<<<< HEAD
       "0    417    53\n",
       "1    397    41\n",
       "2    650    65\n",
       "3    765    70\n",
       "4    621    68"
      ]
     },
     "execution_count": 16,
=======
       "0    855    87\n",
       "1    520    43\n",
       "2    636    70\n",
       "3    657    71\n",
       "4    491    54"
      ]
     },
     "execution_count": 31,
>>>>>>> d6ea45aef3915597f0a9abeaf087f33c6da746ca
     "metadata": {},
     "output_type": "execute_result"
    }
   ],
   "source": [
    "data.head()"
   ]
  },
  {
   "cell_type": "markdown",
   "metadata": {},
   "source": [
    "## Configuraciones para poner mono el plot de seaborn"
   ]
  },
  {
   "cell_type": "code",
<<<<<<< HEAD
   "execution_count": 17,
=======
   "execution_count": 32,
   "id": "developing-zambia",
>>>>>>> d6ea45aef3915597f0a9abeaf087f33c6da746ca
   "metadata": {},
   "outputs": [],
   "source": [
    "sns.set_context('poster')\n",
    "sns.set(rc={'figure.figsize': (16., 9.)})\n",
    "sns.set_style('whitegrid')"
   ]
  },
  {
   "cell_type": "code",
<<<<<<< HEAD
   "execution_count": 18,
=======
   "execution_count": 33,
   "id": "dramatic-simulation",
>>>>>>> d6ea45aef3915597f0a9abeaf087f33c6da746ca
   "metadata": {},
   "outputs": [],
   "source": [
    "## Pintamos la línea de regresión"
   ]
  },
  {
   "cell_type": "code",
<<<<<<< HEAD
   "execution_count": 19,
=======
   "execution_count": 34,
   "id": "advanced-lodge",
>>>>>>> d6ea45aef3915597f0a9abeaf087f33c6da746ca
   "metadata": {},
   "outputs": [
    {
     "data": {
      "text/plain": [
       "<AxesSubplot:xlabel='horas', ylabel='nota'>"
      ]
     },
<<<<<<< HEAD
     "execution_count": 19,
=======
     "execution_count": 34,
>>>>>>> d6ea45aef3915597f0a9abeaf087f33c6da746ca
     "metadata": {},
     "output_type": "execute_result"
    },
    {
     "data": {
<<<<<<< HEAD
      "image/png": "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\n",
=======
      "image/png": "iVBORw0KGgoAAAANSUhEUgAAA7UAAAIZCAYAAAB58BgUAAAAOXRFWHRTb2Z0d2FyZQBNYXRwbG90bGliIHZlcnNpb24zLjQuMCwgaHR0cHM6Ly9tYXRwbG90bGliLm9yZy8+yak3AAAACXBIWXMAAAsTAAALEwEAmpwYAACTUElEQVR4nOz9eXQc6X0fen9r6+rqxkasJIEGh9twA3f0cDgLN8i0Rtej+FJyzkh2ZOs6thwrPvG8J4rPVSaWZcuyYvtc5dXJ69xx4ptzIzuejCVakRRrRAsgOTunAa7gNsNliAZIYieW7qrq2t4/GmhuINgN9Ap8P38NH3ZXPd1dA/SXz1O/n+B5ngciIiIiIiKiEiQWegJEREREREREc8VQS0RERERERCWLoZaIiIiIiIhKFkMtERERERERlSyGWiIiIiIiIipZcqEnMF+u6yIWi0FRFAiCUOjpEBERERERURZ5ngfLshAMBiGKD6/LlnyojcVi+PDDDws9DSIiIiIiIsqhJ598EuXl5Q+Nl3yoVRQFQPIF+ny+As+msLq7u9HS0lLoaVAJ4TVDmeI1Q5niNUOZ4jVDmeD1sjgkEgl8+OGHqez3oJIPtdNbjn0+H1RVLfBsCo/vAWWK1wxlitcMZYrXDGWK1wxlgtfL4vGo201ZKIqIiIiIiIhKFkMtERERERERlSyGWiIiIiIiIipZDLVERERERERUshhqiYiIiIiIqGQx1BIREREREVHJYqglIiIiIiKiksVQS0RERERERCWLoZaIiIiIiIhKFkMtERERERERlSyGWiIiIiIiIipZDLVERERERERUshhqiYiIiIiIqGQx1BIREREREVHJYqglIiIiIiKiksVQS0RERERERCUrp6F2cnISv/ALv4De3l4AwLvvvosXX3wRBw8exLe//e3U4y5evIjPfOYz+Pmf/3n823/7b2Hbdi6nRURERERERAtEzkLtmTNn8LnPfQ4ff/wxAMAwDHz1q1/FX/zFX+Af/uEf0N3djePHjwMAvvKVr+Df/bt/h5/+9KfwPA+vv/56rqZFREREREREC0jOQu3rr7+Or33ta6ivrwcAnD17FitWrEAoFIIsy3jxxRfxxhtvoK+vD4ZhYNu2bQCAQ4cO4Y033sjVtIiIiIiIiGgBkXN14D/+4z++788DAwOoq6tL/bm+vh79/f0PjdfV1aG/vz9X0yIiIiIiIqIFJGeh9kGe5z00JgjCI8cz1d3dPad5LTRdXV2FngKVGF4zlCleM5QpXjOUKV4zlAleLwuXKIpwIcJMOFBnSa55C7UNDQ0YGhpK/XlgYAD19fUPjQ8ODqa2LGeipaUFqqpmZa6lqqurCzt37iz0NKiE8JqhTPGaoUzxmqFM8ZqhTPB6Wbh008Jk3EbCdmDbFoZuXnvkY/PW0mfr1q24fv06bty4Acdx8OMf/xh79uxBY2MjVFVN/QvLD37wA+zZsydf0yIiIiIiIqIi4Hke4oaFgZE4RsZNJGwnreflbaVWVVV861vfwu/8zu/ANE3s3bsXn/zkJwEAf/7nf45XXnkFsVgMGzduxBe+8IV8TYuIiIiIiIgKyHU96KaFmG7DctyMn5/zUNvR0ZH67927d+OHP/zhQ49Zv349vve97+V6KkRERERERFQkHDe5MhvXLdjuw7WW0pW3lVoiIiIiIiIix3ERNyzEdAvO3LNsCkMtERERERER5Zxlu4jrFuKmhXkszD6EoZaIiIiIiIhyJmE5iOkW9ISNGTq6zhtDLREREREREWWdkbAR120YVm7C7DSGWiIiIiIiIsoaw7QxqVtIWA5ymGVTGGqJiIiIiIhoXjzPg27aiOl22v1ls4WhloiIiIiIiOZkvj1ms4GhloiIiIiIiDKSrR6z2cBQS0RERERERGlJ9Zg1LBRoYfYhDLVEREREREQ0q1z1mM0GhloiIiIiIiKaUa57zGYDQy0RERERERHdJ189ZrOBoZaIiIiIiIgA5L/H7Gw8z8Mb732Mrgs38c8P1j7ycQy1REREREREi1ghe8zOxLIdfHC+H//w7nUMjxmoCkqzPp6hloiIiIiIaBEqhh6z9xqPmTh+sg9vnurFRNxKjfsUhloiIiIiIiKaUkw9ZgGgd2AC7ZEoIhduw3aS8xFFAbIkYEmZD3VVvlmfz1BLRERERES0CBRTj1nX89B9dRjtkR5cvjGaGg/6ZTy/vQn7djTh//nReYxNGo89FkMtERERERHRAlZMPWaNhI33z91CR2cUA6N6anxpTQBt4Wbs2rQ0td344K5mvHbkMhLW7AmcoZaIiIiIiGgBKqYesyPjBo519eLt032Im3ZqfOPKarSFm7FhZTVEQbjvOS2ra/HSQeC9s72zHpuhloiIiIiIaAEpph6z12+OoT3Sg5OXBuFOTUaRRezatBQHWkNYXlc26/NbVtdi/YpKDN289sjHMNQSEREREREtAMXSY9ZxXZy6PIiOziiu9Y2lxiuCPuzb0YTntzeiPDB78adMMNQSERERERGVKM/zYCRsTMYL32M2blh4+8xNHOvqxcj43QJPofoytIWbsXNDAxRZzPp5GWqJiIiIiIhKTDH1mB0YjaMjEsV7527BtJLBWgCweU0t2sLNeLK5CsID98tmE0MtERERERFRiSiWHrOe5+HDnjtoj/Tg3JWh1HZnVZHwzJZl2N8aQv2SQF7mwlBLRERERERU5Iqlx6xlu+i82I+OSA+iA5Op8eoKP/bvbMKzW5cj4FfyOieGWiIiIiIioiJl2ckwGzcK22N2Ip7Am6f6cPxkL8ZjidT4qsZKtIVD2PZkHSQx+/fLpoOhloiIiIiIqMgUS4/Zm4OTaO+M4oPzt2HZySViURCwY3092sIhrFxeWbjJTWGoJSIiIiIiKhLF0GPW8zxcuD6C9kgPLlwfSY0HVBnPb2/E3h1NqK7wF2ZyM2CoJSIiIiIiKrBi6DGbsBy8330LHZ1R3B6Op8brl2g4EG7G7pZlUH1SgWb3aAy1REREREREBVAsPWZHJwwcP9mLt071IWbYqfH1K5agLdyMTatrIOawJc98MdQSERERERHlked5iJs2YnGroD1mb9weR3skis6L/XCnqlDJkoCnNi7FgXAITfXlBZtbJhhqiYiIiIiI8qAYesy6roczHw2iPRLFld47qfHygIK9O5qwZ3sjKoJqQeY2E1EAgqqMoVkew1BLRERERESUQ8XQY1Y3bbx79iaOdkYxNGakxhvrytAWDiG8sQGKXBz3ywoAZElEUJPhVxXYVmLWxzPUEhERERER5UAx9JgduqPjaFcU75y5CSNx977dzatr0RYOYd2KJRCK5H5ZQQA0nwzNL8PvuxtV7VmeAzDUEhERERERZZVlO4jpNuKmVZC2PJ7n4WrvGNojPTj90WBqDj5FxO7Ny7B/ZwhLa4L5n9gjKJIITZUQ8CuQJDHj5zPUEhERERERZYGRsBE3bBiJwvSYdRwXXZcG0B7pwY3bE6nxqnIV+3c24bmtjQhqSv4nNgNBAPyKDM0vwe+T57VazFBLREREREQ0D4XuMRvTLbx1ug/HTvbizoSZGn9iWQXawiHsWFc/pxXQXJBEAQFVhuZXoMjZmRNDLRERERERUYaKocfs7eEYOjqjeO/cLVh2sgKVIADbn6xHWziEVY2VRXG/rCAAPllCwC9DU+e3KjsThloiIiIiIqI0FbrHrOd5uPjxCNojUZy/Npwa96sSntvSiH07m1BbpeV9XjORBEBTFWh+GT4ld5WVGWqJiIiIiIgew3U9xE0LsXhhesxatoMPzvejvbMHNwdjqfHaKg0HWkN4ZvMy+NXCxzsBgCJLCPglaKoCUcz9SnHhXzUREREREVGRKnSP2bFJE2+e6sObp3oxEbdS42tDVWgLN2PLmtq8BMfHEe9ZlVVzuCo7E4ZaIiIiIiKiB9iOi5heuB6zvf0T+Fkkis6Lt2E7yQlIooDWDQ1oC4fQvLQi/5N6gABAlkQENBmaqkAqULhmqCUiIiIiIppSyB6zrufh3JUhdESiuNwzmhoPagr2bG/E3u1NqCpX8zupGQgCoPmSRZ+KYctz4WdARERERERUYAnLQUy3oBegx6yRsPHeuVvo6IxicFRPjS+rDeJAawi7Ni3NaaGldCmSCM0vI6DKRdMiCGCoJSIiIiKiRcxI2IjrNgwr/2F2ZMzA0ZNRvHP6JuKmnRrfuLIabeFmbFxZXfCWPPeuyqo+qeDzmQlDLRERERERLTqGaWNSt5CwHOT7ltlrfWNoj/Tg1OVBuFNJWpFFPN2yFPtbQ1heW5bnGT1MFoVkX1m/ArmIVmVnwlBLRERERESLgud5MBI2JuM2EraT13M7rotTlwfRHunB9ZvjqfHKMh/27mjCnm2NKAv48jqnBwkCoMoyApoEv08uylXZmTDUEhERERHRgua6HnTTQky3YeW5L0/csPD2mZs42hXF6LiZGm9uKEdbOISdGxoKvhIqiUBgqh2PIhf+3t1MMdQSEREREdGC5Lge4noCccOGnee+PP0jcRztjOK9c7dgWslVYQHA1ifr0NYawppQVUFXQgUAPllCQJPh98lF0et2rhhqiYiIiIhoQbEdF3HdQizPPWY9z8OHPaNoj0Rx7spQ6l5d1Sfh2S3Lsb81hLoqLX8TmoEo3F2VLYaKytnAUEtERERERAvCdI9Z3cxvmLVsF5ELt9HRGUXvwGRqvLrCjwOtITy7ZTk0f2GjlyKJCGgyNFWBVMKrsjNhqCUiIiIiyqPOi/04fOwK+kfiaKgO4NC+NWjd0FDoaZU003IQL0CP2fFYAm+d6sXxU30YjyVS46ubKtHW2oytT9ZCEgt3v+x0O56AKkNVF270W7ivjIiIiIioyHRe7Merh89ClgWUazJGx3W8evgscGgLg+0cCKKM4TsGTMvOa1uevoFJtHf24IPz/bCnCk+JooCd6+vRFm7GE8sq8jibh5VSO55sYKglIiIiIsqTw8euQJYF+H3Jr+F+nwwDNg4fu8JQm6bptjyxuI3hcRMNlp2X87qeh/PXhtEeieLSxyOp8YBfxvPbGrFvRxOWVPjzMpeZCEKy8FNwqvBTqbTjyQaGWiIiIiKiPOkfiaNcu/8ruKpIGBiJF2hGpcPzPMRNG7G4lWrL47q5b89jJhy8330LHZ1R9N/zOTVUB3CgNYSnW5ZB9RWu4NJCLPyUKYZaIiIiIqI8aagOYHRcT63UAsn7QeurAwWcVXFzXQ9x00IsbuW1Lc/ohIFjXb1463Qf4sbd1eD1K5agLdyMTatrIBZoNVQAIEticlV2ARZ+yhRDLRERERFRnhzatwavHj4LAzZURYJpObBtD4f2rSn01IqO47iIG8m2PE7uF2RTPr41jvZID7ouDcCdCtGyJOKpTQ1oa21GY31Z/ibzgOnCT5oqw7+ACz9lqiDvxF/+5V/i+9//Pnw+Hz71qU/hX/yLf4GLFy/ilVdeweTkJFpbW/H1r38dsswPioiIiIgWjtYNDcChLTh87AoGRuKoZ/Xjh9iOi5huIZ7HHrOu6+H0h4No7+zB1d6x1Hh5QMHeHU3Ys70JFUFffiYzg+nCTwG/AmkRFH7KVN5T47vvvosf/ehH+P73vw9N0/DlL38ZR44cwXe+8x184xvfwLZt2/DVr34Vr7/+Oj7/+c/ne3pERERERDnVuqGBIXYG0z1m46aVt7Y8umHjnbM3cbQriuExIzXeWFeGtnAI4Y0NUOTC3KcqCIAqywho0qIr/JSpvIfaCxcu4LnnnkNZWXLZ/vnnn8d3v/tdGIaBbdu2AQAOHTqE73znOwy1REREREQLnJGwoRt2XnvMDt7RcbQzinfP3oSRcFLjm1fXoi0cwroVSwoWIiUR0FQFAb9csEBdavIeajdt2oRvfvOb+NKXvgRN09DR0QFZllFXV5d6TF1dHfr7+/M9NSIiIiIiyhPDtDGpW0hYTl56zHqehyvRO/hZJIqzHw2mzulTROzevBwHWkNoKFDBLgGAIksIaDI0nwxxkRd+ypTgefn695C7/ut//a84fPgwqqqqsHv3brz//vuwLAt/+7d/CwC4ceMGvvSlL+GNN9547LFM00R3d3eup0xERERERPMkiiIcSNANG0bCShViyiXH9XDlpoHT1+MYHLtbxbjML2LLEwFsbNbg9xXmPlVFlhDwK1BkASLcvLQoKmUtLS1QVfWh8byv1E5OTuLnfu7n8MUvfhFAMuA2Njais7Mz9ZjBwUHU19dndNxHvcDFpKurCzt37iz0NKiE8JqhTPGaoUzxmqFM8ZpZmFzXg25aiOl2qsdsNnR3d6OlpWXGv5vULbx1qg/HTkYxNplIja9cXoG2cDO2P1lXsKJLiiRC88sIqDILP6XhcQuZeQ+1vb29+L3f+z18//vfh67r+Lu/+zv80R/9Ec6dO5f6IfaDH/wAe/bsyffUiIiIiIgoixzXQ1xPIG7Yeesxe2soho7OKN7vvgXLTgZoQQC2r6vHJ8LNWNVYmZd5PEgQAL8iI+CXofokFn7KoryH2vXr1+PgwYP49Kc/Dcdx8Gu/9mvYuXMn/vzP/xyvvPIKYrEYNm7ciC984Qv5nhoREREREWVBvtvyeJ6Hix+PoD0Sxflrw6lxTZXx3Nbl2LezCTWVWu4nMgNJBAKqAs2vQJG5KpsLBWkE++Uvfxlf/vKX7xtbv349vve97xViOkRERERElAUJy0FMt/JWydh2PLx9pg8dkShuDsVS43VVGg60hrB78zL41fxHHgGAb7rwk8p2PLlWkFBLREREREQLh2namDRsmFZ+wuzYpInjJ3vR0TkIIzGQGl8bqkJbuBlb1tQWpIKwKEyvysrwKWzHky8MtURERERENCe6aSEWt5Gw89OWJ9o/gfZIDyIX+uFM7WuWRAHhjQ040NqM5qXleZjFwxRJnFqVVSCxHU/eMdQSEREREVHaPM+DbtqYjFtZrWT8KK7r4eyVIbRHevBR9E5qvExTsKHJh8/+/HZUluW/C4ogAJovWcFYLcAWZ7qL7z4RERERET1WrtryPIph2njv3C10dEYxeEdPjS+vDeJAOISnNi7Fh5cv5j3QyqKAgF+G5lcgsx1PUWCoJSIiIiKiR3JcD3HDQly38tKWZ3hMx9GuXrxz5iZ0006Nb1pVg7ZwCBueqM574SVBSBZ+Cmoy/D4Wfio2DLVERERERPQQx3ERNyzEDAtzXZjtvjqEIyd6MDSmo7ZSw8FdzWhZXfvQ4zzPw7W+MbRHojj14UCq2JQii3i6ZRkOtIawrDY4j1czN5IAaH4FAb8MRWbhp2LFUEtERERERCmWnQyz8+0x2311CK8duQxJEhBUJYxNGnjtyGW8dBCpYOs4Lk5eHkB7JIqPb42nnltZpmL/ziY8t60RZZoy35eUEQGAIksI+CX4WfipJDDUEhERERERLNtBTLcRN62stOU5cqIHkiRAnWptoyoSTDg4cqIHKxsr8fbpPhzr6sXohJl6TvPScrSFm7FzfX3e71edLvyk+ZNbjKl08NMiIiIiIlrETMtBXLegJ7LbY3ZoTEdQvX/LrgDgxu1x/J//v7eRsJJ7mgUB2La2Dm3hZqxuqsz7/aqKJEJTJQT8CiQWfipJDLVERERERIuQadqY1G2Ylp2THrO1lRrGJg34ZBFmwsF43IKRcFJ/7/dJeGbLchxoDaG2SsvBDB5NEABVlhHQJBZ+WgAYaomIiIiIFgnP82AkbEzGbVi2k5MwO+1AaxP++icXMZxwYDt3z1QR9OHnn16BZ7Ysh5bn/q7T7Xj8qgJF5qrsQsFQS0RERES0wOWzx+x4zMTxk31481QvJvW7LXk0Vca+HY148fnVEPNYfInteBY+hloiIiIiohLUebEfh49dQf9IHA3VARzatwatGxrue4zjeojrCcQNO+c9ZnsHJtARieKDC7dTK7OiKKB1QwPaWkNYsawip+d/kCQCAVWBxnY8Cx5DLRERERFRiem82I9XD5+FLAso12SMjut49fBZ4NAWtG5ogO24iOvJHrO5zLKu56H76jDaIz24fGM0NR70y3h+eyP27mjCknJ/7ibwAEEAfJKEwNSqbD5XhKlwGGqJiIiIiErM4WNXIMtCqvWM3yfDVVz84wc3sKapKmtteR7FTDh4r/sWjnZG0T8ST40vrQngQGsIT7csg0/J3+qoJADa1KpsPs9LxYGhloiIiIioxPSPxFGuJb/Kqz4Jmk+G7bq4cWscMcPK2XlHxg0c6+rF26f7EDfv3i+74YlqtIVD2LiqBmKe7lkVAAT8PlSV+aCpCldlFzGGWiIiIiKiErO0OgDdSKCqXEXCcjE6YWBSt1BZlputvtdvjqE9EsXJSwNwp5aAZUnErpalaGsNYXldWU7OOxPxnlXZfr+AoObL27mpODHUEhERERGVENf18It7V+Nv3riIm0MxiAKQsF04joeDu5qzdh7HdXH6w0G0R6K41jeWGq8I+rB3RxP2bG9EeSA/gVJAMkQHNBmaqkCaWpV13dxWcqbSwFBLRERERFQC7q1kvLyuDC88sxJHTvRgeExHTaWGg7ua0bK6dt7n0Q0bb5/pw9GuXoyMG6nxpvoytIWb0bqhIW89XkUheb+wpsrw57mnLZUOXhlEREREREXMdlzEdAvxByoZt6yuzUqInTY4GkdHZxTvnrsFM+EASK6Qbl5Ti7ZwM55srspbj1dFEqH5ZQRUGZKUnwBNpYuhloiIiIioCCUsB3HDzmklY8/z8FH0DtojPTj70RCmT6MqEnZvXob9rSE0VAdyc/IHCAKg+ZJBVuWqLGWAVwsRERERURExEjbiug3DsnMWZm3HRefFfrRHooj2T6TGl1So2L8zhGe3LkfQr+Tm5A+QRAFBvwzNr0DmqizNAUMtEREREVGBeZ4HI2EjFreRsB3kqsXsZDyBN0/34fjJXoxNJlLjK5dXoC3cjO3r6iCJuQ+WAgBFlhDUZPh9Mtvx0Lww1BIRERERFYjretBNCzHdhuXkrpLvzaFJdESiOHH+Niw7eR5RELB9XR3aws1Y1ViZs3Pfa3qLseZPhlmibOCVRERERESUZ47jIm5YiBs2bDc367Ke5+HC9RG0R3pw4fpIalxTZTy3bTn27wihujI3fW0fJIsCAtxiTDnCUEtERERElCeWPR1m769knE0Jy8GJ87fRHunB7eF4arxuiYa21hCe3rwsL6ukAgCfcneLcb4qJ9Piw1BLRERERJRjCctBTLegJ3JX/OnOhInjp3rx5qk+xHQrNb6ueQnawiG0rKmFmIdgKQpAQFWg+WX4FCnn5yNiqCUiIiIiyhFzKswaOQyzPbfH0R6JovNiP5yp5V9ZEtC6YSnawiGEGspzc+IHKJKIgCZDUxVILPxEecRQS0RERESUZaZpY1K3YVp2TioZu66HMx8NoqMzio+id1Lj5QEFe7Y3Yc/2RlSWqTk48/0EAfArMgJ+GX72lqUC4ZVHRERERJQlumnltC2PYdp45+xNHO3qxdAdPTW+vC6IttZmPLWpAYqc+y2/kji9xViBIrPwExUWQy0RERER0TxM95idnAqzuTB0R8exrl68fbYPhnn3HC2ra9AWbsb6FUtyXohJAOCTJQTYW5aKDEMtEREREdEceJ6HuGkjFrdy0mPW8zxc7RtDe6QHpz8cTN2Tq8gidm9ehgOtISytCWb9vA8SBUCbKvyksvATFSGGWiIiIsqazov9OHzsCvpH4mioDmBzk4edOws9K6K5e/CaPrRvDXasq0fctBCLWznpMes4LrouDaA90oMbtydS41XlKvbtaMLz2xoR1JSsn/dBqcJPPhkSe8tSEWOoJSIioqzovNiPVw+fhSwLKNdkjI7r+EnEwNo1/Wjd0FDo6RFl7N5ruiqowLZtfK/9Q0zEEnhyxZKsny+mW3jrdB+OnezFnQkzNb5iWQU+EQ5hx7r6nIdLQQA0nwxNZeEnKh28UomIiCgrDh+7AlkW4Pclv174fTJ0IznOUEul6PCxK/CrEpaUq5BEETE9geEJHT9+5zr+P1kMtbeHY+jojOK9c7dg2cltzIIAbHuyDm3hZqxurMz5/bKyKCDgl6H5FchclaUSw1BLREREWdE/Eke5dv9XC0USMDASL9CMiObHtGxUV6iI6TYMM9maR5FEDI/pj33u43ieh0s3RtEe6UH31eHUuN8n4dmty7F/Zwi1Vdq8zzMbQUgWfgpOFX7KdXAmyhWGWiIiIsqKhuoARsf11EotAFiOh+X1gQLOiihzRsJGXLehyjL6BmP3FUdK2C5qKuceNi3bwQfn+9He2YObg7HUeG2lH/tbQ3hmy3JoOd72K4nJwk8Bv5yX9j9EucZQS0RERFlxaN8avHr4LAzYUBUJpuXAdZLjRKXgwR6ze3c04rUjl2HCgU8WkbBdOI6Hg7uaMz72eMzE8ZN9ePNULybiVmp8bagKB1pD2Lq2LqctcgQAylQ7Ho3teGiBYaglIiKirGjd0AAc2oLDx65gYCSO+uoA9mz0837aBWymysCl9nnP1panZXUtXjoIHDnRg+ExHTWVGg7uakbL6tq0j9/bP4GfRaLovHgbtpOslCyJAlo3NOBAOIQVSyuy+noexHY8tBgw1BIREVHWtG5ouC/UdHV1FXA2lEszVbt+9fBZ4NCWkgi2jushbliI67O35WlZXZtRiAUA1/PQfWUI7ZEoLveMpsaDmoI92xuxd3sTqsrVOc89Hal2PKoCiauytMAx1BIRERFRxmaqdm3ALvpq17bjIq5biJsWHliYnTcjYeO9c7fQ0RnF4OjdYlJLawJoCzdj16al8OVwtVQQAL8iI+BnOx5aXHi1ExEREVHGZqp2rSpS0Va7tmwHcd1G3LQwy8LsnIyMGTh6Mop3Tt9E3LRT4xtXVqMt3IwNK6sh5rCysCQCAVWB5legyGzHQ4sPQy0RERERZWymatem5aC+uriqXRsJG7phQ0/Y8LIcZq/1jaE90oNTlwfhTh1ckUXs2rQUB1pDWF5Xlt0T3kNAsh1PYKodDws/0WLGUEtEREREGZup2rVte0VT7dowbUzqFhJWspJxtjiui1OXB9Ee6cH1m+Op8YqgD/t2NOH57Y0oD/iyeMb7sfAT0cMYaomIiIgoYzNVuy509WPP82AkbExOteXJprhh4e0zN3Gsqxcj40ZqPFRfhrZwM3ZuaMjp1l9ZFBDQFARUGZLELcZE92KoJSIiIqI5ebDadS7N1j5otrY88zU4GkdHZxTvnr0F00oGZQHAlrW1aAs3Y22oCkKO7pcVhOQW4+DUFuNcnYeo1DHUEhEREVFRm6l90H/5wTmIgoC1zVWPbcuTKc/z8GHPHXR09uDsR0Op7cuqIuGZLcuwvzWE+iW5u3dYFKYLP8k5rZZMtFAw1BIRERFRUbu3fZAkCigP+OB6Hn5w/Aq+dGhL1s5j2S66LvajPdKD6MBkary6wo/9O5vw7NblCPiVrJ3vXgIAmb1lieaEoZaIiIiIilr/SBxLynwI+GVIoohJPYG4biFmZue+2Yl4Am+e6sPxk70YjyVS46saK9EWDmHbk3WQxNzcxyoIgOaTEVBlqOwtSzQn/D+HiIiIiIra6qZKTEyaiBs29Kk+sKbtoqZSm9dxbw5Oor0zig/O34ZlJ+/FFQUBO9bXoy0cwsrllfOe+6PIooCAX4bmVyCz8BPRvDDUEhEREVFRMhI24oaNpzY24G9+cgmSJMAni0jYLhzHw8FdzRkf0/U8XLg2jPZIFBc/HkmNB1QZz29vxN4dTaiu8GfzZaSw8BNRbjDUEhEREVHREEXxoR6zG56owUsH1+HIiR4Mj+moqdRwcFczWlbXpn3chOXg/e5b6OiM4vZwPDVev0TDgXAzdrcsg+rLTVEmSQA0v4KAX4Yis/ATUbYx1BIRERFRUdBNC5MGMHxPH9hpLatrMwqx00YnDBw/2Yu3TvUhZtip8fUrlqAt3IxNq2sg5mDFVACgyBICfgmaqkBk4SeinGGoJSIiIqKC8TwPumljcqrHbNwws3LcG7fH0R6JovNiP9ypdj+yJOCpjUtxIBxCU315Vs7zoOnCT5o/ucWYiHKP/6cRERERUd65rgfdtBDTbViOm7VjnvloEO2RHlzpHUuNlwcU7N3RhD3bG1ERVLNyrgcpkgjNn6xiLLHwE1FeMdQSERERUd44roe4YSGuW7CnVlDnSzdtvHv2Jo52RjE0dnfrcmNdGdrCIYQ3NuTkXlZBAFRZRkCTWPiJqIAYaomIiIgo5xzHRdywEDMsZGlhFkN3dHR0RvHu2ZswEnd71m5eXYu2cAjrVizJSdCURCCgKtD8ChSZq7JEhVaQUPs//+f/xF/+5V8CAPbs2YPf+73fw8WLF/HKK69gcnISra2t+PrXvw5ZZuYmIiIiKmW24yKmW4gbFrKxMOt5Hq72jqE90oPTHw3CmzqmTxGxe/MyHGhtRkN1YP4neoCAZDseTZOh+WQWfiIqInlPjbqu44//+I/xxhtvoKKiAp/73Ofw7rvv4pvf/Ca+8Y1vYNu2bfjqV7+K119/HZ///OfzPT0iIiIiygLLdhDTbcRNKxU858N2XHRdGkBHpAc3bk+kxpeUq9i3M4Tnti5HUFPmf6IHiAKgqQo0vwxVYTseomKU91DrOA5c14Wu6wgEArBtG7IswzAMbNu2DQBw6NAhfOc732GoJSIiIioxCctBTLegJ+yshNlJ3cLbp/twtKsXY5N3KyM/sawCbeEQdqyrz0lhJkUSEdBkaKoCiauyREUt76G2rKwM/+pf/Su88MIL8Pv9eOqpp6AoCurq6lKPqaurQ39/f76nRkRERERzZCRsxHUbhpWdMHt7OIb2SBTvd9+CZSdvwhUEYPu6erS1hrCqsTLr98sKAuBXZAT8Mvwqb4MjKhV5/7/10qVL+P73v4+jR4+ivLwc//pf/2u88847Dz0u0x9S3d3d2ZpiSevq6ir0FKjE8JqhTPGaoUzxmlm4RFGECxF6woVhWHDc+VWA8jwP0aEEfvRXb+HGYCI17pMFbGzWsOWJACoCAvQ7vTh/p3e+0weQ/M7pmwqysgjAc+BlI5VT3vBnDOU91L799tvYvXs3ampqACS3Gv/VX/0VhoaGUo8ZHBxEfX19RsdtaWmBquam71ip6Orqws6dOws9DSohvGYoU7xmKFO8ZhYmz/NgJGxMxm0kbOfxT3iMhOXggwu30RGJ4uZQLDVeV6XhQGsIuzcvy/rK6XThp+QWY7bjKVX8GbM4mKY56yJm3kPt+vXr8Wd/9meIx+PQNA0dHR146qmn8NOf/jR1Uf7gBz/Anj178j01IiIiIpqF53mImzZicQtWFvryjE2aOH6yF2+e6sOkbqXG14aq0BZuxpY1tVmvMszCT0QLT95D7XPPPYcLFy7g0KFDUBQFmzdvxm/+5m/i537u5/DKK68gFoth48aN+MIXvpDvqRERERHRDFzXQ9y0EItbsLPQlyfaP4H2SA8iF/rhTB1PEgW0bmjAE9UJ7H92+7zP8SBFEqH5ZQRUOSeFpYiocApyB/xv/uZv4jd/8zfvG1u/fj2+973vFWI6RERERafzYj8OH7uC/pE4GqoDOLRvDVo3NBR6WlSEcnmtOK6HuJ5AzLAw34VZ1/Vw9soQ2iM9+Ch6JzUe1BTs3d6IvTuaUFmmZrVOiiAAqiwjoEnw+7jF+F78GUMLCcu6ERERFZnOi/149fBZyLKAck3G6LiOVw+fBQ5t4ZdOuk+urhXHcRHTLcQMC/NdmDUSNt47ewsdnVEM3tFT48tqgzjQGsKuTUvhy/I2YEkANL+CgF+GInOL8YP4M4YWGoZaIiKiInP42BXIsgC/L/lr2u+TYcDG4WNX+IWT7pPta8WyXcR1C3Fz/mF2ZMzA0a4o3j5zE7ppp8Y3rqxGW7gZG1dWZ3XlVAAgSyKCU71ls30v7kLCnzG00DDUEhERFZn+kTjKtft/RauKhIGReIFmRMUqW9eKZTuI6TbipjXvHrPX+sbQHunBqcuDcKcOpsginm5Ziv2tISyvLZvfCR4gCIDmS94rq7K3bFr4M4YWGv6fT0REVGQaqgMYHddTqygAYFoO6qsDBZwVFaP5Xium5SCuW9AT9rzCrOO6OHV5EO2RHly/OZ4aryzzYe+OJuzZ1oiygG/uJ5iBJAJBvwLNr0Bm4aeM8GcMLTQMtUREREXm0L41ePXwWRiwoSoSTMuBbXs4tG9NoadGRWau14pp2pjUbZiWjfkszMYNC2+fuYmjXVGMjpup8eaGcrSFQ9i5oSGrgfPe3rJ+n8wtxnPEnzG00DDUEhERFZnWDQ3AoS04fOwKBkbiqGdlUnqETK8V3bQQi9tI2M68wmz/SBwdnVG8f+4WTMsBkAycW9bW4RPhENaEqrJ6vyx7y2YXf8bQQsNQS0REVIRaNzTM+QsmW3UsHul81p7nQTdtxPRkmJ0rz/PwYc8o2iNRnLsylArFqk/Cs1uWY39rCHVV2jxezcPYWzZ35vMzhqjYMNQSEREtIGzVsXg87rN2XS+5MqvbsObRZNayXUQu3EZHZxS9A5Op8eoKPw60hvDsluXQ/Nn7SilJIvwKe8sSUfoYaomIiBYQtupYPGb6rC3RwU/f/xjrmqsQMyzMI8tiPJbAW6d6cfxUH8ZjidT46qZKtLU2Y+uTtZDE7K2eigIQ8CuoKVdRU+XP2nGJaOFjqCUiIlpA2Kpj8bj3s05u05UgCD7cHIxhPG7N+bh9A5No7+zBB+f7YU+lYlEUsHN9PdrCzXhiWUVW5j9Nmeot61cVSKIA17Uf/yQionsw1BIRES0gbNWxeDRUBxDXE6gsS7bKmYglMBZLoLIs81VO1/Nw/tow2iNRXPp4JDUe8Mt4flsj9u1owpKK7K2eCgLgV2QE/ewtS0Tzx58iRERECwhbdSwen9m3Bn/700sYvKPDcz0kbBeO4+Hgrua0j2EmHLzffQsdnVH037Oa31AdwIHWEJ5uWQbVl71qw5IIBNRkb1lFZuEnIsoOhloiIqIFhK06Ci+disTzqVA93ZZnWW0QP/f0Chw50YPhMR01lRoO7mpGy+raxx5jdMLAsa5evHW6D3Hj7nbf9U9Uoy0cwqZVNRCzVKCJvWWJKNcYaomIiBYYtuoonHSqT8+lQvWj2vK0rK5NK8RO+/jWONojPei6NADXTTblkSURT21qQFtrMxrry+bx6u8nCsniVZpfvm87PBFRtvEnDBEREVGWpFN9OpMK1Z7nIW7aiMWtObflcV0Ppz8cRHtnD672jqXGK4I+7N3eiOe3N6Ei6JvTsWciiwICfhkBv8LeskSUFwy1RERERFmSTvXpdB7jTPeYjVuwp1ZUM6UbNt45exNHu6IYHjNS4411ZWgLhxDeuDRr97UKQnKLcXBqizF7yxJRPjHUEhEREWVJOtWnH/WYZbVBOI6LuGHNq8fs4B0dRzujePfsTRiJ5FZlAcDmNbVoC4fwZPOSrIVOUZgu/CTDp2SvoBQRUSYYaomIiIiyJJ3q0w8+xvU8lPkV/G/PPIGB0TjmsjDreR6uRO/gZ5Eozn40iOlD+BQRuzcvx4HWEBqy2NZJkUQENBnaVG9ZIqJCYqglIiIiypJ0qk9PP+bH71xHXE+gqlzFU5uWIrS0IuNAazsuOi/2oyMSRU//RGp8SYWK/TtDeHbrcgT9SlZe23Rv2YBfhp+9ZYmoiPAnEhEREVEWpVN9umVVDZ5YVoGE5WAud8xOxhN483Qfjp/sxdhkIjW+cnkF2sLN2P5k3WOLNHVfHcKREz0YGtNRO0s7IEkEgn4FfpW9ZYmoODHUEhEREeVBNioZ3xyaxNHOKN7vvg3LTh5DFARsX1eHtnAzVjVWpnWc7qtDeO3IZUiSgKAqYWzSwGtHLuOlg8k2Qff2ltVUFn4iouLGUEtERESUQ47rIW5YiOtzq2TseR4uXB9Be6QHF66PpMY1VcZzW5dj/84Qqiv9GR3zyIkeSJIAdaq4k6pIsAQXb5+5iac3LWPhJyIqKQy1RERERDlg2clKxnHDmlPxp4Tl4MT522iP9OD28N12P3VLNBxoDWH35mX3VVDOxNCYjqCaDK2KLCLoV+BTJIxOmKgsV+d0TCKiQmGoJSIiIsoi03IQ1y3oCRveHMLs2KSJYyd78eapPsR0KzW+rnkJ2sIhtKyphTjP7cB1lRpMy0Z1hR+iIMCwHPSPxFBVoc3ruEREhcBQS0RERJQFhmljUrfmXPyp5/Y42iNRdF7shzO1tCtLAlo3LEVbOIRQQ3lW5imLAn6pbS1e/9lljE4YEAVhxtZDRESlgqGWiIhokeu82I/Dx66gfySOhhla0NCjeZ4H3bQR020kbCfj57uuh7NXhvDDN6/i5lAsNe73STjQGsLeHU2oLJv/dmBBSBZ+Cmoy/D4ZDTVBSJI4a+shIqJSwVBLRES0iHVe7Merh89ClgWUazJGx3W8evgscGgLA84s5lv8yTBtvHvuFo52RjF4R0+Ny5KAgF+GIolY1Vg570ArCkBAVWYs/JRO6yEiolLAUEtERLSIHT52BbIspAoO+X0yDNg4fOwKA88MbMdFXE8Wf3LmsMd4eEzH0a5evHPmJnTTTo37FBGVQR/8PgnC1HbgIyd6Zuwbmw5FEqfa8SiQRLbjIaKFjaGWiIhoEesfiaNcu//rgKpIGBiJP+IZi5NlO4jpNuKmlXHxJ8/zcK1vDO2RKE59OJB6viKL2L15Gc58NIiKgHJfL1ifLGJ4TH/EEWcmCIAqywhoEvw+9pYlosWDoZaIiGgRa6gOYHRcv681jGk5qK8OFHBWxWM+lYwdx8XJywNoj0Tx8a3x1HhlmYp9O5rw/PZGlGkKbg/HMTZppHrGAkDCdlFTmV4lYlEAAn4luW1ZZm9ZIlp8GGqJiIgWsUP71uDVw2dhwIaqSKyCO8U0bUzqNkzLzriSccyw8PbpPhzr6sXohJkab15ajrZwM3aur4csianxg7ua8dqRyzDhwCeLSNguHMfDwV3Ns56HW4yJiJIYaomIiBax1g0NwKEtrIKL5DZhI2EjFk9WMs40zPaPxNHR2YP3zt1CwnIBJLcEb1tbh7ZwM1Y3Vc64JbhldS1eOggcOdGD4TEdNZUaDu5qnvF+WkEA/IqMgF+GX+XXOCIigKGWiIho0SvFKrjZbEPkuh5000JMt2E5bkbP9TwPl2+Moj3Sg3NXh1Pjfp+EZ7Ysx4HWEGqrHr+NuGV17axFoSQR0FRuMSYimglDLREREZWUbLUhchw32ZbHsDNuy2PZDiIX+tEeiaJvcDI1Xlvpx/7WEJ7ZshzaPFdSBQCyJCI4tcVY5BZjIqIZMdQSERFRSZlvGyLLnmrLY1rItMXseMzE8ZN9ePNULybiVmp8TVMl2sLN2Lq2bt7hUxAAzScjoMpQucWYiOix+JOSiIiISspc2xAZCRu6Yc+pknHvwAQ6IlF8cOE27KkGtaIooHVDA9paQ1ixrCKzA85AkURo/mSYle4pJEVERLNjqCUiIqKSkmkbIsO0MalbSFiZFX9yPQ/dV4fRHunB5RujqfGgX8bz2xuxd0cTlpT75/oyANxf+En1SewtS0Q0Bwy1REREVFLSbUOkmxZicRum7WR0fDPh4L3uWzjaGUX/Pau/DdUBtIVDeLplGXzK/Io1yaKAgF+G5lfua+9DRESZY6glIiKikjJbGyLP86CbNmJ6si1PJkbGDRzr6sXbp/sQN+3U+MaV1TjQGsLGVTUQ57GSKgiAKssIaBL8PpmrskREWcJQS0RERCXnwTZEnuchZliIxa2M2/JcvzmG9kgUJy8NwJ262VaWROxqWYq21hCW15XNa66SCARUBZpfgSJzVZaIKNsYaomIiKhkzbXHrOO6OP3hINojUVzrG0uNVwR92LujCXu2N6I84JvzvAQB8MlScouxylVZIqJcYqglIiKikjPdYzZmWMhkYTZuWHjnzE0c7erFyLiRGg/Vl6Et3IydGxrmtZoqCYDmVxDwy1Dk+d13S0RE6WGoJSIiopJh2Q7iup1xj9nB0Tg6OqN499wtmInkvbYCgC1ra3GgtRlPNlfNeTVVQHK7clCToanKvPvUEhFRZhhqiYiIqOgZCRtx3YZhpd9j1vM8fBS9g/ZID85+NJRq56MqEp7Zsgz7W0OoXzJzG6B0CAKg+ZJ9ZVWVX6mIiAqFP4GJiIioKHmeByNhIxZPVjJOd2HWdlx0XuhHe2cU0f6J1Hh1hR/7dzbh2a3LEfArc54X2/EQERUXhloiIqIi0nmxH4ePXUH/SBwN97SqWUzSLf7UfXUIR070YGhMR22lhue3LcfgqI5jJ3sxHkukHreqsRJt4RC2PVkHSZxbCBUwVfhJWxiFn3idEdFCwlBLRERUJDov9uPVw2chywLKNRmj4zpePXwWOLRlUQSOTIo/dV8dwmtHLkOSBPgkAdH+cfzVD0dTfy8KAnasr0dbOISVyyvnPKfUFmNNgaosjMJPi/06I6KFh6GWiIioSBw+dgWyLMDvS/569vtkGLBx+NiVBR025lL86afv34DtuJjUHRhThZ+AZJj9xFPN2LezCdUV/jnPaXqLccCvQFpgW4wX63VGRAsXQy0REVGR6B+Jo1y7/1ezqkgYGIkXaEa5ZSRs6IYNPZF+8aeE5eD97lu42jcG954ELEsCyrRk5eFD+9fMaT4LbYvxoyy264yIFj6GWiIioiLRUB3A6LieWkEDANNyUF899wq9xWauxZ/uTJg4drIXb53uQ0y3UuOqT0J5QIHmk5CwXVSWZb46KwqApirQ/PKC2WI8m8VwnRHR4sJQS0REVCQO7VuDVw+fhQEbqiLBtBzYtodD++a28lhM0i3+9KCe2+Noj0TRebEfztTKrCwJWBOqwu2hGFSfBJ8sImG7cBwPB3c1p33shbzFeDYL+TojosWJoZaIiKhItG5oAA5tweFjVzAwEkf9AqhKK4oSJmIm4oYNO80bZl3Xw9krQ2iP9OCj6J3UeHlAwZ7tTdizvRGVZWqq+vHwmI6aSg0HdzWjZXXtrMee3mIcDMjw+xbuFuPZLMTrjIgWN4ZaIiKiHMukfUrrhga0bmhIPec/HT5bki1XLDtZyXh00sJ43Hr8EwAYpo13zt7E0a5eDN3RU+PL64Joa23GU5sacPnGKP7qh+dTbXzSCbLA4tti/DjT1xkR0ULAUEtERJRDc2mfUsotV0zLQVy3UsWfLNt57HOG7ug41tWLt8/2wTDvPr5ldQ3aws1Yv2IJBEG4r41PUJUwNmngtSOX8dJBPDLYyqKAgKYgoMqLaosxEdFiwlBLRESUQ3Npn1KKLVem75dNWOkVf/I8D1f7xtAe6cHpDwdT1Y8VWcTuzctwoDWEpTXB+55z5EQPJElIrbSqigQTDo6c6Lkv1ArC1BZjbfFuMSYiWkwYaomIiHJoLu1TSqXliud5iJs2YnEr7eJPjuOi69IA2jujuHFrPDVeVa5i344mPL+tEUFNmfG5Q2M6gur9W4d9sojhseRWZVEAAlNbjH3cYkxEtGgw1BIREeXQXNqnFHvLFcf1EDcsxHUr7eJPMd3CW6f7cOxkL+5MmKnxFcsq8IlwCDvW1T92e3BtpYaxSeO+e2I9ACuXV6KyzAdNVSCJXJUlIlpsGGqJiIhyaC7tU4q15cp08ae4YSHNLIvRSRv//aeX8N65W7Ds5GquIADbnqxDW7gZqxsr094efHBXM147chkmHFQEFCiKBEDAp59fhTLNN8dXRUREpS7vofbv/u7v8Nd//depP/f29uKf/JN/gk984hP4kz/5E5imiRdeeAEvv/xyvqdGRESUdXNpn1JsLVceLP70OJ7n4dKNUbRHetB9dTg17lclPLelEft2NqG2Sst4Hi2ra/GFT0k4cf42Bu/E4VcVvPjcKmxfV5/xsYiIaOHIe6j9pV/6JfzSL/0SAOCjjz7Cl7/8ZfzGb/wGPve5z+G73/0uli1bhi996Us4fvw49u7dm+/pERHRApdJe51smUv7lMc9Jx+vwzBtTOpW2sWfLNvBB+f70d7Zg5uDsdR4baUf+1tDeGbLcmjq3L56KJKIoCZj744m7G8NzekYRES0MBV0+/Ef/MEf4OWXX0Y0GsWKFSsQCiV/Sb344ot44403GGqJiCirSrlVzr1y+To8z4Nu2slKxmm04wGA8ZiJ4yf78OapXkzc05N2bagKa+o9vNi2E+Ic7nUVBMCvyAj6ZahzDMNERLTwFew3xLvvvgvDMPDCCy/gxz/+Merq6lJ/V19fj/7+/kJNjYiIFqhSbJUzk1y8jrkUf+rtn8DPIlF0XrwN20k+RxQFhDc04EA4hBVLK9Dd3Z1xoJXE6SrGChSZvWWJiGh2BQu1r732Gr74xS8CSP6r8IMy7SnX3d2dlXmVuq6urkJPgUoMrxnKVClfM9Fbo/D7BMTsRGrM8zxEbxkl9bqy9ToEQYAgSkg4QFy3kLDsxz7H8zx8PJDA6Wsx9A3fXZX1KwJaVgTQ8oSGMr+HiaEedA8l/y6d39GiKEL1yQioMiTRheukt0pMC1Mp/f9IhcfrhQoSahOJBCKRCL71rW8BABoaGjA0NJT6+4GBAdTXZ1b0oaWlBaqqZnWepaarqws7d+4s9DSohPCaoUyV+jUT+uCdh1rlGAkboRqtpF5XNl5HwnIQN2zETSut4k9Gwsb7526hozOKgVE9Nb60JoC2cDN2bVo6Y2/Y7u5utLS0PPK4ggBoU2GWW4wJKP2fM5RfvF4WB9M0Z/0H0oL89rh8+TKeeOIJBALJfntbt27F9evXcePGDTQ1NeHHP/4xPvOZzxRiakREtIAVa6ucTM3ndZimjUndhmmnV8l4ZMzA0ZNRvHP6JuLm3ZXcjSur0RZuxsaV1RnvrgK4xZiIiLKnIKE2Go1i6dKlqT+rqopvfetb+J3f+R2Ypom9e/fik5/8ZCGmRkREC1ixtcqZq3tfR8/tcdiOB0UScfjYlbt/fw/P82AkbEzGbVj23UrG3VeHcORED4bGdNRWaji4qxktq2sBANf6xtAe6cGpy4Nwp9KvIovYtWkpDoRDWF5bltGcu68O4VhXL/SEjWU1QRzc1Yzt60rrfS8GhajeTURU7AoSaj/1qU/hU5/61H1ju3fvxg9/+MNCTIeIiBaRubTXKUbTr2G6CrKqSA9VQXZdD7ppIabbsBz3vud3Xx3Ca0cuQ5IEBFUJY5MG/vanl9C6cSk+7BnF9ZvjqcdWlvmwd0cT9mxrRFnAl/FcL388gvZIFJIEqIqIj2+N4S++dxZfKrGq04W2UKp3ExFlG29eISIiKlEzVUG2RAc/ff9jrGuuQsyw4TyikvGREz2QpGQYdl0PZsLBeNzCT9+/kXpMc0M52sIh7NzQAFnKfIuwIomortRw5Mwt6KaVOkapVp0utIVSvZuIKNsYaomIiEpU/0gc5VryV7ksidBUCaLow82hGMbv6Rc7k6ExHT5JwMi4iZhxf7GorWvr8IlwCGtCVRnfLysIgCrLCGgS/D4Z0es2rt0cT81zmqpIGBiJZ3Tsxe7ez3sa30ciIoZaIiKiktVQHUBcT6Ai6IMgAJNxC3cmTVSW+R/5HM/z8GHPKMyEgxH9bvBNViGWUF8dxL/4zJaM5yIKQMCvIOCXocj3V0FuqA48VK3ZtBzUVwcyPs9ixveRiGhmLDdIRERUoj6zbw1kUcTQmI6BkTjuTJpwHA8HdzU/9FjLdvHu2Zv44//6Ab79t6cQmwq0oiigqsyH2ko/An4Fv/DcyozmoEgiKst8qK8OorJMfSjQAslqzbadLFY1XbSqFKtOFxrfRyKimXGlloiIqIR4noe4aSMWt7C0Noife3oFjpzowfCYjpoHKhgDwHgsgbdO9eL4qT6MxxKp8dVNlVgbqsLV3jGMjBtYUvHwcx9FEAC/IiPgl+FPo7fsQqk6XWh8H4mIZsZQS0REVCRma9fiOC7ihoW4YcO+p/hTy+raGYNo3+AkOiJRnDh/G/ZU5WNRFLBzfT0OtIawcnllxvOTBEDzKwjMobfsQqk6na5ctd7JxvvItkBEtNAw1BIRERWBmdq1/D8/7IYoAKubqhA3LDyikHGK63k4f20Y7ZEoLn08khoP+GU8v60R+3Y0YUnFo++3fRRFEhHQZGiqAknMrHDUYlTMrXeKeW5ERHPFUEtERFQE7m3X4lMkVJWrMBMOvn/0Cn77s1tnfa6ZcHDi/C20R6Lov6cSbkN1AAdaQ3i6ZRlU38P3us7mwSrGmVZBXsyKufVOMc+NiGiu0gq1iUQCx48fRywWAwA4joOenh68/PLLOZ0cERHRYtE/EkdtpYqAqsB2XIzHEjBMG3HTeeRzRicMHOvqxdun+xAz7NT4+hVL0BZuxqbVNRAzDKOiAARUBZo/Ga4pc8XceqeY50ZENFdphdqXX34Z0WgUg4OD2LhxI86cOYOnnnoq13MjIiJaFDzPw5PNVRi+E8fohAHLTt4Dm7Bd1FRqDz3+xq1x/CzSg65LA3Cn9iTLkoCnNi7FgXAITfXlGc9BFgUENAUBVYYksTnCfBRz651inhsR0VylFWovXryII0eO4A/+4A/wxS9+EZ7n4etf/3qu50ZERLSgua4HPZGsZLzjyXr8959egiQJ8MkiErZ7X3se1/Vw+sNBtHf24GrvWOoY5QEFe3c0Yc/2RlQE1YzOLwDwKRKCmswtxll0aN8avHr4LAzYUBUJpuUUTeudYp4bEdFcpRVq6+vrIcsynnjiCXz44Yd44YUXoOt6rudGRES0IM1UyXjjqhq8dHDdQ+15VjdV4Wcf9OBoVxTDY0bqGI11ZWgLhxDe2DBjb9jZiAKgqQoC3GKcE8XceqeY50ZENFdphdpAIIAf/ehHWL9+PV5//XWsWrUKd+7cyfHUiIhKVzG3zCjmuZWydN5Xy3YQ123EzZkrGd/bnmfojo6Ozij+y//shpG4e1/t5tW1aAuHsG7FkoxXVrnFOH+KuYVRMc+NiGgu0gq1v//7v4/XX38dX/nKV/C9730P/+yf/TMWiSIieoRibplRzHMrZY97X03TRsywYVg2vFna8niehyu9d9AeieLMR4Opx/oUEbs3L8eB1hAaMrz3URAAn8wtxkREtHClFWqvXLmCf/Nv/g0A4D/8h/8AAPjBD36QqzkREZW0Ym6ZUcxzK2UPvq+aTwZUD+2dPVixtAKW7WC2FrO246Lr0gDaIz3ouT2RGl9SrmLfzhCe27YcQb+S0ZxYxZiIiBaLWUNtR0cHbNvGn/7pn8LzPHhT/2Rs2za+/e1v4xd/8RfzMUciopJSzC0zinlupWz6fRWEZKBVfRJ008ZHPaNI2I9uyTOpW3jrVB+OnezF2KSZGn9iWQXawiHsWFef8TZhRRKh+WVuMSYiokVj1lB78eJFvP/++xgeHsZ/+2//7e6TZBm//uu/nvPJERGVomJumVHMcytly2qDMM0EyjUV8YSFwTsJ6KaNyjL/jI+/NRRDR2cU73ffSrXvEQRg+7p6fCLcjFWNlRmdn1uMiYhoMZs11H75y1/Gl7/8ZfzN3/wNfvmXfzlfcyIiKmnF3DKjmOdWqhzHxYvPrsRf/+QixiYnIUvCQ+14gOT9shc/HkF7JIrz14ZT435VwnNbG7FvRxNqqx7uSTsbSQA0f7KKcaYVkImIiBaKtO6pfemll/Cf//N/xptvvgnbtvHss8/it37rtyDLaT2diGhRKeaWGTPNbfPqGhw+dgX/6fBZVkPOgGVPt+Wx0NRQjpY1tWiPRGEkbPh9MtrCIbSsrkXCcvDBhdvoiERxcyiWen5dlYYDrSHs3rwMfjX936cCAEWWEPBL0FQFoshVWSIiWtzS+i367W9/GxcvXsSv/uqvwnVd/I//8T/wp3/6p/jqV7+a6/kREZWkYm6Zce/cWA05c6blIK5b0BN3Kxl3Xx3C++duoSKooLZSRcJ28e6Zm7g9HMOlj0cxqVup568NVaEt3Iwta2ozCqSikCzspfnl+7aPExERLXZp/VZ888038f3vfx+Kkqy8uG/fPnz6059mqCUiKnGshpw+3bQQ020krIcrGR850QNJEqAqEhKWg8m4hZhhY+TiAABAEgWENzbgQGszmpeWZ3Re9pYlIiKaXVqh1vO8VKAFAJ/Pd9+fiYioNLEa8uxc14OesBGLW7Ac95GPG7wThyQA/RMmTOvu4wQBeGH3E9i7owmVZWra52XhJyIiovSlFWrXr1+Pb37zm/iVX/kVAMBf//Vf48knn8zpxIiIKPdYDXlmjpO8XzZm2HDcR3eYNUwb7527hcm4lapiDCTb6vhVCQ3VQXx6z+q0z8veskRERJlLK9R+7Wtfwze+8Q187nOfg+u6eO655/D7v//7uZ4bERHlGKsh3y9hOdANG3HTwixZFsNjOo529eKdMzehm3Zq3KeIqAwoEEQBrgt8cveKtM6rSCICmgxNVSCx8BMREVFG0gq1Fy5cQF9fH6qrqwEAly5dwq/8yq/gRz/6UU4nR0REuVXMlZrzSTctxHUHpn23+NNMrvWN4WeRHpy6PJB6nCKLeLplGUINZei8OIDhMR015RoO7mpGy+raRx5LEABVlpNbjDOofkxERET3S+u36B/+4R/iM5/5DDZu3Mj7eoiIFphirtScS67rpYo/zXa/rOO4OHl5AB2dUVy/OZ4aryzzYd+OEJ7f3ogyLVlnYs/2pseeVxQATU32luUWYyIiovlLK9QqioIvfvGLuZ4LERFRztmOi7huIW5amCXLImZYePv0TRzrimJ0wkyNNy8tR1u4GTvX10POoBqxLAoI+GUE/AqrGBMREWVRWqF27dq1uHz5MtatW5fr+RAREeXETP1lZ9I/EkdHZxTvnbuJxFQlYwHA1ifr0BYOYU1TVUa7lnyylLxf1idn1JeWiIiI0pNWqI1Go/jMZz6D5cuXQ1XvtiTgPbVERFTMPM+DkbARi9tI2A/3l733cZdvjKI9EkX31aHU4/w+Cc9sWY79rSHUVWlpn1cQAL8iI+iXofJ+WSIiopxK6zftyy+/nOt5EBERZY0zdb9s/DH3y1q2i8iF22iPRNE3OJkar6n0Y//OEJ7duhxaBqFUEqdb8ihQZG4xJiIiyoe0flM/9dRTuZ4HERHRvKV7v+x4LIE3T/Xi+MleTMSt1Piapkq0hZuxdW1d2luFBQCyJCI41ZKHW4yJiIjyi3uiiChjnRf7cfjYFfSPxNGwSFvAFLuF/Bk9+No+e2AtNq2qSet+2b6BSbR39uCD8/2wp1KvKArYub4enwg3Y8WyirTnIQiA5pMRUPOzxbgUP9POi/34f9sH8Rdv/GPJzJmIiEoPQy0RZaTzYj9ePXwWsiygXJMxOq7j1cNngUNb+GW1SCzkz2j6tSmygLpKFQI8/M1PLuKFZ57AhpU1Mz7H9TycvzqM9kgPLt0YTY0H/TKe396IvTuasKTcn/YcCrHFuBQ/0+k5W7aNqnK1JOZMRESliaGWiDJy+NgVyLIAvy/548Pvk2HAxuFjV/hFtUgs5M/oB29eRWWZgoqgCiPhYDJuIWZY+Ml7Nx4KtWbCwXvdt3C0M4r+kXhqvKE6gLZwCE+3LEu7T6wAQClgFeNS/Eyn5yxAhCAIJTFnIiIqTQy1RJSR/pE4yrX7f3SoioSBe0IDFdZC/Yxsx0XCciCJIgZHdbhT+4x9sojhMT31uNFxA8dO9uKt032IG3ZqfP0T1WgLh7BpVQ3ENFvyTG8x1lQZ/gJWMS7Fz3R6zvG7H0HRz5mIiEoTQy0RZaShOoDRcT21YgQk+3/WVwcKOCu610L7jBKWg7hhI25acB0PdyYNqPessCZsFzWVGq7fHEN7JIqTlwZSgVeWROzatBQHwiE01pWlfU5JBIL+5BZjWSp8FeNS/Eyn53yvYp8zERGVpsL/piaiknJo3xrYdrL353QPUNv2cGjfmkJPjaYslM/ING0M3zEwNKYjZljwPODndjXDcTyYlpN6bXHDxnjMxL//b53ovNgP1/NQEfThxedX4Zu//Sz+2ac2pBVoBQA+WUJVuYr6JUGUB9WiCLRAaX6m03NO2G7JzJmIiEoTV2qJKCOtGxqAQ1tw+NgVDIzEUc+KpkWnlD8jz/OgmzZiug3LdvBgIeOW1bV46SDwk/du4NbQJBKWC9txU215murL0BZuRuuGhrSLOOW7ivFclOJnOj3n//dHpzCp2yUxZyIiKk3F+dubiIpa64YGfjEtcqX2GTmuh7hhIa5bsN1H9+QZHI3j/LVh9A5MwEw4qfGgpkAUAU2VUR5IrypxvqoYZ6sVT6l9pkByzkK8Djt37iz0VIiIaAFjqCUiooKxbBdxw4JuWHAekWU9z8OV6B38LBLF2Y8GU6u3qiLhyRVV6L09AZ9Pgk8WMR4z8dqRy3jpYHJVdyaKJCKoyfCrCqQcVzEuxVY8REREpYahloiI8s5I2NANG3rChveIMGs7Lrou9qM9EkVP/0RqfEmFiv07Q3h263K8evgcfD4pVThKVSSYcHDkRM99oVYQAFWWp8Js/n71lWIrHiIiolLDUEtERHkxfb9sXLeRmOF+2WmT8QTePN2H4yd7MTaZSI2vXF6BtnAztq+rgyQmtwsPjekIqvf3mr23xY8oJLcYBzQZipxeT9psKsVWPERERKWGoZaIiHLKcVzETfux98veGoqho7MH73ffhmW7AABRELB9XR3aws1Y1Vj50HNqKzWMPdDix/U8PLG8AhVBHwL+3G8xnk0ptuIhIiIqNQy1RESUE5btIK5P9Zed5X7ZC9dH0B7pwYXrI6lxTZXx3Lbl2L8jhOpK/yPPcXBXM147chkmHJRrChRFhCCI+PRzq1Ae8GX7JWXs0L41ePXwWRiwk1ujLYdtbYiIiLKMoZaIiLLKNG3EDBuG9ej7ZROWgxPnb6OjM4pbQ7HUeN0SDQdaQ9i9edl9q5uP0rK6Fr/ygogTF25jdMxAQPPhF55diR3ri+N+1VJsxUNERFRqGGqJiGjePM+b2mKcvF8WALqvDuHIiR4MjemordRwcFczQg3lOHayF2+e6kNMt1LPX9e8BG3hEFrW1EIU0tsuLIlA0K9g744mtIWb055rtlrspKsUW/EQERGVEoZaIiKaM8dJtuSJG/Z998t2Xx3Ca0cuQ5IEBFUJQ3fi+M8/OAfL9uBOLd/KkoDwxqU40BpCqKE87XNOt+TRVAVihvfLssUOERHRwsNQS0REGUtYDuKGDf0R98seOdEDUQQcx8PAhA7TclN/Vx5QsGd7E/Zsb0RlmZrW+bLVkoctdoiIiBYehloiIkqfKGPojp5syfOI+2UN00bvwATMhAPnnsSrSAJ8Pgnf/O1n026vIwpAwK8g4M9OSx622CEiIlp4GGqJiGhWrushblqI6zZGxg0stZwZHzd0R8exrl68fbYPhnn3MX6fhIqAAghAVbmWVjhVJBGBqS3G2WzJwxY7RERECw9DLRERzciyXeiGhbhpwZnaPew+sNfY8zxc7RtDRySKUx8OpFZvZUmAPHXva0CVkbBdOI6Hg7seXdApW1uMZ8MWO0RERAsPQy0R0ZRsVsXNd4XdbDJNG3HThp54dEsex3Fx8vIAfhaJ4sat8dR4VbmKfTua8Py2Rly/OYYjJ3owPKajZqr6ccvq2oeOle0txrMpthY7pXydEBERFQuGWiIiZLcqbilW2HVdD3oi2ZLHsh08IsvCSLj46fsf41hXL0YnzNT4iqXlaAs3Y+f6ekiSCCDZQ3amEDstV1uMH6dYWuyU4nVCRERUjBhqiYiQ3aq4pVRh13aSW4xjxt0txjO5PRxDR2cU754dhO0MAkhuF972ZB3aws1Y3VgJIY3+sgIAnyIltxj75LSes1CV0nVCRERUzBhqiYiQ3aq4pVBh10jY0I3Ztxh7nodLN0bRHulB99Xh1LjfJ+HZrcuxf2cItVVaWucTBUBTk1uMfUputxiXilK4ToiIiEoBQy0REbJbFbdYK+x6ngfdTG4xTsyyxdiyHXxwvh8dnVH0DU6mxmsr/VjfKOMzP78TWpqFnGRRQMAvI+BXUtuSKalYrxMiIqJSw1BLRITsVsUttgq7juMibliIGzZs91FRFhiPmTh+sg9vnurFRNxKja9pqkJbOISta+tw4cL5xwZaAYAiSwhMVT5ezFuMZ1Ns1wkREVGpKkio7ejowH/8j/8R8Xgczz33HF555RW8++67+JM/+ROYpokXXngBL7/8ciGmRkSLVDar4hZLhV3TcpJbjE0Ls2RZ9PZPoL0zisiF27Cd5ANFUUDrhga0hUNYsbQirfMJAuBXZAT9MtQcteRZSIrlOiEiIip1ef/WEY1G8bWvfQ1/93d/h5qaGvzqr/4qjh8/jq997Wv47ne/i2XLluFLX/oSjh8/jr179+Z7ekSUZ8XU0iSbVXGzdazp96fn9jhsx4MiiQgtLX/k++R5HoyEjZhuI2E9eoux63novjKE9s4oLt8YTY0H/TKe396EvTsasaTcn9YcRQEIqAoCWu5b8iw0xVKJmYiIqJTlPdT+4z/+Iz71qU9h6dKlAIBvf/vbuHHjBlasWIFQKAQAePHFF/HGG28w1BItcGxpMrvp98dyHMR0Cx4AwwNuDk4+9D45jou4aSOuW7NuMTYSNt4/dwsdnVEMjOqp8aU1ARxoDeHplmVpF3KSRQEBTUneL5vHljxERERE98p7qL1x4wYURcGv//qvY3BwEPv378fatWtRV1eXekx9fT36+/vzPTUiyjO2NJnd9PszFrMhQIAkCnA9D3HDRk2lih+/cx1b1tQinsYW45FxA8e6evH26T7ETTs1vnFlNQ60hrBxVQ3ENO59lSQRqiwhGGBLHiIiIioOeQ+1juOgs7MT3/3udxEIBPDbv/3b0LSHW0Jk+kWpu7s7W1MsaV1dXYWeApWYQl4z0Vuj8PsExOxEaszzPERvGbyWcff9SVgOBACuK0AQPCiShIqAiOHRCbz5XhecWRrM9o9aOH09hiu3zFTrHkkE1jVq2LoqgJpyGdBv48L527PORZYlBP0Kqsv9iH58Ca47S1Nbogfw/2fKFK8ZygSvF8p7qK2trcXu3btRXV0NAGhra8Mbb7wBSbq73W1gYAD19fUZHbelpQWqqmZ1rqWmq6sLO3fuLPQ0qIQU+poJffDOQy1NjISNUI3Gaxl33x+f4gEeUBZQoPpkJGwHYzEHQU3Fhg0bH3qe47o4/eEg2iNRXOsbS41XBH3Yu6MJe7Y3ojzgS2sOD7bk6erqwg5+NpSBQv+codLDa4YywetlcTBNc9ZFzLw3Ddy/fz/efvttjI+Pw3EcvPXWW/jkJz+J69ev48aNG3AcBz/+8Y+xZ8+efE+NiPLs0L41sO1kYaPpAkdsaXLXoX1rIELA8toAqitVJGwHt4cmkUg4MBMuDu5qvu/xumHjH0/cwL/7v9/Df/5BdyrQhhrK8Wu/sBF//C+exf/27MrHBloBgE+WsKRcRX11AOVBlT1miYiIqGjlfaV269at+Of//J/j85//PCzLwrPPPovPfe5zWLVqFX7nd34Hpmli7969+OQnP5nvqRFRnrGlyexaVtfgl1/YgP/1znX0j47BcTxofgX11UEc3NWMltW1AIDB0Tg6OqN499wtmAkHQDKYbl5Ti0881Yy1oaq0bukQBEDzydD88n2r50RERETFrCDfWj772c/is5/97H1ju3fvxg9/+MNCTIeICogtTe6XaskTt5GwHaxYVoHf/uzWGR/3Yc8o2iM9OPvRUKp1j+qT8MzmZdjfGkL9kkBa55QEQPMnqxgr8v0rsg+2XNrc5OHeXV7zbcmU6fPner5iah1FRERE2cV/iiciKgKu6yFuWojrNqxZCj/ZjovOC/1o74wi2j+RGq+u8GP/ziY8u3U5An4lrXMqkoiAJkNTZ27JM1PLpZ9EDKxd04/WDQ3zbsmU6fPnej62jiIiIlrYGGqJiArIdlzEdQtx08IsWRaT8QTePNWHYyd7MR67Wy16VWMl2sIhbHuyDpL4+PteBQA+RUJQe3xLnplaLukGUi2X5tuSKdPnz/V8bB1FRES0sDHUEhEVQMJyENMt6Ak71WpnJjcHJ9HeGcUH52/DspOpVxQE7Fhfj7ZwCCuXV6Z1vun7ZQOaAlWRHv8EAP0jcZRr9/+aUCQBAyPxR/69qkipv5/L8Wd7/lzPN995EhERUXFjqCUiyiPdtBDTbSQsB4/Ksq7n4cK1YbRHorj48UhqPKDKeH57I/buaEJ1hT+t80kCEPAr0Ga4X/ZxGqoDD7VcshwPy+sDj/x703JQX53evbyZPn+u55vvPImIiKi4sUcDEVGOua6HmGFhYCSOkXET5iMCbcJy8OapXvzhf3kf//HvzqQCbf0SDS8dXIc/+fJz+N/3rUkr0CqSiMoyH+qqg6goUzMOtMDMLZdcB6mWS/NtyZTp8+d6PraOIiIiWti4UktEM2K12Pk7eakfR070oHdwApqq4BPhUKoNz71GJwwcP9mHt071ImbYqfGm+jK4ngfdtHHy0gBqK/0zPn/adH/ZYODx98umY6aWS3s2+lPXwXxbMmX6/Lmej62jiIiIFjaGWiJ6CKvFzo9p2ui6PIC//slFWLYDRRYxOq7jtSOX8dJBpILpjdvjaI9E0XmxH66bXLuVJQFPbVyK5qXl+NkHPZAkAWV+GWOTxkPPnzaX+2XT9WDLpa6urln/fr7Hz/bj5/s8IiIiKn4MtUT0EFaLzZzreqn7ZW3HxfePXkHCdlIhU1UkmHDw0/dvwLJdtEeiuNJ7J/X88oCCPdubsHdHIyqCKv6v/34SkiQ89PwjJ3pSoVYSgeDU/bKyxLtJiIiIaHFiqCWih7BabPos24VuPNySZ2hMR1C9u2rquh7MhIOro2P4KHonNd5YV4a2cAjhjQ1QZOmRzwcAnyxiImbCJ0vJ/rI+GeIM/WWJiIiIFhOGWiJ6CKvFPp6RsKEb9iNb8tRWahibNCCJAibiFiZ1677HbV5di7ZwCOtWLJnx3tfp50+v1Pp9EmRZRHWFhrolWq5eFhEREVHJ4X41InoIq8XOzPOSW4yHRnWMjBmImzMHWs/z0LK6GqPjJm4OxTERvxtoN6+uwdd/cze+/Etbsf6J6kcWczq4qxmu40GSBNRW+aEoIibjFtrCzTl8hURERESlhyu1RPQQVou9nzN1v2xct2Hdu8f4AbbjouvSADoiPbhxeyI1LgpAdaWGX9y7Cq0blqZ1zq1ra1FVpqK9swc9tydRXenHF19ct2g/AyIiIqJHYaglohkVulpsMbQUSt0va1hwZmosO2VSt/D26T4c7erF2KSZGn9iWQXawiHsWFcPSRLRfXUI/9d/P4mhMR21lRoO7mp+qJKxIokIaDICqoKlNWXY1bIsVy+PiIiIaEFgqCWiolPolkKmaSNm2DCsmbcXT7s9HEN7JIr3u2/BspMruIIAbF9Xj7bWEFY1Vqa2F3dfHcJrRy5DkgQEVem+Fj2bV9dmtb8sERER0WLCUEtERacQLYUebMnzqCzreR4ufjyC9kgU568Np8b9qoTntjZi/84m1FQ+XMjpyImeh1r0iKqArkv92Luj6b6iXERERESUPn6LIqKik8+WQo9qyfOghOXggwu30RGJ4uZQLDVeW6XhQGsIz2xeBr/66B+p0y16BAEIqDKCmg+O66C3f5KBloiIiGge+E2KiIpOPloKmaaNuPnoljzTxiZNHD/ZizdP9WFSt1Lja0NVaAs3Y8ua2rR6xTYsCcB2HFSVqUjYDibiCcQMC0sq2J6HiIiIaD4Yaomo6BzatwavHj4LAzZURYJpOVlpKeS6HvSEnaxibDuP3GIMAL39E/hZJIrOi7dhT1WJkkQBrRsa0BYOoXlpRVrnFAAosoR/+om1+O4/XMTtkRh8cvZeExEREdFix1BLREUn2y2FbCe5xThmzL7F2PU8nLsyhI5IFJd7RlPjQU3Bnu2N2Lu9CVXlalrnFATAr8gI+mWoqoy6JRoAgW2SiIiIiLKMoZZogSqGljjzkY2WQkbChm48fouxkbDx3rlb6OiMYnBUT40vrQmgLdyMXZuWwjdV4OlxRAEIqAoCmgxFvv85mb6mUv8MiYiIiPKBoZZoASp0S5xCymSL8ciYgaMno3jn9E3ETTs1vnFlNdrCzdi4sjrt9jqyKCDglxHwK5AkcZ6vYnF/hkRERESZYKglWoAK0RKn0NKtYgwA1/rG0B7pwanLg3CnlnAVWcSuTUtxIBzC8tqytM/rkyUENRmamt3+sovxMyQiIiKaC4ZaogUony1xCs0wbcQNG4Y1+xZjx3Vx6vIg2iM9uH5zPDVeWebD3h1N2LOtEWUBX1rnFARAlWWUacn7ZXNhMX2GRERERPPBUEu0AOWjJU4hOa4H3bSSW4wfsywbNyy8feYmjnZFMTpupsZDDeVoC4fQuqEBcprbhUUB0FQFAb+c9j22c7XQP0MiIiKibGGoJVqActUSp9BMy0kWfjItuLPdLAtgYDSOjkgU7527BdNyACTb62xZW4dPhENYE6pKe7uwJAJBv5K1+2XTsVA/QyIiIqJsY6glWoCy3RKnkDzPg24mCz8lHlH4qfvqEI6c6MHgnTiCfgWyJOLGrfHUY1WfhGe3LMf+nU2oW5L+SqciiVP3yyoQxezdL5uOUv0MWbGZiIiI8o2hlmiBykZLnEKybBeGaSFm2HBmWZbtvjqEv/3pJViOC9107ttiXF3hx4HWEJ7dshyaP70fdwKmij8FZPh92S3+lKlS+wxZsZmIiIgKgaGWiIqKadqIpVH4CQDGYwn87ZHLGJ0w79uOrMgiaqs0vPJ/PAVJTG+7sCAAfkVGQJPvu4+V0seKzURERFQI/OZGRAXnThV+iqVR+AkA+gYn0RGJ4sT527DveXzAL6M8oMAni4ibTlqBdrr4U1CToci5Lf600LFiMxERERUCQy0RFUwmvWVdz8P5a8Noj0Rx6eOR1LgoCvD7JFSV+VJVjE3LQU2lNuvxClH8aaFjxWYiIiIqBIZaIso707QRN23oicdvMTYTDk6cv4X2SBT996z4NVQHcKA1hIqggu93XIHjepBEDwnbheN4OLirecbjKZKIgCYjUIDiTwsdKzYTERFRITDUElFeuK4HPZGsYmw9oorxvUYnDBzr6sVbp/sQN+zU+PonqtEWDmHTqhqIU0WcFFnCkRM9GB7TUVOp4eCuZrSsrk09R5h6TLKScWGLPy1kpVqxmYiIiEobQy1REZhPG5Rct1CZ7/FtJ7nFOGY8fosxANy4NY6fRXrQdWkA7lT1J1kS8dSmBrS1NqOxvuyh57Ssrr0vxE4TBECVZZRpMlSVP+7yodQqNhMREVHp47c8ogKbTxuUXLdQmc/xjYQN3Uhvi7Hrejj94SDaO3twtXcsNV4eULBvRxOe396EiqAv7XkLAhBQFQT8MnwKiz8RERERLWQMtUQFNp82KLluoZLp8TPdYqybNt45cxNHu6IYHjNS4411ZWgLhxDeuBSKnH4RJ0kAAn4FAU1JFY0iIiIiooWNoZaowObTBiXXLVTSPX6mW4wH7+g42hnFu2dvwkg4AJL3vW5eU4sDrSGsW7Eko/teZVFAQJuqZMziT0RERESLCkMtUYHNpw1KrluoPO74mWwx9jwPV3rvoD0SxZmPBlOP9ykidm9ejgOtITRkOG8fiz8RERERLXoMtUQFNp82KLluofLg8S3bhSpLOLRvNQZH9bS2GNuOi66L/WjvjKLn9kRqfEm5in07Q3hu23IE/UracxIA+BQJZZoCP4s/ERERES16/EZINA/ZqDw8nzYouW6hMn38H751DZNxE6GlFXh601Isqy1DwnZmfe6kbuGtU304drIXY5Nmanzl8gq0hZux/ck6SBnc9yoIgOaTEdAUqCz+RERERERTGGqJ5iiblYfn0wYl1y1UWlbXYHVjZVpbjAHg1lAMHZ1RvN99C5advMFWEIDt6+rxiXAzVjVWZnR+Fn8iIiIiotkw1BLNUa4rDxdSplWMPc/DxY9H0B6J4vy14dS4X5Xw3NZG7N/ZhJpKLaM5sPgTEREREaWDoZZojnJdebgQLDtZxThuplfFOGE5+ODCbXREorg5FEuN11VpONAawu7NyzK+75XFn4iIiIgoEwy1RHOU68rD+WSaNuJmelWMAWBs0sTxk71481QfJnUrNb42VIW2cDO2rKmFmMHqqiAAqiwjqMks/kREREREGeG3R6I5ynXl4VxzXQ+eoGBgJA4rnWVZANH+CbRHehC50A/HTaZfSRTQuqEBbeFmNC8tz2gO08WfgpoCH4s/EREREdEcMNQSzVGuKw/nyr1bjEfG41j2mEDruh7OXhlCe6QHH0XvpMbLNAV7tjdi744mVJapGc2BxZ+IiIiIKFsYamlRyUYLnnvluvJwNpmmjZhhw7DubjH2PKD76hCOnOjB0JiO2koNB3c1o2V1LYyEjffO3kJHVxSDo3rqOMtqg2gLh/DUxqUZr67mqvhTtj9XIiIiIiodDLW0aGSzBU+pcF0PumkhptszbjH+eMDE+5cvQ5IEBFUJY5MG/uaNS3hiWQUu3RiFbtqpx25aVYO2cAgbnqjOuIBTLos/LcbPlYiIiIjuYqilRWMht+B5kGU70A37sVWMT12NQZLk5D3BCQcTcQtx08boxCAAQJFFPN2yFAdam7GsNpjRHPJV/Gkxfa5ERERE9DCGWlo0FmILnnt5ngcjYSOm20jYTnpVjGM2VJ+I0QkTCetu+hUE4NPPr8bz2xtRpikZzUMQgICqIOCX81L8aaF/rkREREQ0O4ZaWjQWUguee90t/GSnKhI/Tsyw8Pbpm9ATHiYNMzXuk0X4VQkN1UG88MwTGc1DEoGgX4Hmz2/xp4X6uRIRERFRehhqadEo9RY895pelY3rDkw7vd6yQHJVs6OzB++du3XfyqyqiKgM+gABcF3g559ekfZcFElEQJMRUJWMetNmy0L6XImIiIgocwy1tGiUagueezmOi7hhIW7YsNNclfU8D5dvjKI9EsW5q0Opcb9PwrpGFVvWN+PE+X4Mj+moqbhb/Xg2AgBFllAWkOH3Zb/4UyYWwudKRERERHPHUEslIdOWLY96fCm14AGSr+N/vXsdk/EEllT4sWvjUqx/ojqt51q2g8iFfrRHougbnEyN11T6sX9nCM9uXY6rH11CS0sjnt3amNYxBQHwKzKCfhlqBsWfct1yp9Q+11I0/RlGb40i9ME7/IcDIiIiKhoMtVT0Mm3ZslBavJy63I/vtX8Ix3Vh2Q6u9d7BRzdG8dLBdbOupI7HTLx5qg/HT/ZiIm6lxtc0VaIt3Iyta+sy3iY8n+JPC+XzWMzu/Qz9PoGfIRERERUVhloqepm2bCn1Fi+Wndxi/PfHrmJ0wkgVXVIVCSYcHDnRM2Oo7RuYRHukBx9cuA3bSW5NFkUBO9fX4xPhZqxYVpHxXCRxKsxqcy/+VOqfB93/GcbsBD9DIiIiKioMtVT0Mm3ZUqotXgzTRtywYVjJwk83+icQVO9fFfXJIobH9NSfXc/D+avDaI/04NKN0dR40C/juW2N2LezCUvK/RnPRRYFBAMKNFWBNM/iT6X6edBd/AyJiIiomDHUUtHLtGVLKbV4cV0PumkhptuwHPe+v6ut1DA2aUC9Z7tvwnZRU6nBTDh4r/sWjnZG0X9PsGioDqAtHMLTLcvm1CPWJ0sIajI0NXvFn0rp86CZ8TMkIiKiYlaQUPuFL3wBw8PDkOXk6f/wD/8QPT09+E//6T/Bsiz82q/9Gn75l3+5EFOjIpRpy5ZSaPEyvcVYNy08kGVTDu5qxmtHLsOEA58sImG7SFguyjQZ/+dfvI24Yaceu+GJarSFQ9i4qgZihmFUEABVlhHUZPgzKP6UrlL4PGh2936G0+2k+BkSERFRsch7qPU8D9euXcOxY8dSoba/vx8vv/wyDh8+DJ/Ph5deegm7du3CmjX8wkSZt2wp5hYvD24xnk3L6lq8dBA4cqIHt4dj8DwPk7qFk5cHAQCyJGLXpqU4EA6hsa4s47kIAlBZ5kdtpTanVd10FfPnca9cV2guZfd+htFbBkI1Gt8fIiIiKhp5D7XXrl2DIAj4jd/4DQwPD+Of/tN/imAwiKeffhpVVVUAgJ//+Z/HG2+8gX/5L/9lvqdHRSrTli3F1OJlti3Gs3FcN7mq6bgYjyVS4xVBH/buaMLz2xpREfRlPJ97iz/d7nFzGminFdPnMRNWaH686c+wq6sLO3fuLPR0iIiIiFLyHmrHx8exe/du/MEf/AEMw8AXvvAFvPDCC6irq0s9pr6+HmfPns331IiyKp0txjPRDRtvn+nD0a5ejIwbqfGm+jK0hZvRuqEBipx5JWJFEhHQ5PuKP3mPWy5eJFihmYiIiKh05T3Ubt++Hdu3bwcABAIBfPazn8Wf/Mmf4Ld+67fue1ymRWq6u7uzNsdS1tXVVegpLGqSJMHxBJiWC92wYTtO2s8di9k4cz2Oi1EDlnM3bK5sULF1ZQCNNQoEYRiXLw2nfUxRFOH3JQs/SYID1304XfOaAaK3RuH3CYjZd1fEPc9D9JbB92cGfE8oU7xmKFO8ZigTvF4o76G2s7MTlmVh9+7dAJJfHBsbGzE0NJR6zMDAAOrr6zM6bktLC1RVzepcSw23BRbOXLcYe56Hj6J30B7pwdmPhjEdZVVFwu7Ny7C/NYSGOVSYFQRAVWSU+WWosxR/4jWTFPrgnYeq+xoJG6Eaje/PA3jNUKZ4zVCmeM1QJni9LA6mac66iJn3UDsxMYHvfOc7eO2112BZFv7+7/8ef/Znf4avfOUrGBkZgaZpOHLkCP7oj/4o31MjythctxjbjovOi/1oj0QR7Z9IjVdX+LFvZxOe3bocQb+S8XwEAdB8MoKakpd7ZRcKVmgmIiIiKl15D7X79+/HmTNn8Iu/+ItwXRef//znsXPnTrz88sv4whe+AMuy8NnPfhZbtmzJ99SI0pZJFeN7TcYTePNUH46d7L2v+NPK5RVoCzdj+7o6SGLm98sKAhBUFQQ0GYrMMJupUqnQTEREREQPK0if2t/93d/F7/7u79439uKLL+LFF18sxHSogEqpjYrjejDmsMUYAG4OTaIjEsWJ87dh2cnnioKA7evq0BZuxqrGylmf3311CEdO9GBoTEdtpYaDu5rRsroWogAE/clKxrKUeRhe7Erp+iMiIiKimRUk1BIBpdNGxbIdxA0bumHByWBV1vM8XLg+gvZIDy5cH0mNa6qM57Ytx/4dIVRX+h97nO6rQ3jtyGVIkoCgKmEiZuJ/vX0NS8pV7FzfAIlhdk5K5fojIiIiotkx1FLBFHsblbluMU5YDk6cv432SA9uD8dT43VLNBxoDWH35mX3FSR6nCMneiBJAgKqjGDAB80nYTxm4odvXcNTm5Zl8pLoHsV+/RERERFRehhqqWD6R+Io1+6/BFVFwsBI/BHPyL25VjEGgLFJE8dO9uLNU32I6VZqfF3zErSFQ2hZUwsxw1ZV08etX6IlQ1fCxp1JE67r3ReYKXPFeP0RERERUeYYaqlgGqoDD7VRMS0H9XNoYTNflu1CNyzEM6xiDAA9t8fRHomi82I/HDe5pCtLAlo3LEVbOIRQQ/mc5iQA8CkS1oQqMTASh27e7XlbqPdpISmm64+IiIiI5o6hlgqmGNqomKaN2By2GLuuh7NXhtAe6cFH0Tup8fKAgj3bm7BneyMqy+bWN3m6LY/ml+H3yfhEeEXq3k+2m8meYrj+iIiIiGj+GGqpYArVRmU+VYwN08Y7Z2/iaFcvhu7oqfHldUG0tTbjqU0Nc26pIwpAYIa2PGw3kxt8X4mIiIgWBoZaKqjWDQ15CxHTVYzjhgU3g1VZABi6o+NYVy/ePtsH455twC2ra9AWbsb6FUsgzOF+WQCQxKm2PH7lkZWM8/k+zWahtcBJ532d6TUDyUJT0dsTsBwXsiSgeWlFyb8fRERERKWIoZYWNM/zYCRsxHUHpp3ZFmPP83C1bwwdkShOfTiQeq4ii9i9eRkOtIawtCY457nJooBgQIGmKpDEuQXifFqMLXBmes3/39dOQhAEiKKAiXgCEJL3P98cnFjw7wcRERFRMWKopQXJcT3EDQu6kfkWY8dxcfLyAH4WieLGrfHUeFW5in07mvD8tkYENWXOc/PJEoKaDE2V57y6WwiLsQXOTK95cFQHkAy1oihAFAS4roe4YaOmUl7Q7wcRERFRMWKopQXFsh3EdRtxM/MtxjHdwttn+nCsqxejE2ZqfMXScrSFm7Fzff0jtwc/znQl4zJNgV8tzf/tFmMLnJles+N68DwPgitg+nIQhGQF7YX+fhAREREVo9L8dk10j/lsMQaA28MxdHRG8X73LSSs5KquIADbnqxDW7gZqxsr57yiKgjJ1b3AVCXjUrYYW+DM9JqTW8WTq7S240IUAM9Lbktf6O8HERERUTEq7W/ZtKg5rgfdtBCfQxVjz/Nw+cYo2iM9OHd1ODXu90l4duty7N8ZQm2VNue5CVOVjIMPVDIuZYuxBc5Mr3l627goCrgzYcIVPAgAAn5lwb8fRERERMWIoZaK2oOVZz97YC1aVtVAN+a2xdiyHXxwvh8dnVH0DU6mxmsr/djfGsIzW5ZDm8f2YFGYqmSsKZDnuFW5WC3GFjgzveZf//RmAMn7bR3HS1U/Xl5XvuDfDyIiIqJixFBLRWu68qxPEdGwxA8BHv7mHy7ghWdXYsPKmoyONR4zcfxkH9481YuJuJUaX9NUhbZwCFvX1kGcRwViWRQQ8MsIaL6SqGQ8V8XSWiifHvWaF9v7QERERFSsGGqpaP3o7WuorlQRVBXEExbicQtx08ZP3ruRdqjt7Z9Ae2cUkQu3YTvJZV1RFBDe0IAD4RBWLK2Y1xwVSZyqZKzMKxQTEREREdHcMNRSUTJMG5N6Ap7jYiBuYXqXsU8WMTymz/pc1/PQfWUI7Z1RXL4xmhoP+mU8v70J+3Y0oapcnfPcBEy15Qkkiz+VUlseIiIiIqKFhqGWiobjuIib9t3esp6A8bgFVblbaClhu6ipnLmAk5lw8N65m+jojGJg9G7wXVoTwIHWEJ5uWQafMveiTYIA+BUZQb8MtUTb8hARERERLTT8Zk4FZyRsGKYD/YHCTwd3NeO1I5dhwoFPFpGwXTiOh4O7mu97/si4gWNdvXj7dB/ipp0a37iyGm3hZmxYWQ1xHqup05WMA355XqGYiIiIiIiyj6GWCsJxPRimhbjhwLIdzFTEuGV1LV46CBw50YPhMR01lRoO7mpGy+paAMD1m2Noj/Tg5KVBuFPNaWVJxK6WpWhrDWF5Xdm85ihOh1lNgSIvrErGREREREQLBUMt5ZVlO4gbNnTDgpNGO56W1bWpEAsAjuui82KyJc+1vrHUeEXQh307mvD89kaUB3zzmqMkJHuOBjUF0gJryzMXD7ZVYtua9PB9IyIiIsoPhlrKOc/zYCRsxHQbCduBl2FvWQCIGxbePnMTx7p6MTJupMZD9WVoCzdj54aGea+mSuJ0j9mF3ZYnE9NtlWRZQLkmY3Rcx6uHzwKHtjCgzYLvGxEREVH+MNRSzjiOi7hhIW7YsN05JFkAA6NxdESieO/cLZiWAyBZfXjL2lq0hZuxNlQ17+rDiiQioMkIsC3PQw4fuwJZFuD3JX9U+H0yDNg4fOwKw9ks+L4RERER5Q9DLWWdkUhWMNYT9pxWZT3Pw4c9d9Ae6cG5K0Op+21Vn4RnNi/D/tYQ6pcE5jVHtuVJT/9IHOXa/T8mVEXCwEi8QDMqDXzfiIiIiPKHoZaywnU96Akbcd1+ZOGnx7HsqftlIz2IDkymxqsr/Ni/swnPbl2OgF+Z1zyn2/IENDm1ikaP1lAdwOi4ft97ZVoO6qvn948KCx3fNyIiIqL84bd6mpdU4SfTguPO7RgT8QTePNWH4yd7MR5LpMZXNVaiLRzCtifrIInzu1/2biVjGYrMtjzpOrRvDV49fBYGbKiKBNNyYNseDu1bU+ipFTW+b0RERET5w1BLGZsu/BTXHZj23LYYA8DNwUm0d0bxwfnbsOxkIhYFATvW16MtHMLK5ZXznqssCgj4ZQT8rGQ8F60bGoBDW3D42BUMjMRRzyq+aXnc+8bKyERERETZw1BLactG4SfX83Dh2jDaI1Fc/HgkNR5QZTy3rRH7djahusI/77kqkoigJkNj8ad5a93QwMA1B49631gZmYiIiCi7GGrpsUzTRtyce+EnAEhYDt7vvoWOzihuD98tllO/RMOB1hCe3rwsK/e4+mRpKsyy+BMVJ1ZGJiIiIsouhlqakeN60E0Lcd2G7bhzKvwEAKMTBo6f7MVbp/oQM+zU+LoVS9AWbkbL6hqI8wyfAgCfIqVWZomKGSsjExEREWUXQy3dx7ScZDse08IcdxgDAG7cHkd7JIrOi/1wpw4kSwKe2rgUB1pDaGoon/dcWcmYShErIxMRERFlF5MAZaUdz/Rxznw0iPZIFFd676TGywMK9mxvwt4djagIqvOeryAAmk9GUFPgU1jJmEoLKyMTERERZRdD7SKWjXY8AKCbNt49exNHO6MYGjNS4411ZWgLhxDe2JCVNjp32/IoUGRWMqbSxIrSRERERNnFULvITLfj6bo0gH9452P0DU2itlLDwV3NaFldm9Gxhu7o6OiM4t2zN2EknNT45tU1aAs3Y92KJVkp1iQKQNCfDLMy2/LQAsCK0kRERETZw1C7SFi2C8NMtuM5c2UQf/vTy5AkAUFVwtikgdeOXMZLB/HYYOt5Hq703kF7JIozHw2mqiH7FBG7Ny/DgdZmNGTp3kBJnA6zPkhsy0NERERERDNgqF3ApldldcOBYd1tx/PT93sgSQLUqftRVUWCCQdHTvQ8MtTajouuSwNoj/Sg5/ZEaryqXMX+nU14bmsjglp2Kg/LooBgQEGAPWaJiIiIiOgxGGoXINtxoRvJVVl7hhLGQ2M6gur997j6ZBHDY/pDj53ULbx1qg/HTvZibNJMjT+xrAJt4RB2rKuHlKUtwbIooCygQGOYJSIiIiKiNDHULiSijNFxA3ri7qrsTGorNYxNGqmVWgBI2C5qKrXUn28Px9AeieL97luw7GQVKUEAtj9Zj7ZwCKsaK7NyvywAKJKIoCYj4FeydkwiIiIiIlocGGpLnOO4iJs2dMPGyLiBpab92Occ3NWM145chgkHPllEwnbhOB5+7qkQLlwfRnskivPXhlOP96sSntvaiH07mlBbpc1y5Mwokji1zVhmmCUiIiIiojlhqC1RyXtlbRgJG9M7jN0ZthrPpGV1LV46CBw50YPhMR1LKvwI1Zfh749dxc2hWOpxtVUaDrSG8MzmZfCr2btUFEmc2mbMMEtERERERPPDUFvEOi/24/CxK+gfiaNcU6D6RHgQUKYpeGbzMmxYWTPnY7esrkWooRzHT/bizVN9uBK9k/q7taEqtIWbsWVNbdbubRUA+GQJwYAMTc1OQSkqHfdeyw3sy0pEREREWcRQW6Q6L/bj1cNnEdRkVJf7MB5LYOiODb9PxMiYgOt9Y3jp4LqMe8sCQLR/Au2RKDov3obtJFd3JVFA64YGtIVDaF5akbXXIQBQFRllmgw1i6u9VDqmr2VZFlCuyRgd1/Hq4bPAoS0MtkREREQ0b0wZReon715HfbUGQRDw8c1xxAwL8AAjIaChOvDYFjwPcj0P564MoT3Sgw977qTGg5qCvdsbsXdHEyrL1KzNXxAAzScjoCn3FaSixefwsSuQZQF+X/LHjd8nw4CNw8euMNQSERER0bwx1BaZ6XY8A3d0CJ4Lx0221RHFu38PPLoFz4OMhI33zt1CR2cUg6N3H7+sNogDrSHs2rQUviyGTkEAAqqCoCZDkRlmCVPb5+//UaMqEgZG4gWaEREREREtJAy1RcIwbcQNG4aVbMfjkyWMTVpQFQmyJMJxXcAD5KmesA+24HnQyJiBo11RvH3mJvR7KiJvWlWDtnAIG56ozmqRJkkAAn4FAU1JzZEIABqqAxgd11MrtQBgWg7qqwMFnBURERERLRQMtQV0bzsea2oFdtq9bXfKgwpGxgwAQFXAB9Ny4DgeDu5qfuiY1/rG0B7pwanLg3CnmtUqsoinW5Zif2sIy2vLsvoaZFFAQFMQ8CuQslRUihaWQ/vW4NXDZ2HAhqpIMC0Htu3h0L41hZ4aERERES0ADLUFMFM7ngc92HZnWW0QHgAz4aCyzI+Du5pT99M6rotTlwfxo7dH0H+nP3WMyjIf9u0I4flty1EW8D10ju6rQzhyogdDYzpqK7X7jvk4PllCUJPZloceq3VDA3BoCw4fu4KBkTjqWf2YiIiIiLKIoTZPHNeDYVqIGw4s20E6HWVbVtfOGjLjhoW3z9zE0a4oRsfN1HhzQznawiHs3NDwyK3A3VeH8NqRy5AkAUFVwtikgdeOXMZLB/HIcwoCoMoygpqc1b61tPC1bmhgiCUiIiKinGAyybGE5UA3bMRN65GrspnqH4mjozOK98/dgmk5AJKtc1Y2qPjf2zZhTajqsaunR070QJKEVGViVZEeWVF5uvhTwC9ntagUERERERHRfDHU5oDrejASNuK6jUSaq7KP43kePuy5g/ZID85dGUodU/VJeGbzMhxoDaG/7xrWNi9J63hDYzqC6v0B9cGKyiz+RERERERExY6hNossO9mOJ25aeKDu07yOGblwGx2dUfQOTKbGqyv8ONAawrNblkPzJz/G/r70j1tbqWFs0rivh2zCdlG/JABZFBAMKNBUFn8iIiIiIqLixlCbBQ+248mGiXgCb57qw/GTvRiPJVLjq5sqcaA1hG1P1kES5756em91ZZ+cPE55wId/+om1qK8OsPgTERERERGVBIbaOXJcD7ppIa4/3I5nPvoGJ9ERieLE+duwp44rigJ2rq/HgdYQVi6vzMp5pqsrHz/Zh4Rlo25JAAd3rcD2dfVZOT4REREREVE+MNRmyJwq/KRnsfCT63k4f20Y7ZEoLn08khoP+GU8v60R+3Y0YUmFPzsnmyIIwK5Ny7B/Z4jFn4iIiIiIqGQx1KbB8zzoZnYLPwHJnrMnzt9CeySK/pF4aryhOoADrSE83bIMqi+7gVMSgaBfgeZn8SciIiIiIip9DLWzsJ2pwk+GDTtby7IARicMHOvqxVun+xA37NT4+ieq0RYOYdOqGohZvqdVkUQENBkBVYHI4k9ERERERLRAMNTOwDRtxE0beiJ7hZ8A4Matcfws0oOuSwNwp0KyLIl4alMD2lqb0Vhflr2TTfHJEsoCMvw+mcWfiIiIiIhowWGoneK4HgzTQky3YTtu1rYYu66H0x8Oor2zB1d7x1Lj5QEFe3c0Yc/2JlQEfVk6W5IAwKdIKNMU+FV+xEREREREtHAt+sSTmCr8FM9i4ScA0E0b75y5iaNdUQyPGanxxroytIVDCG9cCkXO7j2tkiQhoMoIaMp9/WeJiIiIiIgWqoKF2n//7/89RkdH8a1vfQsXL17EK6+8gsnJSbS2tuLrX/86ZDl3U3NdD0Yi+4WfAGDwjo6jnVG8e/YmjIQDILlyunlNLQ60hrBuxZKsbwMWBSCgKqgp92W9SjIREREREVExK0iofe+99/D3f//32LdvHwDgK1/5Cr7xjW9g27Zt+OpXv4rXX38dn//857N+Xsu+uyqbxday8DwPV6J30N4ZxZkPB1Mh2aeI2L15OQ60htBQHcjeCaeIQrKScUBLVjJ2XfvxTyIiIiIiIlpA8h5q79y5g29/+9v4rd/6LVy6dAl9fX0wDAPbtm0DABw6dAjf+c53shZqPW96VdaBaWe38JPtuOi62I/2SBQ9/ROp8SXlKvbtDOG5bcsR9CvZO+EUSRQQ9MsIaD5IrGRMRERERESLWN5D7e///u/j5Zdfxq1btwAAAwMDqKurS/19XV0d+vv7530ex3ERz0E7Hvz/27v34Kjqu4/jn7N7Tja7CQQiCaQhXpAHAVH0CWgjl4iUEAkxTKAj0qdqL1zaTi+084xamd6GGRSYxtLaVmcotkqxRCIUygR5uLUQytWCeSSgcg+QhFvIjc3u5jx/UPZpgFiCJMvZfb/+CfxyOOe7me8czie/c85PUn1js/76j0pt2n1ctfXN4fG7PtdVo4fergf7pcjdAWvAWm6XErymvCzLAwAAAACSOjnUFhcXKy0tTVlZWSopKZF0aSb1SjfyzGl5eblcLpda5FJzwFajP6BgMPSZa/5XZ+uC2nOoURXHm8K3LxuGdHcvjx7o41Ov7nFSqEb79tXctGO6XIY8cZYSPKZcRkgtLZ9+3/SuXbtu2rERG+gZtBc9g/aiZ9Be9Azag35Bp4ba1atXq6amRgUFBaqtrVVjY6MMw9Dp06fD29TU1Cg1NbXd++7zH/0VDLkUuMkvfrJtWx8eOqt1O47qw0Nnw+Nej6nhgz+nUZkZSk66+S9nurwsz+WZ2euxa9cuZWZm3vRaEL3oGbQXPYP2omfQXvQM2oN+iQ1+v1/l5eVtfr9TQ+2iRYvCfy4pKdH27ds1Z84cjR8/PtyQy5cv18iRI9u97wsNzTLNm/f8anMgpG3/e0rrdx7TydMN4fGU7l49NiRDWfelKT7u5v/4DEOKt0wleE15OmD/AAAAABBNbonUNH/+fM2aNUsNDQ0aOHCgnn766YjVUlvv18bdx/XX9yvV0BQIj/e7vZtGD71d993do0OeZzUMyRtnKsFrKY41ZgEAAADgukQs1BYWFqqwsFCS1L9/f73zzjuRKkWSdPRUndbtOKqd+6oU+ueLpdwuQ0MH9tLooRnK6NmlQ457eY1Zn9eSZd78l0sBAAAAQDS7JWZqI6Wlxdbej09r3Y6j+ujY+fB4otfSyAfTlf2fvZWU6OmQY1+5xiwAAAAAoP1iMtRe9AdV9sFJbdh5TDXnm8Ljn+uRoMeGZujhe3vJMjvmFmC363KYZY1ZAAAAAPisYirUnj7fpI27jmvz3kpd9P//cj/39rlNo4dmaMCdyTe0nND1MF2GEnyWfKwxCwAAAAA3TdSHWtu2dbCyVut2HNP7B6p1eVlcy3Qp6740jcrMUFqPhA47vuV2KcFryhdvdVhgBgAAAIBYFbWhNhRq0e791Vq345gOn7wQHk9K9GhUZm8NfyBdid6btwTQlSy3S4k+S16PSZgFAAAAgA4SdaG24WJAm/9RqbXbjqr+X5bkSe3u1fjhfZTZP1XuDnwxU5zpVqLPlNfTcYEZAAAAAHBJ1ITa0+ebtGH3J9r6wUk1B1rC416PW/FxboVCLfLFmx0SaA1dDrOW4j1R8yMFAAAAgFte1CSwV5bs1vmGSy9/chlSfJxb3bp4wsvl+AMhvbftqAbd3eOmHdOQFGe51cVryUOYBQAAAIBOF1VJrEdSvEYNydD/7DiqxPjWz7LGmS6dqW36lH99/QxJHstUos+UJy6qfoQAAAAA4ChRk8imjL1Hg/r2kstlaM9Hp1Vbf1Ee6//Xmm0Otui2JO9nOoZhSPGWqQSf1WrfAAAAAIDI6Lg3JnWygX16hNd/zXn4doVCtvyBkGz70tdQyFbOw7ff0L4NQ/J5TPVI8io5KZ5ACwAAAAC3iKgJtf9q0N09NDnnHiUlxqvRH1JSYrwm59zT7udpXYaU6LWU0s2n7l3jFUeYBQAAAIBbStTcfnylQXf3uOGXQrldUkK8JV+81aHL/wAAAAAAPpuoDbU3wnQZSvBZ8nms8K3MAAAAAIBbF6FWkuV2/TPMtn5jMgAAAADg1hazofbyGrMJXlNejxXpcgAAAAAANyDmQq1hSN44U954U/GsMQsAAAAAjhYzqc5lSD6PJZ/XlGXyFmMAAAAAiAZRH2rdhuSLt+TzWjL/+SbjnfuqVLLxY1WdbVTPZJ8KH+2rIQN6RrhSAAAAAEB7Re16NabLUFefpZTkBHVN9LQKtK+V7NW5C03q4jV17kKTXivZq537qiJcMQAAAACgvaIu1Fpul7olximlu09dEjxyX7E0T8nGj2WahuLjLr3pOD7OlGkaKtn4cYQqBgAAAADcqKi5/TjO7VJSF4+8/2ZZnqqzjeribf2xPZZb1WcbO7pEAAAAAMBNFjUztclJ8fLFW/92ndmeyT75A6FWY/5ASKnJvo4sDwAAAADQAaIm1F6vwkf7Khi0dbE5KNu+9DUYtFX4aN9IlwYAAAAAaKeYC7VDBvTU9ML71b2rV/VNQXXv6tX0wvt5+zEAAAAAOFDUPFPbHkMG9CTEAgAAAEAUiLmZWgAAAABA9CDUAgAAAAAci1ALAAAAAHAsQi0AAAAAwLEItQAAAAAAxyLUAgAAAAAci1ALAAAAAHAsQi0AAAAAwLEItQAAAAAAxyLUAgAAAAAci1ALAAAAAHAsQi0AAAAAwLGiJtTOe2uXdu6rinQZAAAAAIBOFDWhtrb+ol4r2UuwBQAAAIAYEjWh1mO5ZZqGSjZ+HOlSAAAAAACdJGpCrXQp2FafbYx0GQAAAACAThJVodYfCCk12RfpMgAAAAAAnSRqQq0/EFIwaKvw0b6RLgUAAAAA0EnMSBdwsyQlxuvJnLs1ZEDPSJcCAAAAAOgkURNq//u/MuXxeCJdBgAAAACgE0XN7ccAAAAAgNhDqAUAAAAAOBahFgAAAADgWIRaAAAAAIBjEWoBAAAAAI5FqAUAAAAAOBahFgAAAADgWIRaAAAAAIBjEWoBAAAAAI5FqAUAAAAAOBahFgAAAADgWBEJtb/4xS80btw45eXladGiRZKksrIy5efnKycnR0VFRZEoCwAAAADgMGZnH3D79u36+9//rj//+c8KBoMaN26csrKy9MMf/lBvvvmm0tLSNH36dG3atEnZ2dmdXR4AAAAAwEE6fab2oYce0h/+8AeZpqkzZ84oFArpwoULuuOOO5SRkSHTNJWfn6/S0tLOLg0AAAAA4DARuf3YsiwtWLBAeXl5ysrKUnV1tVJSUsLfT01NVVVVVSRKAwAAAAA4iGHbth2pgzc1NWnGjBkaOnSoDh8+rPnz50u69HztwoULtXDhwn+7D7/fr/Ly8o4uFQAAAAAQQYMGDZLH47lqvNOfqf3kk0/U3NysAQMGyOv1KicnR6WlpXK73eFtqqurlZqael37u5zJ+/Xrp7i4uA6p2SnKy8s1aNCgSJcBB6Fn0F70DNqLnkF70TNoD/olNjQ3N+vAgQNqaz6200Pt8ePHtWDBAi1ZskSStG7dOk2ePFlz587VkSNH1Lt3b61atUoTJ068rv0FAgFJ0oEDBzqsZidh1hrtRc+gvegZtBc9g/aiZ9Ae9EvsCAQCio+Pv2q800Ntdna29uzZowkTJsjtdisnJ0d5eXlKTk7Wt7/9bfn9fmVnZys3N/e69peQkKB+/frJsiwZhtHB1QMAAAAAOpNt2woEAkpISLjm9yP6TC0AAAAAAJ9FRN5+DAAAAADAzUCoBQAAAAA4FqEWAAAAAOBYhFoAAAAAgGMRagEAAAAAjkWoBQAAAAA4FqEWAAAAAOBYhFoHevnll/X8889Lkvbt26eJEydq7NixevHFFxUMBiVJJ06c0Je+9CXl5ubqG9/4hhoaGiJZMiLk6aefVl5engoKClRQUKA9e/Zo5cqVGjdunMaMGaPFixeHty0rK1N+fr5ycnJUVFQUwaoRSevXr1dhYaFyc3M1e/ZsSW33RlvnH8SO4uLi8PmloKBAmZmZ+tnPfkbP4FOtWLFCeXl5ysvL08svvyyJ6xl8utdff11jx45Vfn6+fvOb30iiZ3AFG45SVlZmP/zww/Zzzz1n27Zt5+Xl2e+//75t27b9wgsv2IsXL7Zt27anTZtmr1q1yrZt2/7Vr35lz507NyL1InJaWlrsYcOG2YFAIDx26tQpe9SoUfa5c+fshoYGOz8/3/7oo4/spqYmOzs72z569KgdCATsr371q/bGjRsjWD0i4ejRo/bw4cPtkydP2s3NzfZTTz1lb9y4sc3eaOv8g9h04MABe8yYMfaJEyfoGbSpsbHRHjp0qH3mzBk7EAjYkyZNsrds2cL1DNq0ZcsWe/z48XZdXZ0dDAbt6dOn22vWrKFn0AoztQ5y/vx5FRUVacaMGZKkyspKXbx4UQ888IAkqbCwUKWlpQoEAtqxY4fGjh3bahyx5eDBgzIMQ1OnTtUTTzyht956S2VlZfr85z+vbt26yefzaezYsSotLdXevXt1xx13KCMjQ6ZpKj8/n56JQWvXrtW4cePUq1cvWZaloqIieb3ea/ZGW+cfxK6f/OQnmjlzpo4dO0bPoE2hUEgtLS1qampSMBhUMBiUaZpcz6BNH374oYYPH67ExES53W6NGDFCb775Jj2DVgi1DvKjH/1IM2fOVNeuXSVJ1dXVSklJCX8/JSVFVVVVOnfunBITE2WaZqtxxJYLFy4oKytLr776qt544w29/fbbOnHiRKueSU1NVVVV1VW9dHkcseXIkSMKhUL62te+pieeeEJ//OMf2+yNts4/iE1lZWW6ePGiHn/8cXoGnyoxMVHf/e539fjjj2vkyJFKT0+XZVlcz6BN9957rzZv3qzz58/L7/dr/fr1Mk2TnkErhFqHKC4uVlpamrKyssJjtm1ftZ1hGG2OI7Y8+OCDmjt3rnw+n5KTkzVp0iQtWLDgqu3oGVwWCoW0detWzZs3T0uXLtUHH3yg48ePX7UdPYMrvf322/rKV74iif+b8OkqKiq0bNkybdiwQZs3b5bL5dKWLVuu2o6ewWVZWVkqLCzUl7/8ZX39619XZmamQqHQVdvRM7HNjHQBuD6rV69WTU2NCgoKVFtbq8bGRhmGodOnT4e3qampUWpqqpKTk1VfX69QKCS32x0eR2zZuXOnAoFA+Bchtm0rPT29Vc9UV1crNTVVPXv2vOY4YkuPHj2UlZWl5ORkSdLo0aNVWloqt9sd3qatnuE8E7uam5u1Y8cOvfTSS5LU5vmEnoEkbd68WVlZWbrtttskXbo9dOHChVzPoE319fUaM2ZM+BdnixYtUnp6unbu3Bnehp4BM7UOsWjRIq1atUorVqzQd77zHT322GOaM2eOPB6Pdu3aJUlavny5Ro4cKcuyNGTIEK1evbrVOGJLXV2d5s6dK7/fr/r6er377ruaN2+etm7dqrNnz6qpqUnvvfeeRo4cqcGDB+vQoUPh209XrVpFz8SgUaNGafPmzbpw4YJCoZD+9re/KTc395q9kZ6efs3zD2LP/v37deedd8rn80lSm+cTegaS1L9/f5WVlamxsVG2bWv9+vV66KGHuJ5Bm44fP65vfetbCgaDqqurU3FxsSZNmkTPoBXDvtY8PW5pJSUl2r59u1566SVVVFRo1qxZamho0MCBAzVnzhzFxcWpsrJSzz//vM6cOaO0tDT9/Oc/V1JSUqRLRyd75ZVXtGbNGrW0tGjKlCl65plntHLlSr322msKBAKaNGmSpk6dKknaunWr5syZI7/fr+zsbL3wwgvcshOD3nnnHb3xxhsKBAIaNmyYZs2apW3btl2zN9o6/yC2rF69WmvXrm21dE9b5xN6BtKl5VlKSkpkWZbuu+8+/fjHP9ahQ4e4nkGbXn31Vf3lL39RKBTSs88+q6eeeoprYLRCqAUAAAAAOBa3HwMAAAAAHItQCwAAAABwLEItAAAAAMCxCLUAAAAAAMci1AIAAAAAHItQCwBAhGzbtk3jx4+PdBkAADgaoRYAAAAA4FhmpAsAACCWNTY2aubMmTp48KD8fr9mz56te+65Rz/96U9VUVEhwzA0YsQIff/735dpmho0aJBGjx6tiooKzZ8/X/v379ef/vQnBQIB1dbWaurUqZoyZYpqamr03HPP6dy5c5Kk7Oxsfe9734vshwUAoAMwUwsAQASdOnVKzz77rFasWKHJkyfrl7/8pWbPnq1u3bpp5cqVWrZsmfbv36/f/e53kqRAIKBRo0ZpzZo16tOnj4qLi/X6669r+fLlKioq0rx58yRJS5cuVe/evfXuu+9q8eLFOnLkiOrq6iL5UQEA6BDM1AIAEEEZGRkaPHiwJKl///5atmyZDhw4oCVLlsgwDMXFxWny5Mn6/e9/r2nTpkmShgwZIklKSEjQb3/7W23atEmHDx9WRUWFGhsbJUkjRozQtGnTdPLkST3yyCP6wQ9+oC5dukTmQwIA0IGYqQUAIIIsywr/2TAM2batlpaWVtu0tLQoGAyG/+7z+SRdmuWdMGGCKisrlZmZ2er24vvvv1/r1q3Tk08+qcrKSn3xi1/U7t27O/bDAAAQAYRaAABuMcOHD9fixYtl27aam5u1dOlSPfLII1dtV15eruTkZH3zm9/UiBEjtGHDBklSKBTS/Pnz9etf/1pf+MIX9OKLL6pv3746fPhwJ38SAAA6HqEWAIBbzKxZs3T27Fnl5+crPz9fd911l2bMmHHVdsOGDVPPnj2Vm5urCRMm6OTJk0pOTtaRI0f0zDPPqKKiQuPHj9fEiRPVu3dvlg8CAEQlw7ZtO9JFAAAAAABwI5ipBQAAAAA4FqEWAAAAAOBYhFoAAAAAgGMRagEAAAAAjkWoBQAAAAA4FqEWAAAAAOBYhFoAAAAAgGMRagEAAAAAjvV/DDMX3w0UQ2cAAAAASUVORK5CYII=\n",
>>>>>>> d6ea45aef3915597f0a9abeaf087f33c6da746ca
      "text/plain": [
       "<Figure size 1152x648 with 1 Axes>"
      ]
     },
     "metadata": {},
     "output_type": "display_data"
    }
   ],
   "source": [
    "sns.regplot(x=\"horas\", y=\"nota\", data=data)"
   ]
  },
  {
   "cell_type": "markdown",
   "metadata": {},
   "source": [
    "Por supuesto, en la vida real no conocemos los verdaderos parámetros del modelo, ¡¡¡ni si el modelo es real!!! Hoy vamos a aprender una [valiosa lección](https://en.wikipedia.org/wiki/All_models_are_wrong):\n",
    "\n",
    "\n",
    "\n",
    "<center> <b>\"Todos los modelos son erróneos, pero algunos son útiles\"</b> </center>\n",
    "\n",
    "\n",
    "En la práctica lo que hacemos es, tras ver un gráfico de dispersión como el de arriba, intentar inferir los parámetros del modelo $\\beta_0$ y la pendiente, $\\beta_1$.  Una vez estimados, el ajuste estimado se convierte en $$ \\hat{Y} = \\hat{beta_0} + \\hat{beta_1} X$$"
   ]
  },
  {
   "cell_type": "code",
<<<<<<< HEAD
   "execution_count": 20,
=======
   "execution_count": 35,
   "id": "thermal-arrest",
>>>>>>> d6ea45aef3915597f0a9abeaf087f33c6da746ca
   "metadata": {},
   "outputs": [],
   "source": [
    "lr = LinearRegression()"
   ]
  },
  {
   "cell_type": "code",
<<<<<<< HEAD
   "execution_count": 21,
=======
   "execution_count": 37,
   "id": "changing-paragraph",
>>>>>>> d6ea45aef3915597f0a9abeaf087f33c6da746ca
   "metadata": {},
   "outputs": [],
   "source": [
    "lr.fit(\n",
    "\n",
    "    X = data[[\"horas\"]],\n",
    "    y = data.nota\n",
    ")\n",
    "beta_1 = lr.coef_[0]\n",
    "beta_0 = lr.intercept_"
   ]
  },
  {
   "cell_type": "code",
<<<<<<< HEAD
   "execution_count": 22,
=======
   "execution_count": 38,
   "id": "color-withdrawal",
>>>>>>> d6ea45aef3915597f0a9abeaf087f33c6da746ca
   "metadata": {},
   "outputs": [
    {
     "data": {
      "text/plain": [
<<<<<<< HEAD
       "0.08424049592644732"
      ]
     },
     "execution_count": 22,
=======
       "0.09353642566682754"
      ]
     },
     "execution_count": 38,
>>>>>>> d6ea45aef3915597f0a9abeaf087f33c6da746ca
     "metadata": {},
     "output_type": "execute_result"
    }
   ],
   "source": [
    "beta_1"
   ]
  },
  {
   "cell_type": "code",
<<<<<<< HEAD
   "execution_count": 23,
=======
   "execution_count": 39,
   "id": "graphic-attitude",
>>>>>>> d6ea45aef3915597f0a9abeaf087f33c6da746ca
   "metadata": {},
   "outputs": [
    {
     "data": {
      "text/plain": [
<<<<<<< HEAD
       "11.862518726103282"
      ]
     },
     "execution_count": 23,
=======
       "4.8576094837686625"
      ]
     },
     "execution_count": 39,
>>>>>>> d6ea45aef3915597f0a9abeaf087f33c6da746ca
     "metadata": {},
     "output_type": "execute_result"
    }
   ],
   "source": [
    "beta_0"
   ]
  },
  {
   "cell_type": "code",
<<<<<<< HEAD
   "execution_count": 24,
=======
   "execution_count": 40,
   "id": "random-bottom",
>>>>>>> d6ea45aef3915597f0a9abeaf087f33c6da746ca
   "metadata": {},
   "outputs": [
    {
     "data": {
      "text/plain": [
       "<function matplotlib.pyplot.show(close=None, block=None)>"
      ]
     },
<<<<<<< HEAD
     "execution_count": 24,
=======
     "execution_count": 40,
>>>>>>> d6ea45aef3915597f0a9abeaf087f33c6da746ca
     "metadata": {},
     "output_type": "execute_result"
    },
    {
     "data": {
<<<<<<< HEAD
      "image/png": "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\n",
=======
      "image/png": "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\n",
>>>>>>> d6ea45aef3915597f0a9abeaf087f33c6da746ca
      "text/plain": [
       "<Figure size 1152x648 with 1 Axes>"
      ]
     },
     "metadata": {},
     "output_type": "display_data"
    }
   ],
   "source": [
    "# Vamos a pintar la línea de regresión con el residuo\n",
    "y_hat = beta_0 + beta_1 * X #Línea de regresión\n",
    "plt.scatter(X,y) # pintar los puntos\n",
    "plt.plot(X, y_hat, lw=2) # pintamos la línea de regresión\n",
    "plt.vlines(X, y_hat, y, lw = 0.4) # pintamos las líneas que van desde los puntos a la línea\n",
    "plt.xlabel(\"horas\")\n",
    "plt.ylabel(\"nota\")\n",
    "plt.show"
   ]
  },
  {
   "cell_type": "markdown",
   "metadata": {},
   "source": [
    "## ¿Cómo de bueno es nuestro modelo?"
   ]
  },
  {
   "cell_type": "markdown",
   "metadata": {},
   "source": [
    "La diferencia numérica entre la *línea de regresión de mínimos cuadrados* y el valor real se llama *residuo* , y representa el error en la estimación: $e = y_i - \\hat{y}$.     \n",
    "La línea de regresión minimizó la *Suma de cuadrados residual* (RSS)     \n",
    "\n",
    "$$RSS = e_1^2 + e_2^2 + \\dots + e_n ^2$$"
   ]
  },
  {
   "cell_type": "markdown",
   "metadata": {},
   "source": [
    "Si sólo utilizamos la media como valor predicho para cada predicción, el error que cometeríamos es (*suma total de cuadrados*)\n",
    "\n",
    "$$TTS=\\Sigma(y_i - \\bar{y}_i)^2$$\n",
    "Consideremos esto nuestro punto de partida, hagamos una predicción y la ploteamos"
   ]
  },
  {
   "cell_type": "code",
<<<<<<< HEAD
   "execution_count": 25,
=======
   "execution_count": 41,
   "id": "established-container",
>>>>>>> d6ea45aef3915597f0a9abeaf087f33c6da746ca
   "metadata": {},
   "outputs": [
    {
     "data": {
<<<<<<< HEAD
      "image/png": "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\n",
=======
      "image/png": "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\n",
>>>>>>> d6ea45aef3915597f0a9abeaf087f33c6da746ca
      "text/plain": [
       "<Figure size 1152x648 with 1 Axes>"
      ]
     },
     "metadata": {},
     "output_type": "display_data"
    }
   ],
   "source": [
    "mean_predict = [data.nota.mean()] * num_notas\n",
    "plt.scatter (X, y)\n",
    "plt.plot(X, mean_predict, lw = 3)\n",
    "plt.vlines(X, mean_predict, y, lw=0.4)\n",
    "plt.show()"
   ]
  },
  {
   "cell_type": "code",
   "execution_count": 26,
   "metadata": {},
   "outputs": [],
   "source": [
    "# Vamos a meterlo en un dataframe para verlo más claro"
   ]
  },
  {
   "cell_type": "code",
<<<<<<< HEAD
   "execution_count": 27,
=======
   "execution_count": 42,
   "id": "romantic-objective",
>>>>>>> d6ea45aef3915597f0a9abeaf087f33c6da746ca
   "metadata": {},
   "outputs": [],
   "source": [
    "data[\"mean_predict\"] = data.nota.mean()"
   ]
  },
  {
   "cell_type": "code",
<<<<<<< HEAD
   "execution_count": 28,
=======
   "execution_count": 43,
   "id": "fewer-massage",
>>>>>>> d6ea45aef3915597f0a9abeaf087f33c6da746ca
   "metadata": {},
   "outputs": [
    {
     "data": {
      "text/html": [
       "<div>\n",
       "<style scoped>\n",
       "    .dataframe tbody tr th:only-of-type {\n",
       "        vertical-align: middle;\n",
       "    }\n",
       "\n",
       "    .dataframe tbody tr th {\n",
       "        vertical-align: top;\n",
       "    }\n",
       "\n",
       "    .dataframe thead th {\n",
       "        text-align: right;\n",
       "    }\n",
       "</style>\n",
       "<table border=\"1\" class=\"dataframe\">\n",
       "  <thead>\n",
       "    <tr style=\"text-align: right;\">\n",
       "      <th></th>\n",
       "      <th>horas</th>\n",
       "      <th>nota</th>\n",
       "      <th>mean_predict</th>\n",
       "    </tr>\n",
       "  </thead>\n",
       "  <tbody>\n",
       "    <tr>\n",
       "      <th>0</th>\n",
<<<<<<< HEAD
       "      <td>417</td>\n",
       "      <td>53</td>\n",
       "      <td>61.0</td>\n",
       "    </tr>\n",
       "    <tr>\n",
       "      <th>1</th>\n",
       "      <td>397</td>\n",
       "      <td>41</td>\n",
       "      <td>61.0</td>\n",
       "    </tr>\n",
       "    <tr>\n",
       "      <th>2</th>\n",
       "      <td>650</td>\n",
       "      <td>65</td>\n",
       "      <td>61.0</td>\n",
       "    </tr>\n",
       "    <tr>\n",
       "      <th>3</th>\n",
       "      <td>765</td>\n",
       "      <td>70</td>\n",
       "      <td>61.0</td>\n",
       "    </tr>\n",
       "    <tr>\n",
       "      <th>4</th>\n",
       "      <td>621</td>\n",
       "      <td>68</td>\n",
       "      <td>61.0</td>\n",
=======
       "      <td>855</td>\n",
       "      <td>87</td>\n",
       "      <td>61.84</td>\n",
       "    </tr>\n",
       "    <tr>\n",
       "      <th>1</th>\n",
       "      <td>520</td>\n",
       "      <td>43</td>\n",
       "      <td>61.84</td>\n",
       "    </tr>\n",
       "    <tr>\n",
       "      <th>2</th>\n",
       "      <td>636</td>\n",
       "      <td>70</td>\n",
       "      <td>61.84</td>\n",
       "    </tr>\n",
       "    <tr>\n",
       "      <th>3</th>\n",
       "      <td>657</td>\n",
       "      <td>71</td>\n",
       "      <td>61.84</td>\n",
       "    </tr>\n",
       "    <tr>\n",
       "      <th>4</th>\n",
       "      <td>491</td>\n",
       "      <td>54</td>\n",
       "      <td>61.84</td>\n",
>>>>>>> d6ea45aef3915597f0a9abeaf087f33c6da746ca
       "    </tr>\n",
       "  </tbody>\n",
       "</table>\n",
       "</div>"
      ],
      "text/plain": [
       "   horas  nota  mean_predict\n",
<<<<<<< HEAD
       "0    417    53          61.0\n",
       "1    397    41          61.0\n",
       "2    650    65          61.0\n",
       "3    765    70          61.0\n",
       "4    621    68          61.0"
      ]
     },
     "execution_count": 28,
=======
       "0    855    87         61.84\n",
       "1    520    43         61.84\n",
       "2    636    70         61.84\n",
       "3    657    71         61.84\n",
       "4    491    54         61.84"
      ]
     },
     "execution_count": 43,
>>>>>>> d6ea45aef3915597f0a9abeaf087f33c6da746ca
     "metadata": {},
     "output_type": "execute_result"
    }
   ],
   "source": [
    "data.head()"
   ]
  },
  {
   "cell_type": "code",
<<<<<<< HEAD
   "execution_count": 29,
=======
   "execution_count": 44,
   "id": "dietary-boxing",
>>>>>>> d6ea45aef3915597f0a9abeaf087f33c6da746ca
   "metadata": {},
   "outputs": [
    {
     "data": {
      "text/plain": [
<<<<<<< HEAD
       "20284.0"
      ]
     },
     "execution_count": 29,
=======
       "16651.440000000002"
      ]
     },
     "execution_count": 44,
>>>>>>> d6ea45aef3915597f0a9abeaf087f33c6da746ca
     "metadata": {},
     "output_type": "execute_result"
    }
   ],
   "source": [
    "# Calculamos TSS para el modelo anterior\n",
    "TSS = ((data.nota - data.mean_predict) **2 ).sum()\n",
    "TSS"
   ]
  },
  {
   "cell_type": "markdown",
   "metadata": {},
   "source": [
    "Recordemos que los coeficientes de la regresión lineal minimizan el $RSS=Sigma(y_i - \\hat{y_i})^2$, es decir, la cantidad de variabilidad que queda sin explicar después de realizar la regresión. El [coeficiente de determinación](https://en.wikipedia.org/wiki/Coefficient_of_determination):\n",
    "\n",
    "$$R^2 = \\frac{TSS -RSS}{TSS} = 1-\\frac{RSS}{TSS}$$\n",
    "\n",
    "mide la \"*proporción de variabilidad en Y que puede explicarse mediante X*\". Es una medida de la relación lineal que existe entre $X$ e $y$.\n",
    "\n",
    "**Nota:** en el caso de la regresión lineal simple, el coeficiente $R^2$ no es más que el cuadrado del coeficiente de correlación de *Pearson* que ya conocemos. "
   ]
  },
  {
   "cell_type": "markdown",
   "metadata": {},
   "source": [
    "## Calculamos el R2 del modelo"
   ]
  },
  {
   "cell_type": "code",
<<<<<<< HEAD
   "execution_count": 30,
=======
   "execution_count": 45,
   "id": "medieval-lancaster",
>>>>>>> d6ea45aef3915597f0a9abeaf087f33c6da746ca
   "metadata": {},
   "outputs": [
    {
     "data": {
      "text/html": [
       "<div>\n",
       "<style scoped>\n",
       "    .dataframe tbody tr th:only-of-type {\n",
       "        vertical-align: middle;\n",
       "    }\n",
       "\n",
       "    .dataframe tbody tr th {\n",
       "        vertical-align: top;\n",
       "    }\n",
       "\n",
       "    .dataframe thead th {\n",
       "        text-align: right;\n",
       "    }\n",
       "</style>\n",
       "<table border=\"1\" class=\"dataframe\">\n",
       "  <thead>\n",
       "    <tr style=\"text-align: right;\">\n",
       "      <th></th>\n",
       "      <th>horas</th>\n",
       "      <th>nota</th>\n",
       "      <th>mean_predict</th>\n",
       "    </tr>\n",
       "  </thead>\n",
       "  <tbody>\n",
       "    <tr>\n",
       "      <th>0</th>\n",
<<<<<<< HEAD
       "      <td>417</td>\n",
       "      <td>53</td>\n",
       "      <td>61.0</td>\n",
       "    </tr>\n",
       "    <tr>\n",
       "      <th>1</th>\n",
       "      <td>397</td>\n",
       "      <td>41</td>\n",
       "      <td>61.0</td>\n",
       "    </tr>\n",
       "    <tr>\n",
       "      <th>2</th>\n",
       "      <td>650</td>\n",
       "      <td>65</td>\n",
       "      <td>61.0</td>\n",
       "    </tr>\n",
       "    <tr>\n",
       "      <th>3</th>\n",
       "      <td>765</td>\n",
       "      <td>70</td>\n",
       "      <td>61.0</td>\n",
       "    </tr>\n",
       "    <tr>\n",
       "      <th>4</th>\n",
       "      <td>621</td>\n",
       "      <td>68</td>\n",
       "      <td>61.0</td>\n",
=======
       "      <td>855</td>\n",
       "      <td>87</td>\n",
       "      <td>61.84</td>\n",
       "    </tr>\n",
       "    <tr>\n",
       "      <th>1</th>\n",
       "      <td>520</td>\n",
       "      <td>43</td>\n",
       "      <td>61.84</td>\n",
       "    </tr>\n",
       "    <tr>\n",
       "      <th>2</th>\n",
       "      <td>636</td>\n",
       "      <td>70</td>\n",
       "      <td>61.84</td>\n",
       "    </tr>\n",
       "    <tr>\n",
       "      <th>3</th>\n",
       "      <td>657</td>\n",
       "      <td>71</td>\n",
       "      <td>61.84</td>\n",
       "    </tr>\n",
       "    <tr>\n",
       "      <th>4</th>\n",
       "      <td>491</td>\n",
       "      <td>54</td>\n",
       "      <td>61.84</td>\n",
>>>>>>> d6ea45aef3915597f0a9abeaf087f33c6da746ca
       "    </tr>\n",
       "  </tbody>\n",
       "</table>\n",
       "</div>"
      ],
      "text/plain": [
       "   horas  nota  mean_predict\n",
<<<<<<< HEAD
       "0    417    53          61.0\n",
       "1    397    41          61.0\n",
       "2    650    65          61.0\n",
       "3    765    70          61.0\n",
       "4    621    68          61.0"
      ]
     },
     "execution_count": 30,
=======
       "0    855    87         61.84\n",
       "1    520    43         61.84\n",
       "2    636    70         61.84\n",
       "3    657    71         61.84\n",
       "4    491    54         61.84"
      ]
     },
     "execution_count": 45,
     "metadata": {},
     "output_type": "execute_result"
    }
   ],
   "source": [
    "data.head()"
   ]
  },
  {
   "cell_type": "code",
   "execution_count": 46,
   "id": "surface-constant",
   "metadata": {},
   "outputs": [],
   "source": [
    "data[\"predict_model\"] = data.horas * beta_1 + beta_0"
   ]
  },
  {
   "cell_type": "code",
   "execution_count": 47,
   "id": "enhanced-miller",
   "metadata": {},
   "outputs": [
    {
     "data": {
      "text/html": [
       "<div>\n",
       "<style scoped>\n",
       "    .dataframe tbody tr th:only-of-type {\n",
       "        vertical-align: middle;\n",
       "    }\n",
       "\n",
       "    .dataframe tbody tr th {\n",
       "        vertical-align: top;\n",
       "    }\n",
       "\n",
       "    .dataframe thead th {\n",
       "        text-align: right;\n",
       "    }\n",
       "</style>\n",
       "<table border=\"1\" class=\"dataframe\">\n",
       "  <thead>\n",
       "    <tr style=\"text-align: right;\">\n",
       "      <th></th>\n",
       "      <th>horas</th>\n",
       "      <th>nota</th>\n",
       "      <th>mean_predict</th>\n",
       "      <th>predict_model</th>\n",
       "    </tr>\n",
       "  </thead>\n",
       "  <tbody>\n",
       "    <tr>\n",
       "      <th>0</th>\n",
       "      <td>855</td>\n",
       "      <td>87</td>\n",
       "      <td>61.84</td>\n",
       "      <td>84.831253</td>\n",
       "    </tr>\n",
       "    <tr>\n",
       "      <th>1</th>\n",
       "      <td>520</td>\n",
       "      <td>43</td>\n",
       "      <td>61.84</td>\n",
       "      <td>53.496551</td>\n",
       "    </tr>\n",
       "    <tr>\n",
       "      <th>2</th>\n",
       "      <td>636</td>\n",
       "      <td>70</td>\n",
       "      <td>61.84</td>\n",
       "      <td>64.346776</td>\n",
       "    </tr>\n",
       "    <tr>\n",
       "      <th>3</th>\n",
       "      <td>657</td>\n",
       "      <td>71</td>\n",
       "      <td>61.84</td>\n",
       "      <td>66.311041</td>\n",
       "    </tr>\n",
       "    <tr>\n",
       "      <th>4</th>\n",
       "      <td>491</td>\n",
       "      <td>54</td>\n",
       "      <td>61.84</td>\n",
       "      <td>50.783994</td>\n",
       "    </tr>\n",
       "  </tbody>\n",
       "</table>\n",
       "</div>"
      ],
      "text/plain": [
       "   horas  nota  mean_predict  predict_model\n",
       "0    855    87         61.84      84.831253\n",
       "1    520    43         61.84      53.496551\n",
       "2    636    70         61.84      64.346776\n",
       "3    657    71         61.84      66.311041\n",
       "4    491    54         61.84      50.783994"
      ]
     },
     "execution_count": 47,
>>>>>>> d6ea45aef3915597f0a9abeaf087f33c6da746ca
     "metadata": {},
     "output_type": "execute_result"
    }
   ],
   "source": [
    "data.head()"
   ]
  },
  {
   "cell_type": "code",
<<<<<<< HEAD
   "execution_count": 31,
   "metadata": {},
   "outputs": [],
   "source": [
    "data[\"predict_model\"] = data.horas * beta_1 + beta_0"
   ]
  },
  {
   "cell_type": "code",
   "execution_count": 32,
   "metadata": {},
   "outputs": [
    {
     "data": {
      "text/html": [
       "<div>\n",
       "<style scoped>\n",
       "    .dataframe tbody tr th:only-of-type {\n",
       "        vertical-align: middle;\n",
       "    }\n",
       "\n",
       "    .dataframe tbody tr th {\n",
       "        vertical-align: top;\n",
       "    }\n",
       "\n",
       "    .dataframe thead th {\n",
       "        text-align: right;\n",
       "    }\n",
       "</style>\n",
       "<table border=\"1\" class=\"dataframe\">\n",
       "  <thead>\n",
       "    <tr style=\"text-align: right;\">\n",
       "      <th></th>\n",
       "      <th>horas</th>\n",
       "      <th>nota</th>\n",
       "      <th>mean_predict</th>\n",
       "      <th>predict_model</th>\n",
       "    </tr>\n",
       "  </thead>\n",
       "  <tbody>\n",
       "    <tr>\n",
       "      <th>0</th>\n",
       "      <td>417</td>\n",
       "      <td>53</td>\n",
       "      <td>61.0</td>\n",
       "      <td>46.990806</td>\n",
       "    </tr>\n",
       "    <tr>\n",
       "      <th>1</th>\n",
       "      <td>397</td>\n",
       "      <td>41</td>\n",
       "      <td>61.0</td>\n",
       "      <td>45.305996</td>\n",
       "    </tr>\n",
       "    <tr>\n",
       "      <th>2</th>\n",
       "      <td>650</td>\n",
       "      <td>65</td>\n",
       "      <td>61.0</td>\n",
       "      <td>66.618841</td>\n",
       "    </tr>\n",
       "    <tr>\n",
       "      <th>3</th>\n",
       "      <td>765</td>\n",
       "      <td>70</td>\n",
       "      <td>61.0</td>\n",
       "      <td>76.306498</td>\n",
       "    </tr>\n",
       "    <tr>\n",
       "      <th>4</th>\n",
       "      <td>621</td>\n",
       "      <td>68</td>\n",
       "      <td>61.0</td>\n",
       "      <td>64.175867</td>\n",
       "    </tr>\n",
       "  </tbody>\n",
       "</table>\n",
       "</div>"
      ],
      "text/plain": [
       "   horas  nota  mean_predict  predict_model\n",
       "0    417    53          61.0      46.990806\n",
       "1    397    41          61.0      45.305996\n",
       "2    650    65          61.0      66.618841\n",
       "3    765    70          61.0      76.306498\n",
       "4    621    68          61.0      64.175867"
      ]
     },
     "execution_count": 32,
     "metadata": {},
     "output_type": "execute_result"
    }
   ],
   "source": [
    "data.head()"
   ]
  },
  {
   "cell_type": "code",
   "execution_count": 33,
=======
   "execution_count": 49,
   "id": "indoor-building",
>>>>>>> d6ea45aef3915597f0a9abeaf087f33c6da746ca
   "metadata": {},
   "outputs": [
    {
     "data": {
      "text/plain": [
<<<<<<< HEAD
       "2193.35349979543"
      ]
     },
     "execution_count": 33,
=======
       "2688.023059893859"
      ]
     },
     "execution_count": 49,
>>>>>>> d6ea45aef3915597f0a9abeaf087f33c6da746ca
     "metadata": {},
     "output_type": "execute_result"
    }
   ],
   "source": [
    "RSS = ((data.nota - data.predict_model)**2).sum()\n",
    "RSS"
   ]
  },
  {
   "cell_type": "code",
<<<<<<< HEAD
   "execution_count": 34,
=======
   "execution_count": 50,
   "id": "prostate-throat",
>>>>>>> d6ea45aef3915597f0a9abeaf087f33c6da746ca
   "metadata": {},
   "outputs": [
    {
     "data": {
      "text/plain": [
<<<<<<< HEAD
       "0.8918678022187226"
      ]
     },
     "execution_count": 34,
=======
       "0.8385711349953001"
      ]
     },
     "execution_count": 50,
>>>>>>> d6ea45aef3915597f0a9abeaf087f33c6da746ca
     "metadata": {},
     "output_type": "execute_result"
    }
   ],
   "source": [
    "# R^2\n",
    "r2 = ( TSS - RSS ) / ( TSS )\n",
    "r2"
   ]
  },
  {
   "cell_type": "markdown",
   "metadata": {},
   "source": [
    "$R^2$ mide lo bueno que es nuestro modelo de regresión. Cuanto más grande, mejor. Es un valor entre 0 y 1    \n",
    "**NOTA**: es computable para cualquier modelo, no importa si es lineal o no. Sólo se necesitan los valores reales y los predichos.  "
   ]
  },
  {
   "cell_type": "markdown",
   "metadata": {},
   "source": [
    "## Regresión lineal con sklearn"
   ]
  },
  {
   "cell_type": "code",
<<<<<<< HEAD
   "execution_count": 35,
=======
   "execution_count": 51,
   "id": "urban-egyptian",
>>>>>>> d6ea45aef3915597f0a9abeaf087f33c6da746ca
   "metadata": {},
   "outputs": [
    {
     "data": {
      "text/html": [
       "<div>\n",
       "<style scoped>\n",
       "    .dataframe tbody tr th:only-of-type {\n",
       "        vertical-align: middle;\n",
       "    }\n",
       "\n",
       "    .dataframe tbody tr th {\n",
       "        vertical-align: top;\n",
       "    }\n",
       "\n",
       "    .dataframe thead th {\n",
       "        text-align: right;\n",
       "    }\n",
       "</style>\n",
       "<table border=\"1\" class=\"dataframe\">\n",
       "  <thead>\n",
       "    <tr style=\"text-align: right;\">\n",
       "      <th></th>\n",
       "      <th>horas</th>\n",
       "      <th>nota</th>\n",
       "      <th>mean_predict</th>\n",
       "      <th>predict_model</th>\n",
       "    </tr>\n",
       "  </thead>\n",
       "  <tbody>\n",
       "    <tr>\n",
       "      <th>0</th>\n",
<<<<<<< HEAD
       "      <td>417</td>\n",
       "      <td>53</td>\n",
       "      <td>61.0</td>\n",
       "      <td>46.990806</td>\n",
       "    </tr>\n",
       "    <tr>\n",
       "      <th>1</th>\n",
       "      <td>397</td>\n",
       "      <td>41</td>\n",
       "      <td>61.0</td>\n",
       "      <td>45.305996</td>\n",
       "    </tr>\n",
       "    <tr>\n",
       "      <th>2</th>\n",
       "      <td>650</td>\n",
       "      <td>65</td>\n",
       "      <td>61.0</td>\n",
       "      <td>66.618841</td>\n",
       "    </tr>\n",
       "    <tr>\n",
       "      <th>3</th>\n",
       "      <td>765</td>\n",
       "      <td>70</td>\n",
       "      <td>61.0</td>\n",
       "      <td>76.306498</td>\n",
       "    </tr>\n",
       "    <tr>\n",
       "      <th>4</th>\n",
       "      <td>621</td>\n",
       "      <td>68</td>\n",
       "      <td>61.0</td>\n",
       "      <td>64.175867</td>\n",
=======
       "      <td>855</td>\n",
       "      <td>87</td>\n",
       "      <td>61.84</td>\n",
       "      <td>84.831253</td>\n",
       "    </tr>\n",
       "    <tr>\n",
       "      <th>1</th>\n",
       "      <td>520</td>\n",
       "      <td>43</td>\n",
       "      <td>61.84</td>\n",
       "      <td>53.496551</td>\n",
       "    </tr>\n",
       "    <tr>\n",
       "      <th>2</th>\n",
       "      <td>636</td>\n",
       "      <td>70</td>\n",
       "      <td>61.84</td>\n",
       "      <td>64.346776</td>\n",
       "    </tr>\n",
       "    <tr>\n",
       "      <th>3</th>\n",
       "      <td>657</td>\n",
       "      <td>71</td>\n",
       "      <td>61.84</td>\n",
       "      <td>66.311041</td>\n",
       "    </tr>\n",
       "    <tr>\n",
       "      <th>4</th>\n",
       "      <td>491</td>\n",
       "      <td>54</td>\n",
       "      <td>61.84</td>\n",
       "      <td>50.783994</td>\n",
>>>>>>> d6ea45aef3915597f0a9abeaf087f33c6da746ca
       "    </tr>\n",
       "  </tbody>\n",
       "</table>\n",
       "</div>"
      ],
      "text/plain": [
       "   horas  nota  mean_predict  predict_model\n",
<<<<<<< HEAD
       "0    417    53          61.0      46.990806\n",
       "1    397    41          61.0      45.305996\n",
       "2    650    65          61.0      66.618841\n",
       "3    765    70          61.0      76.306498\n",
       "4    621    68          61.0      64.175867"
      ]
     },
     "execution_count": 35,
=======
       "0    855    87         61.84      84.831253\n",
       "1    520    43         61.84      53.496551\n",
       "2    636    70         61.84      64.346776\n",
       "3    657    71         61.84      66.311041\n",
       "4    491    54         61.84      50.783994"
      ]
     },
     "execution_count": 51,
>>>>>>> d6ea45aef3915597f0a9abeaf087f33c6da746ca
     "metadata": {},
     "output_type": "execute_result"
    }
   ],
   "source": [
    "data.head()"
   ]
<<<<<<< HEAD
  },
  {
   "cell_type": "code",
   "execution_count": 36,
=======
  },
  {
   "cell_type": "code",
   "execution_count": 54,
   "id": "super-stuff",
   "metadata": {},
   "outputs": [
    {
     "data": {
      "text/plain": [
       "LinearRegression()"
      ]
     },
     "execution_count": 54,
     "metadata": {},
     "output_type": "execute_result"
    }
   ],
   "source": [
    "X = data[[\"horas\"]]\n",
    "y = data.nota\n",
    "\n",
    "lr.fit(X, y)"
   ]
  },
  {
   "cell_type": "code",
   "execution_count": 55,
   "id": "western-romantic",
   "metadata": {},
   "outputs": [],
   "source": [
    "data[\"notas_sklearn\"] = lr.predict(X)"
   ]
  },
  {
   "cell_type": "code",
   "execution_count": 56,
   "id": "unique-flight",
>>>>>>> d6ea45aef3915597f0a9abeaf087f33c6da746ca
   "metadata": {},
   "outputs": [
    {
     "data": {
<<<<<<< HEAD
      "text/plain": [
       "LinearRegression()"
      ]
     },
     "execution_count": 36,
     "metadata": {},
     "output_type": "execute_result"
    }
   ],
   "source": [
    "X = data[[\"horas\"]]\n",
    "y = data.nota\n",
    "\n",
    "lr.fit(X, y)"
   ]
  },
  {
   "cell_type": "code",
   "execution_count": 37,
   "metadata": {},
   "outputs": [],
   "source": [
    "data[\"notas_sklearn\"] = lr.predict(X)"
   ]
  },
  {
   "cell_type": "code",
   "execution_count": 38,
   "metadata": {},
   "outputs": [
    {
     "data": {
=======
>>>>>>> d6ea45aef3915597f0a9abeaf087f33c6da746ca
      "text/html": [
       "<div>\n",
       "<style scoped>\n",
       "    .dataframe tbody tr th:only-of-type {\n",
       "        vertical-align: middle;\n",
       "    }\n",
       "\n",
       "    .dataframe tbody tr th {\n",
       "        vertical-align: top;\n",
       "    }\n",
       "\n",
       "    .dataframe thead th {\n",
       "        text-align: right;\n",
       "    }\n",
       "</style>\n",
       "<table border=\"1\" class=\"dataframe\">\n",
       "  <thead>\n",
       "    <tr style=\"text-align: right;\">\n",
       "      <th></th>\n",
       "      <th>horas</th>\n",
       "      <th>nota</th>\n",
       "      <th>mean_predict</th>\n",
       "      <th>predict_model</th>\n",
       "      <th>notas_sklearn</th>\n",
       "    </tr>\n",
       "  </thead>\n",
       "  <tbody>\n",
       "    <tr>\n",
       "      <th>0</th>\n",
<<<<<<< HEAD
       "      <td>417</td>\n",
       "      <td>53</td>\n",
       "      <td>61.0</td>\n",
       "      <td>46.990806</td>\n",
       "      <td>46.990806</td>\n",
       "    </tr>\n",
       "    <tr>\n",
       "      <th>1</th>\n",
       "      <td>397</td>\n",
       "      <td>41</td>\n",
       "      <td>61.0</td>\n",
       "      <td>45.305996</td>\n",
       "      <td>45.305996</td>\n",
       "    </tr>\n",
       "    <tr>\n",
       "      <th>2</th>\n",
       "      <td>650</td>\n",
       "      <td>65</td>\n",
       "      <td>61.0</td>\n",
       "      <td>66.618841</td>\n",
       "      <td>66.618841</td>\n",
       "    </tr>\n",
       "    <tr>\n",
       "      <th>3</th>\n",
       "      <td>765</td>\n",
       "      <td>70</td>\n",
       "      <td>61.0</td>\n",
       "      <td>76.306498</td>\n",
       "      <td>76.306498</td>\n",
       "    </tr>\n",
       "    <tr>\n",
       "      <th>4</th>\n",
       "      <td>621</td>\n",
       "      <td>68</td>\n",
       "      <td>61.0</td>\n",
       "      <td>64.175867</td>\n",
       "      <td>64.175867</td>\n",
=======
       "      <td>855</td>\n",
       "      <td>87</td>\n",
       "      <td>61.84</td>\n",
       "      <td>84.831253</td>\n",
       "      <td>84.831253</td>\n",
       "    </tr>\n",
       "    <tr>\n",
       "      <th>1</th>\n",
       "      <td>520</td>\n",
       "      <td>43</td>\n",
       "      <td>61.84</td>\n",
       "      <td>53.496551</td>\n",
       "      <td>53.496551</td>\n",
       "    </tr>\n",
       "    <tr>\n",
       "      <th>2</th>\n",
       "      <td>636</td>\n",
       "      <td>70</td>\n",
       "      <td>61.84</td>\n",
       "      <td>64.346776</td>\n",
       "      <td>64.346776</td>\n",
       "    </tr>\n",
       "    <tr>\n",
       "      <th>3</th>\n",
       "      <td>657</td>\n",
       "      <td>71</td>\n",
       "      <td>61.84</td>\n",
       "      <td>66.311041</td>\n",
       "      <td>66.311041</td>\n",
       "    </tr>\n",
       "    <tr>\n",
       "      <th>4</th>\n",
       "      <td>491</td>\n",
       "      <td>54</td>\n",
       "      <td>61.84</td>\n",
       "      <td>50.783994</td>\n",
       "      <td>50.783994</td>\n",
>>>>>>> d6ea45aef3915597f0a9abeaf087f33c6da746ca
       "    </tr>\n",
       "  </tbody>\n",
       "</table>\n",
       "</div>"
      ],
      "text/plain": [
       "   horas  nota  mean_predict  predict_model  notas_sklearn\n",
<<<<<<< HEAD
       "0    417    53          61.0      46.990806      46.990806\n",
       "1    397    41          61.0      45.305996      45.305996\n",
       "2    650    65          61.0      66.618841      66.618841\n",
       "3    765    70          61.0      76.306498      76.306498\n",
       "4    621    68          61.0      64.175867      64.175867"
      ]
     },
     "execution_count": 38,
=======
       "0    855    87         61.84      84.831253      84.831253\n",
       "1    520    43         61.84      53.496551      53.496551\n",
       "2    636    70         61.84      64.346776      64.346776\n",
       "3    657    71         61.84      66.311041      66.311041\n",
       "4    491    54         61.84      50.783994      50.783994"
      ]
     },
     "execution_count": 56,
>>>>>>> d6ea45aef3915597f0a9abeaf087f33c6da746ca
     "metadata": {},
     "output_type": "execute_result"
    }
   ],
   "source": [
    "data.head()"
   ]
  },
  {
   "cell_type": "code",
<<<<<<< HEAD
   "execution_count": 39,
=======
   "execution_count": 57,
   "id": "similar-planner",
>>>>>>> d6ea45aef3915597f0a9abeaf087f33c6da746ca
   "metadata": {},
   "outputs": [],
   "source": [
    "from sklearn import metrics"
   ]
  },
  {
   "cell_type": "code",
<<<<<<< HEAD
   "execution_count": 40,
=======
   "execution_count": 62,
   "id": "other-prison",
>>>>>>> d6ea45aef3915597f0a9abeaf087f33c6da746ca
   "metadata": {},
   "outputs": [
    {
     "name": "stdout",
     "output_type": "stream",
     "text": [
<<<<<<< HEAD
      "MAE:  3.7741678117751536\n",
      "MSE:  21.933534997954297\n",
      "RMSE:  4.683325207366481\n"
=======
      "MAE:  4.018038679440348\n",
      "MSE:  26.880230598938592\n",
      "RMSE:  5.184614797546544\n"
>>>>>>> d6ea45aef3915597f0a9abeaf087f33c6da746ca
     ]
    }
   ],
   "source": [
    "print(\"MAE: \" , metrics.mean_absolute_error(data.nota, data.notas_sklearn))\n",
    "print(\"MSE: \" , metrics.mean_squared_error(data.nota, data.notas_sklearn))\n",
    "print(\"RMSE: \" , np.sqrt(metrics.mean_squared_error(data.nota, data.notas_sklearn)))"
   ]
  },
  {
   "cell_type": "markdown",
   "metadata": {},
   "source": [
    "** Cálculo del error medio absoluto, del error medio cuadrático y del error medio cuadrático\n",
    "\n",
    "- **MAE** es el más fácil de entender, porque es el error medio.\n",
    "- **El MSE** es más popular que el MAE, porque el MSE \"castiga\" los errores más grandes, lo que suele ser útil en el mundo real.\n",
    "- **RMSE** es aún más popular que MSE, es la raíz cuadrada del MSE y mide la desviación estándar de los residuos.\n",
    "\n",
    "Todas estas son **funciones de pérdida**, porque queremos minimizarlas."
   ]
  },
  {
   "cell_type": "markdown",
   "metadata": {},
   "source": [
    "Lee más sobre MAE, MSE, RMSE Y R2 [AQUÍ](http://medium.com/analytics-vidhya/mae-mse-rmse-coefficient-of-determination-adjusted-r-squared-which-metric-is-better-cd0326a5697e)"
   ]
  },
  {
   "cell_type": "markdown",
   "metadata": {},
   "source": [
    "## Regresión lineal con statsmodels"
   ]
  },
  {
   "cell_type": "markdown",
   "metadata": {},
   "source": [
    "Para no variar, un poquito de [documentación](https://www.statsmodels.org/stable/generated/statsmodels.regression.linear_model.OLS.html)      \n",
    "Y [este artículo](https://jyotiyadav99111.medium.com/statistics-how-should-i-interpret-results-of-ols-3bde1ebeec01) que resume cómo interpretar la información del summary del OLS"
   ]
  },
  {
   "cell_type": "code",
<<<<<<< HEAD
   "execution_count": 41,
=======
   "execution_count": 63,
   "id": "gross-tongue",
>>>>>>> d6ea45aef3915597f0a9abeaf087f33c6da746ca
   "metadata": {},
   "outputs": [
    {
     "data": {
      "text/html": [
       "<table class=\"simpletable\">\n",
       "<caption>OLS Regression Results</caption>\n",
       "<tr>\n",
<<<<<<< HEAD
       "  <th>Dep. Variable:</th>          <td>nota</td>       <th>  R-squared:         </th> <td>   0.892</td>\n",
       "</tr>\n",
       "<tr>\n",
       "  <th>Model:</th>                   <td>OLS</td>       <th>  Adj. R-squared:    </th> <td>   0.891</td>\n",
       "</tr>\n",
       "<tr>\n",
       "  <th>Method:</th>             <td>Least Squares</td>  <th>  F-statistic:       </th> <td>   808.3</td>\n",
       "</tr>\n",
       "<tr>\n",
       "  <th>Date:</th>             <td>Tue, 27 Apr 2021</td> <th>  Prob (F-statistic):</th> <td>3.92e-49</td>\n",
       "</tr>\n",
       "<tr>\n",
       "  <th>Time:</th>                 <td>17:14:59</td>     <th>  Log-Likelihood:    </th> <td> -296.29</td>\n",
       "</tr>\n",
       "<tr>\n",
       "  <th>No. Observations:</th>      <td>   100</td>      <th>  AIC:               </th> <td>   596.6</td>\n",
       "</tr>\n",
       "<tr>\n",
       "  <th>Df Residuals:</th>          <td>    98</td>      <th>  BIC:               </th> <td>   601.8</td>\n",
=======
       "  <th>Dep. Variable:</th>          <td>nota</td>       <th>  R-squared:         </th> <td>   0.839</td>\n",
       "</tr>\n",
       "<tr>\n",
       "  <th>Model:</th>                   <td>OLS</td>       <th>  Adj. R-squared:    </th> <td>   0.837</td>\n",
       "</tr>\n",
       "<tr>\n",
       "  <th>Method:</th>             <td>Least Squares</td>  <th>  F-statistic:       </th> <td>   509.1</td>\n",
       "</tr>\n",
       "<tr>\n",
       "  <th>Date:</th>             <td>Tue, 27 Apr 2021</td> <th>  Prob (F-statistic):</th> <td>1.36e-40</td>\n",
       "</tr>\n",
       "<tr>\n",
       "  <th>Time:</th>                 <td>10:05:10</td>     <th>  Log-Likelihood:    </th> <td> -306.46</td>\n",
       "</tr>\n",
       "<tr>\n",
       "  <th>No. Observations:</th>      <td>   100</td>      <th>  AIC:               </th> <td>   616.9</td>\n",
       "</tr>\n",
       "<tr>\n",
       "  <th>Df Residuals:</th>          <td>    98</td>      <th>  BIC:               </th> <td>   622.1</td>\n",
>>>>>>> d6ea45aef3915597f0a9abeaf087f33c6da746ca
       "</tr>\n",
       "<tr>\n",
       "  <th>Df Model:</th>              <td>     1</td>      <th>                     </th>     <td> </td>   \n",
       "</tr>\n",
       "<tr>\n",
       "  <th>Covariance Type:</th>      <td>nonrobust</td>    <th>                     </th>     <td> </td>   \n",
       "</tr>\n",
       "</table>\n",
       "<table class=\"simpletable\">\n",
       "<tr>\n",
       "      <td></td>         <th>coef</th>     <th>std err</th>      <th>t</th>      <th>P>|t|</th>  <th>[0.025</th>    <th>0.975]</th>  \n",
       "</tr>\n",
       "<tr>\n",
<<<<<<< HEAD
       "  <th>Intercept</th> <td>   11.8625</td> <td>    1.792</td> <td>    6.620</td> <td> 0.000</td> <td>    8.307</td> <td>   15.419</td>\n",
       "</tr>\n",
       "<tr>\n",
       "  <th>horas</th>     <td>    0.0842</td> <td>    0.003</td> <td>   28.431</td> <td> 0.000</td> <td>    0.078</td> <td>    0.090</td>\n",
=======
       "  <th>Intercept</th> <td>    4.8576</td> <td>    2.579</td> <td>    1.883</td> <td> 0.063</td> <td>   -0.261</td> <td>    9.976</td>\n",
       "</tr>\n",
       "<tr>\n",
       "  <th>horas</th>     <td>    0.0935</td> <td>    0.004</td> <td>   22.563</td> <td> 0.000</td> <td>    0.085</td> <td>    0.102</td>\n",
>>>>>>> d6ea45aef3915597f0a9abeaf087f33c6da746ca
       "</tr>\n",
       "</table>\n",
       "<table class=\"simpletable\">\n",
       "<tr>\n",
<<<<<<< HEAD
       "  <th>Omnibus:</th>       <td> 0.152</td> <th>  Durbin-Watson:     </th> <td>   1.959</td>\n",
       "</tr>\n",
       "<tr>\n",
       "  <th>Prob(Omnibus):</th> <td> 0.927</td> <th>  Jarque-Bera (JB):  </th> <td>   0.007</td>\n",
       "</tr>\n",
       "<tr>\n",
       "  <th>Skew:</th>          <td> 0.014</td> <th>  Prob(JB):          </th> <td>   0.996</td>\n",
       "</tr>\n",
       "<tr>\n",
       "  <th>Kurtosis:</th>      <td> 3.029</td> <th>  Cond. No.          </th> <td>2.29e+03</td>\n",
       "</tr>\n",
       "</table><br/><br/>Notes:<br/>[1] Standard Errors assume that the covariance matrix of the errors is correctly specified.<br/>[2] The condition number is large, 2.29e+03. This might indicate that there are<br/>strong multicollinearity or other numerical problems."
=======
       "  <th>Omnibus:</th>       <td> 0.395</td> <th>  Durbin-Watson:     </th> <td>   2.346</td>\n",
       "</tr>\n",
       "<tr>\n",
       "  <th>Prob(Omnibus):</th> <td> 0.821</td> <th>  Jarque-Bera (JB):  </th> <td>   0.194</td>\n",
       "</tr>\n",
       "<tr>\n",
       "  <th>Skew:</th>          <td>-0.105</td> <th>  Prob(JB):          </th> <td>   0.908</td>\n",
       "</tr>\n",
       "<tr>\n",
       "  <th>Kurtosis:</th>      <td> 3.052</td> <th>  Cond. No.          </th> <td>3.06e+03</td>\n",
       "</tr>\n",
       "</table><br/><br/>Notes:<br/>[1] Standard Errors assume that the covariance matrix of the errors is correctly specified.<br/>[2] The condition number is large, 3.06e+03. This might indicate that there are<br/>strong multicollinearity or other numerical problems."
>>>>>>> d6ea45aef3915597f0a9abeaf087f33c6da746ca
      ],
      "text/plain": [
       "<class 'statsmodels.iolib.summary.Summary'>\n",
       "\"\"\"\n",
       "                            OLS Regression Results                            \n",
       "==============================================================================\n",
<<<<<<< HEAD
       "Dep. Variable:                   nota   R-squared:                       0.892\n",
       "Model:                            OLS   Adj. R-squared:                  0.891\n",
       "Method:                 Least Squares   F-statistic:                     808.3\n",
       "Date:                Tue, 27 Apr 2021   Prob (F-statistic):           3.92e-49\n",
       "Time:                        17:14:59   Log-Likelihood:                -296.29\n",
       "No. Observations:                 100   AIC:                             596.6\n",
       "Df Residuals:                      98   BIC:                             601.8\n",
=======
       "Dep. Variable:                   nota   R-squared:                       0.839\n",
       "Model:                            OLS   Adj. R-squared:                  0.837\n",
       "Method:                 Least Squares   F-statistic:                     509.1\n",
       "Date:                Tue, 27 Apr 2021   Prob (F-statistic):           1.36e-40\n",
       "Time:                        10:05:10   Log-Likelihood:                -306.46\n",
       "No. Observations:                 100   AIC:                             616.9\n",
       "Df Residuals:                      98   BIC:                             622.1\n",
>>>>>>> d6ea45aef3915597f0a9abeaf087f33c6da746ca
       "Df Model:                           1                                         \n",
       "Covariance Type:            nonrobust                                         \n",
       "==============================================================================\n",
       "                 coef    std err          t      P>|t|      [0.025      0.975]\n",
       "------------------------------------------------------------------------------\n",
<<<<<<< HEAD
       "Intercept     11.8625      1.792      6.620      0.000       8.307      15.419\n",
       "horas          0.0842      0.003     28.431      0.000       0.078       0.090\n",
       "==============================================================================\n",
       "Omnibus:                        0.152   Durbin-Watson:                   1.959\n",
       "Prob(Omnibus):                  0.927   Jarque-Bera (JB):                0.007\n",
       "Skew:                           0.014   Prob(JB):                        0.996\n",
       "Kurtosis:                       3.029   Cond. No.                     2.29e+03\n",
=======
       "Intercept      4.8576      2.579      1.883      0.063      -0.261       9.976\n",
       "horas          0.0935      0.004     22.563      0.000       0.085       0.102\n",
       "==============================================================================\n",
       "Omnibus:                        0.395   Durbin-Watson:                   2.346\n",
       "Prob(Omnibus):                  0.821   Jarque-Bera (JB):                0.194\n",
       "Skew:                          -0.105   Prob(JB):                        0.908\n",
       "Kurtosis:                       3.052   Cond. No.                     3.06e+03\n",
>>>>>>> d6ea45aef3915597f0a9abeaf087f33c6da746ca
       "==============================================================================\n",
       "\n",
       "Notes:\n",
       "[1] Standard Errors assume that the covariance matrix of the errors is correctly specified.\n",
<<<<<<< HEAD
       "[2] The condition number is large, 2.29e+03. This might indicate that there are\n",
=======
       "[2] The condition number is large, 3.06e+03. This might indicate that there are\n",
>>>>>>> d6ea45aef3915597f0a9abeaf087f33c6da746ca
       "strong multicollinearity or other numerical problems.\n",
       "\"\"\""
      ]
     },
<<<<<<< HEAD
     "execution_count": 41,
=======
     "execution_count": 63,
>>>>>>> d6ea45aef3915597f0a9abeaf087f33c6da746ca
     "metadata": {},
     "output_type": "execute_result"
    }
   ],
   "source": [
    "results = smf.ols(\"nota ~ horas\", data=data).fit()\n",
    "results.summary()"
   ]
  },
  {
   "cell_type": "markdown",
   "metadata": {},
   "source": [
    "## Conceptos del OLS"
   ]
  },
  {
   "cell_type": "markdown",
   "metadata": {},
   "source": [
    "-  <b>R2</b> : El coeficiente de determinación mide cuanta de la variación de 𝑦 es explicada por el modelo.\n",
    "Si la varianza de los errores o residuales 𝜎2𝑒 es cero, el modelo explica el 100% de la variable 𝑦. Si 𝜎2𝑒 es igual a la varianza de 𝑦 el modelo no explica nada y 𝑅2 vale cero.\n",
    "\n",
    "\n",
    "- <b>𝑅¯2 </b> : El coeficiente de correlación ajustado 𝑅¯2 corrige el valor de 𝑅2 por la cantidad de variables 𝑘 (igual a 2 para el caso analizado) y la cantidad de datos  𝑁\n",
    "\n",
    "- <b>P value </b> El p-valor para cada término comprueba la hipótesis nula de que el coeficiente es igual a cero (no tiene efecto). Un p-valor bajo (< 0.05) indica que puedes rechazar la hipótesis nula. ... Típicamente se utilizan los p-valores para determinar que téminos deben de mantenerse en el modelo de regresión"
   ]
  },
  {
   "cell_type": "markdown",
   "metadata": {},
   "source": [
    "## Regresión lineal múltiple\n",
    "\n",
    "Por supuesto, las horas que uno estudia no son el único factor importante para sacar buenas notas en el mundo real. Podemos pensar en el cociente intelectual, por ejemplo, como otro factor determinante. De hecho, podemos generalizar un modelo lineal para tener tantas variables como queramos:\n",
    "\n",
    " $$ Y = \\beta_0 + \\beta_1 X_1 + \\beta_2 X_2 + \\dots + \\beta_2 X_m + \\epsilon$$\n",
    " \n",
    " En este caso lo que vamos a hacer, es añadir una variable que nos resta de la nota, las horas de fiesta.\n",
    " Imaginemos que por cada hora que salimos de fiesta mueren neuronas en nuestro cerebro y se nos olvida información, por tanto, nos restará nota (recordad que estamos inventando datos)"
   ]
  },
  {
   "cell_type": "code",
   "execution_count": 42,
   "metadata": {},
   "outputs": [],
   "source": [
    "# Volvemos a crear el dataframe con las notas\n"
   ]
  },
  {
   "cell_type": "code",
<<<<<<< HEAD
   "execution_count": 43,
=======
   "execution_count": 89,
   "id": "social-making",
>>>>>>> d6ea45aef3915597f0a9abeaf087f33c6da746ca
   "metadata": {},
   "outputs": [],
   "source": [
    "beta_0 = 11.78\n",
    "beta_1 = 0.084\n",
    "beta_2 = -0.03"
   ]
  },
  {
   "cell_type": "code",
<<<<<<< HEAD
   "execution_count": 44,
=======
   "execution_count": 90,
   "id": "union-tokyo",
>>>>>>> d6ea45aef3915597f0a9abeaf087f33c6da746ca
   "metadata": {},
   "outputs": [],
   "source": [
    "horas_estudio = np.random.normal(500, 200, num_notas)\n",
    "horas_fiesta = np.random.normal(500, 200, num_notas)\n",
    "y = (beta_0) + (beta_1 * horas_estudio) + (beta_2 * horas_fiesta)  + (np.random.normal(loc=0,scale=5,size=num_notas))"
   ]
  },
  {
   "cell_type": "code",
<<<<<<< HEAD
   "execution_count": 45,
=======
   "execution_count": 91,
   "id": "alone-tradition",
>>>>>>> d6ea45aef3915597f0a9abeaf087f33c6da746ca
   "metadata": {},
   "outputs": [],
   "source": [
    "data = pd.DataFrame({\"notas\": y,\n",
    "                    \"horas_estudio\": horas_estudio,\n",
    "                    \"horas_fiesta\": horas_fiesta}\n",
    ").astype(int)"
   ]
  },
  {
   "cell_type": "code",
<<<<<<< HEAD
   "execution_count": 46,
=======
   "execution_count": 92,
   "id": "hungarian-shower",
>>>>>>> d6ea45aef3915597f0a9abeaf087f33c6da746ca
   "metadata": {},
   "outputs": [
    {
     "data": {
      "text/html": [
       "<div>\n",
       "<style scoped>\n",
       "    .dataframe tbody tr th:only-of-type {\n",
       "        vertical-align: middle;\n",
       "    }\n",
       "\n",
       "    .dataframe tbody tr th {\n",
       "        vertical-align: top;\n",
       "    }\n",
       "\n",
       "    .dataframe thead th {\n",
       "        text-align: right;\n",
       "    }\n",
       "</style>\n",
       "<table border=\"1\" class=\"dataframe\">\n",
       "  <thead>\n",
       "    <tr style=\"text-align: right;\">\n",
       "      <th></th>\n",
       "      <th>notas</th>\n",
       "      <th>horas_estudio</th>\n",
       "      <th>horas_fiesta</th>\n",
       "    </tr>\n",
       "  </thead>\n",
       "  <tbody>\n",
       "    <tr>\n",
       "      <th>0</th>\n",
<<<<<<< HEAD
       "      <td>56</td>\n",
       "      <td>502</td>\n",
       "      <td>7</td>\n",
       "    </tr>\n",
       "    <tr>\n",
       "      <th>1</th>\n",
       "      <td>21</td>\n",
       "      <td>173</td>\n",
       "      <td>256</td>\n",
       "    </tr>\n",
       "    <tr>\n",
       "      <th>2</th>\n",
       "      <td>40</td>\n",
       "      <td>551</td>\n",
       "      <td>383</td>\n",
       "    </tr>\n",
       "    <tr>\n",
       "      <th>3</th>\n",
       "      <td>59</td>\n",
       "      <td>740</td>\n",
       "      <td>472</td>\n",
       "    </tr>\n",
       "    <tr>\n",
       "      <th>4</th>\n",
       "      <td>53</td>\n",
       "      <td>644</td>\n",
       "      <td>425</td>\n",
=======
       "      <td>27</td>\n",
       "      <td>286</td>\n",
       "      <td>359</td>\n",
       "    </tr>\n",
       "    <tr>\n",
       "      <th>1</th>\n",
       "      <td>4</td>\n",
       "      <td>101</td>\n",
       "      <td>427</td>\n",
       "    </tr>\n",
       "    <tr>\n",
       "      <th>2</th>\n",
       "      <td>35</td>\n",
       "      <td>389</td>\n",
       "      <td>399</td>\n",
       "    </tr>\n",
       "    <tr>\n",
       "      <th>3</th>\n",
       "      <td>25</td>\n",
       "      <td>285</td>\n",
       "      <td>564</td>\n",
       "    </tr>\n",
       "    <tr>\n",
       "      <th>4</th>\n",
       "      <td>29</td>\n",
       "      <td>402</td>\n",
       "      <td>322</td>\n",
>>>>>>> d6ea45aef3915597f0a9abeaf087f33c6da746ca
       "    </tr>\n",
       "  </tbody>\n",
       "</table>\n",
       "</div>"
      ],
      "text/plain": [
       "   notas  horas_estudio  horas_fiesta\n",
<<<<<<< HEAD
       "0     56            502             7\n",
       "1     21            173           256\n",
       "2     40            551           383\n",
       "3     59            740           472\n",
       "4     53            644           425"
      ]
     },
     "execution_count": 46,
=======
       "0     27            286           359\n",
       "1      4            101           427\n",
       "2     35            389           399\n",
       "3     25            285           564\n",
       "4     29            402           322"
      ]
     },
     "execution_count": 92,
>>>>>>> d6ea45aef3915597f0a9abeaf087f33c6da746ca
     "metadata": {},
     "output_type": "execute_result"
    }
   ],
   "source": [
    "data.head()"
   ]
  },
  {
   "cell_type": "markdown",
   "metadata": {},
   "source": [
    "Los coeficientes de la regresión lineal múltiple se calculan de forma similar al caso de la regresión lineal simple: minimizan\n",
    "\n",
    "$$RSS = \\Sigma(y_i - \\hat{y_i})^2$$\n",
    "\n",
    "\n",
    "donde:\n",
    "\n",
    " $$ \\hat{y} = \\hat{beta_0} + \\hat{beta_1 X_1} + \\hat{beta_2} X_2 + \\hat + \\hat{\\beta_2} X_m$$"
   ]
  },
  {
   "cell_type": "code",
<<<<<<< HEAD
   "execution_count": 47,
=======
   "execution_count": 93,
   "id": "helpful-grove",
>>>>>>> d6ea45aef3915597f0a9abeaf087f33c6da746ca
   "metadata": {},
   "outputs": [
    {
     "data": {
      "text/plain": [
<<<<<<< HEAD
       "<seaborn.axisgrid.PairGrid at 0x7faad44e81d0>"
      ]
     },
     "execution_count": 47,
=======
       "<seaborn.axisgrid.PairGrid at 0x7ffe63c56130>"
      ]
     },
     "execution_count": 93,
>>>>>>> d6ea45aef3915597f0a9abeaf087f33c6da746ca
     "metadata": {},
     "output_type": "execute_result"
    },
    {
     "data": {
<<<<<<< HEAD
      "image/png": "iVBORw0KGgoAAAANSUhEUgAAAhMAAAITCAYAAAC9o54kAAAAOXRFWHRTb2Z0d2FyZQBNYXRwbG90bGliIHZlcnNpb24zLjQuMSwgaHR0cHM6Ly9tYXRwbG90bGliLm9yZy/Z1A+gAAAACXBIWXMAAAsTAAALEwEAmpwYAACq3UlEQVR4nOydeXwTdf7/X0mTpieU3qXcR7kKokURcSkeFeRYtLBcKuhPVwVX3bLrsYjigYiI9ou64O5+1XXBFaqCKCIrypdjLaJUFMpVQc6SHmlpmx5Jk878/qgJOWaSmcwkmSTv5+PhQ5LO8c7Mez7z/rw/70PFsiwLgiAIgiAIH1EHWwCCIAiCIEIbMiYIgiAIgpAEGRMEQRAEQUiCjAmCIAiCICRBxgRBEARBEJIIW2OCZVmYzWZQsgoRaEj3iGBAekcEk7A1Jtrb21FeXo7y8vJgi+KVI0eOBFsEryhdRiXJZ9O99vZ2+3dKki8UoOslHi69E0ukXPdI+Z1A4H5r2BoTNqQ8WIHCZDIFWwSvKF1Gki+8oOsVHCLlukfK7wQC91vD3pggCIIgCMK/kDFBEARBEIQkNMEWgCAIIlxgGBZ6Qwvqm9qQ3CUWWanxUKtVwRYrYqDrHzzImCAIgpABhmGx77AexR/8ALOlAzptFIrmXIUxw7PohRYA6PoHF1rmIAiCkAG9ocX+IgMAs6UDxR/8AL2hJciSRQZ0/YMLGRMEQRAyUN/UZn+R2TBbOlBvbAuSRJEFXf/gQsYEQRCEDCR3iYVOG+X0nU4bheTE2CBJFFnQ9Q8uZEwQBEHIQFZqPIrmXGV/odnW7LNS44MsWWRA1z+4UAAmQRCEDKjVKowZnoU+WeNRb2xDciJlEwQSuv7BhYwJgiAImVCrVchOT0B2ekKwRYlI6PoHDzImCIIgFATVSggedO19h4wJgiAIhUC1EoIHXXtpUAAmQRBEgGAYFpU1zTh8shaVNc1gGOd24VQrQRzerqcY6NpLgzwTBEEQAUDIzNdTrQSKA3BGbk8CXXtpkGeCIAhCZrhmzEJmvlQrQThyexKEXns5vSHhBHkmCIIgZIRvxtytS7TXma+tVoLrvlQrwR25PQlCrj3FVfBDxgRBEBGN3BH8fDPm5QvHQqeNcnoBus58qVaC8Pth8yR4up5iEHLt+e5tn6zxEb8UQsYEQRARiz9mmnwzZlO7VZDXIZJrJYi5H/7w4ni79hRXwQ8ZEwRBRCx8M82uCdeiW2KMT14BvhlzSpdY5PZLjWivgzfEzPwD5cVx9JToojWyekPCCTImCIKIWPhmmgcrarFl9ymfvBSeZsyR7HUQgtiZv7+vp6unJCslDg8WjsBbmw5RTIsLZEwQBBGx8HkRwHa+xN77/AjSu8WisdmMGJ0GyV1ikJniefZLcQ++w3c/dFoNDp+stcdQAAhIpUpXT4m+rhUlX53A8oVjYbZY6d46QMYEQRARC5cXYVZBDraVnkZqUgwmjumDv6z5xv632QU56JXZBaOGZHg1KMgDIR6u+/Fg4QisWn8A+rpW6LRRePyuUbBYmYBkVHB5SvR1rTBbrBjeP03Wc4U6ZEwQBBGxOHoR9IZmnDjXgG2lp2FoMGHmTTn4939OOK3fb9hRgUdnXYkfjlcjKzWBZqUy4+rV0Wk1dkMC6LwHP59vwOZdJyVlVGg0GlTWNAc8YyScIWOCIIiIxuZFyEqNh9nCwNhi+fV7cK7fn6tuwoYdFVRjwE84enUOn6y1GxI2GJaVlFHBMCwM5kS88NquoGSMhCuKMiZ27tyJN998E62trbj++uuxZMkSlJaW4qWXXoLZbMatt96KoqKiYItJEEQYwjUr3rzrlNOLKyslDj0zEjF/8hCkd4tDZa0RJy/EYkCPJDIo/ACXZ0CtUknyFugNLVi76ajPGSMZyXGi4zUioRupYsppnz9/HkuXLsWaNWvw2Wef4ejRo9i9ezcWL16MNWvWYNu2bSgvL8fu3buDLSpBEGGKbVY8vH8aBvRIQtGcq+wllrNS4lB4w0Cs/+IYWBZ4feOPWPfFcSxe8w32HdZTWWU/YPMM2O6BThuFgT2T3L4T4y3wlDHChaNOZKXGY/+RKjz62i4sXluKR1/b5fXe2zJCxOwTiijGM7Fjxw5MmjQJmZmZAIDi4mKcPXsWvXv3Rs+ePQEAU6dOxfbt25Gfnx9MUQmCCFEcZ4gpXWPRwbBoMJqcZouO2/Tt3gWv/XEc9IYWxMdq8ew/vsW0cf2xcUcFVUGUiOtsPSM5DtX1rW6zd67MGACCs2Vcz9MtMcZnz4bQOhiutSkioWqmYoyJs2fPQqvV4t5770VtbS1uuOEGDBw4EGlplyNm09PTUV1dLfrYZWVlcorqF0hG6QRDvry8PN6/lZeXO31W+vVTGnJfL41GA4M5EWs3HUVivBaTr+uLDb8aBTptFBYUDkVGfBuqW2LtbnCdNgoP3J6LD7/+GTdd3avzhaDijqU4U1mDqvMnZJWZDzF6J5ZA6KnjvXC9zrasjQWFQ5GqM8Jqtdr3q2oAqs47H4vrO0/neXRWLhYWDsUah+8WFA6FQX8KVeet3Af6FZO6m9d773rO2QU5QdcXue6pJ71TjDHR0dGBAwcOYN26dYiLi8PChQsRG+tuKapU4teZPF0AJVBWVkYySkSJ8uXm5kKn0wFQpnxKRsj18rQOzfU3vaHFHnQ3La+/3ZAAOgf3tZuOYvnCsdi45QCmjesP/DrUfPj1z/jNyB5otzJOrnXXmW2f7HRkp/fzw9UQh6PeiUWonkqNAaisabbfC6Dz+v9tczmmjeuPkq8r7Pdj9SJps/fKmmb89X/3Od3PdV/8jEdmDMLqRZ49G3w65O3eu/42hg2uvgRq7FGMMZGamooxY8YgOTkZAHDTTTdh+/btiIq63BK2pqYG6enpwRKRIAiF4KmHAwDvXTt5vAv1TW0oGN3bvoxhqzuhUgGff3MaswpysGP/WcwqyHHaJpIi/OXoZ8IXtwCV82epPS8aW0yc97PVzCDXQx0Qvt84elim1+wO19+288C5iNAXxRgTN9xwA5544gk0NTUhPj4ee/fuxcSJE/H3v/8dZ8+eRY8ePbB161ZMnz492KISBBFkPK1dAxDUtZNrttg1XodVO5z33bijAo/MGglDgwnbSk/j5qt7I6dHVyxfOBamditSwjQ6nw85Omd6qjzq+FlqPQdNVJRbfMvGHRVYeu8oj/vx/cbVi8Z7rW7q+tsMDSbs2H827KtmKiab44orrsB9992HuXPnYtKkSejevTvmzJmDFStW4OGHH8akSZPQr18/TJw4MdiiEgQRZDxF5Hvr2qnTRmHngXOYXZDjlhHAV8Ogqq4FAGBssaBPVhcMH5iOnF7dMGJAGrLTE8LuxeAJsdkQXHBlaTxYOAJ7f7xg/yzH7N1ktnLKamzxLKun3+iY3cF177l+2/zJwzCgRxLvPuGAYjwTADBjxgzMmDHD6bsxY8bg008/DZJEkYXFykCr4bYvxay5eToOQXiDYVho4lKcejG4Dr7eKhMK6dqZ0iUWo3Oz0NBsss8W+dbER+akY0jf5LCdVQLCrjsgT1VIvvoNQ/oky9rPJKUrt6zxOs/HlfIbI7U3i6KMCSK4aDVqLF7zDeffjEYjEhMTBR1n+cKxcopFRBCX16rLPa7He6tMKKZrZ8+MRK/HDfeiVEKvOyBfVUiueyF3PxM+WdFe69N+Qn9jJPZmIWOCIAjFIHQ93tvsb/SwTCxfOBZ1jZ31JPp17yrIGIjUWaWYOAglXCOh2SR8sh48qPd4fCX8xlCDjAmCIBSDp7Vqrpca1+yPYVjsP1Llc7ZBJM4qxVx3ILjXSGw2ia+yRqIeSIEWtgmCUAy2tWpHxK7H882y9YYWWWUNJ+S47oGC7q8yIWOCIAjFwBUJz7dWzTAsKmuacfhkLSprmu29DuTINhB6rnBBzHW3Eaxr4o/7ayPc77M/oWUOBTBk6DDJx6AMCiIcsK1VJ0TnQh0d77E6IZ+rW45sA6HnCpc1dKHX3UYwr4nc99dGJNxnf0LGhAKIi43hzaIQCmVQEOGCWq2CtbUOeUP68AbaeQoY5IvEV6ngNe3RFYZhcfJCQ0Q0anK87t6Qo3CVr3Dd34UzRgBgcbG2GXWNvpX4lvs3RULbcUfImCAIQpF4mil6Cxh0jMRPSoiB3tCCR17dJWrGaTv/GX2jqODESEBswKac2LwovTLzcUbfhHNVRqz74hiMLRbMLsjB56WnYWyxyFbi25ffFIleDvKLEwShSFxnionxWpzRN+GH49XQRWs8Bgyq1SpkpXa666vrWvDz+QYkxmsBCA/Ys53f1qiJ71yRiL8DNr3FLqjVKqhVKqzecBAbdpyAocEEs6UDG3ZU4Ma8Xj4FZcr5myIxSJSMCYIgFInjTDE1KQaTruuLzbtO4rm392PV+gN4sHAEb8CgbWb46Gu78Nzb+7F510lMuq4vUpNiAAgL2LOd39aoSUxwYrjjS8CmUBzv3eK1pXj0tV3Yd1jvZlB4axYmNigzIznOTaceLByBjOQ40b/Bn0GiSoWWOQiCkB051osdA+1uzOvl1LBJX9eKkq9O8DZP4poZbtxRYW9xLWTGaTu/rcHXtHH9oVYDVw/NDKmKmP5Yu/dnUSehsQvemoWJ9SpU13fqlL1dOQuUfHUCQ/oki17m8FeQqJIhzwRBELIidGbpDafZL0fLcH1dK8wWK2fzJE+zVqGzaMfzGxpM2LLnFPpkdQ05Q0KOe8GFt4ZXviJ0Vs/lHZldkIOdZed88pTUN7V1GqlfV6DkqwqUfF0BfV2rT94Ef3pulAp5JghFIjbVlasRGaXLBge5ouIdZ7+Xmk3YsvuU4Jke38zwypw03JjXU9AsOhxKKgcz68JXhM7qXe9PUkIMotQqDOrTzad7Jac3IRx0RyxkTBCKxFPTMS64GpFRumxwkDMq3jb7Fdt4iW/7oX1TRA3ooV5SOZhZF74i5l5z3Z/uab79LrkamHmSLZwhY4IgCFlxnOGlJsXgxrxeUKsBnVYDhmF9mp2JnelF4syQCzlm24GulxCse0c6Iw0yJgiCkBXbDO+9z4+gYHRve+Dk5l2nJOXai53pRdrMkAups+1g1UsI1r0jnfEdMiYIgpAV2wwvrVssFq/5xi/r9a6z5YzkOFTXt0ZMtUGhSJ1th2LMBcDvTbF9b1J3Q2VNM+mJjJAxQRCE7KjVKpjbrX5Zr+eaLT9YOAIlX52Avq41IqoNikHKbDsUYy74vCmjh2VKak1PeIZC3QmC8Av+qpLINVt+a9Mh/GZkD/tnW7VBMV0gqWOkO6HUmtyGo36kJsVg2rj+OKNvxM/nL3F6WU5eaKB7LQPkmQgTKA2SUBpyR8fb8Fb50Pa5sdWEM4ebBM1EI7GXghD8dQ/9iU0/bFVTHYudcenN90erUHupLeLvtVTImAgTxKZSckGplIScyBEdz7X27a3yoe2zRh0leL3fl9iASOgKGewMB1+usU0/XKum2nqsuOoNwyAk4kD4UIoekjFBEITfkLJe72nt23W2bIuZAC5XGzSZhcdsiI0NiCRPRrAyHHy9xjZvimu3V1uPFZuBodNGYVZBDraVnlZ8HAgfStJDMiYIggg6rrMrjUbD6y1YvWi822w5IzkOQ/okO82e9YYWwTUWxNZjCNUsB6XjqAe6aA3e+/yI6GvsmE20edflqqmGBhN27D+LFx4Ygx9O1IBhgG2lp2FoMCk+DoQPJekhLbITBBFUuPpHGMyJaGwx8XoLXPtCaDRqtz4RYvojiO2lEIldIf2Nqx4sXvMNCkb3tnd6BYRfY7VahQE9ktzu6fzJwzCwZzdkJuuwZc8puyGh9DgQPpSkh+SZIAjCLwhdy3WdXSXGa1FV3474OAtmFwzCV9+fhaHBBEBcJoGY9X6xsQGR2BXSFbnX6r11egV8u/99u49HfZMJJrMVmSmdMqbqjFi9KPQrXSpJD8mYIAhCdsSs5TrOrlwj8G2dID8vPQ1ji0X0DFLMer+YbUMxy0FO/LFWzzfLVv/qP/f1Gp++6J7RkwCERaVLJekhGRMEQciOp7XcjOQ4/HKxEYbGNqR2jUVylxhkpcThNyN7oHdWIl7f+KPTfht2VODZ31+LbokxiplBBjvLIdj4ulbvyZvBN8u+emgmRgxMtV9jAKisaRZU/ZRPzqfn5/rlugQaJekhGRMEQcgO3yyzocWEY2fq8damQ/aZ1KOzR2JWwSCs/fgQpuX359yPBau4WWQk93HwpTKmN28G3yx7QI8k+8vR9RhZKXGYefMgJ31yPCafnM0mxj8XJggoRQ/JmCAIQnb4ZplqqOwDP9A5sJ+rasbmXSdhtnQgJlqtmDVggh+xa/UMw+LkhQac0TdiWn5/7DxwDoYGk5M3Q8gs29XT8JuRPdz0yfGYfHImxFDugdzQFSUIQnb4siMams1uM0WGZe0VC2OiNZhdkCM4q4IIDmKyX2zehMVrvsGGHRXYsvsUJl3XF6lJMW6ZB65ZOp7iawAAKu6qlrZj8smJ9kZZrgNxGb94JgwGA3766SfcdNNNePHFF3HixAksXrwYgwcP9sfpCIJQGHyzzJMXGtxmimqVyl6x8L3PjyExXotp4/oDqs6/9e3eBYDzOnkkxScoETFr9Z6yNLbsOSXK68TnaXD9rNNqcPhkLbolxqBfdhc8+/trYTJbkZESj+y0BBw8qJfw6wku/GJMPPnkk7j++uuxb98+7N+/H3fffTeWLVuG9evX++N0BEEoEK613H7du+LBwhFOa9w9MuLxwO3DUXOpFWZLB8wNHfZUQAAYPiCFMyI/HKtNhhJC1+o9ZWmI9TplJMc56c/egxfwwO3D8bfNh52qoa5af8DeQdY1Gyg7LfJiXAKBX4yJhoYG3H333Xj55ZcxZcoUFBYW4v333xe8/8svv4xLly5hxYoVOHbsGJYsWYLm5maMGjUKzz33HDQaCvVQMtR0jOBDo1Fj/FU90CszEXWNbUhK0OFirRHGVguG9EnmnGXGRGvw/P/ud1sXT+s21ik4j1AmnrI0PN0/rsyP6vpWlHx1wu65Agvs2H8GLzwwBpYOBjHRGrshAVzOBrLVqrDFUxDy45e3ssVigcViwd69e7FixQq0tbWhtbVV0L779u3D5s2bMX78eADAY489hmXLlmHkyJFYvHgxSkpKMHfuXH+ITcgENR0jPKHRqJHTqxuAbjh62oB2K4t//+cEEuO1mF2Qgw0ONSaK5lwFa0cHdXsMYYRkabjCl/nRrUs09HWtTp4rAPjhRA36ZHUFWNgNCRuOHWWpSqn/8IsxcdNNN2HMmDEYMmQIcnNzMWXKFEyZMsXrfg0NDSguLsaDDz6I48ePo7KyEiaTCSNHjgQAFBYW4vXXXydjgiACjK/VDr3tp4mKwtufHrEvb3xeehq3jx+A9G6x6J3VBQN6JPH22Aj1bo+BIthdJX2phcBXH2L5wrEedYHv77aOsraMk6oG93MG+zqFOn4xJh555BHMnDkTGRkZAIBVq1YJCr585plnUFRUBL2+MzimpqYGaWlp9r+npaWhurpatDxlZWWi9wkkeXl5MBqNko/j72OIOX4wfg/X9v6+93l5ebx/Ky8vD6gs/kKj0cBgTsTaTUfts8QFhUORqjPCarVK2s8clew08BsaTNiw4wT+fMdVaLt0Dgdrf4FGo8GCwqFOx3Hs9nimsgZV50/4/TooCaF658u987eeVjUAVec9b2NSd+P0RhnqGzzqQkNjo9vfbTETtt9u0J8C4Pw7fdXxUEGue+pJ7/xiTLS3t+Pw4cP49ttvAQAdHR344osvUFRUxLvPhx9+iKysLIwZMwabNm0CALAs67adSiXeUvR0AZRCYmKioo9hNBpFHT/Qv4dPvmDe+9zcXOh0OgCdD3Mo6CEXlTXNeOG1XU6zxLWbjmL1Is8eASH7VdY0c9criGcxfNAVADpnjFV1LXj63kTU1LfiktHk1O2xT3Y6stP7+evnhxyOeif23ilFT/n0onf3NGSlxqNnZjeUn6pFalIc9IYW3DiqF/YevIDsjFRkpcZjcJ901BvbkJQQgyi1CoP6dHPyiLj+Tl913IaSvRqBuqd+MSaKiopw/vx51NbWYujQofjpp59wzTXXeNxn27ZtqK2txbRp09DY2IjW1laoVCoYDAb7NrW1tUhPT/eHyARB8OBLtUOh+7lG59ui8VXWTi8T19r57IIcAFSDQgi+3rtg46nnhFqtQr/uXXGuymgvvW7Tm4zkOM4sk+5eMjikXCd/9CkJRfxiTBw7dgxffvklnn32Wdxzzz1gWRbPPfecx33effdd+783bdqE7777Di+99BKmTJlit6w++eQTjBs3zh8iEwTBg6+dCR33S02KwY15vaBWAzqtBgzDQq1WcUbnl3x1AgsKc1FZ0wyGZd3WzpXYq0OpKKmrpBi8xVlU17e6Vb58a9MhDOmTLKg3iEndDZU1zXZDVPdrsTSGhb06p9Dr5GufknDDL8ZEeno6NBoN+vTpg4qKCtx6661oa/MtgnbVqlVYsmQJWlpaMHToUMybN09maQmC8ISvnQlt+733+REUjO5t7wS6edcp+8ytvqmNMzq//HQDtvyzDI/OvjJkenUoESV1lRSLpzoWcvUGefyuUbBYGafvZhXkYMf+s5g/eZig6xSq3h+58YsxERcXh88++wyDBw9GSUkJ+vXrh4aGBsH7FxYWorCwEAAwePBgfPTRR/4QkyAIAfjamdC2X1q3WCxe8w3nzI1v5gzW1rfDGJIza6WgpK6ScuKLx4XLg/Dz+QZ7Xxjbdxt3VGD5QuE1TELV+yM3fqks9Mwzz+DYsWMYO3Ys1Go17rrrLtx7773+OBVBEAHAW88ET/uZ262cM7dz1U1gWRaP3zXKqXfCrIIc7Cw7BwD46vuzWDhjBPXqkICv904JMAyLyppmHD5Z27nsxXQG5YvpDWKDy4Ng6wvjiNnSAbPFKvg6+SJLOOIXz8TJkyfx+OOPAwD+53/+BwDwySef+ONUBEEoHL6Z28nzjXj1/R9QNOcqvP6n8bhY24wT5xrsmRoAYGyxYHDvZKxeFF4za8I73gIbxXpcuPTQ1hdGilchXL0/YpHVmNi5cyesVitWrlwJlmXtqZ1WqxXFxcW47bbb5DwdQRAKgytFjmvd3rE2QPEHP2D1ovG4anAGfp14gmFZqFUqDOyZhMyUePvsmogcvAU2CukN4qiP3RJj8Phdo7By3QG7Hg7smWTXzcR4LW6+ujd6ZSaCZVl7kLAQhPYpCWdkNSaOHTuGb7/9FnV1dfjXv/51+SQaDS1zEESY42kmaZu5natuwsnzjU7eB1uwWlZqPCxWxr6GbW8XTUQkUgMb+fTx9T+Nx+kLNeiTnW5fiujbfTyOn63Hmo8OcXpBCO/Iakw89NBDeOihh/D+++/jjjvukPPQBEEoHG8zSdsL4NX3f+B0K1OKHeGI1MBGPn1avWg8YphLToXOWBZ2Q8JxW9I94fglAHP27Nn4xz/+gbvuugtz5szBm2++GRYlSQmC4MfTTNKGp2A1IfsTkYPUwEYx+kS6Jx2/BGAWFxfj2LFjmD9/PhiGwcaNG7Fy5UosXrzYH6cjCEIBeJpJOq5d9+3eBcVF+WhoNjkFq1GKHeGI1MBGT/rk2ujLm+4puVy2UvCLZ2LPnj146623cPPNN+OWW27B2rVrsWfPHn+ciiAIhcA3k8xIjsO+w3o8+touLF5bikde3YVzVUYM65vqlKpIKXaEK1LSWsXok6dtbbEXNv199LVd2HdYb09TJTrxi2eCZVlotVr75+joaKfPBEGEH3wzSaGxEI77n6m8HCAndQZIs8rIRIxnw9O2lTXNHvWX9KsTvxgTgwcPxvLly3HnnXcCANavX4+cnBx/nIogCAXBlSInJirftn/V+ROydAKlJkyRjZiUTb5tPelvVmo86dev+MWYWLp0KZYtW4Y5c+aAYRhcf/31eOaZZ/xxKoIgFIBtdlbX2IYYnQYsy0ClUsNktiJGp/F7LATf7JAyREIbf8z6GYaFJi4Fh0/WCjqmp3iKylp3r8V7nx9BWrdYmNutEeWp8IsxcfToUVRWViI5ORkAcPz4cdx555347LPP/HE6giCCCNfs/75pudj0fz9DX9eKrBT3NuNyxkJ48j5QE6bQxR9epcvHLBd8TL5maRnJcdhXrnfSr9SkGBSM7m3vRRNJngq/GBPPP/88pk+fjqFDh0KlCu8LSBCRjuPs39ZqvKnFjAcLR+CXi41oM3fgy29PY/nCsTBbrLKVG7bNWvWGZpzRNyExXgtzQ4egRmKUIaJ8/OFV4tLVM/pGpHWL5W3sxRdPUVXXArBwal1+Y14ve3dcuWQWA5cnJ1D4xZjQarW45557/HFogiAUhm32n5oUg0nX9bUPpray2XsPXkDB6N6wMh0Y3j9NlnNyzVptJboNDSa792FY39SQbcEd6fjDq8Snq5t3nfLoQXCNp2AY1q1i5qyCHLA8jcMC4Qnj8+QkaPzymnfDL2cZOHAgTpw4gUGDBvnj8ARBKAjb7P/GvF7Ysf8spo3rD/w6Hu/Yfxa/Gdmjs63zwLG8x3CdUWm8DIBcs9aNOyowbVx/lHxdYfc+UBOm0MUfXiVHXXX0ICTGa3FG3wSdVo2s1ASvOqI3tLhVzNy4owKL777aq8wMw6KythnVdS2I0WmQ3CXG3n9GCnyenKfn50o6rlD8YkycP38e06dPR/fu3aHT6ezfU8wEQYQftjXl6vpmFIzu7eaZUKk6BzZTO3cVXK4Z1YLCoR4bLfHNWqFyrydATZhCE75YBSleJdsxz+gb7frD5VHzFufAp38WK+NRZi5dn12Qg16ZXTBqSIYkg4JPpmYT4/MxxeAXY6KoqMgfhyUIQoHYZv8nztbj6b/tc5utPTJrJHTaKKR0cZ9RMgyLkxcacEbfiGn5/bHzwDkYGkxYu+koBvdJ5zUA+GatvTMTcfv4AejbvQt5H0Icf3iVbMfsEqfG5l2d+sMX55DWbSxvRgaf/nVPS0B2WgKvzFzegw07KnD7+AHITpNm8PLJlBDjl9qUbvjFmLjmmmv8cViCIBSKWq2Cxcpwzoyq6lo4Z5Te4h48rTPztTV/d+sRGBpMGDEwBd3TyBMR6vjDq6RWq8C0Vtv1B796zhwxWzrw/dEqbNhRwemp4POaZKd5bo3O5z1gWFZyXAWfTGiv9fmYYghMZAZBEGFPSlfumdHInHTOSHlPcQ9b9pzyuDZum2GmdRuL749WgWFgN0IoW4PwhtVqxZgrO70el5pN2LL7lJveMr+uDnBlZPjqNeHzHqhVKsk6yyfTwYN6SccVfP6AnIUgiLCHr78BX8od3yxNrQYWFA71ujauVqswoEcS+mR1xZY9p+yGBGVrEEKweRCG9klx09tZBTnYWXbOvi1XB1Ff+oZwPSOzC3IwsGeSLDorpZeJVMgzQRBhiK+VA6VUHBQ7W+ObpV09NBNtl84JOi9laxBisOm3Sd0NF2ub0cGwaDCanDrZ6rQarFp/AIYGk30/ubxdNn3tlZkvezZHsCFjgiDCDF8rB8pRcVDMGjffGu+AHkk4WPuL4N9L2RqEEBz1OzFei8nXWbGBI4MDAOZPHua32iRqtQo9MxLRMyNRluMpBTImCCLM8LVyoNSKg2K9GuRVIPyBkD4t0/L62w0JwF3XSS/FQ8YEQYQZvlYOlFJx0FevBnkVCDkR3KeFJ4PDpuukl+IhY0ICFisDrYZiWAllwReLoNNqPBaCsu2XGK/FjXm9ABWgVql460NU1bWgvskEk9mKLvHRor0a/ugISYQO/ojr8eRdc3wuYqLVgipVOnbCtXZ0oGt8DOkpD2RMSECrUWPxmm8kH2f5Qv4ywwQhFr4aDKvWH8D8ycN4vQVZqfF4/K5ROFfV5LSW3Ceri1OAGMOwOHCs2mm72QU5orwa/ugISYQO/orr8eRds/Vpee/zI4iJ1mB2QY5bzISnSpWzCnKwY/9Zj89QJEPGBEGEGZ5qMHjyFqjVKmSlxmPlugMePQx6Qwt+Pt+AzbtO2rdjWIjqo+A6g3TtjeCtNwcR2vgrrsdTP4/Lz0UsFq/5BonxWnsfGbVK5VQ11VMNlEB2AbURCl48emIJIgxRq1Uwt3dGqzviLQaiwWjy6mGob2oD49IdceeBc5hVkOPW34AvAt5xBsnVG8Fbbw4itPFXXI+3fh6258Js6YC5oQMlX19+Phyrpnrq/RKoLqA2QsWLR8YEQYQpvnRdFLJPcpdYqFUqp+0MDSbs2H8WyxeOhdliFVVjgqs3grfeHERo42tHUG/7CckQEqrjXNuAla/mhFCkZlkFCooeJIgwha8ipad8eSH7ZKXGY2DPJMwuyHHabv7kYRjQI0lQ9T2n83iIrCfCE190U+h+3qpAZqXGY0HhUK86zlUVc++PFwJeYdWTN0ZJkGeCIMIErnVVsfnyfDM7AKisabYf+6pB6eiRnoDBfZJhMluRkRJvb3Jkk6OxxQRNVBRMZitSujqf23aevt3Ho97I3RuB+muEL3yVIIXux6XTQuMK1GoVMuLbsHzhWNQ1tiGlayz6ZHbhfXbqmtoQE62BlenAdcO7BzxewVcvjlikxmVErDFBaZ1EOOFpXVVsvrxrjr2nY7t25rRt+97nR1AwurdbDIXrOu/pi0147/MjbvEWQnpzEKHPuSqjLLVJxMQVMAyL6pZYrF33jX3bBwtHoOSrE9DXtUp6dvyBtzgQOZAjLkNRxsSbb76JL774AgCQn5+Pxx9/HKWlpXjppZdgNptx6623oqioSJZzyZHWSSmdhFIQsq7q68xDzJqtbdtp4/o7xUG4ZmtkpcY7HXdb6WlMG9cfajVE9eYgQhc5YwGq6lpwRt+Eafn9AXQGBHvS0bWbjjqd961NhzBtXH+UfF0R1JgEvmfU3xU55bgXijEmSktL8d///hebN2+GSqXCfffdh61bt2LVqlVYt24dsrKy8MADD2D37t3Iz88PtrgEoSi8RblLmXmIiby3b+sQB8GVrVE05yokxmmdAjhtkfUjBqbCarVKuh6E8pFScdURhmFx/Gy9PVXZFt+wrfS0Zx11OS9Uzp8DmbEBePcO+NNLIse9UIyfPy0tDU8++SSio6Oh1WrRv39/nDlzBr1790bPnj2h0WgwdepUbN++PdiiEoTisK2rOuK4rso389AbWiQfm29b2/+5sjWKP/gBMTqN4OMS4YcYvfKE3tCCNR8dcqsJcfPVvb3qqON5wUqTQypSnlGpyHEvFOOZGDhwoP3fZ86cwbZt23DXXXchLS3N/n16ejqqq6tFH7usrMztu7y8PBiNRt+EdUCOY8h1HH8fQ8zxg/F7uLbnuvdykpeXx/u38vLygMmi0WiwoHCo3X1rizsw6E+h6rwVJnU3zpnHmcoaVJ0/IenYXNtu/OqUPQ6CL1ujobGR97iA/+9dKCNG78QSqOsuRq88wafbPdLjPeqo43kfuD0XH379MwD4LIdUpDyj3vB2T4XeC096pxhjwsbPP/+MBx54AE888QQ0Gg1Onz7t9HeVSvw6Ed8FSEyU3gJWjmPIdRx/HsNoNIo6fqB/D598npTf3+Tm5kKn0wHofJj9LQvDsBjcJ51zXbWyppkzIrxPdjqy0/tJOjbfto2tJiwfOBbtlg7ObI3sjFRkpcZzHjcQ1ytccdQ7sQT6uovRKz74dLtfdhJ6ZvTk3Oenn37C6kWXYxAykuMwtG9qULuESn1G+RB6T6XeC8UscwCdP/ruu+/Gn/70J9x+++3IyMiAwWCw/72mpgbp6elBlJAIJSxWRlHH8Tee8uuF5vUzDIvKmmYcPlmLyppmMAzr9dh8cgztk4qcXt0wtG8K77nFHJcIP4Tefz69BPh1OztNwFo/K04Of+Jr7Q25kHoNFOOZ0Ov1eOihh1BcXIwxY8YAAK644gqcPn0aZ8+eRY8ePbB161ZMnz49yJISoQI1YnNGq1Hj9vEDwLAs1CqVW2q0v8r2BiIanQhfvOmlWP1iGBYGcyJeeG2XospTh/pzohhj4u2334bZbMaKFSvs382ePRsrVqzAww8/DLPZjPz8fEycODGIUhJEaKI3tDg18AI6Zz6rFzk38PJXeqm/o9GJ8EWIXorRL67UUE9pkIFsshXKz4lijIklS5ZgyZIlnH/79NNPAywNQYQXQlK//JleShC+IlcKqS/HI50XjqJiJgiC8A9CUr/8mV5KEL4iVwqpL8cjnRcOGRMEEQEIbeDlaZtQaThEhBdyByYKafRlg3ReOIpZ5iAIwn8ICe7ytk2gGg4RhCNyByaq1Sqk6oxOqaF8xyOdFw55JggiQhCS+iVHeilByI3cqZtWq1XQ8UjnhUOeCYIIEIGMCvcHoZ66RoQHgc6uIJ0XBhkTBBEANBpNWESFh3LqGhH6BCO7gnReGLTMQRCBILqrX6LCPVUG9Md+BBFM/JFdwfcs0DMiDvJMEEQAaDYxsubKA77P0ih3nghV5K45wfcsjB6Wif1HqugZEQF5JggiACTGRMmaK88wLE5eaBA1S7PNtH44Xo0z+iYkxmsF7UcQSoBhWOiiNZhdkIOZN+cgNSkGgLTniM/T8cvFRs7vT15oIE8FD+SZIIgAwLY3oGjOVW4zHV+iwm2zqTP6RkmV/GYV5GBb6WkYGkySvSQE4U/49HfH/rOYP3mYz9kVfJ4OQyP3998frcKGHRXkqeCAjAmCCABWqxVjrpQnKtw2m5qW319wDjzXDGzjjgpMG9cfJV9XUO48oWj49Hf5wrEY0CPJ5xc6Xx2J1K7c3zO/NhD21s8jEqFlDoIIEHLlyttmUzsPnMOsghxJlfygotx5Qvnw6a/ZYpXkGeCrI9Gve1e372cV5GBn2Tmn81MlzMuQZ4IgQgzbbMrQYMK20tOYNq4/1GrgqkHpYNGZg+/q9eCbgV2Zk4Yb83pS7jyhaPxVidK1jkRKl1h0MCyOnalD3+5dUFyUj4ZmE3RaDVatPwBDg8np/CqoUFnTTM8PyDNBECFHRnIcHiwcYTcotuw5hfRucSj+4Ac88eY3ePS1Xdh3WO8UIMY3AxvaN0WWioIE4U/8WYnS5jEc1jcVpy82oah4NxavLcUjr+7CuSojhvVNxYAeSZg/eZjT+WcX5ODVf5dxPm+RCHkmCCLEqK5vRclXJzBtXH9ABfTOTMT6L45BX9cK4PJ6bt/u48GysFcKHD0sU1A/AoJQGoGoRMmX2WGLi7CdX29oxolzDfi89DQAYNq4/jijb0Rat1hJ8RuhDhkTBBFi1De1QV/XipKvKwAAM2/OsRsSNhLjtTh+th5rPjrklidPAWNEKOLvSpTealjYzl/f1IYNO04gNSkGk67ri407KmC2dGDzrlMRneFByxwEEWLY1o8dcf1889W97YYEQLUkCMIbfM+Va1yGbbsb83rZDQmAnjEyJggixHBdP9578II9hgLoHAB7ZSbyzrIIgnBHaFyGbTu1GvSMOUDLHAQRYnCtH2ckx2FIn2R7RHpzm8Uv0e8EEa54istw7VQ6elgm0rrFYvOuU/SM/QoZEwQRgnCtH2enJyArNR77Duvx3udHMKsgx+6GpVoSBOEdrufKU/8OuarahgNkTBBECOA6M+KLZHeMSHesQXH10MyIjjQnCF/hy/JYvWi8YE9GJGROkTFBEApHTJdPx4h0Q4PJnvExYmBq2A9mBOEPvGV5CPVkhHuWBwVgEoTC4ZsZcUWNC41IJwhCGGKfKTHPazhBxgRBKBxPMyNX/FkpkCAiEbHPlJjnNZygZQ6CUDhi+xL0ykzEk/NGISZGg+TEGGSmhP96LUG4Ilfcgtjqm/7qI6J0yJggCIVjmxl5ixrnW6vNTCGvBBFZyB23IKb6ptDnNdwgY4IgFI7QmZG33gKeiMTocyJ8kfIsCIXvmQlEHxElQsYEQYQAQmZG3qLO+YjU6HMifPH1WRCKt2fG331ElAgFYBJEmOBrJkekRp8T4Yu/s5romXGHjAmCCBN8zeSI1OhzInzxd1YTPTPu0DIHQYQJvq7VRmr0ORG++DtugZ4Zd8gzQRBhhG2tdnj/NGSnJwgaPKk2BRGO+PIsCIWeGXdCwjPx2WefYe3atbBYLLj77rtxxx13BFskgggbIjX6nCB8hZ4ZdxRvTFRXV6O4uBibNm1CdHQ0Zs+ejdGjR2PAgAHBFo0gwoZIjD4nCCnQM+OM4pc5SktLce211yIpKQlxcXGYMGECtm/fHmyxCIIgCIL4FcV7JmpqapCWlmb/nJ6ejkOHDnndj2VZ+7/NZrPb33U6HRiGkSyfHMeQ6zj+PoaY4wfj93BtL9f94dIhG9HR0VCpLrs3bbrX3t4u+BiEO3S9PCNU78QSKdc9Un4nIO9vddU7GyrW8a2rQN566y20tbWhqKgIAPDhhx/i8OHDeP755z3uZzQaUVFREQgRiQgnNzcXOp3O/pl0jwgEpHdEMHDVOxuK90xkZGTgwIED9s81NTVIT0/3ul98fDxycnKg1Wo5rSiCkIvo6Ginz6R7RCAgvSOCgave2VC8MXHdddfhjTfeQH19PWJjY/Hll1/ihRde8LqfWq1GYmJiACQkCGdI94hgQHpHBBPFGxMZGRkoKirCvHnzYLFYMGPGDIwYMSLYYhEEQRAE8SuKj5kgCIIgCELZKD41lCAIgiAIZUPGBEEQBEEQkiBjgiAIgiAISZAxQRAEQRCEJMiYIAiCIAhCEmRMEARBEAQhibA1JliWhdlsBmW+EoGGdI8IBqR3RDAJW2Oivb0d5eXlKC8vD7YoXjly5EiwRfCK0mVUknw23XNsuKQk+UIBul7i4dI7sUTKdY+U3wkE7reGrTFhQ2oHvUBgMpmCLYJXlC4jyRde0PUKDpFy3SPldwKB+61hb0wQBEEQBOFfyJggCIIgCEISim/0RRD+gmFY6A0tqG9qQ3KXWGSlxkOtptbNBBGp0JjgO2RMEBEJw7DYd1iP4g9+gNnSAZ02CkVzrsKY4Vk0eBBEBEJjgjRomYOISPSGFvugAQBmSweKP/gBekNLkCUjCCIY0JggDTImiIikvqnNPmjYMFs6UG9sC5JE4Y3FyojaPi8vz+d9CcIXaEyQBi1zEBFJcpdY6LRRToOHThuF5MTYIEoVvmg1aixe843g7Y1GIxITEwEAyxeO9ZdYBGGHxgRpkGeCiEiyUuNRNOcq6LRRAGBfH81KjQ+yZARBBAMaE6RBngkiIlGrVRgzPAt9ssaj3tiG5ESK3CaISIbGBGmQMUFELGq1CtnpCchOTwi2KARBKAAaE3yHljkIgiAIgpAEeSaIiIKK0hBE+EDPs3IgY4KIGKgoDUGED/Q8Kwta5iAiBipKQxDhAz3PyoKMCSJioKI0BBE+0POsLMiYICIGW1EaR6goDUGEJvQ8KwsyJoiIgGFYMCyLR2dfidkFg5CaFENFaQgihAlWkSmGYVFZ04zDJ2tRWdMMhmH9er5QgQIwibCHK1Br4YwRGNw7GZkpFP1NEKFIMIpMUdAnP+SZIMIerkCtNR8dAsvC4wBAMxCCUDa2IlPD+6fZC03585mloE9+yDNBhD2eArX4Kt3RDIQgQotAPLO+jCWRQlA8E1u2bMHkyZMxefJkvPzyywCAY8eOYfr06ZgwYQKeeuopWK1WAMDFixdxxx13YOLEiViwYAFaWsgCJMThS6AWzUAIIrQIxDNLQZ/8BNyYaGtrw4svvoh169Zhy5YtOHDgAEpLS/HYY4/h6aefxn/+8x+wLIuSkhIAwHPPPYe5c+di+/btyM3NxZo1awItMhHi+BKoRWlnBBFaBOKZpc6i/AR8maOjowMMw6CtrQ1xcXGwWq3QaDQwmUwYOXIkAKCwsBCvv/46fve73+H777/HX//6V/v3d955Jx577LFAi02EML4EatlmII6DE81ACEK5BOKZpc6i/ATcM5GQkIBHH30Ut956K8aNG4fs7GxotVqkpaXZt0lLS0N1dTUuXbqEhIQEaDQap+8JQiyugVreHn6agRBEaBGoZ1bsWBIpBNwzcfz4cXz88cf4v//7PyQmJuLPf/4zvvnmG7ftVCoVWNY9ElelEn/jysrKfJI1kISLjBqNBojuimYTg8SYKLDtDfb4F38j9zVM0Gjw9PxcNJsYJMSogfZaHDyod9omLy+Pd//y8nK/yhdK5OXlwWg0itrHcftIvnZciNE7sYTytRbyzNoI5d/piJAxV67f6knvAm5M/Pe//8WYMWOQkpICoHPp4u2334bBYLBvU1tbi/T0dCQnJ6O5uRkdHR2Iioqyfy8WTxdACZSVlYWFjPZo6vdcoqmv9F8GhK1r4JnKGvTJTleUyzE3Nxc6nQ5AaNxjb1isDLQa352ZiYmJgrc1Go1O24f6tQskjnonlnDQUyEE+nf6q7upkDE3UL814MbE4MGD8corr6C1tRWxsbHYuXMnrrnmGvznP/+x/+hPPvkE48aNg1arxahRo7Bt2zZMnTrV/j2hTPiiqftkjfdL2hSlbwYWrUaNxWvcvYhCWL5wrMzSEERo4M9xKtBjricCbkxcf/31OHr0KAoLC6HVajF8+HDcf//9KCgowJIlS9DS0oKhQ4di3rx5AIClS5fiySefxNq1a5GVlYXXXnst0CITAgl0Djbfg5TWbSwG9Egig4IgCE40Gg0qa5p98hSI9TL484WvpLoXQSladf/99+P+++93+m7w4MH46KOP3LbNzs7GunXrAiUaIYFAZ0DUNXI/SD9W1KD2Uht5KAiCcINhWBjMiXjhtV2iPQW+eBn8+cJXUtYZldMmZEOOaGoxJaxjdBrOAjKZKfEo/uAHnLzQQCWwCSLEkbusvd7QgrWbjnIWt/J2Ll8KY/mz0JWSss6onDYhG1JysBmGRVVdC46frceajw55tfoZhkVbWztmFeRg444K+/azCnJQc6kVZksHvj9aRR4Kgghh5Ig3cF2W4PNoNraacOZwk8dzifEy2M7b2GLCwzNH4o2SH52OK8cLX0l1L8iYIGTFloMtxn1nGzDO6JuweddJr2uLjtvv/uE8po3rD6gAsMCO/Wdx561DMLsgB70yEvHe50fQJ6tLxNfNJ4hQhM8T0Lf7eLAsvMYtcBkjT91zDefSgEYd5TW2Qeiygut5s1Li8NQ91yAqSoUUGbM5AN/GXH9AxgQRdGwDxrT8/oKsftv2ifFaTLqur5Nn4r5puVj/xTHo61rtnorGVhOyQcYEQYQaXJ6AxHitYA8mlzGy9uOfsHD6cKz5+LDT/iaz1ev4Y1tWcPVeuHoZXM+rr2vFi+9+h9WLAp9lESjImCCCjuOAIcTqt21vbujAttLTmDauP6K1agzrl4LXNx6Evq4VQOdAsHFHBZYPpLREgghFuDwBN1/d225IAJ6zI7iMEX1dKxJiWKxe5Lw0oDe0eB1/hC4rKCnLIlCQMUEEHduAsfPAObcYCFern2FY6KI1uOvWwchKiUf1pVa0mTvw9ffn0D+7q92QsGG2dMDUHpgKnARByAuXJ6BXZqLgF3Vyl1hkpcThNyN7dC6FAth78AJ0GrgtDQj1OghZVuiWGKOYLItAQcYEEXQcH+Jtpadx+/gB6JWZ2BnrkHa59j3X+uesghzsPXgBv7tpIDJS4jkf4JhoDRiGpSBMgggxuDwBLMsKflFnJMdh5s2D8Namy0siDxaOQBTjXtqdz+sAQFRNCoZhcdHQgtkFOdjgYWIUbpAxQfgFMYVdhLoOudY/N+6owLRx/fG3zeV4/U/j3WYWswpysGr9AcyfPIyyOggiBHH1BDAMK8iDAADV9a12QwLoHDPe2nQIz/6/EZwGAte5xGaT6A0tWLnuABLjtfbgcLVKhb7du4T1+EPGBCE7vjyAQlyHfOuQUHX+v66pMw00rdtYfH+0CgwDbCs9DUODKWglZgmCkBcx6ZB8AZxVDQyefcd70Spfqlc6xnSVfF1h/37EwBR0Twvf8YeMCUJ2/FU+li8tC+xlN6darYK53YoNOzof4tSkGMy8KQdQAZeaTYpqBEYQhDtCvJpC0yH5Ajjf2lTucwCnt0BKJVWlDCRUAZOQHU8PoBS4qr3NKsjB3h8vYEHhULub0/YwpybFYNJ1fbFlzymUfFWBZ//+LfYd1lNVTIJQKDav5qOv7cLitaV49LVdkp5ZrjHDUwCnK75Ur1RSVcpAItkzwTAM3n77bezZswdWqxVjx47Fgw8+2NljnYhI/GWZO7o3G1pMUEOFhhYz/nznKLQbL9pnL7aH+Yy+yZ4ZAgS3ox5BEM5weSDk9mpKDeAUmuHh7ZyR4BGV/MZ/9dVXcfz4ccyfPx8Mw2Djxo1YuXIlFi9eLId8RAjiywMoFLVahazUeJzRO5e9XVA4FEN/zdiwPcw6rTricr0JIhTgi6vq1iVa9meWK6hyQeFQe38OT+OTr4aBUqpSBhLJxsTevXvx8ccfQ6vVAgDGjx+P3/72t2RMRDD+tsw5q9ptOorBfdLtD2+n0ZEQkWuXBKF0+DwQyxeO9fszq1arkKozuhWtkhIcTsgQM8GyrN2QAIDo6Ginz0RkYnsAh/dPQ3Z6gqwuPqExGZG6dkkQSofvGW5qMWPhjBF+f2atVqvfxqdIRbJnYvDgwVi+fDnuvPNOAMD777+PnJwcyYIRBB981eWSEmKctovUtUuCUDp8cVUnzjbgq+/P8hauI5SLZM/E0qVL0djYiNmzZ2PmzJmoq6vD008/LYdsRATBMCwqa5px+GQtKmuaPUZvq9UqzC7IcZq9zC7IQRTHgONPDwlBEL7B5TWcXZCDr74/C0ODCRt2nMDqDQehVqlEtRoXOoYQ8iPZM5GQkICXX35ZDlkImRFThTKYiC1yVdfYhs9/bfBlaz3+eelpDOrTLayLwhBEuODqNVRBhVf/XQZDg8m+jZjAS18K5clFqIyz/sZnY+LRRx/F6tWrMXXqVM6/f/bZZz4LRUgnmA+X7fxCHzCx6WDJXWJhbLE4VZejwEqCCC0cAxsra5phbLE4/V3MM803hvTtPh4sC7+96IM9zioJn42J3//+9wBASxoKxV9VKIUg5gFjGBaXjCZMy+8PANh54BwMDSaPsxKu1FPHolUEQYQWUtPJ+cpmHz9bb29X7jgO8SHWyxDMcVZp+GxMJCcn4+LFi+jRo4ec8hAy4UsZWLkQ+oDxdQHdVnoa2ig1dFoNDp+sdXqobQ97YpwWyxeOhZXpQNe4GBj0pyJuJkAQwUJu177YYGnX86d05S6bbTMkAOdxiO+YYr0MwRxnlYbPxsTkyZOhUqnAsixMJhPi4+MRFRWFpqYmpKSk4L///a+cchIiCWZ9eKEPGF8X0LkTBqFLvA6L13zj9FCPHpaJ/Ueq3B72wb1SUHXe6vffRRCE/1z7Qus58J3/8btGYeW6A/bvxJTNBnzzMkRqHw4ufM7mOHjwIH744QdMnToVq1atwoEDB7B//368+eab+M1vfuNx3507d6KwsBATJ07EsmXLAAClpaWYOnUqbrnlFhQXF9u3PXbsGKZPn44JEybgqaeegtVKLw0hBLPGgtB69nxGR/8eSW5tg4s/+AG/XGzkfNj1hhY//hoi2FisTFD3J5zhe+kG6jnkO39WajxWLxqP5Quvw+pF49E3q4uovhq+9BSiWjaXkZzNUV5ejueff97++aabbsKbb77Ju/358+exdOlSfPjhh0hJScH8+fOxe/duLF26FOvWrUNWVhYeeOAB7N69G/n5+XjsscewbNkyjBw5EosXL0ZJSQnmzp0rVeywJ5g1FoSuf/JZ9RZLB+dDbWj0TwMxQtloNWosXvONz/svXzhWRmmIYLv2+c7f0Gyyp4ADnR4MvnGo6rz7cX3xMlAtm8vI0uhr//79GD16NABgz549UKn4L+SOHTswadIkZGZmAgCKi4tx9uxZ9O7dGz179gQATJ06Fdu3b8eAAQNgMpkwcuRIAEBhYSFef/11MiYEEqwysI4PWF1TG2KiNbB2dEBvaHF60PiMjsyUeM6HOpVjXdT2sFc1BPQnEkTEEmzXvpDz22IqunWJxvKFY2FqtyLFS2yHr0GgVG67E8nGxJIlS/DHP/4RWq0WDNPpTvTkmTh79iy0Wi3uvfde1NbW4oYbbsDAgQORlpZm3yY9PR3V1dWoqalx+j4tLQ3V1dWiZSwrKxO9T6CRIqNGowGiu6LZxCAxJgpqphkd6nj7Z7a9QZblIbEyajQaGMyJTg11FhQORarOaJcnQaPB0/Nz0WxikBCjBtprUVdV69aIZ0HhULQbL3J+b9Cf8kk+OcjLy+P9W3l5udPnUNBDT+Tl5cFoNPq8v9h9HbeXcl4g9K+9K2L0TizerpVGo+F9DgMRu+Tt/HzjDtty0Uk+rt/JNR4dPKgXLZ/jeOw6/nr7uz+QS/896Z1kY2LUqFH4v//7P1RUVEClUiEnJ8dj+/GOjg4cOHAA69atQ1xcHBYuXIjYWHeL1hbcyfW9WDxdACVQVlbms4z2YKT3Oq3prJQ4zLx5kD3mwB4cdaW04ChfZKysacYLr+1ya8i1epH3tCmGYTG4T7qb63Aoz/dSrqG/yM3NhU6nAyDtHiuJxMTEgOxrNBqdtpdyXkD5Y4CcOOqdWITqKd/zGSg8nV/IuOOv59F1PHYdf7393R8EauyRbEy8++67Tp/3798PALjnnns4t09NTcWYMWOQnJwMoDPGYvv27YiKuhwoU1NTg/T0dGRkZMBgMNi/r62tRXp6ulSRwwrHYKTUpBjceesQnK82Ylp+f3vNhmDlPfuytuqa8jWsbyr3Q0aVcgkiaHR25e10/9c3dcYsBdKg8LS0IFdMhy/pr94yQvxdl4JL5kAh2ZioqLhchbC9vR1lZWX2+AkubrjhBjzxxBNoampCfHw89u7di4kTJ+Lvf/87zp49ix49emDr1q2YPn06srOzodPp7JbVJ598gnHjxkkVOaywPTipSTGYdF1fvL7xR7eaDYYGU1DynpO7xCIrJQ6/Gdmjs+w1gL0HL/CurXpLOfP0d4IgAoeSKz96iqmwvWxN6m6orGnmNRB8/X3eDBl/Bq/yyZzgYaVATiSf5aWXXnL6XF9fj8cff5x3+yuuuAL33Xcf5s6dC4vFgrFjx2LOnDno168fHn74YZjNZuTn52PixIkAgFWrVmHJkiVoaWnB0KFDMW/ePKkihxW2B+fGvF7YuKPCrWbDtHH9sWXPqaDkPWckuy+5PFg4AhnJcZzbS7HqCYIIHEqu/MgXSJmRHCfYQPD193kLDvVn8CqfzE/Pz5V8bCHIbrIkJyejsrLS4zYzZszAjBkznL4bM2YMPv30U7dtBw8ejI8++khWGcMJ24NzRt/IafGq1ZCU9yzUkueiur7VrV7EW5sOYUifZJ/ck77kgRMEIT/BTg8F+Jch+NI1xRgIvv4+bxkhUsuGe4JP5mZTYOqsyBozwbIsysvLkZKSIvWwhEBsD05at1hs3nXKzeK9emgmBvRI8sn1KNWVKeSBdBwQdNEan616Sg0liMDh7/RQb/EK3sYmrpgKMQaCr7/PW90Jf9al4JM5Icbn2pSikHyWiooK+38///wzsrKy8Oqrr8ohGyEQtVqFAT2SOCux+WpIAO7BndPG9ccZfSNOXmgAw3iPgPRWCdM2IDz62i4sXluKVesP4MHCEbzV5KjaHEEoA38+i67jwqOv7cK+w3qnMcdTFU6GYVFZ04zDJ2tRWdNs309oZV6pv89myNgKaLmOv97+7it8MqO9UZbje0OyZ+Kmm27CzTff7PTdJ598gttuu03qoQkRyGHxus4GGltMTsGdtpiMzbtOCfJQeHPpuQ4I+rpWlHx1AssXjoXZYg2oVU8QhHD8+SwKWY7g8zI0tppw5nATp8dCzBKD1MZjwRiX+GQWWyfDV3w2Jnbu3Amr1YqVK1eCZVl7TQir1Yri4mIyJoKAlEpsXG7Dh2eOtGdjuAZ38q01uj5Uo4dlYvUi7geSa0DQ17WiqdmMqwZncD6MVG2OIJSBv55Fx3EhNSkGN+b1AlTApWaTffyweRkS47X2v6tVKmjVUR4NEdvL9kxlDfpkp3t86UttPBaMzJZgjo8+GxPHjh3Dt99+i7q6OvzrX/+6fECNBvfee68swhGBg2s28EbJj3jqnmtw9HSdoLVGTw8Vl3LzrfGdONcAs4VRRJoZQRCBxdFQcPSIbtl9ysnL8Phdo3Cuqgkbfv27t06htiWF7PQEVJ0/gez0frLIq+TMlkDiszHx0EMP4aGHHsL777+PO+64Q06ZiCDA5zaMilLh6qGZnMGdrmuNYh8qLrejrTaGscUScQ8jQRCOGWpNHj2iWanx9pbjtr+fqzIGvG+IEjJblIDkAMxbbrkFX3/9NQBg+fLlmDdvHo4fPy5ZMCKw8AUnpXSJxYAeSVhQOJQzGMkx2OmS0YTEeK3TMTylbtrW+J79/bWYeXMOpo3rby+yZduPL5iKIAh5YRgWmriUoD9rtnFhUK8kj6ngDUaT29+/+v4sFs5wDuJ+/K5RYFjWb79LTGBnOCM5APMvf/kLrr/+euzbtw/ffvst7r77bixbtgzr16+XQz4iADAMC5UKWDhjBNZ85NzTw7ammKozusU+AHBb1phdkIPPfzUIAGEtfLslxmDLbnfPR1JCjGLWIgkinLm8RFmuiGets1x3guhUcWOLBYN7J9vHqpQusTh9sQlFxbudYsFio1NE183hw5+1I0IJyZ6JhoYG3H333dizZw+mTJmCwsJCtLVRESEl4zjbv1BtxIFj1Xjk1V1Y98Ux3D5+AB6/axSKi/KdBhKr1Yrs9AQM65sKADjyiwEnLzS4LWts2FGBm6/uDUB4OhVfSlOUWsWb/kUQhHx4SrWUA188jN7SM/n+npkSb0+9ZFlwxoKdON/mlnLqqxfU5klZvWg8li+8DqsXjY/ICY9kz4TFYoHFYsHevXuxYsUKtLW1obW1VQ7ZIhaxaUZitucKkpxdkIPEeC0MDSZs2HECOm0UVi8a73QMjUaDi7XNOH623u69mF2Qw+mGHNCjK15+eCy6xsUIsvz5UpqO/GKgtUiCCADB6BnB9cIVkw1mGzf6dh+P+iYTTGYrMlOcJy51jdy/CyrnGIys1HhJXlCxWRT+HOODhSx1JsaMGYMhQ4YgNzcXU6ZMwZQpU+SQLSIRm2YkdnuuGciGX3t47Cw755aGBQCVtc1o6EhG04VGuyEBAAwLTjfkyQuN6JPVBYN7pQhWeK6H0d9V9giC6CQYPSNcA6xdx7KslDgsmH4FotQqpHTlroJZVdfiNMFxbf7XwbCcv8vWddgxBiNQGRn+HuODheRljkceeQRbt27FunXrAHQ25nrooYckCxZJaDQau3uNa+nAk7tRrHuSbwYSrVVj0nV9sWXPKZR8VYFn//4tDhyrxr7DehQV78aq93/Aueomp313HjiHWQU5Tm7GWQU5+Or7s7K4SKniJUEEBn8+a0J76rhW3C0Y3RsvvvsdnnrLuQomw7C4WNuMXT+cx/+VXXCa4DiOf3pDC9Z+/BPnGLWz7Jz9c3JibED7/ogds/29BGVDarC7ZM8EwzD4/PPP8fPPP2PJkiXYvXs3Bg4ciKioKO87E2AYFgZzIl54bZfHpQMudyPDsLhkNGFafn8AnS93x0wIMbUduqcmYPXGg04K+/P5BmzedZLXE2FoMGHH/rN4ZNZInK0yondmIt7desQefCnVRUoVLwkiMNietYToXKij4wPSM8LV6+H4Qufqglz8wQ/olZmPc1VGnNE3YfOuk5iW35/fCGA7i+BtKz2NaeP6I1qrRo/0RLz3eecY5Wowccmogkq2QE2u3+kqsy8NEOVADu+HZGNi5cqVqK+vx+HDhwEAe/fuRW1tLZYsWSL10BGB3tCCtZuOel060Gk1YBjWfmO5br5jjQY+9yRf5HFCTJSbwjIsy+mJ2OhQJKZgdG+8u/UIjC0WTBvXX3AWh1Co4iVBBAa1WgVrax3yhvSR9bhCsx2cjI5fYxocMVs6UF3XOUt3NCI8GSo6bRQMDSaUfF3RKUtKHP585yjU1l1yqoDJJePsghy8+u8yGFsseHjmSKR1i0HXeGFxYJ4Qu6QUiOVeOQpvSTYm9u3bh82bN6OwsBAJCQl45513MG3aNKmHjRhcrU6uF/asghysWn8A8ycPs1uKXDd/444K3D5+APpkdeF1TzrO9uua2hATrYG1owOaqChkpcRBX3c5eFatUnF6IhbNvQrt1g5U1rTYjZcHC0eg5KsTAGg5giCIywj1MDq+0AFwlsuOj9MiMV6LPpmJ0GmjOMdLx7HH1UCYP3kYBvRIgrH2F6cKmI4y6g3NOHGuwSnF/Y2SHzFtXH9s2SOsL5EnxKaSBiL1VA7vh2RjQqPRQK2+HHoRHR0NjUbyYSMGV6vT9sJ+4YEx+OFEDRgG9kJOjpYi380f1CuJt6+FDZslfkbfhOf/d79dQW0Ggb6uFTptFAb2THJT4tvHD0B9YxtidRr0ykjEnFsGIzZag66JWjx977VoaDbRcgRBEE7YPIxZqfHQG1pw5BeDW1aC4wu9sdWEAdldUVnb7FQuu0d6AqaPH4B1XxyzGxHbSk/j9vED0CszEX2yuiA77XInTjHLpDYZ65vasGHHCae/cWWA+OotFbt8G4jlXjm8H5Lf+jk5OXj//ffR0dGBX375Bf/85z8xePBgqYeNGLJS47GgcKh9qcNmPbNgsWFHhdO2jpYi383PShXW0pbLs/HWpkNuHTsBoFdmPn6pbMCFmhaUfF2Bqdf3g6ndjA07Dju5BK8bEYfh/dNkvDoEQYQLQtbl7cuaSMD5aiNe/bd7jYjbxw9wioVQq4Grh6RjQM9uvO2+xbz4+cZW1wwQqfFgYuTy93KvHN4PycbEU089heXLl6Ourg5z587F9ddfj6eeekrqYSMCW+5wYqwayxeOhandipRfrXW9ocWjpSjm5nPlKPN15mu3dmBY31Snh7JnRiLqq37BgKv6Y8TAFDAM8MLb+93SSwf3SUb3NIptIAjCHbHr8lzlss2WDjC/dqh2jIUYMTDV55m66/iYkRznNrbOnTAIDMNi5s05UKtUSOnin/T0YNWTkMP7IdmYSEhIwPLlyzn/tmLFCjz55JNSTxGW8Fnpuf1SeQOCHI0FoTef7zy9f11z9NSZz/FYtgqY2ekJOHC0ivMhN5mt/r9wEY7FykCr8S2jW8q+oQxdM2Ugdl2ez0OgVjmPcVKCEfnGR1uxrLqmNjAMcKG6Cf/8/Jh9mz5ZXZCZIu+LPtj1JKR6P/wa3LB//35/Hj6k8WalCzEWhNx8vvO8/qfxHjvzpXUbC3O71W4dO5KZEs/5kGek8LvEQqGCWyig1aixeM03Pu27fOFYmaUJDeiaSUOuZ1fsujzfhEqrUduPIzUYkW98XL5wLAb0SEJ2eudyy7J39gv2qPhKqLcy96sxwbLU4ZEPPitdb7ic0yzHOhnfeeqa2jBmeBZ0WjXn378/WoUNOyoup446BNV2T0twe8gXzhiBKLXKKX3VRrAtboIgfMPTswtAlJEhdl2eb0IFgLfEtlBshQLPuhTiAy6Pf7WXOsdIvuUWucv6h3orc78aEyoVvSj44LPST5xrgNnC+PSi5ZpBeJoNeOrMxzCd/7ZZx0/Pz7X/3faQ98rMxxl9E85VGbHui2Mwtlg4jYRQt7gJIlLhe3b7dh+P0xebRE0QfFmX55tQSZlkORYKnJbfn3f8s41RfGNoSpdYVNY0y+ZtDfX2AUFbDHz55Zft8RTHjh3D9OnTMWHCBDz11FOwWjvX3i9evIg77rgDEydOxIIFC9DSEj7dIrnK10opRW2bQTz62i4sXttZfnbXD+ehVkN05z3HcrNA5wDSbGKczqdWq6BWqbB6w0Fs2HHCXnmTS3ZPXhhfS7cSBCEMKWWSeWfLTSafSjzbjIPh/dPsy7mBprK22Z49x9cSYGfZObtXgGuMfPyuUTh9sclpvHXsQOoLod4+ICgFIWyFrsaPHw8AeOyxx7Bs2TKMHDkSixcvRklJCebOnYvnnnsOc+fOxeTJk/HXv/4Va9aswWOPPRYMkWXHZqV3TbgWBytqAfZyPQlAfClqvaEF731+BNPG9Qd+fT43fHkC+Vf1xMCeSSguyrfXgMhIjuPtzKfTarBq/QG7HECnUifEuNudQt1ynrwwti6ltOxBEPIjdYmR79k1ma0h4ZLnytQ4o+9c2rBlsTEMi0dnjQTDsjhX1Wwfhx09uK4eFYZlUVS8W1Zva6i3D/CrZ4IrZqKhoQHFxcV48MEHAQCVlZUwmUwYOXIkAKCwsBDbt2+HxWLB999/jwkTJjh9H06o1SokJeiwZfcplHxd4VSKOikhxr6dt5kFw7BoaDZh5s2DoFarsPPAOWzZfQoFo3tDF63GynUHoFapMLx/GrJS47H/SJWTRb3/SBWyUuMxvH8aBvRIwvzJw9ysY7Q3uslvG2gc4XLLcVncs3/1wgD+a1xDEJGO1CZRfLNlWxC2I0pxydvGy0M/1+Knn2vx3P/us4913xy6iNpLrchKibM3Nly//TjWfXEMcTFa6KLVuHFUL2SlxLllzzl6VPjiKOqapDUGU4Lnxldk8Uw0NzcjISEBP/74I86cOYPJkydDq9XiL3/5i9u2zzzzDIqKiqDX6wEANTU1SEu7XOgoLS0N1dXVuHTpEhISEuzVNG3f+0JZWZlP+wUCXWIaZhfkOFV5m12Qg8bGS6i5UAGNRgODOdGpqNWCwqFI1RlhtVo5/27r0bFxRwUW3301EuO1OHuxFlXnT0ATl4LiD8rdBpeE6FxYW+sAAAkaDZ6en4tmE9PpkWivhdVqdbuOGo3GreDWgsKhMOhPoeq8c5qo4zHjYmPx+oeHnLwfZksHzlTWoOq8c+U5MQTjPufl5fH+rby83OmzHPLl5eXBaDT6vL8UGaSeW+y+jttLOa+U/aWmhra2mXDs6BGf9+dDqN6Z1N04X3qenjVXHeEaD+qqagU/+1LQaDRAdFc0mxgkxkSBbW+wL4Pzbc83HhoaTHij5EfMvHkg5k8e5tah9OV/HbDvc9+0XCQnMDh48AfO82jjUjk9Nu3tVvz0008eZQwGco2NnvROsjGxevVqnDt3Dn/605+wcOFCDBgwAN9//z1efPFFjB492mnbDz/8EFlZWRgzZgw2bdoEgNt7oVKpeL/3BU8XINgcPlmLz0uPXV6eYIHPS09j0NyrkJeXh8qaZntHUaBzIFi76ShWL+p0p3H9feOOCkwb1x8lX1fg5IUGTL6uL9JTu2FAj744fLKWc3BRR8d7bPBTVlbGeR0ZhsXgPumi3HKVNc0wtlicvtNpo9AnO92pXr4Y+OQLJrm5udDpdADklS8xMdHnfaXKIOXcYvY1Go1O20s5r5T9paSVAp2ppYHWS0e9q6xp5nzp8T1rYvTUl2dfDPYlmvdclmiu5F+i8TYemi0dsFgZXKgx2rfh6lD6v1vK8ezvr+W9FgzD4uGZUXij5Ecno+Xvn5Rj6X1jFLXUE6ixUbIxsXv3brz//vvYuHEjJk+ejKeeegrTp0/n3Hbbtm2ora3FtGnT0NjYiNbWVqhUKhgMBvs2tbW1SE9PR3JyMpqbm9HR0YGoqCj79+FGcpdYGFss9kpugLO70FtcAt/fofq1m147gy17TmFI32T7+eSMGPYlfTUQjWsIgvDvs+bvEs++ZIF5Gg+BzrFuaN8UHD1d77VDqacifGq1CmndYpwmgTbvh9LiRgKFLMscsbGxKC0txaxZswAA7e3tnNu9++679n9v2rQJ3333HV566SVMmTLFbj198sknGDduHLRaLUaNGoVt27Zh6tSp9u/DDa7eHLaHnWFY6KI1Hl/+nqrE2dx7ZksH2kxW+/mC/SIP9UAjgggVQvlZ86Xugqe+Graxbnj/VGhVJmSljsCajw7Zt+Eqwucp9bNrfAy27DkVsqmcciPZmOjWrRueffZZlJeXY/Xq1Vi1apVoD8KqVauwZMkStLS0YOjQoZg3bx4AYOnSpXjyySexdu1aZGVl4bXXXpMqruJQq1VI1RndirAAwL7Derz3+RGPLXa5jIP7pg1Dc6vF3kLXsTqlUgYXf89qCILoJFSfNT7DICkhhvclzzUePjxzJNKSY3DjqJ72bc3GWoy/6ioM6pWMxlYTemUkOi1Z/HHOldAbWrBy3QGncdcxC0YJEzMlIdmYePnll1FSUoK//e1viI2NhUqlwssvv+x1v8LCQhQWFgIABg8ejI8++shtm+zsbKxbt06qiIrHse+FjfPVRruSOnfHy3DqjudqHCQlxEBvaMH/bjnipODZDg24QnVwIQgicuB7WXt6yYuZLDl2KGV6sRjQI8m+j0oFPPLqLo9LLEqZmCkFycZEamoqFi5caP+8aNEinD17FqmpqVIPHTb4Utu+uq7FrsiO3fEG9fLeZjc7LUFyuVmCIIhgwvWyFvqSFztZct2HL1Ddsd2Br+cKVyQbEx988AFeeeUVtLVdzq9NTk7GN9/4HgEdTvhaNCZGxx0rEaPzfstIwQmCCAeEvuTlDnr0R7uDcEdy0ap//OMfePfdd5Gfn4/NmzfjkUcewc033yyHbGGBr0VjkrvEYLZLmdfZBTlI7hLjcT85kFJ+lyAIZRFOz7PQQnlSkbvdQSQg2TORlJSEK664AkOGDEFdXR0WLFhgj4UghEUk2zrYOS6DZKbEo1dmF9w+fgAYloVapUKvzC7I9NDmWw74PCmOXUMJgggNwq1jr6egR7lapQPytzuIBCS/ITQaDRobG9G7d28cOnQIY8eODauGXFLxVtfBsYOd68M+akgGstMSAhr7wOdJcewaShBEaBBuHXs9tSWX22hSq1XolhiDLbsp/VMIkpc5Zs6ciQceeADjx4/Hxo0bUVhYiP79+8shW1jgrROc3tBirzEBOC+DBKNOO58nxbVrKEEQyseTZzRU4RoXpfYg4SPUO3kGEsmeiSFDhuCdd95BXFwcNm7ciMOHD+P666+XQ7awwFv6kC+FWfwJnyeFq2soQRDKRu6Kt0rFX+MopX8KR/Ib4s9//jPi4uIAABkZGbj55psRE+P/IMFQwpOHIVABRULhs8S5uoYSoYXFSt6lSCNSZtb+HEdDuZNnIJHsmRg0aBA+++wz5OXl2Y0KoDMwk3CGK0DIWzltx+0zkuNQXd8qS4ARH3yW+MGDelnPQwQeOZpWEaFFuMysvQVXCq1GaTtOR3QKKs5dgslsRUrX0LwmSkOyMfH1119j+/btTt+pVCocO3ZM6qHDCk9R1Z7KaTtu/2DhCJR8dQL6ula/RmVTnQqCCB9C/XkWkpEixGiyHee9z4+gYHRvrHz/m7DIcFEKko2Jw4cPyyFHwJAzfUgMnqKqucppV9Y0u23/1qZDTq10QzkqmyAIQghCM1K8GU2240wb19+t5bgvY2mw3iVKRbIxwTAM3n77bezZswdWqxVjx47Fgw8+CI0C6xIEM+dabFS1t1a6jvuTMUEQRLgiV3Cl/Tg8LcfFHC/c6nfIgeQAzFdffRXffvst5s+fj3vuuQcHDx4U1OgrGPgrfUgIYgOE+LYH6/w53KKyCYIgHJEruNLxOFKPF8x3iVKRbEzs3bsXb731Fm6++WbccsstWLt2Lfbu3SuHbLITzJxrsVHVXNs/WDgCe3+8IGh/giCIcECujBTbcfYevIBZLq0KxB4vHOt3SEXyWgTLstBqtfbP0dHRTp+VhL9yroWsnYmNqubaPiM5DkP6JId0VDZBEIQY5MpIuXycLqisNmD5wrEwtVvRLTEGUWoVjvxiEBz7ECn1O8Qg2ZgYPHgwli9fjjvvvBMAsH79euTk5EgWzB8ITR8Sg5i1M7FR1Vzbh3JUNkEQhC/IlZFiO07V+RPI6dXH59gHf7xLQh3JxsTSpUuxbNkyzJkzBwzD4Prrr8czzzwjh2yy44+c63CrfU8QBBEp+Dp+h0v9DjmRHDNx4sQJVFVVITk5GampqTh+/LjdS6FE5K5mJmXtzNYa2KTuFvKtgQmCIIKFr23WpYzfVBnTGcmeiaeffhozZ87EkCFDoFJFzsW0xUmY2zswu2AQvvr+rL09Ld/amWNsRUrXWJy+2ESpRQRBEBLwZalCo9GgsqYZKpVKcOwD1ZXwjGRjIjo6GnfffbcMooQOXMo7uyAHn5eehrHFwlvG1XGf2QWDsHnXSVoeIQiCkIDYpQqGYWEwJ+KF13YhMV6L2QU52PBrEStPZbiproRnJBsT/fr1w+HDhzF8+HA55AkJuJR3w44KPPv7a9EtMYbTYnXdh2FZr4VTyBImCCJckWt8E1vUSm9osfdCMjd04PPS07h9/AAM6pWErNQEQeM3Tf7c8dmYmDp1KgCgpaUFc+bMQc+ePZ2qXn722We8+7755pv44osvAAD5+fl4/PHHUVpaipdeeglmsxm33norioqKAADHjh3DkiVL0NzcjFGjRuG5554LenVNPuVlwfIqFtc+ntxrZAkTBBGuyDm+iU3TdB2LDQ0mbNhxAssXXidq/KYKxM74/FZ++umnfdqvtLQU//3vf7F582aoVCrcd9992Lp1K1atWoV169YhKysLDzzwAHbv3o38/Hw89thjWLZsGUaOHInFixejpKQEc+fO9VVs0XBZz77kGLvus/PAOY/uNbKECYIIV+Qc38Smacoxftv2SUqIQWVNM3mPIcGYuOaaa3zaLy0tDU8++SSio6MBAP3798eZM2fQu3dv9OzZE0Cn12P79u0YMGAATCYTRo4cCQAoLCzE66+/7ldjQkiQ5OhhmaJzjF0V3thiQa/MLiguyse5i7Xok53upIhclnBivBaXjCZSXIIgQho5Z/pi0zSzUuOxoHAoNn51Cr8Z2QNqNTC0bwoykuN4z5GRHIeHZ47EGyU/Oo35ekMLVq47QN5jyBAzIZaBAwfa/33mzBls27YNd911F9LS0uzfp6eno7q6GjU1NU7fp6Wlobq6WhY5uDwOAAQFSa5eNF50jrEnha+5UIHs9H5O27tawqlJMZh8XV88+49vSXEJgghp5K4gyVXUii8mQ61WISO+DXdMHOJmHHCNpwzDYv+RKry//RimjetvNz7SusXij6/tJu/xrwQt+ODnn3/GAw88gCeeeAIajQanT592+rtKpQLLuucK+5J+WlZW5vRZo9HAYE60B+HotFFYUDgUGUkaFH9wyGuQ5JnKGlSdv2T/rqoBqDovTibXfbhkXFA41C7jzVf3ti+J2OQo/uAHJETnwtpaJ+7kPuIqo9IIhnx5eXm8fysvL3f6LId8eXl5MBqNPu8vZV+p+4vd13H7UJLbFX/opRi9E0sgniPX8c02Bhv0p1B13irL8bnG+FSdEVarFZq4FLshAXgeTzVxKSj+oBxmSwdKvq4A0Gn4LJpzhYf3wwnJv0FO5LqnnvQuKMZEWVkZHnnkESxevBiTJ0/Gd999B4PBYP97TU0N0tPTkZGR4fR9bW0t0tPTRZ/P9QJU1jTjhdd2OSnS2k1H8ezvrxUUJJmW0g0DevSVzSPw008/ITWrv5sFzTAsBvdJR72xDWZzB6fiqqPjkTekjyxyeKKsrMyjIgUbJcqXm5sLnU4HQF75EhMTg7JvIM9tNBqdtg8VubkItF466p1YAvkcMQyLnN5pqK5rQYxOg+QuMchMkWdc5RvjVy/q9Bp8c/AXzvFUpY1HZs9Up7H4yC8Gzm27JHJ7V/pkp7t5moNJoO5pwI0JvV6Phx56CMXFxRgzZgwA4IorrsDp06dx9uxZ9OjRA1u3bsX06dORnZ0NnU5nvxiffPIJxo0bJ1kGvvU6k9nqNUhyVkEOVq0/gPmTh8myxOCY88zlbrO57iprmqmxDEEQYcW5KqNfMta8xWQkxkRxjqcdHSwedRmLe2cm8oy9MdSfw4GAGxNvv/02zGYzVqxYYf9u9uzZWLFiBR5++GGYzWbk5+dj4sSJAIBVq1ZhyZIlaGlpwdChQzFv3jzJMvCt12WkcAdJvrRwLL47WgWGAbaVnoahweS0NiYlX9ox5xngX3ejxjIEQYQT/sxY8xaTwbY3uI2nD88cibUf/2TfJzFeizP6Jui0ajx1zzVY+/FP0Ne12sfezJR4ZKbEU3+OXwm4MbFkyRIsWbKE82+ffvqp23eDBw/GRx99JKsMfC/m7LQEZKcluCnHkV8M2LCjwukYNis3KzVeUr600KhmaixDEEQ44c/aDd4mX1arFWOudB5PG1tM0Ne1AugMeJ90XV9sdPBKPzxzJNKSY9A1zrkwIXVy7iS41Z+ChLcXs6tycFm5WSlx0Gk1OHq6TpJ1LSaqWa42vARBEMFGbEaHGA+wkMmX23haczlG7sa8XnZDAugc198o+dEec0G4I7lraKgipuObzcrVaaM6P6fEYebNg7B4zTc4WFHrc9c527EXFA61H5uWLwiCiARcx1VPY5+tYuajr+3C4rWlePS1Xdh3WO+xO6jYrp5O8qjgcVz3tUtpOBORnglf0GrUuH38ADAsiz6ZXbB640G7skkJjFSrVUjVGbF6ES1fEAQROYhZug1ERWBHeS41m7Bl9ynOcZ1aHXATsZ4JMdiqnG3YcQIlX1XgTFWTU8bHrIIcSZ4Fq9UqyoImCIIIB4R6DzzFV/hDnqF9Uni9JnyGjd7QIqssoQZ5JgTgqUmXocGEbQK6zhEEQRC+IXfFTG948ppQ0y9uyDPxK57WwGyKbMNWf8L2nbHFgj5ZXXDV4AzyLBAEQciMmPgKueDzmri+D2zyOBo2kRhTQZ4JeG+H66lJV0OzieIcCIIg/IiSUuO9pZ1GakwFGRPwHtzjSZF7ZkgrtUsQBEF4Rymp8d4Mm0AEiyoRMiYgrHiKUhSZIAiCCC6e3geRGlNBMRMQtgZGEARBEN6I1PcJGRMITnAPQRDhj8XKBGVfInhE6vuEljmgrOAegiDCB61GjcVrvvFp3+ULx8osDREIIvV9QsbEr1BMBEEQBCEHkfg+oWUOgiAIgiAkQcYEQRAEQRCSIGOCIAiCIAhJkDFBEARBEIQkyJggCIIgCEISZEwQBEEQBCEJMiYIgiAIgpAE1ZmQEYZhoTe0oL6pDcldIqNQCUEQRCChcVaZkDEhE5HadpYgCCJQ0DirXEJimeOzzz7DpEmTUFBQgPfffz/Y4nDC13ZWb2gJsmQEQRDhAY2zykXxxkR1dTWKi4vx73//G1u2bMHGjRtx8uTJYIvlhqe2swRBEIR0aJxVLoo3JkpLS3HttdciKSkJcXFxmDBhArZv3x5ssdyI1LazhHioGyRB+AaNs8pF8TETNTU1SEtLs39OT0/HoUOHRB2jrKxMbrHc0Gg0WFA4FGs3HbWv5S0oHAqD/hSqzlsVIaNUlC5jMOTLy8vj/Vt5ebnTZ5t8eXl5ePhl3wziN56YCKPR6NO+ACTtK3V/sfs6bh9Kcsu5P59Oi9E7uc6pBKSOs44o+XfKjVy/1ZPeKd6YYFnW7TuVSlygjacLICcMw2Jwn3TRbWfLysoCJqOvKF1GJcqXm5sLnU4HwF2+xMREn48brH0DeW6j0ei0fajILff+vui0o96JRYnPkSu+jrOOhMLvlItA/VbFGxMZGRk4cOCA/XNNTQ3S09ODKBE/kdh2liAIIpDQOKtMFB8zcd1112Hfvn2or69HW1sbvvzyS4wbNy7YYhEEQRAE8Ssh4ZkoKirCvHnzYLFYMGPGDIwYMcLrfo7LI2az2Z8iygLJKJ1gyRcdHe209GbTvfb2dqftbPLpdDowjO9BmMHaN9Dndtw+lOSWc39POi1U7+Q8ZzgRKb8TkPe3uuqdDRXLFZQQBhiNRlRUVARbDCICcF2jJt0jAgHpHREM+GJywtaYYBgGLS0t0Gq1ogM2CUIMrpY66R4RCEjviGAQcZ4JgiAIgiACg+IDMAmCIAiCUDZkTBAEQRAEIQkyJgiCIAiCkAQZEwRBEARBSIKMCYIgCIIgJEHGBEEQBEEQkiBjgiAIgiAISZAxQRAEQRCEJMLWmGBZFmazmbOFOUH4E9I9IhiQ3hHBJGyNifb2dpSXl6O8vDzYonjlyJEjwRbBK0qXUUny2XTPseGSkuQLBeh6iYdL78QSKdc9Un4nELjfGrbGhA2pHfQCgclkCrYIXlG6jCRfeEHXKzhEynWPlN8JBO63hr0xQRAEQRCEfyFjgiAIgiAISWiCLQABaDQaVNY0o76pDcldYpGVGg+1mloIE+EPw7DQG1pI9wkixCFjIsgwDAuDOREvvLYLZksHdNooFM25CmOGZ9GgSoQ1DMNi32E9ij/4wU33CYIILWiZI8joDS1Yu+kozJYOAIDZ0oHiD36A3tASZMkIwr/oDS12QwIg3SeIUIaMiSBT39RmH0xtmC0dqDe2BUkigggMpPuEP7BYGa/b5OXlCd6WEAYtcwSZ5C6x0GmjnAZVnTYKyYmxQZSKIPyPJ92vagieXERoo9WosXjNNx63MRqNSExMxPKFYwMkVfhDnokgk5UajwWFQ6HTRgGAfd04KzU+yJIRhH/JSo1H0ZyrSPcJIgwgz0SQUatVSNUZsXrReNQb25CcSBHtRGSgVqswZngW+mSR7hNEqEPGhAKwWq3ITk9AdnpCsEUhiICiVqtI9wkiDKBlDoIgCIIgJEHGBEEQBEEQkiBjgiAIgiAISZAxQRAEQRCEJPxqTDQ3N2PKlCm4cOECAKC0tBRTp07FLbfcguLiYvt2x44dw/Tp0zFhwgQ89dRTsFqtAICLFy/ijjvuwMSJE7FgwQK0tFBlPIIgCIJQGn4zJn766SfMmTMHZ86cAdDZU33x4sVYs2YNtm3bhvLycuzevRsA8Nhjj+Hpp5/Gf/7zH7Asi5KSEgDAc889h7lz52L79u3Izc3FmjVr/CUuQRAEQRA+4jdjoqSkBEuXLkV6ejoA4NChQ+jduzd69uwJjUaDqVOnYvv27aisrITJZMLIkSMBAIWFhdi+fTssFgu+//57TJgwwel7giAIgiCUhd/qTLz44otOn2tqapCWlmb/nJ6ejurqarfv09LSUF1djUuXLiEhIQEajcbpe18oKyvzab9AIoeMGo0GiO6KZhODxJgosO0N9iUjOVD6dQyGfLYa/1yUl5c7fVb69VMa3q6Xv/VdyYjRO7GEup7m5eXBaDR63c62Taj/XiHI9Rs96V3AilaxLOv2nUqlEv29L3i6AEqgrKxMsoz2ds7vubRzvlKeVuZyyOhPlChfbm4udDodAGXKp2S8XS9/63so46h3YgkXPU1MTPT4d1tvDkD57wepBOqeBiybIyMjAwaDwf65pqYG6enpbt/X1tYiPT0dycnJaG5uRkdHh9P3BDfUzpmIJEjfCUJZBMyYuOKKK3D69GmcPXsWHR0d2Lp1K8aNG4fs7GzodDq7G+aTTz7BuHHjoNVqMWrUKGzbts3pe4IbpbRzZhgWlTXNOHyyFpU1zWAYdw8TQUhFCfpOuk4QlwnYModOp8OKFSvw8MMPw2w2Iz8/HxMnTgQArFq1CkuWLEFLSwuGDh2KefPmAQCWLl2KJ598EmvXrkVWVhZee+21QIkbciihlbnd9fyBi+t5OLmeCXkJtr6TrhOEM343Jnbu3Gn/95gxY/Dpp5+6bTN48GB89NFHbt9nZ2dj3bp1fpUvXLC1c3Yd3ALZzpnP9dwnazw1ciJkJdj6TrpOEM5Q19AwQQntnD25nmmAJeQk2PpOuk4QzpAxEUYEu51zsF3PRGQRTH0nXScIZ6g3ByEbNtezThsFAEFZaiGIQEC6Hh5YrIxft48kyDNByEawXc8EEShI18MDrUaNxWu+Ebz98oVj/ShNaEPGhAJhGBZ6Qwvqm9qQ3CW0BqlgL7UQoYmrztsq3yoZ0nWCuIzyn9gIg1LOiEiDS+cXFA4Fw7Ck8wQRIlDMhMKgyn5EpMGl82s3HSWdJ4gQgowJhaGEyn4EEUhI5wki9CFjQmHYUs4coZQzIpwhnSc8QRkUoQHFTCiMYFf2I4hAw6XzCwqHks4TACjjIlQgYyKI2CLYTepuqKxptmdtUMoZEW54ylDi0nmD/hTpPEGEEGRMBAlvWRuUckaEC0IylFx1vuq8NZgiEwQhEoqZCBKUtUFECqTrBBH+kDERJCiCnYgUSNcJIvwhYyJIUAQ7ESmQrhNE+EPGRJCgRkFEpEC6ThDhDwVgBgnHCPYzlTXok51OWRtEWEIZSgQR/pAxEURsEexV508gO72fz8exWhn8crERhsY2pHaNRb/uXaHRkNOJUA7eMpSkNPoK5cZ4BBEukDER4litDHb9cAFvbTpkT7t7sHAExl/VgwwKIiSQ0uiLGuMRhDKgt02I88vFRrshAXRGyb+16RB+udgYZMkIQhhSGn1R2ilBKAMyJkIcQyN32l1dY2Sk3TEMi8qaZnsVUYZhgy0SIRIpqaPBSju16d3hk7WkdwSBICxzfPjhh1i/fr3984ULFzBt2jS0tbWhrKwMsbGd6WJ/+MMfUFBQgNLSUrz00kswm8249dZbUVRUFGiRFU1q1860O8cBVaeNQkrX8E+7Ixd3eGBLHXXVYSGpo1L29RXSO4JwR7Ax0d7ejt27d6OlpdN92NHRgXPnzol+uf/ud7/D7373OwDAzz//jIceegh/+MMfMH/+fKxfvx7p6en2bU0mExYvXox169YhKysLDzzwAHbv3o38/HxR5wxn+nXvigcLR7jFTPTr3jXYovkdPhd3n6zxVIo8hJDS6CsYjfFI7wjCHcHGRFFREc6fP4/a2loMHToUP/30E6655hpJJ3/22WdRVFSEmJgYXLx4EU8//TQuXryIgoIC/OEPf8ChQ4fQu3dv9OzZEwAwdepUbN++nYwJBzQaNcZf1QO9MhNR19iGlAjK5vDk4qZBPXSQ0ugrGGmnpHcE4Y5gY+LYsWP48ssv8eyzz+Kee+4By7J47rnnfD5xaWkpTCYTbr31Vpw/fx7XXnstnn/+ecTFxeGBBx7ARx99hLi4OKSlpdn3SU9PR3V1tehzlZWV+SxnoJBDxmgAxlrgp1rp8nDhz+uo0WiA6K5oNjFIjIkC294Aq5W/2ZNGo4E6LoPTxc20t6Cs7JzfZHUkLy+P92/l5eVOn0NBD5VAVUPn/325XlUNQNV5aed31MWkeC0YlkVTq9Wul6ropJDSO7EoTU/z8vJgNBpF7SNke9s2Yo+ttOsjBLlk9qR3go2J9PR0aDQa9OnTBxUVFbj11lvR1uZ7kNOGDRtwzz33AAB69uyJv/71r/a/3XXXXfjkk08wceJEt/1UKvEzDk8XwEYwc9XLysoEyRhM/CmjfQ36PZc16Cu516Bt27/34WHMKsjBxh0VTvsNH5QFtbqPX2QVQ25uLnQ6HQDp1y/SaikE65lw1MXEeC0mX9cXG1z0a/TATBTN0botrShR78Si1LEoMTFR1u2NRqN9G7HHVuL18USg7qlgYyIuLg6fffYZBg8ejJKSEvTr1w8NDQ0+nbS9vR3ff/89VqxYAQA4ceIEzpw5gwkTJgAAWJaFRqNBRkYGDAaDfb+amhqnmAq5CLeAqlB78Yhdg3bcflvpaUwb1x9qNXD10EwM6JGk6N/qC+Gmn/5ALp131K1pef3thgRwWS9XLxpPFT0JwgXBC+vPPPMMjh07hrFjx0KtVuOuu+7Cvffe69NJT5w4gT59+iAuLg5Ap/GwfPlyNDY2wmKxYOPGjSgoKMAVV1yB06dP4+zZs+jo6MDWrVsxbtw4n87piXDKVbe9eB59bRcWry3Fo6/twr7DekWnrolN73Pc3tBgQsnXFb8O+tawHNDDST/9gZw676SLKvDqpa2i5/D+achOTwhLvSMIMQg2Jk6ePInHH38cKpUK//M//4PvvvvOnsYplvPnzyMzM9P+efDgwbj//vsxZ84cTJ48GUOGDMGUKVOg0+mwYsUKPPzww5g0aRL69evHufQhlXBqkRyKLx6xXSUjrQtlOOmnP5BT5111K5L0jCCk4HWZY+fOnbBarVi5ciVYlgXLdlr7VqsVxcXFuO2220SfdNKkSZg0aZLTd3fccQfuuOMOt23HjBmDTz/9VPQ5xBCMXHV/ISXSPFjLI2LT+6SkEoYi4aSfvuBNL+XMrnDUrZ0HzmF2QY5bzES46hlBSMGrMXHs2DF8++23qKurw7/+9a/LO2o0Pi9zKA1PL7NQiz/ge/HotBqPvQ6CuS4vNr1PSiphKOJrLYVg6K7c5xSil96MLTEyuepWSpdYjM7NQkOziWIjCMIDXo2Jhx56CA899BDef/99Ts9BqME3sHC9zACEVOAbw7BgwboVsZpVkINV6w9g/uRhvLIHuxCPt66S3ravOs+fRhrq+FJLQaxxKIcR4HjOxHgtbr66N3plJqJvVhd0T/MtrkCIXnqbDIh9hrl0sWeGuIh/gog0BGdz3HLLLfj6669x0003Yfny5Th+/DgWL16MwYMH+1M+WfE2sLgOIJU1zSFT6c51IL99/ABkJsehrqkN20pPw9Bg8ig7FeJRNmKNLTHGoVxeKds5E+O1mHRdX7eUXV+McCF66cnYCqVnmCBCGcEBmH/5y19w/vx57Nu3D99++y1uu+02LFu2zJ+yyY7YQC2+gUxvUF5jH8ffZmgwYcOOE1i76RDM7QwMDSYAnoP2Ii2oMdTx1mhKTNCmXAGMtnPemNfLbkhIOR4gXC/5sisoeJUgAoNgY6KhoQF333039uzZgylTpqCwsFBS0apgIHZg4RvITpxrUFy6Jd9vg8NE0JNxYHMV235vqASbCe0aGk5dHoWkQooxDuV64drP6SGlUixS9VJuI1moHoWTvhGEEAQvc1gsFlgsFuzduxcrVqxAW1sbWltb/Smb7IiNiudai51VkINtpadhbLEoylXK99vUv1YM9TYIB6PHgVSEuufDreiT1DgCV+TKFrGd84y+SbbsE6l6KWcjsEjVN4IQgmBj4qabbsKYMWMwZMgQ5ObmYsqUKZgyZYo/ZZMdsQOLbSDrmnAtDlbUAizs8QepSTG4ZDQpJsuD67c99Lsr0DMjESMHpUIbFQWT2Qq9oYVXVrHr8sFGaFxAsINL5cbXOIKM5DjOIEu5Xri2c/bt3gVZqXFY89Ehp+OpVMDhk7WinxcpeimnkRyp+kYQQhBsTDzyyCOYOXOmvdjUqlWrQir4EhA2sHBFtXdLjMGW3afsg0NqUgwmX9cXz/7j24BFyvv624DQykgRg9Cg0XALLhWbCjmsbyoAz3og9IXrTZfVahW6pyUgMyUeg3olo97YhqSEGOgNLXjk1V1B0UG5jORI1TeCEIJgY4JhGHz++ef4+eefsWTJEuzevRsDBw5EVFSU950VhKeBhc89OXpYptPM7eare3PW7Jc7Ul6sERLqGSli8fRSdbx2umhNWBV98iUVsldmokc9EPLCFaPLjserrGnGynUH3M7dKzMfapVKMd49wPMzJ3Q5KNKLjBGRiWBjYuXKlaivr8fhw4cBAHv37kVtbS2WLFniN+ECDZ970rWxj9nc4TRQpCbF4Ma8Xjhb3QQATgOQry5PhmFx4Fg1fj7fAIZloVapMLBnEkYNyRA14IbzLInvpZqRHOf00stKiXOrvREKwaV8OHoSGltN0KgvL2GpVODUtyfnjZKsB666nBiv/TU+Qo2s1AReY4BPB8/om7B6w0HFeMy8GUtCl4PkjNMgiFBBsDGxb98+bN68GYWFhUhISMA777yDadOm+VO2gOPtxes407LNPFKTYjzm1Pv6Mq+qa8G5qiZs3nXSftzZBTnokZ6A7mmd+wnxXITbLMn1N48elonVi8bjTGUN+mSnIys13u2lp69rRclXJ7B84ViYLdaQCC71hu3lduZwk9NLa+GMEUiM18LccPl+my0diImR7p1x1GVveu8Inw6eqzIiMV6LaXn9ARVwRt+Evt272PXbG3IvH3oz/IUuB4ViMDNBSEVwaqhGo4FafXnz6OhoaDSCbZGQQGgamWO6mrecel9T0+qbTG5LKRt2VKC+qbNmhNBOiaGa8skF12/ef6QKWanxiGEu2Qd8LgNOX9cKs8UaVl0euV5+az46hJuv7u20Xae+xUjWA0ddFlNLgksHF84YgbLjVZh0XV9s2XMKJV9VYPOukzh+tl5QGqU/uuMKSZEV2i2UuooSkYZgayAnJwfvv/8+Ojo68Msvv+Cf//xnyAVgekNMjw7bjPhsdZNHz4OvLk+T2cp5XJO5s2y00OWTcJolefrNjoSbN4YPvpdfz4wE+++36VtmSjwyU+Il6YGjLnuqJeHqcePSQZUK0Bta3QySNR8dwqBeyV5l8UfGRKToDeE7FisDrUbYHFzMtuGAYGPiqaeewvLly1FXV4c5c+bg+uuvD6t4CcC3jAgAHgcgX1/mmSnxnMfNSOmUR8zyiWtwna2gDp97mMt97C9cz5WRHIfq+lZO2YQWVxJqwIVaEzdX+F5+1fWteOqeaxAVpUKKy++SktXgqMuXmk1OGU62c7u+eLkyS9RqFRiGRa/MRLf7mRivxSWjyV6ETGwchqP+i72/Smn4F+p6Gc5oNWosXvONoG2XLxzrZ2mUhWBjIiEhAcuXL/enLIpAbEaEkBeXL6lp3dMSOI+b/et6suOLxBYAqlZDcndQvr8n+GFJy/VcWSlxmHnzILdASZtsnmaOVQ2Xjys0BTjUU2a9FVVbvUj+jB2bLnsKfrUZqt0SY3DR0GLP5HC9xn2zujjdTzEp10LSY31p8BXs9Opw0EsiMvH6hnjxxRfx1FNP4cEHH+T8+1tvvSW7UErD2yxI6jKCRqPh9BR4Oq5tMH/v8yMoGN3b7i7evOuUx8HHm3uY7+9Pz8/19fLx4nqu34zsYTckuGTzZLhVnXc+tjcDLhwKC3kqqgbArxk7fEWx9h+pcro/swty7AGhrtfY1WAWk3LtzYj39f4GO706HPSSiEy8GhO9e3cGc02YMMHvwigVwWupPsR+MQwLgzkRL7zGXdCH74VoG8zTusVi8ZpvBA8+npqX1Te1QaVScWYDNJsY8T/OC26yeFmHlzP+I1xSZtVqlVtRNcD7Wr8crnRX/eR66W7YUYFp4/pjZ9k53JjXC1ABl5pNnAaza8q17RhC4zCELomJvb+B1JVw0Usi8vBqTGzatAl33nknSktL8corrwRCJsXhS5EgoW5JvaEFazcd9WkmolarYG7nDtTkG3z4DKMT5xqwYccJ+2zyc4cZrk4bhYQY+QOJ+GTx9FKUq5phOAXbiQ3y9Zcrne9FGK1VO6WRbtl9itNgdky5tuHpnnjSBTnvbyB1JZz0kogsvL4hjEYjnn76aXzzzTdYtmyZ23+RgG0WtHrReCxfeJ29iJVarZLcvllMx0auToR8qae22AlXuNL0Zhfk4Kvvz9rPvWFHhT290PaiQXujoN8jBldZ9h68gAcLRwQkjTWcUma59HP0sEzoDS2cXSvlajnuCp8udk9NEJRGKuc9UeqxlHQugpATr56JN954A19//TXUajWSkpICIJIy4ZsFiXFLcrmWk7vEIislDr8Z2cPeLnzvwQtuJaFTusbi9MUmt9mka6lvWxDeqvUHMH/yMLfZpqt7WAUVXv13md0LYZN/UK8kLF94nd19fPCgXtT1EuJG51t3H9InWfQyBl/cCR/hlDILOOunp7Lw1fWtXtOZfV0CyUiOw4OFw/HWpsP2895/+3DE6NSCnhHHe+JYhMyXe+LL/eX73Y7HqmtqQ0y0BtaODo9N83wl3PSSiBy8GhODBw/G4MGD0atXL0ydOpVzmxUrVuDJJ58UfNJ58+ahrq7OXvTq+eefx7lz57B27VpYLBbcfffduOOOOwAApaWleOmll2A2m3HrrbeiqKhI8HkCgVC3JN8Af/WQDPzupoH42+Zy+/cPFo5AWlKs0/azCwbZq2EC7qW+07qNxfdHq8Awl4Pwij/4AWndxmJAjyQ3g8LRtWxssTjJqtNGISvV96UEx9+aGK/FzVf3Rq/MRPTN6qxuyCeLDbHLGN7iTviQa8lEafB5Hp665xq8+O53mJbfn1dnrVYG3xy6iDdKfhS9BFJd34qSrzpjJKACwAIffV2BO28dIth1b7snVedPIDu9H++5hBqrQu+vt6Ufe8VRfROe/9/9fs20CFe9JMIbwQvhfIYEAOzfv1/wCVmWxS+//IItW7bY/8vMzERxcTH+/e9/Y8uWLdi4cSNOnjwJk8mExYsXY82aNdi2bRvKy8uxe/duwecKBELdknwD/JmqJrshYfv+rU2HcKaqyWl7hmU5Z3d1TW322IkNOypQ8nWF3ctgtnTg+6NVHisD+sOtavutifFaTLquLzbvOomV6w7gj8W7JVcp5DsfV9yJVLd9qMLnLTt6ug5mSwd2HjiHWQU5bvc8IzkOh08Z7IaEbT+h17K+qa2zdPnXFSj5qlMX9XWt0BtaOM/HpWO2pTxbnQkuXfFH9UshSz/+Wh4iiHBAluIBLCv8If7ll1+gUqnw+9//HnV1dZg5cybi4+Nx7bXX2pdRJkyYgO3bt+Oaa65B79690bNnTwCdBs327duRn58vh9iyINQtyTfAGxqFf881u4uJ7ryFfB4ShoHXgE6tRo3bxw+wNxSTWrXN9lun5fXnXCuXO82NIuCd8aQLAGBoMGFb6WlMG9cfA3p2Ra+MLvaeJjaDwxGh15LvvO0WBjvLzrmdz/UZERoY6o/0SSE6RHpGEPzIYkyoVMJdfE1NTRgzZgyeffZZmEwmzJs3D7feeivS0tLs26Snp+PQoUOoqalx+766ulq0fGVlZaL38ZWqBrjVPAAAbVwq50CbGKMW9P3OA+cwuyDHnodvi41oaGxEWdkv0Gg0WFA41D5DdyxgZLZ04ExlDarOn3CTSxOXgpXryt3O//T8XFhb65y2FXodbb+VL9WTTxZf4bu2THsLysrOyXYeLvLy8nj/Vl5e7vQ5UHrIpQsLpw/Hhh0V9m0MDSZs2XMKT8/PRdX5E6g6D5jU3cCw3EarkGvpSQe5zue2f1wKij8odzMSEqKdddGk7ia7XgnRoWDqmSti9E4sgRwvhZCXlwej0ShqHyHb27bxx7FtKOVayiWHJ70LeKeuK6+8EldeeSUAIC4uDjNmzMBLL73kVhRLpVJxejzEGC42PF2AQMEwLIrmaN1mXUP6prsNwLbvHQMrjS0WxERHYebNA2G2MAAL7Nh/FkvvG4Ps9D72c/TM7OYWO6HTRqFPdrp9DdpxvZmvroQ6Oh55Q/rYvysrK+O8jnylt4vm2NpTuw++jrL4ch31hhbUNbYhRtcZCJeUEIOFhUOxxuUaDh+UBbW6j9dj+ovc3FzodDoA/NfPXzAMi8F90p0CW3XR7vrneI0qa5rx3hf7MKsgx6kb6MMzR2L4oGxB19JqZdA9rSsqa5uR0jUWH/znmF0HvR3n8MlamC2XK7raApK1sQm4wkEX+VJIpeqV6/O5cMYIpKUmI71bL1TXt6KxxYSHZ450iycJtp654qh3Ygm0ngolMTFR1u2NRqN9G7mP7YgSrmWg7mnAjYkDBw7AYrFgzJgxADqXSLKzs2EwGOzb1NTUID09HRkZGZzfhyKelkNSdUasXuT+veP2SQkx0HOUJnYt2z2gRxJqL7Xx1hzgciVz1ZVwDY7jypYA+MsMjx6WiYyUOGSmxGHtx4d4ZRYDl+yzCnKwY/9Z3HXrQBQX5aOh2UQR8OAO4vO2HJeVGo/5k4fhvc+PYNq4/lCrgaF9UzC8f6qga8kwrFsFzHt/OwzXDs9C3+5JHo/DMCx00RpkpcQ5VXTVaaPQKyMRTK/LJeLF1NUQmplie956ZebjjL4J56qMWPfFMRhbLHiwcARKvjoBfV0rslLiePueEEQkE/CYCaPRiNdffx0bNmyAxWLB5s2b8corr+Cxxx5DfX09YmNj8eWXX+KFF17AoEGDcPr0aZw9exY9evTA1q1bMX36dDlEDkozHb4obavVyvm96/bZaQmcRofrPp5eGlzrzRt2VOD28QPsRatcB2a+bIlemYmca9e9MvNxrspoD8K8ffwA9MpMRJ+sLshO870dM5fsG3+tsLh6YzlWLxqP4f3TvBwlvPGk196yBC7rThef0hK57s/bnx7B8oXuGUWuMu87rMd7nx/B/MnD3I7xRsmPGNAjyS630DglscW51GoV1CoVVm846OT1eGvTIUwb198eUPriu9/5pe8JQYQyooyJ5uZmJCQk4Mcff8SZM2cwefJkaLVa/OUvfxF8jBtuuAE//fQTbrvtNjAMg7lz5yIvLw9FRUWYN28eLBYLZsyYgREjRgDoTDt9+OGHYTabkZ+fj4kTJ4r7hRyEajMdoSljnrbjCyJzrSvhGvC28atTl1P+ALz3+RHcf9twzmNV111+qZgbOuxGitQuenyy22IzIj0QTg69lpKWyHd/zBarx/M7GiEXaoy8WUu2c9iMJG+dcH0J1PSkY46fI13XCMIVwcbE6tWrce7cOfzpT3/CwoULMWDAAHz//fd48cUXMXr0aFEn/eMf/4g//vGPTt9NnTqVM/10zJgx+PTTT0Ud3xuh1kxHTi8KX8S9p7oSjS0mN9fzrIIcxMZquDNMdBrOAfn7o1WovdTms9HGJztY/5QcDrVW0MHW65SusZhdMAjMr57KnQfOwdhi8XpfHF/g7VaG8x53dLB4lKeOCJ8RlRinFZ194UnHHD/z/aZQ0xmCkAvBOYC7d+/GsmXL8OWXX2Ly5Mn417/+hePHj/tTNr8hpoR1ILDFI3CVPpY7p96XuhKaqCi3FM+NOyqg02o4j5XcJYazrLItTZUrL5+rVLgQ2WcV5GDvjxewoHCorCWH/VHLwN/4U6+93R+GYXH6YhM27zqJkq8qsGX3KUy+ri8ev2uU1/viWIabqwbGwzNHYu3HP/HWd+AzomJ0Gk495Cs1D3Dr2IOFI7D3xwv2z57iM0JNZwhCLkQtc8TGxqK0tBSzZs0CALS3t/tFKH+jpGY63qo3yj3b9KVcr8nM3Uys1WThPBYAzhLftjRV15mhUPc8Z1ljpgPXDe8Og/6UrDPAYM/yfcFfei3k/vDF4hQX5Xu9L44BlYYGE3bsP4sn5+UhOlqDlC6xaGwxQV/X6rSPox7xGVFWpkNUqXlAWon3UNQZgpALwcZEt27d8Oyzz6K8vByrV6/GqlWrQjazQmyXRX/BMCxOXmhAVb0Z0/L7Y+eBc/Yy2LYByB+FcsSui6d05X5JpXSJ5T0WX4lvrpebmEGY73xV562Cf78QQrFAkTe99tUFL+T+8F2vhmYTemZ4TqXjeoEb9KcwYugVnRvUeO4my2dEdY2LweBeKbyl5vle8r6WeA9FnSEIuRBsTLz88ssoKSnB3/72N8TGxkKlUuHll1/2p2x+QwnNdPjSHG2DnW0AUoIXJSs13q0WxuN3jQLDsjh8spbzxSQkTdVGfVMbEuO1mJZ3OcBz54FzfhmEhb5QlXDdxeJJr6UEZwp5Scp2vVxWBBiGhUoFLJwxAms+4k4x9mREOZaa9yS/HAi5BhRTQYQrgo2J1NRULFy40P550aJFOHv2LFJTU/0imL8JdjMdT2mOW/acsg9ASvCiuNbCSOnS2cG0qHi34GUJT0ZbStdYTL6ur1N1z9kFOUjpIn9ApdAXqhKuuy/w6bUUF7yQl6SU68V1XxYUDoXVytjrVnhKMfamZ4EyDIV4hkIxi4wghCDYmPjggw/wyiuvoK3tcjBXcnIyvvnmG78IFu7wzfbUajgNQIH0ovBVs9QbWtDMJCIVwLC+qbIsSzjSwbB2Q8J2vC/3n8WIAam8ng9fECt3sL1XciLFBS/EUJByvSprm93uy9pNR9EzsxtvivGRXwxubcL5UkW7Jcbg8btGeSz4Jge+1HihmAoiXBBsTPzjH//Au+++i7Vr1+KPf/wj/u///g9VVVX+lC2s4ZstXT0002PLcH/BN2vSatRYue7Ar63E29ErMxEx0VE+v5i4aDCanI6XmhSDgtG9sXhtqegZnCc3stgXarC9V3IiZXYu1FAQer0c71FK11ic0Tdy15bgaYL3/dEqbNhRwasXfLr8+p86A3fFGDpilyV8qfFCMRVEOCDYmEhKSsIVV1yBIUOGoK6uDgsWLEBhYaE/ZQs5xAw8fLM9R0MikOurfLOm28cPsLcSt6WHzp88hPPFlJQQ49O5XV90N+b18qnbqDc3crDjIIK5Xi512cbTzF/Mb3G9R7MLBgHgDrDkC/y1dT/l0ws+XRZbIVXuZYlg6x9B+BPBxoRGo0FjYyN69+6NQ4cOYezYsWhpca8XEKn4UrrXNts7U1mDPtnpTgNyoNdX+WZNDMu6vdzBwq2D6eyCHET5KJfri06t5u426m0G582NHMw4CI1GE9T1cjmXbaTopus9YljWXlvCsSjagsLh6Ne9K2+KsQ0uvZDLAyD3skSoxuEQhBAEGxMzZ87EAw88gLfeegu33XYbduzYgf79+/tTNkXjOstUqSB64LHN9qrOn3Drdhjo9VW+WZNapQID1un7tvYO7Dxw7nJ5bRb4vPQ0BvXphu5p0mtf6LQabN51SvQMzttLJKhxENFdUfyefPfTFy+HXMs2UnST6x4ZWyzYVnrark9qlQpp3XTQaNRuerFq/QF7QzqAWy/k8gDIvSwRbnE4BOGIYGNiyJAheOeddxAXF4eNGzfi8OHDuP766/0pm2LhmpktnDGCs5W348Aj5gUQ6PVVvlmTVqPGz+cb3AZnY4sFJV9fTreT6q51fNF1toMWP4MT8hIJVhxEs4mR7X7602slREel6KbrPdp54Jzdy1XydYXdy6VmOwviueqFYyMwPr2QywPgj2WJcIrDIQhHBBsTf/7zn/HFF18AADIyMpCRkeE3oZQO18xszUeH7J03bTgOPJ5eAFxIGch8nbXyVbPskZ6AjOQYvLWpHGZLB/YevIAHC0fgrU3uef9yxAX4OoNTshs5MSZKtheTv7xWQo0ULt3MSomDTqvxmn3jeo+MLRakJ8dhVkEOTO0dUKtU6JXZBR1t1QB6uenT6GGZkjvnCoVLnx6eORIZyXHiLixBRACCjYlBgwbhs88+Q15eHuLiLj9MSUlJ/pBL0fDNzHplJtoHWdcXmacXABe+vhjFzFq5Xvxcs6buaQmovXjKaRDnKjEMQLYZs68zOK1GjdvHDwDDslCrVNBqBLef8Stse4Nsho6/vFZCjRRX3cxKicPMmwdh8ZpvvN53tVqF0cMysXzhWBga25DaNRZ9MrugtqHNSZcOHqz0qMtSOucKxSbrU/dcg6On68AwwPvbj0ETpabaEAThgmBj4uuvv8b27dudvlOpVDh27JjsQikdPq9Bn6wuvLMmsU2YfJ1dCX0hCDU6bAaHY50J299dB+vKGvd6AYHMo9cbWuy1BGzotFFYvSj4efxWqxVjrpRnvdxfWQFCjRSuGBebIWHbh+++MwxrL0TlqHd9u3dxq36phLoM1fWtePHd75yuC9WGIAh3BBsThw8f9qccIQWf18BWlY9rkPH0Aqhq4D6PL7MroS8EIQO12LV5X2bMcqZLKj2PX671cn8t54gxUhx/y+GTtYKvu6cUZFtRqqI5VyFBo+G9n+eqm+zXwd/eAaXrFEEoBcHGBMMwePvtt7Fnzx5YrVaMHTsWDz74IDQaUY1HwwJfvAaeXgBV5+WTTegLQcggKXZmKHbGHIg8fqFr+aGEv7ICfDVSxNx3TynItn8Xf/ADnp6fy3vck+cb8er7PwQk6JRqQxCEMARbAq+++iqOHz+O+fPng2EYbNy4ES+//DKeeuopf8qnWMTOMgOVFib0hSBkkBQzK2MYFgzL4tHZV+JclRFffX8WxhaLx5eRv/P4xazlhxr+yAoIROArn945LnGYLR1oMbMYznFcx1b2gQg6VXJQbyhjsTKKiWci5EGwMbF37158/PHH0Gq1AIDx48fjt7/9rd8EC0cCkRYm9IUgZJAUOivjS5Ud3DsZmSn+SX91nU1qNBpJa/lEJ77oqBgjhEvvZhfk4HOHQlQ6bRSiozurqdqOe666CSfPN9q76gK+LTe46g3Dsh4NWqoN4R+0GjUWrxHW12n5wrF+loaQA8HGBMuydkMCAKKjo50+E8pByAtByCApdFbGlyq7etF4j4Oury5kvi6TDMP6vJZPSEOoEeKqd0kJMbhQbYSxxQIAdu/D3z8px9L7Ep2O+er7P4jWFUe49ObR2Vd61RGqDUEQ3hFsTAwePBjLly/HnXfeCQBYv349cnJy/CYY4X+8DZLeSn7b8NXD4KsLmct4WbvpKAb3SXc6H613KxNXvTO2mp2qqdq8D476I8dyA5fenKsyko4QhAwINiaWLl2KZcuWYc6cOWAYBtdffz2eeeYZn0765ptv2gtg5efn4/HHH8df/vIXlJWVITa28yH+wx/+gIKCApSWluKll16C2WzGrbfeiqKiIp/OqWQ0Go1PTZMCgaeS3zZ8fWn76kKub2pDYrwW0/J+fQGhs5Kiq/ESaevdwWwkJoWu8THYssdz+XQ5lhtcjd7UpBhoNSo8PHMkLtQ0C4rzIQiCG8HGxIkTJ1BVVYXk5GQAwPHjx3HnnXfis88+E3XC0tJS/Pe//8XmzZuhUqlw3333YceOHSgvL8f69euRnp5u39ZkMmHx4sVYt24dsrKy8MADD2D37t3Iz88XdU4lwzAsDOZEvPDaLrcAMAAh8XKQ8tL2xYWc0jUWk6/r69ZoLKWLs/ESSevdfIGEo4dlorq+VdE6xKU/CwqHuumP1OUGR6M3NSnGqROu0DgfgiC4EWxMPP3005g5cyaGDBkClcr3By0tLQ1PPvkkoqOjAQD9+/fHxYsXcfHiRTz99NO4ePEiCgoK8Ic//AGHDh1C79690bNnTwDA1KlTsX379rAyJvSGFqzddNQtAKxv9/E4fbEpaF0mxRDol3YHw9oNCaDzmm3YUYHRue6lySNlvZvLhf/e50dg7WDwRsmPitYhLv0x6E/5NdOJq829kDgfgiC4EWxMREdH4+6775Z8woEDB9r/febMGWzbtg3//ve/8d133+H5559HXFwcHnjgAXz00UeIi4tDWlqaffv09HRUV1dLlkFJ8MYbNJmCXv1PDIF8aTcYTZzXrKHZhJ4ZiX4/vxLh0qPfjOxhNyQAZeuQq/5Unbf65Rw2o+VsdRMF5xKEjAg2Jvr164fDhw9j+PDhspz4559/xgMPPIAnnngC/fr1w1//+lf73+666y588sknmDhxott+vnhFysrKJMnqT7RxqZzxBk3N3EbGmcoaVJ0/4XqYgOB4HTUaDRDdFc0mBokxUWDbG2C1yv8C4ILvmjHtLSgrOxcQGWzk5eXx/q28vNzpsz/1kOuaqNVQnA4BwnXHn9crQUE65Ati9E4sgRgv8/LyYDQaBW8vZluh29u28cexbSjl3SOXHJ70zqsxMXXqVABAS0sL5syZg549ezpVvRQbMwF0/rBHHnkEixcvxuTJk3HixAmcOXMGEyZMANCZhqrRaJCRkQGDwWDfr6amximmQiieLkCwYRgWCwo77EsdNle0Y9MwGzptFPpkp/MGQvqTsrIy+3W0r8+/57IEc2Vg3OedLcq1bmvswwf1hlrdx+/nF0pubi50Oh0A5+vnD7iuydC+KYrSIZucQnQnGNeraM5VGD4oS1E65AuOeicWf193RxIThXsRxWwrZHuj0WjfRu5jO6KEd0+g7qlXY+Lpp5+W9YR6vR4PPfQQiouLMWbMGACdxsPy5ctx7bXXIi4uDhs3bsTtt9+OK664AqdPn8bZs2fRo0cPbN26FdOnT5dVnmCjVquQqjO6NQgDoMhMBIZhcfJCA87oGzEtvz92HjgHQ4MpoO7zQK2xhxJc1yQjOU5xOuSt6qktI8Wk7obKmma/xd5EUnAuQQQCr8bENddcI+sJ3377bZjNZqxYscL+3ezZs3H//fdjzpw5sFqtuOWWWzBlyhQAwIoVK/Dwww/DbDYjPz+fc+kj1LFarZzxBkob7LgyBmzljV3rAvibQKyxhxpccStK0yFPNUmyUuNl7dXijUgJziWIQBDwLl1LlizBkiVLOP92xx13uH03ZswYfPrpp/4WS5EobbDjmlVu3FGBaeP6Y8ueU1ToR4EoTYc81SRRQstxgiB8gzqtEILhm1Wq1Qi6+5wIDWzpmTptFAA4Lb148loQRKhhsTJ+3V5pRF7/cMJn+GaVVw/NxIAeSbTeTHjFU6wClT8nwgkxzcyA0G9oRp4JQjB8s0oyJAgx2JZehvdPs3fmBDx7LQiCUDbkmSAEQxHwhD8R2liOIAjlQcYEIQqlBfQR4YWQxnIEQSgPWuYgCIIgCEISZEwQBEEQBCEJMiYIgiAIgpAExUwQkrCVP65vakNyF+kBmXIfjwge/r6XpCsEoRzImCB8hqu8tpTyx0KORy+Q0EBu3RB7fNITgggsZEwQPiN3+WMhTaD4XiCEsvB3aWxPxw90jw+CIChmgpCA3OWPvR2P7wWiN7T4dD7Cf/i7NLan45OeEETgIWOC8Blb+WNHpJQ/9nY86t0QOsitG2KOT3pCEIGHjAnCZ+Quf+zteP5+QRHy4e/S2J6OT3pCEIGHYiYInxFTXltIQJy349leIK5r4Vmp8ag6H5CfTAjEdi97Zeajuq4FMToNkrvEyH58Ll3xpCeEMCxWBlqN8Lmm2O2J8IOMCUISQspri4ns93Q86g0SepyrMvotEJJPV0hPpBNpHS8J6ZApSfgdOQPi+DpOEsojmIGQpCcEEVjImCD8DgXERSZ03wkiciBjgvA7FBAXmdB9J4jIgYwJwu/4O7KfUCZ03wkicqAATMLvUEBcZEL3XVkIybjIy8sLkDREuBESxsRnn32GtWvXwmKx4O6778Ydd9wRbJEIkQjJ+uCCeiyENr7cd4ZhoYlLweGTtXTPZURIhobRaERiYiJlZxCiUbwxUV1djeLiYmzatAnR0dGYPXs2Ro8ejQEDBgRbNMLP+LtZFKE8Lt/zcrrnBBFCKD5morS0FNdeey2SkpIQFxeHCRMmYPv27cEWiwgA1GMh8qB7ThChieI9EzU1NUhLS7N/Tk9Px6FDh0Qdo6ysTG6xZIdkdMek7saZWnimsgZV50+4bR+Ma+hpjbm8vNzpcyjc42Aj9p5HKmL0znEfo9Ho9di2bYRs64gY/RYqi6tMcm7v6+/0p9z+GiPkOq4nvVO8McGyrNt3KpU4d6fSg4rKyspIRg4qa5qh00Y5vVx02ij0yU5Hdnq/oMvnjdzcXOh0OgDKlE+JiLnnBDeOeudKYmKix31tMRNCtnVFrH6LOb5YWfz5O/0ptz/GiECNPYpf5sjIyIDBYLB/rqmpQXp6ehAlIgIFpRZGHnTPCSI0Ubxn4rrrrsMbb7yB+vp6xMbG4ssvv8QLL7wQbLGIAECphZGH7Z4nROdCHR1P9zxEoEZf0hFzDS3WDmg1Ud43RKe3IxD3R/HGREZGBoqKijBv3jxYLBbMmDEDI0aMCLZYRIDwNaWUCF3UahWsrXXIG9In2KIQAqHGYNIRcw2XLxwreFuj0Yg3npgoRTRBKN6YAICpU6di6tSpwRaDIAiCIAgOQsKYIAILV6GoQJyDXNnKRez9ovtLEJEFGROEE3yFohI08qkKFaMKLcTeL7q/BBF5UMQM4QRf0SBEd/X7OagwkTIRe7/o/hJE5EHGBOFEfVMbZ9GgZhPj93PUG9tkOwchH2LvF91fgog8yJggnEjuEmvP8beh00YhIUY+VeE7R3JirGznIORD7P2i+0sQysJiFT4ZFLOtIxQzQThhKxrkut6N9lq/n4MKEykTsfeL7i9BKAuxaae+QMYE4QRfoaiDB/V+PwcF5ykTsfeL7i9BRB5kTBBuBKJQFBWjCi3E3i+6vwQRWVDMBEEQBEEQkghbz4Rjt1Gz2RxESYRBMkonWPJFR0c7dbK16V57e7vTdkq/fkqDrpdnhOqdDZ1OB4bxHlxn20bItlz7+WN7fxw7EL8zVI/t6dlz1TsbKparx3cYYDQaUVFREWwxiAjAteUz6R4RCEjviGDA1+I+bI0JhmHQ0tICrVbLaUURhFy4Wuqke0QgIL0jgkHEeSYIgiAIgggMFIBJEARBEIQkyJggCIIgCEISZEwQBEEQBCEJMiYIgiAIgpAEGRMEQRAEQUiCjAmCIAiCICRBxgRBEARBEJIIW2Pis88+w6RJk1BQUID3338/2OLYefPNNzF58mRMnjwZK1euBACUlpZi6tSpuOWWW1BcXBxkCS/z8ssv48knnwQAHDt2DNOnT8eECRPw1FNPwWq1BlW2nTt3orCwEBMnTsSyZcsAKPc6KlUXg828efMwefJkTJs2DdOmTcNPP/3Ee62Uem/DhXDU0XDXr+bmZkyZMgUXLlwAwP8b+Mbuixcv4o477sDEiROxYMECtLS0SBOIDUOqqqrYG264gb106RLb0tLCTp06lf3555+DLRb7zTffsLNmzWLNZjPb3t7Ozps3j/3ss8/Y/Px89ty5c6zFYmH/3//7f+yuXbuCLSpbWlrKjh49mn3iiSdYlmXZyZMnswcPHmRZlmX/8pe/sO+//37QZDt37hx7/fXXs3q9nm1vb2fnzJnD7tq1S5HXUam6GGwYhmHHjh3LWiwW+3d816qtrU2R9zZcCEcdDXf9+vHHH9kpU6aww4YNY8+fP+/xN/CN3ffffz+7detWlmVZ9s0332RXrlwpSaaw9EyUlpbi2muvRVJSEuLi4jBhwgRs37492GIhLS0NTz75JKKjo6HVatG/f3+cOXMGvXv3Rs+ePaHRaDB16tSgy9rQ0IDi4mI8+OCDAIDKykqYTCaMHDkSAFBYWBhUGXfs2IFJkyYhMzMTWq0WxcXFiI2NVdx1BJSri8Hml19+gUqlwu9//3v89re/xfr163mv1aFDhxR5b8OFcNTRcNevkpISLF26FOnp6QDA+xv4xm6LxYLvv/8eEyZMcPpeCmFpTNTU1CAtLc3+OT09HdXV1UGUqJOBAwfab+qZM2ewbds2qFQqxcn6zDPPoKioCF26dAHgfj3T0tKCKuPZs2fR0dGBe++9F7/97W/x73//W7H3XKlyBZumpiaMGTMGf/3rX/HPf/4TGzZswMWLFzmvFV1D/xKO1zfc9evFF1/EqFGj7J/5fgPf2H3p0iUkJCRAo9E4fS+FsDQmWI52I0pqfPPzzz/j//2//4cnnngCvXr1cvt7MGX98MMPkZWVhTFjxti/U9r17OjowL59+/DKK6+gpKQEhw8ftq8bOqKEe660a6cUrrzySqxcuRJxcXFITk7GjBkz8Prrr7ttp1Kp6Br6mXC8vpGmX3y/Qez3UtBI2luhZGRk4MCBA/bPNTU1dndQsCkrK8MjjzyCxYsXY/Lkyfjuu+9gMBjsfw+2rNu2bUNtbS2mTZuGxsZGtLa2QqVSOclYW1sbVBlTU1MxZswYJCcnAwBuuukmbN++HVFRUfZtgn0dbShZF4PJgQMHYLFY7EYry7LIzs7mfBYyMjIU9YyEG+Goo5GmX3y/wfV729idnJyM5uZmdHR0ICoqSpYxPSw9E9dddx327duH+vp6tLW14csvv8S4ceOCLRb0ej0eeughrFq1CpMnTwYAXHHFFTh9+rTddb9169agyvruu+9i69at2LJlCx555BHceOONeOmll6DT6VBWVgYA+OSTT4Iq4w033ID//ve/aGpqQkdHB/bu3YuJEycq6jraUKouBhuj0YiVK1fCbDajubkZmzdvxiuvvMJ5rZT2jIQb4aijkaZffL8hOzubc+zWarUYNWoUtm3b5vS9FMLWM1FUVIR58+bBYrFgxowZGDFiRLDFwttvvw2z2YwVK1bYv5s9ezZWrFiBhx9+GGazGfn5+Zg4cWIQpeRm1apVWLJkCVpaWjB06FDMmzcvaLJcccUVuO+++zB37lxYLBaMHTsWc+bMQb9+/RR3HZWqi8HmhhtuwE8//YTbbrsNDMNg7ty5yMvL471WofCMhCrhqKORpl86nY73N/CN3UuXLsWTTz6JtWvXIisrC6+99pokGVQs1+IJQRAEQRCEQMJymYMgCIIgiMBBxgRBEARBEJIgY4IgCIIgCEmQMUEQBEEQhCTImCAIgiAIQhJkTBB23nzzTXz11VfBFoMgCIIIMciYIOzs378/6K3FCf+zf/9+TJkyJdhiSMJXw/fKK6/EhQsXcPjwYTzyyCN+kIwQg9J08dixY7j55ptx++2341//+heWLVvm87EibXIWlkWriM6HtLi4GD179sTPP/+M9vZ2PPPMMxg2bBiee+45HD9+HCqVCr/5zW+waNEibNy4EeXl5Vi5ciWioqIwYMAAPP/882htbUVNTQ0GDx6M//mf/4FOp8Prr7+OHTt2QKvVolu3bnjppZdCrvwsEdrs378fAwYM8Hn/4cOHc/ZqICKbr7/+GqNHj8aLL74o+VhSdTTUIGMijDl06BCWLl2KIUOG4J133sGbb76J7OxsJCUl4bPPPoPFYsGCBQvwzjvv4P7778f27dtxxx13oKCgAC+//DJuu+02TJs2DRaLBYWFhdi1axdGjBiB9957D/v27UN0dDTeeecdHDp0CDfffHOwfy4hgtbWVhQVFeGXX36B2WzGsmXLMGjQIE5DU6PRIDc3FzfddBOOHz+OVatW4cSJE9i4cSMsFgsaGxvx+9//HnPnzkVtbS2eeOIJXLp0CQCQn5+PP/7xjx5lMRqNePHFF1FRUWHvp/D4449Do9FwGq47duxwMny//vprDBw4EPfeey8A4Mknn7R/PnDgAF544QWoVCoMHz4cDMMA6BzoX3jhBWzduhVGo5H3dxP+Rym6+Omnn+KDDz5AR0cHTCYTxo4di//85z/429/+JllHPU3OwgVa5ghjunfvjiFDhgAAhg4disbGRuzZswd33nknVCoVoqOjMXv2bOzZs8dt38ceewzJycn4xz/+gWeffRY1NTVobW1FRkYGBg8ejNtvvx0vv/wyhgwZQoZECFJVVYW7774bW7ZswezZs/HGG29g2bJldkPz448/xokTJ/DOO+8AACwWC2644Qb85z//Qb9+/fDhhx/i73//Oz755BMUFxfjlVdeAQCUlJSgR48e2Lx5M95//32cPXsWRqPRoyzLly/HsGHDsGnTJnzyySe4dOkS3n33Xej1erz33nv4+OOPsWnTJowdOxaHDh3CHXfcgdzcXDz++OMoKCjgPW57ezseffRRPPnkk/jkk08wevRomEwmt+08/W7C/yhFF3/7299i9uzZmDRpEl599VWnv0nV0ZKSEtx2223YuHEjvvzyS1y4cAG7du3y2zUNBmR6hzExMTH2f9vaztpmZjYYhuGMk1i0aBE6Ojpw6623Yvz48dDr9WBZFmq1GuvXr8fhw4exb98+LF++HKNHj8aSJUv8/nsI+ejZsyeuuOIKAMDgwYPx8cf/v737C2Xvj+M4/lxMNkn+XLrRxNzswr/VmCtl03ZDuJDmQv7uRih/Fi5ISsrFpNxQk1oTF27FNHHhZtnFyMW4cae4cGGx34V24vvDV/b1J96Pq53trM/ns95tr/c5Z501Tk5OWF1dfRI0l5eXaW9vB6C0tBSAtLQ0FhYW8Pv9RCIRwuEwNzc3AJjNZtrb27m4uMBkMtHX10d6evqrc9nZ2eHo6Aifzweg/OA/Dq5VVVVUVVUpd4F8i5OTE5KTk5X32Gw2RkdH/7ff7u7uq+sWH+s71eJLEq3RgYEB9vb2WFxcJBKJKM3ZTyJh4peprKxkZWWF4eFhotEoXq8Xk8kEQFJSkhIsAoEAHo8HvV7P6ekpwWAQq9VKOBymr68Pr9eLwWAgJyeHjY2NL1yReA+1Wq08fmvQ1Gq1wEMn2dTURGNjIyUlJVgsFra3twEwGAxsbW2xv7/PwcEBDQ0NuN1uiouLX5zL/f09c3Nz6HQ6AK6vr1GpVG8OrvH5x0Wj0WefB549dfHWgC0+xneqxZckWqMvNWc/iZzm+GVcLheXl5fY7Xbsdjt5eXl0dnYCD3fam56eZn19nd7eXnp6eqirq2NsbIyysjLOz8/R6/VYrVbq6+upq6tjbW2NoaGhL16V+BfiQTMWi3F7e/skaD4WCoXIysqiu7sbs9msfHnf3d0xMzPD/Pw81dXVjIyMkJ+fTyQS+eu4S0tLyrhdXV14PB7C4TA2mw2dTkdHRwetra0cHx8DT4NvZmYmoVAIgMvLSw4PDwEoKCggFovh9/uBh4vrrq6u3r1u8Xm+qhZfm08iNRoIBOjp6aG2thaVSkUwGOTu7u59H843JUcmfiij0cjm5uaz23+eD4xzOBw4HA5lu7m5+dn9nE4nTqfzH85WfAcul4uJiQnsdjvRaBSz2awEzccqKirw+XxYLBY0Gg0Gg4GsrCzOzs5wOBwMDg5is9lISUmhsLDwr3/9GxkZYXJyUhnXZDLR1taGWq1WgqtWqyU1NVXp+OLBNxqN0tLSQn9/PzU1NeTm5lJeXg48dLxut5vx8XFmZ2cpKioiOzv73esWn+eravElidZovDnLyMhAo9EozdlPIrcgF0IIIURC5MiEEOJDHRwcMDU19exrRqOR4eHhT56R+K2kFj+OHJkQQgghRELkAkwhhBBCJETChBBCCCESImFCCCGEEAmRMCGEEEKIhEiYEEIIIURC/gNZJpEhWE1WZAAAAABJRU5ErkJggg==\n",
=======
      "image/png": "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\n",
>>>>>>> d6ea45aef3915597f0a9abeaf087f33c6da746ca
      "text/plain": [
       "<Figure size 540x540 with 12 Axes>"
      ]
     },
     "metadata": {},
     "output_type": "display_data"
    }
   ],
   "source": [
    "sns.pairplot(data)"
   ]
  },
  {
   "cell_type": "code",
   "execution_count": 48,
   "metadata": {},
   "outputs": [],
   "source": [
    "# Analizamos los resultados con el OLS"
   ]
  },
  {
   "cell_type": "code",
<<<<<<< HEAD
   "execution_count": 49,
=======
   "execution_count": 94,
   "id": "proprietary-allah",
>>>>>>> d6ea45aef3915597f0a9abeaf087f33c6da746ca
   "metadata": {
    "scrolled": true
   },
   "outputs": [
    {
     "data": {
      "text/html": [
       "<table class=\"simpletable\">\n",
       "<caption>OLS Regression Results</caption>\n",
       "<tr>\n",
<<<<<<< HEAD
       "  <th>Dep. Variable:</th>          <td>notas</td>      <th>  R-squared:         </th> <td>   0.905</td>\n",
       "</tr>\n",
       "<tr>\n",
       "  <th>Model:</th>                   <td>OLS</td>       <th>  Adj. R-squared:    </th> <td>   0.904</td>\n",
       "</tr>\n",
       "<tr>\n",
       "  <th>Method:</th>             <td>Least Squares</td>  <th>  F-statistic:       </th> <td>   464.5</td>\n",
       "</tr>\n",
       "<tr>\n",
       "  <th>Date:</th>             <td>Tue, 27 Apr 2021</td> <th>  Prob (F-statistic):</th> <td>2.08e-50</td>\n",
       "</tr>\n",
       "<tr>\n",
       "  <th>Time:</th>                 <td>17:15:00</td>     <th>  Log-Likelihood:    </th> <td> -307.98</td>\n",
       "</tr>\n",
       "<tr>\n",
       "  <th>No. Observations:</th>      <td>   100</td>      <th>  AIC:               </th> <td>   622.0</td>\n",
       "</tr>\n",
       "<tr>\n",
       "  <th>Df Residuals:</th>          <td>    97</td>      <th>  BIC:               </th> <td>   629.8</td>\n",
=======
       "  <th>Dep. Variable:</th>          <td>notas</td>      <th>  R-squared:         </th> <td>   0.904</td>\n",
       "</tr>\n",
       "<tr>\n",
       "  <th>Model:</th>                   <td>OLS</td>       <th>  Adj. R-squared:    </th> <td>   0.902</td>\n",
       "</tr>\n",
       "<tr>\n",
       "  <th>Method:</th>             <td>Least Squares</td>  <th>  F-statistic:       </th> <td>   457.9</td>\n",
       "</tr>\n",
       "<tr>\n",
       "  <th>Date:</th>             <td>Tue, 27 Apr 2021</td> <th>  Prob (F-statistic):</th> <td>3.89e-50</td>\n",
       "</tr>\n",
       "<tr>\n",
       "  <th>Time:</th>                 <td>10:23:02</td>     <th>  Log-Likelihood:    </th> <td> -315.25</td>\n",
       "</tr>\n",
       "<tr>\n",
       "  <th>No. Observations:</th>      <td>   100</td>      <th>  AIC:               </th> <td>   636.5</td>\n",
       "</tr>\n",
       "<tr>\n",
       "  <th>Df Residuals:</th>          <td>    97</td>      <th>  BIC:               </th> <td>   644.3</td>\n",
>>>>>>> d6ea45aef3915597f0a9abeaf087f33c6da746ca
       "</tr>\n",
       "<tr>\n",
       "  <th>Df Model:</th>              <td>     2</td>      <th>                     </th>     <td> </td>   \n",
       "</tr>\n",
       "<tr>\n",
       "  <th>Covariance Type:</th>      <td>nonrobust</td>    <th>                     </th>     <td> </td>   \n",
       "</tr>\n",
       "</table>\n",
       "<table class=\"simpletable\">\n",
       "<tr>\n",
       "        <td></td>           <th>coef</th>     <th>std err</th>      <th>t</th>      <th>P>|t|</th>  <th>[0.025</th>    <th>0.975]</th>  \n",
       "</tr>\n",
       "<tr>\n",
<<<<<<< HEAD
       "  <th>Intercept</th>     <td>   13.0034</td> <td>    1.843</td> <td>    7.057</td> <td> 0.000</td> <td>    9.346</td> <td>   16.661</td>\n",
       "</tr>\n",
       "<tr>\n",
       "  <th>horas_estudio</th> <td>    0.0814</td> <td>    0.003</td> <td>   29.026</td> <td> 0.000</td> <td>    0.076</td> <td>    0.087</td>\n",
       "</tr>\n",
       "<tr>\n",
       "  <th>horas_fiesta</th>  <td>   -0.0297</td> <td>    0.003</td> <td>  -11.501</td> <td> 0.000</td> <td>   -0.035</td> <td>   -0.025</td>\n",
=======
       "  <th>Intercept</th>     <td>   10.8556</td> <td>    2.077</td> <td>    5.226</td> <td> 0.000</td> <td>    6.733</td> <td>   14.979</td>\n",
       "</tr>\n",
       "<tr>\n",
       "  <th>horas_estudio</th> <td>    0.0842</td> <td>    0.003</td> <td>   29.349</td> <td> 0.000</td> <td>    0.079</td> <td>    0.090</td>\n",
       "</tr>\n",
       "<tr>\n",
       "  <th>horas_fiesta</th>  <td>   -0.0302</td> <td>    0.003</td> <td>   -9.944</td> <td> 0.000</td> <td>   -0.036</td> <td>   -0.024</td>\n",
>>>>>>> d6ea45aef3915597f0a9abeaf087f33c6da746ca
       "</tr>\n",
       "</table>\n",
       "<table class=\"simpletable\">\n",
       "<tr>\n",
<<<<<<< HEAD
       "  <th>Omnibus:</th>       <td> 1.634</td> <th>  Durbin-Watson:     </th> <td>   2.460</td>\n",
       "</tr>\n",
       "<tr>\n",
       "  <th>Prob(Omnibus):</th> <td> 0.442</td> <th>  Jarque-Bera (JB):  </th> <td>   1.119</td>\n",
       "</tr>\n",
       "<tr>\n",
       "  <th>Skew:</th>          <td> 0.081</td> <th>  Prob(JB):          </th> <td>   0.571</td>\n",
       "</tr>\n",
       "<tr>\n",
       "  <th>Kurtosis:</th>      <td> 3.492</td> <th>  Cond. No.          </th> <td>2.46e+03</td>\n",
       "</tr>\n",
       "</table><br/><br/>Notes:<br/>[1] Standard Errors assume that the covariance matrix of the errors is correctly specified.<br/>[2] The condition number is large, 2.46e+03. This might indicate that there are<br/>strong multicollinearity or other numerical problems."
=======
       "  <th>Omnibus:</th>       <td> 2.806</td> <th>  Durbin-Watson:     </th> <td>   1.984</td>\n",
       "</tr>\n",
       "<tr>\n",
       "  <th>Prob(Omnibus):</th> <td> 0.246</td> <th>  Jarque-Bera (JB):  </th> <td>   2.816</td>\n",
       "</tr>\n",
       "<tr>\n",
       "  <th>Skew:</th>          <td>-0.385</td> <th>  Prob(JB):          </th> <td>   0.245</td>\n",
       "</tr>\n",
       "<tr>\n",
       "  <th>Kurtosis:</th>      <td> 2.711</td> <th>  Cond. No.          </th> <td>2.66e+03</td>\n",
       "</tr>\n",
       "</table><br/><br/>Notes:<br/>[1] Standard Errors assume that the covariance matrix of the errors is correctly specified.<br/>[2] The condition number is large, 2.66e+03. This might indicate that there are<br/>strong multicollinearity or other numerical problems."
>>>>>>> d6ea45aef3915597f0a9abeaf087f33c6da746ca
      ],
      "text/plain": [
       "<class 'statsmodels.iolib.summary.Summary'>\n",
       "\"\"\"\n",
       "                            OLS Regression Results                            \n",
       "==============================================================================\n",
<<<<<<< HEAD
       "Dep. Variable:                  notas   R-squared:                       0.905\n",
       "Model:                            OLS   Adj. R-squared:                  0.904\n",
       "Method:                 Least Squares   F-statistic:                     464.5\n",
       "Date:                Tue, 27 Apr 2021   Prob (F-statistic):           2.08e-50\n",
       "Time:                        17:15:00   Log-Likelihood:                -307.98\n",
       "No. Observations:                 100   AIC:                             622.0\n",
       "Df Residuals:                      97   BIC:                             629.8\n",
=======
       "Dep. Variable:                  notas   R-squared:                       0.904\n",
       "Model:                            OLS   Adj. R-squared:                  0.902\n",
       "Method:                 Least Squares   F-statistic:                     457.9\n",
       "Date:                Tue, 27 Apr 2021   Prob (F-statistic):           3.89e-50\n",
       "Time:                        10:23:02   Log-Likelihood:                -315.25\n",
       "No. Observations:                 100   AIC:                             636.5\n",
       "Df Residuals:                      97   BIC:                             644.3\n",
>>>>>>> d6ea45aef3915597f0a9abeaf087f33c6da746ca
       "Df Model:                           2                                         \n",
       "Covariance Type:            nonrobust                                         \n",
       "=================================================================================\n",
       "                    coef    std err          t      P>|t|      [0.025      0.975]\n",
       "---------------------------------------------------------------------------------\n",
<<<<<<< HEAD
       "Intercept        13.0034      1.843      7.057      0.000       9.346      16.661\n",
       "horas_estudio     0.0814      0.003     29.026      0.000       0.076       0.087\n",
       "horas_fiesta     -0.0297      0.003    -11.501      0.000      -0.035      -0.025\n",
       "==============================================================================\n",
       "Omnibus:                        1.634   Durbin-Watson:                   2.460\n",
       "Prob(Omnibus):                  0.442   Jarque-Bera (JB):                1.119\n",
       "Skew:                           0.081   Prob(JB):                        0.571\n",
       "Kurtosis:                       3.492   Cond. No.                     2.46e+03\n",
=======
       "Intercept        10.8556      2.077      5.226      0.000       6.733      14.979\n",
       "horas_estudio     0.0842      0.003     29.349      0.000       0.079       0.090\n",
       "horas_fiesta     -0.0302      0.003     -9.944      0.000      -0.036      -0.024\n",
       "==============================================================================\n",
       "Omnibus:                        2.806   Durbin-Watson:                   1.984\n",
       "Prob(Omnibus):                  0.246   Jarque-Bera (JB):                2.816\n",
       "Skew:                          -0.385   Prob(JB):                        0.245\n",
       "Kurtosis:                       2.711   Cond. No.                     2.66e+03\n",
>>>>>>> d6ea45aef3915597f0a9abeaf087f33c6da746ca
       "==============================================================================\n",
       "\n",
       "Notes:\n",
       "[1] Standard Errors assume that the covariance matrix of the errors is correctly specified.\n",
<<<<<<< HEAD
       "[2] The condition number is large, 2.46e+03. This might indicate that there are\n",
=======
       "[2] The condition number is large, 2.66e+03. This might indicate that there are\n",
>>>>>>> d6ea45aef3915597f0a9abeaf087f33c6da746ca
       "strong multicollinearity or other numerical problems.\n",
       "\"\"\""
      ]
     },
<<<<<<< HEAD
     "execution_count": 49,
=======
     "execution_count": 94,
>>>>>>> d6ea45aef3915597f0a9abeaf087f33c6da746ca
     "metadata": {},
     "output_type": "execute_result"
    }
   ],
   "source": [
    "results = smf.ols(\"notas ~ horas_estudio + horas_fiesta\", data=data).fit()\n",
    "results.summary()"
   ]
  },
  {
   "cell_type": "markdown",
   "metadata": {},
   "source": [
    "## Variables categóricas\n",
    "\n",
    "Muy a menudo nos enfrentamos a situaciones en las que los predictores son de naturaleza *cualitativa*. Un buen ejemplo podría ser el sexo de una persona, que puede tomar los valores $M$ o $F$. "
   ]
  },
  {
   "cell_type": "code",
<<<<<<< HEAD
   "execution_count": 50,
=======
   "execution_count": 96,
   "id": "recent-presentation",
>>>>>>> d6ea45aef3915597f0a9abeaf087f33c6da746ca
   "metadata": {},
   "outputs": [
    {
     "data": {
      "text/html": [
       "<div>\n",
       "<style scoped>\n",
       "    .dataframe tbody tr th:only-of-type {\n",
       "        vertical-align: middle;\n",
       "    }\n",
       "\n",
       "    .dataframe tbody tr th {\n",
       "        vertical-align: top;\n",
       "    }\n",
       "\n",
       "    .dataframe thead th {\n",
       "        text-align: right;\n",
       "    }\n",
       "</style>\n",
       "<table border=\"1\" class=\"dataframe\">\n",
       "  <thead>\n",
       "    <tr style=\"text-align: right;\">\n",
       "      <th></th>\n",
       "      <th>notas</th>\n",
       "      <th>horas_estudio</th>\n",
       "      <th>horas_fiesta</th>\n",
       "      <th>sex</th>\n",
       "    </tr>\n",
       "  </thead>\n",
       "  <tbody>\n",
       "    <tr>\n",
       "      <th>0</th>\n",
<<<<<<< HEAD
       "      <td>56</td>\n",
       "      <td>502</td>\n",
       "      <td>7</td>\n",
=======
       "      <td>27</td>\n",
       "      <td>286</td>\n",
       "      <td>359</td>\n",
>>>>>>> d6ea45aef3915597f0a9abeaf087f33c6da746ca
       "      <td>M</td>\n",
       "    </tr>\n",
       "    <tr>\n",
       "      <th>1</th>\n",
<<<<<<< HEAD
       "      <td>21</td>\n",
       "      <td>173</td>\n",
       "      <td>256</td>\n",
       "      <td>M</td>\n",
       "    </tr>\n",
       "    <tr>\n",
       "      <th>2</th>\n",
       "      <td>40</td>\n",
       "      <td>551</td>\n",
       "      <td>383</td>\n",
=======
       "      <td>4</td>\n",
       "      <td>101</td>\n",
       "      <td>427</td>\n",
       "      <td>H</td>\n",
       "    </tr>\n",
       "    <tr>\n",
       "      <th>2</th>\n",
       "      <td>35</td>\n",
       "      <td>389</td>\n",
       "      <td>399</td>\n",
>>>>>>> d6ea45aef3915597f0a9abeaf087f33c6da746ca
       "      <td>H</td>\n",
       "    </tr>\n",
       "    <tr>\n",
       "      <th>3</th>\n",
<<<<<<< HEAD
       "      <td>59</td>\n",
       "      <td>740</td>\n",
       "      <td>472</td>\n",
=======
       "      <td>25</td>\n",
       "      <td>285</td>\n",
       "      <td>564</td>\n",
>>>>>>> d6ea45aef3915597f0a9abeaf087f33c6da746ca
       "      <td>M</td>\n",
       "    </tr>\n",
       "    <tr>\n",
       "      <th>4</th>\n",
<<<<<<< HEAD
       "      <td>53</td>\n",
       "      <td>644</td>\n",
       "      <td>425</td>\n",
=======
       "      <td>29</td>\n",
       "      <td>402</td>\n",
       "      <td>322</td>\n",
>>>>>>> d6ea45aef3915597f0a9abeaf087f33c6da746ca
       "      <td>H</td>\n",
       "    </tr>\n",
       "  </tbody>\n",
       "</table>\n",
       "</div>"
      ],
      "text/plain": [
       "   notas  horas_estudio  horas_fiesta sex\n",
<<<<<<< HEAD
       "0     56            502             7   M\n",
       "1     21            173           256   M\n",
       "2     40            551           383   H\n",
       "3     59            740           472   M\n",
       "4     53            644           425   H"
      ]
     },
     "execution_count": 50,
=======
       "0     27            286           359   M\n",
       "1      4            101           427   H\n",
       "2     35            389           399   H\n",
       "3     25            285           564   M\n",
       "4     29            402           322   H"
      ]
     },
     "execution_count": 96,
>>>>>>> d6ea45aef3915597f0a9abeaf087f33c6da746ca
     "metadata": {},
     "output_type": "execute_result"
    }
   ],
   "source": [
    "data[\"sex\"] = np.random.choice([\"M\", \"H\"], num_notas)\n",
    "data.head()"
   ]
  },
  {
   "cell_type": "code",
<<<<<<< HEAD
   "execution_count": 51,
=======
   "execution_count": 97,
   "id": "particular-study",
>>>>>>> d6ea45aef3915597f0a9abeaf087f33c6da746ca
   "metadata": {},
   "outputs": [],
   "source": [
    "## ¿Cómo trabajamos estas variables? "
   ]
  },
  {
   "cell_type": "code",
<<<<<<< HEAD
   "execution_count": 52,
=======
   "execution_count": 98,
   "id": "occasional-catalog",
>>>>>>> d6ea45aef3915597f0a9abeaf087f33c6da746ca
   "metadata": {},
   "outputs": [
    {
     "data": {
      "text/html": [
       "<div>\n",
       "<style scoped>\n",
       "    .dataframe tbody tr th:only-of-type {\n",
       "        vertical-align: middle;\n",
       "    }\n",
       "\n",
       "    .dataframe tbody tr th {\n",
       "        vertical-align: top;\n",
       "    }\n",
       "\n",
       "    .dataframe thead th {\n",
       "        text-align: right;\n",
       "    }\n",
       "</style>\n",
       "<table border=\"1\" class=\"dataframe\">\n",
       "  <thead>\n",
       "    <tr style=\"text-align: right;\">\n",
       "      <th></th>\n",
       "      <th>notas</th>\n",
       "      <th>horas_estudio</th>\n",
       "      <th>horas_fiesta</th>\n",
       "      <th>sex_H</th>\n",
       "      <th>sex_M</th>\n",
       "    </tr>\n",
       "  </thead>\n",
       "  <tbody>\n",
       "    <tr>\n",
       "      <th>0</th>\n",
<<<<<<< HEAD
       "      <td>56</td>\n",
       "      <td>502</td>\n",
       "      <td>7</td>\n",
=======
       "      <td>27</td>\n",
       "      <td>286</td>\n",
       "      <td>359</td>\n",
>>>>>>> d6ea45aef3915597f0a9abeaf087f33c6da746ca
       "      <td>0</td>\n",
       "      <td>1</td>\n",
       "    </tr>\n",
       "    <tr>\n",
       "      <th>1</th>\n",
<<<<<<< HEAD
       "      <td>21</td>\n",
       "      <td>173</td>\n",
       "      <td>256</td>\n",
       "      <td>0</td>\n",
       "      <td>1</td>\n",
       "    </tr>\n",
       "    <tr>\n",
       "      <th>2</th>\n",
       "      <td>40</td>\n",
       "      <td>551</td>\n",
       "      <td>383</td>\n",
=======
       "      <td>4</td>\n",
       "      <td>101</td>\n",
       "      <td>427</td>\n",
       "      <td>1</td>\n",
       "      <td>0</td>\n",
       "    </tr>\n",
       "    <tr>\n",
       "      <th>2</th>\n",
       "      <td>35</td>\n",
       "      <td>389</td>\n",
       "      <td>399</td>\n",
>>>>>>> d6ea45aef3915597f0a9abeaf087f33c6da746ca
       "      <td>1</td>\n",
       "      <td>0</td>\n",
       "    </tr>\n",
       "    <tr>\n",
       "      <th>3</th>\n",
<<<<<<< HEAD
       "      <td>59</td>\n",
       "      <td>740</td>\n",
       "      <td>472</td>\n",
=======
       "      <td>25</td>\n",
       "      <td>285</td>\n",
       "      <td>564</td>\n",
>>>>>>> d6ea45aef3915597f0a9abeaf087f33c6da746ca
       "      <td>0</td>\n",
       "      <td>1</td>\n",
       "    </tr>\n",
       "    <tr>\n",
       "      <th>4</th>\n",
<<<<<<< HEAD
       "      <td>53</td>\n",
       "      <td>644</td>\n",
       "      <td>425</td>\n",
=======
       "      <td>29</td>\n",
       "      <td>402</td>\n",
       "      <td>322</td>\n",
>>>>>>> d6ea45aef3915597f0a9abeaf087f33c6da746ca
       "      <td>1</td>\n",
       "      <td>0</td>\n",
       "    </tr>\n",
       "    <tr>\n",
       "      <th>...</th>\n",
       "      <td>...</td>\n",
       "      <td>...</td>\n",
       "      <td>...</td>\n",
       "      <td>...</td>\n",
       "      <td>...</td>\n",
       "    </tr>\n",
       "    <tr>\n",
       "      <th>95</th>\n",
<<<<<<< HEAD
       "      <td>54</td>\n",
       "      <td>744</td>\n",
       "      <td>567</td>\n",
=======
       "      <td>37</td>\n",
       "      <td>497</td>\n",
       "      <td>472</td>\n",
>>>>>>> d6ea45aef3915597f0a9abeaf087f33c6da746ca
       "      <td>1</td>\n",
       "      <td>0</td>\n",
       "    </tr>\n",
       "    <tr>\n",
       "      <th>96</th>\n",
<<<<<<< HEAD
       "      <td>29</td>\n",
       "      <td>389</td>\n",
       "      <td>551</td>\n",
=======
       "      <td>45</td>\n",
       "      <td>526</td>\n",
       "      <td>456</td>\n",
>>>>>>> d6ea45aef3915597f0a9abeaf087f33c6da746ca
       "      <td>1</td>\n",
       "      <td>0</td>\n",
       "    </tr>\n",
       "    <tr>\n",
       "      <th>97</th>\n",
<<<<<<< HEAD
       "      <td>30</td>\n",
       "      <td>568</td>\n",
       "      <td>976</td>\n",
=======
       "      <td>42</td>\n",
       "      <td>582</td>\n",
       "      <td>597</td>\n",
>>>>>>> d6ea45aef3915597f0a9abeaf087f33c6da746ca
       "      <td>1</td>\n",
       "      <td>0</td>\n",
       "    </tr>\n",
       "    <tr>\n",
       "      <th>98</th>\n",
<<<<<<< HEAD
       "      <td>25</td>\n",
       "      <td>387</td>\n",
       "      <td>437</td>\n",
       "      <td>0</td>\n",
       "      <td>1</td>\n",
       "    </tr>\n",
       "    <tr>\n",
       "      <th>99</th>\n",
       "      <td>44</td>\n",
       "      <td>502</td>\n",
       "      <td>469</td>\n",
=======
       "      <td>44</td>\n",
       "      <td>408</td>\n",
       "      <td>-5</td>\n",
       "      <td>1</td>\n",
       "      <td>0</td>\n",
       "    </tr>\n",
       "    <tr>\n",
       "      <th>99</th>\n",
       "      <td>9</td>\n",
       "      <td>381</td>\n",
       "      <td>943</td>\n",
>>>>>>> d6ea45aef3915597f0a9abeaf087f33c6da746ca
       "      <td>1</td>\n",
       "      <td>0</td>\n",
       "    </tr>\n",
       "  </tbody>\n",
       "</table>\n",
       "<p>100 rows × 5 columns</p>\n",
       "</div>"
      ],
      "text/plain": [
       "    notas  horas_estudio  horas_fiesta  sex_H  sex_M\n",
<<<<<<< HEAD
       "0      56            502             7      0      1\n",
       "1      21            173           256      0      1\n",
       "2      40            551           383      1      0\n",
       "3      59            740           472      0      1\n",
       "4      53            644           425      1      0\n",
       "..    ...            ...           ...    ...    ...\n",
       "95     54            744           567      1      0\n",
       "96     29            389           551      1      0\n",
       "97     30            568           976      1      0\n",
       "98     25            387           437      0      1\n",
       "99     44            502           469      1      0\n",
=======
       "0      27            286           359      0      1\n",
       "1       4            101           427      1      0\n",
       "2      35            389           399      1      0\n",
       "3      25            285           564      0      1\n",
       "4      29            402           322      1      0\n",
       "..    ...            ...           ...    ...    ...\n",
       "95     37            497           472      1      0\n",
       "96     45            526           456      1      0\n",
       "97     42            582           597      1      0\n",
       "98     44            408            -5      1      0\n",
       "99      9            381           943      1      0\n",
>>>>>>> d6ea45aef3915597f0a9abeaf087f33c6da746ca
       "\n",
       "[100 rows x 5 columns]"
      ]
     },
<<<<<<< HEAD
     "execution_count": 52,
=======
     "execution_count": 98,
>>>>>>> d6ea45aef3915597f0a9abeaf087f33c6da746ca
     "metadata": {},
     "output_type": "execute_result"
    }
   ],
   "source": [
    "pd.get_dummies(data)"
   ]
  },
  {
   "cell_type": "code",
<<<<<<< HEAD
   "execution_count": 53,
=======
   "execution_count": 102,
   "id": "intellectual-information",
>>>>>>> d6ea45aef3915597f0a9abeaf087f33c6da746ca
   "metadata": {},
   "outputs": [
    {
     "data": {
      "text/html": [
       "<div>\n",
       "<style scoped>\n",
       "    .dataframe tbody tr th:only-of-type {\n",
       "        vertical-align: middle;\n",
       "    }\n",
       "\n",
       "    .dataframe tbody tr th {\n",
       "        vertical-align: top;\n",
       "    }\n",
       "\n",
       "    .dataframe thead th {\n",
       "        text-align: right;\n",
       "    }\n",
       "</style>\n",
       "<table border=\"1\" class=\"dataframe\">\n",
       "  <thead>\n",
       "    <tr style=\"text-align: right;\">\n",
       "      <th></th>\n",
       "      <th>notas</th>\n",
       "      <th>horas_estudio</th>\n",
       "      <th>horas_fiesta</th>\n",
       "      <th>sex</th>\n",
       "      <th>es_mujer</th>\n",
       "    </tr>\n",
       "  </thead>\n",
       "  <tbody>\n",
       "    <tr>\n",
       "      <th>0</th>\n",
<<<<<<< HEAD
       "      <td>56</td>\n",
       "      <td>502</td>\n",
       "      <td>7</td>\n",
=======
       "      <td>27</td>\n",
       "      <td>286</td>\n",
       "      <td>359</td>\n",
>>>>>>> d6ea45aef3915597f0a9abeaf087f33c6da746ca
       "      <td>M</td>\n",
       "      <td>1</td>\n",
       "    </tr>\n",
       "    <tr>\n",
       "      <th>1</th>\n",
<<<<<<< HEAD
       "      <td>21</td>\n",
       "      <td>173</td>\n",
       "      <td>256</td>\n",
       "      <td>M</td>\n",
       "      <td>1</td>\n",
       "    </tr>\n",
       "    <tr>\n",
       "      <th>2</th>\n",
       "      <td>40</td>\n",
       "      <td>551</td>\n",
       "      <td>383</td>\n",
=======
       "      <td>4</td>\n",
       "      <td>101</td>\n",
       "      <td>427</td>\n",
       "      <td>H</td>\n",
       "      <td>0</td>\n",
       "    </tr>\n",
       "    <tr>\n",
       "      <th>2</th>\n",
       "      <td>35</td>\n",
       "      <td>389</td>\n",
       "      <td>399</td>\n",
>>>>>>> d6ea45aef3915597f0a9abeaf087f33c6da746ca
       "      <td>H</td>\n",
       "      <td>0</td>\n",
       "    </tr>\n",
       "    <tr>\n",
       "      <th>3</th>\n",
<<<<<<< HEAD
       "      <td>59</td>\n",
       "      <td>740</td>\n",
       "      <td>472</td>\n",
=======
       "      <td>25</td>\n",
       "      <td>285</td>\n",
       "      <td>564</td>\n",
>>>>>>> d6ea45aef3915597f0a9abeaf087f33c6da746ca
       "      <td>M</td>\n",
       "      <td>1</td>\n",
       "    </tr>\n",
       "    <tr>\n",
       "      <th>4</th>\n",
<<<<<<< HEAD
       "      <td>53</td>\n",
       "      <td>644</td>\n",
       "      <td>425</td>\n",
=======
       "      <td>29</td>\n",
       "      <td>402</td>\n",
       "      <td>322</td>\n",
>>>>>>> d6ea45aef3915597f0a9abeaf087f33c6da746ca
       "      <td>H</td>\n",
       "      <td>0</td>\n",
       "    </tr>\n",
       "  </tbody>\n",
       "</table>\n",
       "</div>"
      ],
      "text/plain": [
       "   notas  horas_estudio  horas_fiesta sex  es_mujer\n",
<<<<<<< HEAD
       "0     56            502             7   M         1\n",
       "1     21            173           256   M         1\n",
       "2     40            551           383   H         0\n",
       "3     59            740           472   M         1\n",
       "4     53            644           425   H         0"
      ]
     },
     "execution_count": 53,
=======
       "0     27            286           359   M         1\n",
       "1      4            101           427   H         0\n",
       "2     35            389           399   H         0\n",
       "3     25            285           564   M         1\n",
       "4     29            402           322   H         0"
      ]
     },
     "execution_count": 102,
>>>>>>> d6ea45aef3915597f0a9abeaf087f33c6da746ca
     "metadata": {},
     "output_type": "execute_result"
    }
   ],
   "source": [
    "data[\"es_mujer\"] = data.sex.str.get_dummies()[\"M\"]\n",
    "data.head()"
   ]
  },
  {
   "cell_type": "markdown",
   "metadata": {},
   "source": [
    "Incluimos esta información en el modelo a través de una variable *dummy*:\n",
    "$$\n",
    "x_i= \\left\\{\n",
    "\\begin{array}{ll}\n",
    "      1  \\quad \\text{si la persona es mujer} \\\\\n",
    "      0  \\quad \\text{si la persona es hombre} \\\\\n",
    "\\end{array} \n",
    "\\right. \n",
    "$$\n",
    "\n",
    "\n",
    "Si esta es nuestra única variable, esto resulta en un modelo:\n",
    "\n",
    "$$y_i = \\beta_0 + \\beta_1 x_i +\\epsilon_i = \\left\\{\n",
    "\\begin{array}{ll}\n",
    "      \\beta_0 + \\beta_1 +\\epsilon_i  \\quad \\text{si la persona es mujer} \\\\\n",
    "      \\beta_0 + \\epsilon_i  \\quad \\text{si la persona es hombre} \\\\\n",
    "\\end{array} \n",
    "\\right.  $$\n",
    "\n",
    "En este caso, $\\beta_0$ representa la nota media de los hombres, y $\\beta_0 + \\beta_1$ la nota media de las mujeres."
   ]
  },
  {
   "cell_type": "code",
<<<<<<< HEAD
   "execution_count": 54,
=======
   "execution_count": 108,
   "id": "adverse-scheduling",
>>>>>>> d6ea45aef3915597f0a9abeaf087f33c6da746ca
   "metadata": {},
   "outputs": [
    {
     "data": {
      "text/html": [
       "<table class=\"simpletable\">\n",
       "<caption>OLS Regression Results</caption>\n",
       "<tr>\n",
       "  <th>Dep. Variable:</th>          <td>notas</td>      <th>  R-squared:         </th> <td>   0.906</td>\n",
       "</tr>\n",
       "<tr>\n",
       "  <th>Model:</th>                   <td>OLS</td>       <th>  Adj. R-squared:    </th> <td>   0.903</td>\n",
       "</tr>\n",
       "<tr>\n",
<<<<<<< HEAD
       "  <th>Method:</th>             <td>Least Squares</td>  <th>  F-statistic:       </th> <td>   307.7</td>\n",
       "</tr>\n",
       "<tr>\n",
       "  <th>Date:</th>             <td>Tue, 27 Apr 2021</td> <th>  Prob (F-statistic):</th> <td>4.24e-49</td>\n",
       "</tr>\n",
       "<tr>\n",
       "  <th>Time:</th>                 <td>17:15:00</td>     <th>  Log-Likelihood:    </th> <td> -307.79</td>\n",
       "</tr>\n",
       "<tr>\n",
       "  <th>No. Observations:</th>      <td>   100</td>      <th>  AIC:               </th> <td>   623.6</td>\n",
       "</tr>\n",
       "<tr>\n",
       "  <th>Df Residuals:</th>          <td>    96</td>      <th>  BIC:               </th> <td>   634.0</td>\n",
=======
       "  <th>Method:</th>             <td>Least Squares</td>  <th>  F-statistic:       </th> <td>   307.3</td>\n",
       "</tr>\n",
       "<tr>\n",
       "  <th>Date:</th>             <td>Tue, 27 Apr 2021</td> <th>  Prob (F-statistic):</th> <td>4.53e-49</td>\n",
       "</tr>\n",
       "<tr>\n",
       "  <th>Time:</th>                 <td>10:41:17</td>     <th>  Log-Likelihood:    </th> <td> -314.49</td>\n",
       "</tr>\n",
       "<tr>\n",
       "  <th>No. Observations:</th>      <td>   100</td>      <th>  AIC:               </th> <td>   637.0</td>\n",
       "</tr>\n",
       "<tr>\n",
       "  <th>Df Residuals:</th>          <td>    96</td>      <th>  BIC:               </th> <td>   647.4</td>\n",
>>>>>>> d6ea45aef3915597f0a9abeaf087f33c6da746ca
       "</tr>\n",
       "<tr>\n",
       "  <th>Df Model:</th>              <td>     3</td>      <th>                     </th>     <td> </td>   \n",
       "</tr>\n",
       "<tr>\n",
       "  <th>Covariance Type:</th>      <td>nonrobust</td>    <th>                     </th>     <td> </td>   \n",
       "</tr>\n",
       "</table>\n",
       "<table class=\"simpletable\">\n",
       "<tr>\n",
       "        <td></td>           <th>coef</th>     <th>std err</th>      <th>t</th>      <th>P>|t|</th>  <th>[0.025</th>    <th>0.975]</th>  \n",
       "</tr>\n",
       "<tr>\n",
<<<<<<< HEAD
       "  <th>Intercept</th>     <td>   12.6365</td> <td>    1.947</td> <td>    6.490</td> <td> 0.000</td> <td>    8.772</td> <td>   16.501</td>\n",
       "</tr>\n",
       "<tr>\n",
       "  <th>horas_estudio</th> <td>    0.0813</td> <td>    0.003</td> <td>   28.846</td> <td> 0.000</td> <td>    0.076</td> <td>    0.087</td>\n",
       "</tr>\n",
       "<tr>\n",
       "  <th>horas_fiesta</th>  <td>   -0.0294</td> <td>    0.003</td> <td>  -11.179</td> <td> 0.000</td> <td>   -0.035</td> <td>   -0.024</td>\n",
       "</tr>\n",
       "<tr>\n",
       "  <th>es_mujer</th>      <td>    0.6635</td> <td>    1.105</td> <td>    0.601</td> <td> 0.550</td> <td>   -1.529</td> <td>    2.857</td>\n",
=======
       "  <th>Intercept</th>     <td>   10.0693</td> <td>    2.171</td> <td>    4.638</td> <td> 0.000</td> <td>    5.760</td> <td>   14.379</td>\n",
       "</tr>\n",
       "<tr>\n",
       "  <th>horas_estudio</th> <td>    0.0837</td> <td>    0.003</td> <td>   28.909</td> <td> 0.000</td> <td>    0.078</td> <td>    0.089</td>\n",
       "</tr>\n",
       "<tr>\n",
       "  <th>horas_fiesta</th>  <td>   -0.0292</td> <td>    0.003</td> <td>   -9.361</td> <td> 0.000</td> <td>   -0.035</td> <td>   -0.023</td>\n",
       "</tr>\n",
       "<tr>\n",
       "  <th>es_mujer</th>      <td>    1.4853</td> <td>    1.222</td> <td>    1.215</td> <td> 0.227</td> <td>   -0.941</td> <td>    3.912</td>\n",
>>>>>>> d6ea45aef3915597f0a9abeaf087f33c6da746ca
       "</tr>\n",
       "</table>\n",
       "<table class=\"simpletable\">\n",
       "<tr>\n",
<<<<<<< HEAD
       "  <th>Omnibus:</th>       <td> 1.482</td> <th>  Durbin-Watson:     </th> <td>   2.465</td>\n",
       "</tr>\n",
       "<tr>\n",
       "  <th>Prob(Omnibus):</th> <td> 0.477</td> <th>  Jarque-Bera (JB):  </th> <td>   0.969</td>\n",
       "</tr>\n",
       "<tr>\n",
       "  <th>Skew:</th>          <td> 0.058</td> <th>  Prob(JB):          </th> <td>   0.616</td>\n",
       "</tr>\n",
       "<tr>\n",
       "  <th>Kurtosis:</th>      <td> 3.468</td> <th>  Cond. No.          </th> <td>2.64e+03</td>\n",
       "</tr>\n",
       "</table><br/><br/>Notes:<br/>[1] Standard Errors assume that the covariance matrix of the errors is correctly specified.<br/>[2] The condition number is large, 2.64e+03. This might indicate that there are<br/>strong multicollinearity or other numerical problems."
=======
       "  <th>Omnibus:</th>       <td> 3.091</td> <th>  Durbin-Watson:     </th> <td>   1.964</td>\n",
       "</tr>\n",
       "<tr>\n",
       "  <th>Prob(Omnibus):</th> <td> 0.213</td> <th>  Jarque-Bera (JB):  </th> <td>   3.081</td>\n",
       "</tr>\n",
       "<tr>\n",
       "  <th>Skew:</th>          <td>-0.413</td> <th>  Prob(JB):          </th> <td>   0.214</td>\n",
       "</tr>\n",
       "<tr>\n",
       "  <th>Kurtosis:</th>      <td> 2.763</td> <th>  Cond. No.          </th> <td>2.84e+03</td>\n",
       "</tr>\n",
       "</table><br/><br/>Notes:<br/>[1] Standard Errors assume that the covariance matrix of the errors is correctly specified.<br/>[2] The condition number is large, 2.84e+03. This might indicate that there are<br/>strong multicollinearity or other numerical problems."
>>>>>>> d6ea45aef3915597f0a9abeaf087f33c6da746ca
      ],
      "text/plain": [
       "<class 'statsmodels.iolib.summary.Summary'>\n",
       "\"\"\"\n",
       "                            OLS Regression Results                            \n",
       "==============================================================================\n",
       "Dep. Variable:                  notas   R-squared:                       0.906\n",
       "Model:                            OLS   Adj. R-squared:                  0.903\n",
<<<<<<< HEAD
       "Method:                 Least Squares   F-statistic:                     307.7\n",
       "Date:                Tue, 27 Apr 2021   Prob (F-statistic):           4.24e-49\n",
       "Time:                        17:15:00   Log-Likelihood:                -307.79\n",
       "No. Observations:                 100   AIC:                             623.6\n",
       "Df Residuals:                      96   BIC:                             634.0\n",
=======
       "Method:                 Least Squares   F-statistic:                     307.3\n",
       "Date:                Tue, 27 Apr 2021   Prob (F-statistic):           4.53e-49\n",
       "Time:                        10:41:17   Log-Likelihood:                -314.49\n",
       "No. Observations:                 100   AIC:                             637.0\n",
       "Df Residuals:                      96   BIC:                             647.4\n",
>>>>>>> d6ea45aef3915597f0a9abeaf087f33c6da746ca
       "Df Model:                           3                                         \n",
       "Covariance Type:            nonrobust                                         \n",
       "=================================================================================\n",
       "                    coef    std err          t      P>|t|      [0.025      0.975]\n",
       "---------------------------------------------------------------------------------\n",
<<<<<<< HEAD
       "Intercept        12.6365      1.947      6.490      0.000       8.772      16.501\n",
       "horas_estudio     0.0813      0.003     28.846      0.000       0.076       0.087\n",
       "horas_fiesta     -0.0294      0.003    -11.179      0.000      -0.035      -0.024\n",
       "es_mujer          0.6635      1.105      0.601      0.550      -1.529       2.857\n",
       "==============================================================================\n",
       "Omnibus:                        1.482   Durbin-Watson:                   2.465\n",
       "Prob(Omnibus):                  0.477   Jarque-Bera (JB):                0.969\n",
       "Skew:                           0.058   Prob(JB):                        0.616\n",
       "Kurtosis:                       3.468   Cond. No.                     2.64e+03\n",
=======
       "Intercept        10.0693      2.171      4.638      0.000       5.760      14.379\n",
       "horas_estudio     0.0837      0.003     28.909      0.000       0.078       0.089\n",
       "horas_fiesta     -0.0292      0.003     -9.361      0.000      -0.035      -0.023\n",
       "es_mujer          1.4853      1.222      1.215      0.227      -0.941       3.912\n",
       "==============================================================================\n",
       "Omnibus:                        3.091   Durbin-Watson:                   1.964\n",
       "Prob(Omnibus):                  0.213   Jarque-Bera (JB):                3.081\n",
       "Skew:                          -0.413   Prob(JB):                        0.214\n",
       "Kurtosis:                       2.763   Cond. No.                     2.84e+03\n",
>>>>>>> d6ea45aef3915597f0a9abeaf087f33c6da746ca
       "==============================================================================\n",
       "\n",
       "Notes:\n",
       "[1] Standard Errors assume that the covariance matrix of the errors is correctly specified.\n",
<<<<<<< HEAD
       "[2] The condition number is large, 2.64e+03. This might indicate that there are\n",
=======
       "[2] The condition number is large, 2.84e+03. This might indicate that there are\n",
>>>>>>> d6ea45aef3915597f0a9abeaf087f33c6da746ca
       "strong multicollinearity or other numerical problems.\n",
       "\"\"\""
      ]
     },
<<<<<<< HEAD
     "execution_count": 54,
=======
     "execution_count": 108,
>>>>>>> d6ea45aef3915597f0a9abeaf087f33c6da746ca
     "metadata": {},
     "output_type": "execute_result"
    }
   ],
   "source": [
    "results = smf.ols(\"notas ~ horas_estudio + horas_fiesta + es_mujer\", data = data).fit()\n",
    "results.summary()"
   ]
  },
  {
   "cell_type": "markdown",
   "metadata": {},
   "source": [
    "## Extensiones del modelo lineal\n",
    "\n",
    "Hay varios supuestos que se utilizan al ajustar un modelo lineal. \n",
    "* Los errores se distribuyen normalmente y tienen una varianza constante\n",
    "* Los errores no están correlacionados entre sí\n",
    "* **Supuesto aditivo** El efecto de los cambios en un predictor $X_j$ sobre la respuesta $Y$ es independiente de los valores de los otros predictores.\n",
    "* **Supuesto lineal** El cambio en la respuesta para un aumento de una unidad en $X_j$ es el mismo sin importar el valor de $X_j$.\n",
    "\n",
    "### Desafiando la suposición aditiva: la sinergia\n",
    "\n",
    "A veces nuestras variables tendrán interacciones naturales. Por ejemplo, podemos pensar que cuanto más se escuchen nuestros anuncios en la radio, más eficaces serán nuestros anuncios en la televisión. Es decir, el efecto de ambos es *mayor* (o *menor*) que la suma de las partes.\n",
    "\n",
    "Este es un tema comúnmente estudiado en [marketing](https://smallbusiness.chron.com/definition-synergy-marketing-21786.html)"
   ]
  },
  {
   "cell_type": "code",
<<<<<<< HEAD
   "execution_count": 55,
=======
   "execution_count": 118,
   "id": "hollow-baseline",
>>>>>>> d6ea45aef3915597f0a9abeaf087f33c6da746ca
   "metadata": {},
   "outputs": [],
   "source": [
    "df_adv = pd.read_csv('../datasets/Advertising.csv')"
   ]
  },
  {
   "cell_type": "markdown",
<<<<<<< HEAD
   "metadata": {},
   "source": [
    "## Manos a la obra\n",
    "* Crear tres modelos independientes de regresión lineal simple\n",
    "    * Interpretar los resultados\n",
    "* Crear un modelo multivariante con los tres predictores\n",
    "    * Interpretar los resultados"
   ]
  },
  {
   "cell_type": "code",
   "execution_count": 56,
   "metadata": {},
   "outputs": [
    {
     "data": {
      "text/html": [
       "<div>\n",
       "<style scoped>\n",
       "    .dataframe tbody tr th:only-of-type {\n",
       "        vertical-align: middle;\n",
       "    }\n",
       "\n",
       "    .dataframe tbody tr th {\n",
       "        vertical-align: top;\n",
       "    }\n",
       "\n",
       "    .dataframe thead th {\n",
       "        text-align: right;\n",
       "    }\n",
       "</style>\n",
       "<table border=\"1\" class=\"dataframe\">\n",
       "  <thead>\n",
       "    <tr style=\"text-align: right;\">\n",
       "      <th></th>\n",
       "      <th>TV</th>\n",
       "      <th>Radio</th>\n",
       "      <th>Newspaper</th>\n",
       "      <th>Sales</th>\n",
       "    </tr>\n",
       "  </thead>\n",
       "  <tbody>\n",
       "    <tr>\n",
       "      <th>0</th>\n",
       "      <td>230.1</td>\n",
       "      <td>37.8</td>\n",
       "      <td>69.2</td>\n",
       "      <td>22.1</td>\n",
       "    </tr>\n",
       "    <tr>\n",
       "      <th>1</th>\n",
       "      <td>44.5</td>\n",
       "      <td>39.3</td>\n",
       "      <td>45.1</td>\n",
       "      <td>10.4</td>\n",
       "    </tr>\n",
       "    <tr>\n",
       "      <th>2</th>\n",
       "      <td>17.2</td>\n",
       "      <td>45.9</td>\n",
       "      <td>69.3</td>\n",
       "      <td>9.3</td>\n",
       "    </tr>\n",
       "    <tr>\n",
       "      <th>3</th>\n",
       "      <td>151.5</td>\n",
       "      <td>41.3</td>\n",
       "      <td>58.5</td>\n",
       "      <td>18.5</td>\n",
       "    </tr>\n",
       "    <tr>\n",
       "      <th>4</th>\n",
       "      <td>180.8</td>\n",
       "      <td>10.8</td>\n",
       "      <td>58.4</td>\n",
       "      <td>12.9</td>\n",
       "    </tr>\n",
       "    <tr>\n",
       "      <th>...</th>\n",
       "      <td>...</td>\n",
       "      <td>...</td>\n",
       "      <td>...</td>\n",
       "      <td>...</td>\n",
       "    </tr>\n",
       "    <tr>\n",
       "      <th>195</th>\n",
       "      <td>38.2</td>\n",
       "      <td>3.7</td>\n",
       "      <td>13.8</td>\n",
       "      <td>7.6</td>\n",
       "    </tr>\n",
       "    <tr>\n",
       "      <th>196</th>\n",
       "      <td>94.2</td>\n",
       "      <td>4.9</td>\n",
       "      <td>8.1</td>\n",
       "      <td>9.7</td>\n",
       "    </tr>\n",
       "    <tr>\n",
       "      <th>197</th>\n",
       "      <td>177.0</td>\n",
       "      <td>9.3</td>\n",
       "      <td>6.4</td>\n",
       "      <td>12.8</td>\n",
       "    </tr>\n",
       "    <tr>\n",
       "      <th>198</th>\n",
       "      <td>283.6</td>\n",
       "      <td>42.0</td>\n",
       "      <td>66.2</td>\n",
       "      <td>25.5</td>\n",
       "    </tr>\n",
       "    <tr>\n",
       "      <th>199</th>\n",
       "      <td>232.1</td>\n",
       "      <td>8.6</td>\n",
       "      <td>8.7</td>\n",
       "      <td>13.4</td>\n",
       "    </tr>\n",
       "  </tbody>\n",
       "</table>\n",
       "<p>200 rows × 4 columns</p>\n",
       "</div>"
      ],
      "text/plain": [
       "        TV  Radio  Newspaper  Sales\n",
       "0    230.1   37.8       69.2   22.1\n",
       "1     44.5   39.3       45.1   10.4\n",
       "2     17.2   45.9       69.3    9.3\n",
       "3    151.5   41.3       58.5   18.5\n",
       "4    180.8   10.8       58.4   12.9\n",
       "..     ...    ...        ...    ...\n",
       "195   38.2    3.7       13.8    7.6\n",
       "196   94.2    4.9        8.1    9.7\n",
       "197  177.0    9.3        6.4   12.8\n",
       "198  283.6   42.0       66.2   25.5\n",
       "199  232.1    8.6        8.7   13.4\n",
       "\n",
       "[200 rows x 4 columns]"
      ]
     },
     "execution_count": 56,
     "metadata": {},
     "output_type": "execute_result"
    }
   ],
   "source": [
    "df_adv"
   ]
  },
  {
   "cell_type": "code",
   "execution_count": 57,
   "metadata": {},
   "outputs": [],
   "source": [
    "X = df_adv[[\"Radio\"]]\n",
    "y = df_adv[\"Sales\"]"
   ]
  },
  {
   "cell_type": "code",
   "execution_count": 58,
   "metadata": {},
   "outputs": [
    {
     "data": {
      "text/plain": [
       "LinearRegression()"
      ]
     },
     "execution_count": 58,
     "metadata": {},
     "output_type": "execute_result"
    }
   ],
   "source": [
    "lr.fit(X, y)"
   ]
  },
  {
   "cell_type": "code",
   "execution_count": 59,
   "metadata": {},
   "outputs": [],
   "source": [
    "df_adv[\"nueva\"] = lr.predict(X)"
   ]
  },
  {
   "cell_type": "code",
   "execution_count": 60,
   "metadata": {},
   "outputs": [
    {
     "data": {
      "text/html": [
       "<div>\n",
       "<style scoped>\n",
       "    .dataframe tbody tr th:only-of-type {\n",
       "        vertical-align: middle;\n",
       "    }\n",
       "\n",
       "    .dataframe tbody tr th {\n",
       "        vertical-align: top;\n",
       "    }\n",
       "\n",
       "    .dataframe thead th {\n",
       "        text-align: right;\n",
       "    }\n",
       "</style>\n",
       "<table border=\"1\" class=\"dataframe\">\n",
       "  <thead>\n",
       "    <tr style=\"text-align: right;\">\n",
       "      <th></th>\n",
       "      <th>TV</th>\n",
       "      <th>Radio</th>\n",
       "      <th>Newspaper</th>\n",
       "      <th>Sales</th>\n",
       "      <th>nueva</th>\n",
       "    </tr>\n",
       "  </thead>\n",
       "  <tbody>\n",
       "    <tr>\n",
       "      <th>0</th>\n",
       "      <td>230.1</td>\n",
       "      <td>37.8</td>\n",
       "      <td>69.2</td>\n",
       "      <td>22.1</td>\n",
       "      <td>16.965979</td>\n",
       "    </tr>\n",
       "    <tr>\n",
       "      <th>1</th>\n",
       "      <td>44.5</td>\n",
       "      <td>39.3</td>\n",
       "      <td>45.1</td>\n",
       "      <td>10.4</td>\n",
       "      <td>17.269722</td>\n",
       "    </tr>\n",
       "    <tr>\n",
       "      <th>2</th>\n",
       "      <td>17.2</td>\n",
       "      <td>45.9</td>\n",
       "      <td>69.3</td>\n",
       "      <td>9.3</td>\n",
       "      <td>18.606195</td>\n",
       "    </tr>\n",
       "    <tr>\n",
       "      <th>3</th>\n",
       "      <td>151.5</td>\n",
       "      <td>41.3</td>\n",
       "      <td>58.5</td>\n",
       "      <td>18.5</td>\n",
       "      <td>17.674714</td>\n",
       "    </tr>\n",
       "    <tr>\n",
       "      <th>4</th>\n",
       "      <td>180.8</td>\n",
       "      <td>10.8</td>\n",
       "      <td>58.4</td>\n",
       "      <td>12.9</td>\n",
       "      <td>11.498593</td>\n",
       "    </tr>\n",
       "  </tbody>\n",
       "</table>\n",
       "</div>"
      ],
      "text/plain": [
       "      TV  Radio  Newspaper  Sales      nueva\n",
       "0  230.1   37.8       69.2   22.1  16.965979\n",
       "1   44.5   39.3       45.1   10.4  17.269722\n",
       "2   17.2   45.9       69.3    9.3  18.606195\n",
       "3  151.5   41.3       58.5   18.5  17.674714\n",
       "4  180.8   10.8       58.4   12.9  11.498593"
      ]
     },
     "execution_count": 60,
     "metadata": {},
     "output_type": "execute_result"
    }
   ],
   "source": [
    "df_adv.head()"
   ]
  },
  {
   "cell_type": "code",
   "execution_count": 61,
   "metadata": {},
   "outputs": [
    {
     "data": {
      "text/plain": [
       "<seaborn.axisgrid.PairGrid at 0x7faab07f3f50>"
      ]
     },
     "execution_count": 61,
     "metadata": {},
     "output_type": "execute_result"
    },
    {
     "data": {
      "image/png": "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\n",
      "text/plain": [
       "<Figure size 900x900 with 30 Axes>"
      ]
     },
     "metadata": {},
     "output_type": "display_data"
    }
   ],
   "source": [
    "sns.pairplot(df_adv)"
   ]
  },
  {
   "cell_type": "code",
   "execution_count": 62,
   "metadata": {},
   "outputs": [
    {
     "data": {
      "text/html": [
       "<div>\n",
       "<style scoped>\n",
       "    .dataframe tbody tr th:only-of-type {\n",
       "        vertical-align: middle;\n",
       "    }\n",
       "\n",
       "    .dataframe tbody tr th {\n",
       "        vertical-align: top;\n",
       "    }\n",
       "\n",
       "    .dataframe thead th {\n",
       "        text-align: right;\n",
       "    }\n",
       "</style>\n",
       "<table border=\"1\" class=\"dataframe\">\n",
       "  <thead>\n",
       "    <tr style=\"text-align: right;\">\n",
       "      <th></th>\n",
       "      <th>TV</th>\n",
       "      <th>Radio</th>\n",
       "      <th>Newspaper</th>\n",
       "      <th>Sales</th>\n",
       "      <th>nueva</th>\n",
       "    </tr>\n",
       "  </thead>\n",
       "  <tbody>\n",
       "    <tr>\n",
       "      <th>TV</th>\n",
       "      <td>1.000000</td>\n",
       "      <td>0.054809</td>\n",
       "      <td>0.056648</td>\n",
       "      <td>0.782224</td>\n",
       "      <td>0.054809</td>\n",
       "    </tr>\n",
       "    <tr>\n",
       "      <th>Radio</th>\n",
       "      <td>0.054809</td>\n",
       "      <td>1.000000</td>\n",
       "      <td>0.354104</td>\n",
       "      <td>0.576223</td>\n",
       "      <td>1.000000</td>\n",
       "    </tr>\n",
       "    <tr>\n",
       "      <th>Newspaper</th>\n",
       "      <td>0.056648</td>\n",
       "      <td>0.354104</td>\n",
       "      <td>1.000000</td>\n",
       "      <td>0.228299</td>\n",
       "      <td>0.354104</td>\n",
       "    </tr>\n",
       "    <tr>\n",
       "      <th>Sales</th>\n",
       "      <td>0.782224</td>\n",
       "      <td>0.576223</td>\n",
       "      <td>0.228299</td>\n",
       "      <td>1.000000</td>\n",
       "      <td>0.576223</td>\n",
       "    </tr>\n",
       "    <tr>\n",
       "      <th>nueva</th>\n",
       "      <td>0.054809</td>\n",
       "      <td>1.000000</td>\n",
       "      <td>0.354104</td>\n",
       "      <td>0.576223</td>\n",
       "      <td>1.000000</td>\n",
       "    </tr>\n",
       "  </tbody>\n",
       "</table>\n",
       "</div>"
      ],
      "text/plain": [
       "                 TV     Radio  Newspaper     Sales     nueva\n",
       "TV         1.000000  0.054809   0.056648  0.782224  0.054809\n",
       "Radio      0.054809  1.000000   0.354104  0.576223  1.000000\n",
       "Newspaper  0.056648  0.354104   1.000000  0.228299  0.354104\n",
       "Sales      0.782224  0.576223   0.228299  1.000000  0.576223\n",
       "nueva      0.054809  1.000000   0.354104  0.576223  1.000000"
      ]
     },
     "execution_count": 62,
     "metadata": {},
     "output_type": "execute_result"
    }
   ],
   "source": [
    "df_adv.corr()"
   ]
  },
  {
   "cell_type": "code",
   "execution_count": 63,
   "metadata": {},
   "outputs": [
    {
     "data": {
      "text/html": [
       "<div>\n",
       "<style scoped>\n",
       "    .dataframe tbody tr th:only-of-type {\n",
       "        vertical-align: middle;\n",
       "    }\n",
       "\n",
       "    .dataframe tbody tr th {\n",
       "        vertical-align: top;\n",
       "    }\n",
       "\n",
       "    .dataframe thead th {\n",
       "        text-align: right;\n",
       "    }\n",
       "</style>\n",
       "<table border=\"1\" class=\"dataframe\">\n",
       "  <thead>\n",
       "    <tr style=\"text-align: right;\">\n",
       "      <th></th>\n",
       "      <th>TV</th>\n",
       "      <th>Radio</th>\n",
       "      <th>Newspaper</th>\n",
       "      <th>Sales</th>\n",
       "      <th>nueva</th>\n",
       "    </tr>\n",
       "  </thead>\n",
       "  <tbody>\n",
       "    <tr>\n",
       "      <th>TV</th>\n",
       "      <td>7370.949893</td>\n",
       "      <td>69.862492</td>\n",
       "      <td>105.919452</td>\n",
       "      <td>350.390195</td>\n",
       "      <td>14.146860</td>\n",
       "    </tr>\n",
       "    <tr>\n",
       "      <th>Radio</th>\n",
       "      <td>69.862492</td>\n",
       "      <td>220.427743</td>\n",
       "      <td>114.496979</td>\n",
       "      <td>44.635688</td>\n",
       "      <td>44.635688</td>\n",
       "    </tr>\n",
       "    <tr>\n",
       "      <th>Newspaper</th>\n",
       "      <td>105.919452</td>\n",
       "      <td>114.496979</td>\n",
       "      <td>474.308326</td>\n",
       "      <td>25.941392</td>\n",
       "      <td>23.185155</td>\n",
       "    </tr>\n",
       "    <tr>\n",
       "      <th>Sales</th>\n",
       "      <td>350.390195</td>\n",
       "      <td>44.635688</td>\n",
       "      <td>25.941392</td>\n",
       "      <td>27.221853</td>\n",
       "      <td>9.038539</td>\n",
       "    </tr>\n",
       "    <tr>\n",
       "      <th>nueva</th>\n",
       "      <td>14.146860</td>\n",
       "      <td>44.635688</td>\n",
       "      <td>23.185155</td>\n",
       "      <td>9.038539</td>\n",
       "      <td>9.038539</td>\n",
       "    </tr>\n",
       "  </tbody>\n",
       "</table>\n",
       "</div>"
      ],
      "text/plain": [
       "                    TV       Radio   Newspaper       Sales      nueva\n",
       "TV         7370.949893   69.862492  105.919452  350.390195  14.146860\n",
       "Radio        69.862492  220.427743  114.496979   44.635688  44.635688\n",
       "Newspaper   105.919452  114.496979  474.308326   25.941392  23.185155\n",
       "Sales       350.390195   44.635688   25.941392   27.221853   9.038539\n",
       "nueva        14.146860   44.635688   23.185155    9.038539   9.038539"
      ]
     },
     "execution_count": 63,
     "metadata": {},
     "output_type": "execute_result"
    }
   ],
   "source": [
    "df_adv.cov()"
   ]
  },
  {
   "cell_type": "code",
   "execution_count": 64,
   "metadata": {},
   "outputs": [
    {
     "data": {
      "text/html": [
       "<table class=\"simpletable\">\n",
       "<caption>OLS Regression Results</caption>\n",
       "<tr>\n",
       "  <th>Dep. Variable:</th>          <td>Sales</td>      <th>  R-squared:         </th> <td>   0.612</td>\n",
       "</tr>\n",
       "<tr>\n",
       "  <th>Model:</th>                   <td>OLS</td>       <th>  Adj. R-squared:    </th> <td>   0.610</td>\n",
       "</tr>\n",
       "<tr>\n",
       "  <th>Method:</th>             <td>Least Squares</td>  <th>  F-statistic:       </th> <td>   312.1</td>\n",
       "</tr>\n",
       "<tr>\n",
       "  <th>Date:</th>             <td>Tue, 27 Apr 2021</td> <th>  Prob (F-statistic):</th> <td>1.47e-42</td>\n",
       "</tr>\n",
       "<tr>\n",
       "  <th>Time:</th>                 <td>17:15:02</td>     <th>  Log-Likelihood:    </th> <td> -519.05</td>\n",
       "</tr>\n",
       "<tr>\n",
       "  <th>No. Observations:</th>      <td>   200</td>      <th>  AIC:               </th> <td>   1042.</td>\n",
       "</tr>\n",
       "<tr>\n",
       "  <th>Df Residuals:</th>          <td>   198</td>      <th>  BIC:               </th> <td>   1049.</td>\n",
       "</tr>\n",
       "<tr>\n",
       "  <th>Df Model:</th>              <td>     1</td>      <th>                     </th>     <td> </td>   \n",
       "</tr>\n",
       "<tr>\n",
       "  <th>Covariance Type:</th>      <td>nonrobust</td>    <th>                     </th>     <td> </td>   \n",
       "</tr>\n",
       "</table>\n",
       "<table class=\"simpletable\">\n",
       "<tr>\n",
       "      <td></td>         <th>coef</th>     <th>std err</th>      <th>t</th>      <th>P>|t|</th>  <th>[0.025</th>    <th>0.975]</th>  \n",
       "</tr>\n",
       "<tr>\n",
       "  <th>Intercept</th> <td>    7.0326</td> <td>    0.458</td> <td>   15.360</td> <td> 0.000</td> <td>    6.130</td> <td>    7.935</td>\n",
       "</tr>\n",
       "<tr>\n",
       "  <th>TV</th>        <td>    0.0475</td> <td>    0.003</td> <td>   17.668</td> <td> 0.000</td> <td>    0.042</td> <td>    0.053</td>\n",
       "</tr>\n",
       "</table>\n",
       "<table class=\"simpletable\">\n",
       "<tr>\n",
       "  <th>Omnibus:</th>       <td> 0.531</td> <th>  Durbin-Watson:     </th> <td>   1.935</td>\n",
       "</tr>\n",
       "<tr>\n",
       "  <th>Prob(Omnibus):</th> <td> 0.767</td> <th>  Jarque-Bera (JB):  </th> <td>   0.669</td>\n",
       "</tr>\n",
       "<tr>\n",
       "  <th>Skew:</th>          <td>-0.089</td> <th>  Prob(JB):          </th> <td>   0.716</td>\n",
       "</tr>\n",
       "<tr>\n",
       "  <th>Kurtosis:</th>      <td> 2.779</td> <th>  Cond. No.          </th> <td>    338.</td>\n",
       "</tr>\n",
       "</table><br/><br/>Notes:<br/>[1] Standard Errors assume that the covariance matrix of the errors is correctly specified."
      ],
      "text/plain": [
       "<class 'statsmodels.iolib.summary.Summary'>\n",
       "\"\"\"\n",
       "                            OLS Regression Results                            \n",
       "==============================================================================\n",
       "Dep. Variable:                  Sales   R-squared:                       0.612\n",
       "Model:                            OLS   Adj. R-squared:                  0.610\n",
       "Method:                 Least Squares   F-statistic:                     312.1\n",
       "Date:                Tue, 27 Apr 2021   Prob (F-statistic):           1.47e-42\n",
       "Time:                        17:15:02   Log-Likelihood:                -519.05\n",
       "No. Observations:                 200   AIC:                             1042.\n",
       "Df Residuals:                     198   BIC:                             1049.\n",
       "Df Model:                           1                                         \n",
       "Covariance Type:            nonrobust                                         \n",
       "==============================================================================\n",
       "                 coef    std err          t      P>|t|      [0.025      0.975]\n",
       "------------------------------------------------------------------------------\n",
       "Intercept      7.0326      0.458     15.360      0.000       6.130       7.935\n",
       "TV             0.0475      0.003     17.668      0.000       0.042       0.053\n",
       "==============================================================================\n",
       "Omnibus:                        0.531   Durbin-Watson:                   1.935\n",
       "Prob(Omnibus):                  0.767   Jarque-Bera (JB):                0.669\n",
       "Skew:                          -0.089   Prob(JB):                        0.716\n",
       "Kurtosis:                       2.779   Cond. No.                         338.\n",
       "==============================================================================\n",
       "\n",
       "Notes:\n",
       "[1] Standard Errors assume that the covariance matrix of the errors is correctly specified.\n",
       "\"\"\""
      ]
     },
     "execution_count": 64,
     "metadata": {},
     "output_type": "execute_result"
    }
   ],
   "source": [
    "results = smf.ols(\"Sales ~ TV\", data = df_adv).fit()\n",
    "results.summary()"
   ]
  },
  {
   "cell_type": "code",
   "execution_count": 65,
   "metadata": {},
   "outputs": [
    {
     "data": {
      "text/html": [
       "<table class=\"simpletable\">\n",
       "<caption>OLS Regression Results</caption>\n",
       "<tr>\n",
       "  <th>Dep. Variable:</th>          <td>Sales</td>      <th>  R-squared:         </th> <td>   0.897</td>\n",
       "</tr>\n",
       "<tr>\n",
       "  <th>Model:</th>                   <td>OLS</td>       <th>  Adj. R-squared:    </th> <td>   0.896</td>\n",
       "</tr>\n",
       "<tr>\n",
       "  <th>Method:</th>             <td>Least Squares</td>  <th>  F-statistic:       </th> <td>   570.3</td>\n",
       "</tr>\n",
       "<tr>\n",
       "  <th>Date:</th>             <td>Tue, 27 Apr 2021</td> <th>  Prob (F-statistic):</th> <td>1.58e-96</td>\n",
       "</tr>\n",
       "<tr>\n",
       "  <th>Time:</th>                 <td>17:15:02</td>     <th>  Log-Likelihood:    </th> <td> -386.18</td>\n",
       "</tr>\n",
       "<tr>\n",
       "  <th>No. Observations:</th>      <td>   200</td>      <th>  AIC:               </th> <td>   780.4</td>\n",
       "</tr>\n",
       "<tr>\n",
       "  <th>Df Residuals:</th>          <td>   196</td>      <th>  BIC:               </th> <td>   793.6</td>\n",
       "</tr>\n",
       "<tr>\n",
       "  <th>Df Model:</th>              <td>     3</td>      <th>                     </th>     <td> </td>   \n",
       "</tr>\n",
       "<tr>\n",
       "  <th>Covariance Type:</th>      <td>nonrobust</td>    <th>                     </th>     <td> </td>   \n",
       "</tr>\n",
       "</table>\n",
       "<table class=\"simpletable\">\n",
       "<tr>\n",
       "      <td></td>         <th>coef</th>     <th>std err</th>      <th>t</th>      <th>P>|t|</th>  <th>[0.025</th>    <th>0.975]</th>  \n",
       "</tr>\n",
       "<tr>\n",
       "  <th>Intercept</th> <td>    2.9389</td> <td>    0.312</td> <td>    9.422</td> <td> 0.000</td> <td>    2.324</td> <td>    3.554</td>\n",
       "</tr>\n",
       "<tr>\n",
       "  <th>TV</th>        <td>    0.0458</td> <td>    0.001</td> <td>   32.809</td> <td> 0.000</td> <td>    0.043</td> <td>    0.049</td>\n",
       "</tr>\n",
       "<tr>\n",
       "  <th>Radio</th>     <td>    0.1885</td> <td>    0.009</td> <td>   21.893</td> <td> 0.000</td> <td>    0.172</td> <td>    0.206</td>\n",
       "</tr>\n",
       "<tr>\n",
       "  <th>Newspaper</th> <td>   -0.0010</td> <td>    0.006</td> <td>   -0.177</td> <td> 0.860</td> <td>   -0.013</td> <td>    0.011</td>\n",
       "</tr>\n",
       "</table>\n",
       "<table class=\"simpletable\">\n",
       "<tr>\n",
       "  <th>Omnibus:</th>       <td>60.414</td> <th>  Durbin-Watson:     </th> <td>   2.084</td>\n",
       "</tr>\n",
       "<tr>\n",
       "  <th>Prob(Omnibus):</th> <td> 0.000</td> <th>  Jarque-Bera (JB):  </th> <td> 151.241</td>\n",
       "</tr>\n",
       "<tr>\n",
       "  <th>Skew:</th>          <td>-1.327</td> <th>  Prob(JB):          </th> <td>1.44e-33</td>\n",
       "</tr>\n",
       "<tr>\n",
       "  <th>Kurtosis:</th>      <td> 6.332</td> <th>  Cond. No.          </th> <td>    454.</td>\n",
       "</tr>\n",
       "</table><br/><br/>Notes:<br/>[1] Standard Errors assume that the covariance matrix of the errors is correctly specified."
      ],
      "text/plain": [
       "<class 'statsmodels.iolib.summary.Summary'>\n",
       "\"\"\"\n",
       "                            OLS Regression Results                            \n",
       "==============================================================================\n",
       "Dep. Variable:                  Sales   R-squared:                       0.897\n",
       "Model:                            OLS   Adj. R-squared:                  0.896\n",
       "Method:                 Least Squares   F-statistic:                     570.3\n",
       "Date:                Tue, 27 Apr 2021   Prob (F-statistic):           1.58e-96\n",
       "Time:                        17:15:02   Log-Likelihood:                -386.18\n",
       "No. Observations:                 200   AIC:                             780.4\n",
       "Df Residuals:                     196   BIC:                             793.6\n",
       "Df Model:                           3                                         \n",
       "Covariance Type:            nonrobust                                         \n",
       "==============================================================================\n",
       "                 coef    std err          t      P>|t|      [0.025      0.975]\n",
       "------------------------------------------------------------------------------\n",
       "Intercept      2.9389      0.312      9.422      0.000       2.324       3.554\n",
       "TV             0.0458      0.001     32.809      0.000       0.043       0.049\n",
       "Radio          0.1885      0.009     21.893      0.000       0.172       0.206\n",
       "Newspaper     -0.0010      0.006     -0.177      0.860      -0.013       0.011\n",
       "==============================================================================\n",
       "Omnibus:                       60.414   Durbin-Watson:                   2.084\n",
       "Prob(Omnibus):                  0.000   Jarque-Bera (JB):              151.241\n",
       "Skew:                          -1.327   Prob(JB):                     1.44e-33\n",
       "Kurtosis:                       6.332   Cond. No.                         454.\n",
       "==============================================================================\n",
       "\n",
       "Notes:\n",
       "[1] Standard Errors assume that the covariance matrix of the errors is correctly specified.\n",
       "\"\"\""
      ]
     },
     "execution_count": 65,
     "metadata": {},
     "output_type": "execute_result"
    }
   ],
   "source": [
    "results = smf.ols(\"Sales ~ TV + Radio + Newspaper\", data = df_adv).fit()\n",
    "results.summary()"
   ]
  },
  {
   "cell_type": "code",
   "execution_count": 66,
   "metadata": {},
   "outputs": [
    {
     "data": {
      "text/html": [
       "<table class=\"simpletable\">\n",
       "<caption>OLS Regression Results</caption>\n",
       "<tr>\n",
       "  <th>Dep. Variable:</th>          <td>Sales</td>      <th>  R-squared:         </th> <td>   0.968</td> \n",
       "</tr>\n",
       "<tr>\n",
       "  <th>Model:</th>                   <td>OLS</td>       <th>  Adj. R-squared:    </th> <td>   0.967</td> \n",
       "</tr>\n",
       "<tr>\n",
       "  <th>Method:</th>             <td>Least Squares</td>  <th>  F-statistic:       </th> <td>   1963.</td> \n",
       "</tr>\n",
       "<tr>\n",
       "  <th>Date:</th>             <td>Tue, 27 Apr 2021</td> <th>  Prob (F-statistic):</th> <td>6.68e-146</td>\n",
       "</tr>\n",
       "<tr>\n",
       "  <th>Time:</th>                 <td>17:15:02</td>     <th>  Log-Likelihood:    </th> <td> -270.14</td> \n",
       "</tr>\n",
       "<tr>\n",
       "  <th>No. Observations:</th>      <td>   200</td>      <th>  AIC:               </th> <td>   548.3</td> \n",
       "</tr>\n",
       "<tr>\n",
       "  <th>Df Residuals:</th>          <td>   196</td>      <th>  BIC:               </th> <td>   561.5</td> \n",
       "</tr>\n",
       "<tr>\n",
       "  <th>Df Model:</th>              <td>     3</td>      <th>                     </th>     <td> </td>    \n",
       "</tr>\n",
       "<tr>\n",
       "  <th>Covariance Type:</th>      <td>nonrobust</td>    <th>                     </th>     <td> </td>    \n",
       "</tr>\n",
       "</table>\n",
       "<table class=\"simpletable\">\n",
       "<tr>\n",
       "      <td></td>         <th>coef</th>     <th>std err</th>      <th>t</th>      <th>P>|t|</th>  <th>[0.025</th>    <th>0.975]</th>  \n",
       "</tr>\n",
       "<tr>\n",
       "  <th>Intercept</th> <td>    6.7502</td> <td>    0.248</td> <td>   27.233</td> <td> 0.000</td> <td>    6.261</td> <td>    7.239</td>\n",
       "</tr>\n",
       "<tr>\n",
       "  <th>TV</th>        <td>    0.0191</td> <td>    0.002</td> <td>   12.699</td> <td> 0.000</td> <td>    0.016</td> <td>    0.022</td>\n",
       "</tr>\n",
       "<tr>\n",
       "  <th>Radio</th>     <td>    0.0289</td> <td>    0.009</td> <td>    3.241</td> <td> 0.001</td> <td>    0.011</td> <td>    0.046</td>\n",
       "</tr>\n",
       "<tr>\n",
       "  <th>TV:Radio</th>  <td>    0.0011</td> <td> 5.24e-05</td> <td>   20.727</td> <td> 0.000</td> <td>    0.001</td> <td>    0.001</td>\n",
       "</tr>\n",
       "</table>\n",
       "<table class=\"simpletable\">\n",
       "<tr>\n",
       "  <th>Omnibus:</th>       <td>128.132</td> <th>  Durbin-Watson:     </th> <td>   2.224</td> \n",
       "</tr>\n",
       "<tr>\n",
       "  <th>Prob(Omnibus):</th> <td> 0.000</td>  <th>  Jarque-Bera (JB):  </th> <td>1183.719</td> \n",
       "</tr>\n",
       "<tr>\n",
       "  <th>Skew:</th>          <td>-2.323</td>  <th>  Prob(JB):          </th> <td>9.09e-258</td>\n",
       "</tr>\n",
       "<tr>\n",
       "  <th>Kurtosis:</th>      <td>13.975</td>  <th>  Cond. No.          </th> <td>1.80e+04</td> \n",
       "</tr>\n",
       "</table><br/><br/>Notes:<br/>[1] Standard Errors assume that the covariance matrix of the errors is correctly specified.<br/>[2] The condition number is large, 1.8e+04. This might indicate that there are<br/>strong multicollinearity or other numerical problems."
      ],
      "text/plain": [
       "<class 'statsmodels.iolib.summary.Summary'>\n",
       "\"\"\"\n",
       "                            OLS Regression Results                            \n",
       "==============================================================================\n",
       "Dep. Variable:                  Sales   R-squared:                       0.968\n",
       "Model:                            OLS   Adj. R-squared:                  0.967\n",
       "Method:                 Least Squares   F-statistic:                     1963.\n",
       "Date:                Tue, 27 Apr 2021   Prob (F-statistic):          6.68e-146\n",
       "Time:                        17:15:02   Log-Likelihood:                -270.14\n",
       "No. Observations:                 200   AIC:                             548.3\n",
       "Df Residuals:                     196   BIC:                             561.5\n",
       "Df Model:                           3                                         \n",
       "Covariance Type:            nonrobust                                         \n",
       "==============================================================================\n",
       "                 coef    std err          t      P>|t|      [0.025      0.975]\n",
       "------------------------------------------------------------------------------\n",
       "Intercept      6.7502      0.248     27.233      0.000       6.261       7.239\n",
       "TV             0.0191      0.002     12.699      0.000       0.016       0.022\n",
       "Radio          0.0289      0.009      3.241      0.001       0.011       0.046\n",
       "TV:Radio       0.0011   5.24e-05     20.727      0.000       0.001       0.001\n",
       "==============================================================================\n",
       "Omnibus:                      128.132   Durbin-Watson:                   2.224\n",
       "Prob(Omnibus):                  0.000   Jarque-Bera (JB):             1183.719\n",
       "Skew:                          -2.323   Prob(JB):                    9.09e-258\n",
       "Kurtosis:                      13.975   Cond. No.                     1.80e+04\n",
       "==============================================================================\n",
       "\n",
       "Notes:\n",
       "[1] Standard Errors assume that the covariance matrix of the errors is correctly specified.\n",
       "[2] The condition number is large, 1.8e+04. This might indicate that there are\n",
       "strong multicollinearity or other numerical problems.\n",
       "\"\"\""
      ]
     },
     "execution_count": 66,
     "metadata": {},
     "output_type": "execute_result"
    }
   ],
   "source": [
    "results = smf.ols(\"Sales ~  TV + Radio + TV * Radio\", data = df_adv).fit()\n",
    "results.summary()"
   ]
  },
  {
   "cell_type": "markdown",
   "metadata": {},
   "source": [
=======
   "id": "executive-commonwealth",
   "metadata": {},
   "source": [
    "## Manos a la obra\n",
    "* Crear tres modelos independientes de regresión lineal simple\n",
    "    * Interpretar los resultados\n",
    "* Crear un modelo multivariante con los tres predictores\n",
    "    * Interpretar los resultados"
   ]
  },
  {
   "cell_type": "code",
   "execution_count": 112,
   "id": "laughing-patent",
   "metadata": {},
   "outputs": [
    {
     "data": {
      "text/html": [
       "<div>\n",
       "<style scoped>\n",
       "    .dataframe tbody tr th:only-of-type {\n",
       "        vertical-align: middle;\n",
       "    }\n",
       "\n",
       "    .dataframe tbody tr th {\n",
       "        vertical-align: top;\n",
       "    }\n",
       "\n",
       "    .dataframe thead th {\n",
       "        text-align: right;\n",
       "    }\n",
       "</style>\n",
       "<table border=\"1\" class=\"dataframe\">\n",
       "  <thead>\n",
       "    <tr style=\"text-align: right;\">\n",
       "      <th></th>\n",
       "      <th>TV</th>\n",
       "      <th>Radio</th>\n",
       "      <th>Newspaper</th>\n",
       "      <th>Sales</th>\n",
       "    </tr>\n",
       "  </thead>\n",
       "  <tbody>\n",
       "    <tr>\n",
       "      <th>0</th>\n",
       "      <td>230.1</td>\n",
       "      <td>37.8</td>\n",
       "      <td>69.2</td>\n",
       "      <td>22.1</td>\n",
       "    </tr>\n",
       "    <tr>\n",
       "      <th>1</th>\n",
       "      <td>44.5</td>\n",
       "      <td>39.3</td>\n",
       "      <td>45.1</td>\n",
       "      <td>10.4</td>\n",
       "    </tr>\n",
       "    <tr>\n",
       "      <th>2</th>\n",
       "      <td>17.2</td>\n",
       "      <td>45.9</td>\n",
       "      <td>69.3</td>\n",
       "      <td>9.3</td>\n",
       "    </tr>\n",
       "    <tr>\n",
       "      <th>3</th>\n",
       "      <td>151.5</td>\n",
       "      <td>41.3</td>\n",
       "      <td>58.5</td>\n",
       "      <td>18.5</td>\n",
       "    </tr>\n",
       "    <tr>\n",
       "      <th>4</th>\n",
       "      <td>180.8</td>\n",
       "      <td>10.8</td>\n",
       "      <td>58.4</td>\n",
       "      <td>12.9</td>\n",
       "    </tr>\n",
       "    <tr>\n",
       "      <th>...</th>\n",
       "      <td>...</td>\n",
       "      <td>...</td>\n",
       "      <td>...</td>\n",
       "      <td>...</td>\n",
       "    </tr>\n",
       "    <tr>\n",
       "      <th>195</th>\n",
       "      <td>38.2</td>\n",
       "      <td>3.7</td>\n",
       "      <td>13.8</td>\n",
       "      <td>7.6</td>\n",
       "    </tr>\n",
       "    <tr>\n",
       "      <th>196</th>\n",
       "      <td>94.2</td>\n",
       "      <td>4.9</td>\n",
       "      <td>8.1</td>\n",
       "      <td>9.7</td>\n",
       "    </tr>\n",
       "    <tr>\n",
       "      <th>197</th>\n",
       "      <td>177.0</td>\n",
       "      <td>9.3</td>\n",
       "      <td>6.4</td>\n",
       "      <td>12.8</td>\n",
       "    </tr>\n",
       "    <tr>\n",
       "      <th>198</th>\n",
       "      <td>283.6</td>\n",
       "      <td>42.0</td>\n",
       "      <td>66.2</td>\n",
       "      <td>25.5</td>\n",
       "    </tr>\n",
       "    <tr>\n",
       "      <th>199</th>\n",
       "      <td>232.1</td>\n",
       "      <td>8.6</td>\n",
       "      <td>8.7</td>\n",
       "      <td>13.4</td>\n",
       "    </tr>\n",
       "  </tbody>\n",
       "</table>\n",
       "<p>200 rows × 4 columns</p>\n",
       "</div>"
      ],
      "text/plain": [
       "        TV  Radio  Newspaper  Sales\n",
       "0    230.1   37.8       69.2   22.1\n",
       "1     44.5   39.3       45.1   10.4\n",
       "2     17.2   45.9       69.3    9.3\n",
       "3    151.5   41.3       58.5   18.5\n",
       "4    180.8   10.8       58.4   12.9\n",
       "..     ...    ...        ...    ...\n",
       "195   38.2    3.7       13.8    7.6\n",
       "196   94.2    4.9        8.1    9.7\n",
       "197  177.0    9.3        6.4   12.8\n",
       "198  283.6   42.0       66.2   25.5\n",
       "199  232.1    8.6        8.7   13.4\n",
       "\n",
       "[200 rows x 4 columns]"
      ]
     },
     "execution_count": 112,
     "metadata": {},
     "output_type": "execute_result"
    }
   ],
   "source": [
    "df_adv"
   ]
  },
  {
   "cell_type": "code",
   "execution_count": 113,
   "id": "motivated-depth",
   "metadata": {},
   "outputs": [],
   "source": [
    "X = df_adv[[\"Radio\"]]\n",
    "y = df_adv.Sales"
   ]
  },
  {
   "cell_type": "code",
   "execution_count": 114,
   "id": "arbitrary-lawsuit",
   "metadata": {},
   "outputs": [
    {
     "data": {
      "text/plain": [
       "LinearRegression()"
      ]
     },
     "execution_count": 114,
     "metadata": {},
     "output_type": "execute_result"
    }
   ],
   "source": [
    "lr.fit(X, y)"
   ]
  },
  {
   "cell_type": "code",
   "execution_count": 115,
   "id": "dense-baghdad",
   "metadata": {},
   "outputs": [],
   "source": [
    "df_adv[\"nueva\"] = lr.predict(X)"
   ]
  },
  {
   "cell_type": "code",
   "execution_count": 116,
   "id": "disabled-madagascar",
   "metadata": {},
   "outputs": [
    {
     "data": {
      "text/html": [
       "<div>\n",
       "<style scoped>\n",
       "    .dataframe tbody tr th:only-of-type {\n",
       "        vertical-align: middle;\n",
       "    }\n",
       "\n",
       "    .dataframe tbody tr th {\n",
       "        vertical-align: top;\n",
       "    }\n",
       "\n",
       "    .dataframe thead th {\n",
       "        text-align: right;\n",
       "    }\n",
       "</style>\n",
       "<table border=\"1\" class=\"dataframe\">\n",
       "  <thead>\n",
       "    <tr style=\"text-align: right;\">\n",
       "      <th></th>\n",
       "      <th>TV</th>\n",
       "      <th>Radio</th>\n",
       "      <th>Newspaper</th>\n",
       "      <th>Sales</th>\n",
       "      <th>nueva</th>\n",
       "    </tr>\n",
       "  </thead>\n",
       "  <tbody>\n",
       "    <tr>\n",
       "      <th>0</th>\n",
       "      <td>230.1</td>\n",
       "      <td>37.8</td>\n",
       "      <td>69.2</td>\n",
       "      <td>22.1</td>\n",
       "      <td>16.965979</td>\n",
       "    </tr>\n",
       "    <tr>\n",
       "      <th>1</th>\n",
       "      <td>44.5</td>\n",
       "      <td>39.3</td>\n",
       "      <td>45.1</td>\n",
       "      <td>10.4</td>\n",
       "      <td>17.269722</td>\n",
       "    </tr>\n",
       "    <tr>\n",
       "      <th>2</th>\n",
       "      <td>17.2</td>\n",
       "      <td>45.9</td>\n",
       "      <td>69.3</td>\n",
       "      <td>9.3</td>\n",
       "      <td>18.606195</td>\n",
       "    </tr>\n",
       "    <tr>\n",
       "      <th>3</th>\n",
       "      <td>151.5</td>\n",
       "      <td>41.3</td>\n",
       "      <td>58.5</td>\n",
       "      <td>18.5</td>\n",
       "      <td>17.674714</td>\n",
       "    </tr>\n",
       "    <tr>\n",
       "      <th>4</th>\n",
       "      <td>180.8</td>\n",
       "      <td>10.8</td>\n",
       "      <td>58.4</td>\n",
       "      <td>12.9</td>\n",
       "      <td>11.498593</td>\n",
       "    </tr>\n",
       "  </tbody>\n",
       "</table>\n",
       "</div>"
      ],
      "text/plain": [
       "      TV  Radio  Newspaper  Sales      nueva\n",
       "0  230.1   37.8       69.2   22.1  16.965979\n",
       "1   44.5   39.3       45.1   10.4  17.269722\n",
       "2   17.2   45.9       69.3    9.3  18.606195\n",
       "3  151.5   41.3       58.5   18.5  17.674714\n",
       "4  180.8   10.8       58.4   12.9  11.498593"
      ]
     },
     "execution_count": 116,
     "metadata": {},
     "output_type": "execute_result"
    }
   ],
   "source": [
    "df_adv.head()"
   ]
  },
  {
   "cell_type": "code",
   "execution_count": 119,
   "id": "proprietary-yorkshire",
   "metadata": {},
   "outputs": [
    {
     "data": {
      "text/plain": [
       "<seaborn.axisgrid.PairGrid at 0x7ffe6621a430>"
      ]
     },
     "execution_count": 119,
     "metadata": {},
     "output_type": "execute_result"
    },
    {
     "data": {
      "image/png": "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\n",
      "text/plain": [
       "<Figure size 720x720 with 20 Axes>"
      ]
     },
     "metadata": {},
     "output_type": "display_data"
    }
   ],
   "source": [
    "sns.pairplot(df_adv)"
   ]
  },
  {
   "cell_type": "code",
   "execution_count": 120,
   "id": "injured-tourism",
   "metadata": {},
   "outputs": [
    {
     "data": {
      "text/html": [
       "<div>\n",
       "<style scoped>\n",
       "    .dataframe tbody tr th:only-of-type {\n",
       "        vertical-align: middle;\n",
       "    }\n",
       "\n",
       "    .dataframe tbody tr th {\n",
       "        vertical-align: top;\n",
       "    }\n",
       "\n",
       "    .dataframe thead th {\n",
       "        text-align: right;\n",
       "    }\n",
       "</style>\n",
       "<table border=\"1\" class=\"dataframe\">\n",
       "  <thead>\n",
       "    <tr style=\"text-align: right;\">\n",
       "      <th></th>\n",
       "      <th>TV</th>\n",
       "      <th>Radio</th>\n",
       "      <th>Newspaper</th>\n",
       "      <th>Sales</th>\n",
       "    </tr>\n",
       "  </thead>\n",
       "  <tbody>\n",
       "    <tr>\n",
       "      <th>TV</th>\n",
       "      <td>1.000000</td>\n",
       "      <td>0.054809</td>\n",
       "      <td>0.056648</td>\n",
       "      <td>0.782224</td>\n",
       "    </tr>\n",
       "    <tr>\n",
       "      <th>Radio</th>\n",
       "      <td>0.054809</td>\n",
       "      <td>1.000000</td>\n",
       "      <td>0.354104</td>\n",
       "      <td>0.576223</td>\n",
       "    </tr>\n",
       "    <tr>\n",
       "      <th>Newspaper</th>\n",
       "      <td>0.056648</td>\n",
       "      <td>0.354104</td>\n",
       "      <td>1.000000</td>\n",
       "      <td>0.228299</td>\n",
       "    </tr>\n",
       "    <tr>\n",
       "      <th>Sales</th>\n",
       "      <td>0.782224</td>\n",
       "      <td>0.576223</td>\n",
       "      <td>0.228299</td>\n",
       "      <td>1.000000</td>\n",
       "    </tr>\n",
       "  </tbody>\n",
       "</table>\n",
       "</div>"
      ],
      "text/plain": [
       "                 TV     Radio  Newspaper     Sales\n",
       "TV         1.000000  0.054809   0.056648  0.782224\n",
       "Radio      0.054809  1.000000   0.354104  0.576223\n",
       "Newspaper  0.056648  0.354104   1.000000  0.228299\n",
       "Sales      0.782224  0.576223   0.228299  1.000000"
      ]
     },
     "execution_count": 120,
     "metadata": {},
     "output_type": "execute_result"
    }
   ],
   "source": [
    "df_adv.corr()"
   ]
  },
  {
   "cell_type": "code",
   "execution_count": 121,
   "id": "clear-metropolitan",
   "metadata": {},
   "outputs": [
    {
     "data": {
      "text/html": [
       "<div>\n",
       "<style scoped>\n",
       "    .dataframe tbody tr th:only-of-type {\n",
       "        vertical-align: middle;\n",
       "    }\n",
       "\n",
       "    .dataframe tbody tr th {\n",
       "        vertical-align: top;\n",
       "    }\n",
       "\n",
       "    .dataframe thead th {\n",
       "        text-align: right;\n",
       "    }\n",
       "</style>\n",
       "<table border=\"1\" class=\"dataframe\">\n",
       "  <thead>\n",
       "    <tr style=\"text-align: right;\">\n",
       "      <th></th>\n",
       "      <th>TV</th>\n",
       "      <th>Radio</th>\n",
       "      <th>Newspaper</th>\n",
       "      <th>Sales</th>\n",
       "    </tr>\n",
       "  </thead>\n",
       "  <tbody>\n",
       "    <tr>\n",
       "      <th>TV</th>\n",
       "      <td>7370.949893</td>\n",
       "      <td>69.862492</td>\n",
       "      <td>105.919452</td>\n",
       "      <td>350.390195</td>\n",
       "    </tr>\n",
       "    <tr>\n",
       "      <th>Radio</th>\n",
       "      <td>69.862492</td>\n",
       "      <td>220.427743</td>\n",
       "      <td>114.496979</td>\n",
       "      <td>44.635688</td>\n",
       "    </tr>\n",
       "    <tr>\n",
       "      <th>Newspaper</th>\n",
       "      <td>105.919452</td>\n",
       "      <td>114.496979</td>\n",
       "      <td>474.308326</td>\n",
       "      <td>25.941392</td>\n",
       "    </tr>\n",
       "    <tr>\n",
       "      <th>Sales</th>\n",
       "      <td>350.390195</td>\n",
       "      <td>44.635688</td>\n",
       "      <td>25.941392</td>\n",
       "      <td>27.221853</td>\n",
       "    </tr>\n",
       "  </tbody>\n",
       "</table>\n",
       "</div>"
      ],
      "text/plain": [
       "                    TV       Radio   Newspaper       Sales\n",
       "TV         7370.949893   69.862492  105.919452  350.390195\n",
       "Radio        69.862492  220.427743  114.496979   44.635688\n",
       "Newspaper   105.919452  114.496979  474.308326   25.941392\n",
       "Sales       350.390195   44.635688   25.941392   27.221853"
      ]
     },
     "execution_count": 121,
     "metadata": {},
     "output_type": "execute_result"
    }
   ],
   "source": [
    "df_adv.cov()"
   ]
  },
  {
   "cell_type": "code",
   "execution_count": 122,
   "id": "harmful-inventory",
   "metadata": {},
   "outputs": [
    {
     "data": {
      "text/html": [
       "<table class=\"simpletable\">\n",
       "<caption>OLS Regression Results</caption>\n",
       "<tr>\n",
       "  <th>Dep. Variable:</th>          <td>Sales</td>      <th>  R-squared:         </th> <td>   0.612</td>\n",
       "</tr>\n",
       "<tr>\n",
       "  <th>Model:</th>                   <td>OLS</td>       <th>  Adj. R-squared:    </th> <td>   0.610</td>\n",
       "</tr>\n",
       "<tr>\n",
       "  <th>Method:</th>             <td>Least Squares</td>  <th>  F-statistic:       </th> <td>   312.1</td>\n",
       "</tr>\n",
       "<tr>\n",
       "  <th>Date:</th>             <td>Tue, 27 Apr 2021</td> <th>  Prob (F-statistic):</th> <td>1.47e-42</td>\n",
       "</tr>\n",
       "<tr>\n",
       "  <th>Time:</th>                 <td>11:55:33</td>     <th>  Log-Likelihood:    </th> <td> -519.05</td>\n",
       "</tr>\n",
       "<tr>\n",
       "  <th>No. Observations:</th>      <td>   200</td>      <th>  AIC:               </th> <td>   1042.</td>\n",
       "</tr>\n",
       "<tr>\n",
       "  <th>Df Residuals:</th>          <td>   198</td>      <th>  BIC:               </th> <td>   1049.</td>\n",
       "</tr>\n",
       "<tr>\n",
       "  <th>Df Model:</th>              <td>     1</td>      <th>                     </th>     <td> </td>   \n",
       "</tr>\n",
       "<tr>\n",
       "  <th>Covariance Type:</th>      <td>nonrobust</td>    <th>                     </th>     <td> </td>   \n",
       "</tr>\n",
       "</table>\n",
       "<table class=\"simpletable\">\n",
       "<tr>\n",
       "      <td></td>         <th>coef</th>     <th>std err</th>      <th>t</th>      <th>P>|t|</th>  <th>[0.025</th>    <th>0.975]</th>  \n",
       "</tr>\n",
       "<tr>\n",
       "  <th>Intercept</th> <td>    7.0326</td> <td>    0.458</td> <td>   15.360</td> <td> 0.000</td> <td>    6.130</td> <td>    7.935</td>\n",
       "</tr>\n",
       "<tr>\n",
       "  <th>TV</th>        <td>    0.0475</td> <td>    0.003</td> <td>   17.668</td> <td> 0.000</td> <td>    0.042</td> <td>    0.053</td>\n",
       "</tr>\n",
       "</table>\n",
       "<table class=\"simpletable\">\n",
       "<tr>\n",
       "  <th>Omnibus:</th>       <td> 0.531</td> <th>  Durbin-Watson:     </th> <td>   1.935</td>\n",
       "</tr>\n",
       "<tr>\n",
       "  <th>Prob(Omnibus):</th> <td> 0.767</td> <th>  Jarque-Bera (JB):  </th> <td>   0.669</td>\n",
       "</tr>\n",
       "<tr>\n",
       "  <th>Skew:</th>          <td>-0.089</td> <th>  Prob(JB):          </th> <td>   0.716</td>\n",
       "</tr>\n",
       "<tr>\n",
       "  <th>Kurtosis:</th>      <td> 2.779</td> <th>  Cond. No.          </th> <td>    338.</td>\n",
       "</tr>\n",
       "</table><br/><br/>Notes:<br/>[1] Standard Errors assume that the covariance matrix of the errors is correctly specified."
      ],
      "text/plain": [
       "<class 'statsmodels.iolib.summary.Summary'>\n",
       "\"\"\"\n",
       "                            OLS Regression Results                            \n",
       "==============================================================================\n",
       "Dep. Variable:                  Sales   R-squared:                       0.612\n",
       "Model:                            OLS   Adj. R-squared:                  0.610\n",
       "Method:                 Least Squares   F-statistic:                     312.1\n",
       "Date:                Tue, 27 Apr 2021   Prob (F-statistic):           1.47e-42\n",
       "Time:                        11:55:33   Log-Likelihood:                -519.05\n",
       "No. Observations:                 200   AIC:                             1042.\n",
       "Df Residuals:                     198   BIC:                             1049.\n",
       "Df Model:                           1                                         \n",
       "Covariance Type:            nonrobust                                         \n",
       "==============================================================================\n",
       "                 coef    std err          t      P>|t|      [0.025      0.975]\n",
       "------------------------------------------------------------------------------\n",
       "Intercept      7.0326      0.458     15.360      0.000       6.130       7.935\n",
       "TV             0.0475      0.003     17.668      0.000       0.042       0.053\n",
       "==============================================================================\n",
       "Omnibus:                        0.531   Durbin-Watson:                   1.935\n",
       "Prob(Omnibus):                  0.767   Jarque-Bera (JB):                0.669\n",
       "Skew:                          -0.089   Prob(JB):                        0.716\n",
       "Kurtosis:                       2.779   Cond. No.                         338.\n",
       "==============================================================================\n",
       "\n",
       "Notes:\n",
       "[1] Standard Errors assume that the covariance matrix of the errors is correctly specified.\n",
       "\"\"\""
      ]
     },
     "execution_count": 122,
     "metadata": {},
     "output_type": "execute_result"
    }
   ],
   "source": [
    "results = smf.ols(\"Sales ~ TV\", data = df_adv).fit()\n",
    "results.summary()"
   ]
  },
  {
   "cell_type": "code",
   "execution_count": 125,
   "id": "little-relations",
   "metadata": {},
   "outputs": [
    {
     "data": {
      "text/html": [
       "<table class=\"simpletable\">\n",
       "<caption>OLS Regression Results</caption>\n",
       "<tr>\n",
       "  <th>Dep. Variable:</th>          <td>Sales</td>      <th>  R-squared:         </th> <td>   0.897</td>\n",
       "</tr>\n",
       "<tr>\n",
       "  <th>Model:</th>                   <td>OLS</td>       <th>  Adj. R-squared:    </th> <td>   0.896</td>\n",
       "</tr>\n",
       "<tr>\n",
       "  <th>Method:</th>             <td>Least Squares</td>  <th>  F-statistic:       </th> <td>   570.3</td>\n",
       "</tr>\n",
       "<tr>\n",
       "  <th>Date:</th>             <td>Tue, 27 Apr 2021</td> <th>  Prob (F-statistic):</th> <td>1.58e-96</td>\n",
       "</tr>\n",
       "<tr>\n",
       "  <th>Time:</th>                 <td>11:57:16</td>     <th>  Log-Likelihood:    </th> <td> -386.18</td>\n",
       "</tr>\n",
       "<tr>\n",
       "  <th>No. Observations:</th>      <td>   200</td>      <th>  AIC:               </th> <td>   780.4</td>\n",
       "</tr>\n",
       "<tr>\n",
       "  <th>Df Residuals:</th>          <td>   196</td>      <th>  BIC:               </th> <td>   793.6</td>\n",
       "</tr>\n",
       "<tr>\n",
       "  <th>Df Model:</th>              <td>     3</td>      <th>                     </th>     <td> </td>   \n",
       "</tr>\n",
       "<tr>\n",
       "  <th>Covariance Type:</th>      <td>nonrobust</td>    <th>                     </th>     <td> </td>   \n",
       "</tr>\n",
       "</table>\n",
       "<table class=\"simpletable\">\n",
       "<tr>\n",
       "      <td></td>         <th>coef</th>     <th>std err</th>      <th>t</th>      <th>P>|t|</th>  <th>[0.025</th>    <th>0.975]</th>  \n",
       "</tr>\n",
       "<tr>\n",
       "  <th>Intercept</th> <td>    2.9389</td> <td>    0.312</td> <td>    9.422</td> <td> 0.000</td> <td>    2.324</td> <td>    3.554</td>\n",
       "</tr>\n",
       "<tr>\n",
       "  <th>TV</th>        <td>    0.0458</td> <td>    0.001</td> <td>   32.809</td> <td> 0.000</td> <td>    0.043</td> <td>    0.049</td>\n",
       "</tr>\n",
       "<tr>\n",
       "  <th>Radio</th>     <td>    0.1885</td> <td>    0.009</td> <td>   21.893</td> <td> 0.000</td> <td>    0.172</td> <td>    0.206</td>\n",
       "</tr>\n",
       "<tr>\n",
       "  <th>Newspaper</th> <td>   -0.0010</td> <td>    0.006</td> <td>   -0.177</td> <td> 0.860</td> <td>   -0.013</td> <td>    0.011</td>\n",
       "</tr>\n",
       "</table>\n",
       "<table class=\"simpletable\">\n",
       "<tr>\n",
       "  <th>Omnibus:</th>       <td>60.414</td> <th>  Durbin-Watson:     </th> <td>   2.084</td>\n",
       "</tr>\n",
       "<tr>\n",
       "  <th>Prob(Omnibus):</th> <td> 0.000</td> <th>  Jarque-Bera (JB):  </th> <td> 151.241</td>\n",
       "</tr>\n",
       "<tr>\n",
       "  <th>Skew:</th>          <td>-1.327</td> <th>  Prob(JB):          </th> <td>1.44e-33</td>\n",
       "</tr>\n",
       "<tr>\n",
       "  <th>Kurtosis:</th>      <td> 6.332</td> <th>  Cond. No.          </th> <td>    454.</td>\n",
       "</tr>\n",
       "</table><br/><br/>Notes:<br/>[1] Standard Errors assume that the covariance matrix of the errors is correctly specified."
      ],
      "text/plain": [
       "<class 'statsmodels.iolib.summary.Summary'>\n",
       "\"\"\"\n",
       "                            OLS Regression Results                            \n",
       "==============================================================================\n",
       "Dep. Variable:                  Sales   R-squared:                       0.897\n",
       "Model:                            OLS   Adj. R-squared:                  0.896\n",
       "Method:                 Least Squares   F-statistic:                     570.3\n",
       "Date:                Tue, 27 Apr 2021   Prob (F-statistic):           1.58e-96\n",
       "Time:                        11:57:16   Log-Likelihood:                -386.18\n",
       "No. Observations:                 200   AIC:                             780.4\n",
       "Df Residuals:                     196   BIC:                             793.6\n",
       "Df Model:                           3                                         \n",
       "Covariance Type:            nonrobust                                         \n",
       "==============================================================================\n",
       "                 coef    std err          t      P>|t|      [0.025      0.975]\n",
       "------------------------------------------------------------------------------\n",
       "Intercept      2.9389      0.312      9.422      0.000       2.324       3.554\n",
       "TV             0.0458      0.001     32.809      0.000       0.043       0.049\n",
       "Radio          0.1885      0.009     21.893      0.000       0.172       0.206\n",
       "Newspaper     -0.0010      0.006     -0.177      0.860      -0.013       0.011\n",
       "==============================================================================\n",
       "Omnibus:                       60.414   Durbin-Watson:                   2.084\n",
       "Prob(Omnibus):                  0.000   Jarque-Bera (JB):              151.241\n",
       "Skew:                          -1.327   Prob(JB):                     1.44e-33\n",
       "Kurtosis:                       6.332   Cond. No.                         454.\n",
       "==============================================================================\n",
       "\n",
       "Notes:\n",
       "[1] Standard Errors assume that the covariance matrix of the errors is correctly specified.\n",
       "\"\"\""
      ]
     },
     "execution_count": 125,
     "metadata": {},
     "output_type": "execute_result"
    }
   ],
   "source": [
    "results = smf.ols(\"Sales ~ TV + Radio + Newspaper\", data = df_adv).fit()\n",
    "results.summary()"
   ]
  },
  {
   "cell_type": "code",
   "execution_count": 129,
   "id": "increasing-ireland",
   "metadata": {},
   "outputs": [
    {
     "data": {
      "text/html": [
       "<table class=\"simpletable\">\n",
       "<caption>OLS Regression Results</caption>\n",
       "<tr>\n",
       "  <th>Dep. Variable:</th>          <td>Sales</td>      <th>  R-squared:         </th> <td>   0.968</td> \n",
       "</tr>\n",
       "<tr>\n",
       "  <th>Model:</th>                   <td>OLS</td>       <th>  Adj. R-squared:    </th> <td>   0.967</td> \n",
       "</tr>\n",
       "<tr>\n",
       "  <th>Method:</th>             <td>Least Squares</td>  <th>  F-statistic:       </th> <td>   1963.</td> \n",
       "</tr>\n",
       "<tr>\n",
       "  <th>Date:</th>             <td>Tue, 27 Apr 2021</td> <th>  Prob (F-statistic):</th> <td>6.68e-146</td>\n",
       "</tr>\n",
       "<tr>\n",
       "  <th>Time:</th>                 <td>12:04:34</td>     <th>  Log-Likelihood:    </th> <td> -270.14</td> \n",
       "</tr>\n",
       "<tr>\n",
       "  <th>No. Observations:</th>      <td>   200</td>      <th>  AIC:               </th> <td>   548.3</td> \n",
       "</tr>\n",
       "<tr>\n",
       "  <th>Df Residuals:</th>          <td>   196</td>      <th>  BIC:               </th> <td>   561.5</td> \n",
       "</tr>\n",
       "<tr>\n",
       "  <th>Df Model:</th>              <td>     3</td>      <th>                     </th>     <td> </td>    \n",
       "</tr>\n",
       "<tr>\n",
       "  <th>Covariance Type:</th>      <td>nonrobust</td>    <th>                     </th>     <td> </td>    \n",
       "</tr>\n",
       "</table>\n",
       "<table class=\"simpletable\">\n",
       "<tr>\n",
       "      <td></td>         <th>coef</th>     <th>std err</th>      <th>t</th>      <th>P>|t|</th>  <th>[0.025</th>    <th>0.975]</th>  \n",
       "</tr>\n",
       "<tr>\n",
       "  <th>Intercept</th> <td>    6.7502</td> <td>    0.248</td> <td>   27.233</td> <td> 0.000</td> <td>    6.261</td> <td>    7.239</td>\n",
       "</tr>\n",
       "<tr>\n",
       "  <th>TV</th>        <td>    0.0191</td> <td>    0.002</td> <td>   12.699</td> <td> 0.000</td> <td>    0.016</td> <td>    0.022</td>\n",
       "</tr>\n",
       "<tr>\n",
       "  <th>Radio</th>     <td>    0.0289</td> <td>    0.009</td> <td>    3.241</td> <td> 0.001</td> <td>    0.011</td> <td>    0.046</td>\n",
       "</tr>\n",
       "<tr>\n",
       "  <th>TV:Radio</th>  <td>    0.0011</td> <td> 5.24e-05</td> <td>   20.727</td> <td> 0.000</td> <td>    0.001</td> <td>    0.001</td>\n",
       "</tr>\n",
       "</table>\n",
       "<table class=\"simpletable\">\n",
       "<tr>\n",
       "  <th>Omnibus:</th>       <td>128.132</td> <th>  Durbin-Watson:     </th> <td>   2.224</td> \n",
       "</tr>\n",
       "<tr>\n",
       "  <th>Prob(Omnibus):</th> <td> 0.000</td>  <th>  Jarque-Bera (JB):  </th> <td>1183.719</td> \n",
       "</tr>\n",
       "<tr>\n",
       "  <th>Skew:</th>          <td>-2.323</td>  <th>  Prob(JB):          </th> <td>9.09e-258</td>\n",
       "</tr>\n",
       "<tr>\n",
       "  <th>Kurtosis:</th>      <td>13.975</td>  <th>  Cond. No.          </th> <td>1.80e+04</td> \n",
       "</tr>\n",
       "</table><br/><br/>Notes:<br/>[1] Standard Errors assume that the covariance matrix of the errors is correctly specified.<br/>[2] The condition number is large, 1.8e+04. This might indicate that there are<br/>strong multicollinearity or other numerical problems."
      ],
      "text/plain": [
       "<class 'statsmodels.iolib.summary.Summary'>\n",
       "\"\"\"\n",
       "                            OLS Regression Results                            \n",
       "==============================================================================\n",
       "Dep. Variable:                  Sales   R-squared:                       0.968\n",
       "Model:                            OLS   Adj. R-squared:                  0.967\n",
       "Method:                 Least Squares   F-statistic:                     1963.\n",
       "Date:                Tue, 27 Apr 2021   Prob (F-statistic):          6.68e-146\n",
       "Time:                        12:04:34   Log-Likelihood:                -270.14\n",
       "No. Observations:                 200   AIC:                             548.3\n",
       "Df Residuals:                     196   BIC:                             561.5\n",
       "Df Model:                           3                                         \n",
       "Covariance Type:            nonrobust                                         \n",
       "==============================================================================\n",
       "                 coef    std err          t      P>|t|      [0.025      0.975]\n",
       "------------------------------------------------------------------------------\n",
       "Intercept      6.7502      0.248     27.233      0.000       6.261       7.239\n",
       "TV             0.0191      0.002     12.699      0.000       0.016       0.022\n",
       "Radio          0.0289      0.009      3.241      0.001       0.011       0.046\n",
       "TV:Radio       0.0011   5.24e-05     20.727      0.000       0.001       0.001\n",
       "==============================================================================\n",
       "Omnibus:                      128.132   Durbin-Watson:                   2.224\n",
       "Prob(Omnibus):                  0.000   Jarque-Bera (JB):             1183.719\n",
       "Skew:                          -2.323   Prob(JB):                    9.09e-258\n",
       "Kurtosis:                      13.975   Cond. No.                     1.80e+04\n",
       "==============================================================================\n",
       "\n",
       "Notes:\n",
       "[1] Standard Errors assume that the covariance matrix of the errors is correctly specified.\n",
       "[2] The condition number is large, 1.8e+04. This might indicate that there are\n",
       "strong multicollinearity or other numerical problems.\n",
       "\"\"\""
      ]
     },
     "execution_count": 129,
     "metadata": {},
     "output_type": "execute_result"
    }
   ],
   "source": [
    "results = smf.ols(\"Sales ~  TV + Radio + TV * Radio\", data = df_adv).fit()\n",
    "results.summary()"
   ]
  },
  {
   "cell_type": "markdown",
   "id": "cordless-knock",
   "metadata": {},
   "source": [
>>>>>>> d6ea45aef3915597f0a9abeaf087f33c6da746ca
    "La diferencia es que la covarianza nos da la dirección (positiva o negativa) entre las variables y la correlación nos da esto más la fuerza de esta."
   ]
  },
  {
   "cell_type": "markdown",
   "metadata": {},
   "source": [
    "Recuerde el **principio jerárquico:**\n",
    "\n",
    "\"*Si incluimos una interacción en un modelo, debemos incluir también los efectos principales, incluso si los valores p que se asocian a sus coeficientes no son significativos*\""
   ]
  },
  {
   "cell_type": "markdown",
   "metadata": {},
   "source": [
    "## Selección de modelo"
   ]
  },
  {
   "cell_type": "markdown",
   "metadata": {},
   "source": [
    "###  $R^2$ Ajustado \n",
    "Hay una cosa curiosa con $R^2$. ¡¡Mira lo que pasa cuando incluimos variables *al azar*!!"
   ]
  },
  {
   "cell_type": "code",
<<<<<<< HEAD
   "execution_count": 67,
=======
   "execution_count": 130,
   "id": "exposed-shepherd",
>>>>>>> d6ea45aef3915597f0a9abeaf087f33c6da746ca
   "metadata": {},
   "outputs": [],
   "source": [
    "df_adv['rand_1'] = np.random.normal(size=200)\n",
    "df_adv['rand_2'] = np.random.normal(size=200)\n",
    "df_adv['rand_3'] = np.random.normal(size=200)\n",
    "df_adv['rand_4'] = np.random.normal(size=200)\n",
    "df_adv['rand_5'] = np.random.normal(size=200)\n",
    "df_adv['rand_6'] = np.random.normal(size=200)\n",
    "df_adv['rand_7'] = np.random.normal(size=200)\n",
    "df_adv['rand_8'] = np.random.normal(size=200)"
   ]
  },
  {
   "cell_type": "code",
<<<<<<< HEAD
   "execution_count": 68,
=======
   "execution_count": 131,
   "id": "divided-cannon",
>>>>>>> d6ea45aef3915597f0a9abeaf087f33c6da746ca
   "metadata": {
    "scrolled": true
   },
   "outputs": [
    {
     "data": {
      "text/html": [
       "<table class=\"simpletable\">\n",
       "<caption>OLS Regression Results</caption>\n",
       "<tr>\n",
       "  <th>Dep. Variable:</th>          <td>Sales</td>      <th>  R-squared:         </th> <td>   0.969</td> \n",
       "</tr>\n",
       "<tr>\n",
       "  <th>Model:</th>                   <td>OLS</td>       <th>  Adj. R-squared:    </th> <td>   0.967</td> \n",
       "</tr>\n",
       "<tr>\n",
<<<<<<< HEAD
       "  <th>Method:</th>             <td>Least Squares</td>  <th>  F-statistic:       </th> <td>   532.1</td> \n",
       "</tr>\n",
       "<tr>\n",
       "  <th>Date:</th>             <td>Tue, 27 Apr 2021</td> <th>  Prob (F-statistic):</th> <td>3.15e-135</td>\n",
       "</tr>\n",
       "<tr>\n",
       "  <th>Time:</th>                 <td>17:15:02</td>     <th>  Log-Likelihood:    </th> <td> -266.69</td> \n",
       "</tr>\n",
       "<tr>\n",
       "  <th>No. Observations:</th>      <td>   200</td>      <th>  AIC:               </th> <td>   557.4</td> \n",
       "</tr>\n",
       "<tr>\n",
       "  <th>Df Residuals:</th>          <td>   188</td>      <th>  BIC:               </th> <td>   597.0</td> \n",
=======
       "  <th>Method:</th>             <td>Least Squares</td>  <th>  F-statistic:       </th> <td>   525.8</td> \n",
       "</tr>\n",
       "<tr>\n",
       "  <th>Date:</th>             <td>Tue, 27 Apr 2021</td> <th>  Prob (F-statistic):</th> <td>9.40e-135</td>\n",
       "</tr>\n",
       "<tr>\n",
       "  <th>Time:</th>                 <td>12:09:50</td>     <th>  Log-Likelihood:    </th> <td> -267.86</td> \n",
       "</tr>\n",
       "<tr>\n",
       "  <th>No. Observations:</th>      <td>   200</td>      <th>  AIC:               </th> <td>   559.7</td> \n",
       "</tr>\n",
       "<tr>\n",
       "  <th>Df Residuals:</th>          <td>   188</td>      <th>  BIC:               </th> <td>   599.3</td> \n",
>>>>>>> d6ea45aef3915597f0a9abeaf087f33c6da746ca
       "</tr>\n",
       "<tr>\n",
       "  <th>Df Model:</th>              <td>    11</td>      <th>                     </th>     <td> </td>    \n",
       "</tr>\n",
       "<tr>\n",
       "  <th>Covariance Type:</th>      <td>nonrobust</td>    <th>                     </th>     <td> </td>    \n",
       "</tr>\n",
       "</table>\n",
       "<table class=\"simpletable\">\n",
       "<tr>\n",
       "      <td></td>         <th>coef</th>     <th>std err</th>      <th>t</th>      <th>P>|t|</th>  <th>[0.025</th>    <th>0.975]</th>  \n",
       "</tr>\n",
       "<tr>\n",
<<<<<<< HEAD
       "  <th>Intercept</th> <td>    6.8732</td> <td>    0.259</td> <td>   26.526</td> <td> 0.000</td> <td>    6.362</td> <td>    7.384</td>\n",
       "</tr>\n",
       "<tr>\n",
       "  <th>TV</th>        <td>    0.0182</td> <td>    0.002</td> <td>   11.555</td> <td> 0.000</td> <td>    0.015</td> <td>    0.021</td>\n",
       "</tr>\n",
       "<tr>\n",
       "  <th>Radio</th>     <td>    0.0259</td> <td>    0.009</td> <td>    2.820</td> <td> 0.005</td> <td>    0.008</td> <td>    0.044</td>\n",
       "</tr>\n",
       "<tr>\n",
       "  <th>TV:Radio</th>  <td>    0.0011</td> <td> 5.43e-05</td> <td>   20.425</td> <td> 0.000</td> <td>    0.001</td> <td>    0.001</td>\n",
       "</tr>\n",
       "<tr>\n",
       "  <th>rand_1</th>    <td>   -0.0208</td> <td>    0.070</td> <td>   -0.299</td> <td> 0.766</td> <td>   -0.158</td> <td>    0.116</td>\n",
       "</tr>\n",
       "<tr>\n",
       "  <th>rand_2</th>    <td>    0.0544</td> <td>    0.073</td> <td>    0.746</td> <td> 0.456</td> <td>   -0.089</td> <td>    0.198</td>\n",
       "</tr>\n",
       "<tr>\n",
       "  <th>rand_3</th>    <td>   -0.0277</td> <td>    0.069</td> <td>   -0.403</td> <td> 0.687</td> <td>   -0.163</td> <td>    0.108</td>\n",
       "</tr>\n",
       "<tr>\n",
       "  <th>rand_4</th>    <td>   -0.0525</td> <td>    0.070</td> <td>   -0.749</td> <td> 0.455</td> <td>   -0.191</td> <td>    0.086</td>\n",
       "</tr>\n",
       "<tr>\n",
       "  <th>rand_5</th>    <td>   -0.0804</td> <td>    0.070</td> <td>   -1.147</td> <td> 0.253</td> <td>   -0.219</td> <td>    0.058</td>\n",
       "</tr>\n",
       "<tr>\n",
       "  <th>rand_6</th>    <td>   -0.0296</td> <td>    0.071</td> <td>   -0.417</td> <td> 0.677</td> <td>   -0.170</td> <td>    0.110</td>\n",
       "</tr>\n",
       "<tr>\n",
       "  <th>rand_7</th>    <td>   -0.1365</td> <td>    0.067</td> <td>   -2.027</td> <td> 0.044</td> <td>   -0.269</td> <td>   -0.004</td>\n",
       "</tr>\n",
       "<tr>\n",
       "  <th>rand_8</th>    <td>    0.0283</td> <td>    0.069</td> <td>    0.410</td> <td> 0.682</td> <td>   -0.108</td> <td>    0.165</td>\n",
=======
       "  <th>Intercept</th> <td>    6.7375</td> <td>    0.255</td> <td>   26.443</td> <td> 0.000</td> <td>    6.235</td> <td>    7.240</td>\n",
       "</tr>\n",
       "<tr>\n",
       "  <th>TV</th>        <td>    0.0192</td> <td>    0.002</td> <td>   12.437</td> <td> 0.000</td> <td>    0.016</td> <td>    0.022</td>\n",
       "</tr>\n",
       "<tr>\n",
       "  <th>Radio</th>     <td>    0.0291</td> <td>    0.009</td> <td>    3.199</td> <td> 0.002</td> <td>    0.011</td> <td>    0.047</td>\n",
       "</tr>\n",
       "<tr>\n",
       "  <th>TV:Radio</th>  <td>    0.0011</td> <td> 5.37e-05</td> <td>   20.126</td> <td> 0.000</td> <td>    0.001</td> <td>    0.001</td>\n",
       "</tr>\n",
       "<tr>\n",
       "  <th>rand_1</th>    <td>    0.0742</td> <td>    0.067</td> <td>    1.106</td> <td> 0.270</td> <td>   -0.058</td> <td>    0.207</td>\n",
       "</tr>\n",
       "<tr>\n",
       "  <th>rand_2</th>    <td>    0.0082</td> <td>    0.071</td> <td>    0.116</td> <td> 0.907</td> <td>   -0.131</td> <td>    0.147</td>\n",
       "</tr>\n",
       "<tr>\n",
       "  <th>rand_3</th>    <td>    0.0383</td> <td>    0.067</td> <td>    0.570</td> <td> 0.570</td> <td>   -0.094</td> <td>    0.171</td>\n",
       "</tr>\n",
       "<tr>\n",
       "  <th>rand_4</th>    <td>   -0.0497</td> <td>    0.070</td> <td>   -0.713</td> <td> 0.477</td> <td>   -0.187</td> <td>    0.088</td>\n",
       "</tr>\n",
       "<tr>\n",
       "  <th>rand_5</th>    <td>   -0.0284</td> <td>    0.072</td> <td>   -0.395</td> <td> 0.693</td> <td>   -0.170</td> <td>    0.113</td>\n",
       "</tr>\n",
       "<tr>\n",
       "  <th>rand_6</th>    <td>    0.0994</td> <td>    0.068</td> <td>    1.452</td> <td> 0.148</td> <td>   -0.036</td> <td>    0.234</td>\n",
       "</tr>\n",
       "<tr>\n",
       "  <th>rand_7</th>    <td>   -0.0338</td> <td>    0.068</td> <td>   -0.500</td> <td> 0.618</td> <td>   -0.167</td> <td>    0.100</td>\n",
       "</tr>\n",
       "<tr>\n",
       "  <th>rand_8</th>    <td>    0.0135</td> <td>    0.070</td> <td>    0.193</td> <td> 0.847</td> <td>   -0.124</td> <td>    0.151</td>\n",
>>>>>>> d6ea45aef3915597f0a9abeaf087f33c6da746ca
       "</tr>\n",
       "</table>\n",
       "<table class=\"simpletable\">\n",
       "<tr>\n",
<<<<<<< HEAD
       "  <th>Omnibus:</th>       <td>120.413</td> <th>  Durbin-Watson:     </th> <td>   2.213</td> \n",
       "</tr>\n",
       "<tr>\n",
       "  <th>Prob(Omnibus):</th> <td> 0.000</td>  <th>  Jarque-Bera (JB):  </th> <td>1022.604</td> \n",
       "</tr>\n",
       "<tr>\n",
       "  <th>Skew:</th>          <td>-2.170</td>  <th>  Prob(JB):          </th> <td>8.80e-223</td>\n",
       "</tr>\n",
       "<tr>\n",
       "  <th>Kurtosis:</th>      <td>13.192</td>  <th>  Cond. No.          </th> <td>1.88e+04</td> \n",
       "</tr>\n",
       "</table><br/><br/>Notes:<br/>[1] Standard Errors assume that the covariance matrix of the errors is correctly specified.<br/>[2] The condition number is large, 1.88e+04. This might indicate that there are<br/>strong multicollinearity or other numerical problems."
=======
       "  <th>Omnibus:</th>       <td>124.254</td> <th>  Durbin-Watson:     </th> <td>   2.252</td> \n",
       "</tr>\n",
       "<tr>\n",
       "  <th>Prob(Omnibus):</th> <td> 0.000</td>  <th>  Jarque-Bera (JB):  </th> <td>1052.851</td> \n",
       "</tr>\n",
       "<tr>\n",
       "  <th>Skew:</th>          <td>-2.266</td>  <th>  Prob(JB):          </th> <td>2.38e-229</td>\n",
       "</tr>\n",
       "<tr>\n",
       "  <th>Kurtosis:</th>      <td>13.286</td>  <th>  Cond. No.          </th> <td>1.84e+04</td> \n",
       "</tr>\n",
       "</table><br/><br/>Notes:<br/>[1] Standard Errors assume that the covariance matrix of the errors is correctly specified.<br/>[2] The condition number is large, 1.84e+04. This might indicate that there are<br/>strong multicollinearity or other numerical problems."
>>>>>>> d6ea45aef3915597f0a9abeaf087f33c6da746ca
      ],
      "text/plain": [
       "<class 'statsmodels.iolib.summary.Summary'>\n",
       "\"\"\"\n",
       "                            OLS Regression Results                            \n",
       "==============================================================================\n",
       "Dep. Variable:                  Sales   R-squared:                       0.969\n",
       "Model:                            OLS   Adj. R-squared:                  0.967\n",
<<<<<<< HEAD
       "Method:                 Least Squares   F-statistic:                     532.1\n",
       "Date:                Tue, 27 Apr 2021   Prob (F-statistic):          3.15e-135\n",
       "Time:                        17:15:02   Log-Likelihood:                -266.69\n",
       "No. Observations:                 200   AIC:                             557.4\n",
       "Df Residuals:                     188   BIC:                             597.0\n",
=======
       "Method:                 Least Squares   F-statistic:                     525.8\n",
       "Date:                Tue, 27 Apr 2021   Prob (F-statistic):          9.40e-135\n",
       "Time:                        12:09:50   Log-Likelihood:                -267.86\n",
       "No. Observations:                 200   AIC:                             559.7\n",
       "Df Residuals:                     188   BIC:                             599.3\n",
>>>>>>> d6ea45aef3915597f0a9abeaf087f33c6da746ca
       "Df Model:                          11                                         \n",
       "Covariance Type:            nonrobust                                         \n",
       "==============================================================================\n",
       "                 coef    std err          t      P>|t|      [0.025      0.975]\n",
       "------------------------------------------------------------------------------\n",
<<<<<<< HEAD
       "Intercept      6.8732      0.259     26.526      0.000       6.362       7.384\n",
       "TV             0.0182      0.002     11.555      0.000       0.015       0.021\n",
       "Radio          0.0259      0.009      2.820      0.005       0.008       0.044\n",
       "TV:Radio       0.0011   5.43e-05     20.425      0.000       0.001       0.001\n",
       "rand_1        -0.0208      0.070     -0.299      0.766      -0.158       0.116\n",
       "rand_2         0.0544      0.073      0.746      0.456      -0.089       0.198\n",
       "rand_3        -0.0277      0.069     -0.403      0.687      -0.163       0.108\n",
       "rand_4        -0.0525      0.070     -0.749      0.455      -0.191       0.086\n",
       "rand_5        -0.0804      0.070     -1.147      0.253      -0.219       0.058\n",
       "rand_6        -0.0296      0.071     -0.417      0.677      -0.170       0.110\n",
       "rand_7        -0.1365      0.067     -2.027      0.044      -0.269      -0.004\n",
       "rand_8         0.0283      0.069      0.410      0.682      -0.108       0.165\n",
       "==============================================================================\n",
       "Omnibus:                      120.413   Durbin-Watson:                   2.213\n",
       "Prob(Omnibus):                  0.000   Jarque-Bera (JB):             1022.604\n",
       "Skew:                          -2.170   Prob(JB):                    8.80e-223\n",
       "Kurtosis:                      13.192   Cond. No.                     1.88e+04\n",
=======
       "Intercept      6.7375      0.255     26.443      0.000       6.235       7.240\n",
       "TV             0.0192      0.002     12.437      0.000       0.016       0.022\n",
       "Radio          0.0291      0.009      3.199      0.002       0.011       0.047\n",
       "TV:Radio       0.0011   5.37e-05     20.126      0.000       0.001       0.001\n",
       "rand_1         0.0742      0.067      1.106      0.270      -0.058       0.207\n",
       "rand_2         0.0082      0.071      0.116      0.907      -0.131       0.147\n",
       "rand_3         0.0383      0.067      0.570      0.570      -0.094       0.171\n",
       "rand_4        -0.0497      0.070     -0.713      0.477      -0.187       0.088\n",
       "rand_5        -0.0284      0.072     -0.395      0.693      -0.170       0.113\n",
       "rand_6         0.0994      0.068      1.452      0.148      -0.036       0.234\n",
       "rand_7        -0.0338      0.068     -0.500      0.618      -0.167       0.100\n",
       "rand_8         0.0135      0.070      0.193      0.847      -0.124       0.151\n",
       "==============================================================================\n",
       "Omnibus:                      124.254   Durbin-Watson:                   2.252\n",
       "Prob(Omnibus):                  0.000   Jarque-Bera (JB):             1052.851\n",
       "Skew:                          -2.266   Prob(JB):                    2.38e-229\n",
       "Kurtosis:                      13.286   Cond. No.                     1.84e+04\n",
>>>>>>> d6ea45aef3915597f0a9abeaf087f33c6da746ca
       "==============================================================================\n",
       "\n",
       "Notes:\n",
       "[1] Standard Errors assume that the covariance matrix of the errors is correctly specified.\n",
<<<<<<< HEAD
       "[2] The condition number is large, 1.88e+04. This might indicate that there are\n",
=======
       "[2] The condition number is large, 1.84e+04. This might indicate that there are\n",
>>>>>>> d6ea45aef3915597f0a9abeaf087f33c6da746ca
       "strong multicollinearity or other numerical problems.\n",
       "\"\"\""
      ]
     },
<<<<<<< HEAD
     "execution_count": 68,
=======
     "execution_count": 131,
>>>>>>> d6ea45aef3915597f0a9abeaf087f33c6da746ca
     "metadata": {},
     "output_type": "execute_result"
    }
   ],
   "source": [
    "results = smf.ols('Sales ~ TV + Radio + TV * Radio + rand_1 + rand_2 + rand_3 + rand_4 + rand_5 + rand_6 + rand_7 + rand_8', \n",
    "                  data=df_adv).fit()\n",
    "results.summary()"
   ]
  },
  {
   "cell_type": "markdown",
   "metadata": {},
   "source": [
    "El coeficiente `Adj. R-cuadrado` pretende penalizar el $R^2$ de un modelo cuando se incluyen *demasiadas* varaibles. \n",
    "$$\\bar R^2 = 1-(1-R^2){n-1 \\ sobre n-p-1}$$"
   ]
  },
  {
   "cell_type": "markdown",
   "metadata": {},
   "source": [
    "## Selección por pasos\n",
    "Siempre hay que intentar tener un modelo lo más sencillo posible. Habrá otras formas de hacerlo utilizando la **regularización**, veremos más adelante cómo hay librerías que nos ayudarán a decidir si nos quedamos con unas u otras variabless, pero hasta ahora los métodos que describimos aquí son bastante útiles."
   ]
  },
  {
   "cell_type": "markdown",
   "metadata": {},
   "source": [
    "### Best subset selection"
   ]
  },
  {
   "cell_type": "markdown",
   "metadata": {},
   "source": [
    "El proceso de best subset selection consiste en evaluar todos los posibles modelos que se pueden crear por combinación de los predictores disponibles. El algoritmo a seguir para k predictores es:\n",
    "\n",
    "- Se genera lo que se conoce como modelo nulo (M0), que es el modelo sin ningún predictor.\n",
    "\n",
    "- Se generan todos los posibles modelos que contienen un único predictor y se selecciona el que tiene menor error de entrenamiento. Al modelo seleccionado se denomina (M1).\n",
    "\n",
    "- Se repite el paso anterior para modelos con dos predictores y así sucesivamente hasta llegar al modelo con todos los predictores (Mk).\n",
    "\n",
    "- De entre los mejores modelos seleccionados para cada número de predictores (M0, M1, M2,…,Mk) se identifica el mejor modelo, esta vez empleando una métrica de validación (R2 Ajustado).     \n",
    "\n",
    "A pesar de que este método explora todas las posibilidades, tiene dos limitaciones fundamentales:\n",
    "Requerimientos computacionales: Se requiere calcular 2p modelos distintos, lo que lo hace inviable para más de 40 predictores.\n",
    "Problemas de overfitting. Al generarse tantos modelos, por simple azar se pueden encontrar buenos resultados. Por esta razón best subset selection no se ecominda si hay más de 10 predictores."
   ]
  },
  {
   "cell_type": "markdown",
   "metadata": {},
   "source": [
    "### Modelo nulo"
   ]
  },
  {
   "cell_type": "code",
<<<<<<< HEAD
   "execution_count": 69,
=======
   "execution_count": 135,
   "id": "material-museum",
>>>>>>> d6ea45aef3915597f0a9abeaf087f33c6da746ca
   "metadata": {},
   "outputs": [
    {
     "data": {
      "text/html": [
       "<table class=\"simpletable\">\n",
       "<caption>OLS Regression Results</caption>\n",
       "<tr>\n",
       "  <th>Dep. Variable:</th>          <td>Sales</td>      <th>  R-squared:         </th> <td>   0.000</td>\n",
       "</tr>\n",
       "<tr>\n",
       "  <th>Model:</th>                   <td>OLS</td>       <th>  Adj. R-squared:    </th> <td>   0.000</td>\n",
       "</tr>\n",
       "<tr>\n",
       "  <th>Method:</th>             <td>Least Squares</td>  <th>  F-statistic:       </th> <td>     nan</td>\n",
       "</tr>\n",
       "<tr>\n",
       "  <th>Date:</th>             <td>Tue, 27 Apr 2021</td> <th>  Prob (F-statistic):</th>  <td>   nan</td> \n",
       "</tr>\n",
       "<tr>\n",
<<<<<<< HEAD
       "  <th>Time:</th>                 <td>17:15:02</td>     <th>  Log-Likelihood:    </th> <td> -613.69</td>\n",
=======
       "  <th>Time:</th>                 <td>12:21:20</td>     <th>  Log-Likelihood:    </th> <td> -613.69</td>\n",
>>>>>>> d6ea45aef3915597f0a9abeaf087f33c6da746ca
       "</tr>\n",
       "<tr>\n",
       "  <th>No. Observations:</th>      <td>   200</td>      <th>  AIC:               </th> <td>   1229.</td>\n",
       "</tr>\n",
       "<tr>\n",
       "  <th>Df Residuals:</th>          <td>   199</td>      <th>  BIC:               </th> <td>   1233.</td>\n",
       "</tr>\n",
       "<tr>\n",
       "  <th>Df Model:</th>              <td>     0</td>      <th>                     </th>     <td> </td>   \n",
       "</tr>\n",
       "<tr>\n",
       "  <th>Covariance Type:</th>      <td>nonrobust</td>    <th>                     </th>     <td> </td>   \n",
       "</tr>\n",
       "</table>\n",
       "<table class=\"simpletable\">\n",
       "<tr>\n",
       "      <td></td>         <th>coef</th>     <th>std err</th>      <th>t</th>      <th>P>|t|</th>  <th>[0.025</th>    <th>0.975]</th>  \n",
       "</tr>\n",
       "<tr>\n",
       "  <th>Intercept</th> <td>   14.0225</td> <td>    0.369</td> <td>   38.009</td> <td> 0.000</td> <td>   13.295</td> <td>   14.750</td>\n",
       "</tr>\n",
       "</table>\n",
       "<table class=\"simpletable\">\n",
       "<tr>\n",
       "  <th>Omnibus:</th>       <td> 7.344</td> <th>  Durbin-Watson:     </th> <td>   1.969</td>\n",
       "</tr>\n",
       "<tr>\n",
       "  <th>Prob(Omnibus):</th> <td> 0.025</td> <th>  Jarque-Bera (JB):  </th> <td>   6.985</td>\n",
       "</tr>\n",
       "<tr>\n",
       "  <th>Skew:</th>          <td> 0.405</td> <th>  Prob(JB):          </th> <td>  0.0304</td>\n",
       "</tr>\n",
       "<tr>\n",
       "  <th>Kurtosis:</th>      <td> 2.571</td> <th>  Cond. No.          </th> <td>    1.00</td>\n",
       "</tr>\n",
       "</table><br/><br/>Notes:<br/>[1] Standard Errors assume that the covariance matrix of the errors is correctly specified."
      ],
      "text/plain": [
       "<class 'statsmodels.iolib.summary.Summary'>\n",
       "\"\"\"\n",
       "                            OLS Regression Results                            \n",
       "==============================================================================\n",
       "Dep. Variable:                  Sales   R-squared:                       0.000\n",
       "Model:                            OLS   Adj. R-squared:                  0.000\n",
       "Method:                 Least Squares   F-statistic:                       nan\n",
       "Date:                Tue, 27 Apr 2021   Prob (F-statistic):                nan\n",
<<<<<<< HEAD
       "Time:                        17:15:02   Log-Likelihood:                -613.69\n",
=======
       "Time:                        12:21:20   Log-Likelihood:                -613.69\n",
>>>>>>> d6ea45aef3915597f0a9abeaf087f33c6da746ca
       "No. Observations:                 200   AIC:                             1229.\n",
       "Df Residuals:                     199   BIC:                             1233.\n",
       "Df Model:                           0                                         \n",
       "Covariance Type:            nonrobust                                         \n",
       "==============================================================================\n",
       "                 coef    std err          t      P>|t|      [0.025      0.975]\n",
       "------------------------------------------------------------------------------\n",
       "Intercept     14.0225      0.369     38.009      0.000      13.295      14.750\n",
       "==============================================================================\n",
       "Omnibus:                        7.344   Durbin-Watson:                   1.969\n",
       "Prob(Omnibus):                  0.025   Jarque-Bera (JB):                6.985\n",
       "Skew:                           0.405   Prob(JB):                       0.0304\n",
       "Kurtosis:                       2.571   Cond. No.                         1.00\n",
       "==============================================================================\n",
       "\n",
       "Notes:\n",
       "[1] Standard Errors assume that the covariance matrix of the errors is correctly specified.\n",
       "\"\"\""
      ]
     },
<<<<<<< HEAD
     "execution_count": 69,
=======
     "execution_count": 135,
>>>>>>> d6ea45aef3915597f0a9abeaf087f33c6da746ca
     "metadata": {},
     "output_type": "execute_result"
    }
   ],
   "source": [
    "results = smf.ols('Sales ~ 1', \n",
    "                  data=df_adv).fit()\n",
    "results.summary()"
   ]
  },
  {
   "cell_type": "markdown",
   "metadata": {},
   "source": [
    "### Forward stepwise selection\n",
    "\n",
    "Forward stepwise selection es una alternativa computacionalmente más eficiente que best subset selection, en la que no se evalúan todas las posibles combinaciones de predictores sino solo un subconjunto. El proceso se inicia generando el modelo nulo (M0) sin predictores. A continuación, se generan todos los posibles modelos que se pueden crear añadiendo un predictor al modelo nulo. De entre todos estos modelos con 1 predictor se selecciona el mejor basándose en el error de entrenamiento, al modelo elegido se denomina M1. Se repite el paso anterior, pero esta vez partiendo del último modelo seleccionado y así sucesivamente hasta llegar al modelo con todos los predictores. De entre los mejores modelos seleccionados para cada número de predictores (M0, M1, M2,…,Mk), se identifica el mejor, esta vez empleando una métrica de validación (validación cruzada, Cp, AIC, BIC o R2ajustado).\n",
    "\n",
    "Al crear modelos anidados, en los que el modelo k se construye a partir del modelo k−1, el método forward stepwise selection no garantiza que se seleccione el mejor modelo de entre todos los posibles, ya que no se evalúan todas las posibles combinaciones. Sin embargo, suele llegar a modelos óptimos consiguiendo un buen rendimiento computacional y evitando el overfitting. Otra ventaja añadida es que, forward stepwise selection puede emplearse incluso cuando el número de predictores es mayor que el de observaciones"
   ]
  },
  {
   "cell_type": "markdown",
   "metadata": {},
   "source": [
    "Primero:  \n",
    "1. Todos los modelos con una sola variable. Uno gana. Ganador A\n",
    "2. Añade a este modelo todas las variables, una por una. Uno gana. Ganador B \n",
    "3. Añade a este modelo todas las variables, una por una. Uno gana. Ganador C\n",
    "...\n",
    "...\n",
    "\n",
    "FIN: tomar el ganador entre A, B, C, D...\n",
    "\n",
    "Si R2 tiene dos decimales iguales, consideramos el modelo con más variables representativas."
   ]
  },
  {
   "cell_type": "markdown",
   "metadata": {},
   "source": [
    "## Problemas potenciales en la regresión lineal\n",
    "\n",
    "Los principales supuestos de un modelo lineal son:\n",
    "\n",
    "* Los datos son lineales \n",
    "* Los errores no están correlacionados\n",
    "* La varianza de los términos de error es constante\n",
    "\n",
    "¿Qué ocurre si no se cumplen estos supuestos? \n",
    "\n",
    "Además, nuestros modelos pueden sufrir otros problemas como:\n",
    "* Valores atípicos\n",
    "* Puntos de apalancamiento elevados\n",
    "* Colinealidad\n",
    "* Valores perdidos\n",
    "\n",
    "Ved este [vídeo](https://www.youtube.com/watch?v=hVe2F9krrWk) para una introducción al tema.     \n",
    "Leed la sección 3.3.3 del libro [Introducción al aprendizaje estadístico](http://faculty.marshall.usc.edu/gareth-james/ISL/ISLR%20Seventh%20Printing.pdf)."
   ]
  },
  {
   "cell_type": "markdown",
   "metadata": {},
   "source": [
    "![anscombe](../images/anscombe.png)"
   ]
  },
  {
   "cell_type": "markdown",
   "metadata": {},
   "source": [
    "Echa un ojo a [Wikipedia](https://en.wikipedia.org/wiki/Anscombe%27s_quartet) que dice que:       \n",
    "El cuarteto de Anscombe consta de cuatro conjuntos de datos que tienen estadísticas descriptivas simples casi idénticas, pero que tienen distribuciones muy diferentes y aparecen de forma muy distinta cuando se grafican. Cada conjunto de datos consta de once puntos (x,y). Fueron construidos en 1973 por el estadístico Francis Anscombe para demostrar tanto la importancia de graficar los datos antes de analizarlos como el efecto de los valores atípicos y otras observaciones influyentes en las propiedades estadísticas. Describió el artículo como un intento de contrarrestar la impresión entre los estadísticos de que \"los cálculos numéricos son exactos, pero los gráficos son toscos\""
   ]
  },
  {
   "cell_type": "markdown",
<<<<<<< HEAD
=======
   "id": "intimate-crime",
>>>>>>> d6ea45aef3915597f0a9abeaf087f33c6da746ca
   "metadata": {},
   "source": [
    "## Resumen "
   ]
  },
  {
   "cell_type": "markdown",
<<<<<<< HEAD
=======
   "id": "united-shuttle",
>>>>>>> d6ea45aef3915597f0a9abeaf087f33c6da746ca
   "metadata": {},
   "source": [
    "- Regresión lineal\n",
    "- Cómo sacar las betas\n",
    "- Estimar la bondad del modelo\n",
    "- Diferentes métricas OLS\n",
    "- Get dummies cuando son categóricas\n",
    "- Coeficientes de regresión\n",
    "- Regresión multivariable\n",
    "- Subset selection ¿con qué variables nos quedamos?\n",
    "- Cómo elegimos el mejor modelo\n",
    "- Contemplar la posibilidad de interacción entre variables (dominio de los datos, prueba - error)\n",
    "- Colinealidad entre variables (ojito) "
   ]
  },
  {
   "cell_type": "markdown",
<<<<<<< HEAD
=======
   "id": "competitive-enough",
>>>>>>> d6ea45aef3915597f0a9abeaf087f33c6da746ca
   "metadata": {},
   "source": [
    "## Further Materials \n",
    "\n",
    "* One example of [linear regression with the Boston data set](https://towardsdatascience.com/linear-regression-on-boston-housing-dataset-f409b7e4a155)"
   ]
  }
 ],
 "metadata": {
  "kernelspec": {
   "display_name": "Ironhack",
   "language": "python",
   "name": "ironhack"
  },
  "language_info": {
   "codemirror_mode": {
    "name": "ipython",
    "version": 3
   },
   "file_extension": ".py",
   "mimetype": "text/x-python",
   "name": "python",
   "nbconvert_exporter": "python",
   "pygments_lexer": "ipython3",
   "version": "3.7.7"
  },
  "toc": {
   "base_numbering": 1,
   "nav_menu": {},
   "number_sections": true,
   "sideBar": true,
   "skip_h1_title": true,
   "title_cell": "Table of Contents",
   "title_sidebar": "Contents",
   "toc_cell": true,
   "toc_position": {
    "height": "calc(100% - 180px)",
    "left": "10px",
    "top": "150px",
    "width": "288px"
   },
   "toc_section_display": true,
   "toc_window_display": true
  }
 },
 "nbformat": 4,
 "nbformat_minor": 5
}

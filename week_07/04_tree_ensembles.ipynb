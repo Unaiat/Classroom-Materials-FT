{
 "cells": [
  {
   "cell_type": "markdown",
   "metadata": {},
   "source": [
    "# Tree ensembles"
   ]
  },
  {
   "cell_type": "markdown",
   "metadata": {
    "toc": true
   },
   "source": [
    "<h1>Table of Contents<span class=\"tocSkip\"></span></h1>\n",
    "<div class=\"toc\"><ul class=\"toc-item\"><li><span><a href=\"#Bagging\" data-toc-modified-id=\"Bagging-1\"><span class=\"toc-item-num\">1&nbsp;&nbsp;</span>Bagging</a></span></li><li><span><a href=\"#Random-Forest\" data-toc-modified-id=\"Random-Forest-2\"><span class=\"toc-item-num\">2&nbsp;&nbsp;</span>Random Forest</a></span><ul class=\"toc-item\"><li><span><a href=\"#The-problem\" data-toc-modified-id=\"The-problem-2.1\"><span class=\"toc-item-num\">2.1&nbsp;&nbsp;</span>The problem</a></span><ul class=\"toc-item\"><li><span><a href=\"#The-metric\" data-toc-modified-id=\"The-metric-2.1.1\"><span class=\"toc-item-num\">2.1.1&nbsp;&nbsp;</span>The metric</a></span></li><li><span><a href=\"#Train-test-split\" data-toc-modified-id=\"Train-test-split-2.1.2\"><span class=\"toc-item-num\">2.1.2&nbsp;&nbsp;</span>Train test split</a></span></li><li><span><a href=\"#Logistic-regression\" data-toc-modified-id=\"Logistic-regression-2.1.3\"><span class=\"toc-item-num\">2.1.3&nbsp;&nbsp;</span>Logistic regression</a></span></li><li><span><a href=\"#Decision-tree-classifier\" data-toc-modified-id=\"Decision-tree-classifier-2.1.4\"><span class=\"toc-item-num\">2.1.4&nbsp;&nbsp;</span>Decision tree classifier</a></span></li><li><span><a href=\"#Decision-tree-classifier\" data-toc-modified-id=\"Decision-tree-classifier-2.1.5\"><span class=\"toc-item-num\">2.1.5&nbsp;&nbsp;</span>Decision tree classifier</a></span></li></ul></li></ul></li><li><span><a href=\"#Boosting\" data-toc-modified-id=\"Boosting-3\"><span class=\"toc-item-num\">3&nbsp;&nbsp;</span>Boosting</a></span></li><li><span><a href=\"#Gradient-Boosting\" data-toc-modified-id=\"Gradient-Boosting-4\"><span class=\"toc-item-num\">4&nbsp;&nbsp;</span>Gradient Boosting</a></span><ul class=\"toc-item\"><li><ul class=\"toc-item\"><li><span><a href=\"#Decision-tree-classifier\" data-toc-modified-id=\"Decision-tree-classifier-4.0.1\"><span class=\"toc-item-num\">4.0.1&nbsp;&nbsp;</span>Decision tree classifier</a></span></li></ul></li></ul></li><li><span><a href=\"#NOTE\" data-toc-modified-id=\"NOTE-5\"><span class=\"toc-item-num\">5&nbsp;&nbsp;</span>NOTE</a></span></li><li><span><a href=\"#Further-materials\" data-toc-modified-id=\"Further-materials-6\"><span class=\"toc-item-num\">6&nbsp;&nbsp;</span>Further materials</a></span></li></ul></div>"
   ]
  },
  {
   "cell_type": "code",
<<<<<<< HEAD
   "execution_count": 11,
=======
   "execution_count": 1,
>>>>>>> 5f86fe6cd7087fd71e8d78f3903801008ee6c49b
   "metadata": {},
   "outputs": [],
   "source": [
    "import pandas as pd\n",
    "import numpy as np"
   ]
  },
  {
   "cell_type": "code",
<<<<<<< HEAD
   "execution_count": 2,
=======
   "execution_count": 3,
>>>>>>> 5f86fe6cd7087fd71e8d78f3903801008ee6c49b
   "metadata": {},
   "outputs": [],
   "source": [
    "from sklearn.ensemble import RandomForestClassifier, GradientBoostingClassifier\n",
    "from sklearn.tree import DecisionTreeClassifier\n",
    "\n",
    "from sklearn.linear_model import LogisticRegression\n",
    "from sklearn.metrics import fbeta_score\n",
    "from sklearn.model_selection import train_test_split, GridSearchCV"
   ]
  },
  {
   "cell_type": "markdown",
   "metadata": {},
   "source": [
    "Ensemble models in ML are those that:\n",
    " * use several *weak learners* to\n",
    " * build an averaging model than behaves better than the individual ones"
   ]
  },
  {
   "cell_type": "markdown",
   "metadata": {},
   "source": [
    "## Bagging"
   ]
  },
  {
   "cell_type": "markdown",
   "metadata": {},
   "source": [
    "Bagging (Bootstrap Aggregation) is a Machine Learning tool used to:\n",
    " * improve the stability of an algorithm (robust to little changes in data)\n",
    " * reduce overfitting\n",
    " \n",
    "It consists on, given an original dataset $D$:\n",
    " 1. building different datasets $D_i$ from $D$, extracting samples with replacement (bootstraping)\n",
    " 2. and building a model for each dataset $D_i$\n",
    " 3. for finally averaging predictions in test phase (aggregating)"
   ]
  },
  {
   "cell_type": "markdown",
   "metadata": {},
   "source": [
    "<img width=600 src=\"https://upload.wikimedia.org/wikipedia/commons/thumb/c/c8/Ensemble_Bagging.svg/440px-Ensemble_Bagging.svg.png\">"
   ]
  },
  {
   "cell_type": "markdown",
   "metadata": {},
   "source": [
    "## Random Forest"
   ]
  },
  {
   "cell_type": "markdown",
   "metadata": {},
   "source": [
    "Random Forest applies the Bagging logic to build several decision trees"
   ]
  },
  {
   "cell_type": "markdown",
   "metadata": {},
   "source": [
    "<img width=600 src=\"https://cdn.analyticsvidhya.com/wp-content/uploads/2020/02/rfc_vs_dt1.png\">"
   ]
  },
  {
   "cell_type": "markdown",
   "metadata": {},
   "source": [
    "Lets build a simple Logistic Regression, a simple Decision Tree, and then look at the improvements with a Random Forest"
   ]
  },
  {
   "cell_type": "code",
<<<<<<< HEAD
   "execution_count": 3,
=======
   "execution_count": 4,
>>>>>>> 5f86fe6cd7087fd71e8d78f3903801008ee6c49b
   "metadata": {},
   "outputs": [],
   "source": [
    "df = pd.read_csv('../datasets/breast_cancer.csv')"
   ]
  },
  {
   "cell_type": "code",
<<<<<<< HEAD
   "execution_count": 4,
=======
   "execution_count": 5,
>>>>>>> 5f86fe6cd7087fd71e8d78f3903801008ee6c49b
   "metadata": {},
   "outputs": [
    {
     "data": {
      "text/plain": [
       "(569, 31)"
      ]
     },
<<<<<<< HEAD
     "execution_count": 4,
=======
     "execution_count": 5,
>>>>>>> 5f86fe6cd7087fd71e8d78f3903801008ee6c49b
     "metadata": {},
     "output_type": "execute_result"
    }
   ],
   "source": [
    "df.shape"
   ]
  },
  {
   "cell_type": "markdown",
   "metadata": {},
   "source": [
    "Steps to follow:"
   ]
  },
  {
   "cell_type": "markdown",
   "metadata": {},
   "source": [
    "### The problem"
   ]
  },
  {
   "cell_type": "markdown",
   "metadata": {},
   "source": [
    "1. Choose a metric that represents our notion of good fit\n",
    "2. Train-test split\n",
    "3. Train a logistic regression\n",
    "4. Train a decision tree\n",
    "5. Train a random forest\n",
    "6. Compare results"
   ]
  },
  {
   "cell_type": "markdown",
   "metadata": {},
   "source": [
    "#### The metric"
   ]
  },
  {
   "cell_type": "markdown",
   "metadata": {},
   "source": [
    "Will be f3 score for threshold 0.2: recall is 3x important than precision"
   ]
  },
  {
   "cell_type": "code",
   "execution_count": 6,
   "metadata": {},
   "outputs": [],
   "source": [
    "threshold = 0.2"
   ]
  },
  {
   "cell_type": "markdown",
   "metadata": {},
   "source": [
    "#### Train test split"
   ]
  },
  {
   "cell_type": "code",
   "execution_count": 7,
   "metadata": {},
   "outputs": [],
   "source": [
    "target = \"is_cancer\""
   ]
  },
  {
   "cell_type": "code",
   "execution_count": 8,
   "metadata": {},
   "outputs": [],
   "source": [
    "X = df.drop(target, axis=1)\n",
    "y = df[target]"
   ]
  },
  {
   "cell_type": "code",
   "execution_count": 9,
   "metadata": {},
   "outputs": [],
   "source": [
    "X_train, X_test, y_train, y_test = train_test_split(X, y, test_size=0.2, random_state=666)"
   ]
  },
  {
   "cell_type": "markdown",
   "metadata": {},
   "source": [
    "To have an intuition of what a good metric score is, lets evaluate a baseline model"
   ]
  },
  {
   "cell_type": "code",
<<<<<<< HEAD
   "execution_count": 12,
=======
   "execution_count": 10,
>>>>>>> 5f86fe6cd7087fd71e8d78f3903801008ee6c49b
   "metadata": {},
   "outputs": [
    {
     "data": {
      "text/plain": [
       "0.8712121212121212"
      ]
     },
<<<<<<< HEAD
     "execution_count": 12,
=======
     "execution_count": 10,
>>>>>>> 5f86fe6cd7087fd71e8d78f3903801008ee6c49b
     "metadata": {},
     "output_type": "execute_result"
    }
   ],
   "source": [
    "fbeta_score(\n",
    "    y_pred=np.ones(X_test.shape[0]),\n",
    "    y_true=y_test,\n",
    "    beta=3\n",
    ")"
   ]
  },
  {
   "cell_type": "markdown",
   "metadata": {},
   "source": [
    "#### Logistic regression"
   ]
  },
  {
   "cell_type": "code",
<<<<<<< HEAD
   "execution_count": 13,
=======
   "execution_count": 11,
>>>>>>> 5f86fe6cd7087fd71e8d78f3903801008ee6c49b
   "metadata": {},
   "outputs": [],
   "source": [
    "from sklearn.linear_model import LogisticRegression"
   ]
  },
  {
   "cell_type": "code",
<<<<<<< HEAD
   "execution_count": 14,
=======
   "execution_count": 12,
>>>>>>> 5f86fe6cd7087fd71e8d78f3903801008ee6c49b
   "metadata": {},
   "outputs": [],
   "source": [
    "log = LogisticRegression(max_iter=10000)"
   ]
  },
  {
   "cell_type": "code",
<<<<<<< HEAD
   "execution_count": 15,
=======
   "execution_count": 13,
>>>>>>> 5f86fe6cd7087fd71e8d78f3903801008ee6c49b
   "metadata": {},
   "outputs": [
    {
     "data": {
      "text/plain": [
       "LogisticRegression(max_iter=10000)"
      ]
     },
<<<<<<< HEAD
     "execution_count": 15,
=======
     "execution_count": 13,
>>>>>>> 5f86fe6cd7087fd71e8d78f3903801008ee6c49b
     "metadata": {},
     "output_type": "execute_result"
    }
   ],
   "source": [
    "log.fit(X_train, y_train)"
   ]
  },
  {
   "cell_type": "code",
<<<<<<< HEAD
   "execution_count": 16,
=======
   "execution_count": 14,
>>>>>>> 5f86fe6cd7087fd71e8d78f3903801008ee6c49b
   "metadata": {},
   "outputs": [],
   "source": [
    "log_test_score = fbeta_score(\n",
    "    y_pred=log.predict_proba(X_test)[:, 1] > threshold,\n",
    "    y_true=y_test,\n",
    "    beta=3\n",
    ")"
   ]
  },
  {
   "cell_type": "code",
<<<<<<< HEAD
   "execution_count": 17,
=======
   "execution_count": 15,
>>>>>>> 5f86fe6cd7087fd71e8d78f3903801008ee6c49b
   "metadata": {},
   "outputs": [
    {
     "name": "stdout",
     "output_type": "stream",
     "text": [
      "The test score with logistic regression is 0.944\n"
     ]
    }
   ],
   "source": [
    "print(f\"The test score with logistic regression is {log_test_score.round(3)}\")"
   ]
  },
  {
   "cell_type": "markdown",
   "metadata": {},
   "source": [
    "#### Decision tree classifier"
   ]
  },
  {
   "cell_type": "code",
<<<<<<< HEAD
   "execution_count": 18,
=======
   "execution_count": 16,
>>>>>>> 5f86fe6cd7087fd71e8d78f3903801008ee6c49b
   "metadata": {},
   "outputs": [],
   "source": [
    "from sklearn.tree import DecisionTreeClassifier"
   ]
  },
  {
   "cell_type": "code",
<<<<<<< HEAD
   "execution_count": 34,
=======
   "execution_count": 61,
>>>>>>> 5f86fe6cd7087fd71e8d78f3903801008ee6c49b
   "metadata": {},
   "outputs": [],
   "source": [
    "tree = DecisionTreeClassifier(max_depth=6)"
   ]
  },
  {
   "cell_type": "code",
<<<<<<< HEAD
   "execution_count": 35,
=======
   "execution_count": 62,
>>>>>>> 5f86fe6cd7087fd71e8d78f3903801008ee6c49b
   "metadata": {},
   "outputs": [
    {
     "data": {
      "text/plain": [
       "DecisionTreeClassifier(max_depth=6)"
      ]
     },
<<<<<<< HEAD
     "execution_count": 35,
=======
     "execution_count": 62,
>>>>>>> 5f86fe6cd7087fd71e8d78f3903801008ee6c49b
     "metadata": {},
     "output_type": "execute_result"
    }
   ],
   "source": [
    "tree.fit(X_train, y_train)"
   ]
  },
  {
   "cell_type": "code",
<<<<<<< HEAD
   "execution_count": 36,
=======
   "execution_count": 63,
>>>>>>> 5f86fe6cd7087fd71e8d78f3903801008ee6c49b
   "metadata": {},
   "outputs": [],
   "source": [
    "tree_test_score = fbeta_score(\n",
    "    y_pred=tree.predict_proba(X_test)[:, 1] > threshold,\n",
    "    y_true=y_test,\n",
    "    beta=3\n",
    ")"
   ]
  },
  {
   "cell_type": "code",
<<<<<<< HEAD
   "execution_count": 37,
=======
   "execution_count": 64,
>>>>>>> 5f86fe6cd7087fd71e8d78f3903801008ee6c49b
   "metadata": {},
   "outputs": [
    {
     "name": "stdout",
     "output_type": "stream",
     "text": [
<<<<<<< HEAD
      "The test score with decision tree is 0.968\n"
=======
      "The test score with decision tree is 0.9677\n"
>>>>>>> 5f86fe6cd7087fd71e8d78f3903801008ee6c49b
     ]
    }
   ],
   "source": [
    "print(f\"The test score with decision tree is {tree_test_score.round(4)}\")"
   ]
  },
  {
   "cell_type": "code",
<<<<<<< HEAD
   "execution_count": 38,
=======
   "execution_count": 65,
>>>>>>> 5f86fe6cd7087fd71e8d78f3903801008ee6c49b
   "metadata": {},
   "outputs": [],
   "source": [
    "from sklearn.tree import plot_tree"
   ]
  },
  {
   "cell_type": "code",
<<<<<<< HEAD
   "execution_count": 39,
=======
   "execution_count": 66,
>>>>>>> 5f86fe6cd7087fd71e8d78f3903801008ee6c49b
   "metadata": {},
   "outputs": [],
   "source": [
    "import matplotlib.pyplot as plt"
   ]
  },
  {
   "cell_type": "code",
<<<<<<< HEAD
   "execution_count": 40,
=======
   "execution_count": 67,
>>>>>>> 5f86fe6cd7087fd71e8d78f3903801008ee6c49b
   "metadata": {},
   "outputs": [
    {
     "data": {
<<<<<<< HEAD
      "image/png": "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\n",
=======
      "image/png": "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\n",
>>>>>>> 5f86fe6cd7087fd71e8d78f3903801008ee6c49b
      "text/plain": [
       "<Figure size 1080x720 with 1 Axes>"
      ]
     },
     "metadata": {
      "needs_background": "light"
     },
     "output_type": "display_data"
    }
   ],
   "source": [
    "fig = plt.figure(figsize=(15, 10))\n",
    "plot_tree(tree, feature_names=df.columns[:-1], filled=True);"
   ]
  },
  {
   "cell_type": "code",
   "execution_count": null,
   "metadata": {},
   "outputs": [],
   "source": [
    "fig.savefig(\"classif_cancer.svg\")"
   ]
  },
  {
   "cell_type": "markdown",
   "metadata": {},
   "source": [
    "#### Decision tree classifier"
   ]
  },
  {
   "cell_type": "code",
<<<<<<< HEAD
   "execution_count": 41,
=======
   "execution_count": 68,
>>>>>>> 5f86fe6cd7087fd71e8d78f3903801008ee6c49b
   "metadata": {},
   "outputs": [],
   "source": [
    "from sklearn.ensemble import RandomForestClassifier"
   ]
  },
  {
   "cell_type": "markdown",
   "metadata": {},
   "source": [
    " * n_estimators: number of trees\n",
    " * max_depth: max depth of tree\n",
    " * max_features: number of variables to use in each tree (will change across trees)"
   ]
  },
  {
   "cell_type": "code",
<<<<<<< HEAD
   "execution_count": 42,
   "metadata": {},
   "outputs": [],
   "source": [
    "rf = RandomForestClassifier(n_estimators=100, max_depth=6, max_features=20)"
=======
   "execution_count": 81,
   "metadata": {},
   "outputs": [],
   "source": [
    "rf = RandomForestClassifier(n_estimators=200, max_depth=8, max_features=30)"
>>>>>>> 5f86fe6cd7087fd71e8d78f3903801008ee6c49b
   ]
  },
  {
   "cell_type": "code",
<<<<<<< HEAD
   "execution_count": 43,
=======
   "execution_count": 82,
>>>>>>> 5f86fe6cd7087fd71e8d78f3903801008ee6c49b
   "metadata": {},
   "outputs": [
    {
     "data": {
      "text/plain": [
<<<<<<< HEAD
       "RandomForestClassifier(max_depth=6, max_features=20)"
      ]
     },
     "execution_count": 43,
=======
       "RandomForestClassifier(max_depth=8, max_features=30, n_estimators=200)"
      ]
     },
     "execution_count": 82,
>>>>>>> 5f86fe6cd7087fd71e8d78f3903801008ee6c49b
     "metadata": {},
     "output_type": "execute_result"
    }
   ],
   "source": [
    "rf.fit(X_train, y_train)"
   ]
  },
  {
   "cell_type": "code",
<<<<<<< HEAD
   "execution_count": 44,
=======
   "execution_count": 83,
>>>>>>> 5f86fe6cd7087fd71e8d78f3903801008ee6c49b
   "metadata": {},
   "outputs": [],
   "source": [
    "rf_test_score = fbeta_score(\n",
    "    y_pred=rf.predict_proba(X_test)[:, 1] > threshold,\n",
    "    y_true=y_test,\n",
    "    beta=3\n",
    ")"
   ]
  },
  {
   "cell_type": "code",
<<<<<<< HEAD
   "execution_count": 45,
=======
   "execution_count": 84,
>>>>>>> 5f86fe6cd7087fd71e8d78f3903801008ee6c49b
   "metadata": {},
   "outputs": [
    {
     "name": "stdout",
     "output_type": "stream",
     "text": [
      "The test score with random forest is 0.959\n"
     ]
    }
   ],
   "source": [
    "print(f\"The test score with random forest is {rf_test_score.round(3)}\")"
   ]
  },
  {
   "cell_type": "markdown",
   "metadata": {},
   "source": [
    "## Boosting"
   ]
  },
  {
   "cell_type": "markdown",
   "metadata": {},
   "source": [
    "Boosting is another ensemble technique to create a collection of predictors. In this case:\n",
    " * learners (models) are built sequentially\n",
    " * early learners fit simple models to the data\n",
    " * errors are analyzed and taken into account for the subsequent model construction \n",
    " * each tree tries to correct the mistakes of the previous one"
   ]
  },
  {
   "cell_type": "markdown",
   "metadata": {},
   "source": [
    "<img width=600 src=\"https://iq.opengenus.org/content/images/2020/01/boosted-trees-process.png\">"
   ]
  },
  {
   "cell_type": "markdown",
   "metadata": {},
   "source": [
    "## Gradient Boosting"
   ]
  },
  {
   "cell_type": "markdown",
   "metadata": {},
   "source": [
    "Gradient Boosting applies Boosting logic (apart from Bagging) to build several decision trees."
   ]
  },
  {
   "cell_type": "markdown",
   "metadata": {},
   "source": [
    "It fits **consecutive** trees and, at every step\n",
    " * weights the data samples differently\n",
    " * to focus on the most difficult entries to be predicted"
   ]
  },
  {
   "cell_type": "markdown",
   "metadata": {},
   "source": [
    "#### Decision tree classifier"
   ]
  },
  {
   "cell_type": "code",
<<<<<<< HEAD
   "execution_count": 46,
=======
   "execution_count": 86,
>>>>>>> 5f86fe6cd7087fd71e8d78f3903801008ee6c49b
   "metadata": {},
   "outputs": [],
   "source": [
    "from sklearn.ensemble import GradientBoostingClassifier"
   ]
  },
  {
   "cell_type": "markdown",
   "metadata": {},
   "source": [
    " * n_estimators: number of trees\n",
    " * max_depth: max depth of tree\n",
    " * max_features: number of variables to use in each tree (will change across trees)"
   ]
  },
  {
   "cell_type": "code",
<<<<<<< HEAD
   "execution_count": 60,
   "metadata": {},
   "outputs": [],
   "source": [
    "gb = GradientBoostingClassifier(n_estimators=500, max_depth=8, max_features=30)"
=======
   "execution_count": 110,
   "metadata": {},
   "outputs": [],
   "source": [
    "gb = GradientBoostingClassifier(n_estimators=400, max_depth=8, max_features=30)"
>>>>>>> 5f86fe6cd7087fd71e8d78f3903801008ee6c49b
   ]
  },
  {
   "cell_type": "code",
<<<<<<< HEAD
   "execution_count": 61,
=======
   "execution_count": 111,
>>>>>>> 5f86fe6cd7087fd71e8d78f3903801008ee6c49b
   "metadata": {},
   "outputs": [
    {
     "data": {
      "text/plain": [
<<<<<<< HEAD
       "GradientBoostingClassifier(max_depth=8, max_features=30, n_estimators=500)"
      ]
     },
     "execution_count": 61,
=======
       "GradientBoostingClassifier(max_depth=8, max_features=30, n_estimators=400)"
      ]
     },
     "execution_count": 111,
>>>>>>> 5f86fe6cd7087fd71e8d78f3903801008ee6c49b
     "metadata": {},
     "output_type": "execute_result"
    }
   ],
   "source": [
    "gb.fit(X_train, y_train)"
   ]
  },
  {
   "cell_type": "code",
<<<<<<< HEAD
   "execution_count": 62,
=======
   "execution_count": 112,
>>>>>>> 5f86fe6cd7087fd71e8d78f3903801008ee6c49b
   "metadata": {},
   "outputs": [],
   "source": [
    "gb_test_score = fbeta_score(\n",
    "    y_pred=gb.predict_proba(X_test)[:, 1] > threshold,\n",
    "    y_true=y_test,\n",
    "    beta=3\n",
    ")"
   ]
  },
  {
   "cell_type": "code",
<<<<<<< HEAD
   "execution_count": 63,
=======
   "execution_count": 113,
>>>>>>> 5f86fe6cd7087fd71e8d78f3903801008ee6c49b
   "metadata": {},
   "outputs": [
    {
     "name": "stdout",
     "output_type": "stream",
     "text": [
<<<<<<< HEAD
      "The test score with gradient boosting is 0.97\n"
=======
      "The test score with gradient boosting is 0.9657\n"
>>>>>>> 5f86fe6cd7087fd71e8d78f3903801008ee6c49b
     ]
    }
   ],
   "source": [
    "print(f\"The test score with gradient boosting is {gb_test_score.round(4)}\")"
   ]
  },
  {
   "cell_type": "markdown",
   "metadata": {},
   "source": [
<<<<<<< HEAD
    "What a pity, our Random Forest or Gradient boosting didn't improve Decision Tree results considerably.  \n",
    "This is not the general case: normally they perform better!!"
=======
    "What a pity, our Random Forest or Gradient boosting didn't improve Decision Tree results considerably.   \n",
    "This is not the general case: normally they perform much better!!"
>>>>>>> 5f86fe6cd7087fd71e8d78f3903801008ee6c49b
   ]
  },
  {
   "cell_type": "markdown",
   "metadata": {},
   "source": [
    "We still can do GridSearchCV to find best hyperparams, and maybe improve the results!"
   ]
  },
  {
   "cell_type": "markdown",
   "metadata": {},
   "source": [
    "## NOTE"
   ]
  },
  {
   "cell_type": "markdown",
   "metadata": {},
   "source": [
    " * Random Forests **can** be trained in a parallel manner: if you build 1000 trees, you can do it in different machines\n",
    " * Gradient Boosting **cannot** be trained in a parallel manner: trees are built sequentially"
   ]
  },
  {
   "cell_type": "markdown",
   "metadata": {},
   "source": [
    "## Further materials"
   ]
  },
  {
   "cell_type": "markdown",
   "metadata": {},
   "source": [
    "See [this post](https://towardsdatascience.com/decision-tree-ensembles-bagging-and-boosting-266a8ba60fd9) for an overview of the theory of Tree ensembles"
   ]
  },
  {
   "cell_type": "markdown",
   "metadata": {},
   "source": [
    "[See StatQuest Gradient Boosting](https://www.youtube.com/watch?v=3CC4N4z3GJc)"
   ]
  },
  {
   "cell_type": "markdown",
   "metadata": {},
   "source": [
    "[XGBoost](https://medium.com/@jboscomendoza/tutorial-xgboost-en-python-53e48fc58f73)"
   ]
  },
  {
   "cell_type": "markdown",
   "metadata": {},
   "source": [
    "* [Introduction to Statistical Learning ISL (Chapter 2)](http://faculty.marshall.usc.edu/gareth-james/ISL/ISLR%20Seventh%20Printing.pdf)\n",
    "* [repo from tdpetrou with materials from ISL](https://github.com/tdpetrou/Machine-Learning-Books-With-Python/tree/master/Introduction%20to%20Statistical%20Learning)\n",
    "\n",
    "* CheckOut: XGBoost, LightGBM, CatBoost\n"
   ]
  }
 ],
 "metadata": {
  "kernelspec": {
   "display_name": "Python 3",
   "language": "python",
   "name": "python3"
  },
  "language_info": {
   "codemirror_mode": {
    "name": "ipython",
    "version": 3
   },
   "file_extension": ".py",
   "mimetype": "text/x-python",
   "name": "python",
   "nbconvert_exporter": "python",
   "pygments_lexer": "ipython3",
   "version": "3.8.5"
  },
  "toc": {
   "base_numbering": 1,
   "nav_menu": {
    "height": "145.994px",
    "width": "198.991px"
   },
   "number_sections": true,
   "sideBar": true,
   "skip_h1_title": true,
   "title_cell": "Table of Contents",
   "title_sidebar": "Contents",
   "toc_cell": true,
   "toc_position": {
    "height": "calc(100% - 180px)",
    "left": "10px",
    "top": "150px",
    "width": "216.094px"
   },
   "toc_section_display": true,
   "toc_window_display": true
  },
  "varInspector": {
   "cols": {
    "lenName": 16,
    "lenType": 16,
    "lenVar": 40
   },
   "kernels_config": {
    "python": {
     "delete_cmd_postfix": "",
     "delete_cmd_prefix": "del ",
     "library": "var_list.py",
     "varRefreshCmd": "print(var_dic_list())"
    },
    "r": {
     "delete_cmd_postfix": ") ",
     "delete_cmd_prefix": "rm(",
     "library": "var_list.r",
     "varRefreshCmd": "cat(var_dic_list()) "
    }
   },
   "types_to_exclude": [
    "module",
    "function",
    "builtin_function_or_method",
    "instance",
    "_Feature"
   ],
   "window_display": false
  }
 },
 "nbformat": 4,
 "nbformat_minor": 4
}

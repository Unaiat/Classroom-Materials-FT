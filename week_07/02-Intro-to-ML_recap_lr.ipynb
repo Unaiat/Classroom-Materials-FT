{
 "cells": [
  {
   "cell_type": "markdown",
   "metadata": {},
   "source": [
    "# Introducción Machine Learning"
   ]
  },
  {
   "cell_type": "markdown",
   "metadata": {},
   "source": [
    "![elgifderigor](https://media.giphy.com/media/NsBknNwmmWE8WU1q2U/giphy.gif)"
   ]
  },
  {
   "cell_type": "markdown",
   "metadata": {
    "toc": true
   },
   "source": [
    "<h1>Table of Contents<span class=\"tocSkip\"></span></h1>\n",
    "<div class=\"toc\"><ul class=\"toc-item\"><li><span><a href=\"#Algunos-conceptos\" data-toc-modified-id=\"Algunos-conceptos-1\"><span class=\"toc-item-num\">1&nbsp;&nbsp;</span>Algunos conceptos</a></span><ul class=\"toc-item\"><li><span><a href=\"#Estimadores\" data-toc-modified-id=\"Estimadores-1.1\"><span class=\"toc-item-num\">1.1&nbsp;&nbsp;</span>Estimadores</a></span></li><li><span><a href=\"#Error-de-Bias\" data-toc-modified-id=\"Error-de-Bias-1.2\"><span class=\"toc-item-num\">1.2&nbsp;&nbsp;</span>Error de Bias</a></span></li><li><span><a href=\"#Error-de-Varianza\" data-toc-modified-id=\"Error-de-Varianza-1.3\"><span class=\"toc-item-num\">1.3&nbsp;&nbsp;</span>Error de Varianza</a></span></li></ul></li><li><span><a href=\"#Tipos-de-Aprendizaje-Automático\" data-toc-modified-id=\"Tipos-de-Aprendizaje-Automático-2\"><span class=\"toc-item-num\">2&nbsp;&nbsp;</span>Tipos de Aprendizaje Automático</a></span></li><li><span><a href=\"#Features\" data-toc-modified-id=\"Features-3\"><span class=\"toc-item-num\">3&nbsp;&nbsp;</span>Features</a></span></li><li><span><a href=\"#Underfitting-y-Overfitting\" data-toc-modified-id=\"Underfitting-y-Overfitting-4\"><span class=\"toc-item-num\">4&nbsp;&nbsp;</span>Underfitting y Overfitting</a></span></li><li><span><a href=\"#¿Manos-a-la-obra?\" data-toc-modified-id=\"¿Manos-a-la-obra?-5\"><span class=\"toc-item-num\">5&nbsp;&nbsp;</span>¿Manos a la obra?</a></span><ul class=\"toc-item\"><li><span><a href=\"#Practicamos-ML-con-un-ejemplo-de-regresión\" data-toc-modified-id=\"Practicamos-ML-con-un-ejemplo-de-regresión-5.1\"><span class=\"toc-item-num\">5.1&nbsp;&nbsp;</span>Practicamos ML con un ejemplo de regresión</a></span></li><li><span><a href=\"#Cargamos-un-dataset-(aunque-ya-nos-resulta-famliar)\" data-toc-modified-id=\"Cargamos-un-dataset-(aunque-ya-nos-resulta-famliar)-5.2\"><span class=\"toc-item-num\">5.2&nbsp;&nbsp;</span>Cargamos un dataset (aunque ya nos resulta famliar)</a></span></li><li><span><a href=\"#Train-/-Test-Split-¿Esto-qué-es?\" data-toc-modified-id=\"Train-/-Test-Split-¿Esto-qué-es?-5.3\"><span class=\"toc-item-num\">5.3&nbsp;&nbsp;</span>Train / Test Split ¿Esto qué es?</a></span></li><li><span><a href=\"#Preparación-de-los-datos-para-train-test-split\" data-toc-modified-id=\"Preparación-de-los-datos-para-train-test-split-5.4\"><span class=\"toc-item-num\">5.4&nbsp;&nbsp;</span>Preparación de los datos para train test split</a></span></li><li><span><a href=\"#Parámetros-opcionales-del-train-test-split\" data-toc-modified-id=\"Parámetros-opcionales-del-train-test-split-5.5\"><span class=\"toc-item-num\">5.5&nbsp;&nbsp;</span>Parámetros opcionales del train test split</a></span></li><li><span><a href=\"#Ya-tenemos-el-dataset-dividido,-ahora-vamos-a-importar-un-modelo-y-entrenarlo\" data-toc-modified-id=\"Ya-tenemos-el-dataset-dividido,-ahora-vamos-a-importar-un-modelo-y-entrenarlo-5.6\"><span class=\"toc-item-num\">5.6&nbsp;&nbsp;</span>Ya tenemos el dataset dividido, ahora vamos a importar un modelo y entrenarlo</a></span></li><li><span><a href=\"#Creamos-nuestras-predicciones\" data-toc-modified-id=\"Creamos-nuestras-predicciones-5.7\"><span class=\"toc-item-num\">5.7&nbsp;&nbsp;</span>Creamos nuestras predicciones</a></span></li><li><span><a href=\"#Medimos-nuestro-modelo\" data-toc-modified-id=\"Medimos-nuestro-modelo-5.8\"><span class=\"toc-item-num\">5.8&nbsp;&nbsp;</span>Medimos nuestro modelo</a></span></li></ul></li><li><span><a href=\"#Extra!-Entrenando-diferentes-modelos-a-la-vez\" data-toc-modified-id=\"Extra!-Entrenando-diferentes-modelos-a-la-vez-6\"><span class=\"toc-item-num\">6&nbsp;&nbsp;</span>Extra! Entrenando diferentes modelos a la vez</a></span><ul class=\"toc-item\"><li><span><a href=\"#Almacenamos-todos-los-modelos-que-vamos-a-entrenar-en-un-diccionario\" data-toc-modified-id=\"Almacenamos-todos-los-modelos-que-vamos-a-entrenar-en-un-diccionario-6.1\"><span class=\"toc-item-num\">6.1&nbsp;&nbsp;</span>Almacenamos todos los modelos que vamos a entrenar en un diccionario</a></span></li><li><span><a href=\"#Iteramos-sobre-los-modelos-para-entrenarlos\" data-toc-modified-id=\"Iteramos-sobre-los-modelos-para-entrenarlos-6.2\"><span class=\"toc-item-num\">6.2&nbsp;&nbsp;</span>Iteramos sobre los modelos para entrenarlos</a></span></li></ul></li><li><span><a href=\"#Cross-Validation\" data-toc-modified-id=\"Cross-Validation-7\"><span class=\"toc-item-num\">7&nbsp;&nbsp;</span>Cross-Validation</a></span><ul class=\"toc-item\"><li><span><a href=\"#Hacemos-CV-a-un-solo-modelo\" data-toc-modified-id=\"Hacemos-CV-a-un-solo-modelo-7.1\"><span class=\"toc-item-num\">7.1&nbsp;&nbsp;</span>Hacemos CV a un solo modelo</a></span></li><li><span><a href=\"#CV-iterando-por-todos-los-modelos\" data-toc-modified-id=\"CV-iterando-por-todos-los-modelos-7.2\"><span class=\"toc-item-num\">7.2&nbsp;&nbsp;</span>CV iterando por todos los modelos</a></span></li></ul></li><li><span><a href=\"#Summmary\" data-toc-modified-id=\"Summmary-8\"><span class=\"toc-item-num\">8&nbsp;&nbsp;</span>Summmary</a></span></li></ul></div>"
   ]
  },
  {
   "cell_type": "markdown",
   "metadata": {},
   "source": [
    "## Algunos conceptos\n",
    "Para entender cómo un algoritmo de aprendizaje automático aprende de los datos para predecir un resultado, es esencial comprender los conceptos subyacentes que intervienen en el entrenamiento de un algoritmo."
   ]
  },
  {
   "cell_type": "markdown",
   "metadata": {},
   "source": [
    "### Estimadores\n",
    "La estimación es un término estadístico para encontrar alguna estimación de un parámetro desconocido, dados algunos datos. La estimación puntual es el intento de proporcionar la mejor predicción de alguna cantidad de interés.\n",
    "La cantidad de interés puede ser: \n",
    " - Un único parámetro\n",
    " - Un vector de parámetros - por ejemplo, los pesos en la regresión lineal \n",
    " - Una función completa\n",
    "\n",
    "### Error de Bias\n",
    "\n",
    "Es la diferencia entre la predicción esperada de nuestro modelo y los valores verdaderos. Aunque al final nuestro objetivo es siempre construir modelos que puedan predecir datos muy cercanos a los valores verdaderos, no siempre es tan fácil porque algunos algoritmos son simplemente demasiado rígidos para aprender señales complejas del conjunto de datos.\n",
    "\n",
    "Imagina ajustar una regresión lineal a un conjunto de datos que tiene un patrón no lineal, no importa cuántas observaciones más recopiles, una regresión lineal no podrá modelar las curvas en esos datos. Esto se conoce como ajuste insuficiente.\n",
    "\n",
    "En general, los algoritmos paramétricos como la regresión lineal, tienen un alto bias que los hace rápidos de aprender y más fácil de entender, pero generalmente menos flexibles. A su vez, tienen un menor rendimiento predictivo en problemas complejos.\n",
    "\n",
    "### Error de Varianza\n",
    "\n",
    "Se refiere a la cantidad que la estimación de la función objetivo cambiará si se utiliza diferentes datos de entrenamiento. La función objetivo se estima a partir de los datos de entrenamiento mediante un algoritmo de Machine Learning, por lo que deberíamos esperar que el algoritmo tenga alguna variación. Idealmente no debería cambiar demasiado de un conjunto de datos de entrenamiento a otro, lo que significa que el algoritmo es bueno para elegir el mapeo subyacente oculto entre las variables de entrada y de salida.\n",
    "\n",
    "Los algoritmos de Machine Learning que tienen una gran varianza están fuertemente influenciados por los detalles de los datos de entrenamiento, esto significa que los detalles de la capacitación influyen en el número y los tipos de parámetros utilizados para caracterizar la función de mapeo.\n",
    "\n",
    "Generalmente, los algoritmos de Machine Learning no paramétrico que tienen mucha flexibilidad tienen una gran variación.\n",
    "\n",
    "- Varianza baja: sugiere pequeños cambios en la estimación de la función objetivo con cambios en el conjunto de datos de capacitación.\n",
    "- Alta varianza: sugiere grandes cambios en la estimación de la función objetivo con cambios en el conjunto de datos de capacitación.\n",
    "Los algoritmos de Machine Learning con baja varianza incluyen: regresión lineal, análisis discriminante lineal y regresión logística.\n",
    "\n",
    "Por su parte, los algoritmos con alta varianza son: árboles de decisión, k-vecinos más cercanos y máquinas de vectores de soporte."
   ]
  },
  {
   "cell_type": "markdown",
   "metadata": {},
   "source": [
    "## Tipos de Aprendizaje Automático\n",
    "**- Supervisado**      \n",
    "El modelo se entrena con datos etiquetados, es decir, con datos cuya verdad básica se conoce. Cuando se le presentan datos y una etiqueta, el modelo infiere patrones.      \n",
    "**- No supervisado**          \n",
    "No hay verdades básicas. El modelo busca patrones no detectados previamente, con los que separar los distintos puntos de datos en diferentes clusters.\n",
    "**- Refuerzo**    \n",
    "Tampoco existe una verdad de base. La acción del modelo se valora y se da una recompensa o un castigo en consecuencia. El objetivo del modelo es obtener el mayor número de recompensas posible."
   ]
  },
  {
   "cell_type": "markdown",
   "metadata": {},
   "source": [
    "## Features\n",
    "Las **Features** son variables individuales independientes que actúan como entrada en su sistema. Los modelos de predicción utilizan características para\n",
    "hacer predicciones.      \n",
    "**Objetivo**        \n",
    "El objetivo es la salida de las variables de entrada. Pueden ser las clases individuales a las que se asignan las variables de entrada en el caso de un problema de clasificación o el rango de valores de salida en un problema de regresión."
   ]
  },
  {
   "cell_type": "markdown",
   "metadata": {},
   "source": [
    "## Underfitting y Overfitting  \n",
    "Dividir un conjunto de datos también puede ser importante para detectar si su modelo sufre uno de los dos problemas más comunes, denominados infraajuste y sobreajuste:\n",
    "\n",
    "El **underfitting** suele ser la consecuencia de que un modelo sea incapaz de encapsular las relaciones entre los datos. Por ejemplo, esto puede ocurrir cuando se intenta representar relaciones no lineales con un modelo lineal. Los modelos infraajustados probablemente tendrán un rendimiento pobre tanto en los conjuntos de entrenamiento como en los de prueba.\n",
    "\n",
    "El **overfitting** suele tener lugar cuando un modelo tiene una estructura excesivamente compleja y aprende tanto las relaciones existentes entre los datos como el ruido. Estos modelos suelen tener una mala capacidad de generalización. Aunque funcionan bien con los datos de entrenamiento, suelen tener un rendimiento pobre con los datos no vistos (de prueba)."
   ]
  },
  {
   "cell_type": "markdown",
   "metadata": {},
   "source": [
    "## ¿Manos a la obra?"
   ]
  },
  {
   "cell_type": "markdown",
   "metadata": {},
   "source": [
    "### Practicamos ML con un ejemplo de regresión"
   ]
  },
  {
   "cell_type": "code",
<<<<<<< HEAD
   "execution_count": 2,
=======
   "execution_count": 1,
   "id": "legitimate-hypothesis",
>>>>>>> c3580214bac0ff2e75602fa6e45e43cc814299f3
   "metadata": {},
   "outputs": [],
   "source": [
    "import pandas as pd\n",
    "from sklearn.datasets import load_boston\n",
    "import numpy as np"
   ]
  },
  {
   "cell_type": "markdown",
   "metadata": {},
   "source": [
    "### Cargamos un dataset (aunque ya nos resulta famliar)"
   ]
  },
  {
   "cell_type": "code",
<<<<<<< HEAD
   "execution_count": 5,
=======
   "execution_count": 3,
   "id": "respiratory-elite",
>>>>>>> c3580214bac0ff2e75602fa6e45e43cc814299f3
   "metadata": {},
   "outputs": [
    {
     "data": {
      "text/html": [
       "<div>\n",
       "<style scoped>\n",
       "    .dataframe tbody tr th:only-of-type {\n",
       "        vertical-align: middle;\n",
       "    }\n",
       "\n",
       "    .dataframe tbody tr th {\n",
       "        vertical-align: top;\n",
       "    }\n",
       "\n",
       "    .dataframe thead th {\n",
       "        text-align: right;\n",
       "    }\n",
       "</style>\n",
       "<table border=\"1\" class=\"dataframe\">\n",
       "  <thead>\n",
       "    <tr style=\"text-align: right;\">\n",
       "      <th></th>\n",
       "      <th>CRIM</th>\n",
       "      <th>ZN</th>\n",
       "      <th>INDUS</th>\n",
       "      <th>CHAS</th>\n",
       "      <th>NOX</th>\n",
       "      <th>RM</th>\n",
       "      <th>AGE</th>\n",
       "      <th>DIS</th>\n",
       "      <th>RAD</th>\n",
       "      <th>TAX</th>\n",
       "      <th>PTRATIO</th>\n",
       "      <th>B</th>\n",
       "      <th>LSTAT</th>\n",
       "      <th>MEDV</th>\n",
       "    </tr>\n",
       "  </thead>\n",
       "  <tbody>\n",
       "    <tr>\n",
       "      <th>0</th>\n",
       "      <td>0.00632</td>\n",
       "      <td>18.0</td>\n",
       "      <td>2.31</td>\n",
       "      <td>0.0</td>\n",
       "      <td>0.538</td>\n",
       "      <td>6.575</td>\n",
       "      <td>65.2</td>\n",
       "      <td>4.0900</td>\n",
       "      <td>1.0</td>\n",
       "      <td>296.0</td>\n",
       "      <td>15.3</td>\n",
       "      <td>396.90</td>\n",
       "      <td>4.98</td>\n",
       "      <td>24.0</td>\n",
       "    </tr>\n",
       "    <tr>\n",
       "      <th>1</th>\n",
       "      <td>0.02731</td>\n",
       "      <td>0.0</td>\n",
       "      <td>7.07</td>\n",
       "      <td>0.0</td>\n",
       "      <td>0.469</td>\n",
       "      <td>6.421</td>\n",
       "      <td>78.9</td>\n",
       "      <td>4.9671</td>\n",
       "      <td>2.0</td>\n",
       "      <td>242.0</td>\n",
       "      <td>17.8</td>\n",
       "      <td>396.90</td>\n",
       "      <td>9.14</td>\n",
       "      <td>21.6</td>\n",
       "    </tr>\n",
       "    <tr>\n",
       "      <th>2</th>\n",
       "      <td>0.02729</td>\n",
       "      <td>0.0</td>\n",
       "      <td>7.07</td>\n",
       "      <td>0.0</td>\n",
       "      <td>0.469</td>\n",
       "      <td>7.185</td>\n",
       "      <td>61.1</td>\n",
       "      <td>4.9671</td>\n",
       "      <td>2.0</td>\n",
       "      <td>242.0</td>\n",
       "      <td>17.8</td>\n",
       "      <td>392.83</td>\n",
       "      <td>4.03</td>\n",
       "      <td>34.7</td>\n",
       "    </tr>\n",
       "    <tr>\n",
       "      <th>3</th>\n",
       "      <td>0.03237</td>\n",
       "      <td>0.0</td>\n",
       "      <td>2.18</td>\n",
       "      <td>0.0</td>\n",
       "      <td>0.458</td>\n",
       "      <td>6.998</td>\n",
       "      <td>45.8</td>\n",
       "      <td>6.0622</td>\n",
       "      <td>3.0</td>\n",
       "      <td>222.0</td>\n",
       "      <td>18.7</td>\n",
       "      <td>394.63</td>\n",
       "      <td>2.94</td>\n",
       "      <td>33.4</td>\n",
       "    </tr>\n",
       "    <tr>\n",
       "      <th>4</th>\n",
       "      <td>0.06905</td>\n",
       "      <td>0.0</td>\n",
       "      <td>2.18</td>\n",
       "      <td>0.0</td>\n",
       "      <td>0.458</td>\n",
       "      <td>7.147</td>\n",
       "      <td>54.2</td>\n",
       "      <td>6.0622</td>\n",
       "      <td>3.0</td>\n",
       "      <td>222.0</td>\n",
       "      <td>18.7</td>\n",
       "      <td>396.90</td>\n",
       "      <td>5.33</td>\n",
       "      <td>36.2</td>\n",
       "    </tr>\n",
       "  </tbody>\n",
       "</table>\n",
       "</div>"
      ],
      "text/plain": [
       "      CRIM    ZN  INDUS  CHAS    NOX     RM   AGE     DIS  RAD    TAX  \\\n",
       "0  0.00632  18.0   2.31   0.0  0.538  6.575  65.2  4.0900  1.0  296.0   \n",
       "1  0.02731   0.0   7.07   0.0  0.469  6.421  78.9  4.9671  2.0  242.0   \n",
       "2  0.02729   0.0   7.07   0.0  0.469  7.185  61.1  4.9671  2.0  242.0   \n",
       "3  0.03237   0.0   2.18   0.0  0.458  6.998  45.8  6.0622  3.0  222.0   \n",
       "4  0.06905   0.0   2.18   0.0  0.458  7.147  54.2  6.0622  3.0  222.0   \n",
       "\n",
       "   PTRATIO       B  LSTAT  MEDV  \n",
       "0     15.3  396.90   4.98  24.0  \n",
       "1     17.8  396.90   9.14  21.6  \n",
       "2     17.8  392.83   4.03  34.7  \n",
       "3     18.7  394.63   2.94  33.4  \n",
       "4     18.7  396.90   5.33  36.2  "
      ]
     },
<<<<<<< HEAD
     "execution_count": 5,
=======
     "execution_count": 3,
>>>>>>> c3580214bac0ff2e75602fa6e45e43cc814299f3
     "metadata": {},
     "output_type": "execute_result"
    }
   ],
   "source": [
    "boston_data = load_boston()\n",
    "boston = pd.DataFrame(boston_data.data, columns = boston_data.feature_names)\n",
    "boston[\"MEDV\"] = boston_data.target\n",
    "boston.head()"
   ]
  },
  {
   "cell_type": "markdown",
   "metadata": {},
   "source": [
    "### Train / Test Split ¿Esto qué es?"
   ]
  },
  {
   "cell_type": "code",
   "execution_count": null,
   "metadata": {},
   "outputs": [],
   "source": [
    "# Dibujo"
   ]
  },
  {
   "cell_type": "markdown",
   "metadata": {},
   "source": [
    "La división entrenamiento-prueba es una técnica para evaluar el rendimiento de un algoritmo de aprendizaje automático.\n",
    "\n",
    "Puede utilizarse para problemas de clasificación o regresión y puede emplearse para cualquier algoritmo de aprendizaje supervisado.\n",
    "\n",
    "El procedimiento consiste en tomar un conjunto de datos y dividirlo en dos subconjuntos. El primer subconjunto se utiliza para ajustar el modelo y se denomina conjunto de datos de entrenamiento. El segundo subconjunto no se utiliza para entrenar el modelo; en su lugar, se proporciona al modelo el elemento de entrada del conjunto de datos, luego se hacen predicciones y se comparan con los valores esperados. Este segundo conjunto de datos se denomina conjunto de datos de prueba.\n",
    "\n",
    "Conjunto de datos de entrenamiento: Se utiliza para ajustar el modelo de aprendizaje automático.\n",
    "Conjunto de datos de prueba: Se utiliza para evaluar el modelo de aprendizaje automático ajustado.\n",
    "El objetivo es estimar el rendimiento del modelo de aprendizaje automático con datos nuevos: datos no utilizados para entrenar el modelo.\n",
    "\n",
    "Así es como esperamos utilizar el modelo en la práctica. Es decir, ajustarlo sobre los datos disponibles con entradas y salidas conocidas, para luego hacer predicciones sobre nuevos ejemplos en el futuro en los que no tenemos los valores de salida u objetivo esperados.\n",
    "\n",
    "El procedimiento de entrenamiento-prueba es adecuado cuando se dispone de un conjunto de datos suficientemente amplio."
   ]
  },
  {
   "cell_type": "markdown",
   "metadata": {},
   "source": [
    "### Preparación de los datos para train test split"
   ]
  },
  {
   "cell_type": "code",
<<<<<<< HEAD
   "execution_count": 6,
=======
   "execution_count": 4,
   "id": "automatic-adoption",
>>>>>>> c3580214bac0ff2e75602fa6e45e43cc814299f3
   "metadata": {},
   "outputs": [
    {
     "data": {
      "text/plain": [
       "Index(['CRIM', 'ZN', 'INDUS', 'CHAS', 'NOX', 'RM', 'AGE', 'DIS', 'RAD', 'TAX',\n",
       "       'PTRATIO', 'B', 'LSTAT', 'MEDV'],\n",
       "      dtype='object')"
      ]
     },
<<<<<<< HEAD
     "execution_count": 6,
=======
     "execution_count": 4,
>>>>>>> c3580214bac0ff2e75602fa6e45e43cc814299f3
     "metadata": {},
     "output_type": "execute_result"
    }
   ],
   "source": [
    "boston.columns"
   ]
  },
  {
   "cell_type": "code",
<<<<<<< HEAD
   "execution_count": 7,
=======
   "execution_count": 5,
   "id": "brilliant-carry",
>>>>>>> c3580214bac0ff2e75602fa6e45e43cc814299f3
   "metadata": {},
   "outputs": [
    {
     "data": {
      "text/plain": [
       "['CRIM',\n",
       " 'ZN',\n",
       " 'INDUS',\n",
       " 'CHAS',\n",
       " 'NOX',\n",
       " 'RM',\n",
       " 'AGE',\n",
       " 'DIS',\n",
       " 'RAD',\n",
       " 'TAX',\n",
       " 'PTRATIO',\n",
       " 'B',\n",
       " 'LSTAT']"
      ]
     },
<<<<<<< HEAD
     "execution_count": 7,
=======
     "execution_count": 5,
>>>>>>> c3580214bac0ff2e75602fa6e45e43cc814299f3
     "metadata": {},
     "output_type": "execute_result"
    }
   ],
   "source": [
<<<<<<< HEAD
    "columns_x = [a for a in (list(boston.columns)) if a != 'MEDV']\n",
    "columns_x"
=======
    "columnas_x = [a for a in (list(boston.columns)) if a != \"MEDV\"]\n",
    "columnas_x"
>>>>>>> c3580214bac0ff2e75602fa6e45e43cc814299f3
   ]
  },
  {
   "cell_type": "code",
<<<<<<< HEAD
   "execution_count": 8,
=======
   "execution_count": 7,
   "id": "seasonal-lincoln",
>>>>>>> c3580214bac0ff2e75602fa6e45e43cc814299f3
   "metadata": {},
   "outputs": [
    {
     "data": {
      "text/html": [
       "<div>\n",
       "<style scoped>\n",
       "    .dataframe tbody tr th:only-of-type {\n",
       "        vertical-align: middle;\n",
       "    }\n",
       "\n",
       "    .dataframe tbody tr th {\n",
       "        vertical-align: top;\n",
       "    }\n",
       "\n",
       "    .dataframe thead th {\n",
       "        text-align: right;\n",
       "    }\n",
       "</style>\n",
       "<table border=\"1\" class=\"dataframe\">\n",
       "  <thead>\n",
       "    <tr style=\"text-align: right;\">\n",
       "      <th></th>\n",
       "      <th>CRIM</th>\n",
       "      <th>ZN</th>\n",
       "      <th>INDUS</th>\n",
       "      <th>CHAS</th>\n",
       "      <th>NOX</th>\n",
       "      <th>RM</th>\n",
       "      <th>AGE</th>\n",
       "      <th>DIS</th>\n",
       "      <th>RAD</th>\n",
       "      <th>TAX</th>\n",
       "      <th>PTRATIO</th>\n",
       "      <th>B</th>\n",
       "      <th>LSTAT</th>\n",
       "    </tr>\n",
       "  </thead>\n",
       "  <tbody>\n",
       "    <tr>\n",
       "      <th>0</th>\n",
       "      <td>0.00632</td>\n",
       "      <td>18.0</td>\n",
       "      <td>2.31</td>\n",
       "      <td>0.0</td>\n",
       "      <td>0.538</td>\n",
       "      <td>6.575</td>\n",
       "      <td>65.2</td>\n",
       "      <td>4.0900</td>\n",
       "      <td>1.0</td>\n",
       "      <td>296.0</td>\n",
       "      <td>15.3</td>\n",
       "      <td>396.90</td>\n",
       "      <td>4.98</td>\n",
       "    </tr>\n",
       "    <tr>\n",
       "      <th>1</th>\n",
       "      <td>0.02731</td>\n",
       "      <td>0.0</td>\n",
       "      <td>7.07</td>\n",
       "      <td>0.0</td>\n",
       "      <td>0.469</td>\n",
       "      <td>6.421</td>\n",
       "      <td>78.9</td>\n",
       "      <td>4.9671</td>\n",
       "      <td>2.0</td>\n",
       "      <td>242.0</td>\n",
       "      <td>17.8</td>\n",
       "      <td>396.90</td>\n",
       "      <td>9.14</td>\n",
       "    </tr>\n",
       "    <tr>\n",
       "      <th>2</th>\n",
       "      <td>0.02729</td>\n",
       "      <td>0.0</td>\n",
       "      <td>7.07</td>\n",
       "      <td>0.0</td>\n",
       "      <td>0.469</td>\n",
       "      <td>7.185</td>\n",
       "      <td>61.1</td>\n",
       "      <td>4.9671</td>\n",
       "      <td>2.0</td>\n",
       "      <td>242.0</td>\n",
       "      <td>17.8</td>\n",
       "      <td>392.83</td>\n",
       "      <td>4.03</td>\n",
       "    </tr>\n",
       "    <tr>\n",
       "      <th>3</th>\n",
       "      <td>0.03237</td>\n",
       "      <td>0.0</td>\n",
       "      <td>2.18</td>\n",
       "      <td>0.0</td>\n",
       "      <td>0.458</td>\n",
       "      <td>6.998</td>\n",
       "      <td>45.8</td>\n",
       "      <td>6.0622</td>\n",
       "      <td>3.0</td>\n",
       "      <td>222.0</td>\n",
       "      <td>18.7</td>\n",
       "      <td>394.63</td>\n",
       "      <td>2.94</td>\n",
       "    </tr>\n",
       "    <tr>\n",
       "      <th>4</th>\n",
       "      <td>0.06905</td>\n",
       "      <td>0.0</td>\n",
       "      <td>2.18</td>\n",
       "      <td>0.0</td>\n",
       "      <td>0.458</td>\n",
       "      <td>7.147</td>\n",
       "      <td>54.2</td>\n",
       "      <td>6.0622</td>\n",
       "      <td>3.0</td>\n",
       "      <td>222.0</td>\n",
       "      <td>18.7</td>\n",
       "      <td>396.90</td>\n",
       "      <td>5.33</td>\n",
       "    </tr>\n",
       "  </tbody>\n",
       "</table>\n",
       "</div>"
      ],
      "text/plain": [
       "      CRIM    ZN  INDUS  CHAS    NOX     RM   AGE     DIS  RAD    TAX  \\\n",
       "0  0.00632  18.0   2.31   0.0  0.538  6.575  65.2  4.0900  1.0  296.0   \n",
       "1  0.02731   0.0   7.07   0.0  0.469  6.421  78.9  4.9671  2.0  242.0   \n",
       "2  0.02729   0.0   7.07   0.0  0.469  7.185  61.1  4.9671  2.0  242.0   \n",
       "3  0.03237   0.0   2.18   0.0  0.458  6.998  45.8  6.0622  3.0  222.0   \n",
       "4  0.06905   0.0   2.18   0.0  0.458  7.147  54.2  6.0622  3.0  222.0   \n",
       "\n",
       "   PTRATIO       B  LSTAT  \n",
       "0     15.3  396.90   4.98  \n",
       "1     17.8  396.90   9.14  \n",
       "2     17.8  392.83   4.03  \n",
       "3     18.7  394.63   2.94  \n",
       "4     18.7  396.90   5.33  "
      ]
     },
<<<<<<< HEAD
     "execution_count": 8,
=======
     "execution_count": 7,
>>>>>>> c3580214bac0ff2e75602fa6e45e43cc814299f3
     "metadata": {},
     "output_type": "execute_result"
    }
   ],
   "source": [
<<<<<<< HEAD
    "X = boston[columns_x]\n",
=======
    "X = boston[columnas_x]\n",
>>>>>>> c3580214bac0ff2e75602fa6e45e43cc814299f3
    "X.head()"
   ]
  },
  {
   "cell_type": "code",
<<<<<<< HEAD
   "execution_count": 9,
=======
   "execution_count": 8,
   "id": "sealed-realtor",
>>>>>>> c3580214bac0ff2e75602fa6e45e43cc814299f3
   "metadata": {},
   "outputs": [
    {
     "data": {
      "text/plain": [
       "0    24.0\n",
       "1    21.6\n",
       "2    34.7\n",
       "3    33.4\n",
       "4    36.2\n",
       "Name: MEDV, dtype: float64"
      ]
     },
<<<<<<< HEAD
     "execution_count": 9,
=======
     "execution_count": 8,
>>>>>>> c3580214bac0ff2e75602fa6e45e43cc814299f3
     "metadata": {},
     "output_type": "execute_result"
    }
   ],
   "source": [
<<<<<<< HEAD
    "y = boston['MEDV']\n",
=======
    "y = boston.MEDV\n",
>>>>>>> c3580214bac0ff2e75602fa6e45e43cc814299f3
    "y.head()"
   ]
  },
  {
   "cell_type": "code",
<<<<<<< HEAD
   "execution_count": 11,
=======
   "execution_count": 10,
   "id": "closed-wellington",
>>>>>>> c3580214bac0ff2e75602fa6e45e43cc814299f3
   "metadata": {},
   "outputs": [
    {
     "data": {
      "text/plain": [
       "(506, 13)"
      ]
     },
<<<<<<< HEAD
     "execution_count": 11,
=======
     "execution_count": 10,
>>>>>>> c3580214bac0ff2e75602fa6e45e43cc814299f3
     "metadata": {},
     "output_type": "execute_result"
    }
   ],
   "source": [
    "X.shape"
   ]
  },
  {
   "cell_type": "code",
<<<<<<< HEAD
   "execution_count": 12,
=======
   "execution_count": 11,
   "id": "intensive-newark",
>>>>>>> c3580214bac0ff2e75602fa6e45e43cc814299f3
   "metadata": {},
   "outputs": [
    {
     "data": {
      "text/plain": [
       "(506,)"
      ]
     },
<<<<<<< HEAD
     "execution_count": 12,
=======
     "execution_count": 11,
>>>>>>> c3580214bac0ff2e75602fa6e45e43cc814299f3
     "metadata": {},
     "output_type": "execute_result"
    }
   ],
   "source": [
    "y.shape"
   ]
  },
  {
   "cell_type": "markdown",
   "metadata": {},
   "source": [
    "### Parámetros opcionales del train test split\n",
    "\n",
    "**train_size** es el número que define el tamaño del conjunto de entrenamiento. Si proporciona un float, entonces debe estar entre 0.0 y 1.0 y definirá la parte del conjunto de datos utilizado para las pruebas. Si proporciona un int, entonces representará el número total de las muestras de entrenamiento. El valor por defecto es None.\n",
    "\n",
    "**test_size** es el número que define el tamaño del conjunto de pruebas. Es muy similar a train_size. Debe proporcionar o bien train_size o bien test_size. Si no se proporciona ninguno de los dos, la parte por defecto del conjunto de datos que se utilizará para las pruebas es 0,25, o el 25 por ciento.\n",
    "\n",
    "**random_state** es el objeto que controla la aleatoriedad durante la división. Puede ser un int o una instancia de RandomState. El valor por defecto es None."
   ]
  },
  {
   "cell_type": "code",
<<<<<<< HEAD
   "execution_count": 10,
=======
   "execution_count": 9,
   "id": "private-subdivision",
>>>>>>> c3580214bac0ff2e75602fa6e45e43cc814299f3
   "metadata": {},
   "outputs": [],
   "source": [
    "from sklearn.model_selection import train_test_split"
   ]
  },
  {
   "cell_type": "code",
<<<<<<< HEAD
   "execution_count": 13,
   "metadata": {},
   "outputs": [],
   "source": [
    "X_train, X_test, y_train, y_test = train_test_split(X, y, test_size = 0.2)"
=======
   "execution_count": 12,
   "id": "hybrid-stroke",
   "metadata": {},
   "outputs": [],
   "source": [
    "X_train, X_test, y_train, y_test = train_test_split(X,y, test_size = 0.2)"
>>>>>>> c3580214bac0ff2e75602fa6e45e43cc814299f3
   ]
  },
  {
   "cell_type": "code",
<<<<<<< HEAD
   "execution_count": 22,
=======
   "execution_count": 13,
   "id": "flying-alpha",
>>>>>>> c3580214bac0ff2e75602fa6e45e43cc814299f3
   "metadata": {},
   "outputs": [
    {
     "data": {
      "text/plain": [
       "(404, 13)"
      ]
     },
<<<<<<< HEAD
     "execution_count": 22,
=======
     "execution_count": 13,
>>>>>>> c3580214bac0ff2e75602fa6e45e43cc814299f3
     "metadata": {},
     "output_type": "execute_result"
    }
   ],
   "source": [
    "X_train.shape"
   ]
  },
  {
   "cell_type": "code",
<<<<<<< HEAD
   "execution_count": 24,
=======
   "execution_count": 16,
   "id": "comic-brown",
>>>>>>> c3580214bac0ff2e75602fa6e45e43cc814299f3
   "metadata": {},
   "outputs": [
    {
     "data": {
      "text/plain": [
<<<<<<< HEAD
       "(102, 13)"
      ]
     },
     "execution_count": 24,
=======
       "(404,)"
      ]
     },
     "execution_count": 16,
>>>>>>> c3580214bac0ff2e75602fa6e45e43cc814299f3
     "metadata": {},
     "output_type": "execute_result"
    }
   ],
   "source": [
<<<<<<< HEAD
    "X_test.shape"
=======
    "y_train.shape"
>>>>>>> c3580214bac0ff2e75602fa6e45e43cc814299f3
   ]
  },
  {
   "cell_type": "code",
<<<<<<< HEAD
   "execution_count": 25,
=======
   "execution_count": 14,
   "id": "destroyed-velvet",
>>>>>>> c3580214bac0ff2e75602fa6e45e43cc814299f3
   "metadata": {},
   "outputs": [
    {
     "data": {
      "text/plain": [
<<<<<<< HEAD
       "(404,)"
      ]
     },
     "execution_count": 25,
=======
       "(102, 13)"
      ]
     },
     "execution_count": 14,
>>>>>>> c3580214bac0ff2e75602fa6e45e43cc814299f3
     "metadata": {},
     "output_type": "execute_result"
    }
   ],
   "source": [
<<<<<<< HEAD
    "y_train.shape"
=======
    "X_test.shape"
>>>>>>> c3580214bac0ff2e75602fa6e45e43cc814299f3
   ]
  },
  {
   "cell_type": "code",
<<<<<<< HEAD
   "execution_count": 26,
=======
   "execution_count": 17,
   "id": "digital-bradley",
>>>>>>> c3580214bac0ff2e75602fa6e45e43cc814299f3
   "metadata": {},
   "outputs": [
    {
     "data": {
      "text/plain": [
       "(102,)"
      ]
     },
<<<<<<< HEAD
     "execution_count": 26,
=======
     "execution_count": 17,
>>>>>>> c3580214bac0ff2e75602fa6e45e43cc814299f3
     "metadata": {},
     "output_type": "execute_result"
    }
   ],
   "source": [
    "y_test.shape"
   ]
  },
  {
   "cell_type": "markdown",
   "metadata": {},
   "source": [
    "### Ya tenemos el dataset dividido, ahora vamos a importar un modelo y entrenarlo"
   ]
  },
  {
   "cell_type": "code",
<<<<<<< HEAD
   "execution_count": 27,
=======
   "execution_count": 18,
   "id": "ultimate-tumor",
>>>>>>> c3580214bac0ff2e75602fa6e45e43cc814299f3
   "metadata": {},
   "outputs": [],
   "source": [
    "from sklearn.linear_model import LinearRegression"
   ]
  },
  {
   "cell_type": "code",
<<<<<<< HEAD
   "execution_count": 28,
   "metadata": {},
   "outputs": [],
   "source": [
    "# Creamos el objeto LinearRegression en una variable \n",
=======
   "execution_count": 19,
   "id": "manual-salmon",
   "metadata": {},
   "outputs": [],
   "source": [
    "#Creamos el objeto LinearRegression en una variable\n",
>>>>>>> c3580214bac0ff2e75602fa6e45e43cc814299f3
    "lr = LinearRegression()"
   ]
  },
  {
   "cell_type": "code",
<<<<<<< HEAD
   "execution_count": 29,
=======
   "execution_count": 21,
   "id": "small-sessions",
>>>>>>> c3580214bac0ff2e75602fa6e45e43cc814299f3
   "metadata": {},
   "outputs": [
    {
     "data": {
      "text/plain": [
       "LinearRegression()"
      ]
     },
<<<<<<< HEAD
     "execution_count": 29,
=======
     "execution_count": 21,
>>>>>>> c3580214bac0ff2e75602fa6e45e43cc814299f3
     "metadata": {},
     "output_type": "execute_result"
    }
   ],
   "source": [
<<<<<<< HEAD
    "# Entrenamos el modelo \n",
    "lr.fit(X_train, y_train)"
=======
    "# Entrenamos el modelo\n",
    "lr.fit(X_train,y_train)"
>>>>>>> c3580214bac0ff2e75602fa6e45e43cc814299f3
   ]
  },
  {
   "cell_type": "markdown",
   "metadata": {},
   "source": [
    "### Creamos nuestras predicciones"
   ]
  },
  {
   "cell_type": "code",
<<<<<<< HEAD
   "execution_count": 30,
=======
   "execution_count": 22,
   "id": "executed-composite",
>>>>>>> c3580214bac0ff2e75602fa6e45e43cc814299f3
   "metadata": {},
   "outputs": [],
   "source": [
    "y_pred = lr.predict(X_test)"
   ]
  },
  {
   "cell_type": "code",
<<<<<<< HEAD
   "execution_count": 31,
=======
   "execution_count": 23,
   "id": "single-johnson",
>>>>>>> c3580214bac0ff2e75602fa6e45e43cc814299f3
   "metadata": {},
   "outputs": [
    {
     "data": {
      "text/plain": [
<<<<<<< HEAD
       "array([20.52186275, 20.45073841, 35.39106813, 15.74396982, 24.83883373,\n",
       "       34.29397188, 15.6324801 , 38.84569906, 15.52069106, 17.28617479,\n",
       "       21.86317169, 24.78918519, 19.18580242, 20.48682581, 34.75723864,\n",
       "       18.02902467, 28.00302911, 22.44048973, 34.38939029, 20.94585177,\n",
       "       31.13858175, 19.42426166, 23.1476749 , 10.88726768, 24.45710703,\n",
       "       26.36429726, 27.77376031, 20.99864548, 31.87569977, 39.6169802 ,\n",
       "       21.33592581,  3.04968959, 35.21603528, 18.16944842,  5.81569547,\n",
       "       27.02066864, 41.68777394, 20.67790437,  5.12038126, 28.4669578 ,\n",
       "       15.22494724, 28.76053582,  5.52782769, 20.82762131, 12.95909832,\n",
       "       13.61667705, 20.37711841, 25.40191827, 32.99331853, 18.41264307,\n",
       "       27.78315551, 33.17313225, 12.89802919, 30.13969683, 14.36161988,\n",
       "       21.28103131, 19.63129805, 24.67205972, 18.77695947, 26.31181621,\n",
       "       22.65115752, 25.07427035, 23.67416655,  3.03032012, 17.90818026,\n",
       "       31.09180302, -0.08754263, 18.32899887, 33.72964273, 21.48411844,\n",
       "       22.78079957, 19.23172601, 24.5192401 , 31.77050328, 13.18582227,\n",
       "       27.48518428, 18.26797442, 18.77277876, 29.63251951, 21.59756714,\n",
       "       28.89833566, 27.7034018 , 25.22115099, 17.2856761 ,  7.92669473,\n",
       "        6.77574366, 36.50552035, 24.24414328, 24.24354151, 20.823142  ,\n",
       "       29.91952016, 28.85300607, 22.10848676, 11.3189675 , 26.28271861,\n",
       "       16.71125054, 29.81559535, 19.52428097, 20.09794545, 35.29533469,\n",
       "       16.50206256,  6.37134815])"
      ]
     },
     "execution_count": 31,
=======
       "array([20.09815765, 16.91105078, 14.15201258,  4.8640364 , 13.75347198,\n",
       "       31.6077    , 11.71141589, 21.17770967, 24.36675788, 32.79104567,\n",
       "       19.15295088, 22.08029224, 26.59406897, 19.30050835, 37.68067125,\n",
       "       28.88660652, 19.47306292, 20.05150582, 25.43860941, 24.79569499,\n",
       "       18.03283741, 34.87994316, 11.64763307, 15.53566021,  6.93949939,\n",
       "       18.43975315, 20.42643902, 22.51923576, 14.75211835, 21.81882122,\n",
       "       26.94462232, 27.90525309, 16.8598542 ,  2.48750096, 27.47825599,\n",
       "       15.42330106, 12.37571701, 27.58502874, 28.0717    , 34.65545833,\n",
       "       27.83460604, 24.32258631, 16.2755254 , 16.07993851, 25.38228724,\n",
       "       30.8658024 , 33.92101149, 17.14575018, 29.03417195, 18.30974873,\n",
       "       30.87313649, 25.66459353, 43.29047793, 12.04479968, 24.97496142,\n",
       "       21.92231093, 27.50861816, 18.43384625, 23.96414318, 31.34445145,\n",
       "       17.90033499, 19.60040038, 20.11041531, 23.46640573, 24.82608664,\n",
       "       12.9256191 , 16.51694396, 24.94958372, 24.43670651, 36.01204909,\n",
       "       17.99566854, 14.46974729, 25.95456511, 28.69108563, 33.99985587,\n",
       "       27.68696767, 28.89477657, 22.40894489, 25.57378198, 17.21199847,\n",
       "       31.31636691, 17.02841475, 16.21663779, 25.60696617, 13.61247056,\n",
       "        5.76337675, 32.44249674, 18.70466305,  8.21352071, 32.35508501,\n",
       "       30.97539216, 19.07478662, 12.99833746, 27.03254889, 28.53596382,\n",
       "       20.0987869 ,  7.43609918, 13.36695083, 10.07183762, 19.95669573,\n",
       "       26.08872191, 27.06207875])"
      ]
     },
     "execution_count": 23,
>>>>>>> c3580214bac0ff2e75602fa6e45e43cc814299f3
     "metadata": {},
     "output_type": "execute_result"
    }
   ],
   "source": [
    "y_pred"
   ]
  },
  {
   "cell_type": "markdown",
   "metadata": {},
   "source": [
    "### Medimos nuestro modelo"
   ]
  },
  {
   "cell_type": "code",
<<<<<<< HEAD
   "execution_count": 32,
   "metadata": {},
   "outputs": [],
   "source": [
    "from sklearn import metrics"
=======
   "execution_count": 25,
   "id": "treated-remedy",
   "metadata": {},
   "outputs": [],
   "source": [
    "from sklearn import metrics\n",
    "import numpy as np"
>>>>>>> c3580214bac0ff2e75602fa6e45e43cc814299f3
   ]
  },
  {
   "cell_type": "code",
<<<<<<< HEAD
   "execution_count": 36,
=======
   "execution_count": 28,
   "id": "ordered-nickel",
>>>>>>> c3580214bac0ff2e75602fa6e45e43cc814299f3
   "metadata": {},
   "outputs": [
    {
     "name": "stdout",
     "output_type": "stream",
     "text": [
<<<<<<< HEAD
      "MAE:  3.445428211225292\n",
      "MSE:  24.207375718060472\n",
      "RMSE:  4.920099157340274\n",
      "R2  0.7428553938994689\n"
=======
      "MAE:  3.573014056248042\n",
      "MSE:  22.65641481801539\n",
      "RMSE:  4.759875504465993\n",
      "R2:  0.6646001898410643\n"
>>>>>>> c3580214bac0ff2e75602fa6e45e43cc814299f3
     ]
    }
   ],
   "source": [
<<<<<<< HEAD
    "# Los números tienen que tender a 0\n",
    "# Los más relevantes son el RMSE y el R2\n",
    "\n",
    "# MAE = Mean Absolute Error\n",
    "# MSE = Mean Squared Error. Esto es sobre 1000\n",
    "# RMSE = Root Mean Square Error\n",
    "# R2 = Root Squared dice qué porcentaje de los datos podemos explicar con el modelo. \n",
    "print(\"MAE: \", metrics.mean_absolute_error(y_test, y_pred))\n",
    "print(\"MSE: \", metrics.mean_squared_error (y_test, y_pred))\n",
    "print(\"RMSE: \", np.sqrt(metrics.mean_squared_error(y_test, y_pred)))\n",
    "print(\"R2 \", metrics.r2_score (y_test, y_pred))"
=======
    "print(\"MAE: \", metrics.mean_absolute_error(y_test, y_pred))\n",
    "print(\"MSE: \", metrics.mean_squared_error(y_test,y_pred))\n",
    "print(\"RMSE: \", np.sqrt(metrics.mean_squared_error(y_test,y_pred)))\n",
    "print(\"R2: \", metrics.r2_score(y_test,y_pred))"
>>>>>>> c3580214bac0ff2e75602fa6e45e43cc814299f3
   ]
  },
  {
   "cell_type": "markdown",
   "metadata": {},
   "source": [
    "## Extra! Entrenando diferentes modelos a la vez"
   ]
  },
  {
   "cell_type": "code",
<<<<<<< HEAD
   "execution_count": 37,
=======
   "execution_count": 30,
   "id": "designed-stomach",
>>>>>>> c3580214bac0ff2e75602fa6e45e43cc814299f3
   "metadata": {},
   "outputs": [],
   "source": [
    "from sklearn.linear_model import Ridge, Lasso\n",
    "from sklearn.linear_model import SGDRegressor\n",
    "from sklearn.neighbors import KNeighborsRegressor\n",
    "from sklearn.ensemble import GradientBoostingRegressor"
   ]
  },
  {
   "cell_type": "markdown",
   "metadata": {},
   "source": [
    "### Almacenamos todos los modelos que vamos a entrenar en un diccionario"
   ]
  },
  {
   "cell_type": "code",
<<<<<<< HEAD
   "execution_count": 38,
   "metadata": {},
   "outputs": [],
   "source": [
    "models = {\"ridge\": Ridge(),\n",
    "          \"lasso\": Lasso(),\n",
    "          \"sgd\": SGDRegressor(), \n",
    "          \"knn\": KNeighborsRegressor(),\n",
    "          \"gradient\": GradientBoostingRegressor()   \n",
=======
   "execution_count": 31,
   "id": "former-exchange",
   "metadata": {},
   "outputs": [],
   "source": [
    "models = { \"ridge\": Ridge(),\n",
    "          \"lasso\": Lasso(),\n",
    "          \"sgd\": SGDRegressor(),\n",
    "          \"knn\": KNeighborsRegressor(),\n",
    "          \"gradient\": GradientBoostingRegressor()\n",
>>>>>>> c3580214bac0ff2e75602fa6e45e43cc814299f3
    "}"
   ]
  },
  {
   "cell_type": "markdown",
   "metadata": {},
   "source": [
    "### Iteramos sobre los modelos para entrenarlos"
   ]
  },
  {
   "cell_type": "code",
<<<<<<< HEAD
   "execution_count": 40,
=======
   "execution_count": 32,
   "id": "rising-cambridge",
>>>>>>> c3580214bac0ff2e75602fa6e45e43cc814299f3
   "metadata": {},
   "outputs": [
    {
     "name": "stdout",
     "output_type": "stream",
     "text": [
<<<<<<< HEAD
      "Entrenando modelo ----> ridge\n",
      "He acabado :)\n",
      "Entrenando modelo ----> lasso\n",
      "He acabado :)\n",
      "Entrenando modelo ----> sgd\n",
      "He acabado :)\n",
      "Entrenando modelo ----> knn\n",
      "He acabado :)\n",
      "Entrenando modelo ----> gradient\n",
=======
      "Entrenando modelo ---> ridge\n",
      "He acabado :)\n",
      "Entrenando modelo ---> lasso\n",
      "He acabado :)\n",
      "Entrenando modelo ---> sgd\n",
      "He acabado :)\n",
      "Entrenando modelo ---> knn\n",
      "He acabado :)\n",
      "Entrenando modelo ---> gradient\n",
>>>>>>> c3580214bac0ff2e75602fa6e45e43cc814299f3
      "He acabado :)\n"
     ]
    }
   ],
   "source": [
<<<<<<< HEAD
    "# Name es la key del diccionario, model el value. \n",
    "for name, model in models.items():\n",
    "    print(f\"Entrenando modelo ----> {name}\")\n",
    "    model.fit(X_train, y_train)\n",
=======
    "for name, model in models.items():\n",
    "    print(f\"Entrenando modelo ---> {name}\")\n",
    "    model.fit(X_train,y_train)\n",
>>>>>>> c3580214bac0ff2e75602fa6e45e43cc814299f3
    "    print(f\"He acabado :)\")"
   ]
  },
  {
   "cell_type": "code",
<<<<<<< HEAD
   "execution_count": 42,
=======
   "execution_count": 33,
   "id": "bigger-novel",
>>>>>>> c3580214bac0ff2e75602fa6e45e43cc814299f3
   "metadata": {},
   "outputs": [
    {
     "name": "stdout",
     "output_type": "stream",
     "text": [
<<<<<<< HEAD
      "----------ridge-----------\n",
      "MAE:  3.4938743364026283\n",
      "MSE:  24.955886736641546\n",
      "RMSE:  4.995586725965384\n",
      "R2  0.7349042812602191\n",
      "\n",
      "\n",
      "----------lasso-----------\n",
      "MAE:  4.065477088246637\n",
      "MSE:  35.874995525381735\n",
      "RMSE:  5.989573901821542\n",
      "R2  0.6189152553884627\n",
      "\n",
      "\n",
      "----------sgd-----------\n",
      "MAE:  22031184111295.68\n",
      "MSE:  6.082233489265778e+26\n",
      "RMSE:  24662184593554.92\n",
      "R2  -6.460896682996659e+24\n",
      "\n",
      "\n",
      "----------knn-----------\n",
      "MAE:  5.271960784313724\n",
      "MSE:  56.88993333333334\n",
      "RMSE:  7.542541569877712\n",
      "R2  0.39568255276959985\n",
      "\n",
      "\n",
      "----------gradient-----------\n",
      "MAE:  2.191499814407651\n",
      "MSE:  8.690627708723998\n",
      "RMSE:  2.9479870604743157\n",
      "R2  0.9076831761958026\n",
=======
      "--------ridge--------\n",
      "MAE:  3.513635160492386\n",
      "MSE:  22.58167980744602\n",
      "RMSE:  4.7520184982222045\n",
      "R2:  0.6657065479545845\n",
      "\n",
      "\n",
      "--------lasso--------\n",
      "MAE:  3.7903190854847773\n",
      "MSE:  25.633738762084562\n",
      "RMSE:  5.0629772626474\n",
      "R2:  0.6205246424235437\n",
      "\n",
      "\n",
      "--------sgd--------\n",
      "MAE:  157590607211227.97\n",
      "MSE:  2.652699825376957e+28\n",
      "RMSE:  162871109328111.25\n",
      "R2:  -3.9269894420039084e+26\n",
      "\n",
      "\n",
      "--------knn--------\n",
      "MAE:  4.345686274509805\n",
      "MSE:  34.18165098039215\n",
      "RMSE:  5.846507588329305\n",
      "R2:  0.49398352114269894\n",
      "\n",
      "\n",
      "--------gradient--------\n",
      "MAE:  2.302573172429806\n",
      "MSE:  9.223143337098257\n",
      "RMSE:  3.0369628475004853\n",
      "R2:  0.8634629287475951\n",
>>>>>>> c3580214bac0ff2e75602fa6e45e43cc814299f3
      "\n",
      "\n"
     ]
    }
   ],
   "source": [
<<<<<<< HEAD
    "for name, model in models.items():\n",
    "    y_pred = model.predict(X_test)\n",
    "    print(f\"----------{name}-----------\")\n",
    "    print(\"MAE: \", metrics.mean_absolute_error(y_test, y_pred))\n",
    "    print(\"MSE: \", metrics.mean_squared_error (y_test, y_pred))\n",
    "    print(\"RMSE: \", np.sqrt(metrics.mean_squared_error(y_test, y_pred)))\n",
    "    print(\"R2 \", metrics.r2_score (y_test, y_pred))\n",
    "    print(\"\\n\")"
   ]
  },
  {
   "cell_type": "markdown",
   "metadata": {},
   "source": [
    "En este caso el gradiente sería el mejor"
   ]
=======
    "#Podemos seguir el mismo proceso para realizar predicciones de cada algoritmo y sacar métricas\n",
    "for name, model in models.items():\n",
    "    y_pred = model.predict(X_test)\n",
    "    print(f\"--------{name}--------\")\n",
    "    print(\"MAE: \", metrics.mean_absolute_error(y_test, y_pred))\n",
    "    print(\"MSE: \", metrics.mean_squared_error(y_test,y_pred))\n",
    "    print(\"RMSE: \", np.sqrt(metrics.mean_squared_error(y_test,y_pred)))\n",
    "    print(\"R2: \", metrics.r2_score(y_test,y_pred))\n",
    "    print(\"\\n\")"
   ]
>>>>>>> c3580214bac0ff2e75602fa6e45e43cc814299f3
  },
  {
   "cell_type": "markdown",
   "metadata": {},
   "source": [
    "## Cross-Validation\n",
    "Leamos un poco la [documentación](https://scikit-learn.org/stable/modules/cross_validation.html)\n",
    "\n",
    "**Wikipedia nos dice**            \n",
    "La validación cruzada o cross-validation es una técnica utilizada para evaluar los resultados de un análisis estadístico y garantizar que son independientes de la partición entre datos de entrenamiento y prueba. Consiste en repetir y calcular la media aritmética obtenida de las medidas de evaluación sobre diferentes particiones. Se utiliza en entornos donde el objetivo principal es la predicción y se quiere estimar la precisión de un modelo que se llevará a cabo a la práctica. Es una técnica muy utilizada en proyectos de inteligencia artificial para validar modelos generados."
   ]
  },
  {
   "cell_type": "code",
   "execution_count": null,
   "metadata": {},
   "outputs": [],
   "source": [
    "# Las métricas para el cross validation son el R2 para regresión y el Accuracy para clasificación"
   ]
  },
  {
   "cell_type": "markdown",
   "metadata": {},
   "source": [
    "![kfoldcv](https://scikit-learn.org/stable/_images/grid_search_cross_validation.png)"
   ]
  },
  {
   "cell_type": "markdown",
   "metadata": {},
   "source": [
    "Cross-Validation: K-fold con 5 splits\n",
    "Lo que hacemos normalmente al entrenar el modelo es pasarle todos los registros y que haga el fit().      \n",
    "Con K-Folds -en este ejemplo de 5 splits- para entrenar, en vez de pasarle todos los registros directamente al modelo, haremos así:\n",
    "\n",
    "**Iterar 5 veces:**      \n",
    "- Apartaremos 1/5 de muestras\n",
    "- Entrenamos al modelo con el restante 4/5 de muestras\n",
    "- Mediremos el r2 obtenido sobre las que habíamos apartado.\n",
    "- Esto quiere decir que hacemos 5 entrenamientos independientes.\n",
    "- El R2 final será el promedio de las 5 R2 anteriores."
   ]
  },
  {
   "cell_type": "markdown",
   "metadata": {},
   "source": [
    "### Hacemos CV a un solo modelo"
   ]
  },
  {
   "cell_type": "code",
<<<<<<< HEAD
   "execution_count": 43,
=======
   "execution_count": 34,
   "id": "joined-payroll",
>>>>>>> c3580214bac0ff2e75602fa6e45e43cc814299f3
   "metadata": {},
   "outputs": [],
   "source": [
    "from sklearn.model_selection import cross_val_score"
   ]
  },
  {
   "cell_type": "code",
<<<<<<< HEAD
   "execution_count": 44,
=======
   "execution_count": 35,
   "id": "beneficial-bulgarian",
>>>>>>> c3580214bac0ff2e75602fa6e45e43cc814299f3
   "metadata": {},
   "outputs": [],
   "source": [
    "scores = cross_val_score(lr, X_train, y_train, scoring = \"r2\", cv=5)"
   ]
  },
  {
   "cell_type": "code",
<<<<<<< HEAD
   "execution_count": 45,
=======
   "execution_count": 36,
   "id": "prostate-louis",
>>>>>>> c3580214bac0ff2e75602fa6e45e43cc814299f3
   "metadata": {},
   "outputs": [
    {
     "data": {
      "text/plain": [
<<<<<<< HEAD
       "array([0.81568571, 0.67447807, 0.70456643, 0.62000461, 0.73501763])"
      ]
     },
     "execution_count": 45,
=======
       "array([0.66089976, 0.64626542, 0.85280075, 0.68039567, 0.76169912])"
      ]
     },
     "execution_count": 36,
>>>>>>> c3580214bac0ff2e75602fa6e45e43cc814299f3
     "metadata": {},
     "output_type": "execute_result"
    }
   ],
   "source": [
    "scores"
   ]
  },
  {
   "cell_type": "code",
<<<<<<< HEAD
   "execution_count": 46,
=======
   "execution_count": 37,
   "id": "afraid-advocacy",
>>>>>>> c3580214bac0ff2e75602fa6e45e43cc814299f3
   "metadata": {},
   "outputs": [
    {
     "name": "stdout",
     "output_type": "stream",
     "text": [
<<<<<<< HEAD
      "0.7099504899494156\n"
=======
      "0.7204121435151664\n"
>>>>>>> c3580214bac0ff2e75602fa6e45e43cc814299f3
     ]
    }
   ],
   "source": [
    "print(np.mean(scores))"
   ]
  },
  {
   "cell_type": "markdown",
   "metadata": {},
   "source": [
    "### CV iterando por todos los modelos "
   ]
  },
  {
   "cell_type": "code",
<<<<<<< HEAD
   "execution_count": 47,
=======
   "execution_count": 38,
   "id": "surprised-information",
>>>>>>> c3580214bac0ff2e75602fa6e45e43cc814299f3
   "metadata": {},
   "outputs": [
    {
     "name": "stdout",
     "output_type": "stream",
     "text": [
<<<<<<< HEAD
      "ridge r2 0.7067679394372693\n",
      "lasso r2 0.6560527880248914\n",
      "sgd r2 -4.027052290405599e+26\n",
      "knn r2 0.47651975449477035\n",
      "gradient r2 0.8829343199643829\n"
=======
      "ridge r2 0.7169835522842163\n",
      "lasso r2 0.6675133850413879\n",
      "sgd r2 -1.7905086920271917e+26\n",
      "knn r2 0.4814155808552766\n",
      "gradient r2 0.880036345179349\n"
>>>>>>> c3580214bac0ff2e75602fa6e45e43cc814299f3
     ]
    }
   ],
   "source": [
    "for name, model in models.items():\n",
    "    scores = cross_val_score(model, X_train, y_train, scoring = \"r2\", cv=5)\n",
<<<<<<< HEAD
    "    print(f\"{name} r2 {np.mean(scores)}\")"
=======
    "    print(f\"{name} r2 {np.mean(scores)}\" )"
>>>>>>> c3580214bac0ff2e75602fa6e45e43cc814299f3
   ]
  },
  {
   "cell_type": "markdown",
   "metadata": {},
   "source": [
    "## Summmary"
   ]
  },
  {
   "cell_type": "markdown",
<<<<<<< HEAD
   "metadata": {},
   "source": [
    "- Dividir el dataset en entrenamiento / testeo para poder sacar métricas\n",
    "- La y es nuestra variable target, que es la que queremos predecir \n",
    "- Siempre limpiamos los datos y tomamos decisiones sobre qué hacer con los valores nulos\n",
    "- Hay diferentes modelos de regresión, que se aproximan al mismo problema con diferentes fórmulas matemáticas \n",
    "- Dos grandes problemas -> clasificación y regresión \n",
    "- Clasificación multiclass / multilabel"
   ]
  },
  {
   "cell_type": "code",
   "execution_count": null,
   "metadata": {},
   "outputs": [],
   "source": []
=======
   "id": "sunset-opera",
   "metadata": {},
   "source": [
    "- Dividir dataset en entrenamiento / testeo para poder sacar métricas\n",
    "- La y es nuestra variable target que es la que queremos predecir\n",
    "- Siempre limpiamos y hacemos el preprocesado de los datos, tomamos decisiones con las filas que tengan valores nulos\n",
    "- Hay diferentes modelos de regresión, que se aproximan al mismo problema con diferentes fórmulas matemáticas\n",
    "- Dos grandes problemas -> clasificación y regresión. \n",
    "- Clasificación multiclass / multilabel "
   ]
>>>>>>> c3580214bac0ff2e75602fa6e45e43cc814299f3
  }
 ],
 "metadata": {
  "kernelspec": {
   "display_name": "Ironhack",
   "language": "python",
   "name": "ironhack"
  },
  "language_info": {
   "codemirror_mode": {
    "name": "ipython",
    "version": 3
   },
   "file_extension": ".py",
   "mimetype": "text/x-python",
   "name": "python",
   "nbconvert_exporter": "python",
   "pygments_lexer": "ipython3",
   "version": "3.7.7"
  },
  "toc": {
   "base_numbering": 1,
   "nav_menu": {},
   "number_sections": true,
   "sideBar": true,
   "skip_h1_title": true,
   "title_cell": "Table of Contents",
   "title_sidebar": "Contents",
   "toc_cell": true,
   "toc_position": {
    "height": "calc(100% - 180px)",
    "left": "10px",
    "top": "150px",
    "width": "288px"
   },
   "toc_section_display": true,
   "toc_window_display": false
  }
 },
 "nbformat": 4,
 "nbformat_minor": 5
}

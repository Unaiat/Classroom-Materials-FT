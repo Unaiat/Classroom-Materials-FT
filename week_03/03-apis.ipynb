{
 "cells": [
  {
   "cell_type": "markdown",
   "metadata": {},
   "source": [
    "# APIS "
   ]
  },
  {
   "cell_type": "markdown",
   "metadata": {},
   "source": [
    "![apis_gif](https://media.giphy.com/media/wepUQluC5smgEd4Qz4/giphy.gif)"
   ]
  },
  {
   "cell_type": "markdown",
   "metadata": {
    "toc": true
   },
   "source": [
    "<h1>Table of Contents<span class=\"tocSkip\"></span></h1>\n",
    "<div class=\"toc\"><ul class=\"toc-item\"><li><span><a href=\"#Resumen-de-librerías\" data-toc-modified-id=\"Resumen-de-librerías-1\"><span class=\"toc-item-num\">1&nbsp;&nbsp;</span>Resumen de librerías</a></span></li><li><span><a href=\"#Internet,-DNS,-IPs\" data-toc-modified-id=\"Internet,-DNS,-IPs-2\"><span class=\"toc-item-num\">2&nbsp;&nbsp;</span>Internet, DNS, IPs</a></span></li><li><span><a href=\"#HTTP\" data-toc-modified-id=\"HTTP-3\"><span class=\"toc-item-num\">3&nbsp;&nbsp;</span>HTTP</a></span><ul class=\"toc-item\"><li><span><a href=\"#URL\" data-toc-modified-id=\"URL-3.1\"><span class=\"toc-item-num\">3.1&nbsp;&nbsp;</span>URL</a></span></li><li><span><a href=\"#HTTP-vs-HTTPS\" data-toc-modified-id=\"HTTP-vs-HTTPS-3.2\"><span class=\"toc-item-num\">3.2&nbsp;&nbsp;</span>HTTP vs HTTPS</a></span></li><li><span><a href=\"#Requests\" data-toc-modified-id=\"Requests-3.3\"><span class=\"toc-item-num\">3.3&nbsp;&nbsp;</span>Requests</a></span></li><li><span><a href=\"#Response\" data-toc-modified-id=\"Response-3.4\"><span class=\"toc-item-num\">3.4&nbsp;&nbsp;</span>Response</a></span></li></ul></li><li><span><a href=\"#API\" data-toc-modified-id=\"API-4\"><span class=\"toc-item-num\">4&nbsp;&nbsp;</span>API</a></span><ul class=\"toc-item\"><li><span><a href=\"#RESTful-APIs\" data-toc-modified-id=\"RESTful-APIs-4.1\"><span class=\"toc-item-num\">4.1&nbsp;&nbsp;</span>RESTful APIs</a></span></li></ul></li><li><span><a href=\"#Let's-go\" data-toc-modified-id=\"Let's-go-5\"><span class=\"toc-item-num\">5&nbsp;&nbsp;</span>Let's go</a></span><ul class=\"toc-item\"><li><span><a href=\"#Requests-in-Python\" data-toc-modified-id=\"Requests-in-Python-5.1\"><span class=\"toc-item-num\">5.1&nbsp;&nbsp;</span>Requests in Python</a></span></li><li><span><a href=\"#HTML-response\" data-toc-modified-id=\"HTML-response-5.2\"><span class=\"toc-item-num\">5.2&nbsp;&nbsp;</span>HTML response</a></span></li><li><span><a href=\"#JSON-response\" data-toc-modified-id=\"JSON-response-5.3\"><span class=\"toc-item-num\">5.3&nbsp;&nbsp;</span>JSON response</a></span></li><li><span><a href=\"#Managing-data-in-pandas\" data-toc-modified-id=\"Managing-data-in-pandas-5.4\"><span class=\"toc-item-num\">5.4&nbsp;&nbsp;</span>Managing data in pandas</a></span></li><li><span><a href=\"#Parameters\" data-toc-modified-id=\"Parameters-5.5\"><span class=\"toc-item-num\">5.5&nbsp;&nbsp;</span>Parameters</a></span></li></ul></li><li><span><a href=\"#Try-Yourself!\" data-toc-modified-id=\"Try-Yourself!-6\"><span class=\"toc-item-num\">6&nbsp;&nbsp;</span>Try Yourself!</a></span></li><li><span><a href=\"#Headers\" data-toc-modified-id=\"Headers-7\"><span class=\"toc-item-num\">7&nbsp;&nbsp;</span>Headers</a></span></li><li><span><a href=\"#API-Keys\" data-toc-modified-id=\"API-Keys-8\"><span class=\"toc-item-num\">8&nbsp;&nbsp;</span>API Keys</a></span></li><li><span><a href=\"#API-Wrappers\" data-toc-modified-id=\"API-Wrappers-9\"><span class=\"toc-item-num\">9&nbsp;&nbsp;</span>API Wrappers</a></span><ul class=\"toc-item\"><li><span><a href=\"#Acceder-a-la-API-de-Twitter-con-Python\" data-toc-modified-id=\"Acceder-a-la-API-de-Twitter-con-Python-9.1\"><span class=\"toc-item-num\">9.1&nbsp;&nbsp;</span>Acceder a la API de Twitter con Python</a></span></li></ul></li><li><span><a href=\"#Clientes-API\" data-toc-modified-id=\"Clientes-API-10\"><span class=\"toc-item-num\">10&nbsp;&nbsp;</span>Clientes API</a></span></li><li><span><a href=\"#Summary\" data-toc-modified-id=\"Summary-11\"><span class=\"toc-item-num\">11&nbsp;&nbsp;</span>Summary</a></span><ul class=\"toc-item\"><li><span><a href=\"#Recorrido:\" data-toc-modified-id=\"Recorrido:-11.1\"><span class=\"toc-item-num\">11.1&nbsp;&nbsp;</span>Recorrido:</a></span></li></ul></li><li><span><a href=\"#Further-materials\" data-toc-modified-id=\"Further-materials-12\"><span class=\"toc-item-num\">12&nbsp;&nbsp;</span>Further materials</a></span></li></ul></div>"
   ]
  },
  {
   "cell_type": "markdown",
   "metadata": {},
   "source": [
    "## Resumen de librerías"
   ]
  },
  {
   "cell_type": "code",
   "execution_count": 1,
   "metadata": {},
   "outputs": [],
   "source": [
    "import requests \n",
    "import json\n",
    "import os\n",
    "from dotenv import load_dotenv\n",
    "import pandas as pd\n",
    "from pandas import json_normalize\n",
    "import tweepy\n",
    "import time"
   ]
  },
  {
   "cell_type": "markdown",
   "metadata": {},
   "source": [
    "PAR FAVAAAA ACORDAOS DE \n",
    "\n",
    "\n",
    "```python\n",
    "load_dotenv()\n",
    "````\n"
   ]
  },
  {
   "cell_type": "markdown",
   "metadata": {},
   "source": [
    "## Internet, DNS, IPs"
   ]
  },
  {
   "cell_type": "markdown",
   "metadata": {},
   "source": [
    "![enjuto](https://www.publico.es/files/article_main/uploads//2014/12/13/548bb18f1d9ef.jpg)"
   ]
  },
  {
   "cell_type": "markdown",
   "metadata": {},
   "source": [
    "[How do we connect to www.google.com?](https://www.youtube.com/watch?v=sUhEqT_HSBI&ab_channel=ProfeSang)"
   ]
  },
  {
   "cell_type": "markdown",
   "metadata": {},
   "source": [
    " * DNS (domain name server): maps internet address www.google.com to server IP: 216.58.222.196\n",
    " * IP: server identification. |code that allow information to be sent and received by the correct parties   \n",
    " * Domain providers: they sell and buy internet domains"
   ]
  },
  {
   "cell_type": "markdown",
   "metadata": {},
   "source": [
    "![arte](../images/arte.png)"
   ]
  },
  {
   "cell_type": "markdown",
   "metadata": {},
   "source": [
    "## HTTP"
   ]
  },
  {
   "cell_type": "markdown",
   "metadata": {},
   "source": [
    "**H**yper **T**ext **T**ransfer **P**rotocol   \n",
    "HTTP is a communications protocol that provides a structure for requests between client and server in a network.    \n",
    "For example, the Web browser in the user's computer (the client) employs the HTTP protocol to request information from a website on a server. "
   ]
  },
  {
   "cell_type": "markdown",
   "metadata": {},
   "source": [
    "### URL"
   ]
  },
  {
   "cell_type": "markdown",
   "metadata": {},
   "source": [
    "Contains information of which resource whe are asking the SERVER for."
   ]
  },
  {
   "cell_type": "markdown",
   "metadata": {},
   "source": [
    "Examples:\n",
    "\n",
    "- https://www.google.com/webhp?authuser=2\n",
    "- https://www.towardsdatascience.com"
   ]
  },
  {
   "cell_type": "markdown",
   "metadata": {},
   "source": [
    "- https://www.ironhack.com/\n",
    "- Protocol: https (https == http but https is encrypted)\n",
    "- Domain Name --> IRONHACK\n",
    "- TLD --> .com"
   ]
  },
  {
   "cell_type": "markdown",
   "metadata": {},
   "source": [
    "### HTTP vs HTTPS\n",
    "\n",
    "- HTTP transfers data in plain text while HTTPS transfers data in cipher text (encrypt text). \n",
    "- HTTP is fast as compared to HTTPS because HTTPS consumes computation power to encrypt the communication channel."
   ]
  },
  {
   "cell_type": "markdown",
   "metadata": {},
   "source": [
    "### Requests"
   ]
  },
  {
   "cell_type": "markdown",
   "metadata": {},
   "source": [
    "**Requests** are questions we formulate to a SERVER in order to receive a piece of information (a **response**)."
   ]
  },
  {
   "cell_type": "markdown",
   "metadata": {},
   "source": [
    "Type of requests:\n",
    " * GET: read information from resource, and not to modify it in any way. Webpage access from browser **gets** info.\n",
    " * POST\n",
    " * PUT\n",
    " * DELETE\n",
    " * PATCH\n",
    " * ..."
   ]
  },
  {
   "cell_type": "markdown",
   "metadata": {},
   "source": [
    "### Response"
   ]
  },
  {
   "cell_type": "markdown",
   "metadata": {},
   "source": [
    "Responses can be of several types:\n",
    " * a JSON (similar to Python dictionary)\n",
    " * an image\n",
    " * a video\n",
    " * a HTML page\n",
    " * a PDF file\n",
    " * ..."
   ]
  },
  {
   "cell_type": "markdown",
   "metadata": {},
   "source": [
    "Responses follow the following structure. They have:\n",
    " * a HEADER section: contains metadata about the behaviour of the server\n",
    " * a BODY: contains the desired piece of information\n",
    "One important part of the HEADER is the **status code**. This code is a numerical code indicating the result of the server. There are different status codes depending if the server succedded to perform the REQUEST or didn't manage to do anything at all. This are some groups of status codes:\n",
    "\n",
    "- **2xx** successful__: the request was successfully received, understood and accepted\n",
    "- **3xx** redirection__: further action needs to be taken in order to complete the request\n",
    "- **4xx** client error__: the request contains bad syntax or cannot be fulfilled\n",
    "- **5xx** server error__: the server failed to fulfill an apparently valid request\n",
    "\n",
    "Complete list:    \n",
    "https://en.wikipedia.org/wiki/List_of_HTTP_status_codes    \n",
    "More funny:    \n",
    "https://http.cat/   "
   ]
  },
  {
   "cell_type": "markdown",
   "metadata": {},
   "source": [
    "## API"
   ]
  },
  {
   "cell_type": "markdown",
   "metadata": {},
   "source": [
    "**A**pplication **P**rogramming **I**nterface\n",
    "* Cloud era, softwares need to communicate through internet.\n",
    "* Inside a project, backend might want to share with frontend information without ddbb access.\n",
    "* It is a contract between software products. \n",
    "* It is an instruction manual to use some software.\n",
    "* Client calls server through an API, server responds."
   ]
  },
  {
   "cell_type": "markdown",
   "metadata": {},
   "source": [
    "### RESTful APIs"
   ]
  },
  {
   "cell_type": "markdown",
   "metadata": {},
   "source": [
    "Most interactive APIs follow REST logic, a series of rules   \n",
    "- [Guiding Principles of REST](https://restfulapi.net/)   \n",
    "- [What is a RESTful API (Video)](https://www.youtube.com/watch?v=JD6VNRdGl98&ab_channel=LeonardoKuffo)   \n",
    "\n",
    "Who does what:  \n",
    "* we (client) send a request\n",
    "* they (server) send back a response, generally in JSON format      \n",
    "\n",
    "APIs always have to offer documentation of their different services: **endpoints**  \n",
    "Each endpoint is a different URL"
   ]
  },
  {
   "cell_type": "markdown",
   "metadata": {},
   "source": [
    "## Let's go"
   ]
  },
  {
   "cell_type": "markdown",
   "metadata": {},
   "source": [
    "### Requests in Python"
   ]
  },
  {
   "cell_type": "code",
   "execution_count": 2,
   "metadata": {},
   "outputs": [],
   "source": [
    "# Remember, you must read the doc  --> Request, HTTP for Humans."
   ]
  },
  {
   "cell_type": "markdown",
   "metadata": {},
   "source": [
    "https://requests.readthedocs.io/en/master/"
   ]
  },
  {
   "cell_type": "code",
   "execution_count": 3,
   "metadata": {},
   "outputs": [],
   "source": [
    "#!pip3 install requests"
   ]
  },
  {
   "cell_type": "code",
   "execution_count": 2,
   "metadata": {},
   "outputs": [],
   "source": [
    "import requests"
   ]
  },
  {
   "cell_type": "markdown",
   "metadata": {},
   "source": [
    "### HTML response"
   ]
  },
  {
   "cell_type": "markdown",
   "metadata": {},
   "source": [
    "I can call a url and have all the html, all the response from the server."
   ]
  },
  {
   "cell_type": "code",
   "execution_count": 3,
   "metadata": {},
   "outputs": [],
   "source": [
    "response_pais = requests.get(\"https://www.elpais.com\")"
   ]
  },
  {
   "cell_type": "code",
   "execution_count": 4,
   "metadata": {},
   "outputs": [
    {
     "name": "stdout",
     "output_type": "stream",
     "text": [
      "<Response [200]>\n"
     ]
    }
   ],
   "source": [
    "print(response_pais)"
   ]
  },
  {
   "cell_type": "code",
   "execution_count": 5,
   "metadata": {},
   "outputs": [
    {
     "data": {
      "text/plain": [
       "{'Content-Type': 'text/html; charset=utf-8', 'Server': 'openresty', 'x-aws-lambda-call-status': '200', 'Content-Encoding': 'gzip', 'ETag': 'W/\"107910-AhJP5FFiLmcNscfu0oFekwt90ac\"', 'Last-Modified': 'Fri, 09 Apr 2021 16:34:38 GMT', 'X-Origin-Cache-Key': 'clientpfGET/', 'Vary': 'Accept-Encoding', 'X-Akamai-Transformed': '9 - 0 pmb=mRUM,2', 'Cache-Control': 'private, max-age=60', 'Expires': 'Fri, 09 Apr 2021 16:36:35 GMT', 'Date': 'Fri, 09 Apr 2021 16:35:35 GMT', 'Transfer-Encoding': 'chunked', 'Connection': 'keep-alive, Transfer-Encoding', 'Set-Cookie': 'arc-geo={\"georegion\":\"200\",\"countrycode\":\"ES\",\"regioncode\":\"\",\"timezone\":\"GMT+1\",\"continent\":\"EU\"}; expires=Fri, 09-Apr-2021 16:50:35 GMT; path=/', 'Server-Timing': 'cdn-cache; desc=HIT, edge; dur=1'}"
      ]
     },
     "execution_count": 5,
     "metadata": {},
     "output_type": "execute_result"
    }
   ],
   "source": [
    "response_pais.headers"
   ]
  },
  {
   "cell_type": "code",
   "execution_count": 6,
   "metadata": {},
   "outputs": [
    {
     "data": {
      "text/plain": [
       "200"
      ]
     },
     "execution_count": 6,
     "metadata": {},
     "output_type": "execute_result"
    }
   ],
   "source": [
    "response_pais.status_code"
   ]
  },
  {
   "cell_type": "code",
   "execution_count": 7,
   "metadata": {},
   "outputs": [],
   "source": [
    "#response_pais.content"
   ]
  },
  {
   "cell_type": "code",
   "execution_count": 8,
   "metadata": {},
   "outputs": [],
   "source": [
    "html = str(response_pais.content)"
   ]
  },
  {
   "cell_type": "code",
   "execution_count": 9,
   "metadata": {},
   "outputs": [
    {
     "data": {
      "text/plain": [
       "True"
      ]
     },
     "execution_count": 9,
     "metadata": {},
     "output_type": "execute_result"
    }
   ],
   "source": [
    "\"AstraZeneca\" in html"
   ]
  },
  {
   "cell_type": "markdown",
   "metadata": {},
   "source": [
    "### JSON response"
   ]
  },
  {
   "cell_type": "markdown",
   "metadata": {},
   "source": [
    "JSON: Java Script Object Notation"
   ]
  },
  {
   "cell_type": "markdown",
   "metadata": {},
   "source": [
    "Let's get information from ISS (international space station)!"
   ]
  },
  {
   "cell_type": "markdown",
   "metadata": {},
   "source": [
    "[ISS API documentation](https://wheretheiss.at/w/developer)"
   ]
  },
  {
   "cell_type": "code",
   "execution_count": 10,
   "metadata": {},
   "outputs": [],
   "source": [
    "url = \"https://api.wheretheiss.at/v1/satellites/\""
   ]
  },
  {
   "cell_type": "code",
   "execution_count": 11,
   "metadata": {},
   "outputs": [],
   "source": [
    "response = requests.get(\"https://api.wheretheiss.at/v1/satellites/\")"
   ]
  },
  {
   "cell_type": "code",
   "execution_count": 12,
   "metadata": {},
   "outputs": [
    {
     "data": {
      "text/plain": [
       "<Response [200]>"
      ]
     },
     "execution_count": 12,
     "metadata": {},
     "output_type": "execute_result"
    }
   ],
   "source": [
    "response"
   ]
  },
  {
   "cell_type": "code",
   "execution_count": 13,
   "metadata": {},
   "outputs": [
    {
     "data": {
      "text/plain": [
       "b'[{\"name\":\"iss\",\"id\":25544}]'"
      ]
     },
     "execution_count": 13,
     "metadata": {},
     "output_type": "execute_result"
    }
   ],
   "source": [
    "response.content"
   ]
  },
  {
   "cell_type": "code",
   "execution_count": 14,
   "metadata": {},
   "outputs": [
    {
     "data": {
      "text/plain": [
       "{'Date': 'Fri, 09 Apr 2021 16:35:54 GMT', 'Server': 'Apache/2.2.22 (Ubuntu)', 'X-Powered-By': 'PHP/5.3.10-1ubuntu3.26', 'X-Rate-Limit-Limit': '350', 'X-Rate-Limit-Remaining': '349', 'X-Rate-Limit-Interval': '5 minutes', 'Access-Control-Allow-Origin': '*', 'X-Apache-Time': 'D=15581', 'Cache-Control': 'max-age=0, no-cache', 'Content-Length': '27', 'Keep-Alive': 'timeout=15, max=100', 'Connection': 'Keep-Alive', 'Content-Type': 'application/json'}"
      ]
     },
     "execution_count": 14,
     "metadata": {},
     "output_type": "execute_result"
    }
   ],
   "source": [
    "response.headers"
   ]
  },
  {
   "cell_type": "code",
   "execution_count": 17,
   "metadata": {},
   "outputs": [],
   "source": [
    "prueba = requests.get(\"https://api.wheretheiss.at/v1/satellites/\")"
   ]
  },
  {
   "cell_type": "markdown",
   "metadata": {},
   "source": [
    "If response Content-Type is json, we can access it with `.json()`"
   ]
  },
  {
   "cell_type": "code",
   "execution_count": 18,
   "metadata": {},
   "outputs": [],
   "source": [
    "# https://docs.python.org/3/library/json.html\n",
    "import json"
   ]
  },
  {
   "cell_type": "code",
   "execution_count": 19,
   "metadata": {},
   "outputs": [],
   "source": [
    "info = response.json()"
   ]
  },
  {
   "cell_type": "code",
   "execution_count": 20,
   "metadata": {},
   "outputs": [
    {
     "data": {
      "text/plain": [
       "[{'name': 'iss', 'id': 25544}]"
      ]
     },
     "execution_count": 20,
     "metadata": {},
     "output_type": "execute_result"
    }
   ],
   "source": [
    "info"
   ]
  },
  {
   "cell_type": "code",
   "execution_count": 21,
   "metadata": {},
   "outputs": [
    {
     "data": {
      "text/plain": [
       "list"
      ]
     },
     "execution_count": 21,
     "metadata": {},
     "output_type": "execute_result"
    }
   ],
   "source": [
    "type(info)"
   ]
  },
  {
   "cell_type": "code",
   "execution_count": 22,
   "metadata": {},
   "outputs": [
    {
     "data": {
      "text/plain": [
       "'iss'"
      ]
     },
     "execution_count": 22,
     "metadata": {},
     "output_type": "execute_result"
    }
   ],
   "source": [
    "info[0][\"name\"]"
   ]
  },
  {
   "cell_type": "code",
   "execution_count": 23,
   "metadata": {},
   "outputs": [
    {
     "data": {
      "text/plain": [
       "dict_items([('name', 'iss'), ('id', 25544)])"
      ]
     },
     "execution_count": 23,
     "metadata": {},
     "output_type": "execute_result"
    }
   ],
   "source": [
    "info[0].items()"
   ]
  },
  {
   "cell_type": "code",
   "execution_count": 24,
   "metadata": {},
   "outputs": [
    {
     "data": {
      "text/plain": [
       "'25544'"
      ]
     },
     "execution_count": 24,
     "metadata": {},
     "output_type": "execute_result"
    }
   ],
   "source": [
    "id_ = str(info[0][\"id\"])\n",
    "id_"
   ]
  },
  {
   "cell_type": "code",
   "execution_count": 25,
   "metadata": {},
   "outputs": [
    {
     "data": {
      "text/plain": [
       "'https://api.wheretheiss.at/v1/satellites/25544'"
      ]
     },
     "execution_count": 25,
     "metadata": {},
     "output_type": "execute_result"
    }
   ],
   "source": [
    "url + id_"
   ]
  },
  {
   "cell_type": "code",
   "execution_count": 26,
   "metadata": {},
   "outputs": [],
   "source": [
    "estacion = requests.get(url+id_).json()"
   ]
  },
  {
   "cell_type": "code",
   "execution_count": 27,
   "metadata": {},
   "outputs": [
    {
     "data": {
      "text/plain": [
       "{'name': 'iss',\n",
       " 'id': 25544,\n",
       " 'latitude': 10.349728778161,\n",
       " 'longitude': 98.10585500323,\n",
       " 'altitude': 418.36697386644,\n",
       " 'velocity': 27587.498822771,\n",
       " 'visibility': 'eclipsed',\n",
       " 'footprint': 4499.1460080398,\n",
       " 'timestamp': 1617888882,\n",
       " 'daynum': 2459313.0657639,\n",
       " 'solar_lat': 7.4197598441383,\n",
       " 'solar_lon': 336.77264012988,\n",
       " 'units': 'kilometers'}"
      ]
     },
     "execution_count": 27,
     "metadata": {},
     "output_type": "execute_result"
    }
   ],
   "source": [
    "estacion"
   ]
  },
  {
   "cell_type": "code",
   "execution_count": 28,
   "metadata": {},
   "outputs": [],
   "source": [
    "#Vamos a hacer una request mal para ver el código de error"
   ]
  },
  {
   "cell_type": "code",
   "execution_count": 29,
   "metadata": {},
   "outputs": [],
   "source": [
    "url_mal = \"https://api.wheretheiss.at/v1/satellites/36\""
   ]
  },
  {
   "cell_type": "code",
   "execution_count": 30,
   "metadata": {},
   "outputs": [],
   "source": [
    "response_mal = requests.get(url_mal)"
   ]
  },
  {
   "cell_type": "code",
   "execution_count": 31,
   "metadata": {},
   "outputs": [
    {
     "data": {
      "text/plain": [
       "<Response [404]>"
      ]
     },
     "execution_count": 31,
     "metadata": {},
     "output_type": "execute_result"
    }
   ],
   "source": [
    "response_mal"
   ]
  },
  {
   "cell_type": "code",
   "execution_count": 32,
   "metadata": {},
   "outputs": [
    {
     "data": {
      "text/plain": [
       "{'error': 'satellite not found', 'status': 404}"
      ]
     },
     "execution_count": 32,
     "metadata": {},
     "output_type": "execute_result"
    }
   ],
   "source": [
    "response_mal.json()"
   ]
  },
  {
   "cell_type": "markdown",
   "metadata": {},
   "source": [
    "### Managing data in pandas"
   ]
  },
  {
   "cell_type": "code",
   "execution_count": 33,
   "metadata": {},
   "outputs": [],
   "source": [
    "# Vamos a convertir a dataframe los datos que nos devuelve una API"
   ]
  },
  {
   "cell_type": "code",
   "execution_count": 34,
   "metadata": {},
   "outputs": [],
   "source": [
    "import pandas as pd"
   ]
  },
  {
   "cell_type": "code",
   "execution_count": 35,
   "metadata": {},
   "outputs": [],
   "source": [
    "#df = pd.DataFrame.from_dict(estacion, orient = \"columns\")"
   ]
  },
  {
   "cell_type": "code",
   "execution_count": 36,
   "metadata": {},
   "outputs": [],
   "source": [
    "# Primero lo hemos hecho a lo loco... y evidentemente, no es el camino"
   ]
  },
  {
   "cell_type": "code",
   "execution_count": 37,
   "metadata": {},
   "outputs": [
    {
     "data": {
      "text/plain": [
       "{'name': 'iss',\n",
       " 'id': 25544,\n",
       " 'latitude': 10.349728778161,\n",
       " 'longitude': 98.10585500323,\n",
       " 'altitude': 418.36697386644,\n",
       " 'velocity': 27587.498822771,\n",
       " 'visibility': 'eclipsed',\n",
       " 'footprint': 4499.1460080398,\n",
       " 'timestamp': 1617888882,\n",
       " 'daynum': 2459313.0657639,\n",
       " 'solar_lat': 7.4197598441383,\n",
       " 'solar_lon': 336.77264012988,\n",
       " 'units': 'kilometers'}"
      ]
     },
     "execution_count": 37,
     "metadata": {},
     "output_type": "execute_result"
    }
   ],
   "source": [
    "estacion"
   ]
  },
  {
   "cell_type": "code",
   "execution_count": 38,
   "metadata": {},
   "outputs": [],
   "source": [
    "# Hacemos una lista vacía y añadimos la response para tener una lista con un diccionario y que pandas lo parsee"
   ]
  },
  {
   "cell_type": "code",
   "execution_count": 39,
   "metadata": {},
   "outputs": [],
   "source": [
    "lista = []"
   ]
  },
  {
   "cell_type": "code",
   "execution_count": 40,
   "metadata": {},
   "outputs": [],
   "source": [
    "lista.append(estacion)"
   ]
  },
  {
   "cell_type": "code",
   "execution_count": 41,
   "metadata": {},
   "outputs": [],
   "source": [
    "df = pd.DataFrame(lista)"
   ]
  },
  {
   "cell_type": "code",
   "execution_count": 42,
   "metadata": {},
   "outputs": [
    {
     "data": {
      "text/html": [
       "<div>\n",
       "<style scoped>\n",
       "    .dataframe tbody tr th:only-of-type {\n",
       "        vertical-align: middle;\n",
       "    }\n",
       "\n",
       "    .dataframe tbody tr th {\n",
       "        vertical-align: top;\n",
       "    }\n",
       "\n",
       "    .dataframe thead th {\n",
       "        text-align: right;\n",
       "    }\n",
       "</style>\n",
       "<table border=\"1\" class=\"dataframe\">\n",
       "  <thead>\n",
       "    <tr style=\"text-align: right;\">\n",
       "      <th></th>\n",
       "      <th>name</th>\n",
       "      <th>id</th>\n",
       "      <th>latitude</th>\n",
       "      <th>longitude</th>\n",
       "      <th>altitude</th>\n",
       "      <th>velocity</th>\n",
       "      <th>visibility</th>\n",
       "      <th>footprint</th>\n",
       "      <th>timestamp</th>\n",
       "      <th>daynum</th>\n",
       "      <th>solar_lat</th>\n",
       "      <th>solar_lon</th>\n",
       "      <th>units</th>\n",
       "    </tr>\n",
       "  </thead>\n",
       "  <tbody>\n",
       "    <tr>\n",
       "      <th>0</th>\n",
       "      <td>iss</td>\n",
       "      <td>25544</td>\n",
       "      <td>10.349729</td>\n",
       "      <td>98.105855</td>\n",
       "      <td>418.366974</td>\n",
       "      <td>27587.498823</td>\n",
       "      <td>eclipsed</td>\n",
       "      <td>4499.146008</td>\n",
       "      <td>1617888882</td>\n",
       "      <td>2.459313e+06</td>\n",
       "      <td>7.41976</td>\n",
       "      <td>336.77264</td>\n",
       "      <td>kilometers</td>\n",
       "    </tr>\n",
       "  </tbody>\n",
       "</table>\n",
       "</div>"
      ],
      "text/plain": [
       "  name     id   latitude  longitude    altitude      velocity visibility  \\\n",
       "0  iss  25544  10.349729  98.105855  418.366974  27587.498823   eclipsed   \n",
       "\n",
       "     footprint   timestamp        daynum  solar_lat  solar_lon       units  \n",
       "0  4499.146008  1617888882  2.459313e+06    7.41976  336.77264  kilometers  "
      ]
     },
     "execution_count": 42,
     "metadata": {},
     "output_type": "execute_result"
    }
   ],
   "source": [
    "df.head()"
   ]
  },
  {
   "cell_type": "code",
   "execution_count": 43,
   "metadata": {},
   "outputs": [],
   "source": [
    "# Pandas hace esto por nosotras con json normalize🐼"
   ]
  },
  {
   "cell_type": "code",
   "execution_count": 44,
   "metadata": {},
   "outputs": [],
   "source": [
    "from pandas import json_normalize"
   ]
  },
  {
   "cell_type": "code",
   "execution_count": 45,
   "metadata": {},
   "outputs": [],
   "source": [
    "para_json = requests.get(\"https://api.wheretheiss.at/v1/satellites/25544\").json()"
   ]
  },
  {
   "cell_type": "code",
   "execution_count": 46,
   "metadata": {},
   "outputs": [
    {
     "data": {
      "text/plain": [
       "{'name': 'iss',\n",
       " 'id': 25544,\n",
       " 'latitude': 10.29927589217,\n",
       " 'longitude': 98.143064601377,\n",
       " 'altitude': 418.36667996739,\n",
       " 'velocity': 27587.485361174,\n",
       " 'visibility': 'eclipsed',\n",
       " 'footprint': 4499.1445094449,\n",
       " 'timestamp': 1617888883,\n",
       " 'daynum': 2459313.0657755,\n",
       " 'solar_lat': 7.4197641595984,\n",
       " 'solar_lon': 336.76847269167,\n",
       " 'units': 'kilometers'}"
      ]
     },
     "execution_count": 46,
     "metadata": {},
     "output_type": "execute_result"
    }
   ],
   "source": [
    "para_json"
   ]
  },
  {
   "cell_type": "code",
   "execution_count": 47,
   "metadata": {},
   "outputs": [
    {
     "data": {
      "text/html": [
       "<div>\n",
       "<style scoped>\n",
       "    .dataframe tbody tr th:only-of-type {\n",
       "        vertical-align: middle;\n",
       "    }\n",
       "\n",
       "    .dataframe tbody tr th {\n",
       "        vertical-align: top;\n",
       "    }\n",
       "\n",
       "    .dataframe thead th {\n",
       "        text-align: right;\n",
       "    }\n",
       "</style>\n",
       "<table border=\"1\" class=\"dataframe\">\n",
       "  <thead>\n",
       "    <tr style=\"text-align: right;\">\n",
       "      <th></th>\n",
       "      <th>name</th>\n",
       "      <th>id</th>\n",
       "      <th>latitude</th>\n",
       "      <th>longitude</th>\n",
       "      <th>altitude</th>\n",
       "      <th>velocity</th>\n",
       "      <th>visibility</th>\n",
       "      <th>footprint</th>\n",
       "      <th>timestamp</th>\n",
       "      <th>daynum</th>\n",
       "      <th>solar_lat</th>\n",
       "      <th>solar_lon</th>\n",
       "      <th>units</th>\n",
       "    </tr>\n",
       "  </thead>\n",
       "  <tbody>\n",
       "    <tr>\n",
       "      <th>0</th>\n",
       "      <td>iss</td>\n",
       "      <td>25544</td>\n",
       "      <td>10.299276</td>\n",
       "      <td>98.143065</td>\n",
       "      <td>418.36668</td>\n",
       "      <td>27587.485361</td>\n",
       "      <td>eclipsed</td>\n",
       "      <td>4499.144509</td>\n",
       "      <td>1617888883</td>\n",
       "      <td>2.459313e+06</td>\n",
       "      <td>7.419764</td>\n",
       "      <td>336.768473</td>\n",
       "      <td>kilometers</td>\n",
       "    </tr>\n",
       "  </tbody>\n",
       "</table>\n",
       "</div>"
      ],
      "text/plain": [
       "  name     id   latitude  longitude   altitude      velocity visibility  \\\n",
       "0  iss  25544  10.299276  98.143065  418.36668  27587.485361   eclipsed   \n",
       "\n",
       "     footprint   timestamp        daynum  solar_lat   solar_lon       units  \n",
       "0  4499.144509  1617888883  2.459313e+06   7.419764  336.768473  kilometers  "
      ]
     },
     "execution_count": 47,
     "metadata": {},
     "output_type": "execute_result"
    }
   ],
   "source": [
    "json_normalize(para_json)"
   ]
  },
  {
   "cell_type": "code",
   "execution_count": 48,
   "metadata": {},
   "outputs": [],
   "source": [
    "#Vamos a hacer varias requests seguidas para obtener más información, ponemos el time sleep para que la ISS se mueva"
   ]
  },
  {
   "cell_type": "code",
   "execution_count": 49,
   "metadata": {},
   "outputs": [
    {
     "name": "stdout",
     "output_type": "stream",
     "text": [
      "0\n",
      "[{'name': 'iss', 'id': 25544, 'latitude': 10.248817609593, 'longitude': 98.18026103951, 'altitude': 418.36641543113, 'velocity': 27587.471847379, 'visibility': 'eclipsed', 'footprint': 4499.1431605707, 'timestamp': 1617888884, 'daynum': 2459313.065787, 'solar_lat': 7.4197684750581, 'solar_lon': 336.76430525345, 'units': 'kilometers'}]\n",
      "1\n",
      "[{'name': 'iss', 'id': 25544, 'latitude': 10.248817609593, 'longitude': 98.18026103951, 'altitude': 418.36641543113, 'velocity': 27587.471847379, 'visibility': 'eclipsed', 'footprint': 4499.1431605707, 'timestamp': 1617888884, 'daynum': 2459313.065787, 'solar_lat': 7.4197684750581, 'solar_lon': 336.76430525345, 'units': 'kilometers'}, {'name': 'iss', 'id': 25544, 'latitude': 10.198353959448, 'longitude': 98.217444385941, 'altitude': 418.36618027943, 'velocity': 27587.458281375, 'visibility': 'eclipsed', 'footprint': 4499.1419615284, 'timestamp': 1617888885, 'daynum': 2459313.0657986, 'solar_lat': 7.4197727905175, 'solar_lon': 336.76013781524, 'units': 'kilometers'}]\n",
      "2\n",
      "[{'name': 'iss', 'id': 25544, 'latitude': 10.248817609593, 'longitude': 98.18026103951, 'altitude': 418.36641543113, 'velocity': 27587.471847379, 'visibility': 'eclipsed', 'footprint': 4499.1431605707, 'timestamp': 1617888884, 'daynum': 2459313.065787, 'solar_lat': 7.4197684750581, 'solar_lon': 336.76430525345, 'units': 'kilometers'}, {'name': 'iss', 'id': 25544, 'latitude': 10.198353959448, 'longitude': 98.217444385941, 'altitude': 418.36618027943, 'velocity': 27587.458281375, 'visibility': 'eclipsed', 'footprint': 4499.1419615284, 'timestamp': 1617888885, 'daynum': 2459313.0657986, 'solar_lat': 7.4197727905175, 'solar_lon': 336.76013781524, 'units': 'kilometers'}, {'name': 'iss', 'id': 25544, 'latitude': 10.147882940076, 'longitude': 98.254616204156, 'altitude': 418.36597452624, 'velocity': 27587.444662598, 'visibility': 'eclipsed', 'footprint': 4499.1409123892, 'timestamp': 1617888886, 'daynum': 2459313.0658102, 'solar_lat': 7.4197771061501, 'solar_lon': 336.75597020936, 'units': 'kilometers'}]\n",
      "3\n",
      "[{'name': 'iss', 'id': 25544, 'latitude': 10.248817609593, 'longitude': 98.18026103951, 'altitude': 418.36641543113, 'velocity': 27587.471847379, 'visibility': 'eclipsed', 'footprint': 4499.1431605707, 'timestamp': 1617888884, 'daynum': 2459313.065787, 'solar_lat': 7.4197684750581, 'solar_lon': 336.76430525345, 'units': 'kilometers'}, {'name': 'iss', 'id': 25544, 'latitude': 10.198353959448, 'longitude': 98.217444385941, 'altitude': 418.36618027943, 'velocity': 27587.458281375, 'visibility': 'eclipsed', 'footprint': 4499.1419615284, 'timestamp': 1617888885, 'daynum': 2459313.0657986, 'solar_lat': 7.4197727905175, 'solar_lon': 336.76013781524, 'units': 'kilometers'}, {'name': 'iss', 'id': 25544, 'latitude': 10.147882940076, 'longitude': 98.254616204156, 'altitude': 418.36597452624, 'velocity': 27587.444662598, 'visibility': 'eclipsed', 'footprint': 4499.1409123892, 'timestamp': 1617888886, 'daynum': 2459313.0658102, 'solar_lat': 7.4197771061501, 'solar_lon': 336.75597020936, 'units': 'kilometers'}, {'name': 'iss', 'id': 25544, 'latitude': 10.097408641508, 'longitude': 98.291773571387, 'altitude': 418.3657982096, 'velocity': 27587.430992132, 'visibility': 'eclipsed', 'footprint': 4499.1400133473, 'timestamp': 1617888887, 'daynum': 2459313.0658218, 'solar_lat': 7.419781421609, 'solar_lon': 336.75180277115, 'units': 'kilometers'}]\n",
      "4\n",
      "[{'name': 'iss', 'id': 25544, 'latitude': 10.248817609593, 'longitude': 98.18026103951, 'altitude': 418.36641543113, 'velocity': 27587.471847379, 'visibility': 'eclipsed', 'footprint': 4499.1431605707, 'timestamp': 1617888884, 'daynum': 2459313.065787, 'solar_lat': 7.4197684750581, 'solar_lon': 336.76430525345, 'units': 'kilometers'}, {'name': 'iss', 'id': 25544, 'latitude': 10.198353959448, 'longitude': 98.217444385941, 'altitude': 418.36618027943, 'velocity': 27587.458281375, 'visibility': 'eclipsed', 'footprint': 4499.1419615284, 'timestamp': 1617888885, 'daynum': 2459313.0657986, 'solar_lat': 7.4197727905175, 'solar_lon': 336.76013781524, 'units': 'kilometers'}, {'name': 'iss', 'id': 25544, 'latitude': 10.147882940076, 'longitude': 98.254616204156, 'altitude': 418.36597452624, 'velocity': 27587.444662598, 'visibility': 'eclipsed', 'footprint': 4499.1409123892, 'timestamp': 1617888886, 'daynum': 2459313.0658102, 'solar_lat': 7.4197771061501, 'solar_lon': 336.75597020936, 'units': 'kilometers'}, {'name': 'iss', 'id': 25544, 'latitude': 10.097408641508, 'longitude': 98.291773571387, 'altitude': 418.3657982096, 'velocity': 27587.430992132, 'visibility': 'eclipsed', 'footprint': 4499.1400133473, 'timestamp': 1617888887, 'daynum': 2459313.0658218, 'solar_lat': 7.419781421609, 'solar_lon': 336.75180277115, 'units': 'kilometers'}, {'name': 'iss', 'id': 25544, 'latitude': 10.046929062244, 'longitude': 98.328918051531, 'altitude': 418.36565134201, 'velocity': 27587.417269418, 'visibility': 'eclipsed', 'footprint': 4499.1392644665, 'timestamp': 1617888888, 'daynum': 2459313.0658333, 'solar_lat': 7.4197857370677, 'solar_lon': 336.74763533294, 'units': 'kilometers'}]\n",
      "5\n",
      "[{'name': 'iss', 'id': 25544, 'latitude': 10.248817609593, 'longitude': 98.18026103951, 'altitude': 418.36641543113, 'velocity': 27587.471847379, 'visibility': 'eclipsed', 'footprint': 4499.1431605707, 'timestamp': 1617888884, 'daynum': 2459313.065787, 'solar_lat': 7.4197684750581, 'solar_lon': 336.76430525345, 'units': 'kilometers'}, {'name': 'iss', 'id': 25544, 'latitude': 10.198353959448, 'longitude': 98.217444385941, 'altitude': 418.36618027943, 'velocity': 27587.458281375, 'visibility': 'eclipsed', 'footprint': 4499.1419615284, 'timestamp': 1617888885, 'daynum': 2459313.0657986, 'solar_lat': 7.4197727905175, 'solar_lon': 336.76013781524, 'units': 'kilometers'}, {'name': 'iss', 'id': 25544, 'latitude': 10.147882940076, 'longitude': 98.254616204156, 'altitude': 418.36597452624, 'velocity': 27587.444662598, 'visibility': 'eclipsed', 'footprint': 4499.1409123892, 'timestamp': 1617888886, 'daynum': 2459313.0658102, 'solar_lat': 7.4197771061501, 'solar_lon': 336.75597020936, 'units': 'kilometers'}, {'name': 'iss', 'id': 25544, 'latitude': 10.097408641508, 'longitude': 98.291773571387, 'altitude': 418.3657982096, 'velocity': 27587.430992132, 'visibility': 'eclipsed', 'footprint': 4499.1400133473, 'timestamp': 1617888887, 'daynum': 2459313.0658218, 'solar_lat': 7.419781421609, 'solar_lon': 336.75180277115, 'units': 'kilometers'}, {'name': 'iss', 'id': 25544, 'latitude': 10.046929062244, 'longitude': 98.328918051531, 'altitude': 418.36565134201, 'velocity': 27587.417269418, 'visibility': 'eclipsed', 'footprint': 4499.1392644665, 'timestamp': 1617888888, 'daynum': 2459313.0658333, 'solar_lat': 7.4197857370677, 'solar_lon': 336.74763533294, 'units': 'kilometers'}, {'name': 'iss', 'id': 25544, 'latitude': 9.9964442311807, 'longitude': 98.366049712685, 'altitude': 418.36553394468, 'velocity': 27587.403494443, 'visibility': 'eclipsed', 'footprint': 4499.1386658551, 'timestamp': 1617888889, 'daynum': 2459313.0658449, 'solar_lat': 7.4197900525232, 'solar_lon': 336.74346789473, 'units': 'kilometers'}]\n",
      "6\n",
      "[{'name': 'iss', 'id': 25544, 'latitude': 10.248817609593, 'longitude': 98.18026103951, 'altitude': 418.36641543113, 'velocity': 27587.471847379, 'visibility': 'eclipsed', 'footprint': 4499.1431605707, 'timestamp': 1617888884, 'daynum': 2459313.065787, 'solar_lat': 7.4197684750581, 'solar_lon': 336.76430525345, 'units': 'kilometers'}, {'name': 'iss', 'id': 25544, 'latitude': 10.198353959448, 'longitude': 98.217444385941, 'altitude': 418.36618027943, 'velocity': 27587.458281375, 'visibility': 'eclipsed', 'footprint': 4499.1419615284, 'timestamp': 1617888885, 'daynum': 2459313.0657986, 'solar_lat': 7.4197727905175, 'solar_lon': 336.76013781524, 'units': 'kilometers'}, {'name': 'iss', 'id': 25544, 'latitude': 10.147882940076, 'longitude': 98.254616204156, 'altitude': 418.36597452624, 'velocity': 27587.444662598, 'visibility': 'eclipsed', 'footprint': 4499.1409123892, 'timestamp': 1617888886, 'daynum': 2459313.0658102, 'solar_lat': 7.4197771061501, 'solar_lon': 336.75597020936, 'units': 'kilometers'}, {'name': 'iss', 'id': 25544, 'latitude': 10.097408641508, 'longitude': 98.291773571387, 'altitude': 418.3657982096, 'velocity': 27587.430992132, 'visibility': 'eclipsed', 'footprint': 4499.1400133473, 'timestamp': 1617888887, 'daynum': 2459313.0658218, 'solar_lat': 7.419781421609, 'solar_lon': 336.75180277115, 'units': 'kilometers'}, {'name': 'iss', 'id': 25544, 'latitude': 10.046929062244, 'longitude': 98.328918051531, 'altitude': 418.36565134201, 'velocity': 27587.417269418, 'visibility': 'eclipsed', 'footprint': 4499.1392644665, 'timestamp': 1617888888, 'daynum': 2459313.0658333, 'solar_lat': 7.4197857370677, 'solar_lon': 336.74763533294, 'units': 'kilometers'}, {'name': 'iss', 'id': 25544, 'latitude': 9.9964442311807, 'longitude': 98.366049712685, 'altitude': 418.36553394468, 'velocity': 27587.403494443, 'visibility': 'eclipsed', 'footprint': 4499.1386658551, 'timestamp': 1617888889, 'daynum': 2459313.0658449, 'solar_lat': 7.4197900525232, 'solar_lon': 336.74346789473, 'units': 'kilometers'}, {'name': 'iss', 'id': 25544, 'latitude': 9.9459541771895, 'longitude': 98.403168622888, 'altitude': 418.3654460387, 'velocity': 27587.389667195, 'visibility': 'eclipsed', 'footprint': 4499.1382176205, 'timestamp': 1617888890, 'daynum': 2459313.0658565, 'solar_lat': 7.4197943679813, 'solar_lon': 336.73930045652, 'units': 'kilometers'}]\n"
     ]
    },
    {
     "name": "stdout",
     "output_type": "stream",
     "text": [
      "7\n",
      "[{'name': 'iss', 'id': 25544, 'latitude': 10.248817609593, 'longitude': 98.18026103951, 'altitude': 418.36641543113, 'velocity': 27587.471847379, 'visibility': 'eclipsed', 'footprint': 4499.1431605707, 'timestamp': 1617888884, 'daynum': 2459313.065787, 'solar_lat': 7.4197684750581, 'solar_lon': 336.76430525345, 'units': 'kilometers'}, {'name': 'iss', 'id': 25544, 'latitude': 10.198353959448, 'longitude': 98.217444385941, 'altitude': 418.36618027943, 'velocity': 27587.458281375, 'visibility': 'eclipsed', 'footprint': 4499.1419615284, 'timestamp': 1617888885, 'daynum': 2459313.0657986, 'solar_lat': 7.4197727905175, 'solar_lon': 336.76013781524, 'units': 'kilometers'}, {'name': 'iss', 'id': 25544, 'latitude': 10.147882940076, 'longitude': 98.254616204156, 'altitude': 418.36597452624, 'velocity': 27587.444662598, 'visibility': 'eclipsed', 'footprint': 4499.1409123892, 'timestamp': 1617888886, 'daynum': 2459313.0658102, 'solar_lat': 7.4197771061501, 'solar_lon': 336.75597020936, 'units': 'kilometers'}, {'name': 'iss', 'id': 25544, 'latitude': 10.097408641508, 'longitude': 98.291773571387, 'altitude': 418.3657982096, 'velocity': 27587.430992132, 'visibility': 'eclipsed', 'footprint': 4499.1400133473, 'timestamp': 1617888887, 'daynum': 2459313.0658218, 'solar_lat': 7.419781421609, 'solar_lon': 336.75180277115, 'units': 'kilometers'}, {'name': 'iss', 'id': 25544, 'latitude': 10.046929062244, 'longitude': 98.328918051531, 'altitude': 418.36565134201, 'velocity': 27587.417269418, 'visibility': 'eclipsed', 'footprint': 4499.1392644665, 'timestamp': 1617888888, 'daynum': 2459313.0658333, 'solar_lat': 7.4197857370677, 'solar_lon': 336.74763533294, 'units': 'kilometers'}, {'name': 'iss', 'id': 25544, 'latitude': 9.9964442311807, 'longitude': 98.366049712685, 'altitude': 418.36553394468, 'velocity': 27587.403494443, 'visibility': 'eclipsed', 'footprint': 4499.1386658551, 'timestamp': 1617888889, 'daynum': 2459313.0658449, 'solar_lat': 7.4197900525232, 'solar_lon': 336.74346789473, 'units': 'kilometers'}, {'name': 'iss', 'id': 25544, 'latitude': 9.9459541771895, 'longitude': 98.403168622888, 'altitude': 418.3654460387, 'velocity': 27587.389667195, 'visibility': 'eclipsed', 'footprint': 4499.1382176205, 'timestamp': 1617888890, 'daynum': 2459313.0658565, 'solar_lat': 7.4197943679813, 'solar_lon': 336.73930045652, 'units': 'kilometers'}, {'name': 'iss', 'id': 25544, 'latitude': 9.8449585157588, 'longitude': 98.477368462333, 'altitude': 418.36535878443, 'velocity': 27587.361855834, 'visibility': 'eclipsed', 'footprint': 4499.1377727091, 'timestamp': 1617888892, 'daynum': 2459313.0658796, 'solar_lat': 7.4198029988966, 'solar_lon': 336.7309655801, 'units': 'kilometers'}]\n",
      "8\n",
      "[{'name': 'iss', 'id': 25544, 'latitude': 10.248817609593, 'longitude': 98.18026103951, 'altitude': 418.36641543113, 'velocity': 27587.471847379, 'visibility': 'eclipsed', 'footprint': 4499.1431605707, 'timestamp': 1617888884, 'daynum': 2459313.065787, 'solar_lat': 7.4197684750581, 'solar_lon': 336.76430525345, 'units': 'kilometers'}, {'name': 'iss', 'id': 25544, 'latitude': 10.198353959448, 'longitude': 98.217444385941, 'altitude': 418.36618027943, 'velocity': 27587.458281375, 'visibility': 'eclipsed', 'footprint': 4499.1419615284, 'timestamp': 1617888885, 'daynum': 2459313.0657986, 'solar_lat': 7.4197727905175, 'solar_lon': 336.76013781524, 'units': 'kilometers'}, {'name': 'iss', 'id': 25544, 'latitude': 10.147882940076, 'longitude': 98.254616204156, 'altitude': 418.36597452624, 'velocity': 27587.444662598, 'visibility': 'eclipsed', 'footprint': 4499.1409123892, 'timestamp': 1617888886, 'daynum': 2459313.0658102, 'solar_lat': 7.4197771061501, 'solar_lon': 336.75597020936, 'units': 'kilometers'}, {'name': 'iss', 'id': 25544, 'latitude': 10.097408641508, 'longitude': 98.291773571387, 'altitude': 418.3657982096, 'velocity': 27587.430992132, 'visibility': 'eclipsed', 'footprint': 4499.1400133473, 'timestamp': 1617888887, 'daynum': 2459313.0658218, 'solar_lat': 7.419781421609, 'solar_lon': 336.75180277115, 'units': 'kilometers'}, {'name': 'iss', 'id': 25544, 'latitude': 10.046929062244, 'longitude': 98.328918051531, 'altitude': 418.36565134201, 'velocity': 27587.417269418, 'visibility': 'eclipsed', 'footprint': 4499.1392644665, 'timestamp': 1617888888, 'daynum': 2459313.0658333, 'solar_lat': 7.4197857370677, 'solar_lon': 336.74763533294, 'units': 'kilometers'}, {'name': 'iss', 'id': 25544, 'latitude': 9.9964442311807, 'longitude': 98.366049712685, 'altitude': 418.36553394468, 'velocity': 27587.403494443, 'visibility': 'eclipsed', 'footprint': 4499.1386658551, 'timestamp': 1617888889, 'daynum': 2459313.0658449, 'solar_lat': 7.4197900525232, 'solar_lon': 336.74346789473, 'units': 'kilometers'}, {'name': 'iss', 'id': 25544, 'latitude': 9.9459541771895, 'longitude': 98.403168622888, 'altitude': 418.3654460387, 'velocity': 27587.389667195, 'visibility': 'eclipsed', 'footprint': 4499.1382176205, 'timestamp': 1617888890, 'daynum': 2459313.0658565, 'solar_lat': 7.4197943679813, 'solar_lon': 336.73930045652, 'units': 'kilometers'}, {'name': 'iss', 'id': 25544, 'latitude': 9.8449585157588, 'longitude': 98.477368462333, 'altitude': 418.36535878443, 'velocity': 27587.361855834, 'visibility': 'eclipsed', 'footprint': 4499.1377727091, 'timestamp': 1617888892, 'daynum': 2459313.0658796, 'solar_lat': 7.4198029988966, 'solar_lon': 336.7309655801, 'units': 'kilometers'}, {'name': 'iss', 'id': 25544, 'latitude': 9.7944529659174, 'longitude': 98.514449527388, 'altitude': 418.36535947762, 'velocity': 27587.347871698, 'visibility': 'eclipsed', 'footprint': 4499.1377762436, 'timestamp': 1617888893, 'daynum': 2459313.0658912, 'solar_lat': 7.4198073143538, 'solar_lon': 336.72679814189, 'units': 'kilometers'}]\n",
      "9\n",
      "[{'name': 'iss', 'id': 25544, 'latitude': 10.248817609593, 'longitude': 98.18026103951, 'altitude': 418.36641543113, 'velocity': 27587.471847379, 'visibility': 'eclipsed', 'footprint': 4499.1431605707, 'timestamp': 1617888884, 'daynum': 2459313.065787, 'solar_lat': 7.4197684750581, 'solar_lon': 336.76430525345, 'units': 'kilometers'}, {'name': 'iss', 'id': 25544, 'latitude': 10.198353959448, 'longitude': 98.217444385941, 'altitude': 418.36618027943, 'velocity': 27587.458281375, 'visibility': 'eclipsed', 'footprint': 4499.1419615284, 'timestamp': 1617888885, 'daynum': 2459313.0657986, 'solar_lat': 7.4197727905175, 'solar_lon': 336.76013781524, 'units': 'kilometers'}, {'name': 'iss', 'id': 25544, 'latitude': 10.147882940076, 'longitude': 98.254616204156, 'altitude': 418.36597452624, 'velocity': 27587.444662598, 'visibility': 'eclipsed', 'footprint': 4499.1409123892, 'timestamp': 1617888886, 'daynum': 2459313.0658102, 'solar_lat': 7.4197771061501, 'solar_lon': 336.75597020936, 'units': 'kilometers'}, {'name': 'iss', 'id': 25544, 'latitude': 10.097408641508, 'longitude': 98.291773571387, 'altitude': 418.3657982096, 'velocity': 27587.430992132, 'visibility': 'eclipsed', 'footprint': 4499.1400133473, 'timestamp': 1617888887, 'daynum': 2459313.0658218, 'solar_lat': 7.419781421609, 'solar_lon': 336.75180277115, 'units': 'kilometers'}, {'name': 'iss', 'id': 25544, 'latitude': 10.046929062244, 'longitude': 98.328918051531, 'altitude': 418.36565134201, 'velocity': 27587.417269418, 'visibility': 'eclipsed', 'footprint': 4499.1392644665, 'timestamp': 1617888888, 'daynum': 2459313.0658333, 'solar_lat': 7.4197857370677, 'solar_lon': 336.74763533294, 'units': 'kilometers'}, {'name': 'iss', 'id': 25544, 'latitude': 9.9964442311807, 'longitude': 98.366049712685, 'altitude': 418.36553394468, 'velocity': 27587.403494443, 'visibility': 'eclipsed', 'footprint': 4499.1386658551, 'timestamp': 1617888889, 'daynum': 2459313.0658449, 'solar_lat': 7.4197900525232, 'solar_lon': 336.74346789473, 'units': 'kilometers'}, {'name': 'iss', 'id': 25544, 'latitude': 9.9459541771895, 'longitude': 98.403168622888, 'altitude': 418.3654460387, 'velocity': 27587.389667195, 'visibility': 'eclipsed', 'footprint': 4499.1382176205, 'timestamp': 1617888890, 'daynum': 2459313.0658565, 'solar_lat': 7.4197943679813, 'solar_lon': 336.73930045652, 'units': 'kilometers'}, {'name': 'iss', 'id': 25544, 'latitude': 9.8449585157588, 'longitude': 98.477368462333, 'altitude': 418.36535878443, 'velocity': 27587.361855834, 'visibility': 'eclipsed', 'footprint': 4499.1377727091, 'timestamp': 1617888892, 'daynum': 2459313.0658796, 'solar_lat': 7.4198029988966, 'solar_lon': 336.7309655801, 'units': 'kilometers'}, {'name': 'iss', 'id': 25544, 'latitude': 9.7944529659174, 'longitude': 98.514449527388, 'altitude': 418.36535947762, 'velocity': 27587.347871698, 'visibility': 'eclipsed', 'footprint': 4499.1377762436, 'timestamp': 1617888893, 'daynum': 2459313.0658912, 'solar_lat': 7.4198073143538, 'solar_lon': 336.72679814189, 'units': 'kilometers'}, {'name': 'iss', 'id': 25544, 'latitude': 9.7439402760272, 'longitude': 98.551519604262, 'altitude': 418.36538974693, 'velocity': 27587.333834677, 'visibility': 'eclipsed', 'footprint': 4499.1379305875, 'timestamp': 1617888894, 'daynum': 2459313.0659028, 'solar_lat': 7.4198116299842, 'solar_lon': 336.72263053601, 'units': 'kilometers'}]\n"
     ]
    }
   ],
   "source": [
    "import time\n",
    "positions = []\n",
    "for i in range(10):\n",
    "    print(i)\n",
    "    response = requests.get(\"https://api.wheretheiss.at/v1/satellites/25544\").json()\n",
    "    positions.append(response)\n",
    "    print(positions)\n",
    "    time.sleep(0.5)"
   ]
  },
  {
   "cell_type": "code",
   "execution_count": 50,
   "metadata": {},
   "outputs": [
    {
     "data": {
      "text/plain": [
       "10"
      ]
     },
     "execution_count": 50,
     "metadata": {},
     "output_type": "execute_result"
    }
   ],
   "source": [
    "len(positions)"
   ]
  },
  {
   "cell_type": "code",
   "execution_count": 51,
   "metadata": {},
   "outputs": [
    {
     "data": {
      "text/plain": [
       "dict"
      ]
     },
     "execution_count": 51,
     "metadata": {},
     "output_type": "execute_result"
    }
   ],
   "source": [
    "type(positions[0])"
   ]
  },
  {
   "cell_type": "code",
   "execution_count": 52,
   "metadata": {},
   "outputs": [
    {
     "data": {
      "text/html": [
       "<div>\n",
       "<style scoped>\n",
       "    .dataframe tbody tr th:only-of-type {\n",
       "        vertical-align: middle;\n",
       "    }\n",
       "\n",
       "    .dataframe tbody tr th {\n",
       "        vertical-align: top;\n",
       "    }\n",
       "\n",
       "    .dataframe thead th {\n",
       "        text-align: right;\n",
       "    }\n",
       "</style>\n",
       "<table border=\"1\" class=\"dataframe\">\n",
       "  <thead>\n",
       "    <tr style=\"text-align: right;\">\n",
       "      <th></th>\n",
       "      <th>name</th>\n",
       "      <th>id</th>\n",
       "      <th>latitude</th>\n",
       "      <th>longitude</th>\n",
       "      <th>altitude</th>\n",
       "      <th>velocity</th>\n",
       "      <th>visibility</th>\n",
       "      <th>footprint</th>\n",
       "      <th>timestamp</th>\n",
       "      <th>daynum</th>\n",
       "      <th>solar_lat</th>\n",
       "      <th>solar_lon</th>\n",
       "      <th>units</th>\n",
       "    </tr>\n",
       "  </thead>\n",
       "  <tbody>\n",
       "    <tr>\n",
       "      <th>0</th>\n",
       "      <td>iss</td>\n",
       "      <td>25544</td>\n",
       "      <td>10.248818</td>\n",
       "      <td>98.180261</td>\n",
       "      <td>418.366415</td>\n",
       "      <td>27587.471847</td>\n",
       "      <td>eclipsed</td>\n",
       "      <td>4499.143161</td>\n",
       "      <td>1617888884</td>\n",
       "      <td>2.459313e+06</td>\n",
       "      <td>7.419768</td>\n",
       "      <td>336.764305</td>\n",
       "      <td>kilometers</td>\n",
       "    </tr>\n",
       "    <tr>\n",
       "      <th>1</th>\n",
       "      <td>iss</td>\n",
       "      <td>25544</td>\n",
       "      <td>10.198354</td>\n",
       "      <td>98.217444</td>\n",
       "      <td>418.366180</td>\n",
       "      <td>27587.458281</td>\n",
       "      <td>eclipsed</td>\n",
       "      <td>4499.141962</td>\n",
       "      <td>1617888885</td>\n",
       "      <td>2.459313e+06</td>\n",
       "      <td>7.419773</td>\n",
       "      <td>336.760138</td>\n",
       "      <td>kilometers</td>\n",
       "    </tr>\n",
       "    <tr>\n",
       "      <th>2</th>\n",
       "      <td>iss</td>\n",
       "      <td>25544</td>\n",
       "      <td>10.147883</td>\n",
       "      <td>98.254616</td>\n",
       "      <td>418.365975</td>\n",
       "      <td>27587.444663</td>\n",
       "      <td>eclipsed</td>\n",
       "      <td>4499.140912</td>\n",
       "      <td>1617888886</td>\n",
       "      <td>2.459313e+06</td>\n",
       "      <td>7.419777</td>\n",
       "      <td>336.755970</td>\n",
       "      <td>kilometers</td>\n",
       "    </tr>\n",
       "    <tr>\n",
       "      <th>3</th>\n",
       "      <td>iss</td>\n",
       "      <td>25544</td>\n",
       "      <td>10.097409</td>\n",
       "      <td>98.291774</td>\n",
       "      <td>418.365798</td>\n",
       "      <td>27587.430992</td>\n",
       "      <td>eclipsed</td>\n",
       "      <td>4499.140013</td>\n",
       "      <td>1617888887</td>\n",
       "      <td>2.459313e+06</td>\n",
       "      <td>7.419781</td>\n",
       "      <td>336.751803</td>\n",
       "      <td>kilometers</td>\n",
       "    </tr>\n",
       "    <tr>\n",
       "      <th>4</th>\n",
       "      <td>iss</td>\n",
       "      <td>25544</td>\n",
       "      <td>10.046929</td>\n",
       "      <td>98.328918</td>\n",
       "      <td>418.365651</td>\n",
       "      <td>27587.417269</td>\n",
       "      <td>eclipsed</td>\n",
       "      <td>4499.139264</td>\n",
       "      <td>1617888888</td>\n",
       "      <td>2.459313e+06</td>\n",
       "      <td>7.419786</td>\n",
       "      <td>336.747635</td>\n",
       "      <td>kilometers</td>\n",
       "    </tr>\n",
       "    <tr>\n",
       "      <th>5</th>\n",
       "      <td>iss</td>\n",
       "      <td>25544</td>\n",
       "      <td>9.996444</td>\n",
       "      <td>98.366050</td>\n",
       "      <td>418.365534</td>\n",
       "      <td>27587.403494</td>\n",
       "      <td>eclipsed</td>\n",
       "      <td>4499.138666</td>\n",
       "      <td>1617888889</td>\n",
       "      <td>2.459313e+06</td>\n",
       "      <td>7.419790</td>\n",
       "      <td>336.743468</td>\n",
       "      <td>kilometers</td>\n",
       "    </tr>\n",
       "    <tr>\n",
       "      <th>6</th>\n",
       "      <td>iss</td>\n",
       "      <td>25544</td>\n",
       "      <td>9.945954</td>\n",
       "      <td>98.403169</td>\n",
       "      <td>418.365446</td>\n",
       "      <td>27587.389667</td>\n",
       "      <td>eclipsed</td>\n",
       "      <td>4499.138218</td>\n",
       "      <td>1617888890</td>\n",
       "      <td>2.459313e+06</td>\n",
       "      <td>7.419794</td>\n",
       "      <td>336.739300</td>\n",
       "      <td>kilometers</td>\n",
       "    </tr>\n",
       "    <tr>\n",
       "      <th>7</th>\n",
       "      <td>iss</td>\n",
       "      <td>25544</td>\n",
       "      <td>9.844959</td>\n",
       "      <td>98.477368</td>\n",
       "      <td>418.365359</td>\n",
       "      <td>27587.361856</td>\n",
       "      <td>eclipsed</td>\n",
       "      <td>4499.137773</td>\n",
       "      <td>1617888892</td>\n",
       "      <td>2.459313e+06</td>\n",
       "      <td>7.419803</td>\n",
       "      <td>336.730966</td>\n",
       "      <td>kilometers</td>\n",
       "    </tr>\n",
       "    <tr>\n",
       "      <th>8</th>\n",
       "      <td>iss</td>\n",
       "      <td>25544</td>\n",
       "      <td>9.794453</td>\n",
       "      <td>98.514450</td>\n",
       "      <td>418.365359</td>\n",
       "      <td>27587.347872</td>\n",
       "      <td>eclipsed</td>\n",
       "      <td>4499.137776</td>\n",
       "      <td>1617888893</td>\n",
       "      <td>2.459313e+06</td>\n",
       "      <td>7.419807</td>\n",
       "      <td>336.726798</td>\n",
       "      <td>kilometers</td>\n",
       "    </tr>\n",
       "    <tr>\n",
       "      <th>9</th>\n",
       "      <td>iss</td>\n",
       "      <td>25544</td>\n",
       "      <td>9.743940</td>\n",
       "      <td>98.551520</td>\n",
       "      <td>418.365390</td>\n",
       "      <td>27587.333835</td>\n",
       "      <td>eclipsed</td>\n",
       "      <td>4499.137931</td>\n",
       "      <td>1617888894</td>\n",
       "      <td>2.459313e+06</td>\n",
       "      <td>7.419812</td>\n",
       "      <td>336.722631</td>\n",
       "      <td>kilometers</td>\n",
       "    </tr>\n",
       "  </tbody>\n",
       "</table>\n",
       "</div>"
      ],
      "text/plain": [
       "  name     id   latitude  longitude    altitude      velocity visibility  \\\n",
       "0  iss  25544  10.248818  98.180261  418.366415  27587.471847   eclipsed   \n",
       "1  iss  25544  10.198354  98.217444  418.366180  27587.458281   eclipsed   \n",
       "2  iss  25544  10.147883  98.254616  418.365975  27587.444663   eclipsed   \n",
       "3  iss  25544  10.097409  98.291774  418.365798  27587.430992   eclipsed   \n",
       "4  iss  25544  10.046929  98.328918  418.365651  27587.417269   eclipsed   \n",
       "5  iss  25544   9.996444  98.366050  418.365534  27587.403494   eclipsed   \n",
       "6  iss  25544   9.945954  98.403169  418.365446  27587.389667   eclipsed   \n",
       "7  iss  25544   9.844959  98.477368  418.365359  27587.361856   eclipsed   \n",
       "8  iss  25544   9.794453  98.514450  418.365359  27587.347872   eclipsed   \n",
       "9  iss  25544   9.743940  98.551520  418.365390  27587.333835   eclipsed   \n",
       "\n",
       "     footprint   timestamp        daynum  solar_lat   solar_lon       units  \n",
       "0  4499.143161  1617888884  2.459313e+06   7.419768  336.764305  kilometers  \n",
       "1  4499.141962  1617888885  2.459313e+06   7.419773  336.760138  kilometers  \n",
       "2  4499.140912  1617888886  2.459313e+06   7.419777  336.755970  kilometers  \n",
       "3  4499.140013  1617888887  2.459313e+06   7.419781  336.751803  kilometers  \n",
       "4  4499.139264  1617888888  2.459313e+06   7.419786  336.747635  kilometers  \n",
       "5  4499.138666  1617888889  2.459313e+06   7.419790  336.743468  kilometers  \n",
       "6  4499.138218  1617888890  2.459313e+06   7.419794  336.739300  kilometers  \n",
       "7  4499.137773  1617888892  2.459313e+06   7.419803  336.730966  kilometers  \n",
       "8  4499.137776  1617888893  2.459313e+06   7.419807  336.726798  kilometers  \n",
       "9  4499.137931  1617888894  2.459313e+06   7.419812  336.722631  kilometers  "
      ]
     },
     "execution_count": 52,
     "metadata": {},
     "output_type": "execute_result"
    }
   ],
   "source": [
    "df = pd.DataFrame(positions)\n",
    "df"
   ]
  },
  {
   "cell_type": "code",
   "execution_count": 53,
   "metadata": {},
   "outputs": [
    {
     "name": "stdout",
     "output_type": "stream",
     "text": [
      "0\n",
      "hola\n",
      "1\n",
      "hola\n",
      "2\n",
      "hola\n",
      "3\n",
      "hola\n",
      "4\n",
      "hola\n"
     ]
    }
   ],
   "source": [
    "for num in range(5):\n",
    "    print (num)\n",
    "    print (\"hola\")\n",
    "    time.sleep(1)"
   ]
  },
  {
   "cell_type": "markdown",
   "metadata": {},
   "source": [
    "### Parameters"
   ]
  },
  {
   "cell_type": "markdown",
   "metadata": {},
   "source": [
    "Remember API`s DOC    \n",
    "https://wheretheiss.at/w/developer"
   ]
  },
  {
   "cell_type": "code",
   "execution_count": 54,
   "metadata": {},
   "outputs": [],
   "source": [
    "#ras, cambia la captura pls"
   ]
  },
  {
   "cell_type": "markdown",
   "metadata": {},
   "source": [
    "\n",
    "![captura](../images/parameters.png)"
   ]
  },
  {
   "cell_type": "markdown",
   "metadata": {},
   "source": [
    "We sometimes want to pass some parameters to an API endpoint.   \n",
    "Similar to python functions receiving parameters for a different behavior"
   ]
  },
  {
   "cell_type": "markdown",
   "metadata": {},
   "source": [
    "Parameters are passed with `?param1=value1&param2=value2...` at the end or the URL"
   ]
  },
  {
   "cell_type": "code",
   "execution_count": 55,
   "metadata": {},
   "outputs": [],
   "source": [
    "url_params = \"https://api.wheretheiss.at/v1/satellites/25544?units=miles\""
   ]
  },
  {
   "cell_type": "code",
   "execution_count": 56,
   "metadata": {},
   "outputs": [],
   "source": [
    "response_params = requests.get(url_params).json()"
   ]
  },
  {
   "cell_type": "code",
   "execution_count": 57,
   "metadata": {},
   "outputs": [
    {
     "data": {
      "text/plain": [
       "{'name': 'iss',\n",
       " 'id': 25544,\n",
       " 'latitude': 9.4407706738289,\n",
       " 'longitude': 98.773672841541,\n",
       " 'altitude': 259.96062005362,\n",
       " 'velocity': 17141.916198029,\n",
       " 'visibility': 'eclipsed',\n",
       " 'footprint': 2795.6363818295,\n",
       " 'timestamp': 1617888900,\n",
       " 'daynum': 2459313.0659722,\n",
       " 'solar_lat': 7.4198375227172,\n",
       " 'solar_lon': 336.69762590675,\n",
       " 'units': 'miles'}"
      ]
     },
     "execution_count": 57,
     "metadata": {},
     "output_type": "execute_result"
    }
   ],
   "source": [
    "response_params"
   ]
  },
  {
   "cell_type": "markdown",
   "metadata": {},
   "source": [
    "`requests` let us pass parameters as a dictionary:"
   ]
  },
  {
   "cell_type": "code",
   "execution_count": 58,
   "metadata": {},
   "outputs": [],
   "source": [
    "url_base= \"https://api.wheretheiss.at/v1/satellites/25544\""
   ]
  },
  {
   "cell_type": "code",
   "execution_count": 59,
   "metadata": {},
   "outputs": [],
   "source": [
    "parametros = {\n",
    "    \"units\" : \"miles\"\n",
    "}"
   ]
  },
  {
   "cell_type": "code",
   "execution_count": 60,
   "metadata": {},
   "outputs": [
    {
     "data": {
      "text/plain": [
       "{'name': 'iss',\n",
       " 'id': 25544,\n",
       " 'latitude': 9.3902230310553,\n",
       " 'longitude': 98.810657453972,\n",
       " 'altitude': 259.9607678544,\n",
       " 'velocity': 17141.90724807,\n",
       " 'visibility': 'eclipsed',\n",
       " 'footprint': 2795.637135468,\n",
       " 'timestamp': 1617888901,\n",
       " 'daynum': 2459313.0659838,\n",
       " 'solar_lat': 7.4198418383483,\n",
       " 'solar_lon': 336.69345830087,\n",
       " 'units': 'miles'}"
      ]
     },
     "execution_count": 60,
     "metadata": {},
     "output_type": "execute_result"
    }
   ],
   "source": [
    "res_params = requests.get(url = url_base, params = parametros ).json()\n",
    "res_params"
   ]
  },
  {
   "cell_type": "markdown",
   "metadata": {},
   "source": [
    "## Try Yourself!"
   ]
  },
  {
   "cell_type": "markdown",
   "metadata": {},
   "source": [
    "- https://official-joke-api.appspot.com/   \n",
    "- https://jokeapi.dev/\n",
    "- https://github.com/thenamesweretakenalready/Sv443s-JokeAPI-Python-Wrapper#readme"
   ]
  },
  {
   "cell_type": "code",
   "execution_count": 61,
   "metadata": {},
   "outputs": [],
   "source": [
    "# Query this API, you can do it with or without params, you choose! "
   ]
  },
  {
   "cell_type": "code",
   "execution_count": 62,
   "metadata": {},
   "outputs": [],
   "source": [
    "url_random_joke = \"https://official-joke-api.appspot.com/random_joke\""
   ]
  },
  {
   "cell_type": "code",
   "execution_count": 64,
   "metadata": {},
   "outputs": [],
   "source": [
    "random_joke = requests.get(url_random_joke).json()"
   ]
  },
  {
   "cell_type": "code",
   "execution_count": 65,
   "metadata": {},
   "outputs": [
    {
     "data": {
      "text/plain": [
       "{'id': 362,\n",
       " 'type': 'general',\n",
       " 'setup': 'Why do ducks make great detectives?',\n",
       " 'punchline': 'They always quack the case.'}"
      ]
     },
     "execution_count": 65,
     "metadata": {},
     "output_type": "execute_result"
    }
   ],
   "source": [
    "random_joke"
   ]
  },
  {
   "cell_type": "code",
   "execution_count": 66,
   "metadata": {},
   "outputs": [],
   "source": [
    "# url blacklisting sexist and racist jokes. This is how they said in the documentation\n",
    "url_flagged = \"https://v2.jokeapi.dev/joke/Any?blacklistFlags=racist,sexist\""
   ]
  },
  {
   "cell_type": "code",
   "execution_count": 67,
   "metadata": {},
   "outputs": [],
   "source": [
    "jokes = []\n",
    "\n",
    "for i in range(5):\n",
    "    joke = requests.get(url_flagged).json()\n",
    "    jokes.append(joke)\n",
    "    time.sleep(0.3)"
   ]
  },
  {
   "cell_type": "code",
   "execution_count": 68,
   "metadata": {},
   "outputs": [
    {
     "data": {
      "text/plain": [
       "[{'error': False,\n",
       "  'category': 'Misc',\n",
       "  'type': 'twopart',\n",
       "  'setup': 'I WRITE MY JOKES IN CAPITALS.',\n",
       "  'delivery': 'THIS ONE WAS WRITTEN IN PARIS.',\n",
       "  'flags': {'nsfw': False,\n",
       "   'religious': False,\n",
       "   'political': False,\n",
       "   'racist': False,\n",
       "   'sexist': False,\n",
       "   'explicit': False},\n",
       "  'id': 78,\n",
       "  'safe': True,\n",
       "  'lang': 'en'},\n",
       " {'error': False,\n",
       "  'category': 'Pun',\n",
       "  'type': 'twopart',\n",
       "  'setup': 'Why did the koala get rejected?',\n",
       "  'delivery': 'Because he did not have any koalafication.',\n",
       "  'flags': {'nsfw': False,\n",
       "   'religious': False,\n",
       "   'political': False,\n",
       "   'racist': False,\n",
       "   'sexist': False,\n",
       "   'explicit': False},\n",
       "  'id': 192,\n",
       "  'safe': True,\n",
       "  'lang': 'en'},\n",
       " {'error': False,\n",
       "  'category': 'Dark',\n",
       "  'type': 'single',\n",
       "  'joke': 'My little daughter came to me all excited, saying \"Daddy! Daddy! Guess how old I\\'ll be in June!\"\\n\"Oh I don\\'t know princess, why don\\'t you tell me?\" I said. She gave me a huge smile and held up four fingers.\\nIt\\'s now three hours later, police have joined in and she still won\\'t say where she got them.',\n",
       "  'flags': {'nsfw': False,\n",
       "   'religious': False,\n",
       "   'political': False,\n",
       "   'racist': False,\n",
       "   'sexist': False,\n",
       "   'explicit': False},\n",
       "  'id': 165,\n",
       "  'safe': False,\n",
       "  'lang': 'en'},\n",
       " {'error': False,\n",
       "  'category': 'Programming',\n",
       "  'type': 'single',\n",
       "  'joke': \"How do you tell HTML from HTML5?\\n- Try it out in Internet Explorer\\n- Did it work?\\n- No?\\n- It's HTML5.\",\n",
       "  'flags': {'nsfw': False,\n",
       "   'religious': False,\n",
       "   'political': False,\n",
       "   'racist': False,\n",
       "   'sexist': False,\n",
       "   'explicit': False},\n",
       "  'id': 43,\n",
       "  'safe': True,\n",
       "  'lang': 'en'},\n",
       " {'error': False,\n",
       "  'category': 'Programming',\n",
       "  'type': 'twopart',\n",
       "  'setup': 'Why did the Python programmer not respond to the foreign mails he got?',\n",
       "  'delivery': 'Because his interpreter was busy collecting garbage.',\n",
       "  'flags': {'nsfw': False,\n",
       "   'religious': False,\n",
       "   'political': False,\n",
       "   'racist': False,\n",
       "   'sexist': False,\n",
       "   'explicit': False},\n",
       "  'id': 15,\n",
       "  'safe': True,\n",
       "  'lang': 'en'}]"
      ]
     },
     "execution_count": 68,
     "metadata": {},
     "output_type": "execute_result"
    }
   ],
   "source": [
    "jokes"
   ]
  },
  {
   "cell_type": "code",
   "execution_count": 69,
   "metadata": {},
   "outputs": [
    {
     "data": {
      "text/html": [
       "<div>\n",
       "<style scoped>\n",
       "    .dataframe tbody tr th:only-of-type {\n",
       "        vertical-align: middle;\n",
       "    }\n",
       "\n",
       "    .dataframe tbody tr th {\n",
       "        vertical-align: top;\n",
       "    }\n",
       "\n",
       "    .dataframe thead th {\n",
       "        text-align: right;\n",
       "    }\n",
       "</style>\n",
       "<table border=\"1\" class=\"dataframe\">\n",
       "  <thead>\n",
       "    <tr style=\"text-align: right;\">\n",
       "      <th></th>\n",
       "      <th>error</th>\n",
       "      <th>category</th>\n",
       "      <th>type</th>\n",
       "      <th>setup</th>\n",
       "      <th>delivery</th>\n",
       "      <th>flags</th>\n",
       "      <th>id</th>\n",
       "      <th>safe</th>\n",
       "      <th>lang</th>\n",
       "      <th>joke</th>\n",
       "    </tr>\n",
       "  </thead>\n",
       "  <tbody>\n",
       "    <tr>\n",
       "      <th>0</th>\n",
       "      <td>False</td>\n",
       "      <td>Misc</td>\n",
       "      <td>twopart</td>\n",
       "      <td>I WRITE MY JOKES IN CAPITALS.</td>\n",
       "      <td>THIS ONE WAS WRITTEN IN PARIS.</td>\n",
       "      <td>{'nsfw': False, 'religious': False, 'political...</td>\n",
       "      <td>78</td>\n",
       "      <td>True</td>\n",
       "      <td>en</td>\n",
       "      <td>NaN</td>\n",
       "    </tr>\n",
       "    <tr>\n",
       "      <th>1</th>\n",
       "      <td>False</td>\n",
       "      <td>Pun</td>\n",
       "      <td>twopart</td>\n",
       "      <td>Why did the koala get rejected?</td>\n",
       "      <td>Because he did not have any koalafication.</td>\n",
       "      <td>{'nsfw': False, 'religious': False, 'political...</td>\n",
       "      <td>192</td>\n",
       "      <td>True</td>\n",
       "      <td>en</td>\n",
       "      <td>NaN</td>\n",
       "    </tr>\n",
       "    <tr>\n",
       "      <th>2</th>\n",
       "      <td>False</td>\n",
       "      <td>Dark</td>\n",
       "      <td>single</td>\n",
       "      <td>NaN</td>\n",
       "      <td>NaN</td>\n",
       "      <td>{'nsfw': False, 'religious': False, 'political...</td>\n",
       "      <td>165</td>\n",
       "      <td>False</td>\n",
       "      <td>en</td>\n",
       "      <td>My little daughter came to me all excited, say...</td>\n",
       "    </tr>\n",
       "    <tr>\n",
       "      <th>3</th>\n",
       "      <td>False</td>\n",
       "      <td>Programming</td>\n",
       "      <td>single</td>\n",
       "      <td>NaN</td>\n",
       "      <td>NaN</td>\n",
       "      <td>{'nsfw': False, 'religious': False, 'political...</td>\n",
       "      <td>43</td>\n",
       "      <td>True</td>\n",
       "      <td>en</td>\n",
       "      <td>How do you tell HTML from HTML5?\\n- Try it out...</td>\n",
       "    </tr>\n",
       "    <tr>\n",
       "      <th>4</th>\n",
       "      <td>False</td>\n",
       "      <td>Programming</td>\n",
       "      <td>twopart</td>\n",
       "      <td>Why did the Python programmer not respond to t...</td>\n",
       "      <td>Because his interpreter was busy collecting ga...</td>\n",
       "      <td>{'nsfw': False, 'religious': False, 'political...</td>\n",
       "      <td>15</td>\n",
       "      <td>True</td>\n",
       "      <td>en</td>\n",
       "      <td>NaN</td>\n",
       "    </tr>\n",
       "  </tbody>\n",
       "</table>\n",
       "</div>"
      ],
      "text/plain": [
       "   error     category     type  \\\n",
       "0  False         Misc  twopart   \n",
       "1  False          Pun  twopart   \n",
       "2  False         Dark   single   \n",
       "3  False  Programming   single   \n",
       "4  False  Programming  twopart   \n",
       "\n",
       "                                               setup  \\\n",
       "0                      I WRITE MY JOKES IN CAPITALS.   \n",
       "1                    Why did the koala get rejected?   \n",
       "2                                                NaN   \n",
       "3                                                NaN   \n",
       "4  Why did the Python programmer not respond to t...   \n",
       "\n",
       "                                            delivery  \\\n",
       "0                     THIS ONE WAS WRITTEN IN PARIS.   \n",
       "1         Because he did not have any koalafication.   \n",
       "2                                                NaN   \n",
       "3                                                NaN   \n",
       "4  Because his interpreter was busy collecting ga...   \n",
       "\n",
       "                                               flags   id   safe lang  \\\n",
       "0  {'nsfw': False, 'religious': False, 'political...   78   True   en   \n",
       "1  {'nsfw': False, 'religious': False, 'political...  192   True   en   \n",
       "2  {'nsfw': False, 'religious': False, 'political...  165  False   en   \n",
       "3  {'nsfw': False, 'religious': False, 'political...   43   True   en   \n",
       "4  {'nsfw': False, 'religious': False, 'political...   15   True   en   \n",
       "\n",
       "                                                joke  \n",
       "0                                                NaN  \n",
       "1                                                NaN  \n",
       "2  My little daughter came to me all excited, say...  \n",
       "3  How do you tell HTML from HTML5?\\n- Try it out...  \n",
       "4                                                NaN  "
      ]
     },
     "execution_count": 69,
     "metadata": {},
     "output_type": "execute_result"
    }
   ],
   "source": [
    "df_jokes = pd.DataFrame(jokes)\n",
    "\n",
    "df_jokes"
   ]
  },
  {
   "cell_type": "markdown",
   "metadata": {},
   "source": [
    "Ojo, en esta API no podemos meter los parámetros como diccionario porque esta API no está preparada para que le metamos los parámetros de esa manera. Miramos la DOC siempre. \n",
    "https://github.com/thenamesweretakenalready/Sv443s-JokeAPI-Python-Wrapper"
   ]
  },
  {
   "cell_type": "markdown",
   "metadata": {},
   "source": [
    "## Headers"
   ]
  },
  {
   "cell_type": "markdown",
   "metadata": {},
   "source": [
    "HTTP Headers are an important part of the API request and response as they represent the meta-data associated with the API request and response. Headers carry information for:\n",
    "\n",
    "* Request and Response Body\n",
    "* Request Authorization\n",
    "* Response Caching \n",
    "* Response Cookies"
   ]
  },
  {
   "cell_type": "markdown",
   "metadata": {},
   "source": [
    "## API Keys"
   ]
  },
  {
   "cell_type": "markdown",
   "metadata": {},
   "source": [
    "- https://github.com/settings/tokens\n",
    "- https://docs.github.com/es/rest/guides/getting-started-with-the-rest-api\n",
    "- https://pypi.org/project/python-dotenv/"
   ]
  },
  {
   "cell_type": "code",
   "execution_count": null,
   "metadata": {},
   "outputs": [],
   "source": [
    "#!pip3 install python-dotenv"
   ]
  },
  {
   "cell_type": "code",
   "execution_count": 2,
   "metadata": {},
   "outputs": [
    {
     "data": {
      "text/plain": [
       "True"
      ]
     },
     "execution_count": 2,
     "metadata": {},
     "output_type": "execute_result"
    }
   ],
   "source": [
    "import os\n",
    "from dotenv import load_dotenv\n",
    "#activamos el entorno para poder conectar el jupyter y extraer las variables\n",
    "load_dotenv()"
   ]
  },
  {
   "cell_type": "code",
   "execution_count": 3,
   "metadata": {},
   "outputs": [],
   "source": [
    "api_key = os.getenv(\"token\")"
   ]
  },
  {
   "cell_type": "code",
   "execution_count": 4,
   "metadata": {},
   "outputs": [],
   "source": [
    "url_forks=\"https://api.github.com/repos/agalvezcorell/streamlit_me_mola/forks\""
   ]
  },
  {
   "cell_type": "code",
   "execution_count": 5,
   "metadata": {},
   "outputs": [],
   "source": [
    "parameters  = {\"Authorization\" : f\"token {api_key}\"}"
   ]
  },
  {
   "cell_type": "code",
   "execution_count": 6,
   "metadata": {},
   "outputs": [],
   "source": [
    "response = requests.get (url =  url_forks, params = parameters).json()"
   ]
  },
  {
   "cell_type": "code",
   "execution_count": 75,
   "metadata": {},
   "outputs": [
    {
     "data": {
      "text/plain": [
       "10"
      ]
     },
     "execution_count": 75,
     "metadata": {},
     "output_type": "execute_result"
    }
   ],
   "source": [
    "len(response)"
   ]
  },
  {
   "cell_type": "code",
   "execution_count": 7,
   "metadata": {},
   "outputs": [
    {
     "data": {
      "text/plain": [
       "[{'id': 348099069,\n",
       "  'node_id': 'MDEwOlJlcG9zaXRvcnkzNDgwOTkwNjk=',\n",
       "  'name': 'streamlit_me_mola',\n",
       "  'full_name': 'amorenorp/streamlit_me_mola',\n",
       "  'private': False,\n",
       "  'owner': {'login': 'amorenorp',\n",
       "   'id': 74966863,\n",
       "   'node_id': 'MDQ6VXNlcjc0OTY2ODYz',\n",
       "   'avatar_url': 'https://avatars.githubusercontent.com/u/74966863?v=4',\n",
       "   'gravatar_id': '',\n",
       "   'url': 'https://api.github.com/users/amorenorp',\n",
       "   'html_url': 'https://github.com/amorenorp',\n",
       "   'followers_url': 'https://api.github.com/users/amorenorp/followers',\n",
       "   'following_url': 'https://api.github.com/users/amorenorp/following{/other_user}',\n",
       "   'gists_url': 'https://api.github.com/users/amorenorp/gists{/gist_id}',\n",
       "   'starred_url': 'https://api.github.com/users/amorenorp/starred{/owner}{/repo}',\n",
       "   'subscriptions_url': 'https://api.github.com/users/amorenorp/subscriptions',\n",
       "   'organizations_url': 'https://api.github.com/users/amorenorp/orgs',\n",
       "   'repos_url': 'https://api.github.com/users/amorenorp/repos',\n",
       "   'events_url': 'https://api.github.com/users/amorenorp/events{/privacy}',\n",
       "   'received_events_url': 'https://api.github.com/users/amorenorp/received_events',\n",
       "   'type': 'User',\n",
       "   'site_admin': False},\n",
       "  'html_url': 'https://github.com/amorenorp/streamlit_me_mola',\n",
       "  'description': 'Workshop to learn how to create a web application with streamlit to display our data analysis',\n",
       "  'fork': True,\n",
       "  'url': 'https://api.github.com/repos/amorenorp/streamlit_me_mola',\n",
       "  'forks_url': 'https://api.github.com/repos/amorenorp/streamlit_me_mola/forks',\n",
       "  'keys_url': 'https://api.github.com/repos/amorenorp/streamlit_me_mola/keys{/key_id}',\n",
       "  'collaborators_url': 'https://api.github.com/repos/amorenorp/streamlit_me_mola/collaborators{/collaborator}',\n",
       "  'teams_url': 'https://api.github.com/repos/amorenorp/streamlit_me_mola/teams',\n",
       "  'hooks_url': 'https://api.github.com/repos/amorenorp/streamlit_me_mola/hooks',\n",
       "  'issue_events_url': 'https://api.github.com/repos/amorenorp/streamlit_me_mola/issues/events{/number}',\n",
       "  'events_url': 'https://api.github.com/repos/amorenorp/streamlit_me_mola/events',\n",
       "  'assignees_url': 'https://api.github.com/repos/amorenorp/streamlit_me_mola/assignees{/user}',\n",
       "  'branches_url': 'https://api.github.com/repos/amorenorp/streamlit_me_mola/branches{/branch}',\n",
       "  'tags_url': 'https://api.github.com/repos/amorenorp/streamlit_me_mola/tags',\n",
       "  'blobs_url': 'https://api.github.com/repos/amorenorp/streamlit_me_mola/git/blobs{/sha}',\n",
       "  'git_tags_url': 'https://api.github.com/repos/amorenorp/streamlit_me_mola/git/tags{/sha}',\n",
       "  'git_refs_url': 'https://api.github.com/repos/amorenorp/streamlit_me_mola/git/refs{/sha}',\n",
       "  'trees_url': 'https://api.github.com/repos/amorenorp/streamlit_me_mola/git/trees{/sha}',\n",
       "  'statuses_url': 'https://api.github.com/repos/amorenorp/streamlit_me_mola/statuses/{sha}',\n",
       "  'languages_url': 'https://api.github.com/repos/amorenorp/streamlit_me_mola/languages',\n",
       "  'stargazers_url': 'https://api.github.com/repos/amorenorp/streamlit_me_mola/stargazers',\n",
       "  'contributors_url': 'https://api.github.com/repos/amorenorp/streamlit_me_mola/contributors',\n",
       "  'subscribers_url': 'https://api.github.com/repos/amorenorp/streamlit_me_mola/subscribers',\n",
       "  'subscription_url': 'https://api.github.com/repos/amorenorp/streamlit_me_mola/subscription',\n",
       "  'commits_url': 'https://api.github.com/repos/amorenorp/streamlit_me_mola/commits{/sha}',\n",
       "  'git_commits_url': 'https://api.github.com/repos/amorenorp/streamlit_me_mola/git/commits{/sha}',\n",
       "  'comments_url': 'https://api.github.com/repos/amorenorp/streamlit_me_mola/comments{/number}',\n",
       "  'issue_comment_url': 'https://api.github.com/repos/amorenorp/streamlit_me_mola/issues/comments{/number}',\n",
       "  'contents_url': 'https://api.github.com/repos/amorenorp/streamlit_me_mola/contents/{+path}',\n",
       "  'compare_url': 'https://api.github.com/repos/amorenorp/streamlit_me_mola/compare/{base}...{head}',\n",
       "  'merges_url': 'https://api.github.com/repos/amorenorp/streamlit_me_mola/merges',\n",
       "  'archive_url': 'https://api.github.com/repos/amorenorp/streamlit_me_mola/{archive_format}{/ref}',\n",
       "  'downloads_url': 'https://api.github.com/repos/amorenorp/streamlit_me_mola/downloads',\n",
       "  'issues_url': 'https://api.github.com/repos/amorenorp/streamlit_me_mola/issues{/number}',\n",
       "  'pulls_url': 'https://api.github.com/repos/amorenorp/streamlit_me_mola/pulls{/number}',\n",
       "  'milestones_url': 'https://api.github.com/repos/amorenorp/streamlit_me_mola/milestones{/number}',\n",
       "  'notifications_url': 'https://api.github.com/repos/amorenorp/streamlit_me_mola/notifications{?since,all,participating}',\n",
       "  'labels_url': 'https://api.github.com/repos/amorenorp/streamlit_me_mola/labels{/name}',\n",
       "  'releases_url': 'https://api.github.com/repos/amorenorp/streamlit_me_mola/releases{/id}',\n",
       "  'deployments_url': 'https://api.github.com/repos/amorenorp/streamlit_me_mola/deployments',\n",
       "  'created_at': '2021-03-15T19:33:41Z',\n",
       "  'updated_at': '2021-03-15T19:33:42Z',\n",
       "  'pushed_at': '2021-03-09T15:34:01Z',\n",
       "  'git_url': 'git://github.com/amorenorp/streamlit_me_mola.git',\n",
       "  'ssh_url': 'git@github.com:amorenorp/streamlit_me_mola.git',\n",
       "  'clone_url': 'https://github.com/amorenorp/streamlit_me_mola.git',\n",
       "  'svn_url': 'https://github.com/amorenorp/streamlit_me_mola',\n",
       "  'homepage': None,\n",
       "  'size': 2943,\n",
       "  'stargazers_count': 0,\n",
       "  'watchers_count': 0,\n",
       "  'language': None,\n",
       "  'has_issues': False,\n",
       "  'has_projects': True,\n",
       "  'has_downloads': True,\n",
       "  'has_wiki': True,\n",
       "  'has_pages': False,\n",
       "  'forks_count': 0,\n",
       "  'mirror_url': None,\n",
       "  'archived': False,\n",
       "  'disabled': False,\n",
       "  'open_issues_count': 0,\n",
       "  'license': None,\n",
       "  'forks': 0,\n",
       "  'open_issues': 0,\n",
       "  'watchers': 0,\n",
       "  'default_branch': 'main'},\n",
       " {'id': 346301732,\n",
       "  'node_id': 'MDEwOlJlcG9zaXRvcnkzNDYzMDE3MzI=',\n",
       "  'name': 'streamlit_me_mola',\n",
       "  'full_name': 'antoniogarciagiron/streamlit_me_mola',\n",
       "  'private': False,\n",
       "  'owner': {'login': 'antoniogarciagiron',\n",
       "   'id': 75134123,\n",
       "   'node_id': 'MDQ6VXNlcjc1MTM0MTIz',\n",
       "   'avatar_url': 'https://avatars.githubusercontent.com/u/75134123?v=4',\n",
       "   'gravatar_id': '',\n",
       "   'url': 'https://api.github.com/users/antoniogarciagiron',\n",
       "   'html_url': 'https://github.com/antoniogarciagiron',\n",
       "   'followers_url': 'https://api.github.com/users/antoniogarciagiron/followers',\n",
       "   'following_url': 'https://api.github.com/users/antoniogarciagiron/following{/other_user}',\n",
       "   'gists_url': 'https://api.github.com/users/antoniogarciagiron/gists{/gist_id}',\n",
       "   'starred_url': 'https://api.github.com/users/antoniogarciagiron/starred{/owner}{/repo}',\n",
       "   'subscriptions_url': 'https://api.github.com/users/antoniogarciagiron/subscriptions',\n",
       "   'organizations_url': 'https://api.github.com/users/antoniogarciagiron/orgs',\n",
       "   'repos_url': 'https://api.github.com/users/antoniogarciagiron/repos',\n",
       "   'events_url': 'https://api.github.com/users/antoniogarciagiron/events{/privacy}',\n",
       "   'received_events_url': 'https://api.github.com/users/antoniogarciagiron/received_events',\n",
       "   'type': 'User',\n",
       "   'site_admin': False},\n",
       "  'html_url': 'https://github.com/antoniogarciagiron/streamlit_me_mola',\n",
       "  'description': 'Workshop to learn how to create a web application with streamlit to display our data analysis',\n",
       "  'fork': True,\n",
       "  'url': 'https://api.github.com/repos/antoniogarciagiron/streamlit_me_mola',\n",
       "  'forks_url': 'https://api.github.com/repos/antoniogarciagiron/streamlit_me_mola/forks',\n",
       "  'keys_url': 'https://api.github.com/repos/antoniogarciagiron/streamlit_me_mola/keys{/key_id}',\n",
       "  'collaborators_url': 'https://api.github.com/repos/antoniogarciagiron/streamlit_me_mola/collaborators{/collaborator}',\n",
       "  'teams_url': 'https://api.github.com/repos/antoniogarciagiron/streamlit_me_mola/teams',\n",
       "  'hooks_url': 'https://api.github.com/repos/antoniogarciagiron/streamlit_me_mola/hooks',\n",
       "  'issue_events_url': 'https://api.github.com/repos/antoniogarciagiron/streamlit_me_mola/issues/events{/number}',\n",
       "  'events_url': 'https://api.github.com/repos/antoniogarciagiron/streamlit_me_mola/events',\n",
       "  'assignees_url': 'https://api.github.com/repos/antoniogarciagiron/streamlit_me_mola/assignees{/user}',\n",
       "  'branches_url': 'https://api.github.com/repos/antoniogarciagiron/streamlit_me_mola/branches{/branch}',\n",
       "  'tags_url': 'https://api.github.com/repos/antoniogarciagiron/streamlit_me_mola/tags',\n",
       "  'blobs_url': 'https://api.github.com/repos/antoniogarciagiron/streamlit_me_mola/git/blobs{/sha}',\n",
       "  'git_tags_url': 'https://api.github.com/repos/antoniogarciagiron/streamlit_me_mola/git/tags{/sha}',\n",
       "  'git_refs_url': 'https://api.github.com/repos/antoniogarciagiron/streamlit_me_mola/git/refs{/sha}',\n",
       "  'trees_url': 'https://api.github.com/repos/antoniogarciagiron/streamlit_me_mola/git/trees{/sha}',\n",
       "  'statuses_url': 'https://api.github.com/repos/antoniogarciagiron/streamlit_me_mola/statuses/{sha}',\n",
       "  'languages_url': 'https://api.github.com/repos/antoniogarciagiron/streamlit_me_mola/languages',\n",
       "  'stargazers_url': 'https://api.github.com/repos/antoniogarciagiron/streamlit_me_mola/stargazers',\n",
       "  'contributors_url': 'https://api.github.com/repos/antoniogarciagiron/streamlit_me_mola/contributors',\n",
       "  'subscribers_url': 'https://api.github.com/repos/antoniogarciagiron/streamlit_me_mola/subscribers',\n",
       "  'subscription_url': 'https://api.github.com/repos/antoniogarciagiron/streamlit_me_mola/subscription',\n",
       "  'commits_url': 'https://api.github.com/repos/antoniogarciagiron/streamlit_me_mola/commits{/sha}',\n",
       "  'git_commits_url': 'https://api.github.com/repos/antoniogarciagiron/streamlit_me_mola/git/commits{/sha}',\n",
       "  'comments_url': 'https://api.github.com/repos/antoniogarciagiron/streamlit_me_mola/comments{/number}',\n",
       "  'issue_comment_url': 'https://api.github.com/repos/antoniogarciagiron/streamlit_me_mola/issues/comments{/number}',\n",
       "  'contents_url': 'https://api.github.com/repos/antoniogarciagiron/streamlit_me_mola/contents/{+path}',\n",
       "  'compare_url': 'https://api.github.com/repos/antoniogarciagiron/streamlit_me_mola/compare/{base}...{head}',\n",
       "  'merges_url': 'https://api.github.com/repos/antoniogarciagiron/streamlit_me_mola/merges',\n",
       "  'archive_url': 'https://api.github.com/repos/antoniogarciagiron/streamlit_me_mola/{archive_format}{/ref}',\n",
       "  'downloads_url': 'https://api.github.com/repos/antoniogarciagiron/streamlit_me_mola/downloads',\n",
       "  'issues_url': 'https://api.github.com/repos/antoniogarciagiron/streamlit_me_mola/issues{/number}',\n",
       "  'pulls_url': 'https://api.github.com/repos/antoniogarciagiron/streamlit_me_mola/pulls{/number}',\n",
       "  'milestones_url': 'https://api.github.com/repos/antoniogarciagiron/streamlit_me_mola/milestones{/number}',\n",
       "  'notifications_url': 'https://api.github.com/repos/antoniogarciagiron/streamlit_me_mola/notifications{?since,all,participating}',\n",
       "  'labels_url': 'https://api.github.com/repos/antoniogarciagiron/streamlit_me_mola/labels{/name}',\n",
       "  'releases_url': 'https://api.github.com/repos/antoniogarciagiron/streamlit_me_mola/releases{/id}',\n",
       "  'deployments_url': 'https://api.github.com/repos/antoniogarciagiron/streamlit_me_mola/deployments',\n",
       "  'created_at': '2021-03-10T09:30:52Z',\n",
       "  'updated_at': '2021-03-10T09:30:53Z',\n",
       "  'pushed_at': '2021-03-09T15:34:01Z',\n",
       "  'git_url': 'git://github.com/antoniogarciagiron/streamlit_me_mola.git',\n",
       "  'ssh_url': 'git@github.com:antoniogarciagiron/streamlit_me_mola.git',\n",
       "  'clone_url': 'https://github.com/antoniogarciagiron/streamlit_me_mola.git',\n",
       "  'svn_url': 'https://github.com/antoniogarciagiron/streamlit_me_mola',\n",
       "  'homepage': None,\n",
       "  'size': 2943,\n",
       "  'stargazers_count': 0,\n",
       "  'watchers_count': 0,\n",
       "  'language': None,\n",
       "  'has_issues': False,\n",
       "  'has_projects': True,\n",
       "  'has_downloads': True,\n",
       "  'has_wiki': True,\n",
       "  'has_pages': False,\n",
       "  'forks_count': 0,\n",
       "  'mirror_url': None,\n",
       "  'archived': False,\n",
       "  'disabled': False,\n",
       "  'open_issues_count': 0,\n",
       "  'license': None,\n",
       "  'forks': 0,\n",
       "  'open_issues': 0,\n",
       "  'watchers': 0,\n",
       "  'default_branch': 'main'},\n",
       " {'id': 346058578,\n",
       "  'node_id': 'MDEwOlJlcG9zaXRvcnkzNDYwNTg1Nzg=',\n",
       "  'name': 'streamlit_me_mola',\n",
       "  'full_name': 'AnadeLuna/streamlit_me_mola',\n",
       "  'private': False,\n",
       "  'owner': {'login': 'AnadeLuna',\n",
       "   'id': 75446799,\n",
       "   'node_id': 'MDQ6VXNlcjc1NDQ2Nzk5',\n",
       "   'avatar_url': 'https://avatars.githubusercontent.com/u/75446799?v=4',\n",
       "   'gravatar_id': '',\n",
       "   'url': 'https://api.github.com/users/AnadeLuna',\n",
       "   'html_url': 'https://github.com/AnadeLuna',\n",
       "   'followers_url': 'https://api.github.com/users/AnadeLuna/followers',\n",
       "   'following_url': 'https://api.github.com/users/AnadeLuna/following{/other_user}',\n",
       "   'gists_url': 'https://api.github.com/users/AnadeLuna/gists{/gist_id}',\n",
       "   'starred_url': 'https://api.github.com/users/AnadeLuna/starred{/owner}{/repo}',\n",
       "   'subscriptions_url': 'https://api.github.com/users/AnadeLuna/subscriptions',\n",
       "   'organizations_url': 'https://api.github.com/users/AnadeLuna/orgs',\n",
       "   'repos_url': 'https://api.github.com/users/AnadeLuna/repos',\n",
       "   'events_url': 'https://api.github.com/users/AnadeLuna/events{/privacy}',\n",
       "   'received_events_url': 'https://api.github.com/users/AnadeLuna/received_events',\n",
       "   'type': 'User',\n",
       "   'site_admin': False},\n",
       "  'html_url': 'https://github.com/AnadeLuna/streamlit_me_mola',\n",
       "  'description': 'Workshop to learn how to create a web application with streamlit to display our data analysis',\n",
       "  'fork': True,\n",
       "  'url': 'https://api.github.com/repos/AnadeLuna/streamlit_me_mola',\n",
       "  'forks_url': 'https://api.github.com/repos/AnadeLuna/streamlit_me_mola/forks',\n",
       "  'keys_url': 'https://api.github.com/repos/AnadeLuna/streamlit_me_mola/keys{/key_id}',\n",
       "  'collaborators_url': 'https://api.github.com/repos/AnadeLuna/streamlit_me_mola/collaborators{/collaborator}',\n",
       "  'teams_url': 'https://api.github.com/repos/AnadeLuna/streamlit_me_mola/teams',\n",
       "  'hooks_url': 'https://api.github.com/repos/AnadeLuna/streamlit_me_mola/hooks',\n",
       "  'issue_events_url': 'https://api.github.com/repos/AnadeLuna/streamlit_me_mola/issues/events{/number}',\n",
       "  'events_url': 'https://api.github.com/repos/AnadeLuna/streamlit_me_mola/events',\n",
       "  'assignees_url': 'https://api.github.com/repos/AnadeLuna/streamlit_me_mola/assignees{/user}',\n",
       "  'branches_url': 'https://api.github.com/repos/AnadeLuna/streamlit_me_mola/branches{/branch}',\n",
       "  'tags_url': 'https://api.github.com/repos/AnadeLuna/streamlit_me_mola/tags',\n",
       "  'blobs_url': 'https://api.github.com/repos/AnadeLuna/streamlit_me_mola/git/blobs{/sha}',\n",
       "  'git_tags_url': 'https://api.github.com/repos/AnadeLuna/streamlit_me_mola/git/tags{/sha}',\n",
       "  'git_refs_url': 'https://api.github.com/repos/AnadeLuna/streamlit_me_mola/git/refs{/sha}',\n",
       "  'trees_url': 'https://api.github.com/repos/AnadeLuna/streamlit_me_mola/git/trees{/sha}',\n",
       "  'statuses_url': 'https://api.github.com/repos/AnadeLuna/streamlit_me_mola/statuses/{sha}',\n",
       "  'languages_url': 'https://api.github.com/repos/AnadeLuna/streamlit_me_mola/languages',\n",
       "  'stargazers_url': 'https://api.github.com/repos/AnadeLuna/streamlit_me_mola/stargazers',\n",
       "  'contributors_url': 'https://api.github.com/repos/AnadeLuna/streamlit_me_mola/contributors',\n",
       "  'subscribers_url': 'https://api.github.com/repos/AnadeLuna/streamlit_me_mola/subscribers',\n",
       "  'subscription_url': 'https://api.github.com/repos/AnadeLuna/streamlit_me_mola/subscription',\n",
       "  'commits_url': 'https://api.github.com/repos/AnadeLuna/streamlit_me_mola/commits{/sha}',\n",
       "  'git_commits_url': 'https://api.github.com/repos/AnadeLuna/streamlit_me_mola/git/commits{/sha}',\n",
       "  'comments_url': 'https://api.github.com/repos/AnadeLuna/streamlit_me_mola/comments{/number}',\n",
       "  'issue_comment_url': 'https://api.github.com/repos/AnadeLuna/streamlit_me_mola/issues/comments{/number}',\n",
       "  'contents_url': 'https://api.github.com/repos/AnadeLuna/streamlit_me_mola/contents/{+path}',\n",
       "  'compare_url': 'https://api.github.com/repos/AnadeLuna/streamlit_me_mola/compare/{base}...{head}',\n",
       "  'merges_url': 'https://api.github.com/repos/AnadeLuna/streamlit_me_mola/merges',\n",
       "  'archive_url': 'https://api.github.com/repos/AnadeLuna/streamlit_me_mola/{archive_format}{/ref}',\n",
       "  'downloads_url': 'https://api.github.com/repos/AnadeLuna/streamlit_me_mola/downloads',\n",
       "  'issues_url': 'https://api.github.com/repos/AnadeLuna/streamlit_me_mola/issues{/number}',\n",
       "  'pulls_url': 'https://api.github.com/repos/AnadeLuna/streamlit_me_mola/pulls{/number}',\n",
       "  'milestones_url': 'https://api.github.com/repos/AnadeLuna/streamlit_me_mola/milestones{/number}',\n",
       "  'notifications_url': 'https://api.github.com/repos/AnadeLuna/streamlit_me_mola/notifications{?since,all,participating}',\n",
       "  'labels_url': 'https://api.github.com/repos/AnadeLuna/streamlit_me_mola/labels{/name}',\n",
       "  'releases_url': 'https://api.github.com/repos/AnadeLuna/streamlit_me_mola/releases{/id}',\n",
       "  'deployments_url': 'https://api.github.com/repos/AnadeLuna/streamlit_me_mola/deployments',\n",
       "  'created_at': '2021-03-09T15:46:47Z',\n",
       "  'updated_at': '2021-03-09T15:46:48Z',\n",
       "  'pushed_at': '2021-03-09T15:34:01Z',\n",
       "  'git_url': 'git://github.com/AnadeLuna/streamlit_me_mola.git',\n",
       "  'ssh_url': 'git@github.com:AnadeLuna/streamlit_me_mola.git',\n",
       "  'clone_url': 'https://github.com/AnadeLuna/streamlit_me_mola.git',\n",
       "  'svn_url': 'https://github.com/AnadeLuna/streamlit_me_mola',\n",
       "  'homepage': None,\n",
       "  'size': 2938,\n",
       "  'stargazers_count': 0,\n",
       "  'watchers_count': 0,\n",
       "  'language': None,\n",
       "  'has_issues': False,\n",
       "  'has_projects': True,\n",
       "  'has_downloads': True,\n",
       "  'has_wiki': True,\n",
       "  'has_pages': False,\n",
       "  'forks_count': 0,\n",
       "  'mirror_url': None,\n",
       "  'archived': False,\n",
       "  'disabled': False,\n",
       "  'open_issues_count': 0,\n",
       "  'license': None,\n",
       "  'forks': 0,\n",
       "  'open_issues': 0,\n",
       "  'watchers': 0,\n",
       "  'default_branch': 'main'},\n",
       " {'id': 344906736,\n",
       "  'node_id': 'MDEwOlJlcG9zaXRvcnkzNDQ5MDY3MzY=',\n",
       "  'name': 'streamlit_me_mola',\n",
       "  'full_name': 'angelanavarrog/streamlit_me_mola',\n",
       "  'private': False,\n",
       "  'owner': {'login': 'angelanavarrog',\n",
       "   'id': 75832683,\n",
       "   'node_id': 'MDQ6VXNlcjc1ODMyNjgz',\n",
       "   'avatar_url': 'https://avatars.githubusercontent.com/u/75832683?v=4',\n",
       "   'gravatar_id': '',\n",
       "   'url': 'https://api.github.com/users/angelanavarrog',\n",
       "   'html_url': 'https://github.com/angelanavarrog',\n",
       "   'followers_url': 'https://api.github.com/users/angelanavarrog/followers',\n",
       "   'following_url': 'https://api.github.com/users/angelanavarrog/following{/other_user}',\n",
       "   'gists_url': 'https://api.github.com/users/angelanavarrog/gists{/gist_id}',\n",
       "   'starred_url': 'https://api.github.com/users/angelanavarrog/starred{/owner}{/repo}',\n",
       "   'subscriptions_url': 'https://api.github.com/users/angelanavarrog/subscriptions',\n",
       "   'organizations_url': 'https://api.github.com/users/angelanavarrog/orgs',\n",
       "   'repos_url': 'https://api.github.com/users/angelanavarrog/repos',\n",
       "   'events_url': 'https://api.github.com/users/angelanavarrog/events{/privacy}',\n",
       "   'received_events_url': 'https://api.github.com/users/angelanavarrog/received_events',\n",
       "   'type': 'User',\n",
       "   'site_admin': False},\n",
       "  'html_url': 'https://github.com/angelanavarrog/streamlit_me_mola',\n",
       "  'description': 'Workshop to learn how to create a web application with streamlit to display our data analysis',\n",
       "  'fork': True,\n",
       "  'url': 'https://api.github.com/repos/angelanavarrog/streamlit_me_mola',\n",
       "  'forks_url': 'https://api.github.com/repos/angelanavarrog/streamlit_me_mola/forks',\n",
       "  'keys_url': 'https://api.github.com/repos/angelanavarrog/streamlit_me_mola/keys{/key_id}',\n",
       "  'collaborators_url': 'https://api.github.com/repos/angelanavarrog/streamlit_me_mola/collaborators{/collaborator}',\n",
       "  'teams_url': 'https://api.github.com/repos/angelanavarrog/streamlit_me_mola/teams',\n",
       "  'hooks_url': 'https://api.github.com/repos/angelanavarrog/streamlit_me_mola/hooks',\n",
       "  'issue_events_url': 'https://api.github.com/repos/angelanavarrog/streamlit_me_mola/issues/events{/number}',\n",
       "  'events_url': 'https://api.github.com/repos/angelanavarrog/streamlit_me_mola/events',\n",
       "  'assignees_url': 'https://api.github.com/repos/angelanavarrog/streamlit_me_mola/assignees{/user}',\n",
       "  'branches_url': 'https://api.github.com/repos/angelanavarrog/streamlit_me_mola/branches{/branch}',\n",
       "  'tags_url': 'https://api.github.com/repos/angelanavarrog/streamlit_me_mola/tags',\n",
       "  'blobs_url': 'https://api.github.com/repos/angelanavarrog/streamlit_me_mola/git/blobs{/sha}',\n",
       "  'git_tags_url': 'https://api.github.com/repos/angelanavarrog/streamlit_me_mola/git/tags{/sha}',\n",
       "  'git_refs_url': 'https://api.github.com/repos/angelanavarrog/streamlit_me_mola/git/refs{/sha}',\n",
       "  'trees_url': 'https://api.github.com/repos/angelanavarrog/streamlit_me_mola/git/trees{/sha}',\n",
       "  'statuses_url': 'https://api.github.com/repos/angelanavarrog/streamlit_me_mola/statuses/{sha}',\n",
       "  'languages_url': 'https://api.github.com/repos/angelanavarrog/streamlit_me_mola/languages',\n",
       "  'stargazers_url': 'https://api.github.com/repos/angelanavarrog/streamlit_me_mola/stargazers',\n",
       "  'contributors_url': 'https://api.github.com/repos/angelanavarrog/streamlit_me_mola/contributors',\n",
       "  'subscribers_url': 'https://api.github.com/repos/angelanavarrog/streamlit_me_mola/subscribers',\n",
       "  'subscription_url': 'https://api.github.com/repos/angelanavarrog/streamlit_me_mola/subscription',\n",
       "  'commits_url': 'https://api.github.com/repos/angelanavarrog/streamlit_me_mola/commits{/sha}',\n",
       "  'git_commits_url': 'https://api.github.com/repos/angelanavarrog/streamlit_me_mola/git/commits{/sha}',\n",
       "  'comments_url': 'https://api.github.com/repos/angelanavarrog/streamlit_me_mola/comments{/number}',\n",
       "  'issue_comment_url': 'https://api.github.com/repos/angelanavarrog/streamlit_me_mola/issues/comments{/number}',\n",
       "  'contents_url': 'https://api.github.com/repos/angelanavarrog/streamlit_me_mola/contents/{+path}',\n",
       "  'compare_url': 'https://api.github.com/repos/angelanavarrog/streamlit_me_mola/compare/{base}...{head}',\n",
       "  'merges_url': 'https://api.github.com/repos/angelanavarrog/streamlit_me_mola/merges',\n",
       "  'archive_url': 'https://api.github.com/repos/angelanavarrog/streamlit_me_mola/{archive_format}{/ref}',\n",
       "  'downloads_url': 'https://api.github.com/repos/angelanavarrog/streamlit_me_mola/downloads',\n",
       "  'issues_url': 'https://api.github.com/repos/angelanavarrog/streamlit_me_mola/issues{/number}',\n",
       "  'pulls_url': 'https://api.github.com/repos/angelanavarrog/streamlit_me_mola/pulls{/number}',\n",
       "  'milestones_url': 'https://api.github.com/repos/angelanavarrog/streamlit_me_mola/milestones{/number}',\n",
       "  'notifications_url': 'https://api.github.com/repos/angelanavarrog/streamlit_me_mola/notifications{?since,all,participating}',\n",
       "  'labels_url': 'https://api.github.com/repos/angelanavarrog/streamlit_me_mola/labels{/name}',\n",
       "  'releases_url': 'https://api.github.com/repos/angelanavarrog/streamlit_me_mola/releases{/id}',\n",
       "  'deployments_url': 'https://api.github.com/repos/angelanavarrog/streamlit_me_mola/deployments',\n",
       "  'created_at': '2021-03-05T19:01:02Z',\n",
       "  'updated_at': '2021-03-05T19:01:02Z',\n",
       "  'pushed_at': '2021-03-05T12:21:19Z',\n",
       "  'git_url': 'git://github.com/angelanavarrog/streamlit_me_mola.git',\n",
       "  'ssh_url': 'git@github.com:angelanavarrog/streamlit_me_mola.git',\n",
       "  'clone_url': 'https://github.com/angelanavarrog/streamlit_me_mola.git',\n",
       "  'svn_url': 'https://github.com/angelanavarrog/streamlit_me_mola',\n",
       "  'homepage': None,\n",
       "  'size': 2938,\n",
       "  'stargazers_count': 0,\n",
       "  'watchers_count': 0,\n",
       "  'language': None,\n",
       "  'has_issues': False,\n",
       "  'has_projects': True,\n",
       "  'has_downloads': True,\n",
       "  'has_wiki': True,\n",
       "  'has_pages': False,\n",
       "  'forks_count': 0,\n",
       "  'mirror_url': None,\n",
       "  'archived': False,\n",
       "  'disabled': False,\n",
       "  'open_issues_count': 0,\n",
       "  'license': None,\n",
       "  'forks': 0,\n",
       "  'open_issues': 0,\n",
       "  'watchers': 0,\n",
       "  'default_branch': 'main'},\n",
       " {'id': 344816178,\n",
       "  'node_id': 'MDEwOlJlcG9zaXRvcnkzNDQ4MTYxNzg=',\n",
       "  'name': 'streamlit_me_mola',\n",
       "  'full_name': 'xarlomi/streamlit_me_mola',\n",
       "  'private': False,\n",
       "  'owner': {'login': 'xarlomi',\n",
       "   'id': 71796114,\n",
       "   'node_id': 'MDQ6VXNlcjcxNzk2MTE0',\n",
       "   'avatar_url': 'https://avatars.githubusercontent.com/u/71796114?v=4',\n",
       "   'gravatar_id': '',\n",
       "   'url': 'https://api.github.com/users/xarlomi',\n",
       "   'html_url': 'https://github.com/xarlomi',\n",
       "   'followers_url': 'https://api.github.com/users/xarlomi/followers',\n",
       "   'following_url': 'https://api.github.com/users/xarlomi/following{/other_user}',\n",
       "   'gists_url': 'https://api.github.com/users/xarlomi/gists{/gist_id}',\n",
       "   'starred_url': 'https://api.github.com/users/xarlomi/starred{/owner}{/repo}',\n",
       "   'subscriptions_url': 'https://api.github.com/users/xarlomi/subscriptions',\n",
       "   'organizations_url': 'https://api.github.com/users/xarlomi/orgs',\n",
       "   'repos_url': 'https://api.github.com/users/xarlomi/repos',\n",
       "   'events_url': 'https://api.github.com/users/xarlomi/events{/privacy}',\n",
       "   'received_events_url': 'https://api.github.com/users/xarlomi/received_events',\n",
       "   'type': 'User',\n",
       "   'site_admin': False},\n",
       "  'html_url': 'https://github.com/xarlomi/streamlit_me_mola',\n",
       "  'description': 'Workshop to learn how to create a web application with streamlit to display our data analysis',\n",
       "  'fork': True,\n",
       "  'url': 'https://api.github.com/repos/xarlomi/streamlit_me_mola',\n",
       "  'forks_url': 'https://api.github.com/repos/xarlomi/streamlit_me_mola/forks',\n",
       "  'keys_url': 'https://api.github.com/repos/xarlomi/streamlit_me_mola/keys{/key_id}',\n",
       "  'collaborators_url': 'https://api.github.com/repos/xarlomi/streamlit_me_mola/collaborators{/collaborator}',\n",
       "  'teams_url': 'https://api.github.com/repos/xarlomi/streamlit_me_mola/teams',\n",
       "  'hooks_url': 'https://api.github.com/repos/xarlomi/streamlit_me_mola/hooks',\n",
       "  'issue_events_url': 'https://api.github.com/repos/xarlomi/streamlit_me_mola/issues/events{/number}',\n",
       "  'events_url': 'https://api.github.com/repos/xarlomi/streamlit_me_mola/events',\n",
       "  'assignees_url': 'https://api.github.com/repos/xarlomi/streamlit_me_mola/assignees{/user}',\n",
       "  'branches_url': 'https://api.github.com/repos/xarlomi/streamlit_me_mola/branches{/branch}',\n",
       "  'tags_url': 'https://api.github.com/repos/xarlomi/streamlit_me_mola/tags',\n",
       "  'blobs_url': 'https://api.github.com/repos/xarlomi/streamlit_me_mola/git/blobs{/sha}',\n",
       "  'git_tags_url': 'https://api.github.com/repos/xarlomi/streamlit_me_mola/git/tags{/sha}',\n",
       "  'git_refs_url': 'https://api.github.com/repos/xarlomi/streamlit_me_mola/git/refs{/sha}',\n",
       "  'trees_url': 'https://api.github.com/repos/xarlomi/streamlit_me_mola/git/trees{/sha}',\n",
       "  'statuses_url': 'https://api.github.com/repos/xarlomi/streamlit_me_mola/statuses/{sha}',\n",
       "  'languages_url': 'https://api.github.com/repos/xarlomi/streamlit_me_mola/languages',\n",
       "  'stargazers_url': 'https://api.github.com/repos/xarlomi/streamlit_me_mola/stargazers',\n",
       "  'contributors_url': 'https://api.github.com/repos/xarlomi/streamlit_me_mola/contributors',\n",
       "  'subscribers_url': 'https://api.github.com/repos/xarlomi/streamlit_me_mola/subscribers',\n",
       "  'subscription_url': 'https://api.github.com/repos/xarlomi/streamlit_me_mola/subscription',\n",
       "  'commits_url': 'https://api.github.com/repos/xarlomi/streamlit_me_mola/commits{/sha}',\n",
       "  'git_commits_url': 'https://api.github.com/repos/xarlomi/streamlit_me_mola/git/commits{/sha}',\n",
       "  'comments_url': 'https://api.github.com/repos/xarlomi/streamlit_me_mola/comments{/number}',\n",
       "  'issue_comment_url': 'https://api.github.com/repos/xarlomi/streamlit_me_mola/issues/comments{/number}',\n",
       "  'contents_url': 'https://api.github.com/repos/xarlomi/streamlit_me_mola/contents/{+path}',\n",
       "  'compare_url': 'https://api.github.com/repos/xarlomi/streamlit_me_mola/compare/{base}...{head}',\n",
       "  'merges_url': 'https://api.github.com/repos/xarlomi/streamlit_me_mola/merges',\n",
       "  'archive_url': 'https://api.github.com/repos/xarlomi/streamlit_me_mola/{archive_format}{/ref}',\n",
       "  'downloads_url': 'https://api.github.com/repos/xarlomi/streamlit_me_mola/downloads',\n",
       "  'issues_url': 'https://api.github.com/repos/xarlomi/streamlit_me_mola/issues{/number}',\n",
       "  'pulls_url': 'https://api.github.com/repos/xarlomi/streamlit_me_mola/pulls{/number}',\n",
       "  'milestones_url': 'https://api.github.com/repos/xarlomi/streamlit_me_mola/milestones{/number}',\n",
       "  'notifications_url': 'https://api.github.com/repos/xarlomi/streamlit_me_mola/notifications{?since,all,participating}',\n",
       "  'labels_url': 'https://api.github.com/repos/xarlomi/streamlit_me_mola/labels{/name}',\n",
       "  'releases_url': 'https://api.github.com/repos/xarlomi/streamlit_me_mola/releases{/id}',\n",
       "  'deployments_url': 'https://api.github.com/repos/xarlomi/streamlit_me_mola/deployments',\n",
       "  'created_at': '2021-03-05T13:16:19Z',\n",
       "  'updated_at': '2021-03-05T13:16:20Z',\n",
       "  'pushed_at': '2021-03-05T12:21:19Z',\n",
       "  'git_url': 'git://github.com/xarlomi/streamlit_me_mola.git',\n",
       "  'ssh_url': 'git@github.com:xarlomi/streamlit_me_mola.git',\n",
       "  'clone_url': 'https://github.com/xarlomi/streamlit_me_mola.git',\n",
       "  'svn_url': 'https://github.com/xarlomi/streamlit_me_mola',\n",
       "  'homepage': None,\n",
       "  'size': 2936,\n",
       "  'stargazers_count': 0,\n",
       "  'watchers_count': 0,\n",
       "  'language': None,\n",
       "  'has_issues': False,\n",
       "  'has_projects': True,\n",
       "  'has_downloads': True,\n",
       "  'has_wiki': True,\n",
       "  'has_pages': False,\n",
       "  'forks_count': 0,\n",
       "  'mirror_url': None,\n",
       "  'archived': False,\n",
       "  'disabled': False,\n",
       "  'open_issues_count': 0,\n",
       "  'license': None,\n",
       "  'forks': 0,\n",
       "  'open_issues': 0,\n",
       "  'watchers': 0,\n",
       "  'default_branch': 'main'},\n",
       " {'id': 344784710,\n",
       "  'node_id': 'MDEwOlJlcG9zaXRvcnkzNDQ3ODQ3MTA=',\n",
       "  'name': 'streamlit_me_mola',\n",
       "  'full_name': 'AnaAGG/streamlit_me_mola',\n",
       "  'private': False,\n",
       "  'owner': {'login': 'AnaAGG',\n",
       "   'id': 75084991,\n",
       "   'node_id': 'MDQ6VXNlcjc1MDg0OTkx',\n",
       "   'avatar_url': 'https://avatars.githubusercontent.com/u/75084991?v=4',\n",
       "   'gravatar_id': '',\n",
       "   'url': 'https://api.github.com/users/AnaAGG',\n",
       "   'html_url': 'https://github.com/AnaAGG',\n",
       "   'followers_url': 'https://api.github.com/users/AnaAGG/followers',\n",
       "   'following_url': 'https://api.github.com/users/AnaAGG/following{/other_user}',\n",
       "   'gists_url': 'https://api.github.com/users/AnaAGG/gists{/gist_id}',\n",
       "   'starred_url': 'https://api.github.com/users/AnaAGG/starred{/owner}{/repo}',\n",
       "   'subscriptions_url': 'https://api.github.com/users/AnaAGG/subscriptions',\n",
       "   'organizations_url': 'https://api.github.com/users/AnaAGG/orgs',\n",
       "   'repos_url': 'https://api.github.com/users/AnaAGG/repos',\n",
       "   'events_url': 'https://api.github.com/users/AnaAGG/events{/privacy}',\n",
       "   'received_events_url': 'https://api.github.com/users/AnaAGG/received_events',\n",
       "   'type': 'User',\n",
       "   'site_admin': False},\n",
       "  'html_url': 'https://github.com/AnaAGG/streamlit_me_mola',\n",
       "  'description': 'Workshop to learn how to create a web application with streamlit to display our data analysis',\n",
       "  'fork': True,\n",
       "  'url': 'https://api.github.com/repos/AnaAGG/streamlit_me_mola',\n",
       "  'forks_url': 'https://api.github.com/repos/AnaAGG/streamlit_me_mola/forks',\n",
       "  'keys_url': 'https://api.github.com/repos/AnaAGG/streamlit_me_mola/keys{/key_id}',\n",
       "  'collaborators_url': 'https://api.github.com/repos/AnaAGG/streamlit_me_mola/collaborators{/collaborator}',\n",
       "  'teams_url': 'https://api.github.com/repos/AnaAGG/streamlit_me_mola/teams',\n",
       "  'hooks_url': 'https://api.github.com/repos/AnaAGG/streamlit_me_mola/hooks',\n",
       "  'issue_events_url': 'https://api.github.com/repos/AnaAGG/streamlit_me_mola/issues/events{/number}',\n",
       "  'events_url': 'https://api.github.com/repos/AnaAGG/streamlit_me_mola/events',\n",
       "  'assignees_url': 'https://api.github.com/repos/AnaAGG/streamlit_me_mola/assignees{/user}',\n",
       "  'branches_url': 'https://api.github.com/repos/AnaAGG/streamlit_me_mola/branches{/branch}',\n",
       "  'tags_url': 'https://api.github.com/repos/AnaAGG/streamlit_me_mola/tags',\n",
       "  'blobs_url': 'https://api.github.com/repos/AnaAGG/streamlit_me_mola/git/blobs{/sha}',\n",
       "  'git_tags_url': 'https://api.github.com/repos/AnaAGG/streamlit_me_mola/git/tags{/sha}',\n",
       "  'git_refs_url': 'https://api.github.com/repos/AnaAGG/streamlit_me_mola/git/refs{/sha}',\n",
       "  'trees_url': 'https://api.github.com/repos/AnaAGG/streamlit_me_mola/git/trees{/sha}',\n",
       "  'statuses_url': 'https://api.github.com/repos/AnaAGG/streamlit_me_mola/statuses/{sha}',\n",
       "  'languages_url': 'https://api.github.com/repos/AnaAGG/streamlit_me_mola/languages',\n",
       "  'stargazers_url': 'https://api.github.com/repos/AnaAGG/streamlit_me_mola/stargazers',\n",
       "  'contributors_url': 'https://api.github.com/repos/AnaAGG/streamlit_me_mola/contributors',\n",
       "  'subscribers_url': 'https://api.github.com/repos/AnaAGG/streamlit_me_mola/subscribers',\n",
       "  'subscription_url': 'https://api.github.com/repos/AnaAGG/streamlit_me_mola/subscription',\n",
       "  'commits_url': 'https://api.github.com/repos/AnaAGG/streamlit_me_mola/commits{/sha}',\n",
       "  'git_commits_url': 'https://api.github.com/repos/AnaAGG/streamlit_me_mola/git/commits{/sha}',\n",
       "  'comments_url': 'https://api.github.com/repos/AnaAGG/streamlit_me_mola/comments{/number}',\n",
       "  'issue_comment_url': 'https://api.github.com/repos/AnaAGG/streamlit_me_mola/issues/comments{/number}',\n",
       "  'contents_url': 'https://api.github.com/repos/AnaAGG/streamlit_me_mola/contents/{+path}',\n",
       "  'compare_url': 'https://api.github.com/repos/AnaAGG/streamlit_me_mola/compare/{base}...{head}',\n",
       "  'merges_url': 'https://api.github.com/repos/AnaAGG/streamlit_me_mola/merges',\n",
       "  'archive_url': 'https://api.github.com/repos/AnaAGG/streamlit_me_mola/{archive_format}{/ref}',\n",
       "  'downloads_url': 'https://api.github.com/repos/AnaAGG/streamlit_me_mola/downloads',\n",
       "  'issues_url': 'https://api.github.com/repos/AnaAGG/streamlit_me_mola/issues{/number}',\n",
       "  'pulls_url': 'https://api.github.com/repos/AnaAGG/streamlit_me_mola/pulls{/number}',\n",
       "  'milestones_url': 'https://api.github.com/repos/AnaAGG/streamlit_me_mola/milestones{/number}',\n",
       "  'notifications_url': 'https://api.github.com/repos/AnaAGG/streamlit_me_mola/notifications{?since,all,participating}',\n",
       "  'labels_url': 'https://api.github.com/repos/AnaAGG/streamlit_me_mola/labels{/name}',\n",
       "  'releases_url': 'https://api.github.com/repos/AnaAGG/streamlit_me_mola/releases{/id}',\n",
       "  'deployments_url': 'https://api.github.com/repos/AnaAGG/streamlit_me_mola/deployments',\n",
       "  'created_at': '2021-03-05T11:09:06Z',\n",
       "  'updated_at': '2021-03-05T11:09:07Z',\n",
       "  'pushed_at': '2021-03-05T10:45:28Z',\n",
       "  'git_url': 'git://github.com/AnaAGG/streamlit_me_mola.git',\n",
       "  'ssh_url': 'git@github.com:AnaAGG/streamlit_me_mola.git',\n",
       "  'clone_url': 'https://github.com/AnaAGG/streamlit_me_mola.git',\n",
       "  'svn_url': 'https://github.com/AnaAGG/streamlit_me_mola',\n",
       "  'homepage': None,\n",
       "  'size': 1913,\n",
       "  'stargazers_count': 0,\n",
       "  'watchers_count': 0,\n",
       "  'language': None,\n",
       "  'has_issues': False,\n",
       "  'has_projects': True,\n",
       "  'has_downloads': True,\n",
       "  'has_wiki': True,\n",
       "  'has_pages': False,\n",
       "  'forks_count': 0,\n",
       "  'mirror_url': None,\n",
       "  'archived': False,\n",
       "  'disabled': False,\n",
       "  'open_issues_count': 0,\n",
       "  'license': None,\n",
       "  'forks': 0,\n",
       "  'open_issues': 0,\n",
       "  'watchers': 0,\n",
       "  'default_branch': 'main'},\n",
       " {'id': 344780831,\n",
       "  'node_id': 'MDEwOlJlcG9zaXRvcnkzNDQ3ODA4MzE=',\n",
       "  'name': 'streamlit_me_mola',\n",
       "  'full_name': 'MarioGar25/streamlit_me_mola',\n",
       "  'private': False,\n",
       "  'owner': {'login': 'MarioGar25',\n",
       "   'id': 74923690,\n",
       "   'node_id': 'MDQ6VXNlcjc0OTIzNjkw',\n",
       "   'avatar_url': 'https://avatars.githubusercontent.com/u/74923690?v=4',\n",
       "   'gravatar_id': '',\n",
       "   'url': 'https://api.github.com/users/MarioGar25',\n",
       "   'html_url': 'https://github.com/MarioGar25',\n",
       "   'followers_url': 'https://api.github.com/users/MarioGar25/followers',\n",
       "   'following_url': 'https://api.github.com/users/MarioGar25/following{/other_user}',\n",
       "   'gists_url': 'https://api.github.com/users/MarioGar25/gists{/gist_id}',\n",
       "   'starred_url': 'https://api.github.com/users/MarioGar25/starred{/owner}{/repo}',\n",
       "   'subscriptions_url': 'https://api.github.com/users/MarioGar25/subscriptions',\n",
       "   'organizations_url': 'https://api.github.com/users/MarioGar25/orgs',\n",
       "   'repos_url': 'https://api.github.com/users/MarioGar25/repos',\n",
       "   'events_url': 'https://api.github.com/users/MarioGar25/events{/privacy}',\n",
       "   'received_events_url': 'https://api.github.com/users/MarioGar25/received_events',\n",
       "   'type': 'User',\n",
       "   'site_admin': False},\n",
       "  'html_url': 'https://github.com/MarioGar25/streamlit_me_mola',\n",
       "  'description': 'Workshop to learn how to create a web application with streamlit to display our data analysis',\n",
       "  'fork': True,\n",
       "  'url': 'https://api.github.com/repos/MarioGar25/streamlit_me_mola',\n",
       "  'forks_url': 'https://api.github.com/repos/MarioGar25/streamlit_me_mola/forks',\n",
       "  'keys_url': 'https://api.github.com/repos/MarioGar25/streamlit_me_mola/keys{/key_id}',\n",
       "  'collaborators_url': 'https://api.github.com/repos/MarioGar25/streamlit_me_mola/collaborators{/collaborator}',\n",
       "  'teams_url': 'https://api.github.com/repos/MarioGar25/streamlit_me_mola/teams',\n",
       "  'hooks_url': 'https://api.github.com/repos/MarioGar25/streamlit_me_mola/hooks',\n",
       "  'issue_events_url': 'https://api.github.com/repos/MarioGar25/streamlit_me_mola/issues/events{/number}',\n",
       "  'events_url': 'https://api.github.com/repos/MarioGar25/streamlit_me_mola/events',\n",
       "  'assignees_url': 'https://api.github.com/repos/MarioGar25/streamlit_me_mola/assignees{/user}',\n",
       "  'branches_url': 'https://api.github.com/repos/MarioGar25/streamlit_me_mola/branches{/branch}',\n",
       "  'tags_url': 'https://api.github.com/repos/MarioGar25/streamlit_me_mola/tags',\n",
       "  'blobs_url': 'https://api.github.com/repos/MarioGar25/streamlit_me_mola/git/blobs{/sha}',\n",
       "  'git_tags_url': 'https://api.github.com/repos/MarioGar25/streamlit_me_mola/git/tags{/sha}',\n",
       "  'git_refs_url': 'https://api.github.com/repos/MarioGar25/streamlit_me_mola/git/refs{/sha}',\n",
       "  'trees_url': 'https://api.github.com/repos/MarioGar25/streamlit_me_mola/git/trees{/sha}',\n",
       "  'statuses_url': 'https://api.github.com/repos/MarioGar25/streamlit_me_mola/statuses/{sha}',\n",
       "  'languages_url': 'https://api.github.com/repos/MarioGar25/streamlit_me_mola/languages',\n",
       "  'stargazers_url': 'https://api.github.com/repos/MarioGar25/streamlit_me_mola/stargazers',\n",
       "  'contributors_url': 'https://api.github.com/repos/MarioGar25/streamlit_me_mola/contributors',\n",
       "  'subscribers_url': 'https://api.github.com/repos/MarioGar25/streamlit_me_mola/subscribers',\n",
       "  'subscription_url': 'https://api.github.com/repos/MarioGar25/streamlit_me_mola/subscription',\n",
       "  'commits_url': 'https://api.github.com/repos/MarioGar25/streamlit_me_mola/commits{/sha}',\n",
       "  'git_commits_url': 'https://api.github.com/repos/MarioGar25/streamlit_me_mola/git/commits{/sha}',\n",
       "  'comments_url': 'https://api.github.com/repos/MarioGar25/streamlit_me_mola/comments{/number}',\n",
       "  'issue_comment_url': 'https://api.github.com/repos/MarioGar25/streamlit_me_mola/issues/comments{/number}',\n",
       "  'contents_url': 'https://api.github.com/repos/MarioGar25/streamlit_me_mola/contents/{+path}',\n",
       "  'compare_url': 'https://api.github.com/repos/MarioGar25/streamlit_me_mola/compare/{base}...{head}',\n",
       "  'merges_url': 'https://api.github.com/repos/MarioGar25/streamlit_me_mola/merges',\n",
       "  'archive_url': 'https://api.github.com/repos/MarioGar25/streamlit_me_mola/{archive_format}{/ref}',\n",
       "  'downloads_url': 'https://api.github.com/repos/MarioGar25/streamlit_me_mola/downloads',\n",
       "  'issues_url': 'https://api.github.com/repos/MarioGar25/streamlit_me_mola/issues{/number}',\n",
       "  'pulls_url': 'https://api.github.com/repos/MarioGar25/streamlit_me_mola/pulls{/number}',\n",
       "  'milestones_url': 'https://api.github.com/repos/MarioGar25/streamlit_me_mola/milestones{/number}',\n",
       "  'notifications_url': 'https://api.github.com/repos/MarioGar25/streamlit_me_mola/notifications{?since,all,participating}',\n",
       "  'labels_url': 'https://api.github.com/repos/MarioGar25/streamlit_me_mola/labels{/name}',\n",
       "  'releases_url': 'https://api.github.com/repos/MarioGar25/streamlit_me_mola/releases{/id}',\n",
       "  'deployments_url': 'https://api.github.com/repos/MarioGar25/streamlit_me_mola/deployments',\n",
       "  'created_at': '2021-03-05T10:53:21Z',\n",
       "  'updated_at': '2021-03-05T10:53:22Z',\n",
       "  'pushed_at': '2021-03-05T10:45:28Z',\n",
       "  'git_url': 'git://github.com/MarioGar25/streamlit_me_mola.git',\n",
       "  'ssh_url': 'git@github.com:MarioGar25/streamlit_me_mola.git',\n",
       "  'clone_url': 'https://github.com/MarioGar25/streamlit_me_mola.git',\n",
       "  'svn_url': 'https://github.com/MarioGar25/streamlit_me_mola',\n",
       "  'homepage': None,\n",
       "  'size': 1913,\n",
       "  'stargazers_count': 0,\n",
       "  'watchers_count': 0,\n",
       "  'language': None,\n",
       "  'has_issues': False,\n",
       "  'has_projects': True,\n",
       "  'has_downloads': True,\n",
       "  'has_wiki': True,\n",
       "  'has_pages': False,\n",
       "  'forks_count': 0,\n",
       "  'mirror_url': None,\n",
       "  'archived': False,\n",
       "  'disabled': False,\n",
       "  'open_issues_count': 0,\n",
       "  'license': None,\n",
       "  'forks': 0,\n",
       "  'open_issues': 0,\n",
       "  'watchers': 0,\n",
       "  'default_branch': 'main'},\n",
       " {'id': 344760848,\n",
       "  'node_id': 'MDEwOlJlcG9zaXRvcnkzNDQ3NjA4NDg=',\n",
       "  'name': 'streamlit_me_mola',\n",
       "  'full_name': 'XabierArrieta/streamlit_me_mola',\n",
       "  'private': False,\n",
       "  'owner': {'login': 'XabierArrieta',\n",
       "   'id': 75375312,\n",
       "   'node_id': 'MDQ6VXNlcjc1Mzc1MzEy',\n",
       "   'avatar_url': 'https://avatars.githubusercontent.com/u/75375312?v=4',\n",
       "   'gravatar_id': '',\n",
       "   'url': 'https://api.github.com/users/XabierArrieta',\n",
       "   'html_url': 'https://github.com/XabierArrieta',\n",
       "   'followers_url': 'https://api.github.com/users/XabierArrieta/followers',\n",
       "   'following_url': 'https://api.github.com/users/XabierArrieta/following{/other_user}',\n",
       "   'gists_url': 'https://api.github.com/users/XabierArrieta/gists{/gist_id}',\n",
       "   'starred_url': 'https://api.github.com/users/XabierArrieta/starred{/owner}{/repo}',\n",
       "   'subscriptions_url': 'https://api.github.com/users/XabierArrieta/subscriptions',\n",
       "   'organizations_url': 'https://api.github.com/users/XabierArrieta/orgs',\n",
       "   'repos_url': 'https://api.github.com/users/XabierArrieta/repos',\n",
       "   'events_url': 'https://api.github.com/users/XabierArrieta/events{/privacy}',\n",
       "   'received_events_url': 'https://api.github.com/users/XabierArrieta/received_events',\n",
       "   'type': 'User',\n",
       "   'site_admin': False},\n",
       "  'html_url': 'https://github.com/XabierArrieta/streamlit_me_mola',\n",
       "  'description': 'Workshop to learn how to create a web application with streamlit to display our data analysis',\n",
       "  'fork': True,\n",
       "  'url': 'https://api.github.com/repos/XabierArrieta/streamlit_me_mola',\n",
       "  'forks_url': 'https://api.github.com/repos/XabierArrieta/streamlit_me_mola/forks',\n",
       "  'keys_url': 'https://api.github.com/repos/XabierArrieta/streamlit_me_mola/keys{/key_id}',\n",
       "  'collaborators_url': 'https://api.github.com/repos/XabierArrieta/streamlit_me_mola/collaborators{/collaborator}',\n",
       "  'teams_url': 'https://api.github.com/repos/XabierArrieta/streamlit_me_mola/teams',\n",
       "  'hooks_url': 'https://api.github.com/repos/XabierArrieta/streamlit_me_mola/hooks',\n",
       "  'issue_events_url': 'https://api.github.com/repos/XabierArrieta/streamlit_me_mola/issues/events{/number}',\n",
       "  'events_url': 'https://api.github.com/repos/XabierArrieta/streamlit_me_mola/events',\n",
       "  'assignees_url': 'https://api.github.com/repos/XabierArrieta/streamlit_me_mola/assignees{/user}',\n",
       "  'branches_url': 'https://api.github.com/repos/XabierArrieta/streamlit_me_mola/branches{/branch}',\n",
       "  'tags_url': 'https://api.github.com/repos/XabierArrieta/streamlit_me_mola/tags',\n",
       "  'blobs_url': 'https://api.github.com/repos/XabierArrieta/streamlit_me_mola/git/blobs{/sha}',\n",
       "  'git_tags_url': 'https://api.github.com/repos/XabierArrieta/streamlit_me_mola/git/tags{/sha}',\n",
       "  'git_refs_url': 'https://api.github.com/repos/XabierArrieta/streamlit_me_mola/git/refs{/sha}',\n",
       "  'trees_url': 'https://api.github.com/repos/XabierArrieta/streamlit_me_mola/git/trees{/sha}',\n",
       "  'statuses_url': 'https://api.github.com/repos/XabierArrieta/streamlit_me_mola/statuses/{sha}',\n",
       "  'languages_url': 'https://api.github.com/repos/XabierArrieta/streamlit_me_mola/languages',\n",
       "  'stargazers_url': 'https://api.github.com/repos/XabierArrieta/streamlit_me_mola/stargazers',\n",
       "  'contributors_url': 'https://api.github.com/repos/XabierArrieta/streamlit_me_mola/contributors',\n",
       "  'subscribers_url': 'https://api.github.com/repos/XabierArrieta/streamlit_me_mola/subscribers',\n",
       "  'subscription_url': 'https://api.github.com/repos/XabierArrieta/streamlit_me_mola/subscription',\n",
       "  'commits_url': 'https://api.github.com/repos/XabierArrieta/streamlit_me_mola/commits{/sha}',\n",
       "  'git_commits_url': 'https://api.github.com/repos/XabierArrieta/streamlit_me_mola/git/commits{/sha}',\n",
       "  'comments_url': 'https://api.github.com/repos/XabierArrieta/streamlit_me_mola/comments{/number}',\n",
       "  'issue_comment_url': 'https://api.github.com/repos/XabierArrieta/streamlit_me_mola/issues/comments{/number}',\n",
       "  'contents_url': 'https://api.github.com/repos/XabierArrieta/streamlit_me_mola/contents/{+path}',\n",
       "  'compare_url': 'https://api.github.com/repos/XabierArrieta/streamlit_me_mola/compare/{base}...{head}',\n",
       "  'merges_url': 'https://api.github.com/repos/XabierArrieta/streamlit_me_mola/merges',\n",
       "  'archive_url': 'https://api.github.com/repos/XabierArrieta/streamlit_me_mola/{archive_format}{/ref}',\n",
       "  'downloads_url': 'https://api.github.com/repos/XabierArrieta/streamlit_me_mola/downloads',\n",
       "  'issues_url': 'https://api.github.com/repos/XabierArrieta/streamlit_me_mola/issues{/number}',\n",
       "  'pulls_url': 'https://api.github.com/repos/XabierArrieta/streamlit_me_mola/pulls{/number}',\n",
       "  'milestones_url': 'https://api.github.com/repos/XabierArrieta/streamlit_me_mola/milestones{/number}',\n",
       "  'notifications_url': 'https://api.github.com/repos/XabierArrieta/streamlit_me_mola/notifications{?since,all,participating}',\n",
       "  'labels_url': 'https://api.github.com/repos/XabierArrieta/streamlit_me_mola/labels{/name}',\n",
       "  'releases_url': 'https://api.github.com/repos/XabierArrieta/streamlit_me_mola/releases{/id}',\n",
       "  'deployments_url': 'https://api.github.com/repos/XabierArrieta/streamlit_me_mola/deployments',\n",
       "  'created_at': '2021-03-05T09:33:08Z',\n",
       "  'updated_at': '2021-03-05T09:33:09Z',\n",
       "  'pushed_at': '2021-03-04T22:00:07Z',\n",
       "  'git_url': 'git://github.com/XabierArrieta/streamlit_me_mola.git',\n",
       "  'ssh_url': 'git@github.com:XabierArrieta/streamlit_me_mola.git',\n",
       "  'clone_url': 'https://github.com/XabierArrieta/streamlit_me_mola.git',\n",
       "  'svn_url': 'https://github.com/XabierArrieta/streamlit_me_mola',\n",
       "  'homepage': None,\n",
       "  'size': 1913,\n",
       "  'stargazers_count': 0,\n",
       "  'watchers_count': 0,\n",
       "  'language': None,\n",
       "  'has_issues': False,\n",
       "  'has_projects': True,\n",
       "  'has_downloads': True,\n",
       "  'has_wiki': True,\n",
       "  'has_pages': False,\n",
       "  'forks_count': 0,\n",
       "  'mirror_url': None,\n",
       "  'archived': False,\n",
       "  'disabled': False,\n",
       "  'open_issues_count': 0,\n",
       "  'license': None,\n",
       "  'forks': 0,\n",
       "  'open_issues': 0,\n",
       "  'watchers': 0,\n",
       "  'default_branch': 'main'},\n",
       " {'id': 344760823,\n",
       "  'node_id': 'MDEwOlJlcG9zaXRvcnkzNDQ3NjA4MjM=',\n",
       "  'name': 'streamlit_me_mola',\n",
       "  'full_name': 'SergioCaler0/streamlit_me_mola',\n",
       "  'private': False,\n",
       "  'owner': {'login': 'SergioCaler0',\n",
       "   'id': 70206785,\n",
       "   'node_id': 'MDQ6VXNlcjcwMjA2Nzg1',\n",
       "   'avatar_url': 'https://avatars.githubusercontent.com/u/70206785?v=4',\n",
       "   'gravatar_id': '',\n",
       "   'url': 'https://api.github.com/users/SergioCaler0',\n",
       "   'html_url': 'https://github.com/SergioCaler0',\n",
       "   'followers_url': 'https://api.github.com/users/SergioCaler0/followers',\n",
       "   'following_url': 'https://api.github.com/users/SergioCaler0/following{/other_user}',\n",
       "   'gists_url': 'https://api.github.com/users/SergioCaler0/gists{/gist_id}',\n",
       "   'starred_url': 'https://api.github.com/users/SergioCaler0/starred{/owner}{/repo}',\n",
       "   'subscriptions_url': 'https://api.github.com/users/SergioCaler0/subscriptions',\n",
       "   'organizations_url': 'https://api.github.com/users/SergioCaler0/orgs',\n",
       "   'repos_url': 'https://api.github.com/users/SergioCaler0/repos',\n",
       "   'events_url': 'https://api.github.com/users/SergioCaler0/events{/privacy}',\n",
       "   'received_events_url': 'https://api.github.com/users/SergioCaler0/received_events',\n",
       "   'type': 'User',\n",
       "   'site_admin': False},\n",
       "  'html_url': 'https://github.com/SergioCaler0/streamlit_me_mola',\n",
       "  'description': 'Workshop to learn how to create a web application with streamlit to display our data analysis',\n",
       "  'fork': True,\n",
       "  'url': 'https://api.github.com/repos/SergioCaler0/streamlit_me_mola',\n",
       "  'forks_url': 'https://api.github.com/repos/SergioCaler0/streamlit_me_mola/forks',\n",
       "  'keys_url': 'https://api.github.com/repos/SergioCaler0/streamlit_me_mola/keys{/key_id}',\n",
       "  'collaborators_url': 'https://api.github.com/repos/SergioCaler0/streamlit_me_mola/collaborators{/collaborator}',\n",
       "  'teams_url': 'https://api.github.com/repos/SergioCaler0/streamlit_me_mola/teams',\n",
       "  'hooks_url': 'https://api.github.com/repos/SergioCaler0/streamlit_me_mola/hooks',\n",
       "  'issue_events_url': 'https://api.github.com/repos/SergioCaler0/streamlit_me_mola/issues/events{/number}',\n",
       "  'events_url': 'https://api.github.com/repos/SergioCaler0/streamlit_me_mola/events',\n",
       "  'assignees_url': 'https://api.github.com/repos/SergioCaler0/streamlit_me_mola/assignees{/user}',\n",
       "  'branches_url': 'https://api.github.com/repos/SergioCaler0/streamlit_me_mola/branches{/branch}',\n",
       "  'tags_url': 'https://api.github.com/repos/SergioCaler0/streamlit_me_mola/tags',\n",
       "  'blobs_url': 'https://api.github.com/repos/SergioCaler0/streamlit_me_mola/git/blobs{/sha}',\n",
       "  'git_tags_url': 'https://api.github.com/repos/SergioCaler0/streamlit_me_mola/git/tags{/sha}',\n",
       "  'git_refs_url': 'https://api.github.com/repos/SergioCaler0/streamlit_me_mola/git/refs{/sha}',\n",
       "  'trees_url': 'https://api.github.com/repos/SergioCaler0/streamlit_me_mola/git/trees{/sha}',\n",
       "  'statuses_url': 'https://api.github.com/repos/SergioCaler0/streamlit_me_mola/statuses/{sha}',\n",
       "  'languages_url': 'https://api.github.com/repos/SergioCaler0/streamlit_me_mola/languages',\n",
       "  'stargazers_url': 'https://api.github.com/repos/SergioCaler0/streamlit_me_mola/stargazers',\n",
       "  'contributors_url': 'https://api.github.com/repos/SergioCaler0/streamlit_me_mola/contributors',\n",
       "  'subscribers_url': 'https://api.github.com/repos/SergioCaler0/streamlit_me_mola/subscribers',\n",
       "  'subscription_url': 'https://api.github.com/repos/SergioCaler0/streamlit_me_mola/subscription',\n",
       "  'commits_url': 'https://api.github.com/repos/SergioCaler0/streamlit_me_mola/commits{/sha}',\n",
       "  'git_commits_url': 'https://api.github.com/repos/SergioCaler0/streamlit_me_mola/git/commits{/sha}',\n",
       "  'comments_url': 'https://api.github.com/repos/SergioCaler0/streamlit_me_mola/comments{/number}',\n",
       "  'issue_comment_url': 'https://api.github.com/repos/SergioCaler0/streamlit_me_mola/issues/comments{/number}',\n",
       "  'contents_url': 'https://api.github.com/repos/SergioCaler0/streamlit_me_mola/contents/{+path}',\n",
       "  'compare_url': 'https://api.github.com/repos/SergioCaler0/streamlit_me_mola/compare/{base}...{head}',\n",
       "  'merges_url': 'https://api.github.com/repos/SergioCaler0/streamlit_me_mola/merges',\n",
       "  'archive_url': 'https://api.github.com/repos/SergioCaler0/streamlit_me_mola/{archive_format}{/ref}',\n",
       "  'downloads_url': 'https://api.github.com/repos/SergioCaler0/streamlit_me_mola/downloads',\n",
       "  'issues_url': 'https://api.github.com/repos/SergioCaler0/streamlit_me_mola/issues{/number}',\n",
       "  'pulls_url': 'https://api.github.com/repos/SergioCaler0/streamlit_me_mola/pulls{/number}',\n",
       "  'milestones_url': 'https://api.github.com/repos/SergioCaler0/streamlit_me_mola/milestones{/number}',\n",
       "  'notifications_url': 'https://api.github.com/repos/SergioCaler0/streamlit_me_mola/notifications{?since,all,participating}',\n",
       "  'labels_url': 'https://api.github.com/repos/SergioCaler0/streamlit_me_mola/labels{/name}',\n",
       "  'releases_url': 'https://api.github.com/repos/SergioCaler0/streamlit_me_mola/releases{/id}',\n",
       "  'deployments_url': 'https://api.github.com/repos/SergioCaler0/streamlit_me_mola/deployments',\n",
       "  'created_at': '2021-03-05T09:33:02Z',\n",
       "  'updated_at': '2021-03-05T09:33:02Z',\n",
       "  'pushed_at': '2021-03-04T22:00:07Z',\n",
       "  'git_url': 'git://github.com/SergioCaler0/streamlit_me_mola.git',\n",
       "  'ssh_url': 'git@github.com:SergioCaler0/streamlit_me_mola.git',\n",
       "  'clone_url': 'https://github.com/SergioCaler0/streamlit_me_mola.git',\n",
       "  'svn_url': 'https://github.com/SergioCaler0/streamlit_me_mola',\n",
       "  'homepage': None,\n",
       "  'size': 1913,\n",
       "  'stargazers_count': 0,\n",
       "  'watchers_count': 0,\n",
       "  'language': None,\n",
       "  'has_issues': False,\n",
       "  'has_projects': True,\n",
       "  'has_downloads': True,\n",
       "  'has_wiki': True,\n",
       "  'has_pages': False,\n",
       "  'forks_count': 0,\n",
       "  'mirror_url': None,\n",
       "  'archived': False,\n",
       "  'disabled': False,\n",
       "  'open_issues_count': 0,\n",
       "  'license': None,\n",
       "  'forks': 0,\n",
       "  'open_issues': 0,\n",
       "  'watchers': 0,\n",
       "  'default_branch': 'main'},\n",
       " {'id': 344760731,\n",
       "  'node_id': 'MDEwOlJlcG9zaXRvcnkzNDQ3NjA3MzE=',\n",
       "  'name': 'streamlit_me_mola',\n",
       "  'full_name': 'florengutierrez/streamlit_me_mola',\n",
       "  'private': False,\n",
       "  'owner': {'login': 'florengutierrez',\n",
       "   'id': 72976656,\n",
       "   'node_id': 'MDQ6VXNlcjcyOTc2NjU2',\n",
       "   'avatar_url': 'https://avatars.githubusercontent.com/u/72976656?v=4',\n",
       "   'gravatar_id': '',\n",
       "   'url': 'https://api.github.com/users/florengutierrez',\n",
       "   'html_url': 'https://github.com/florengutierrez',\n",
       "   'followers_url': 'https://api.github.com/users/florengutierrez/followers',\n",
       "   'following_url': 'https://api.github.com/users/florengutierrez/following{/other_user}',\n",
       "   'gists_url': 'https://api.github.com/users/florengutierrez/gists{/gist_id}',\n",
       "   'starred_url': 'https://api.github.com/users/florengutierrez/starred{/owner}{/repo}',\n",
       "   'subscriptions_url': 'https://api.github.com/users/florengutierrez/subscriptions',\n",
       "   'organizations_url': 'https://api.github.com/users/florengutierrez/orgs',\n",
       "   'repos_url': 'https://api.github.com/users/florengutierrez/repos',\n",
       "   'events_url': 'https://api.github.com/users/florengutierrez/events{/privacy}',\n",
       "   'received_events_url': 'https://api.github.com/users/florengutierrez/received_events',\n",
       "   'type': 'User',\n",
       "   'site_admin': False},\n",
       "  'html_url': 'https://github.com/florengutierrez/streamlit_me_mola',\n",
       "  'description': 'Workshop to learn how to create a web application with streamlit to display our data analysis',\n",
       "  'fork': True,\n",
       "  'url': 'https://api.github.com/repos/florengutierrez/streamlit_me_mola',\n",
       "  'forks_url': 'https://api.github.com/repos/florengutierrez/streamlit_me_mola/forks',\n",
       "  'keys_url': 'https://api.github.com/repos/florengutierrez/streamlit_me_mola/keys{/key_id}',\n",
       "  'collaborators_url': 'https://api.github.com/repos/florengutierrez/streamlit_me_mola/collaborators{/collaborator}',\n",
       "  'teams_url': 'https://api.github.com/repos/florengutierrez/streamlit_me_mola/teams',\n",
       "  'hooks_url': 'https://api.github.com/repos/florengutierrez/streamlit_me_mola/hooks',\n",
       "  'issue_events_url': 'https://api.github.com/repos/florengutierrez/streamlit_me_mola/issues/events{/number}',\n",
       "  'events_url': 'https://api.github.com/repos/florengutierrez/streamlit_me_mola/events',\n",
       "  'assignees_url': 'https://api.github.com/repos/florengutierrez/streamlit_me_mola/assignees{/user}',\n",
       "  'branches_url': 'https://api.github.com/repos/florengutierrez/streamlit_me_mola/branches{/branch}',\n",
       "  'tags_url': 'https://api.github.com/repos/florengutierrez/streamlit_me_mola/tags',\n",
       "  'blobs_url': 'https://api.github.com/repos/florengutierrez/streamlit_me_mola/git/blobs{/sha}',\n",
       "  'git_tags_url': 'https://api.github.com/repos/florengutierrez/streamlit_me_mola/git/tags{/sha}',\n",
       "  'git_refs_url': 'https://api.github.com/repos/florengutierrez/streamlit_me_mola/git/refs{/sha}',\n",
       "  'trees_url': 'https://api.github.com/repos/florengutierrez/streamlit_me_mola/git/trees{/sha}',\n",
       "  'statuses_url': 'https://api.github.com/repos/florengutierrez/streamlit_me_mola/statuses/{sha}',\n",
       "  'languages_url': 'https://api.github.com/repos/florengutierrez/streamlit_me_mola/languages',\n",
       "  'stargazers_url': 'https://api.github.com/repos/florengutierrez/streamlit_me_mola/stargazers',\n",
       "  'contributors_url': 'https://api.github.com/repos/florengutierrez/streamlit_me_mola/contributors',\n",
       "  'subscribers_url': 'https://api.github.com/repos/florengutierrez/streamlit_me_mola/subscribers',\n",
       "  'subscription_url': 'https://api.github.com/repos/florengutierrez/streamlit_me_mola/subscription',\n",
       "  'commits_url': 'https://api.github.com/repos/florengutierrez/streamlit_me_mola/commits{/sha}',\n",
       "  'git_commits_url': 'https://api.github.com/repos/florengutierrez/streamlit_me_mola/git/commits{/sha}',\n",
       "  'comments_url': 'https://api.github.com/repos/florengutierrez/streamlit_me_mola/comments{/number}',\n",
       "  'issue_comment_url': 'https://api.github.com/repos/florengutierrez/streamlit_me_mola/issues/comments{/number}',\n",
       "  'contents_url': 'https://api.github.com/repos/florengutierrez/streamlit_me_mola/contents/{+path}',\n",
       "  'compare_url': 'https://api.github.com/repos/florengutierrez/streamlit_me_mola/compare/{base}...{head}',\n",
       "  'merges_url': 'https://api.github.com/repos/florengutierrez/streamlit_me_mola/merges',\n",
       "  'archive_url': 'https://api.github.com/repos/florengutierrez/streamlit_me_mola/{archive_format}{/ref}',\n",
       "  'downloads_url': 'https://api.github.com/repos/florengutierrez/streamlit_me_mola/downloads',\n",
       "  'issues_url': 'https://api.github.com/repos/florengutierrez/streamlit_me_mola/issues{/number}',\n",
       "  'pulls_url': 'https://api.github.com/repos/florengutierrez/streamlit_me_mola/pulls{/number}',\n",
       "  'milestones_url': 'https://api.github.com/repos/florengutierrez/streamlit_me_mola/milestones{/number}',\n",
       "  'notifications_url': 'https://api.github.com/repos/florengutierrez/streamlit_me_mola/notifications{?since,all,participating}',\n",
       "  'labels_url': 'https://api.github.com/repos/florengutierrez/streamlit_me_mola/labels{/name}',\n",
       "  'releases_url': 'https://api.github.com/repos/florengutierrez/streamlit_me_mola/releases{/id}',\n",
       "  'deployments_url': 'https://api.github.com/repos/florengutierrez/streamlit_me_mola/deployments',\n",
       "  'created_at': '2021-03-05T09:32:42Z',\n",
       "  'updated_at': '2021-03-05T09:32:43Z',\n",
       "  'pushed_at': '2021-03-04T22:00:07Z',\n",
       "  'git_url': 'git://github.com/florengutierrez/streamlit_me_mola.git',\n",
       "  'ssh_url': 'git@github.com:florengutierrez/streamlit_me_mola.git',\n",
       "  'clone_url': 'https://github.com/florengutierrez/streamlit_me_mola.git',\n",
       "  'svn_url': 'https://github.com/florengutierrez/streamlit_me_mola',\n",
       "  'homepage': None,\n",
       "  'size': 1913,\n",
       "  'stargazers_count': 0,\n",
       "  'watchers_count': 0,\n",
       "  'language': None,\n",
       "  'has_issues': False,\n",
       "  'has_projects': True,\n",
       "  'has_downloads': True,\n",
       "  'has_wiki': True,\n",
       "  'has_pages': False,\n",
       "  'forks_count': 0,\n",
       "  'mirror_url': None,\n",
       "  'archived': False,\n",
       "  'disabled': False,\n",
       "  'open_issues_count': 0,\n",
       "  'license': None,\n",
       "  'forks': 0,\n",
       "  'open_issues': 0,\n",
       "  'watchers': 0,\n",
       "  'default_branch': 'main'}]"
      ]
     },
     "execution_count": 7,
     "metadata": {},
     "output_type": "execute_result"
    }
   ],
   "source": [
    "response"
   ]
  },
  {
   "cell_type": "code",
   "execution_count": 76,
   "metadata": {},
   "outputs": [],
   "source": [
    "#response[0]"
   ]
  },
  {
   "cell_type": "code",
   "execution_count": 77,
   "metadata": {},
   "outputs": [
    {
     "data": {
      "text/plain": [
       "'amorenorp/streamlit_me_mola'"
      ]
     },
     "execution_count": 77,
     "metadata": {},
     "output_type": "execute_result"
    }
   ],
   "source": [
    "response[0][\"full_name\"]"
   ]
  },
  {
   "cell_type": "code",
   "execution_count": 78,
   "metadata": {},
   "outputs": [
    {
     "data": {
      "text/plain": [
       "['amorenorp/streamlit_me_mola',\n",
       " 'antoniogarciagiron/streamlit_me_mola',\n",
       " 'AnadeLuna/streamlit_me_mola',\n",
       " 'angelanavarrog/streamlit_me_mola',\n",
       " 'xarlomi/streamlit_me_mola',\n",
       " 'AnaAGG/streamlit_me_mola',\n",
       " 'MarioGar25/streamlit_me_mola',\n",
       " 'XabierArrieta/streamlit_me_mola',\n",
       " 'SergioCaler0/streamlit_me_mola',\n",
       " 'florengutierrez/streamlit_me_mola']"
      ]
     },
     "execution_count": 78,
     "metadata": {},
     "output_type": "execute_result"
    }
   ],
   "source": [
    "nombres = [nombre[\"full_name\"] for  nombre in response]\n",
    "nombres"
   ]
  },
  {
   "cell_type": "code",
   "execution_count": 79,
   "metadata": {},
   "outputs": [],
   "source": [
    "def requestGithub(url):\n",
    "    api_key = os.getenv(\"token\")\n",
    "    if not api_key:\n",
    "        raise ValueError( \"Ojo que necesitas un token o revisa el .env que igual no te lo ha cogido\")\n",
    "    print(f\"Estoy haciendo request a {url} \")\n",
    "    \n",
    "    parametros = {\"Authorization\" : f\"token {api_key}\"}\n",
    "    response = requests.get (url =  url_forks, params = parameters).json()\n",
    "    \n",
    "    return response"
   ]
  },
  {
   "cell_type": "code",
   "execution_count": 80,
   "metadata": {},
   "outputs": [
    {
     "name": "stdout",
     "output_type": "stream",
     "text": [
      "[{\"status\":{\"verified\":true,\"sentCount\":1},\"type\":\"cat\",\"deleted\":false,\"_id\":\"58e008800aac31001185ed07\",\"user\":\"58e007480aac31001185ecef\",\"text\":\"Wikipedia has a recording of a cat meowing, because why not?\",\"__v\":0,\"source\":\"user\",\"updatedAt\":\"2020-08-23T20:20:01.611Z\",\"createdAt\":\"2018-03-06T21:20:03.505Z\",\"used\":false},{\"status\":{\"verified\":true,\"sentCount\":1},\"type\":\"cat\",\"deleted\":false,\"_id\":\"58e008630aac31001185ed01\",\"user\":\"58e007480aac31001185ecef\",\"text\":\"When cats grimace, they are usually \\\"taste-scenting.\\\" They have an extra organ that, with some breathing control, allows the cats to taste-sense the air.\",\"__v\":0,\"source\":\"user\",\"updatedAt\":\"2020-08-23T20:20:01.611Z\",\"createdAt\":\"2018-02-07T21:20:02.903Z\",\"used\":false},{\"status\":{\"verified\":true,\"sentCount\":1},\"type\":\"cat\",\"deleted\":false,\"_id\":\"58e00a090aac31001185ed16\",\"user\":\"58e007480aac31001185ecef\",\"text\":\"Cats make more than 100 different sounds whereas dogs make around 10.\",\"__v\":0,\"source\":\"user\",\"updatedAt\":\"2020-08-23T20:20:01.611Z\",\"createdAt\":\"2018-02-11T21:20:03.745Z\",\"used\":false},{\"status\":{\"verified\":true,\"sentCount\":1},\"type\":\"cat\",\"deleted\":false,\"_id\":\"58e009390aac31001185ed10\",\"user\":\"58e007480aac31001185ecef\",\"text\":\"Most cats are lactose intolerant, and milk can cause painful stomach cramps and diarrhea. It's best to forego the milk and just give your cat the standard: clean, cool drinking water.\",\"__v\":0,\"source\":\"user\",\"updatedAt\":\"2020-08-23T20:20:01.611Z\",\"createdAt\":\"2018-03-04T21:20:02.979Z\",\"used\":false},{\"status\":{\"verified\":true,\"sentCount\":1},\"type\":\"cat\",\"deleted\":false,\"_id\":\"58e008780aac31001185ed05\",\"user\":\"58e007480aac31001185ecef\",\"text\":\"Owning a cat can reduce the risk of stroke and heart attack by a third.\",\"__v\":0,\"source\":\"user\",\"updatedAt\":\"2020-08-23T20:20:01.611Z\",\"createdAt\":\"2018-03-29T20:20:03.844Z\",\"used\":false}]\n"
     ]
    }
   ],
   "source": [
    "import requests\n",
    "\n",
    "url = \"https://cat-fact.herokuapp.com/facts\"\n",
    "\n",
    "payload = \"\"\n",
    "headers = {\"cookie\": \"connect.sid=s%253AiZNrW6QgE7YvhxRJd_K6NxuG4AoUEhuK.XGlVUi0h3zwAOwje%252F%252FY4F8LbUc1VIhajgStME%252Fj3lKE\"}\n",
    "\n",
    "response = requests.request(\"GET\", url, data=payload, headers=headers)\n",
    "\n",
    "print(response.text)"
   ]
  },
  {
   "cell_type": "markdown",
   "metadata": {},
   "source": [
    "## API Wrappers\n",
    "La mayoría de las aplicaciones a las que querrás solicitar datos (redes sociales, motores de búsqueda, etc.) querrán saber quién accede a su aplicación, cómo piensan hacerlo y qué piensan hacer con los datos.\n",
    "\n",
    "Para estas aplicaciones populares, también hay wrappers de Python que se han escrito para sus APIs que hacen que la interacción con ellos sea mucho más fácil de lo que sería de otra manera. 🙌🏻"
   ]
  },
  {
   "cell_type": "markdown",
   "metadata": {},
   "source": [
    "### Acceder a la API de Twitter con Python\n",
    "Un ejemplo es la biblioteca tweepy que hace que obtener datos de la API de Twitter sea relativamente sencillo.\n",
    "\n",
    "Antes de poder utilizarla, necesitamos crear una cuenta de desarrollador (si no tenemos ya una, crear una aplicación y obtener las credenciales de Twitter. Para crear una cuenta de desarrollador, sigue los siguientes pasos.\n",
    "\n",
    "Ve a https://developer.twitter.com/en/apply-for-access.html.\n",
    "Haga clic en Solicitar una cuenta de desarrollador.\n",
    "Sigue las instrucciones y proporciona la información necesaria para crear una cuenta de desarrollador para uso personal.\n",
    "Twitter revisará tu solicitud y aprobará tu cuenta (suponiendo que no hayas dicho que harás algo que viole sus condiciones de servicio).\n",
    "Tras recibir la confirmación de que tu cuenta de desarrollador ha sido aprobada, deberás crear una aplicación accediendo a tu cuenta y siguiendo los pasos para crear una nueva app. Una vez creada la aplicación, el siguiente paso es obtener tus credenciales. Estas credenciales te darán permiso para acceder a la API de Twitter. Las credenciales consisten en una clave API, una clave secreta API, un token de acceso y un token secreto de acceso. Puedes encontrarlas viendo los detalles de tu aplicación y haciendo clic en la pestaña Claves y Tokens.\n",
    "\n",
    "Advertencia: Debes guardar tus credenciales en un lugar seguro, nunca las compartas y nunca las subas a Github.\n",
    "\n",
    "Ahora que hemos obtenido nuestras credenciales, podemos utilizar tweepy para acceder a la API de Twitter como sigue. Recuerda que tendrás que reemplazar las credenciales de abajo con tus credenciales reales para que este código funcione."
   ]
  },
  {
   "cell_type": "code",
   "execution_count": 81,
   "metadata": {},
   "outputs": [],
   "source": [
    "#Importamos la librería tweepy\n",
    "import tweepy"
   ]
  },
  {
   "cell_type": "code",
   "execution_count": 82,
   "metadata": {},
   "outputs": [],
   "source": [
    "# Tenemos que importar todas estas KEY que nos da la app de twitter development\n",
    "API_KEY = os.getenv(\"API_KEY\")\n",
    "API_SECRET = os.getenv(\"API_SECRET\")\n",
    "ACCESS_TOKEN = os.getenv(\"ACCESS_TOKEN\")\n",
    "ACCESS_TOKEN_SECRET = os.getenv(\"ACCESS_TOKEN_SECRET\")"
   ]
  },
  {
   "cell_type": "markdown",
   "metadata": {},
   "source": [
    "Nos autenticamos --> Documentación con más info [aquí](https://docs.tweepy.org/en/latest/auth_tutorial.html)"
   ]
  },
  {
   "cell_type": "code",
   "execution_count": 83,
   "metadata": {},
   "outputs": [],
   "source": [
    "auth = tweepy.OAuthHandler(API_KEY, API_SECRET) #Esta es la forma de autenticarnos mediante tweepy\n",
    "auth.set_access_token(ACCESS_TOKEN, ACCESS_TOKEN_SECRET) \n",
    "api = tweepy.API(auth)"
   ]
  },
  {
   "cell_type": "code",
   "execution_count": 84,
   "metadata": {},
   "outputs": [
    {
     "data": {
      "text/plain": [
       "{'auth': <tweepy.auth.OAuthHandler at 0x7fc70830eeb0>,\n",
       " 'host': 'api.twitter.com',\n",
       " 'search_host': 'search.twitter.com',\n",
       " 'upload_host': 'upload.twitter.com',\n",
       " 'api_root': '/1.1',\n",
       " 'search_root': '',\n",
       " 'upload_root': '/1.1',\n",
       " 'cache': None,\n",
       " 'compression': False,\n",
       " 'retry_count': 0,\n",
       " 'retry_delay': 0,\n",
       " 'retry_errors': None,\n",
       " 'timeout': 60,\n",
       " 'wait_on_rate_limit': False,\n",
       " 'wait_on_rate_limit_notify': False,\n",
       " 'parser': <tweepy.parsers.ModelParser at 0x7fc6ea537340>,\n",
       " 'proxy': {}}"
      ]
     },
     "execution_count": 84,
     "metadata": {},
     "output_type": "execute_result"
    }
   ],
   "source": [
    "api.__dict__"
   ]
  },
  {
   "cell_type": "code",
   "execution_count": 85,
   "metadata": {},
   "outputs": [
    {
     "ename": "TweepError",
     "evalue": "Failed to send request: Only unicode objects are escapable. Got None of type <class 'NoneType'>.",
     "output_type": "error",
     "traceback": [
      "\u001b[0;31m---------------------------------------------------------------------------\u001b[0m",
      "\u001b[0;31mValueError\u001b[0m                                Traceback (most recent call last)",
      "\u001b[0;32m~/opt/anaconda3/lib/python3.8/site-packages/tweepy/binder.py\u001b[0m in \u001b[0;36mexecute\u001b[0;34m(self)\u001b[0m\n\u001b[1;32m    183\u001b[0m                 \u001b[0;32mtry\u001b[0m\u001b[0;34m:\u001b[0m\u001b[0;34m\u001b[0m\u001b[0;34m\u001b[0m\u001b[0m\n\u001b[0;32m--> 184\u001b[0;31m                     resp = self.session.request(self.method,\n\u001b[0m\u001b[1;32m    185\u001b[0m                                                 \u001b[0mfull_url\u001b[0m\u001b[0;34m,\u001b[0m\u001b[0;34m\u001b[0m\u001b[0;34m\u001b[0m\u001b[0m\n",
      "\u001b[0;32m~/opt/anaconda3/lib/python3.8/site-packages/requests/sessions.py\u001b[0m in \u001b[0;36mrequest\u001b[0;34m(self, method, url, params, data, headers, cookies, files, auth, timeout, allow_redirects, proxies, hooks, stream, verify, cert, json)\u001b[0m\n\u001b[1;32m    515\u001b[0m         )\n\u001b[0;32m--> 516\u001b[0;31m         \u001b[0mprep\u001b[0m \u001b[0;34m=\u001b[0m \u001b[0mself\u001b[0m\u001b[0;34m.\u001b[0m\u001b[0mprepare_request\u001b[0m\u001b[0;34m(\u001b[0m\u001b[0mreq\u001b[0m\u001b[0;34m)\u001b[0m\u001b[0;34m\u001b[0m\u001b[0;34m\u001b[0m\u001b[0m\n\u001b[0m\u001b[1;32m    517\u001b[0m \u001b[0;34m\u001b[0m\u001b[0m\n",
      "\u001b[0;32m~/opt/anaconda3/lib/python3.8/site-packages/requests/sessions.py\u001b[0m in \u001b[0;36mprepare_request\u001b[0;34m(self, request)\u001b[0m\n\u001b[1;32m    448\u001b[0m         \u001b[0mp\u001b[0m \u001b[0;34m=\u001b[0m \u001b[0mPreparedRequest\u001b[0m\u001b[0;34m(\u001b[0m\u001b[0;34m)\u001b[0m\u001b[0;34m\u001b[0m\u001b[0;34m\u001b[0m\u001b[0m\n\u001b[0;32m--> 449\u001b[0;31m         p.prepare(\n\u001b[0m\u001b[1;32m    450\u001b[0m             \u001b[0mmethod\u001b[0m\u001b[0;34m=\u001b[0m\u001b[0mrequest\u001b[0m\u001b[0;34m.\u001b[0m\u001b[0mmethod\u001b[0m\u001b[0;34m.\u001b[0m\u001b[0mupper\u001b[0m\u001b[0;34m(\u001b[0m\u001b[0;34m)\u001b[0m\u001b[0;34m,\u001b[0m\u001b[0;34m\u001b[0m\u001b[0;34m\u001b[0m\u001b[0m\n",
      "\u001b[0;32m~/opt/anaconda3/lib/python3.8/site-packages/requests/models.py\u001b[0m in \u001b[0;36mprepare\u001b[0;34m(self, method, url, headers, files, data, params, auth, cookies, hooks, json)\u001b[0m\n\u001b[1;32m    317\u001b[0m         \u001b[0mself\u001b[0m\u001b[0;34m.\u001b[0m\u001b[0mprepare_body\u001b[0m\u001b[0;34m(\u001b[0m\u001b[0mdata\u001b[0m\u001b[0;34m,\u001b[0m \u001b[0mfiles\u001b[0m\u001b[0;34m,\u001b[0m \u001b[0mjson\u001b[0m\u001b[0;34m)\u001b[0m\u001b[0;34m\u001b[0m\u001b[0;34m\u001b[0m\u001b[0m\n\u001b[0;32m--> 318\u001b[0;31m         \u001b[0mself\u001b[0m\u001b[0;34m.\u001b[0m\u001b[0mprepare_auth\u001b[0m\u001b[0;34m(\u001b[0m\u001b[0mauth\u001b[0m\u001b[0;34m,\u001b[0m \u001b[0murl\u001b[0m\u001b[0;34m)\u001b[0m\u001b[0;34m\u001b[0m\u001b[0;34m\u001b[0m\u001b[0m\n\u001b[0m\u001b[1;32m    319\u001b[0m \u001b[0;34m\u001b[0m\u001b[0m\n",
      "\u001b[0;32m~/opt/anaconda3/lib/python3.8/site-packages/requests/models.py\u001b[0m in \u001b[0;36mprepare_auth\u001b[0;34m(self, auth, url)\u001b[0m\n\u001b[1;32m    548\u001b[0m             \u001b[0;31m# Allow auth to make its changes.\u001b[0m\u001b[0;34m\u001b[0m\u001b[0;34m\u001b[0m\u001b[0;34m\u001b[0m\u001b[0m\n\u001b[0;32m--> 549\u001b[0;31m             \u001b[0mr\u001b[0m \u001b[0;34m=\u001b[0m \u001b[0mauth\u001b[0m\u001b[0;34m(\u001b[0m\u001b[0mself\u001b[0m\u001b[0;34m)\u001b[0m\u001b[0;34m\u001b[0m\u001b[0;34m\u001b[0m\u001b[0m\n\u001b[0m\u001b[1;32m    550\u001b[0m \u001b[0;34m\u001b[0m\u001b[0m\n",
      "\u001b[0;32m~/opt/anaconda3/lib/python3.8/site-packages/requests_oauthlib/oauth1_auth.py\u001b[0m in \u001b[0;36m__call__\u001b[0;34m(self, r)\u001b[0m\n\u001b[1;32m    107\u001b[0m             \u001b[0;31m# Omit body data in the signing of non form-encoded requests\u001b[0m\u001b[0;34m\u001b[0m\u001b[0;34m\u001b[0m\u001b[0;34m\u001b[0m\u001b[0m\n\u001b[0;32m--> 108\u001b[0;31m             r.url, headers, _ = self.client.sign(\n\u001b[0m\u001b[1;32m    109\u001b[0m                 \u001b[0municode\u001b[0m\u001b[0;34m(\u001b[0m\u001b[0mr\u001b[0m\u001b[0;34m.\u001b[0m\u001b[0murl\u001b[0m\u001b[0;34m)\u001b[0m\u001b[0;34m,\u001b[0m \u001b[0municode\u001b[0m\u001b[0;34m(\u001b[0m\u001b[0mr\u001b[0m\u001b[0;34m.\u001b[0m\u001b[0mmethod\u001b[0m\u001b[0;34m)\u001b[0m\u001b[0;34m,\u001b[0m \u001b[0;32mNone\u001b[0m\u001b[0;34m,\u001b[0m \u001b[0mr\u001b[0m\u001b[0;34m.\u001b[0m\u001b[0mheaders\u001b[0m\u001b[0;34m\u001b[0m\u001b[0;34m\u001b[0m\u001b[0m\n",
      "\u001b[0;32m~/opt/anaconda3/lib/python3.8/site-packages/oauthlib/oauth1/rfc5849/__init__.py\u001b[0m in \u001b[0;36msign\u001b[0;34m(self, uri, http_method, body, headers, realm)\u001b[0m\n\u001b[1;32m    312\u001b[0m         request.oauth_params.append(\n\u001b[0;32m--> 313\u001b[0;31m             ('oauth_signature', self.get_oauth_signature(request)))\n\u001b[0m\u001b[1;32m    314\u001b[0m \u001b[0;34m\u001b[0m\u001b[0m\n",
      "\u001b[0;32m~/opt/anaconda3/lib/python3.8/site-packages/oauthlib/oauth1/rfc5849/__init__.py\u001b[0m in \u001b[0;36mget_oauth_signature\u001b[0;34m(self, request)\u001b[0m\n\u001b[1;32m    126\u001b[0m \u001b[0;34m\u001b[0m\u001b[0m\n\u001b[0;32m--> 127\u001b[0;31m         \u001b[0muri\u001b[0m\u001b[0;34m,\u001b[0m \u001b[0mheaders\u001b[0m\u001b[0;34m,\u001b[0m \u001b[0mbody\u001b[0m \u001b[0;34m=\u001b[0m \u001b[0mself\u001b[0m\u001b[0;34m.\u001b[0m\u001b[0m_render\u001b[0m\u001b[0;34m(\u001b[0m\u001b[0mrequest\u001b[0m\u001b[0;34m)\u001b[0m\u001b[0;34m\u001b[0m\u001b[0;34m\u001b[0m\u001b[0m\n\u001b[0m\u001b[1;32m    128\u001b[0m \u001b[0;34m\u001b[0m\u001b[0m\n",
      "\u001b[0;32m~/opt/anaconda3/lib/python3.8/site-packages/oauthlib/oauth1/rfc5849/__init__.py\u001b[0m in \u001b[0;36m_render\u001b[0;34m(self, request, formencode, realm)\u001b[0m\n\u001b[1;32m    208\u001b[0m         \u001b[0;32mif\u001b[0m \u001b[0mself\u001b[0m\u001b[0;34m.\u001b[0m\u001b[0msignature_type\u001b[0m \u001b[0;34m==\u001b[0m \u001b[0mSIGNATURE_TYPE_AUTH_HEADER\u001b[0m\u001b[0;34m:\u001b[0m\u001b[0;34m\u001b[0m\u001b[0;34m\u001b[0m\u001b[0m\n\u001b[0;32m--> 209\u001b[0;31m             headers = parameters.prepare_headers(\n\u001b[0m\u001b[1;32m    210\u001b[0m                 request.oauth_params, request.headers, realm=realm)\n",
      "\u001b[0;32m~/opt/anaconda3/lib/python3.8/site-packages/oauthlib/oauth1/rfc5849/utils.py\u001b[0m in \u001b[0;36mwrapper\u001b[0;34m(params, *args, **kwargs)\u001b[0m\n\u001b[1;32m     31\u001b[0m         \u001b[0mparams\u001b[0m \u001b[0;34m=\u001b[0m \u001b[0mfilter_oauth_params\u001b[0m\u001b[0;34m(\u001b[0m\u001b[0mparams\u001b[0m\u001b[0;34m)\u001b[0m\u001b[0;34m\u001b[0m\u001b[0;34m\u001b[0m\u001b[0m\n\u001b[0;32m---> 32\u001b[0;31m         \u001b[0;32mreturn\u001b[0m \u001b[0mtarget\u001b[0m\u001b[0;34m(\u001b[0m\u001b[0mparams\u001b[0m\u001b[0;34m,\u001b[0m \u001b[0;34m*\u001b[0m\u001b[0margs\u001b[0m\u001b[0;34m,\u001b[0m \u001b[0;34m**\u001b[0m\u001b[0mkwargs\u001b[0m\u001b[0;34m)\u001b[0m\u001b[0;34m\u001b[0m\u001b[0;34m\u001b[0m\u001b[0m\n\u001b[0m\u001b[1;32m     33\u001b[0m \u001b[0;34m\u001b[0m\u001b[0m\n",
      "\u001b[0;32m~/opt/anaconda3/lib/python3.8/site-packages/oauthlib/oauth1/rfc5849/parameters.py\u001b[0m in \u001b[0;36mprepare_headers\u001b[0;34m(oauth_params, headers, realm)\u001b[0m\n\u001b[1;32m     58\u001b[0m         \u001b[0mescaped_name\u001b[0m \u001b[0;34m=\u001b[0m \u001b[0mutils\u001b[0m\u001b[0;34m.\u001b[0m\u001b[0mescape\u001b[0m\u001b[0;34m(\u001b[0m\u001b[0moauth_parameter_name\u001b[0m\u001b[0;34m)\u001b[0m\u001b[0;34m\u001b[0m\u001b[0;34m\u001b[0m\u001b[0m\n\u001b[0;32m---> 59\u001b[0;31m         \u001b[0mescaped_value\u001b[0m \u001b[0;34m=\u001b[0m \u001b[0mutils\u001b[0m\u001b[0;34m.\u001b[0m\u001b[0mescape\u001b[0m\u001b[0;34m(\u001b[0m\u001b[0mvalue\u001b[0m\u001b[0;34m)\u001b[0m\u001b[0;34m\u001b[0m\u001b[0;34m\u001b[0m\u001b[0m\n\u001b[0m\u001b[1;32m     60\u001b[0m \u001b[0;34m\u001b[0m\u001b[0m\n",
      "\u001b[0;32m~/opt/anaconda3/lib/python3.8/site-packages/oauthlib/oauth1/rfc5849/utils.py\u001b[0m in \u001b[0;36mescape\u001b[0;34m(u)\u001b[0m\n\u001b[1;32m     55\u001b[0m     \u001b[0;32mif\u001b[0m \u001b[0;32mnot\u001b[0m \u001b[0misinstance\u001b[0m\u001b[0;34m(\u001b[0m\u001b[0mu\u001b[0m\u001b[0;34m,\u001b[0m \u001b[0municode_type\u001b[0m\u001b[0;34m)\u001b[0m\u001b[0;34m:\u001b[0m\u001b[0;34m\u001b[0m\u001b[0;34m\u001b[0m\u001b[0m\n\u001b[0;32m---> 56\u001b[0;31m         raise ValueError('Only unicode objects are escapable. ' +\n\u001b[0m\u001b[1;32m     57\u001b[0m                          'Got %r of type %s.' % (u, type(u)))\n",
      "\u001b[0;31mValueError\u001b[0m: Only unicode objects are escapable. Got None of type <class 'NoneType'>.",
      "\nDuring handling of the above exception, another exception occurred:\n",
      "\u001b[0;31mTweepError\u001b[0m                                Traceback (most recent call last)",
      "\u001b[0;32m<ipython-input-85-28ccbe67db8a>\u001b[0m in \u001b[0;36m<module>\u001b[0;34m\u001b[0m\n\u001b[0;32m----> 1\u001b[0;31m \u001b[0mres\u001b[0m \u001b[0;34m=\u001b[0m \u001b[0mapi\u001b[0m\u001b[0;34m.\u001b[0m\u001b[0mfollowers\u001b[0m\u001b[0;34m(\u001b[0m\u001b[0;34m\"ironhack\"\u001b[0m\u001b[0;34m,\u001b[0m \u001b[0mcount\u001b[0m\u001b[0;34m=\u001b[0m\u001b[0;36m200\u001b[0m\u001b[0;34m)\u001b[0m\u001b[0;34m\u001b[0m\u001b[0;34m\u001b[0m\u001b[0m\n\u001b[0m",
      "\u001b[0;32m~/opt/anaconda3/lib/python3.8/site-packages/tweepy/binder.py\u001b[0m in \u001b[0;36m_call\u001b[0;34m(*args, **kwargs)\u001b[0m\n\u001b[1;32m    251\u001b[0m                 \u001b[0;32mreturn\u001b[0m \u001b[0mmethod\u001b[0m\u001b[0;34m\u001b[0m\u001b[0;34m\u001b[0m\u001b[0m\n\u001b[1;32m    252\u001b[0m             \u001b[0;32melse\u001b[0m\u001b[0;34m:\u001b[0m\u001b[0;34m\u001b[0m\u001b[0;34m\u001b[0m\u001b[0m\n\u001b[0;32m--> 253\u001b[0;31m                 \u001b[0;32mreturn\u001b[0m \u001b[0mmethod\u001b[0m\u001b[0;34m.\u001b[0m\u001b[0mexecute\u001b[0m\u001b[0;34m(\u001b[0m\u001b[0;34m)\u001b[0m\u001b[0;34m\u001b[0m\u001b[0;34m\u001b[0m\u001b[0m\n\u001b[0m\u001b[1;32m    254\u001b[0m         \u001b[0;32mfinally\u001b[0m\u001b[0;34m:\u001b[0m\u001b[0;34m\u001b[0m\u001b[0;34m\u001b[0m\u001b[0m\n\u001b[1;32m    255\u001b[0m             \u001b[0mmethod\u001b[0m\u001b[0;34m.\u001b[0m\u001b[0msession\u001b[0m\u001b[0;34m.\u001b[0m\u001b[0mclose\u001b[0m\u001b[0;34m(\u001b[0m\u001b[0;34m)\u001b[0m\u001b[0;34m\u001b[0m\u001b[0;34m\u001b[0m\u001b[0m\n",
      "\u001b[0;32m~/opt/anaconda3/lib/python3.8/site-packages/tweepy/binder.py\u001b[0m in \u001b[0;36mexecute\u001b[0;34m(self)\u001b[0m\n\u001b[1;32m    190\u001b[0m                                                 proxies=self.api.proxy)\n\u001b[1;32m    191\u001b[0m                 \u001b[0;32mexcept\u001b[0m \u001b[0mException\u001b[0m \u001b[0;32mas\u001b[0m \u001b[0me\u001b[0m\u001b[0;34m:\u001b[0m\u001b[0;34m\u001b[0m\u001b[0;34m\u001b[0m\u001b[0m\n\u001b[0;32m--> 192\u001b[0;31m                     \u001b[0msix\u001b[0m\u001b[0;34m.\u001b[0m\u001b[0mreraise\u001b[0m\u001b[0;34m(\u001b[0m\u001b[0mTweepError\u001b[0m\u001b[0;34m,\u001b[0m \u001b[0mTweepError\u001b[0m\u001b[0;34m(\u001b[0m\u001b[0;34m'Failed to send request: %s'\u001b[0m \u001b[0;34m%\u001b[0m \u001b[0me\u001b[0m\u001b[0;34m)\u001b[0m\u001b[0;34m,\u001b[0m \u001b[0msys\u001b[0m\u001b[0;34m.\u001b[0m\u001b[0mexc_info\u001b[0m\u001b[0;34m(\u001b[0m\u001b[0;34m)\u001b[0m\u001b[0;34m[\u001b[0m\u001b[0;36m2\u001b[0m\u001b[0;34m]\u001b[0m\u001b[0;34m)\u001b[0m\u001b[0;34m\u001b[0m\u001b[0;34m\u001b[0m\u001b[0m\n\u001b[0m\u001b[1;32m    193\u001b[0m \u001b[0;34m\u001b[0m\u001b[0m\n\u001b[1;32m    194\u001b[0m                 \u001b[0mrem_calls\u001b[0m \u001b[0;34m=\u001b[0m \u001b[0mresp\u001b[0m\u001b[0;34m.\u001b[0m\u001b[0mheaders\u001b[0m\u001b[0;34m.\u001b[0m\u001b[0mget\u001b[0m\u001b[0;34m(\u001b[0m\u001b[0;34m'x-rate-limit-remaining'\u001b[0m\u001b[0;34m)\u001b[0m\u001b[0;34m\u001b[0m\u001b[0;34m\u001b[0m\u001b[0m\n",
      "\u001b[0;32m~/opt/anaconda3/lib/python3.8/site-packages/six.py\u001b[0m in \u001b[0;36mreraise\u001b[0;34m(tp, value, tb)\u001b[0m\n\u001b[1;32m    700\u001b[0m                 \u001b[0mvalue\u001b[0m \u001b[0;34m=\u001b[0m \u001b[0mtp\u001b[0m\u001b[0;34m(\u001b[0m\u001b[0;34m)\u001b[0m\u001b[0;34m\u001b[0m\u001b[0;34m\u001b[0m\u001b[0m\n\u001b[1;32m    701\u001b[0m             \u001b[0;32mif\u001b[0m \u001b[0mvalue\u001b[0m\u001b[0;34m.\u001b[0m\u001b[0m__traceback__\u001b[0m \u001b[0;32mis\u001b[0m \u001b[0;32mnot\u001b[0m \u001b[0mtb\u001b[0m\u001b[0;34m:\u001b[0m\u001b[0;34m\u001b[0m\u001b[0;34m\u001b[0m\u001b[0m\n\u001b[0;32m--> 702\u001b[0;31m                 \u001b[0;32mraise\u001b[0m \u001b[0mvalue\u001b[0m\u001b[0;34m.\u001b[0m\u001b[0mwith_traceback\u001b[0m\u001b[0;34m(\u001b[0m\u001b[0mtb\u001b[0m\u001b[0;34m)\u001b[0m\u001b[0;34m\u001b[0m\u001b[0;34m\u001b[0m\u001b[0m\n\u001b[0m\u001b[1;32m    703\u001b[0m             \u001b[0;32mraise\u001b[0m \u001b[0mvalue\u001b[0m\u001b[0;34m\u001b[0m\u001b[0;34m\u001b[0m\u001b[0m\n\u001b[1;32m    704\u001b[0m         \u001b[0;32mfinally\u001b[0m\u001b[0;34m:\u001b[0m\u001b[0;34m\u001b[0m\u001b[0;34m\u001b[0m\u001b[0m\n",
      "\u001b[0;32m~/opt/anaconda3/lib/python3.8/site-packages/tweepy/binder.py\u001b[0m in \u001b[0;36mexecute\u001b[0;34m(self)\u001b[0m\n\u001b[1;32m    182\u001b[0m                 \u001b[0;31m# Execute request\u001b[0m\u001b[0;34m\u001b[0m\u001b[0;34m\u001b[0m\u001b[0;34m\u001b[0m\u001b[0m\n\u001b[1;32m    183\u001b[0m                 \u001b[0;32mtry\u001b[0m\u001b[0;34m:\u001b[0m\u001b[0;34m\u001b[0m\u001b[0;34m\u001b[0m\u001b[0m\n\u001b[0;32m--> 184\u001b[0;31m                     resp = self.session.request(self.method,\n\u001b[0m\u001b[1;32m    185\u001b[0m                                                 \u001b[0mfull_url\u001b[0m\u001b[0;34m,\u001b[0m\u001b[0;34m\u001b[0m\u001b[0;34m\u001b[0m\u001b[0m\n\u001b[1;32m    186\u001b[0m                                                 \u001b[0mdata\u001b[0m\u001b[0;34m=\u001b[0m\u001b[0mself\u001b[0m\u001b[0;34m.\u001b[0m\u001b[0mpost_data\u001b[0m\u001b[0;34m,\u001b[0m\u001b[0;34m\u001b[0m\u001b[0;34m\u001b[0m\u001b[0m\n",
      "\u001b[0;32m~/opt/anaconda3/lib/python3.8/site-packages/requests/sessions.py\u001b[0m in \u001b[0;36mrequest\u001b[0;34m(self, method, url, params, data, headers, cookies, files, auth, timeout, allow_redirects, proxies, hooks, stream, verify, cert, json)\u001b[0m\n\u001b[1;32m    514\u001b[0m             \u001b[0mhooks\u001b[0m\u001b[0;34m=\u001b[0m\u001b[0mhooks\u001b[0m\u001b[0;34m,\u001b[0m\u001b[0;34m\u001b[0m\u001b[0;34m\u001b[0m\u001b[0m\n\u001b[1;32m    515\u001b[0m         )\n\u001b[0;32m--> 516\u001b[0;31m         \u001b[0mprep\u001b[0m \u001b[0;34m=\u001b[0m \u001b[0mself\u001b[0m\u001b[0;34m.\u001b[0m\u001b[0mprepare_request\u001b[0m\u001b[0;34m(\u001b[0m\u001b[0mreq\u001b[0m\u001b[0;34m)\u001b[0m\u001b[0;34m\u001b[0m\u001b[0;34m\u001b[0m\u001b[0m\n\u001b[0m\u001b[1;32m    517\u001b[0m \u001b[0;34m\u001b[0m\u001b[0m\n\u001b[1;32m    518\u001b[0m         \u001b[0mproxies\u001b[0m \u001b[0;34m=\u001b[0m \u001b[0mproxies\u001b[0m \u001b[0;32mor\u001b[0m \u001b[0;34m{\u001b[0m\u001b[0;34m}\u001b[0m\u001b[0;34m\u001b[0m\u001b[0;34m\u001b[0m\u001b[0m\n",
      "\u001b[0;32m~/opt/anaconda3/lib/python3.8/site-packages/requests/sessions.py\u001b[0m in \u001b[0;36mprepare_request\u001b[0;34m(self, request)\u001b[0m\n\u001b[1;32m    447\u001b[0m \u001b[0;34m\u001b[0m\u001b[0m\n\u001b[1;32m    448\u001b[0m         \u001b[0mp\u001b[0m \u001b[0;34m=\u001b[0m \u001b[0mPreparedRequest\u001b[0m\u001b[0;34m(\u001b[0m\u001b[0;34m)\u001b[0m\u001b[0;34m\u001b[0m\u001b[0;34m\u001b[0m\u001b[0m\n\u001b[0;32m--> 449\u001b[0;31m         p.prepare(\n\u001b[0m\u001b[1;32m    450\u001b[0m             \u001b[0mmethod\u001b[0m\u001b[0;34m=\u001b[0m\u001b[0mrequest\u001b[0m\u001b[0;34m.\u001b[0m\u001b[0mmethod\u001b[0m\u001b[0;34m.\u001b[0m\u001b[0mupper\u001b[0m\u001b[0;34m(\u001b[0m\u001b[0;34m)\u001b[0m\u001b[0;34m,\u001b[0m\u001b[0;34m\u001b[0m\u001b[0;34m\u001b[0m\u001b[0m\n\u001b[1;32m    451\u001b[0m             \u001b[0murl\u001b[0m\u001b[0;34m=\u001b[0m\u001b[0mrequest\u001b[0m\u001b[0;34m.\u001b[0m\u001b[0murl\u001b[0m\u001b[0;34m,\u001b[0m\u001b[0;34m\u001b[0m\u001b[0;34m\u001b[0m\u001b[0m\n",
      "\u001b[0;32m~/opt/anaconda3/lib/python3.8/site-packages/requests/models.py\u001b[0m in \u001b[0;36mprepare\u001b[0;34m(self, method, url, headers, files, data, params, auth, cookies, hooks, json)\u001b[0m\n\u001b[1;32m    316\u001b[0m         \u001b[0mself\u001b[0m\u001b[0;34m.\u001b[0m\u001b[0mprepare_cookies\u001b[0m\u001b[0;34m(\u001b[0m\u001b[0mcookies\u001b[0m\u001b[0;34m)\u001b[0m\u001b[0;34m\u001b[0m\u001b[0;34m\u001b[0m\u001b[0m\n\u001b[1;32m    317\u001b[0m         \u001b[0mself\u001b[0m\u001b[0;34m.\u001b[0m\u001b[0mprepare_body\u001b[0m\u001b[0;34m(\u001b[0m\u001b[0mdata\u001b[0m\u001b[0;34m,\u001b[0m \u001b[0mfiles\u001b[0m\u001b[0;34m,\u001b[0m \u001b[0mjson\u001b[0m\u001b[0;34m)\u001b[0m\u001b[0;34m\u001b[0m\u001b[0;34m\u001b[0m\u001b[0m\n\u001b[0;32m--> 318\u001b[0;31m         \u001b[0mself\u001b[0m\u001b[0;34m.\u001b[0m\u001b[0mprepare_auth\u001b[0m\u001b[0;34m(\u001b[0m\u001b[0mauth\u001b[0m\u001b[0;34m,\u001b[0m \u001b[0murl\u001b[0m\u001b[0;34m)\u001b[0m\u001b[0;34m\u001b[0m\u001b[0;34m\u001b[0m\u001b[0m\n\u001b[0m\u001b[1;32m    319\u001b[0m \u001b[0;34m\u001b[0m\u001b[0m\n\u001b[1;32m    320\u001b[0m         \u001b[0;31m# Note that prepare_auth must be last to enable authentication schemes\u001b[0m\u001b[0;34m\u001b[0m\u001b[0;34m\u001b[0m\u001b[0;34m\u001b[0m\u001b[0m\n",
      "\u001b[0;32m~/opt/anaconda3/lib/python3.8/site-packages/requests/models.py\u001b[0m in \u001b[0;36mprepare_auth\u001b[0;34m(self, auth, url)\u001b[0m\n\u001b[1;32m    547\u001b[0m \u001b[0;34m\u001b[0m\u001b[0m\n\u001b[1;32m    548\u001b[0m             \u001b[0;31m# Allow auth to make its changes.\u001b[0m\u001b[0;34m\u001b[0m\u001b[0;34m\u001b[0m\u001b[0;34m\u001b[0m\u001b[0m\n\u001b[0;32m--> 549\u001b[0;31m             \u001b[0mr\u001b[0m \u001b[0;34m=\u001b[0m \u001b[0mauth\u001b[0m\u001b[0;34m(\u001b[0m\u001b[0mself\u001b[0m\u001b[0;34m)\u001b[0m\u001b[0;34m\u001b[0m\u001b[0;34m\u001b[0m\u001b[0m\n\u001b[0m\u001b[1;32m    550\u001b[0m \u001b[0;34m\u001b[0m\u001b[0m\n\u001b[1;32m    551\u001b[0m             \u001b[0;31m# Update self to reflect the auth changes.\u001b[0m\u001b[0;34m\u001b[0m\u001b[0;34m\u001b[0m\u001b[0;34m\u001b[0m\u001b[0m\n",
      "\u001b[0;32m~/opt/anaconda3/lib/python3.8/site-packages/requests_oauthlib/oauth1_auth.py\u001b[0m in \u001b[0;36m__call__\u001b[0;34m(self, r)\u001b[0m\n\u001b[1;32m    106\u001b[0m         \u001b[0;32melse\u001b[0m\u001b[0;34m:\u001b[0m\u001b[0;34m\u001b[0m\u001b[0;34m\u001b[0m\u001b[0m\n\u001b[1;32m    107\u001b[0m             \u001b[0;31m# Omit body data in the signing of non form-encoded requests\u001b[0m\u001b[0;34m\u001b[0m\u001b[0;34m\u001b[0m\u001b[0;34m\u001b[0m\u001b[0m\n\u001b[0;32m--> 108\u001b[0;31m             r.url, headers, _ = self.client.sign(\n\u001b[0m\u001b[1;32m    109\u001b[0m                 \u001b[0municode\u001b[0m\u001b[0;34m(\u001b[0m\u001b[0mr\u001b[0m\u001b[0;34m.\u001b[0m\u001b[0murl\u001b[0m\u001b[0;34m)\u001b[0m\u001b[0;34m,\u001b[0m \u001b[0municode\u001b[0m\u001b[0;34m(\u001b[0m\u001b[0mr\u001b[0m\u001b[0;34m.\u001b[0m\u001b[0mmethod\u001b[0m\u001b[0;34m)\u001b[0m\u001b[0;34m,\u001b[0m \u001b[0;32mNone\u001b[0m\u001b[0;34m,\u001b[0m \u001b[0mr\u001b[0m\u001b[0;34m.\u001b[0m\u001b[0mheaders\u001b[0m\u001b[0;34m\u001b[0m\u001b[0;34m\u001b[0m\u001b[0m\n\u001b[1;32m    110\u001b[0m             )\n",
      "\u001b[0;32m~/opt/anaconda3/lib/python3.8/site-packages/oauthlib/oauth1/rfc5849/__init__.py\u001b[0m in \u001b[0;36msign\u001b[0;34m(self, uri, http_method, body, headers, realm)\u001b[0m\n\u001b[1;32m    311\u001b[0m         \u001b[0;31m# generate the signature\u001b[0m\u001b[0;34m\u001b[0m\u001b[0;34m\u001b[0m\u001b[0;34m\u001b[0m\u001b[0m\n\u001b[1;32m    312\u001b[0m         request.oauth_params.append(\n\u001b[0;32m--> 313\u001b[0;31m             ('oauth_signature', self.get_oauth_signature(request)))\n\u001b[0m\u001b[1;32m    314\u001b[0m \u001b[0;34m\u001b[0m\u001b[0m\n\u001b[1;32m    315\u001b[0m         \u001b[0;31m# render the signed request and return it\u001b[0m\u001b[0;34m\u001b[0m\u001b[0;34m\u001b[0m\u001b[0;34m\u001b[0m\u001b[0m\n",
      "\u001b[0;32m~/opt/anaconda3/lib/python3.8/site-packages/oauthlib/oauth1/rfc5849/__init__.py\u001b[0m in \u001b[0;36mget_oauth_signature\u001b[0;34m(self, request)\u001b[0m\n\u001b[1;32m    125\u001b[0m                                             self.resource_owner_secret)\n\u001b[1;32m    126\u001b[0m \u001b[0;34m\u001b[0m\u001b[0m\n\u001b[0;32m--> 127\u001b[0;31m         \u001b[0muri\u001b[0m\u001b[0;34m,\u001b[0m \u001b[0mheaders\u001b[0m\u001b[0;34m,\u001b[0m \u001b[0mbody\u001b[0m \u001b[0;34m=\u001b[0m \u001b[0mself\u001b[0m\u001b[0;34m.\u001b[0m\u001b[0m_render\u001b[0m\u001b[0;34m(\u001b[0m\u001b[0mrequest\u001b[0m\u001b[0;34m)\u001b[0m\u001b[0;34m\u001b[0m\u001b[0;34m\u001b[0m\u001b[0m\n\u001b[0m\u001b[1;32m    128\u001b[0m \u001b[0;34m\u001b[0m\u001b[0m\n\u001b[1;32m    129\u001b[0m         collected_params = signature.collect_parameters(\n",
      "\u001b[0;32m~/opt/anaconda3/lib/python3.8/site-packages/oauthlib/oauth1/rfc5849/__init__.py\u001b[0m in \u001b[0;36m_render\u001b[0;34m(self, request, formencode, realm)\u001b[0m\n\u001b[1;32m    207\u001b[0m         \u001b[0;31m# I'm not sure how I feel about it.\u001b[0m\u001b[0;34m\u001b[0m\u001b[0;34m\u001b[0m\u001b[0;34m\u001b[0m\u001b[0m\n\u001b[1;32m    208\u001b[0m         \u001b[0;32mif\u001b[0m \u001b[0mself\u001b[0m\u001b[0;34m.\u001b[0m\u001b[0msignature_type\u001b[0m \u001b[0;34m==\u001b[0m \u001b[0mSIGNATURE_TYPE_AUTH_HEADER\u001b[0m\u001b[0;34m:\u001b[0m\u001b[0;34m\u001b[0m\u001b[0;34m\u001b[0m\u001b[0m\n\u001b[0;32m--> 209\u001b[0;31m             headers = parameters.prepare_headers(\n\u001b[0m\u001b[1;32m    210\u001b[0m                 request.oauth_params, request.headers, realm=realm)\n\u001b[1;32m    211\u001b[0m         \u001b[0;32melif\u001b[0m \u001b[0mself\u001b[0m\u001b[0;34m.\u001b[0m\u001b[0msignature_type\u001b[0m \u001b[0;34m==\u001b[0m \u001b[0mSIGNATURE_TYPE_BODY\u001b[0m \u001b[0;32mand\u001b[0m \u001b[0mrequest\u001b[0m\u001b[0;34m.\u001b[0m\u001b[0mdecoded_body\u001b[0m \u001b[0;32mis\u001b[0m \u001b[0;32mnot\u001b[0m \u001b[0;32mNone\u001b[0m\u001b[0;34m:\u001b[0m\u001b[0;34m\u001b[0m\u001b[0;34m\u001b[0m\u001b[0m\n",
      "\u001b[0;32m~/opt/anaconda3/lib/python3.8/site-packages/oauthlib/oauth1/rfc5849/utils.py\u001b[0m in \u001b[0;36mwrapper\u001b[0;34m(params, *args, **kwargs)\u001b[0m\n\u001b[1;32m     30\u001b[0m     \u001b[0;32mdef\u001b[0m \u001b[0mwrapper\u001b[0m\u001b[0;34m(\u001b[0m\u001b[0mparams\u001b[0m\u001b[0;34m,\u001b[0m \u001b[0;34m*\u001b[0m\u001b[0margs\u001b[0m\u001b[0;34m,\u001b[0m \u001b[0;34m**\u001b[0m\u001b[0mkwargs\u001b[0m\u001b[0;34m)\u001b[0m\u001b[0;34m:\u001b[0m\u001b[0;34m\u001b[0m\u001b[0;34m\u001b[0m\u001b[0m\n\u001b[1;32m     31\u001b[0m         \u001b[0mparams\u001b[0m \u001b[0;34m=\u001b[0m \u001b[0mfilter_oauth_params\u001b[0m\u001b[0;34m(\u001b[0m\u001b[0mparams\u001b[0m\u001b[0;34m)\u001b[0m\u001b[0;34m\u001b[0m\u001b[0;34m\u001b[0m\u001b[0m\n\u001b[0;32m---> 32\u001b[0;31m         \u001b[0;32mreturn\u001b[0m \u001b[0mtarget\u001b[0m\u001b[0;34m(\u001b[0m\u001b[0mparams\u001b[0m\u001b[0;34m,\u001b[0m \u001b[0;34m*\u001b[0m\u001b[0margs\u001b[0m\u001b[0;34m,\u001b[0m \u001b[0;34m**\u001b[0m\u001b[0mkwargs\u001b[0m\u001b[0;34m)\u001b[0m\u001b[0;34m\u001b[0m\u001b[0;34m\u001b[0m\u001b[0m\n\u001b[0m\u001b[1;32m     33\u001b[0m \u001b[0;34m\u001b[0m\u001b[0m\n\u001b[1;32m     34\u001b[0m     \u001b[0mwrapper\u001b[0m\u001b[0;34m.\u001b[0m\u001b[0m__doc__\u001b[0m \u001b[0;34m=\u001b[0m \u001b[0mtarget\u001b[0m\u001b[0;34m.\u001b[0m\u001b[0m__doc__\u001b[0m\u001b[0;34m\u001b[0m\u001b[0;34m\u001b[0m\u001b[0m\n",
      "\u001b[0;32m~/opt/anaconda3/lib/python3.8/site-packages/oauthlib/oauth1/rfc5849/parameters.py\u001b[0m in \u001b[0;36mprepare_headers\u001b[0;34m(oauth_params, headers, realm)\u001b[0m\n\u001b[1;32m     57\u001b[0m         \u001b[0;31m# .. _`Section 3.6`: https://tools.ietf.org/html/rfc5849#section-3.6\u001b[0m\u001b[0;34m\u001b[0m\u001b[0;34m\u001b[0m\u001b[0;34m\u001b[0m\u001b[0m\n\u001b[1;32m     58\u001b[0m         \u001b[0mescaped_name\u001b[0m \u001b[0;34m=\u001b[0m \u001b[0mutils\u001b[0m\u001b[0;34m.\u001b[0m\u001b[0mescape\u001b[0m\u001b[0;34m(\u001b[0m\u001b[0moauth_parameter_name\u001b[0m\u001b[0;34m)\u001b[0m\u001b[0;34m\u001b[0m\u001b[0;34m\u001b[0m\u001b[0m\n\u001b[0;32m---> 59\u001b[0;31m         \u001b[0mescaped_value\u001b[0m \u001b[0;34m=\u001b[0m \u001b[0mutils\u001b[0m\u001b[0;34m.\u001b[0m\u001b[0mescape\u001b[0m\u001b[0;34m(\u001b[0m\u001b[0mvalue\u001b[0m\u001b[0;34m)\u001b[0m\u001b[0;34m\u001b[0m\u001b[0;34m\u001b[0m\u001b[0m\n\u001b[0m\u001b[1;32m     60\u001b[0m \u001b[0;34m\u001b[0m\u001b[0m\n\u001b[1;32m     61\u001b[0m         \u001b[0;31m# 2.  Each parameter's name is immediately followed by an \"=\" character\u001b[0m\u001b[0;34m\u001b[0m\u001b[0;34m\u001b[0m\u001b[0;34m\u001b[0m\u001b[0m\n",
      "\u001b[0;32m~/opt/anaconda3/lib/python3.8/site-packages/oauthlib/oauth1/rfc5849/utils.py\u001b[0m in \u001b[0;36mescape\u001b[0;34m(u)\u001b[0m\n\u001b[1;32m     54\u001b[0m     \"\"\"\n\u001b[1;32m     55\u001b[0m     \u001b[0;32mif\u001b[0m \u001b[0;32mnot\u001b[0m \u001b[0misinstance\u001b[0m\u001b[0;34m(\u001b[0m\u001b[0mu\u001b[0m\u001b[0;34m,\u001b[0m \u001b[0municode_type\u001b[0m\u001b[0;34m)\u001b[0m\u001b[0;34m:\u001b[0m\u001b[0;34m\u001b[0m\u001b[0;34m\u001b[0m\u001b[0m\n\u001b[0;32m---> 56\u001b[0;31m         raise ValueError('Only unicode objects are escapable. ' +\n\u001b[0m\u001b[1;32m     57\u001b[0m                          'Got %r of type %s.' % (u, type(u)))\n\u001b[1;32m     58\u001b[0m     \u001b[0;31m# Letters, digits, and the characters '_.-' are already treated as safe\u001b[0m\u001b[0;34m\u001b[0m\u001b[0;34m\u001b[0m\u001b[0;34m\u001b[0m\u001b[0m\n",
      "\u001b[0;31mTweepError\u001b[0m: Failed to send request: Only unicode objects are escapable. Got None of type <class 'NoneType'>."
     ]
    }
   ],
   "source": [
    "res = api.followers(\"ironhack\", count=200)"
   ]
  },
  {
   "cell_type": "code",
   "execution_count": null,
   "metadata": {},
   "outputs": [],
   "source": [
    "#res[0]._json"
   ]
  },
  {
   "cell_type": "code",
   "execution_count": 86,
   "metadata": {},
   "outputs": [],
   "source": [
    "def get_followers(user,count = 100):\n",
    "    resultados = api.followers(user, count= count)\n",
    "    followers = [elemento._json for elemento in resultados]\n",
    "    df = pd.DataFrame(followers)\n",
    "    return df"
   ]
  },
  {
   "cell_type": "code",
   "execution_count": 87,
   "metadata": {},
   "outputs": [],
   "source": [
    "usuario = \"fernandosimon_\""
   ]
  },
  {
   "cell_type": "code",
   "execution_count": 88,
   "metadata": {},
   "outputs": [
    {
     "ename": "TweepError",
     "evalue": "Failed to send request: Only unicode objects are escapable. Got None of type <class 'NoneType'>.",
     "output_type": "error",
     "traceback": [
      "\u001b[0;31m---------------------------------------------------------------------------\u001b[0m",
      "\u001b[0;31mValueError\u001b[0m                                Traceback (most recent call last)",
      "\u001b[0;32m~/opt/anaconda3/lib/python3.8/site-packages/tweepy/binder.py\u001b[0m in \u001b[0;36mexecute\u001b[0;34m(self)\u001b[0m\n\u001b[1;32m    183\u001b[0m                 \u001b[0;32mtry\u001b[0m\u001b[0;34m:\u001b[0m\u001b[0;34m\u001b[0m\u001b[0;34m\u001b[0m\u001b[0m\n\u001b[0;32m--> 184\u001b[0;31m                     resp = self.session.request(self.method,\n\u001b[0m\u001b[1;32m    185\u001b[0m                                                 \u001b[0mfull_url\u001b[0m\u001b[0;34m,\u001b[0m\u001b[0;34m\u001b[0m\u001b[0;34m\u001b[0m\u001b[0m\n",
      "\u001b[0;32m~/opt/anaconda3/lib/python3.8/site-packages/requests/sessions.py\u001b[0m in \u001b[0;36mrequest\u001b[0;34m(self, method, url, params, data, headers, cookies, files, auth, timeout, allow_redirects, proxies, hooks, stream, verify, cert, json)\u001b[0m\n\u001b[1;32m    515\u001b[0m         )\n\u001b[0;32m--> 516\u001b[0;31m         \u001b[0mprep\u001b[0m \u001b[0;34m=\u001b[0m \u001b[0mself\u001b[0m\u001b[0;34m.\u001b[0m\u001b[0mprepare_request\u001b[0m\u001b[0;34m(\u001b[0m\u001b[0mreq\u001b[0m\u001b[0;34m)\u001b[0m\u001b[0;34m\u001b[0m\u001b[0;34m\u001b[0m\u001b[0m\n\u001b[0m\u001b[1;32m    517\u001b[0m \u001b[0;34m\u001b[0m\u001b[0m\n",
      "\u001b[0;32m~/opt/anaconda3/lib/python3.8/site-packages/requests/sessions.py\u001b[0m in \u001b[0;36mprepare_request\u001b[0;34m(self, request)\u001b[0m\n\u001b[1;32m    448\u001b[0m         \u001b[0mp\u001b[0m \u001b[0;34m=\u001b[0m \u001b[0mPreparedRequest\u001b[0m\u001b[0;34m(\u001b[0m\u001b[0;34m)\u001b[0m\u001b[0;34m\u001b[0m\u001b[0;34m\u001b[0m\u001b[0m\n\u001b[0;32m--> 449\u001b[0;31m         p.prepare(\n\u001b[0m\u001b[1;32m    450\u001b[0m             \u001b[0mmethod\u001b[0m\u001b[0;34m=\u001b[0m\u001b[0mrequest\u001b[0m\u001b[0;34m.\u001b[0m\u001b[0mmethod\u001b[0m\u001b[0;34m.\u001b[0m\u001b[0mupper\u001b[0m\u001b[0;34m(\u001b[0m\u001b[0;34m)\u001b[0m\u001b[0;34m,\u001b[0m\u001b[0;34m\u001b[0m\u001b[0;34m\u001b[0m\u001b[0m\n",
      "\u001b[0;32m~/opt/anaconda3/lib/python3.8/site-packages/requests/models.py\u001b[0m in \u001b[0;36mprepare\u001b[0;34m(self, method, url, headers, files, data, params, auth, cookies, hooks, json)\u001b[0m\n\u001b[1;32m    317\u001b[0m         \u001b[0mself\u001b[0m\u001b[0;34m.\u001b[0m\u001b[0mprepare_body\u001b[0m\u001b[0;34m(\u001b[0m\u001b[0mdata\u001b[0m\u001b[0;34m,\u001b[0m \u001b[0mfiles\u001b[0m\u001b[0;34m,\u001b[0m \u001b[0mjson\u001b[0m\u001b[0;34m)\u001b[0m\u001b[0;34m\u001b[0m\u001b[0;34m\u001b[0m\u001b[0m\n\u001b[0;32m--> 318\u001b[0;31m         \u001b[0mself\u001b[0m\u001b[0;34m.\u001b[0m\u001b[0mprepare_auth\u001b[0m\u001b[0;34m(\u001b[0m\u001b[0mauth\u001b[0m\u001b[0;34m,\u001b[0m \u001b[0murl\u001b[0m\u001b[0;34m)\u001b[0m\u001b[0;34m\u001b[0m\u001b[0;34m\u001b[0m\u001b[0m\n\u001b[0m\u001b[1;32m    319\u001b[0m \u001b[0;34m\u001b[0m\u001b[0m\n",
      "\u001b[0;32m~/opt/anaconda3/lib/python3.8/site-packages/requests/models.py\u001b[0m in \u001b[0;36mprepare_auth\u001b[0;34m(self, auth, url)\u001b[0m\n\u001b[1;32m    548\u001b[0m             \u001b[0;31m# Allow auth to make its changes.\u001b[0m\u001b[0;34m\u001b[0m\u001b[0;34m\u001b[0m\u001b[0;34m\u001b[0m\u001b[0m\n\u001b[0;32m--> 549\u001b[0;31m             \u001b[0mr\u001b[0m \u001b[0;34m=\u001b[0m \u001b[0mauth\u001b[0m\u001b[0;34m(\u001b[0m\u001b[0mself\u001b[0m\u001b[0;34m)\u001b[0m\u001b[0;34m\u001b[0m\u001b[0;34m\u001b[0m\u001b[0m\n\u001b[0m\u001b[1;32m    550\u001b[0m \u001b[0;34m\u001b[0m\u001b[0m\n",
      "\u001b[0;32m~/opt/anaconda3/lib/python3.8/site-packages/requests_oauthlib/oauth1_auth.py\u001b[0m in \u001b[0;36m__call__\u001b[0;34m(self, r)\u001b[0m\n\u001b[1;32m    107\u001b[0m             \u001b[0;31m# Omit body data in the signing of non form-encoded requests\u001b[0m\u001b[0;34m\u001b[0m\u001b[0;34m\u001b[0m\u001b[0;34m\u001b[0m\u001b[0m\n\u001b[0;32m--> 108\u001b[0;31m             r.url, headers, _ = self.client.sign(\n\u001b[0m\u001b[1;32m    109\u001b[0m                 \u001b[0municode\u001b[0m\u001b[0;34m(\u001b[0m\u001b[0mr\u001b[0m\u001b[0;34m.\u001b[0m\u001b[0murl\u001b[0m\u001b[0;34m)\u001b[0m\u001b[0;34m,\u001b[0m \u001b[0municode\u001b[0m\u001b[0;34m(\u001b[0m\u001b[0mr\u001b[0m\u001b[0;34m.\u001b[0m\u001b[0mmethod\u001b[0m\u001b[0;34m)\u001b[0m\u001b[0;34m,\u001b[0m \u001b[0;32mNone\u001b[0m\u001b[0;34m,\u001b[0m \u001b[0mr\u001b[0m\u001b[0;34m.\u001b[0m\u001b[0mheaders\u001b[0m\u001b[0;34m\u001b[0m\u001b[0;34m\u001b[0m\u001b[0m\n",
      "\u001b[0;32m~/opt/anaconda3/lib/python3.8/site-packages/oauthlib/oauth1/rfc5849/__init__.py\u001b[0m in \u001b[0;36msign\u001b[0;34m(self, uri, http_method, body, headers, realm)\u001b[0m\n\u001b[1;32m    312\u001b[0m         request.oauth_params.append(\n\u001b[0;32m--> 313\u001b[0;31m             ('oauth_signature', self.get_oauth_signature(request)))\n\u001b[0m\u001b[1;32m    314\u001b[0m \u001b[0;34m\u001b[0m\u001b[0m\n",
      "\u001b[0;32m~/opt/anaconda3/lib/python3.8/site-packages/oauthlib/oauth1/rfc5849/__init__.py\u001b[0m in \u001b[0;36mget_oauth_signature\u001b[0;34m(self, request)\u001b[0m\n\u001b[1;32m    126\u001b[0m \u001b[0;34m\u001b[0m\u001b[0m\n\u001b[0;32m--> 127\u001b[0;31m         \u001b[0muri\u001b[0m\u001b[0;34m,\u001b[0m \u001b[0mheaders\u001b[0m\u001b[0;34m,\u001b[0m \u001b[0mbody\u001b[0m \u001b[0;34m=\u001b[0m \u001b[0mself\u001b[0m\u001b[0;34m.\u001b[0m\u001b[0m_render\u001b[0m\u001b[0;34m(\u001b[0m\u001b[0mrequest\u001b[0m\u001b[0;34m)\u001b[0m\u001b[0;34m\u001b[0m\u001b[0;34m\u001b[0m\u001b[0m\n\u001b[0m\u001b[1;32m    128\u001b[0m \u001b[0;34m\u001b[0m\u001b[0m\n",
      "\u001b[0;32m~/opt/anaconda3/lib/python3.8/site-packages/oauthlib/oauth1/rfc5849/__init__.py\u001b[0m in \u001b[0;36m_render\u001b[0;34m(self, request, formencode, realm)\u001b[0m\n\u001b[1;32m    208\u001b[0m         \u001b[0;32mif\u001b[0m \u001b[0mself\u001b[0m\u001b[0;34m.\u001b[0m\u001b[0msignature_type\u001b[0m \u001b[0;34m==\u001b[0m \u001b[0mSIGNATURE_TYPE_AUTH_HEADER\u001b[0m\u001b[0;34m:\u001b[0m\u001b[0;34m\u001b[0m\u001b[0;34m\u001b[0m\u001b[0m\n\u001b[0;32m--> 209\u001b[0;31m             headers = parameters.prepare_headers(\n\u001b[0m\u001b[1;32m    210\u001b[0m                 request.oauth_params, request.headers, realm=realm)\n",
      "\u001b[0;32m~/opt/anaconda3/lib/python3.8/site-packages/oauthlib/oauth1/rfc5849/utils.py\u001b[0m in \u001b[0;36mwrapper\u001b[0;34m(params, *args, **kwargs)\u001b[0m\n\u001b[1;32m     31\u001b[0m         \u001b[0mparams\u001b[0m \u001b[0;34m=\u001b[0m \u001b[0mfilter_oauth_params\u001b[0m\u001b[0;34m(\u001b[0m\u001b[0mparams\u001b[0m\u001b[0;34m)\u001b[0m\u001b[0;34m\u001b[0m\u001b[0;34m\u001b[0m\u001b[0m\n\u001b[0;32m---> 32\u001b[0;31m         \u001b[0;32mreturn\u001b[0m \u001b[0mtarget\u001b[0m\u001b[0;34m(\u001b[0m\u001b[0mparams\u001b[0m\u001b[0;34m,\u001b[0m \u001b[0;34m*\u001b[0m\u001b[0margs\u001b[0m\u001b[0;34m,\u001b[0m \u001b[0;34m**\u001b[0m\u001b[0mkwargs\u001b[0m\u001b[0;34m)\u001b[0m\u001b[0;34m\u001b[0m\u001b[0;34m\u001b[0m\u001b[0m\n\u001b[0m\u001b[1;32m     33\u001b[0m \u001b[0;34m\u001b[0m\u001b[0m\n",
      "\u001b[0;32m~/opt/anaconda3/lib/python3.8/site-packages/oauthlib/oauth1/rfc5849/parameters.py\u001b[0m in \u001b[0;36mprepare_headers\u001b[0;34m(oauth_params, headers, realm)\u001b[0m\n\u001b[1;32m     58\u001b[0m         \u001b[0mescaped_name\u001b[0m \u001b[0;34m=\u001b[0m \u001b[0mutils\u001b[0m\u001b[0;34m.\u001b[0m\u001b[0mescape\u001b[0m\u001b[0;34m(\u001b[0m\u001b[0moauth_parameter_name\u001b[0m\u001b[0;34m)\u001b[0m\u001b[0;34m\u001b[0m\u001b[0;34m\u001b[0m\u001b[0m\n\u001b[0;32m---> 59\u001b[0;31m         \u001b[0mescaped_value\u001b[0m \u001b[0;34m=\u001b[0m \u001b[0mutils\u001b[0m\u001b[0;34m.\u001b[0m\u001b[0mescape\u001b[0m\u001b[0;34m(\u001b[0m\u001b[0mvalue\u001b[0m\u001b[0;34m)\u001b[0m\u001b[0;34m\u001b[0m\u001b[0;34m\u001b[0m\u001b[0m\n\u001b[0m\u001b[1;32m     60\u001b[0m \u001b[0;34m\u001b[0m\u001b[0m\n",
      "\u001b[0;32m~/opt/anaconda3/lib/python3.8/site-packages/oauthlib/oauth1/rfc5849/utils.py\u001b[0m in \u001b[0;36mescape\u001b[0;34m(u)\u001b[0m\n\u001b[1;32m     55\u001b[0m     \u001b[0;32mif\u001b[0m \u001b[0;32mnot\u001b[0m \u001b[0misinstance\u001b[0m\u001b[0;34m(\u001b[0m\u001b[0mu\u001b[0m\u001b[0;34m,\u001b[0m \u001b[0municode_type\u001b[0m\u001b[0;34m)\u001b[0m\u001b[0;34m:\u001b[0m\u001b[0;34m\u001b[0m\u001b[0;34m\u001b[0m\u001b[0m\n\u001b[0;32m---> 56\u001b[0;31m         raise ValueError('Only unicode objects are escapable. ' +\n\u001b[0m\u001b[1;32m     57\u001b[0m                          'Got %r of type %s.' % (u, type(u)))\n",
      "\u001b[0;31mValueError\u001b[0m: Only unicode objects are escapable. Got None of type <class 'NoneType'>.",
      "\nDuring handling of the above exception, another exception occurred:\n",
      "\u001b[0;31mTweepError\u001b[0m                                Traceback (most recent call last)",
      "\u001b[0;32m<ipython-input-88-fc63aed51978>\u001b[0m in \u001b[0;36m<module>\u001b[0;34m\u001b[0m\n\u001b[0;32m----> 1\u001b[0;31m \u001b[0mfollowers_simon\u001b[0m \u001b[0;34m=\u001b[0m \u001b[0mget_followers\u001b[0m\u001b[0;34m(\u001b[0m\u001b[0musuario\u001b[0m\u001b[0;34m)\u001b[0m\u001b[0;34m\u001b[0m\u001b[0;34m\u001b[0m\u001b[0m\n\u001b[0m\u001b[1;32m      2\u001b[0m \u001b[0mfollowers_simon\u001b[0m\u001b[0;34m.\u001b[0m\u001b[0mhead\u001b[0m\u001b[0;34m(\u001b[0m\u001b[0;34m)\u001b[0m\u001b[0;34m\u001b[0m\u001b[0;34m\u001b[0m\u001b[0m\n",
      "\u001b[0;32m<ipython-input-86-fb7773b54ee7>\u001b[0m in \u001b[0;36mget_followers\u001b[0;34m(user, count)\u001b[0m\n\u001b[1;32m      1\u001b[0m \u001b[0;32mdef\u001b[0m \u001b[0mget_followers\u001b[0m\u001b[0;34m(\u001b[0m\u001b[0muser\u001b[0m\u001b[0;34m,\u001b[0m\u001b[0mcount\u001b[0m \u001b[0;34m=\u001b[0m \u001b[0;36m100\u001b[0m\u001b[0;34m)\u001b[0m\u001b[0;34m:\u001b[0m\u001b[0;34m\u001b[0m\u001b[0;34m\u001b[0m\u001b[0m\n\u001b[0;32m----> 2\u001b[0;31m     \u001b[0mresultados\u001b[0m \u001b[0;34m=\u001b[0m \u001b[0mapi\u001b[0m\u001b[0;34m.\u001b[0m\u001b[0mfollowers\u001b[0m\u001b[0;34m(\u001b[0m\u001b[0muser\u001b[0m\u001b[0;34m,\u001b[0m \u001b[0mcount\u001b[0m\u001b[0;34m=\u001b[0m \u001b[0mcount\u001b[0m\u001b[0;34m)\u001b[0m\u001b[0;34m\u001b[0m\u001b[0;34m\u001b[0m\u001b[0m\n\u001b[0m\u001b[1;32m      3\u001b[0m     \u001b[0mfollowers\u001b[0m \u001b[0;34m=\u001b[0m \u001b[0;34m[\u001b[0m\u001b[0melemento\u001b[0m\u001b[0;34m.\u001b[0m\u001b[0m_json\u001b[0m \u001b[0;32mfor\u001b[0m \u001b[0melemento\u001b[0m \u001b[0;32min\u001b[0m \u001b[0mresultados\u001b[0m\u001b[0;34m]\u001b[0m\u001b[0;34m\u001b[0m\u001b[0;34m\u001b[0m\u001b[0m\n\u001b[1;32m      4\u001b[0m     \u001b[0mdf\u001b[0m \u001b[0;34m=\u001b[0m \u001b[0mpd\u001b[0m\u001b[0;34m.\u001b[0m\u001b[0mDataFrame\u001b[0m\u001b[0;34m(\u001b[0m\u001b[0mfollowers\u001b[0m\u001b[0;34m)\u001b[0m\u001b[0;34m\u001b[0m\u001b[0;34m\u001b[0m\u001b[0m\n\u001b[1;32m      5\u001b[0m     \u001b[0;32mreturn\u001b[0m \u001b[0mdf\u001b[0m\u001b[0;34m\u001b[0m\u001b[0;34m\u001b[0m\u001b[0m\n",
      "\u001b[0;32m~/opt/anaconda3/lib/python3.8/site-packages/tweepy/binder.py\u001b[0m in \u001b[0;36m_call\u001b[0;34m(*args, **kwargs)\u001b[0m\n\u001b[1;32m    251\u001b[0m                 \u001b[0;32mreturn\u001b[0m \u001b[0mmethod\u001b[0m\u001b[0;34m\u001b[0m\u001b[0;34m\u001b[0m\u001b[0m\n\u001b[1;32m    252\u001b[0m             \u001b[0;32melse\u001b[0m\u001b[0;34m:\u001b[0m\u001b[0;34m\u001b[0m\u001b[0;34m\u001b[0m\u001b[0m\n\u001b[0;32m--> 253\u001b[0;31m                 \u001b[0;32mreturn\u001b[0m \u001b[0mmethod\u001b[0m\u001b[0;34m.\u001b[0m\u001b[0mexecute\u001b[0m\u001b[0;34m(\u001b[0m\u001b[0;34m)\u001b[0m\u001b[0;34m\u001b[0m\u001b[0;34m\u001b[0m\u001b[0m\n\u001b[0m\u001b[1;32m    254\u001b[0m         \u001b[0;32mfinally\u001b[0m\u001b[0;34m:\u001b[0m\u001b[0;34m\u001b[0m\u001b[0;34m\u001b[0m\u001b[0m\n\u001b[1;32m    255\u001b[0m             \u001b[0mmethod\u001b[0m\u001b[0;34m.\u001b[0m\u001b[0msession\u001b[0m\u001b[0;34m.\u001b[0m\u001b[0mclose\u001b[0m\u001b[0;34m(\u001b[0m\u001b[0;34m)\u001b[0m\u001b[0;34m\u001b[0m\u001b[0;34m\u001b[0m\u001b[0m\n",
      "\u001b[0;32m~/opt/anaconda3/lib/python3.8/site-packages/tweepy/binder.py\u001b[0m in \u001b[0;36mexecute\u001b[0;34m(self)\u001b[0m\n\u001b[1;32m    190\u001b[0m                                                 proxies=self.api.proxy)\n\u001b[1;32m    191\u001b[0m                 \u001b[0;32mexcept\u001b[0m \u001b[0mException\u001b[0m \u001b[0;32mas\u001b[0m \u001b[0me\u001b[0m\u001b[0;34m:\u001b[0m\u001b[0;34m\u001b[0m\u001b[0;34m\u001b[0m\u001b[0m\n\u001b[0;32m--> 192\u001b[0;31m                     \u001b[0msix\u001b[0m\u001b[0;34m.\u001b[0m\u001b[0mreraise\u001b[0m\u001b[0;34m(\u001b[0m\u001b[0mTweepError\u001b[0m\u001b[0;34m,\u001b[0m \u001b[0mTweepError\u001b[0m\u001b[0;34m(\u001b[0m\u001b[0;34m'Failed to send request: %s'\u001b[0m \u001b[0;34m%\u001b[0m \u001b[0me\u001b[0m\u001b[0;34m)\u001b[0m\u001b[0;34m,\u001b[0m \u001b[0msys\u001b[0m\u001b[0;34m.\u001b[0m\u001b[0mexc_info\u001b[0m\u001b[0;34m(\u001b[0m\u001b[0;34m)\u001b[0m\u001b[0;34m[\u001b[0m\u001b[0;36m2\u001b[0m\u001b[0;34m]\u001b[0m\u001b[0;34m)\u001b[0m\u001b[0;34m\u001b[0m\u001b[0;34m\u001b[0m\u001b[0m\n\u001b[0m\u001b[1;32m    193\u001b[0m \u001b[0;34m\u001b[0m\u001b[0m\n\u001b[1;32m    194\u001b[0m                 \u001b[0mrem_calls\u001b[0m \u001b[0;34m=\u001b[0m \u001b[0mresp\u001b[0m\u001b[0;34m.\u001b[0m\u001b[0mheaders\u001b[0m\u001b[0;34m.\u001b[0m\u001b[0mget\u001b[0m\u001b[0;34m(\u001b[0m\u001b[0;34m'x-rate-limit-remaining'\u001b[0m\u001b[0;34m)\u001b[0m\u001b[0;34m\u001b[0m\u001b[0;34m\u001b[0m\u001b[0m\n",
      "\u001b[0;32m~/opt/anaconda3/lib/python3.8/site-packages/six.py\u001b[0m in \u001b[0;36mreraise\u001b[0;34m(tp, value, tb)\u001b[0m\n\u001b[1;32m    700\u001b[0m                 \u001b[0mvalue\u001b[0m \u001b[0;34m=\u001b[0m \u001b[0mtp\u001b[0m\u001b[0;34m(\u001b[0m\u001b[0;34m)\u001b[0m\u001b[0;34m\u001b[0m\u001b[0;34m\u001b[0m\u001b[0m\n\u001b[1;32m    701\u001b[0m             \u001b[0;32mif\u001b[0m \u001b[0mvalue\u001b[0m\u001b[0;34m.\u001b[0m\u001b[0m__traceback__\u001b[0m \u001b[0;32mis\u001b[0m \u001b[0;32mnot\u001b[0m \u001b[0mtb\u001b[0m\u001b[0;34m:\u001b[0m\u001b[0;34m\u001b[0m\u001b[0;34m\u001b[0m\u001b[0m\n\u001b[0;32m--> 702\u001b[0;31m                 \u001b[0;32mraise\u001b[0m \u001b[0mvalue\u001b[0m\u001b[0;34m.\u001b[0m\u001b[0mwith_traceback\u001b[0m\u001b[0;34m(\u001b[0m\u001b[0mtb\u001b[0m\u001b[0;34m)\u001b[0m\u001b[0;34m\u001b[0m\u001b[0;34m\u001b[0m\u001b[0m\n\u001b[0m\u001b[1;32m    703\u001b[0m             \u001b[0;32mraise\u001b[0m \u001b[0mvalue\u001b[0m\u001b[0;34m\u001b[0m\u001b[0;34m\u001b[0m\u001b[0m\n\u001b[1;32m    704\u001b[0m         \u001b[0;32mfinally\u001b[0m\u001b[0;34m:\u001b[0m\u001b[0;34m\u001b[0m\u001b[0;34m\u001b[0m\u001b[0m\n",
      "\u001b[0;32m~/opt/anaconda3/lib/python3.8/site-packages/tweepy/binder.py\u001b[0m in \u001b[0;36mexecute\u001b[0;34m(self)\u001b[0m\n\u001b[1;32m    182\u001b[0m                 \u001b[0;31m# Execute request\u001b[0m\u001b[0;34m\u001b[0m\u001b[0;34m\u001b[0m\u001b[0;34m\u001b[0m\u001b[0m\n\u001b[1;32m    183\u001b[0m                 \u001b[0;32mtry\u001b[0m\u001b[0;34m:\u001b[0m\u001b[0;34m\u001b[0m\u001b[0;34m\u001b[0m\u001b[0m\n\u001b[0;32m--> 184\u001b[0;31m                     resp = self.session.request(self.method,\n\u001b[0m\u001b[1;32m    185\u001b[0m                                                 \u001b[0mfull_url\u001b[0m\u001b[0;34m,\u001b[0m\u001b[0;34m\u001b[0m\u001b[0;34m\u001b[0m\u001b[0m\n\u001b[1;32m    186\u001b[0m                                                 \u001b[0mdata\u001b[0m\u001b[0;34m=\u001b[0m\u001b[0mself\u001b[0m\u001b[0;34m.\u001b[0m\u001b[0mpost_data\u001b[0m\u001b[0;34m,\u001b[0m\u001b[0;34m\u001b[0m\u001b[0;34m\u001b[0m\u001b[0m\n",
      "\u001b[0;32m~/opt/anaconda3/lib/python3.8/site-packages/requests/sessions.py\u001b[0m in \u001b[0;36mrequest\u001b[0;34m(self, method, url, params, data, headers, cookies, files, auth, timeout, allow_redirects, proxies, hooks, stream, verify, cert, json)\u001b[0m\n\u001b[1;32m    514\u001b[0m             \u001b[0mhooks\u001b[0m\u001b[0;34m=\u001b[0m\u001b[0mhooks\u001b[0m\u001b[0;34m,\u001b[0m\u001b[0;34m\u001b[0m\u001b[0;34m\u001b[0m\u001b[0m\n\u001b[1;32m    515\u001b[0m         )\n\u001b[0;32m--> 516\u001b[0;31m         \u001b[0mprep\u001b[0m \u001b[0;34m=\u001b[0m \u001b[0mself\u001b[0m\u001b[0;34m.\u001b[0m\u001b[0mprepare_request\u001b[0m\u001b[0;34m(\u001b[0m\u001b[0mreq\u001b[0m\u001b[0;34m)\u001b[0m\u001b[0;34m\u001b[0m\u001b[0;34m\u001b[0m\u001b[0m\n\u001b[0m\u001b[1;32m    517\u001b[0m \u001b[0;34m\u001b[0m\u001b[0m\n\u001b[1;32m    518\u001b[0m         \u001b[0mproxies\u001b[0m \u001b[0;34m=\u001b[0m \u001b[0mproxies\u001b[0m \u001b[0;32mor\u001b[0m \u001b[0;34m{\u001b[0m\u001b[0;34m}\u001b[0m\u001b[0;34m\u001b[0m\u001b[0;34m\u001b[0m\u001b[0m\n",
      "\u001b[0;32m~/opt/anaconda3/lib/python3.8/site-packages/requests/sessions.py\u001b[0m in \u001b[0;36mprepare_request\u001b[0;34m(self, request)\u001b[0m\n\u001b[1;32m    447\u001b[0m \u001b[0;34m\u001b[0m\u001b[0m\n\u001b[1;32m    448\u001b[0m         \u001b[0mp\u001b[0m \u001b[0;34m=\u001b[0m \u001b[0mPreparedRequest\u001b[0m\u001b[0;34m(\u001b[0m\u001b[0;34m)\u001b[0m\u001b[0;34m\u001b[0m\u001b[0;34m\u001b[0m\u001b[0m\n\u001b[0;32m--> 449\u001b[0;31m         p.prepare(\n\u001b[0m\u001b[1;32m    450\u001b[0m             \u001b[0mmethod\u001b[0m\u001b[0;34m=\u001b[0m\u001b[0mrequest\u001b[0m\u001b[0;34m.\u001b[0m\u001b[0mmethod\u001b[0m\u001b[0;34m.\u001b[0m\u001b[0mupper\u001b[0m\u001b[0;34m(\u001b[0m\u001b[0;34m)\u001b[0m\u001b[0;34m,\u001b[0m\u001b[0;34m\u001b[0m\u001b[0;34m\u001b[0m\u001b[0m\n\u001b[1;32m    451\u001b[0m             \u001b[0murl\u001b[0m\u001b[0;34m=\u001b[0m\u001b[0mrequest\u001b[0m\u001b[0;34m.\u001b[0m\u001b[0murl\u001b[0m\u001b[0;34m,\u001b[0m\u001b[0;34m\u001b[0m\u001b[0;34m\u001b[0m\u001b[0m\n",
      "\u001b[0;32m~/opt/anaconda3/lib/python3.8/site-packages/requests/models.py\u001b[0m in \u001b[0;36mprepare\u001b[0;34m(self, method, url, headers, files, data, params, auth, cookies, hooks, json)\u001b[0m\n\u001b[1;32m    316\u001b[0m         \u001b[0mself\u001b[0m\u001b[0;34m.\u001b[0m\u001b[0mprepare_cookies\u001b[0m\u001b[0;34m(\u001b[0m\u001b[0mcookies\u001b[0m\u001b[0;34m)\u001b[0m\u001b[0;34m\u001b[0m\u001b[0;34m\u001b[0m\u001b[0m\n\u001b[1;32m    317\u001b[0m         \u001b[0mself\u001b[0m\u001b[0;34m.\u001b[0m\u001b[0mprepare_body\u001b[0m\u001b[0;34m(\u001b[0m\u001b[0mdata\u001b[0m\u001b[0;34m,\u001b[0m \u001b[0mfiles\u001b[0m\u001b[0;34m,\u001b[0m \u001b[0mjson\u001b[0m\u001b[0;34m)\u001b[0m\u001b[0;34m\u001b[0m\u001b[0;34m\u001b[0m\u001b[0m\n\u001b[0;32m--> 318\u001b[0;31m         \u001b[0mself\u001b[0m\u001b[0;34m.\u001b[0m\u001b[0mprepare_auth\u001b[0m\u001b[0;34m(\u001b[0m\u001b[0mauth\u001b[0m\u001b[0;34m,\u001b[0m \u001b[0murl\u001b[0m\u001b[0;34m)\u001b[0m\u001b[0;34m\u001b[0m\u001b[0;34m\u001b[0m\u001b[0m\n\u001b[0m\u001b[1;32m    319\u001b[0m \u001b[0;34m\u001b[0m\u001b[0m\n\u001b[1;32m    320\u001b[0m         \u001b[0;31m# Note that prepare_auth must be last to enable authentication schemes\u001b[0m\u001b[0;34m\u001b[0m\u001b[0;34m\u001b[0m\u001b[0;34m\u001b[0m\u001b[0m\n",
      "\u001b[0;32m~/opt/anaconda3/lib/python3.8/site-packages/requests/models.py\u001b[0m in \u001b[0;36mprepare_auth\u001b[0;34m(self, auth, url)\u001b[0m\n\u001b[1;32m    547\u001b[0m \u001b[0;34m\u001b[0m\u001b[0m\n\u001b[1;32m    548\u001b[0m             \u001b[0;31m# Allow auth to make its changes.\u001b[0m\u001b[0;34m\u001b[0m\u001b[0;34m\u001b[0m\u001b[0;34m\u001b[0m\u001b[0m\n\u001b[0;32m--> 549\u001b[0;31m             \u001b[0mr\u001b[0m \u001b[0;34m=\u001b[0m \u001b[0mauth\u001b[0m\u001b[0;34m(\u001b[0m\u001b[0mself\u001b[0m\u001b[0;34m)\u001b[0m\u001b[0;34m\u001b[0m\u001b[0;34m\u001b[0m\u001b[0m\n\u001b[0m\u001b[1;32m    550\u001b[0m \u001b[0;34m\u001b[0m\u001b[0m\n\u001b[1;32m    551\u001b[0m             \u001b[0;31m# Update self to reflect the auth changes.\u001b[0m\u001b[0;34m\u001b[0m\u001b[0;34m\u001b[0m\u001b[0;34m\u001b[0m\u001b[0m\n",
      "\u001b[0;32m~/opt/anaconda3/lib/python3.8/site-packages/requests_oauthlib/oauth1_auth.py\u001b[0m in \u001b[0;36m__call__\u001b[0;34m(self, r)\u001b[0m\n\u001b[1;32m    106\u001b[0m         \u001b[0;32melse\u001b[0m\u001b[0;34m:\u001b[0m\u001b[0;34m\u001b[0m\u001b[0;34m\u001b[0m\u001b[0m\n\u001b[1;32m    107\u001b[0m             \u001b[0;31m# Omit body data in the signing of non form-encoded requests\u001b[0m\u001b[0;34m\u001b[0m\u001b[0;34m\u001b[0m\u001b[0;34m\u001b[0m\u001b[0m\n\u001b[0;32m--> 108\u001b[0;31m             r.url, headers, _ = self.client.sign(\n\u001b[0m\u001b[1;32m    109\u001b[0m                 \u001b[0municode\u001b[0m\u001b[0;34m(\u001b[0m\u001b[0mr\u001b[0m\u001b[0;34m.\u001b[0m\u001b[0murl\u001b[0m\u001b[0;34m)\u001b[0m\u001b[0;34m,\u001b[0m \u001b[0municode\u001b[0m\u001b[0;34m(\u001b[0m\u001b[0mr\u001b[0m\u001b[0;34m.\u001b[0m\u001b[0mmethod\u001b[0m\u001b[0;34m)\u001b[0m\u001b[0;34m,\u001b[0m \u001b[0;32mNone\u001b[0m\u001b[0;34m,\u001b[0m \u001b[0mr\u001b[0m\u001b[0;34m.\u001b[0m\u001b[0mheaders\u001b[0m\u001b[0;34m\u001b[0m\u001b[0;34m\u001b[0m\u001b[0m\n\u001b[1;32m    110\u001b[0m             )\n",
      "\u001b[0;32m~/opt/anaconda3/lib/python3.8/site-packages/oauthlib/oauth1/rfc5849/__init__.py\u001b[0m in \u001b[0;36msign\u001b[0;34m(self, uri, http_method, body, headers, realm)\u001b[0m\n\u001b[1;32m    311\u001b[0m         \u001b[0;31m# generate the signature\u001b[0m\u001b[0;34m\u001b[0m\u001b[0;34m\u001b[0m\u001b[0;34m\u001b[0m\u001b[0m\n\u001b[1;32m    312\u001b[0m         request.oauth_params.append(\n\u001b[0;32m--> 313\u001b[0;31m             ('oauth_signature', self.get_oauth_signature(request)))\n\u001b[0m\u001b[1;32m    314\u001b[0m \u001b[0;34m\u001b[0m\u001b[0m\n\u001b[1;32m    315\u001b[0m         \u001b[0;31m# render the signed request and return it\u001b[0m\u001b[0;34m\u001b[0m\u001b[0;34m\u001b[0m\u001b[0;34m\u001b[0m\u001b[0m\n",
      "\u001b[0;32m~/opt/anaconda3/lib/python3.8/site-packages/oauthlib/oauth1/rfc5849/__init__.py\u001b[0m in \u001b[0;36mget_oauth_signature\u001b[0;34m(self, request)\u001b[0m\n\u001b[1;32m    125\u001b[0m                                             self.resource_owner_secret)\n\u001b[1;32m    126\u001b[0m \u001b[0;34m\u001b[0m\u001b[0m\n\u001b[0;32m--> 127\u001b[0;31m         \u001b[0muri\u001b[0m\u001b[0;34m,\u001b[0m \u001b[0mheaders\u001b[0m\u001b[0;34m,\u001b[0m \u001b[0mbody\u001b[0m \u001b[0;34m=\u001b[0m \u001b[0mself\u001b[0m\u001b[0;34m.\u001b[0m\u001b[0m_render\u001b[0m\u001b[0;34m(\u001b[0m\u001b[0mrequest\u001b[0m\u001b[0;34m)\u001b[0m\u001b[0;34m\u001b[0m\u001b[0;34m\u001b[0m\u001b[0m\n\u001b[0m\u001b[1;32m    128\u001b[0m \u001b[0;34m\u001b[0m\u001b[0m\n\u001b[1;32m    129\u001b[0m         collected_params = signature.collect_parameters(\n",
      "\u001b[0;32m~/opt/anaconda3/lib/python3.8/site-packages/oauthlib/oauth1/rfc5849/__init__.py\u001b[0m in \u001b[0;36m_render\u001b[0;34m(self, request, formencode, realm)\u001b[0m\n\u001b[1;32m    207\u001b[0m         \u001b[0;31m# I'm not sure how I feel about it.\u001b[0m\u001b[0;34m\u001b[0m\u001b[0;34m\u001b[0m\u001b[0;34m\u001b[0m\u001b[0m\n\u001b[1;32m    208\u001b[0m         \u001b[0;32mif\u001b[0m \u001b[0mself\u001b[0m\u001b[0;34m.\u001b[0m\u001b[0msignature_type\u001b[0m \u001b[0;34m==\u001b[0m \u001b[0mSIGNATURE_TYPE_AUTH_HEADER\u001b[0m\u001b[0;34m:\u001b[0m\u001b[0;34m\u001b[0m\u001b[0;34m\u001b[0m\u001b[0m\n\u001b[0;32m--> 209\u001b[0;31m             headers = parameters.prepare_headers(\n\u001b[0m\u001b[1;32m    210\u001b[0m                 request.oauth_params, request.headers, realm=realm)\n\u001b[1;32m    211\u001b[0m         \u001b[0;32melif\u001b[0m \u001b[0mself\u001b[0m\u001b[0;34m.\u001b[0m\u001b[0msignature_type\u001b[0m \u001b[0;34m==\u001b[0m \u001b[0mSIGNATURE_TYPE_BODY\u001b[0m \u001b[0;32mand\u001b[0m \u001b[0mrequest\u001b[0m\u001b[0;34m.\u001b[0m\u001b[0mdecoded_body\u001b[0m \u001b[0;32mis\u001b[0m \u001b[0;32mnot\u001b[0m \u001b[0;32mNone\u001b[0m\u001b[0;34m:\u001b[0m\u001b[0;34m\u001b[0m\u001b[0;34m\u001b[0m\u001b[0m\n",
      "\u001b[0;32m~/opt/anaconda3/lib/python3.8/site-packages/oauthlib/oauth1/rfc5849/utils.py\u001b[0m in \u001b[0;36mwrapper\u001b[0;34m(params, *args, **kwargs)\u001b[0m\n\u001b[1;32m     30\u001b[0m     \u001b[0;32mdef\u001b[0m \u001b[0mwrapper\u001b[0m\u001b[0;34m(\u001b[0m\u001b[0mparams\u001b[0m\u001b[0;34m,\u001b[0m \u001b[0;34m*\u001b[0m\u001b[0margs\u001b[0m\u001b[0;34m,\u001b[0m \u001b[0;34m**\u001b[0m\u001b[0mkwargs\u001b[0m\u001b[0;34m)\u001b[0m\u001b[0;34m:\u001b[0m\u001b[0;34m\u001b[0m\u001b[0;34m\u001b[0m\u001b[0m\n\u001b[1;32m     31\u001b[0m         \u001b[0mparams\u001b[0m \u001b[0;34m=\u001b[0m \u001b[0mfilter_oauth_params\u001b[0m\u001b[0;34m(\u001b[0m\u001b[0mparams\u001b[0m\u001b[0;34m)\u001b[0m\u001b[0;34m\u001b[0m\u001b[0;34m\u001b[0m\u001b[0m\n\u001b[0;32m---> 32\u001b[0;31m         \u001b[0;32mreturn\u001b[0m \u001b[0mtarget\u001b[0m\u001b[0;34m(\u001b[0m\u001b[0mparams\u001b[0m\u001b[0;34m,\u001b[0m \u001b[0;34m*\u001b[0m\u001b[0margs\u001b[0m\u001b[0;34m,\u001b[0m \u001b[0;34m**\u001b[0m\u001b[0mkwargs\u001b[0m\u001b[0;34m)\u001b[0m\u001b[0;34m\u001b[0m\u001b[0;34m\u001b[0m\u001b[0m\n\u001b[0m\u001b[1;32m     33\u001b[0m \u001b[0;34m\u001b[0m\u001b[0m\n\u001b[1;32m     34\u001b[0m     \u001b[0mwrapper\u001b[0m\u001b[0;34m.\u001b[0m\u001b[0m__doc__\u001b[0m \u001b[0;34m=\u001b[0m \u001b[0mtarget\u001b[0m\u001b[0;34m.\u001b[0m\u001b[0m__doc__\u001b[0m\u001b[0;34m\u001b[0m\u001b[0;34m\u001b[0m\u001b[0m\n",
      "\u001b[0;32m~/opt/anaconda3/lib/python3.8/site-packages/oauthlib/oauth1/rfc5849/parameters.py\u001b[0m in \u001b[0;36mprepare_headers\u001b[0;34m(oauth_params, headers, realm)\u001b[0m\n\u001b[1;32m     57\u001b[0m         \u001b[0;31m# .. _`Section 3.6`: https://tools.ietf.org/html/rfc5849#section-3.6\u001b[0m\u001b[0;34m\u001b[0m\u001b[0;34m\u001b[0m\u001b[0;34m\u001b[0m\u001b[0m\n\u001b[1;32m     58\u001b[0m         \u001b[0mescaped_name\u001b[0m \u001b[0;34m=\u001b[0m \u001b[0mutils\u001b[0m\u001b[0;34m.\u001b[0m\u001b[0mescape\u001b[0m\u001b[0;34m(\u001b[0m\u001b[0moauth_parameter_name\u001b[0m\u001b[0;34m)\u001b[0m\u001b[0;34m\u001b[0m\u001b[0;34m\u001b[0m\u001b[0m\n\u001b[0;32m---> 59\u001b[0;31m         \u001b[0mescaped_value\u001b[0m \u001b[0;34m=\u001b[0m \u001b[0mutils\u001b[0m\u001b[0;34m.\u001b[0m\u001b[0mescape\u001b[0m\u001b[0;34m(\u001b[0m\u001b[0mvalue\u001b[0m\u001b[0;34m)\u001b[0m\u001b[0;34m\u001b[0m\u001b[0;34m\u001b[0m\u001b[0m\n\u001b[0m\u001b[1;32m     60\u001b[0m \u001b[0;34m\u001b[0m\u001b[0m\n\u001b[1;32m     61\u001b[0m         \u001b[0;31m# 2.  Each parameter's name is immediately followed by an \"=\" character\u001b[0m\u001b[0;34m\u001b[0m\u001b[0;34m\u001b[0m\u001b[0;34m\u001b[0m\u001b[0m\n",
      "\u001b[0;32m~/opt/anaconda3/lib/python3.8/site-packages/oauthlib/oauth1/rfc5849/utils.py\u001b[0m in \u001b[0;36mescape\u001b[0;34m(u)\u001b[0m\n\u001b[1;32m     54\u001b[0m     \"\"\"\n\u001b[1;32m     55\u001b[0m     \u001b[0;32mif\u001b[0m \u001b[0;32mnot\u001b[0m \u001b[0misinstance\u001b[0m\u001b[0;34m(\u001b[0m\u001b[0mu\u001b[0m\u001b[0;34m,\u001b[0m \u001b[0municode_type\u001b[0m\u001b[0;34m)\u001b[0m\u001b[0;34m:\u001b[0m\u001b[0;34m\u001b[0m\u001b[0;34m\u001b[0m\u001b[0m\n\u001b[0;32m---> 56\u001b[0;31m         raise ValueError('Only unicode objects are escapable. ' +\n\u001b[0m\u001b[1;32m     57\u001b[0m                          'Got %r of type %s.' % (u, type(u)))\n\u001b[1;32m     58\u001b[0m     \u001b[0;31m# Letters, digits, and the characters '_.-' are already treated as safe\u001b[0m\u001b[0;34m\u001b[0m\u001b[0;34m\u001b[0m\u001b[0;34m\u001b[0m\u001b[0m\n",
      "\u001b[0;31mTweepError\u001b[0m: Failed to send request: Only unicode objects are escapable. Got None of type <class 'NoneType'>."
     ]
    }
   ],
   "source": [
    "followers_simon = get_followers(usuario)\n",
    "followers_simon.head()"
   ]
  },
  {
   "cell_type": "markdown",
   "metadata": {},
   "source": [
    "## Clientes API"
   ]
  },
  {
   "cell_type": "markdown",
   "metadata": {},
   "source": [
    "Vemos insomnia --> https://insomnia.rest/download"
   ]
  },
  {
   "cell_type": "markdown",
   "metadata": {},
   "source": [
    "En insomnia podemos guardar diferentes apis para poder llamarlas a golpe de click, os dejo capturas"
   ]
  },
  {
   "cell_type": "markdown",
   "metadata": {},
   "source": [
    "![insomnia](../images/in_1.png)\n",
    "![insomnia](../images/in_2.png)\n",
    "![insomnia](../images/in_3.png)\n",
    "![insomnia](../images/in_4.png)"
   ]
  },
  {
   "cell_type": "code",
   "execution_count": null,
   "metadata": {},
   "outputs": [],
   "source": [
    "import requests\n",
    "\n",
    "url = \"https://cat-fact.herokuapp.com/facts\"\n",
    "\n",
    "payload = \"\"\n",
    "headers = {\"cookie\": \"connect.sid=s%253AiZNrW6QgE7YvhxRJd_K6NxuG4AoUEhuK.XGlVUi0h3zwAOwje%252F%252FY4F8LbUc1VIhajgStME%252Fj3lKE\"}\n",
    "\n",
    "response = requests.request(\"GET\", url, data=payload, headers=headers)\n",
    "\n",
    "print(response.text)"
   ]
  },
  {
   "cell_type": "markdown",
   "metadata": {},
   "source": [
    "## Summary   \n",
    "Now it is your turn: What have we learnt?\n",
    "- Requests.ger (obtener información de  las apis OJO también podemos descargar un html  con requests.get)\n",
    "- import os y dotenv para guardar las variables de entorno y no subir claves a github\n",
    "- Los json son listas de  diccionarios no os asusteis\n",
    "- Api es una formade comunicar diferentes lenguajes\n",
    "- Guardar el token en el .env y el .env añadirlo al gitignore\n",
    "- ¡¡Grande  equipooooo!!"
   ]
  },
  {
   "cell_type": "markdown",
   "metadata": {},
   "source": [
    "### Recorrido:\n",
    "- Importo requests\n",
    "- Me guardo las contraseñas si esa  api las necesita / api_key / oauth\n",
    "- Hago request.get al endpoint de la api (en la doc de dicha api me pueden enseñar que hay varios endpoints)\n",
    "- Esa api me devuelve un json \n",
    "- Ese  json puede ser un dataframe o puedo investigar dentro de los elementos del json (lista  de diccionarios)"
   ]
  },
  {
   "cell_type": "markdown",
   "metadata": {},
   "source": [
    "## Further materials"
   ]
  },
  {
   "cell_type": "markdown",
   "metadata": {},
   "source": [
    "- [5 Simple-To-Use APIs for Beginners](https://dev.to/alanconstantino/5-simple-to-use-apis-for-beginners-2e0n)\n",
    "- [RapidAPI](https://rapidapi.com/category/Sports): access thousands of APIs!!\n",
    "- [muchasapis](https://github.com/public-apis/public-apis)"
   ]
  }
 ],
 "metadata": {
  "kernelspec": {
   "display_name": "Python 3",
   "language": "python",
   "name": "python3"
  },
  "language_info": {
   "codemirror_mode": {
    "name": "ipython",
    "version": 3
   },
   "file_extension": ".py",
   "mimetype": "text/x-python",
   "name": "python",
   "nbconvert_exporter": "python",
   "pygments_lexer": "ipython3",
   "version": "3.8.5"
  },
  "toc": {
   "base_numbering": 1,
   "nav_menu": {},
   "number_sections": true,
   "sideBar": true,
   "skip_h1_title": true,
   "title_cell": "Table of Contents",
   "title_sidebar": "Contents",
   "toc_cell": true,
   "toc_position": {},
   "toc_section_display": true,
   "toc_window_display": false
  }
 },
 "nbformat": 4,
 "nbformat_minor": 5
}

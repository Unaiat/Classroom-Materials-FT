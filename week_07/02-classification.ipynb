{
 "cells": [
  {
   "cell_type": "markdown",
   "metadata": {},
   "source": [
    "# Classification"
   ]
  },
  {
   "cell_type": "markdown",
   "metadata": {
    "toc": true
   },
   "source": [
    "<h1>Table of Contents<span class=\"tocSkip\"></span></h1>\n",
    "<div class=\"toc\"><ul class=\"toc-item\"><li><span><a href=\"#Data-exploration\" data-toc-modified-id=\"Data-exploration-1\"><span class=\"toc-item-num\">1&nbsp;&nbsp;</span>Data exploration</a></span></li><li><span><a href=\"#Logistic-regression\" data-toc-modified-id=\"Logistic-regression-2\"><span class=\"toc-item-num\">2&nbsp;&nbsp;</span>Logistic regression</a></span><ul class=\"toc-item\"><li><span><a href=\"#1-predictor\" data-toc-modified-id=\"1-predictor-2.1\"><span class=\"toc-item-num\">2.1&nbsp;&nbsp;</span>1 predictor</a></span><ul class=\"toc-item\"><li><span><a href=\"#Model\" data-toc-modified-id=\"Model-2.1.1\"><span class=\"toc-item-num\">2.1.1&nbsp;&nbsp;</span>Model</a></span></li><li><span><a href=\"#Accuracy-score\" data-toc-modified-id=\"Accuracy-score-2.1.2\"><span class=\"toc-item-num\">2.1.2&nbsp;&nbsp;</span>Accuracy score</a></span></li></ul></li><li><span><a href=\"#Many-predictors\" data-toc-modified-id=\"Many-predictors-2.2\"><span class=\"toc-item-num\">2.2&nbsp;&nbsp;</span>Many predictors</a></span><ul class=\"toc-item\"><li><span><a href=\"#Model\" data-toc-modified-id=\"Model-2.2.1\"><span class=\"toc-item-num\">2.2.1&nbsp;&nbsp;</span>Model</a></span></li><li><span><a href=\"#Accuracy-score\" data-toc-modified-id=\"Accuracy-score-2.2.2\"><span class=\"toc-item-num\">2.2.2&nbsp;&nbsp;</span>Accuracy score</a></span></li><li><span><a href=\"#predict_proba\" data-toc-modified-id=\"predict_proba-2.2.3\"><span class=\"toc-item-num\">2.2.3&nbsp;&nbsp;</span><code>predict_proba</code></a></span></li><li><span><a href=\"#Setting-threshold-manually\" data-toc-modified-id=\"Setting-threshold-manually-2.2.4\"><span class=\"toc-item-num\">2.2.4&nbsp;&nbsp;</span>Setting threshold manually</a></span></li></ul></li><li><span><a href=\"#Under-the-hood\" data-toc-modified-id=\"Under-the-hood-2.3\"><span class=\"toc-item-num\">2.3&nbsp;&nbsp;</span>Under the hood</a></span></li></ul></li><li><span><a href=\"#Metrics\" data-toc-modified-id=\"Metrics-3\"><span class=\"toc-item-num\">3&nbsp;&nbsp;</span>Metrics</a></span><ul class=\"toc-item\"><li><span><a href=\"#Accuracy\" data-toc-modified-id=\"Accuracy-3.1\"><span class=\"toc-item-num\">3.1&nbsp;&nbsp;</span>Accuracy</a></span></li><li><span><a href=\"#Recall\" data-toc-modified-id=\"Recall-3.2\"><span class=\"toc-item-num\">3.2&nbsp;&nbsp;</span>Recall</a></span></li><li><span><a href=\"#Precision\" data-toc-modified-id=\"Precision-3.3\"><span class=\"toc-item-num\">3.3&nbsp;&nbsp;</span>Precision</a></span></li><li><span><a href=\"#F1-score\" data-toc-modified-id=\"F1-score-3.4\"><span class=\"toc-item-num\">3.4&nbsp;&nbsp;</span>F1 score</a></span></li><li><span><a href=\"#F_beta-score\" data-toc-modified-id=\"F_beta-score-3.5\"><span class=\"toc-item-num\">3.5&nbsp;&nbsp;</span>F_beta score</a></span></li></ul></li><li><span><a href=\"#Choosing-the-best-threshold\" data-toc-modified-id=\"Choosing-the-best-threshold-4\"><span class=\"toc-item-num\">4&nbsp;&nbsp;</span>Choosing the best threshold</a></span></li><li><span><a href=\"#Summary\" data-toc-modified-id=\"Summary-5\"><span class=\"toc-item-num\">5&nbsp;&nbsp;</span>Summary</a></span></li><li><span><a href=\"#Further-materials\" data-toc-modified-id=\"Further-materials-6\"><span class=\"toc-item-num\">6&nbsp;&nbsp;</span>Further materials</a></span></li></ul></div>"
   ]
  },
  {
   "cell_type": "markdown",
   "metadata": {},
   "source": [
    "As an introductory notebook, I am not using train and test split for metric evaluation  \n",
    "But you should always do!"
   ]
  },
  {
   "cell_type": "code",
<<<<<<< HEAD
   "execution_count": 31,
=======
   "execution_count": 1,
>>>>>>> a282d9ababe32ff030c47b1a9ec33bc3f0a40288
   "metadata": {},
   "outputs": [],
   "source": [
    "import pandas as pd\n",
    "import numpy as np\n",
    "import seaborn as sns"
   ]
  },
  {
   "cell_type": "markdown",
   "metadata": {},
   "source": [
    " * Regression models are used when the target variable is **quantitative**: \n",
    "  - salaries\n",
    "  - gas emissions\n",
    "  - age of person in a picture\n",
    "  - ...\n",
    " * **Classification** models are used when the target variable is **qualitative**: \n",
    "  - surviving (or not) the Titanic\n",
    "  - paying back (or not) a loan\n",
    "  - identifying a dog (or not) in a picture\n",
    "  - deciding which one of 3 plant species is this one\n",
    "  - ..."
   ]
  },
  {
   "cell_type": "markdown",
   "metadata": {},
   "source": [
    "Metrics are specially important in classification problems!\n",
    "\n",
    "You must understand the business goal in order to choose the appropiate metric."
   ]
  },
  {
   "cell_type": "markdown",
   "metadata": {},
   "source": [
    "## Data exploration"
   ]
  },
  {
   "cell_type": "code",
   "execution_count": 2,
   "metadata": {},
   "outputs": [],
   "source": [
    "df = pd.read_csv(\"../datasets/breast_cancer.csv\")"
   ]
  },
  {
   "cell_type": "code",
   "execution_count": 3,
   "metadata": {},
   "outputs": [
    {
     "data": {
      "text/plain": [
       "(569, 31)"
      ]
     },
     "execution_count": 3,
     "metadata": {},
     "output_type": "execute_result"
    }
   ],
   "source": [
    "df.shape"
   ]
  },
  {
   "cell_type": "code",
<<<<<<< HEAD
   "execution_count": 4,
=======
   "execution_count": 5,
>>>>>>> a282d9ababe32ff030c47b1a9ec33bc3f0a40288
   "metadata": {},
   "outputs": [
    {
     "data": {
      "text/html": [
       "<div>\n",
       "<style scoped>\n",
       "    .dataframe tbody tr th:only-of-type {\n",
       "        vertical-align: middle;\n",
       "    }\n",
       "\n",
       "    .dataframe tbody tr th {\n",
       "        vertical-align: top;\n",
       "    }\n",
       "\n",
       "    .dataframe thead th {\n",
       "        text-align: right;\n",
       "    }\n",
       "</style>\n",
       "<table border=\"1\" class=\"dataframe\">\n",
       "  <thead>\n",
       "    <tr style=\"text-align: right;\">\n",
       "      <th></th>\n",
       "      <th>mean_radius</th>\n",
       "      <th>mean_texture</th>\n",
       "      <th>mean_perimeter</th>\n",
       "      <th>mean_area</th>\n",
       "      <th>mean_smoothness</th>\n",
       "      <th>mean_compactness</th>\n",
       "      <th>mean_concavity</th>\n",
       "      <th>mean_concave_points</th>\n",
       "      <th>mean_symmetry</th>\n",
       "      <th>mean_fractal_dimension</th>\n",
       "      <th>...</th>\n",
       "      <th>worst_texture</th>\n",
       "      <th>worst_perimeter</th>\n",
       "      <th>worst_area</th>\n",
       "      <th>worst_smoothness</th>\n",
       "      <th>worst_compactness</th>\n",
       "      <th>worst_concavity</th>\n",
       "      <th>worst_concave_points</th>\n",
       "      <th>worst_symmetry</th>\n",
       "      <th>worst_fractal_dimension</th>\n",
       "      <th>is_cancer</th>\n",
       "    </tr>\n",
       "  </thead>\n",
       "  <tbody>\n",
       "    <tr>\n",
<<<<<<< HEAD
       "      <th>0</th>\n",
       "      <td>17.99</td>\n",
       "      <td>10.38</td>\n",
       "      <td>122.80</td>\n",
       "      <td>1001.0</td>\n",
       "      <td>0.11840</td>\n",
       "      <td>0.27760</td>\n",
       "      <td>0.3001</td>\n",
       "      <td>0.14710</td>\n",
       "      <td>0.2419</td>\n",
       "      <td>0.07871</td>\n",
       "      <td>...</td>\n",
       "      <td>17.33</td>\n",
       "      <td>184.60</td>\n",
       "      <td>2019.0</td>\n",
       "      <td>0.1622</td>\n",
       "      <td>0.6656</td>\n",
       "      <td>0.7119</td>\n",
       "      <td>0.2654</td>\n",
       "      <td>0.4601</td>\n",
       "      <td>0.11890</td>\n",
       "      <td>1</td>\n",
       "    </tr>\n",
       "    <tr>\n",
       "      <th>1</th>\n",
       "      <td>20.57</td>\n",
       "      <td>17.77</td>\n",
       "      <td>132.90</td>\n",
       "      <td>1326.0</td>\n",
       "      <td>0.08474</td>\n",
       "      <td>0.07864</td>\n",
       "      <td>0.0869</td>\n",
       "      <td>0.07017</td>\n",
       "      <td>0.1812</td>\n",
       "      <td>0.05667</td>\n",
       "      <td>...</td>\n",
       "      <td>23.41</td>\n",
       "      <td>158.80</td>\n",
       "      <td>1956.0</td>\n",
       "      <td>0.1238</td>\n",
       "      <td>0.1866</td>\n",
       "      <td>0.2416</td>\n",
       "      <td>0.1860</td>\n",
       "      <td>0.2750</td>\n",
       "      <td>0.08902</td>\n",
       "      <td>1</td>\n",
       "    </tr>\n",
       "    <tr>\n",
       "      <th>2</th>\n",
       "      <td>19.69</td>\n",
       "      <td>21.25</td>\n",
       "      <td>130.00</td>\n",
       "      <td>1203.0</td>\n",
       "      <td>0.10960</td>\n",
       "      <td>0.15990</td>\n",
       "      <td>0.1974</td>\n",
       "      <td>0.12790</td>\n",
       "      <td>0.2069</td>\n",
       "      <td>0.05999</td>\n",
       "      <td>...</td>\n",
       "      <td>25.53</td>\n",
       "      <td>152.50</td>\n",
       "      <td>1709.0</td>\n",
       "      <td>0.1444</td>\n",
       "      <td>0.4245</td>\n",
       "      <td>0.4504</td>\n",
       "      <td>0.2430</td>\n",
       "      <td>0.3613</td>\n",
       "      <td>0.08758</td>\n",
       "      <td>1</td>\n",
       "    </tr>\n",
       "    <tr>\n",
       "      <th>3</th>\n",
       "      <td>11.42</td>\n",
       "      <td>20.38</td>\n",
       "      <td>77.58</td>\n",
       "      <td>386.1</td>\n",
       "      <td>0.14250</td>\n",
       "      <td>0.28390</td>\n",
       "      <td>0.2414</td>\n",
       "      <td>0.10520</td>\n",
       "      <td>0.2597</td>\n",
       "      <td>0.09744</td>\n",
       "      <td>...</td>\n",
       "      <td>26.50</td>\n",
       "      <td>98.87</td>\n",
       "      <td>567.7</td>\n",
       "      <td>0.2098</td>\n",
       "      <td>0.8663</td>\n",
       "      <td>0.6869</td>\n",
       "      <td>0.2575</td>\n",
       "      <td>0.6638</td>\n",
       "      <td>0.17300</td>\n",
       "      <td>1</td>\n",
       "    </tr>\n",
       "    <tr>\n",
       "      <th>4</th>\n",
       "      <td>20.29</td>\n",
       "      <td>14.34</td>\n",
       "      <td>135.10</td>\n",
       "      <td>1297.0</td>\n",
       "      <td>0.10030</td>\n",
       "      <td>0.13280</td>\n",
       "      <td>0.1980</td>\n",
       "      <td>0.10430</td>\n",
       "      <td>0.1809</td>\n",
       "      <td>0.05883</td>\n",
       "      <td>...</td>\n",
       "      <td>16.67</td>\n",
       "      <td>152.20</td>\n",
       "      <td>1575.0</td>\n",
       "      <td>0.1374</td>\n",
       "      <td>0.2050</td>\n",
       "      <td>0.4000</td>\n",
       "      <td>0.1625</td>\n",
       "      <td>0.2364</td>\n",
       "      <td>0.07678</td>\n",
       "      <td>1</td>\n",
=======
       "      <th>256</th>\n",
       "      <td>19.55</td>\n",
       "      <td>28.77</td>\n",
       "      <td>133.60</td>\n",
       "      <td>1207.0</td>\n",
       "      <td>0.09260</td>\n",
       "      <td>0.20630</td>\n",
       "      <td>0.17840</td>\n",
       "      <td>0.11440</td>\n",
       "      <td>0.1893</td>\n",
       "      <td>0.06232</td>\n",
       "      <td>...</td>\n",
       "      <td>36.27</td>\n",
       "      <td>178.60</td>\n",
       "      <td>1926.0</td>\n",
       "      <td>0.1281</td>\n",
       "      <td>0.53290</td>\n",
       "      <td>0.42510</td>\n",
       "      <td>0.19410</td>\n",
       "      <td>0.2818</td>\n",
       "      <td>0.10050</td>\n",
       "      <td>1</td>\n",
       "    </tr>\n",
       "    <tr>\n",
       "      <th>52</th>\n",
       "      <td>11.94</td>\n",
       "      <td>18.24</td>\n",
       "      <td>75.71</td>\n",
       "      <td>437.6</td>\n",
       "      <td>0.08261</td>\n",
       "      <td>0.04751</td>\n",
       "      <td>0.01972</td>\n",
       "      <td>0.01349</td>\n",
       "      <td>0.1868</td>\n",
       "      <td>0.06110</td>\n",
       "      <td>...</td>\n",
       "      <td>21.33</td>\n",
       "      <td>83.67</td>\n",
       "      <td>527.2</td>\n",
       "      <td>0.1144</td>\n",
       "      <td>0.08906</td>\n",
       "      <td>0.09203</td>\n",
       "      <td>0.06296</td>\n",
       "      <td>0.2785</td>\n",
       "      <td>0.07408</td>\n",
       "      <td>0</td>\n",
       "    </tr>\n",
       "    <tr>\n",
       "      <th>353</th>\n",
       "      <td>15.08</td>\n",
       "      <td>25.74</td>\n",
       "      <td>98.00</td>\n",
       "      <td>716.6</td>\n",
       "      <td>0.10240</td>\n",
       "      <td>0.09769</td>\n",
       "      <td>0.12350</td>\n",
       "      <td>0.06553</td>\n",
       "      <td>0.1647</td>\n",
       "      <td>0.06464</td>\n",
       "      <td>...</td>\n",
       "      <td>33.22</td>\n",
       "      <td>121.20</td>\n",
       "      <td>1050.0</td>\n",
       "      <td>0.1660</td>\n",
       "      <td>0.23560</td>\n",
       "      <td>0.40290</td>\n",
       "      <td>0.15260</td>\n",
       "      <td>0.2654</td>\n",
       "      <td>0.09438</td>\n",
       "      <td>1</td>\n",
       "    </tr>\n",
       "    <tr>\n",
       "      <th>390</th>\n",
       "      <td>10.26</td>\n",
       "      <td>12.22</td>\n",
       "      <td>65.75</td>\n",
       "      <td>321.6</td>\n",
       "      <td>0.09996</td>\n",
       "      <td>0.07542</td>\n",
       "      <td>0.01923</td>\n",
       "      <td>0.01968</td>\n",
       "      <td>0.1800</td>\n",
       "      <td>0.06569</td>\n",
       "      <td>...</td>\n",
       "      <td>15.65</td>\n",
       "      <td>73.23</td>\n",
       "      <td>394.5</td>\n",
       "      <td>0.1343</td>\n",
       "      <td>0.16500</td>\n",
       "      <td>0.08615</td>\n",
       "      <td>0.06696</td>\n",
       "      <td>0.2937</td>\n",
       "      <td>0.07722</td>\n",
       "      <td>0</td>\n",
       "    </tr>\n",
       "    <tr>\n",
       "      <th>81</th>\n",
       "      <td>13.34</td>\n",
       "      <td>15.86</td>\n",
       "      <td>86.49</td>\n",
       "      <td>520.0</td>\n",
       "      <td>0.10780</td>\n",
       "      <td>0.15350</td>\n",
       "      <td>0.11690</td>\n",
       "      <td>0.06987</td>\n",
       "      <td>0.1942</td>\n",
       "      <td>0.06902</td>\n",
       "      <td>...</td>\n",
       "      <td>23.19</td>\n",
       "      <td>96.66</td>\n",
       "      <td>614.9</td>\n",
       "      <td>0.1536</td>\n",
       "      <td>0.47910</td>\n",
       "      <td>0.48580</td>\n",
       "      <td>0.17080</td>\n",
       "      <td>0.3527</td>\n",
       "      <td>0.10160</td>\n",
       "      <td>0</td>\n",
>>>>>>> a282d9ababe32ff030c47b1a9ec33bc3f0a40288
       "    </tr>\n",
       "  </tbody>\n",
       "</table>\n",
       "<p>5 rows × 31 columns</p>\n",
       "</div>"
      ],
      "text/plain": [
<<<<<<< HEAD
       "   mean_radius  mean_texture  mean_perimeter  mean_area  mean_smoothness  \\\n",
       "0        17.99         10.38          122.80     1001.0          0.11840   \n",
       "1        20.57         17.77          132.90     1326.0          0.08474   \n",
       "2        19.69         21.25          130.00     1203.0          0.10960   \n",
       "3        11.42         20.38           77.58      386.1          0.14250   \n",
       "4        20.29         14.34          135.10     1297.0          0.10030   \n",
       "\n",
       "   mean_compactness  mean_concavity  mean_concave_points  mean_symmetry  \\\n",
       "0           0.27760          0.3001              0.14710         0.2419   \n",
       "1           0.07864          0.0869              0.07017         0.1812   \n",
       "2           0.15990          0.1974              0.12790         0.2069   \n",
       "3           0.28390          0.2414              0.10520         0.2597   \n",
       "4           0.13280          0.1980              0.10430         0.1809   \n",
       "\n",
       "   mean_fractal_dimension  ...  worst_texture  worst_perimeter  worst_area  \\\n",
       "0                 0.07871  ...          17.33           184.60      2019.0   \n",
       "1                 0.05667  ...          23.41           158.80      1956.0   \n",
       "2                 0.05999  ...          25.53           152.50      1709.0   \n",
       "3                 0.09744  ...          26.50            98.87       567.7   \n",
       "4                 0.05883  ...          16.67           152.20      1575.0   \n",
       "\n",
       "   worst_smoothness  worst_compactness  worst_concavity  worst_concave_points  \\\n",
       "0            0.1622             0.6656           0.7119                0.2654   \n",
       "1            0.1238             0.1866           0.2416                0.1860   \n",
       "2            0.1444             0.4245           0.4504                0.2430   \n",
       "3            0.2098             0.8663           0.6869                0.2575   \n",
       "4            0.1374             0.2050           0.4000                0.1625   \n",
       "\n",
       "   worst_symmetry  worst_fractal_dimension  is_cancer  \n",
       "0          0.4601                  0.11890          1  \n",
       "1          0.2750                  0.08902          1  \n",
       "2          0.3613                  0.08758          1  \n",
       "3          0.6638                  0.17300          1  \n",
       "4          0.2364                  0.07678          1  \n",
=======
       "     mean_radius  mean_texture  mean_perimeter  mean_area  mean_smoothness  \\\n",
       "256        19.55         28.77          133.60     1207.0          0.09260   \n",
       "52         11.94         18.24           75.71      437.6          0.08261   \n",
       "353        15.08         25.74           98.00      716.6          0.10240   \n",
       "390        10.26         12.22           65.75      321.6          0.09996   \n",
       "81         13.34         15.86           86.49      520.0          0.10780   \n",
       "\n",
       "     mean_compactness  mean_concavity  mean_concave_points  mean_symmetry  \\\n",
       "256           0.20630         0.17840              0.11440         0.1893   \n",
       "52            0.04751         0.01972              0.01349         0.1868   \n",
       "353           0.09769         0.12350              0.06553         0.1647   \n",
       "390           0.07542         0.01923              0.01968         0.1800   \n",
       "81            0.15350         0.11690              0.06987         0.1942   \n",
       "\n",
       "     mean_fractal_dimension  ...  worst_texture  worst_perimeter  worst_area  \\\n",
       "256                 0.06232  ...          36.27           178.60      1926.0   \n",
       "52                  0.06110  ...          21.33            83.67       527.2   \n",
       "353                 0.06464  ...          33.22           121.20      1050.0   \n",
       "390                 0.06569  ...          15.65            73.23       394.5   \n",
       "81                  0.06902  ...          23.19            96.66       614.9   \n",
       "\n",
       "     worst_smoothness  worst_compactness  worst_concavity  \\\n",
       "256            0.1281            0.53290          0.42510   \n",
       "52             0.1144            0.08906          0.09203   \n",
       "353            0.1660            0.23560          0.40290   \n",
       "390            0.1343            0.16500          0.08615   \n",
       "81             0.1536            0.47910          0.48580   \n",
       "\n",
       "     worst_concave_points  worst_symmetry  worst_fractal_dimension  is_cancer  \n",
       "256               0.19410          0.2818                  0.10050          1  \n",
       "52                0.06296          0.2785                  0.07408          0  \n",
       "353               0.15260          0.2654                  0.09438          1  \n",
       "390               0.06696          0.2937                  0.07722          0  \n",
       "81                0.17080          0.3527                  0.10160          0  \n",
>>>>>>> a282d9ababe32ff030c47b1a9ec33bc3f0a40288
       "\n",
       "[5 rows x 31 columns]"
      ]
     },
<<<<<<< HEAD
     "execution_count": 4,
=======
     "execution_count": 5,
>>>>>>> a282d9ababe32ff030c47b1a9ec33bc3f0a40288
     "metadata": {},
     "output_type": "execute_result"
    }
   ],
   "source": [
<<<<<<< HEAD
    "df.head()"
=======
    "df.sample(5)"
>>>>>>> a282d9ababe32ff030c47b1a9ec33bc3f0a40288
   ]
  },
  {
   "cell_type": "code",
<<<<<<< HEAD
   "execution_count": 5,
=======
   "execution_count": 6,
>>>>>>> a282d9ababe32ff030c47b1a9ec33bc3f0a40288
   "metadata": {},
   "outputs": [
    {
     "data": {
      "text/plain": [
       "Index(['mean_radius', 'mean_texture', 'mean_perimeter', 'mean_area',\n",
       "       'mean_smoothness', 'mean_compactness', 'mean_concavity',\n",
       "       'mean_concave_points', 'mean_symmetry', 'mean_fractal_dimension',\n",
       "       'radius_error', 'texture_error', 'perimeter_error', 'area_error',\n",
       "       'smoothness_error', 'compactness_error', 'concavity_error',\n",
       "       'concave_points_error', 'symmetry_error', 'fractal_dimension_error',\n",
       "       'worst_radius', 'worst_texture', 'worst_perimeter', 'worst_area',\n",
       "       'worst_smoothness', 'worst_compactness', 'worst_concavity',\n",
       "       'worst_concave_points', 'worst_symmetry', 'worst_fractal_dimension',\n",
       "       'is_cancer'],\n",
       "      dtype='object')"
      ]
     },
<<<<<<< HEAD
     "execution_count": 5,
=======
     "execution_count": 6,
>>>>>>> a282d9ababe32ff030c47b1a9ec33bc3f0a40288
     "metadata": {},
     "output_type": "execute_result"
    }
   ],
   "source": [
    "df.columns"
   ]
  },
  {
   "cell_type": "markdown",
   "metadata": {},
   "source": [
    "Documentation:  \n",
    "a) radius (mean of distances from center to points on the perimeter)  \n",
    "b) texture (standard deviation of gray-scale values)  \n",
    "c) perimeter  \n",
    "d) area  \n",
    "e) smoothness (local variation in radius lengths)  \n",
    "f) compactness (perimeter^2 / area - 1.0)  \n",
    "g) concavity (severity of concave portions of the contour)  \n",
    "h) concave points (number of concave portions of the contour)  \n",
    "i) symmetry  \n",
    "j) fractal dimension (\"coastline approximation\" - 1)  "
   ]
  },
  {
   "cell_type": "markdown",
   "metadata": {},
   "source": [
    "Target variable is `is_cancer`  \n",
    "It is a categorical variable, taking possible values $0$ and $1$"
   ]
  },
  {
   "cell_type": "code",
<<<<<<< HEAD
   "execution_count": 6,
   "metadata": {},
   "outputs": [
    {
     "data": {
      "text/plain": [
       "73     1\n",
       "425    0\n",
       "457    0\n",
       "282    1\n",
       "125    0\n",
       "70     1\n",
       "304    0\n",
       "482    0\n",
       "141    1\n",
       "246    0\n",
       "Name: is_cancer, dtype: int64"
      ]
     },
     "execution_count": 6,
     "metadata": {},
     "output_type": "execute_result"
    }
   ],
   "source": [
    "df.is_cancer.sample(10)"
   ]
  },
  {
   "cell_type": "code",
=======
>>>>>>> a282d9ababe32ff030c47b1a9ec33bc3f0a40288
   "execution_count": 7,
   "metadata": {},
   "outputs": [
    {
     "data": {
      "text/plain": [
       "<AxesSubplot:xlabel='is_cancer', ylabel='count'>"
      ]
     },
     "execution_count": 7,
     "metadata": {},
     "output_type": "execute_result"
    },
    {
     "data": {
<<<<<<< HEAD
      "image/png": "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\n",
=======
      "image/png": "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\n",
>>>>>>> a282d9ababe32ff030c47b1a9ec33bc3f0a40288
      "text/plain": [
       "<Figure size 432x288 with 1 Axes>"
      ]
     },
     "metadata": {
      "needs_background": "light"
     },
     "output_type": "display_data"
    }
   ],
   "source": [
    "sns.countplot(x=df.is_cancer)"
   ]
  },
  {
   "cell_type": "markdown",
   "metadata": {},
   "source": [
    "## Logistic regression"
   ]
  },
  {
   "cell_type": "markdown",
   "metadata": {},
   "source": [
    "Logistic regression is the most well known"
   ]
  },
  {
   "cell_type": "markdown",
   "metadata": {},
   "source": [
    "### 1 predictor"
   ]
  },
  {
   "cell_type": "markdown",
   "metadata": {},
   "source": [
    "#### Model"
   ]
  },
  {
   "cell_type": "markdown",
   "metadata": {},
   "source": [
    "Lets try to predict `is_cancer` using only as a predictor `mean_radius`"
   ]
  },
  {
   "cell_type": "code",
   "execution_count": 8,
   "metadata": {},
   "outputs": [
    {
     "data": {
      "text/plain": [
       "<AxesSubplot:xlabel='mean_radius', ylabel='is_cancer'>"
      ]
     },
     "execution_count": 8,
     "metadata": {},
     "output_type": "execute_result"
    },
    {
     "data": {
<<<<<<< HEAD
      "image/png": "iVBORw0KGgoAAAANSUhEUgAAAYMAAAEHCAYAAABMRSrcAAAAOXRFWHRTb2Z0d2FyZQBNYXRwbG90bGliIHZlcnNpb24zLjMuMiwgaHR0cHM6Ly9tYXRwbG90bGliLm9yZy8vihELAAAACXBIWXMAAAsTAAALEwEAmpwYAAAhu0lEQVR4nO3df5xcdX3v8ddnfu/O/kiy2YSQEEJgEdkYom7RWmuRgAYLCa2Cv1or9V4u90JJobeFthbKj3tb2xoLhcKl1gpeFVG8NlCFCkqtIrdsMEBWhMRAYn5vfpD9Ob8//WNmlpnZmd0dkskm5P18PPaROd/v93zP53zPyX72nPnOHHN3RETk+BaY7gBERGT6KRmIiIiSgYiIKBmIiAhKBiIiAoSmO4DXY/bs2b5o0aLpDkNE5Jiybt26ve7eWa3umEwGixYtore3d7rDEBE5ppjZllp1uk0kIiJKBiIiomQgIiIoGYiICEoGIiJCg2cTmdkXgAuBPe6+pEq9AbcBHwBGgE+6+zONjOmNLJdzXtk3zL7hJJFggJFUlrltMRZ1xAF4Zd8wuwcSZWWb+4d4ed8wsXCQmc1hzpjbRigUKOuztM3sljDhQJADoymawkGGk1mGkxlmt0YJBmAkmWX3YJK5rVFam4IMjmbZPZBkbluUWDjI7sEEJ7TFGE5m2TecZHZLlKFEmo6WGO1NQbYdSDCYyDCnLUrOncFEmtZomP0jKTqaI8QiAUZSOfYMJjmxPYY7vDqaojkSYiiRoSUWpDkSYufBBM2RIC3REMlMhmAgyL6hJB0tUea1R+gfTLN7MMmc1gjuRv9gktZYiFnxMMlMjoAZewaTNIWDhALQEgtz6qw4m/YNM5TMsH84RWdrlHDA2DGQoCMeoSkUIJV1Do6maY2FSWWynNDWRI4sr45k2TOYH4d4JEj/UILmSJj9wylmxSMMjKZpbwoTCRrJbI5UxhlKZuhsiTKSTtMWDZPMOLsHk5w0M0YgYIyksgyMZmiNhUhkMsRCQSLBAJmcMzCaYVFHnGjE2HUwyZ6BJLNbIzSFg2SyObLu5BzSGWcknaEjHqWzNcLBkTQ7DiY4sb2JQAC27h9hdkuUE9qjpDOwfyRJNBhg71CKWDhAKGQECdDREmHBjGa2HhgZO8cWzixfXtQRJxCwCc/d3QMJmiMhXh1JEggExs63/qFkXX2Utq1VPtl6k9Udjv+ruwcSzGuPkc3BnsGJt9GoWIoaPbX0i8AdwH016i8Augo/7wDuKvwrdcrlnEf6dvGZR17gwz0Luf17G0mkc8TCAdZcuoxIyLjqKz8ZK7vjY28lmXb+4Ovrx8pWL+/i5b3DXNA9j1AoQC7nfGfDrrI2N17UzYPrtnLR0vmMpLPc9vhr27ll1RLu+P5Gtuwbpefkdi7tWcgNa/vG6m9a2c2M5hB9Owa4saT86nO7+N7PNnFJz8Ky8j98/5sImfEXj+TjPrmjiSvPOY0b1vYxsznCJ375ZO5/euu4/V29vIv7fryFAyMpVi/v4sQZMb7041fo3XKQWDjAzSuXcOcTG0llnMt+ZRFrvvvS2Lp/csEZNEVC/Nk/byjrb0ZTiP7BBLsGUtz0UN+4bUVCxv8457Rx+3Xb4y+NG4fPfPAt7B9O85lHflLW9mu9W7nqvV2MpjL87+/8bKzu5lXdHAhn+KNvPMfM5gj//dcWk845f/3oixVjuIsPvn3hWHyl41V2DJpC7B5IMpwqP343r+zmzic2sWXf6LhxvGllN1/v3cr5Z87jc4+9VLb/8UiQWDhAb+AAn/7Wa+N268VL+LvvbRzrb82ly1jRfcK4X2DFc/faB9ZPuD/19rHm0mW8781z+dcXdo8rL/ZRa70V3ScA1Kw7lF/Cpdssnselx6HaNiaK83AlBGv0V1ib2SLg4RpXBv8HeMLdv1pYfhE4x913TtRnT0+P63MG5Tb3D/GB2/+dT717Mf/4w80k0rmxulg4wOXvWcztj28aK7t6+Wnc84Pq7ZafMYezTpo51mdlm7/60Fls2jNYdf1PvXsxd35/E7d/9K380TeeHVf/T5/8JS774tNV+6zWvjTuK9972ti+FV/X2t9iHMU+TpvTytVf/UlZPTBu3YnGpefkmVz+pXVVt1Wtr1r7VWsbxX2pPFal43Dle08jGKDq+pXbKh2v0nZ/86GzeGmS41dtHCc6RqfPaeV/Vqmr7O/bV/8qiztbKDXReVZte/X08bXL38mH73mqZh+11vv21b8KULOucvv1KN1mrWNUuY2J4qwnFjNb5+491eqm+z2D+cAvSpa3FcrGMbPLzazXzHr7+/uPSHDHkt0DCRLpHGaUnTCQX85V5Pyc126362CirM/KNqOpTM31rfBHymgyU7W+fyhZvc8a7UvjLt234uta+1uMo9jHaCozrr7auhONy4HhdM1t1Yqj2n5NNHbVjlVpmVnt9Su3VSum4Skcv8rlyY7RcKp6XWV/ewYTVJroPKtWXk8fOw9WLy/2UWu9PYOJCesORWm/tY5R5TYaFUup6U4G1a5vql6quPs97t7j7j2dnVU/TX1cm9sWIxbOH87iv0WxcIDKK8mg1W53QntsXJ+lbZojoZrrFy80m6OhqvWdLdHqfdZoXxl3aZuJ9rcYR7GPpkioZn2picZlZjw86bamsl8TjV2tfS4tq7V+rTGsXI5P4fhV27eJjlE8Ur2usr85rTEqTXSeVSuvp4957U0T9lFrvTmtsQnrDkVlv1PZRqNiKTXdyWAbcFLJ8gJgxzTFckxb1BFnzaXLeOjZ7Vx9blfZL8o1ly5j6YL2srK3LGjns5csKytbvbyLrjktdM9rH+uzss2NF3Vz75ObmdUcYfXy8u3csmoJDz+3HYB7n9zMzSu7y+pvWtnNQCJ//7m0/Opzu7j3yc3jyv/w/W/Kv2lcKHvo2e1jfT64bhurl3dV3d/Vy7v45jPbxl6f2hnnvic3j9XfvDIf54PrtnHt+aeXrdsRj3DLqiXj+pvXFiWby3HjRd1Vt/XQs9tr7lflOCzujHPdijPGtX34ue3csmoJs+ORsrqbV3Vz2pyWsf3uiEf4w/e/qeq2SuMrHa/SYxAOQkd8/PG7eWX32PGrHMebVuaP+zXnnT5u/2fHI4yk0tx6cfm43XrxkrL+1ly6bGziQrVzd7L9qbePNZcuo3teW9XyYh+11lvUEZ+w7lCU9ls8jyfbRqNiKTXd7xn8OnAV+dlE7wBud/ezJ+tT7xlUV5xtsH84SbjGbKI9gwnmtB76bKJXR1PECrOJRlIZOuIRQkFjuNpsosJyzdlEyTQdzVHam0OvzSZqjZIjP5uoJRrm1ZEUM5sjNJXOJmqL4cCriRTN4fxsongsSDwcYtdAkqZIgJZoiFQ2Q4Ag+0aSdMRfm020ZzBJZ0sE57XZRDPjYdKZHGb5slg4SDAArdEwp3ZUn020cyDBzOYIzeEAyawzUJhNlM5mmdv62myi/sEkc1qjxKOF2UThMAdG8/s1kEjTHiufTTSczNLREmG0ZDbRnsEk82fECAbzs4kGRzO0xEIkM1kiwQDRUI3ZRINJOuIRmsNBMrn8bCJ3SGWd0WSWWS2RsdlEOw8mOKE9RjBg+dlE8SgnzMjPJjowkp+ptncoRTQcIBQ0QlY+m6h4jhVnE5Wec1OZCdQUDnJwNFU2m2jvcHLKfVRur1b5ZOtNVnc4/q/uKfx/yOagf2jibRyOWCZ6z6ChycDMvgqcA8wGdgM3AmEAd7+7MLX0DmAF+amll7n7pL/llQxEROo3UTJo6NRSd//oJPUOXNnIGEREZHLT/Z6BiIgcBZQMREREyUBERJQMREQEJQMREUHJQEREUDIQERGUDEREBCUDERFByUBERFAyEBERlAxERAQlAxERQclARERQMhAREZQMREQEJQMREUHJQEREUDIQERGUDEREBCUDERFByUBERFAyEBERlAxERAQlAxERQclARERQMhAREZQMREQEJQMREUHJQEREUDIQERGOQDIwsxVm9qKZbTKz66vUt5vZQ2b2rJn1mdlljY5JRETKNTQZmFkQuBO4ADgT+KiZnVnR7Ergp+5+FnAO8FkzizQyLhERKdfoK4OzgU3uvtndU8D9wKqKNg60mpkBLcB+INPguEREpESjk8F84Bcly9sKZaXuAN4M7ACeB1a7e66yIzO73Mx6zay3v7+/UfGKiByXGp0MrEqZVyy/H1gPnAgsA+4ws7ZxK7nf4+497t7T2dl5uOMUETmuNToZbANOKlleQP4KoNRlwDc9bxPwMnBGg+MSEZESjU4GTwNdZnZK4U3hjwBrK9psBZYDmNlc4E3A5gbHJSIiJUKN7NzdM2Z2FfAoEAS+4O59ZnZFof5u4Bbgi2b2PPnbSte5+95GxiUiIuUamgwA3P3bwLcryu4ueb0DeF+j4xARkdr0CWQREVEyEBERJQMREUHJQEREUDIQERGUDEREBCUDERFByUBERFAyEBERlAxERAQlAxERQclARERQMhAREZQMREQEJQMREUHJQEREUDIQERGUDEREBCUDERFByUBERFAyEBERlAxERAQlAxERQclARERQMhAREZQMREQEJQMREUHJQEREUDIQERGUDEREhCOQDMxshZm9aGabzOz6Gm3OMbP1ZtZnZv/W6JhERKRcqJGdm1kQuBM4H9gGPG1ma939pyVtZgB/D6xw961mNqeRMYmIyHhTujIws6CZPfY6+j8b2OTum909BdwPrKpo8zHgm+6+FcDd97yO7YiIyCGYUjJw9ywwYmbtdfY/H/hFyfK2Qlmp04GZZvaEma0zs09U68jMLjezXjPr7e/vrzMMERGZSD23iRLA82b2XWC4WOjuV0+wjlUp8yoxvB1YDjQBPzazp9z9pbKV3O8B7gHo6emp7ENERA5BPcngXwo/9dgGnFSyvADYUaXNXncfBobN7AfAWcBLiIjIETHlZODu95pZE7DQ3V+c4mpPA11mdgqwHfgI+fcISv0zcIeZhYAI8A7gc1ONS0REDt2Up5aa2UXAeuCRwvIyM1s70TrungGuAh4FXgAecPc+M7vCzK4otHmh0OdzwH8An3f3Da9jX0RE5HUy96ndfjezdcC5wBPu/tZC2fPu/pYGxldVT0+P9/b2HunNiogc08xsnbv3VKur50NnGXc/WFGmN3JFRN4A6nkDeYOZfQwImlkXcDXwZGPCEhGRI6meK4PfA7qBJPAV4CDw+w2ISUREjrB6ZhONAH9a+BERkTeQemYTfbfwPULF5Zlm9mhDohIRkSOqnttEs9391eKCux8A9KVyIiJvAPUkg5yZLSwumNnJaDaRiMgbQj2zif4U+GHJ8wbeA1x++EMSEZEjrZ43kB8xs7cB7yT/BXTXuPvehkUmIiJHTL0Pt4kC+wvrnWlmuPsPDn9YIiJyJE05GZjZZ4APA31ArlDsgJKBiMgxrp4rg4uBN7l7skGxiIjINKlnNtFmINyoQEREZPrUc2UwAqw3s8fJfyUFMOmTzkRE5BhQTzJYW/gREZE3mLqedNbIQEREZPrUM5uoC/gL4EwgVix398UNiEtERI6get5A/ifgLiADvBe4D/hSI4ISEZEjq55k0OTuj5N/VOYWd/9z8o/BFBGRY1w9byAnzCwAbDSzq4Dt6FtLRUTeEOq5Mvh9oJn84y7fDvwW8DsNiElERI6wemYTPV14OQRc1phwRERkOuhJZyIioiediYiInnQmIiLoSWciIsJhfNKZmXW7e18DYhQRkQar60lnhV/+D9eo/hLwtkOOSEREjrh63jOYjB3GvkRE5Ag6nMlAbyaLiByjDmcyEBGRY9ThTAapaoVmtsLMXjSzTWZ2fa2VzeyXzCxrZh86jDGJiMgU1PMJ5F8xs3jh9W+Z2ZrCZw0AcPd3VlknCNwJXED+OQgfNbMza7T7DKBPNIuITIN6rgzuAkbM7Czgj4At5J9pMJGzgU3uvtndU8D9wKoq7X4PeBDYU0c8IiJymNSTDDLu7uR/md/m7rcBrZOsMx/4RcnytkLZGDObD/wGcPdEHZnZ5WbWa2a9/f39dYQtIiKTqScZDJrZH5P/6up/KdzaCU+yTrXpppWzjv4WuM7dsxN15O73uHuPu/d0dnZONWYREZmCej509mHgY8Cn3H1X4XuK/nqSdbYBJ5UsLwB2VLTpAe43M4DZwAfMLOPu36ojNhEROQT1fB3FLmBNyfJWJn/P4Gmgy8xOIf9ktI+QTyil/Z5SfG1mXwQeViIQETmyJk0GZvZDd3+3mQ1SfovHAHf3tlrrunum8IjMR4Eg8AV37zOzKwr1E75PICIiR4bl3xM+tvT09Hhvb+90hyEickwxs3Xu3lOtTp9AFhERJQMREVEyEBERlAxERAQlAxERQclARERQMhAREZQMREQEJQMREUHJQEREUDIQERGUDEREBCUDERFByUBERFAyEBERlAxERAQlAxERQclARERQMhAREZQMREQEJQMREUHJQEREUDIQERGUDEREBCUDERFByUBERFAyEBERlAxERAQlAxERQclAREQ4AsnAzFaY2YtmtsnMrq9S/3Eze67w86SZndXomEREpFxDk4GZBYE7gQuAM4GPmtmZFc1eBn7N3ZcCtwD3NDImEREZr9FXBmcDm9x9s7ungPuBVaUN3P1Jdz9QWHwKWNDgmEREpEKjk8F84Bcly9sKZbV8CvhOtQozu9zMes2st7+//zCGKCIijU4GVqXMqzY0ey/5ZHBdtXp3v8fde9y9p7Oz8zCGKCIioQb3vw04qWR5AbCjspGZLQU+D1zg7vsaHJOIiFRo9JXB00CXmZ1iZhHgI8Da0gZmthD4JvDb7v5Sg+MREZEqGnpl4O4ZM7sKeBQIAl9w9z4zu6JQfzdwA9AB/L2ZAWTcvaeRcYmISDlzr3oL/6jW09Pjvb290x2GiMgxxczW1fpjW59AFhERJQMREVEyEBERlAxERAQlAxERQclARERQMhAREZQMREQEJQMREUHJQEREUDIQERGUDEREBCUDERFByUBERFAyEBERlAxERAQlAxERQclARERQMhAREZQMREQEJQMREUHJQEREUDIQERGUDEREBCUDERFByUBERFAyEBERlAxERAQlAxERQclARERQMhARESDU6A2Y2QrgNiAIfN7d/7Ki3gr1HwBGgE+6+zOHO45cznll3zC7BxLMbYuxqCNOIGBV22YyOX62e4ADI2kS6SyLO+Kc0tlCIGBkMjn6dh5k58EE89qb6J7XRiBg/Lx/iJf3DtMSCxIOBjg4mmZWc4SBRJpoKEgik6EjHsWA4VSWwUSGtliYgdE0nW0RclnYfjDBCW1RIqEAuwYSzGqOkM5mMQswksrQGgtzYCTNzOYw7U1B9gykGUpmmNsWJRIyhpM5+geTzGmLkvMswUCQZDrHcCpDayxEwKA1GmYwmWHfUIrO1igjqQzRUJB4JEgymyFAkNF0ltF0lramMKOpDPFIiFdH07REQyQzGWY2RUlksgCks85gIkNna4RY2EhlYCiZYSSVpbMlSltTgL1DGQYTGWbFI+wfThILB2lvCpPNOQdGUjRHQgwm0syKRxhOZohFgsSCQQ4m0uTcaQqH2D+SZFY8SiKVIRAIEA0bhrFvOEVnPEo8FmDHgSTxaIi5bVEWzorXPF6hUIBcznl57zBb9g/THgsTDhpDySzxaIhUNktHPMqijjjAlM+bQznnRKZbQ5OBmQWBO4HzgW3A02a21t1/WtLsAqCr8PMO4K7Cv4dNLuc80reLax9YTyKdIxYOsObSZazoPmHcf85MJsd3+nay7cAotz2+caz9Zy9ZxvlnzGHt8zv49Lc2jJX/9YeWEjDjD77+7FjZ6uVd3PfjLRwYSXH1uV18rXcrv/uuU9g3lCKdhbv/bRMf7lnI7d/bWHWd4utIyLjiPadx08N9Y+2K/V15zmk89sJO/vWne3nfmbM5783zuGFtvt3JHU1ce/7p7Hg1UbYP1684g5nxMNc9+PxY2Y0XdvPgM1v54NsXMiseZv/QMDc9/EJZ/d0/6GPLvlFi4QDXnHc6M5uTJNI5hlPZsv5vvXgJiXSWW//ltfVvXrmEB3q3cP6Z87j6/p+81u9F3Ty4bivnnnFC2Thcc97pfPenO/ng2xdWHafi/n/klxYSjwS56982c2AkxU0ru/nyU1t4ac8Qq5d30TW3hfec2jnueN168RJWvuVEHntxD9c+sJ6ZzRE+8csnl+1HcRvXrXgzkZBx1Vd+Mul5cyjnnMjRoNG3ic4GNrn7ZndPAfcDqyrarALu87yngBlmNu9wBvHKvuGx/5QAiXSOax9Yzyv7hse17dt5kI17hsZ+ORTb/8HX1/PcjoNjv1iK5Rv3DI0lgmLZbY9v5DfftoBEOsft39vIhUvns28kRSwU4qaH+rhw6fyxX3DV1im+vnDp/LFEUGxX7O+GtX18/J2nAPDxd54ylggALlw6n5/3D4/bh7985Gf8vH+4rOymh/v4xLsWc9NDfaQzzs6B5Lj6C5fOH1v+3GMv0RwJs3c4Na7/T39rA3sGy9e/Ye0GPvGuxXzusZfK+30ov93KcfjcYy+NxVNtnIr7f9vjG9k7nBobsxvX9vFf3nPq2Pg9t+1g1eP16W9t4LkdB8fOh99824Jx+1HcxrUPrOe5bQendN4cyjkncjRodDKYD/yiZHlboazeNpjZ5WbWa2a9/f39dQWxeyAx9p+yKJHOsWcwMa7tzoMJck7V9ruq9FOrrVn565zDcDIztjyVdSZql0jneHUkDcCB4XRZu+L2qq2bc8aVjaYyhb/0M1XrzcqXh5OZ+vov7PeUy1OTj1NxW6VjNprKlMVR7XhVHsepbKOyrtp5U6mec07kaNDoZFDtethfRxvc/R5373H3ns7OzrqCmNsWIxYu39VYOMCc1ti4tvPamwgaVdufUKWfWm3dy18HDeKx0FjbqawzUbtYOMCM5jAAs+LhKcdVeYciFg7QFMnHFY+Eqta7ly/HY6G6+m+Ohqq2rVkemXycitsqHaemSKgsjnk1jnvlcZxsG5V11c6bSvWccyJHg0Yng23ASSXLC4Adr6PNIVnUEWfNpcvKfsGsuXTZ2BuEpbrntXHanBZWL+8qa//ZS5ax9MR2br14SVn5aXNa+OwlZ5WVrV7exTef2TZ2//nh57YzqzlCIp3hxou6eejZ7Vx9blfNdYqvH3p2Ozde2F3WrtjfzSu7+fJTLwPwf596mZtXvtbuoWe3s7gzPm4frl9xBqd2xsvKbrywm/ue3MyNF3UTDhnz2qLj6h9+bvvY8jXnnc5IMk1HPDKu/1svXsKc1vL1b165hHuf3Mw1551e3u9F3dz75OZx43DNeadzbyGeauNU3P/Vy7uYHY+MjdlNK7v5/A9+PjZ+Sxe085Yqx+vWi5ew9MT2sfPhwXXbxu1HcRtrLl3G0gXtUzpvDuWcEzkamPu4P8IPX+dmIeAlYDmwHXga+Ji795W0+XXgKvKzid4B3O7uZ0/Ub09Pj/f29tYVS3Fmx57BBHNa65tNdEpHnMUVs4l2HUxwQnuM7nntY7OJXtk7THM0SCQUYGA0zYzmCEOJNJFQkGQmy8zmCAGrMpuoNUIuVzKbKBhg92CCmSWziUZTGVqiYQ6MVswmSmWY0xIlGi7MJhpKMqe1fDbRSCpLSzRIIGC0RkNVZxM1R4KksxmsOJsolZ9NlEhnaC6bTZRlRlOEZMlsoqFkho54hKZI+Wyi2S1R2mMB9g5nGExmmNUcYf9wimg4wIxYmKyXzibKMLM5zEgqQ1M4SDQUZKAwmygWDnFgJMXMQkINBAJEQkbAjP3DKTriUVpiAXa+mqQ5Un02UenxKp1NtHX/MG2F2UTDqWxhHHLMqphNNJXz5lDOOZEjwczWuXtP1bpGJoPCxj8A/C35qaVfcPf/ZWZXALj73YWppXcAK8hPLb3M3Sf8Tf96koGIyPFuomTQ8M8ZuPu3gW9XlN1d8tqBKxsdh4iI1KZPIIuIiJKBiIgoGYiICEoGIiLCEZhN1Ahm1g9sme44jpDZwN7pDuIopvGZmMZnYsfb+Jzs7lU/tXtMJoPjiZn11poKJhqfyWh8JqbxeY1uE4mIiJKBiIgoGRwL7pnuAI5yGp+JaXwmpvEp0HsGIiKiKwMREVEyEBERlAyOKmb2BTPbY2YbSspmmdl3zWxj4d+Z0xnjdKoxPn9uZtvNbH3h5wPTGeN0MbOTzOz7ZvaCmfWZ2epCuc4fJhwfnT8Fes/gKGJm7wGGyD8Tekmh7K+A/e7+l2Z2PTDT3a+bzjinS43x+XNgyN3/Zjpjm26F54bPc/dnzKwVWAdcDHwSnT8Tjc+l6PwBdGVwVHH3HwD7K4pXAfcWXt9L/gQ+LtUYHwHcfae7P1N4PQi8QP5Z4jp/mHB8pEDJ4Og31913Qv6EBuZMczxHo6vM7LnCbaTj8jZIKTNbBLwV+P/o/BmnYnxA5w+gZCDHvruAU4FlwE7gs9MazTQzsxbgQeD33X1guuM52lQZH50/BUoGR7/dhfudxfuee6Y5nqOKu+9296y754B/ACZ8fvYbmZmFyf+i+7K7f7NQrPOnoNr46Px5jZLB0W8t8DuF178D/PM0xnLUKf6iK/gNYEOttm9khWeJ/yPwgruvKanS+UPt8dH58xrNJjqKmNlXgXPIf63ubuBG4FvAA8BCYCtwibsfl2+i1hifc8hf4jvwCvDfivfIjydm9m7g34HngVyh+E/I3xc/7s+fCcbno+j8AZQMREQE3SYSERGUDEREBCUDERFByUBERFAyEBERlAxERAQlA5GjipkNFf490cy+Md3xyPFDnzMQaTAzC7p7dopth9y9pdExiVTSlYG84ZjZIjP7mZl93sw2mNmXzew8M/tR4SEvZ5tZvPAtlU+b2U/MbFXJuv9uZs8Uft5VKD/HzJ4ws28U+v5y4SsOasXwipndYGY/BC4xs/9a2NazZvagmTUX2p1iZj8u1N1SsQ8bCq8/aWZ3lNQ9XIgnaGZfLOzj82Z2TYOGVI4DoekOQKRBTgMuAS4HngY+BrwbWEn+awh+CnzP3X/XzGYA/2Fmj5H/Irfz3T1hZl3AV4GeQp9vBbqBHcCPgF8BfjhBDAl3fzeAmXW4+z8UXt8KfAr4O+A24C53v8/MrqxzH5cB80se9DOjzvVFxujKQN6oXnb35wvfRtkHPO75e6LPA4uA9wHXm9l64AkgRv77e8LAP5jZ88DXgTNL+vwPd99W6HN9oZ+JfK3k9ZLCFcfzwMfJJxXIJ5SvFl5/qc593AwsNrO/M7MVgL6yWl43XRnIG1Wy5HWuZDlH/rzPAh909xdLVyo8RnM3cBb5P5YSNfrMMvn/n+GS118ELnb3Z83sk+S/YK9osjfuMpT/4RYDcPcDZnYW8H7gSvKPcPzdSfoSqUpXBnK8ehT4veJ9fzN7a6G8HdhZ+Ov/t4HgYdpeK7Cz8J36Hy8p/xHwkcLrj49bK+8VYJmZBczsJArfuW9ms4GAuz8I/BnwtsMUqxyHdGUgx6tbgL8FniskhFeAC4G/Bx40s0uA71P+1/2h+DPyXye9hfytqtZC+WrgK2a2mvyDV6r5EfByYb0NwDOF8vnAP5lZ8Y+6Pz5MscpxSFNLRUREt4lERES3iUQOiZn9P+CUiuLr3P3R6YhH5PXSbSIREdFtIhERUTIQERGUDEREBCUDEREB/hMa2MO+KpkKBQAAAABJRU5ErkJggg==\n",
=======
      "image/png": "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\n",
>>>>>>> a282d9ababe32ff030c47b1a9ec33bc3f0a40288
      "text/plain": [
       "<Figure size 432x288 with 1 Axes>"
      ]
     },
     "metadata": {
      "needs_background": "light"
     },
     "output_type": "display_data"
    }
   ],
   "source": [
    "sns.scatterplot(x=df.mean_radius, y=df.is_cancer)"
   ]
  },
  {
   "cell_type": "code",
   "execution_count": 9,
   "metadata": {},
   "outputs": [],
   "source": [
    "df2 = df[[\"mean_radius\", \"is_cancer\"]].copy()"
   ]
  },
  {
   "cell_type": "code",
   "execution_count": 11,
   "metadata": {},
   "outputs": [
    {
     "data": {
      "text/html": [
       "<div>\n",
       "<style scoped>\n",
       "    .dataframe tbody tr th:only-of-type {\n",
       "        vertical-align: middle;\n",
       "    }\n",
       "\n",
       "    .dataframe tbody tr th {\n",
       "        vertical-align: top;\n",
       "    }\n",
       "\n",
       "    .dataframe thead th {\n",
       "        text-align: right;\n",
       "    }\n",
       "</style>\n",
       "<table border=\"1\" class=\"dataframe\">\n",
       "  <thead>\n",
       "    <tr style=\"text-align: right;\">\n",
       "      <th></th>\n",
       "      <th>mean_radius</th>\n",
       "      <th>is_cancer</th>\n",
       "    </tr>\n",
       "  </thead>\n",
       "  <tbody>\n",
       "    <tr>\n",
<<<<<<< HEAD
       "      <th>176</th>\n",
       "      <td>9.904</td>\n",
       "      <td>0</td>\n",
       "    </tr>\n",
       "    <tr>\n",
       "      <th>296</th>\n",
       "      <td>10.910</td>\n",
       "      <td>0</td>\n",
       "    </tr>\n",
       "    <tr>\n",
       "      <th>115</th>\n",
       "      <td>11.930</td>\n",
       "      <td>0</td>\n",
       "    </tr>\n",
       "    <tr>\n",
       "      <th>229</th>\n",
       "      <td>12.830</td>\n",
       "      <td>1</td>\n",
       "    </tr>\n",
       "    <tr>\n",
       "      <th>322</th>\n",
       "      <td>12.860</td>\n",
       "      <td>0</td>\n",
       "    </tr>\n",
       "    <tr>\n",
       "      <th>458</th>\n",
       "      <td>13.000</td>\n",
       "      <td>0</td>\n",
       "    </tr>\n",
       "    <tr>\n",
       "      <th>374</th>\n",
       "      <td>13.690</td>\n",
       "      <td>0</td>\n",
       "    </tr>\n",
       "    <tr>\n",
       "      <th>123</th>\n",
       "      <td>14.500</td>\n",
       "      <td>0</td>\n",
       "    </tr>\n",
       "    <tr>\n",
       "      <th>258</th>\n",
       "      <td>15.660</td>\n",
       "      <td>1</td>\n",
       "    </tr>\n",
       "    <tr>\n",
       "      <th>460</th>\n",
       "      <td>17.080</td>\n",
=======
       "      <th>41</th>\n",
       "      <td>10.95</td>\n",
       "      <td>1</td>\n",
       "    </tr>\n",
       "    <tr>\n",
       "      <th>398</th>\n",
       "      <td>11.06</td>\n",
       "      <td>0</td>\n",
       "    </tr>\n",
       "    <tr>\n",
       "      <th>419</th>\n",
       "      <td>11.16</td>\n",
       "      <td>0</td>\n",
       "    </tr>\n",
       "    <tr>\n",
       "      <th>401</th>\n",
       "      <td>11.93</td>\n",
       "      <td>0</td>\n",
       "    </tr>\n",
       "    <tr>\n",
       "      <th>150</th>\n",
       "      <td>13.00</td>\n",
       "      <td>0</td>\n",
       "    </tr>\n",
       "    <tr>\n",
       "      <th>230</th>\n",
       "      <td>17.05</td>\n",
       "      <td>1</td>\n",
       "    </tr>\n",
       "    <tr>\n",
       "      <th>432</th>\n",
       "      <td>20.18</td>\n",
       "      <td>1</td>\n",
       "    </tr>\n",
       "    <tr>\n",
       "      <th>250</th>\n",
       "      <td>20.94</td>\n",
       "      <td>1</td>\n",
       "    </tr>\n",
       "    <tr>\n",
       "      <th>122</th>\n",
       "      <td>24.25</td>\n",
       "      <td>1</td>\n",
       "    </tr>\n",
       "    <tr>\n",
       "      <th>461</th>\n",
       "      <td>27.42</td>\n",
>>>>>>> a282d9ababe32ff030c47b1a9ec33bc3f0a40288
       "      <td>1</td>\n",
       "    </tr>\n",
       "  </tbody>\n",
       "</table>\n",
       "</div>"
      ],
      "text/plain": [
       "     mean_radius  is_cancer\n",
<<<<<<< HEAD
       "176        9.904          0\n",
       "296       10.910          0\n",
       "115       11.930          0\n",
       "229       12.830          1\n",
       "322       12.860          0\n",
       "458       13.000          0\n",
       "374       13.690          0\n",
       "123       14.500          0\n",
       "258       15.660          1\n",
       "460       17.080          1"
=======
       "41         10.95          1\n",
       "398        11.06          0\n",
       "419        11.16          0\n",
       "401        11.93          0\n",
       "150        13.00          0\n",
       "230        17.05          1\n",
       "432        20.18          1\n",
       "250        20.94          1\n",
       "122        24.25          1\n",
       "461        27.42          1"
>>>>>>> a282d9ababe32ff030c47b1a9ec33bc3f0a40288
      ]
     },
     "execution_count": 11,
     "metadata": {},
     "output_type": "execute_result"
    }
   ],
   "source": [
    "df2.sample(10).sort_values(\"mean_radius\")"
   ]
  },
  {
   "cell_type": "code",
   "execution_count": 12,
   "metadata": {},
   "outputs": [],
   "source": [
    "from sklearn.linear_model import LogisticRegression"
   ]
  },
  {
   "cell_type": "code",
<<<<<<< HEAD
   "execution_count": 13,
   "metadata": {},
   "outputs": [
    {
     "data": {
      "text/plain": [
       "(569, 31)"
      ]
     },
     "execution_count": 13,
     "metadata": {},
     "output_type": "execute_result"
    }
   ],
   "source": [
    "df.shape"
   ]
  },
  {
   "cell_type": "code",
=======
>>>>>>> a282d9ababe32ff030c47b1a9ec33bc3f0a40288
   "execution_count": 14,
   "metadata": {},
   "outputs": [],
   "source": [
    "log = LogisticRegression()"
   ]
  },
  {
   "cell_type": "code",
   "execution_count": 15,
   "metadata": {},
   "outputs": [
    {
     "data": {
      "text/plain": [
       "LogisticRegression()"
      ]
     },
     "execution_count": 15,
     "metadata": {},
     "output_type": "execute_result"
    }
   ],
   "source": [
    "log.fit(\n",
    "    X=df2[[\"mean_radius\"]],\n",
    "    y=df2.is_cancer\n",
    ")"
   ]
  },
  {
   "cell_type": "markdown",
   "metadata": {},
   "source": [
    "A trained model is a *prediction machine*"
   ]
  },
  {
   "cell_type": "markdown",
   "metadata": {},
   "source": [
    "How would it have performed with the 5 first patients?"
   ]
  },
  {
   "cell_type": "code",
   "execution_count": 16,
   "metadata": {},
   "outputs": [
    {
     "data": {
      "text/html": [
       "<div>\n",
       "<style scoped>\n",
       "    .dataframe tbody tr th:only-of-type {\n",
       "        vertical-align: middle;\n",
       "    }\n",
       "\n",
       "    .dataframe tbody tr th {\n",
       "        vertical-align: top;\n",
       "    }\n",
       "\n",
       "    .dataframe thead th {\n",
       "        text-align: right;\n",
       "    }\n",
       "</style>\n",
       "<table border=\"1\" class=\"dataframe\">\n",
       "  <thead>\n",
       "    <tr style=\"text-align: right;\">\n",
       "      <th></th>\n",
       "      <th>mean_radius</th>\n",
       "    </tr>\n",
       "  </thead>\n",
       "  <tbody>\n",
       "    <tr>\n",
       "      <th>0</th>\n",
       "      <td>17.99</td>\n",
       "    </tr>\n",
       "    <tr>\n",
       "      <th>1</th>\n",
       "      <td>20.57</td>\n",
       "    </tr>\n",
       "    <tr>\n",
       "      <th>2</th>\n",
       "      <td>19.69</td>\n",
       "    </tr>\n",
       "    <tr>\n",
       "      <th>3</th>\n",
       "      <td>11.42</td>\n",
       "    </tr>\n",
       "    <tr>\n",
       "      <th>4</th>\n",
       "      <td>20.29</td>\n",
       "    </tr>\n",
       "  </tbody>\n",
       "</table>\n",
       "</div>"
      ],
      "text/plain": [
       "   mean_radius\n",
       "0        17.99\n",
       "1        20.57\n",
       "2        19.69\n",
       "3        11.42\n",
       "4        20.29"
      ]
     },
     "execution_count": 16,
     "metadata": {},
     "output_type": "execute_result"
    }
   ],
   "source": [
    "df2[[\"mean_radius\"]][:5]"
   ]
  },
  {
   "cell_type": "code",
   "execution_count": 17,
   "metadata": {},
   "outputs": [
    {
     "data": {
      "text/plain": [
       "0    1\n",
       "1    1\n",
       "2    1\n",
       "3    1\n",
       "4    1\n",
       "Name: is_cancer, dtype: int64"
      ]
     },
     "execution_count": 17,
     "metadata": {},
     "output_type": "execute_result"
    }
   ],
   "source": [
    "df.is_cancer[:5]"
   ]
  },
  {
   "cell_type": "code",
   "execution_count": 18,
   "metadata": {},
   "outputs": [
    {
     "data": {
      "text/plain": [
       "array([1, 1, 1, 0, 1])"
      ]
     },
     "execution_count": 18,
     "metadata": {},
     "output_type": "execute_result"
    }
   ],
   "source": [
    "log.predict(df2[[\"mean_radius\"]][:5])"
   ]
  },
  {
   "cell_type": "markdown",
   "metadata": {},
   "source": [
    "It would have been right 4 out of 5"
   ]
  },
  {
   "cell_type": "code",
<<<<<<< HEAD
   "execution_count": 19,
=======
   "execution_count": 20,
>>>>>>> a282d9ababe32ff030c47b1a9ec33bc3f0a40288
   "metadata": {},
   "outputs": [],
   "source": [
    "df2[\"prediction_cancer\"] = log.predict(df2[[\"mean_radius\"]])"
   ]
  },
  {
   "cell_type": "code",
<<<<<<< HEAD
   "execution_count": 20,
=======
   "execution_count": 21,
>>>>>>> a282d9ababe32ff030c47b1a9ec33bc3f0a40288
   "metadata": {},
   "outputs": [
    {
     "data": {
      "text/html": [
       "<div>\n",
       "<style scoped>\n",
       "    .dataframe tbody tr th:only-of-type {\n",
       "        vertical-align: middle;\n",
       "    }\n",
       "\n",
       "    .dataframe tbody tr th {\n",
       "        vertical-align: top;\n",
       "    }\n",
       "\n",
       "    .dataframe thead th {\n",
       "        text-align: right;\n",
       "    }\n",
       "</style>\n",
       "<table border=\"1\" class=\"dataframe\">\n",
       "  <thead>\n",
       "    <tr style=\"text-align: right;\">\n",
       "      <th></th>\n",
       "      <th>mean_radius</th>\n",
       "      <th>is_cancer</th>\n",
       "      <th>prediction_cancer</th>\n",
       "    </tr>\n",
       "  </thead>\n",
       "  <tbody>\n",
       "    <tr>\n",
       "      <th>0</th>\n",
       "      <td>17.99</td>\n",
       "      <td>1</td>\n",
       "      <td>1</td>\n",
       "    </tr>\n",
       "    <tr>\n",
       "      <th>1</th>\n",
       "      <td>20.57</td>\n",
       "      <td>1</td>\n",
       "      <td>1</td>\n",
       "    </tr>\n",
       "    <tr>\n",
       "      <th>2</th>\n",
       "      <td>19.69</td>\n",
       "      <td>1</td>\n",
       "      <td>1</td>\n",
       "    </tr>\n",
       "    <tr>\n",
       "      <th>3</th>\n",
       "      <td>11.42</td>\n",
       "      <td>1</td>\n",
       "      <td>0</td>\n",
       "    </tr>\n",
       "    <tr>\n",
       "      <th>4</th>\n",
       "      <td>20.29</td>\n",
       "      <td>1</td>\n",
       "      <td>1</td>\n",
       "    </tr>\n",
       "    <tr>\n",
       "      <th>5</th>\n",
       "      <td>12.45</td>\n",
       "      <td>1</td>\n",
       "      <td>0</td>\n",
       "    </tr>\n",
       "    <tr>\n",
       "      <th>6</th>\n",
       "      <td>18.25</td>\n",
       "      <td>1</td>\n",
       "      <td>1</td>\n",
       "    </tr>\n",
       "    <tr>\n",
       "      <th>7</th>\n",
       "      <td>13.71</td>\n",
       "      <td>1</td>\n",
       "      <td>0</td>\n",
       "    </tr>\n",
       "    <tr>\n",
       "      <th>8</th>\n",
       "      <td>13.00</td>\n",
       "      <td>1</td>\n",
       "      <td>0</td>\n",
       "    </tr>\n",
       "    <tr>\n",
       "      <th>9</th>\n",
       "      <td>12.46</td>\n",
       "      <td>1</td>\n",
       "      <td>0</td>\n",
       "    </tr>\n",
       "  </tbody>\n",
       "</table>\n",
       "</div>"
      ],
      "text/plain": [
       "   mean_radius  is_cancer  prediction_cancer\n",
       "0        17.99          1                  1\n",
       "1        20.57          1                  1\n",
       "2        19.69          1                  1\n",
       "3        11.42          1                  0\n",
       "4        20.29          1                  1\n",
       "5        12.45          1                  0\n",
       "6        18.25          1                  1\n",
       "7        13.71          1                  0\n",
       "8        13.00          1                  0\n",
       "9        12.46          1                  0"
      ]
     },
<<<<<<< HEAD
     "execution_count": 20,
=======
     "execution_count": 21,
>>>>>>> a282d9ababe32ff030c47b1a9ec33bc3f0a40288
     "metadata": {},
     "output_type": "execute_result"
    }
   ],
   "source": [
    "df2.head(10)"
   ]
  },
  {
   "cell_type": "markdown",
   "metadata": {},
   "source": [
    "#### Accuracy score"
   ]
  },
  {
   "cell_type": "markdown",
   "metadata": {},
   "source": [
    "How many predictions were correct?"
   ]
  },
  {
   "cell_type": "code",
<<<<<<< HEAD
   "execution_count": 21,
=======
   "execution_count": 22,
>>>>>>> a282d9ababe32ff030c47b1a9ec33bc3f0a40288
   "metadata": {},
   "outputs": [],
   "source": [
    "df2[\"correct\"] = (df2.is_cancer == df2.prediction_cancer)"
   ]
  },
  {
   "cell_type": "code",
<<<<<<< HEAD
   "execution_count": 22,
=======
   "execution_count": 23,
>>>>>>> a282d9ababe32ff030c47b1a9ec33bc3f0a40288
   "metadata": {},
   "outputs": [
    {
     "data": {
      "text/html": [
       "<div>\n",
       "<style scoped>\n",
       "    .dataframe tbody tr th:only-of-type {\n",
       "        vertical-align: middle;\n",
       "    }\n",
       "\n",
       "    .dataframe tbody tr th {\n",
       "        vertical-align: top;\n",
       "    }\n",
       "\n",
       "    .dataframe thead th {\n",
       "        text-align: right;\n",
       "    }\n",
       "</style>\n",
       "<table border=\"1\" class=\"dataframe\">\n",
       "  <thead>\n",
       "    <tr style=\"text-align: right;\">\n",
       "      <th></th>\n",
       "      <th>mean_radius</th>\n",
       "      <th>is_cancer</th>\n",
       "      <th>prediction_cancer</th>\n",
       "      <th>correct</th>\n",
       "    </tr>\n",
       "  </thead>\n",
       "  <tbody>\n",
       "    <tr>\n",
       "      <th>0</th>\n",
       "      <td>17.99</td>\n",
       "      <td>1</td>\n",
       "      <td>1</td>\n",
       "      <td>True</td>\n",
       "    </tr>\n",
       "    <tr>\n",
       "      <th>1</th>\n",
       "      <td>20.57</td>\n",
       "      <td>1</td>\n",
       "      <td>1</td>\n",
       "      <td>True</td>\n",
       "    </tr>\n",
       "    <tr>\n",
       "      <th>2</th>\n",
       "      <td>19.69</td>\n",
       "      <td>1</td>\n",
       "      <td>1</td>\n",
       "      <td>True</td>\n",
       "    </tr>\n",
       "    <tr>\n",
       "      <th>3</th>\n",
       "      <td>11.42</td>\n",
       "      <td>1</td>\n",
       "      <td>0</td>\n",
       "      <td>False</td>\n",
       "    </tr>\n",
       "    <tr>\n",
       "      <th>4</th>\n",
       "      <td>20.29</td>\n",
       "      <td>1</td>\n",
       "      <td>1</td>\n",
       "      <td>True</td>\n",
       "    </tr>\n",
       "    <tr>\n",
       "      <th>5</th>\n",
       "      <td>12.45</td>\n",
       "      <td>1</td>\n",
       "      <td>0</td>\n",
       "      <td>False</td>\n",
       "    </tr>\n",
       "    <tr>\n",
       "      <th>6</th>\n",
       "      <td>18.25</td>\n",
       "      <td>1</td>\n",
       "      <td>1</td>\n",
       "      <td>True</td>\n",
       "    </tr>\n",
       "    <tr>\n",
       "      <th>7</th>\n",
       "      <td>13.71</td>\n",
       "      <td>1</td>\n",
       "      <td>0</td>\n",
       "      <td>False</td>\n",
       "    </tr>\n",
       "    <tr>\n",
       "      <th>8</th>\n",
       "      <td>13.00</td>\n",
       "      <td>1</td>\n",
       "      <td>0</td>\n",
       "      <td>False</td>\n",
       "    </tr>\n",
       "    <tr>\n",
       "      <th>9</th>\n",
       "      <td>12.46</td>\n",
       "      <td>1</td>\n",
       "      <td>0</td>\n",
       "      <td>False</td>\n",
       "    </tr>\n",
       "  </tbody>\n",
       "</table>\n",
       "</div>"
      ],
      "text/plain": [
       "   mean_radius  is_cancer  prediction_cancer  correct\n",
       "0        17.99          1                  1     True\n",
       "1        20.57          1                  1     True\n",
       "2        19.69          1                  1     True\n",
       "3        11.42          1                  0    False\n",
       "4        20.29          1                  1     True\n",
       "5        12.45          1                  0    False\n",
       "6        18.25          1                  1     True\n",
       "7        13.71          1                  0    False\n",
       "8        13.00          1                  0    False\n",
       "9        12.46          1                  0    False"
      ]
     },
<<<<<<< HEAD
     "execution_count": 22,
=======
     "execution_count": 23,
>>>>>>> a282d9ababe32ff030c47b1a9ec33bc3f0a40288
     "metadata": {},
     "output_type": "execute_result"
    }
   ],
   "source": [
    "df2.head(10)"
   ]
  },
  {
   "cell_type": "markdown",
   "metadata": {},
   "source": [
    "Accuracy is the proportion of good predictions"
   ]
  },
  {
   "cell_type": "code",
<<<<<<< HEAD
   "execution_count": 23,
   "metadata": {},
   "outputs": [
    {
     "data": {
      "text/plain": [
       "(569, 4)"
      ]
     },
     "execution_count": 23,
     "metadata": {},
     "output_type": "execute_result"
    }
   ],
   "source": [
    "df2.shape"
   ]
  },
  {
   "cell_type": "code",
=======
>>>>>>> a282d9ababe32ff030c47b1a9ec33bc3f0a40288
   "execution_count": 24,
   "metadata": {},
   "outputs": [],
   "source": [
    "accuracy = df2.correct.sum() / df2.shape[0]"
   ]
  },
  {
   "cell_type": "code",
   "execution_count": 25,
   "metadata": {},
   "outputs": [
    {
     "data": {
      "text/plain": [
       "0.8787346221441125"
      ]
     },
     "execution_count": 25,
     "metadata": {},
     "output_type": "execute_result"
    }
   ],
   "source": [
    "accuracy"
   ]
  },
  {
   "cell_type": "markdown",
   "metadata": {},
   "source": [
    "How many True/False Positives/Negatives do we have?"
   ]
  },
  {
   "cell_type": "markdown",
   "metadata": {},
   "source": [
    "We build the confusion matrix"
   ]
  },
  {
   "cell_type": "markdown",
   "metadata": {},
   "source": [
    "<img src=\"https://github.com/andrewwlong/classification_metrics_sklearn/raw/541a0d065ffb8b3ff705161f6d16088d434b2ea7/img/conf_matrix.png\">"
   ]
  },
  {
   "cell_type": "code",
<<<<<<< HEAD
   "execution_count": 26,
=======
   "execution_count": 27,
>>>>>>> a282d9ababe32ff030c47b1a9ec33bc3f0a40288
   "metadata": {},
   "outputs": [
    {
     "data": {
<<<<<<< HEAD
      "text/html": [
       "<div>\n",
       "<style scoped>\n",
       "    .dataframe tbody tr th:only-of-type {\n",
       "        vertical-align: middle;\n",
       "    }\n",
       "\n",
       "    .dataframe tbody tr th {\n",
       "        vertical-align: top;\n",
       "    }\n",
       "\n",
       "    .dataframe thead th {\n",
       "        text-align: right;\n",
       "    }\n",
       "</style>\n",
       "<table border=\"1\" class=\"dataframe\">\n",
       "  <thead>\n",
       "    <tr style=\"text-align: right;\">\n",
       "      <th>prediction_cancer</th>\n",
       "      <th>0</th>\n",
       "      <th>1</th>\n",
       "    </tr>\n",
       "    <tr>\n",
       "      <th>is_cancer</th>\n",
       "      <th></th>\n",
       "      <th></th>\n",
       "    </tr>\n",
       "  </thead>\n",
       "  <tbody>\n",
       "    <tr>\n",
       "      <th>0</th>\n",
       "      <td>333</td>\n",
       "      <td>24</td>\n",
       "    </tr>\n",
       "    <tr>\n",
       "      <th>1</th>\n",
       "      <td>45</td>\n",
       "      <td>167</td>\n",
       "    </tr>\n",
       "  </tbody>\n",
       "</table>\n",
       "</div>"
      ],
      "text/plain": [
       "prediction_cancer    0    1\n",
       "is_cancer                  \n",
       "0                  333   24\n",
       "1                   45  167"
      ]
     },
     "execution_count": 26,
=======
      "text/plain": [
       "(569, 31)"
      ]
     },
     "execution_count": 27,
>>>>>>> a282d9ababe32ff030c47b1a9ec33bc3f0a40288
     "metadata": {},
     "output_type": "execute_result"
    }
   ],
   "source": [
    "df.shape"
   ]
  },
  {
   "cell_type": "code",
<<<<<<< HEAD
   "execution_count": 27,
=======
   "execution_count": 26,
>>>>>>> a282d9ababe32ff030c47b1a9ec33bc3f0a40288
   "metadata": {},
   "outputs": [
    {
     "data": {
<<<<<<< HEAD
      "text/plain": [
       "569"
      ]
     },
     "execution_count": 27,
=======
      "text/html": [
       "<div>\n",
       "<style scoped>\n",
       "    .dataframe tbody tr th:only-of-type {\n",
       "        vertical-align: middle;\n",
       "    }\n",
       "\n",
       "    .dataframe tbody tr th {\n",
       "        vertical-align: top;\n",
       "    }\n",
       "\n",
       "    .dataframe thead th {\n",
       "        text-align: right;\n",
       "    }\n",
       "</style>\n",
       "<table border=\"1\" class=\"dataframe\">\n",
       "  <thead>\n",
       "    <tr style=\"text-align: right;\">\n",
       "      <th>prediction_cancer</th>\n",
       "      <th>0</th>\n",
       "      <th>1</th>\n",
       "    </tr>\n",
       "    <tr>\n",
       "      <th>is_cancer</th>\n",
       "      <th></th>\n",
       "      <th></th>\n",
       "    </tr>\n",
       "  </thead>\n",
       "  <tbody>\n",
       "    <tr>\n",
       "      <th>0</th>\n",
       "      <td>333</td>\n",
       "      <td>24</td>\n",
       "    </tr>\n",
       "    <tr>\n",
       "      <th>1</th>\n",
       "      <td>45</td>\n",
       "      <td>167</td>\n",
       "    </tr>\n",
       "  </tbody>\n",
       "</table>\n",
       "</div>"
      ],
      "text/plain": [
       "prediction_cancer    0    1\n",
       "is_cancer                  \n",
       "0                  333   24\n",
       "1                   45  167"
      ]
     },
     "execution_count": 26,
>>>>>>> a282d9ababe32ff030c47b1a9ec33bc3f0a40288
     "metadata": {},
     "output_type": "execute_result"
    }
   ],
   "source": [
    "pd.crosstab(\n",
    "    df2.is_cancer,\n",
    "    df2.prediction_cancer\n",
    ")"
   ]
  },
  {
   "cell_type": "markdown",
   "metadata": {},
   "source": [
    "Equivalent to:"
   ]
  },
  {
   "cell_type": "code",
   "execution_count": 28,
   "metadata": {},
   "outputs": [],
   "source": [
    "from sklearn.metrics import confusion_matrix"
   ]
  },
  {
   "cell_type": "code",
   "execution_count": 29,
   "metadata": {},
   "outputs": [
    {
     "data": {
      "text/plain": [
       "array([[333,  24],\n",
       "       [ 45, 167]])"
      ]
     },
     "execution_count": 29,
     "metadata": {},
     "output_type": "execute_result"
    }
   ],
   "source": [
    "confusion_matrix(\n",
    "    y_true=df2.is_cancer,\n",
    "    y_pred=df2.prediction_cancer\n",
    ")"
   ]
  },
  {
   "cell_type": "markdown",
   "metadata": {},
   "source": [
    "Graphical interpretation"
   ]
  },
  {
   "cell_type": "code",
<<<<<<< HEAD
   "execution_count": 32,
=======
   "execution_count": 30,
>>>>>>> a282d9ababe32ff030c47b1a9ec33bc3f0a40288
   "metadata": {},
   "outputs": [],
   "source": [
    "x = np.linspace(df.mean_radius.min(), df.mean_radius.max(), 100)\n",
    "y = log.predict(x.reshape(-1, 1))"
   ]
  },
  {
   "cell_type": "code",
<<<<<<< HEAD
   "execution_count": 33,
=======
   "execution_count": 31,
>>>>>>> a282d9ababe32ff030c47b1a9ec33bc3f0a40288
   "metadata": {},
   "outputs": [],
   "source": [
    "import matplotlib.pyplot as plt"
   ]
  },
  {
   "cell_type": "code",
<<<<<<< HEAD
   "execution_count": 34,
=======
   "execution_count": 32,
>>>>>>> a282d9ababe32ff030c47b1a9ec33bc3f0a40288
   "metadata": {},
   "outputs": [
    {
     "data": {
      "text/plain": [
<<<<<<< HEAD
       "[<matplotlib.lines.Line2D at 0x7f8c583d9b50>]"
      ]
     },
     "execution_count": 34,
=======
       "[<matplotlib.lines.Line2D at 0x7f091ce10310>]"
      ]
     },
     "execution_count": 32,
>>>>>>> a282d9ababe32ff030c47b1a9ec33bc3f0a40288
     "metadata": {},
     "output_type": "execute_result"
    },
    {
     "data": {
<<<<<<< HEAD
      "image/png": "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\n",
=======
      "image/png": "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\n",
>>>>>>> a282d9ababe32ff030c47b1a9ec33bc3f0a40288
      "text/plain": [
       "<Figure size 432x288 with 1 Axes>"
      ]
     },
     "metadata": {
      "needs_background": "light"
     },
     "output_type": "display_data"
    }
   ],
   "source": [
    "sns.scatterplot(x=df.mean_radius, y=df.is_cancer)\n",
    "plt.plot(x, y, c= \"red\")"
   ]
  },
  {
   "cell_type": "markdown",
   "metadata": {},
   "source": [
    "### Many predictors"
   ]
  },
  {
   "cell_type": "markdown",
   "metadata": {},
   "source": [
    "#### Model"
   ]
  },
  {
   "cell_type": "markdown",
   "metadata": {},
   "source": [
    "More iterations more time"
   ]
  },
  {
   "cell_type": "code",
<<<<<<< HEAD
   "execution_count": 35,
   "metadata": {},
   "outputs": [],
   "source": [
    "# If no max iter, convergence problems arise (python warns you)\n",
=======
   "execution_count": 33,
   "metadata": {},
   "outputs": [],
   "source": [
    "# if no max_iter, convergence problems arise (python warns you)\n",
>>>>>>> a282d9ababe32ff030c47b1a9ec33bc3f0a40288
    "log = LogisticRegression(max_iter=10000)"
   ]
  },
  {
   "cell_type": "markdown",
   "metadata": {},
   "source": [
    "We use all variables **but** `is_cancer` to try and predict `is_cancer`"
   ]
  },
  {
   "cell_type": "code",
<<<<<<< HEAD
   "execution_count": 36,
=======
   "execution_count": 34,
>>>>>>> a282d9ababe32ff030c47b1a9ec33bc3f0a40288
   "metadata": {},
   "outputs": [],
   "source": [
    "df3 = df.copy()"
   ]
  },
  {
   "cell_type": "code",
<<<<<<< HEAD
   "execution_count": 37,
=======
   "execution_count": 35,
>>>>>>> a282d9ababe32ff030c47b1a9ec33bc3f0a40288
   "metadata": {},
   "outputs": [],
   "source": [
    "X = df3.drop(\"is_cancer\", axis=1)\n",
    "y = df3.is_cancer"
   ]
  },
  {
   "cell_type": "code",
<<<<<<< HEAD
   "execution_count": 38,
=======
   "execution_count": 36,
>>>>>>> a282d9ababe32ff030c47b1a9ec33bc3f0a40288
   "metadata": {},
   "outputs": [
    {
     "data": {
      "text/plain": [
       "LogisticRegression(max_iter=10000)"
      ]
     },
<<<<<<< HEAD
     "execution_count": 38,
=======
     "execution_count": 36,
>>>>>>> a282d9ababe32ff030c47b1a9ec33bc3f0a40288
     "metadata": {},
     "output_type": "execute_result"
    }
   ],
   "source": [
    "log.fit(X, y)"
   ]
  },
  {
   "cell_type": "code",
<<<<<<< HEAD
   "execution_count": 39,
=======
   "execution_count": 37,
>>>>>>> a282d9ababe32ff030c47b1a9ec33bc3f0a40288
   "metadata": {},
   "outputs": [],
   "source": [
    "df3[\"prediction_cancer\"] = log.predict(X)"
   ]
  },
  {
   "cell_type": "code",
<<<<<<< HEAD
   "execution_count": 40,
=======
   "execution_count": 38,
>>>>>>> a282d9ababe32ff030c47b1a9ec33bc3f0a40288
   "metadata": {},
   "outputs": [],
   "source": [
    "df3b = df3[[\"is_cancer\", \"prediction_cancer\"]].copy()"
   ]
  },
  {
   "cell_type": "code",
<<<<<<< HEAD
   "execution_count": 41,
   "metadata": {},
   "outputs": [
    {
     "data": {
      "text/html": [
       "<div>\n",
       "<style scoped>\n",
       "    .dataframe tbody tr th:only-of-type {\n",
       "        vertical-align: middle;\n",
       "    }\n",
       "\n",
       "    .dataframe tbody tr th {\n",
       "        vertical-align: top;\n",
       "    }\n",
       "\n",
       "    .dataframe thead th {\n",
       "        text-align: right;\n",
       "    }\n",
       "</style>\n",
       "<table border=\"1\" class=\"dataframe\">\n",
       "  <thead>\n",
       "    <tr style=\"text-align: right;\">\n",
       "      <th></th>\n",
       "      <th>is_cancer</th>\n",
       "      <th>prediction_cancer</th>\n",
       "    </tr>\n",
       "  </thead>\n",
       "  <tbody>\n",
       "    <tr>\n",
       "      <th>254</th>\n",
       "      <td>1</td>\n",
       "      <td>1</td>\n",
       "    </tr>\n",
       "    <tr>\n",
       "      <th>114</th>\n",
       "      <td>0</td>\n",
       "      <td>0</td>\n",
       "    </tr>\n",
       "    <tr>\n",
       "      <th>1</th>\n",
       "      <td>1</td>\n",
       "      <td>1</td>\n",
       "    </tr>\n",
       "    <tr>\n",
       "      <th>95</th>\n",
       "      <td>1</td>\n",
       "      <td>1</td>\n",
       "    </tr>\n",
       "    <tr>\n",
       "      <th>245</th>\n",
       "      <td>0</td>\n",
       "      <td>0</td>\n",
       "    </tr>\n",
       "    <tr>\n",
       "      <th>139</th>\n",
       "      <td>0</td>\n",
       "      <td>0</td>\n",
       "    </tr>\n",
       "    <tr>\n",
       "      <th>431</th>\n",
       "      <td>0</td>\n",
       "      <td>0</td>\n",
       "    </tr>\n",
       "    <tr>\n",
       "      <th>514</th>\n",
       "      <td>1</td>\n",
       "      <td>1</td>\n",
       "    </tr>\n",
       "    <tr>\n",
       "      <th>144</th>\n",
       "      <td>0</td>\n",
       "      <td>0</td>\n",
       "    </tr>\n",
       "    <tr>\n",
       "      <th>228</th>\n",
       "      <td>0</td>\n",
       "      <td>0</td>\n",
       "    </tr>\n",
       "  </tbody>\n",
       "</table>\n",
       "</div>"
      ],
      "text/plain": [
       "     is_cancer  prediction_cancer\n",
       "254          1                  1\n",
       "114          0                  0\n",
       "1            1                  1\n",
       "95           1                  1\n",
       "245          0                  0\n",
       "139          0                  0\n",
       "431          0                  0\n",
       "514          1                  1\n",
       "144          0                  0\n",
       "228          0                  0"
      ]
     },
     "execution_count": 41,
     "metadata": {},
     "output_type": "execute_result"
    }
   ],
   "source": [
    "df3b.sample(10)"
   ]
  },
  {
   "cell_type": "code",
   "execution_count": 42,
=======
   "execution_count": 40,
>>>>>>> a282d9ababe32ff030c47b1a9ec33bc3f0a40288
   "metadata": {},
   "outputs": [],
   "source": [
    "df3b[\"correct\"] = (df3b.is_cancer == df3.prediction_cancer)"
   ]
  },
  {
   "cell_type": "code",
<<<<<<< HEAD
   "execution_count": 43,
=======
   "execution_count": 42,
>>>>>>> a282d9ababe32ff030c47b1a9ec33bc3f0a40288
   "metadata": {},
   "outputs": [
    {
     "data": {
      "text/html": [
       "<div>\n",
       "<style scoped>\n",
       "    .dataframe tbody tr th:only-of-type {\n",
       "        vertical-align: middle;\n",
       "    }\n",
       "\n",
       "    .dataframe tbody tr th {\n",
       "        vertical-align: top;\n",
       "    }\n",
       "\n",
       "    .dataframe thead th {\n",
       "        text-align: right;\n",
       "    }\n",
       "</style>\n",
       "<table border=\"1\" class=\"dataframe\">\n",
       "  <thead>\n",
       "    <tr style=\"text-align: right;\">\n",
       "      <th></th>\n",
       "      <th>is_cancer</th>\n",
       "      <th>prediction_cancer</th>\n",
       "      <th>correct</th>\n",
       "    </tr>\n",
       "  </thead>\n",
       "  <tbody>\n",
       "    <tr>\n",
<<<<<<< HEAD
       "      <th>466</th>\n",
       "      <td>0</td>\n",
       "      <td>0</td>\n",
       "      <td>True</td>\n",
       "    </tr>\n",
       "    <tr>\n",
       "      <th>395</th>\n",
=======
       "      <th>566</th>\n",
       "      <td>1</td>\n",
       "      <td>1</td>\n",
       "      <td>True</td>\n",
       "    </tr>\n",
       "    <tr>\n",
       "      <th>486</th>\n",
>>>>>>> a282d9ababe32ff030c47b1a9ec33bc3f0a40288
       "      <td>0</td>\n",
       "      <td>0</td>\n",
       "      <td>True</td>\n",
       "    </tr>\n",
       "    <tr>\n",
<<<<<<< HEAD
       "      <th>123</th>\n",
=======
       "      <th>524</th>\n",
>>>>>>> a282d9ababe32ff030c47b1a9ec33bc3f0a40288
       "      <td>0</td>\n",
       "      <td>0</td>\n",
       "      <td>True</td>\n",
       "    </tr>\n",
       "    <tr>\n",
<<<<<<< HEAD
       "      <th>348</th>\n",
=======
       "      <th>189</th>\n",
>>>>>>> a282d9ababe32ff030c47b1a9ec33bc3f0a40288
       "      <td>0</td>\n",
       "      <td>0</td>\n",
       "      <td>True</td>\n",
       "    </tr>\n",
       "    <tr>\n",
<<<<<<< HEAD
       "      <th>365</th>\n",
=======
       "      <th>393</th>\n",
>>>>>>> a282d9ababe32ff030c47b1a9ec33bc3f0a40288
       "      <td>1</td>\n",
       "      <td>1</td>\n",
       "      <td>True</td>\n",
       "    </tr>\n",
       "    <tr>\n",
<<<<<<< HEAD
       "      <th>552</th>\n",
=======
       "      <th>429</th>\n",
>>>>>>> a282d9ababe32ff030c47b1a9ec33bc3f0a40288
       "      <td>0</td>\n",
       "      <td>0</td>\n",
       "      <td>True</td>\n",
       "    </tr>\n",
       "    <tr>\n",
<<<<<<< HEAD
       "      <th>436</th>\n",
       "      <td>0</td>\n",
       "      <td>0</td>\n",
       "      <td>True</td>\n",
       "    </tr>\n",
       "    <tr>\n",
       "      <th>316</th>\n",
=======
       "      <th>31</th>\n",
       "      <td>1</td>\n",
       "      <td>1</td>\n",
       "      <td>True</td>\n",
       "    </tr>\n",
       "    <tr>\n",
       "      <th>125</th>\n",
>>>>>>> a282d9ababe32ff030c47b1a9ec33bc3f0a40288
       "      <td>0</td>\n",
       "      <td>0</td>\n",
       "      <td>True</td>\n",
       "    </tr>\n",
       "    <tr>\n",
<<<<<<< HEAD
       "      <th>295</th>\n",
=======
       "      <th>63</th>\n",
>>>>>>> a282d9ababe32ff030c47b1a9ec33bc3f0a40288
       "      <td>0</td>\n",
       "      <td>0</td>\n",
       "      <td>True</td>\n",
       "    </tr>\n",
       "    <tr>\n",
<<<<<<< HEAD
       "      <th>382</th>\n",
       "      <td>0</td>\n",
       "      <td>0</td>\n",
=======
       "      <th>509</th>\n",
       "      <td>1</td>\n",
       "      <td>1</td>\n",
>>>>>>> a282d9ababe32ff030c47b1a9ec33bc3f0a40288
       "      <td>True</td>\n",
       "    </tr>\n",
       "  </tbody>\n",
       "</table>\n",
       "</div>"
      ],
      "text/plain": [
       "     is_cancer  prediction_cancer  correct\n",
<<<<<<< HEAD
       "466          0                  0     True\n",
       "395          0                  0     True\n",
       "123          0                  0     True\n",
       "348          0                  0     True\n",
       "365          1                  1     True\n",
       "552          0                  0     True\n",
       "436          0                  0     True\n",
       "316          0                  0     True\n",
       "295          0                  0     True\n",
       "382          0                  0     True"
      ]
     },
     "execution_count": 43,
=======
       "566          1                  1     True\n",
       "486          0                  0     True\n",
       "524          0                  0     True\n",
       "189          0                  0     True\n",
       "393          1                  1     True\n",
       "429          0                  0     True\n",
       "31           1                  1     True\n",
       "125          0                  0     True\n",
       "63           0                  0     True\n",
       "509          1                  1     True"
      ]
     },
     "execution_count": 42,
>>>>>>> a282d9ababe32ff030c47b1a9ec33bc3f0a40288
     "metadata": {},
     "output_type": "execute_result"
    }
   ],
   "source": [
    "df3b.sample(10)"
   ]
  },
  {
   "cell_type": "markdown",
   "metadata": {},
   "source": [
    "Confusion matrix"
   ]
  },
  {
   "cell_type": "markdown",
   "metadata": {},
   "source": [
    "<img src=\"https://github.com/andrewwlong/classification_metrics_sklearn/raw/541a0d065ffb8b3ff705161f6d16088d434b2ea7/img/conf_matrix.png\">"
   ]
  },
  {
   "cell_type": "code",
<<<<<<< HEAD
   "execution_count": 44,
=======
   "execution_count": 43,
>>>>>>> a282d9ababe32ff030c47b1a9ec33bc3f0a40288
   "metadata": {},
   "outputs": [
    {
     "data": {
      "text/html": [
       "<div>\n",
       "<style scoped>\n",
       "    .dataframe tbody tr th:only-of-type {\n",
       "        vertical-align: middle;\n",
       "    }\n",
       "\n",
       "    .dataframe tbody tr th {\n",
       "        vertical-align: top;\n",
       "    }\n",
       "\n",
       "    .dataframe thead th {\n",
       "        text-align: right;\n",
       "    }\n",
       "</style>\n",
       "<table border=\"1\" class=\"dataframe\">\n",
       "  <thead>\n",
       "    <tr style=\"text-align: right;\">\n",
       "      <th>prediction_cancer</th>\n",
       "      <th>0</th>\n",
       "      <th>1</th>\n",
       "    </tr>\n",
       "    <tr>\n",
       "      <th>is_cancer</th>\n",
       "      <th></th>\n",
       "      <th></th>\n",
       "    </tr>\n",
       "  </thead>\n",
       "  <tbody>\n",
       "    <tr>\n",
       "      <th>0</th>\n",
       "      <td>348</td>\n",
       "      <td>9</td>\n",
       "    </tr>\n",
       "    <tr>\n",
       "      <th>1</th>\n",
       "      <td>15</td>\n",
       "      <td>197</td>\n",
       "    </tr>\n",
       "  </tbody>\n",
       "</table>\n",
       "</div>"
      ],
      "text/plain": [
       "prediction_cancer    0    1\n",
       "is_cancer                  \n",
       "0                  348    9\n",
       "1                   15  197"
      ]
     },
<<<<<<< HEAD
     "execution_count": 44,
=======
     "execution_count": 43,
>>>>>>> a282d9ababe32ff030c47b1a9ec33bc3f0a40288
     "metadata": {},
     "output_type": "execute_result"
    }
   ],
   "source": [
    "pd.crosstab(\n",
    "    df3b.is_cancer,\n",
    "    df3b.prediction_cancer\n",
    ")"
   ]
  },
  {
   "cell_type": "code",
   "execution_count": 48,
   "metadata": {},
   "outputs": [
    {
     "data": {
      "text/plain": [
       "0.9578207381370826"
      ]
     },
     "execution_count": 48,
     "metadata": {},
     "output_type": "execute_result"
    }
   ],
   "source": [
    "# Check the accuracy\n",
    "log.score(X, y)"
   ]
  },
  {
   "cell_type": "code",
   "execution_count": 45,
   "metadata": {},
   "outputs": [],
   "source": [
<<<<<<< HEAD
    "# Calculate the accuracy. Sum of what we got right divided by the total\n",
=======
    "accuracy"
   ]
  },
  {
   "cell_type": "code",
   "execution_count": 44,
   "metadata": {},
   "outputs": [
    {
     "data": {
      "text/plain": [
       "0.9578207381370826"
      ]
     },
     "execution_count": 44,
     "metadata": {},
     "output_type": "execute_result"
    }
   ],
   "source": [
    "log.score(X, y)"
   ]
  },
  {
   "cell_type": "code",
   "execution_count": 45,
   "metadata": {},
   "outputs": [],
   "source": [
>>>>>>> a282d9ababe32ff030c47b1a9ec33bc3f0a40288
    "acc = (348 + 197) / df3.shape[0]"
   ]
  },
  {
   "cell_type": "code",
   "execution_count": 46,
   "metadata": {},
   "outputs": [
    {
     "data": {
      "text/plain": [
       "0.9578207381370826"
      ]
     },
     "execution_count": 46,
     "metadata": {},
     "output_type": "execute_result"
    }
   ],
<<<<<<< HEAD
=======
   "source": [
    "acc"
   ]
  },
  {
   "cell_type": "code",
   "execution_count": null,
   "metadata": {},
   "outputs": [],
   "source": []
  },
  {
   "cell_type": "markdown",
   "metadata": {},
>>>>>>> a282d9ababe32ff030c47b1a9ec33bc3f0a40288
   "source": [
    "Using the train test split paradigm:  \n",
    " - Split dataset in train and test.\n",
    " - Use train to train model.\n",
    " - Predict test.\n",
    " - Evaluate accuracy between predictions and real test entries."
   ]
  },
  {
   "cell_type": "raw",
   "metadata": {},
   "source": [
    "Using the train test split paradigm:\n",
    "    - Split dataset in train and test. \n",
    "    - Use train to train model. \n",
    "    - Predict test. \n",
    "    - Evaluate accuracy between predictions and reality (the entries with the real results in the dataset)"
   ]
  },
  {
   "cell_type": "markdown",
   "metadata": {},
   "source": [
    "#### Accuracy score"
   ]
  },
  {
   "cell_type": "markdown",
   "metadata": {},
   "source": [
    "Accuracy is the proportion of good predictions"
   ]
  },
  {
   "cell_type": "code",
<<<<<<< HEAD
   "execution_count": 49,
=======
   "execution_count": 47,
>>>>>>> a282d9ababe32ff030c47b1a9ec33bc3f0a40288
   "metadata": {},
   "outputs": [],
   "source": [
    "accuracy = df3b.correct.sum() / df3b.shape[0]"
   ]
  },
  {
   "cell_type": "code",
<<<<<<< HEAD
   "execution_count": 50,
=======
   "execution_count": 48,
>>>>>>> a282d9ababe32ff030c47b1a9ec33bc3f0a40288
   "metadata": {},
   "outputs": [
    {
     "data": {
      "text/plain": [
       "0.9578207381370826"
      ]
     },
<<<<<<< HEAD
     "execution_count": 50,
=======
     "execution_count": 48,
>>>>>>> a282d9ababe32ff030c47b1a9ec33bc3f0a40288
     "metadata": {},
     "output_type": "execute_result"
    }
   ],
   "source": [
    "accuracy"
   ]
  },
  {
   "cell_type": "markdown",
   "metadata": {},
   "source": [
    "We got better accuracy using many predictors instead of one (as expected!)"
   ]
  },
  {
   "cell_type": "markdown",
   "metadata": {},
   "source": [
    "#### `predict_proba`"
   ]
  },
  {
   "cell_type": "markdown",
   "metadata": {},
   "source": [
    "Logistic regression actually predicts probabilities"
   ]
  },
  {
   "cell_type": "markdown",
   "metadata": {},
   "source": [
    "We, as data scientists, want more precise information than just the *discrete* prediction 0, 1"
   ]
  },
  {
   "cell_type": "code",
<<<<<<< HEAD
   "execution_count": 51,
=======
   "execution_count": 49,
>>>>>>> a282d9ababe32ff030c47b1a9ec33bc3f0a40288
   "metadata": {},
   "outputs": [
    {
     "data": {
      "text/html": [
       "<div>\n",
       "<style scoped>\n",
       "    .dataframe tbody tr th:only-of-type {\n",
       "        vertical-align: middle;\n",
       "    }\n",
       "\n",
       "    .dataframe tbody tr th {\n",
       "        vertical-align: top;\n",
       "    }\n",
       "\n",
       "    .dataframe thead th {\n",
       "        text-align: right;\n",
       "    }\n",
       "</style>\n",
       "<table border=\"1\" class=\"dataframe\">\n",
       "  <thead>\n",
       "    <tr style=\"text-align: right;\">\n",
       "      <th></th>\n",
       "      <th>mean_radius</th>\n",
       "      <th>mean_texture</th>\n",
       "      <th>mean_perimeter</th>\n",
       "      <th>mean_area</th>\n",
       "      <th>mean_smoothness</th>\n",
       "      <th>mean_compactness</th>\n",
       "      <th>mean_concavity</th>\n",
       "      <th>mean_concave_points</th>\n",
       "      <th>mean_symmetry</th>\n",
       "      <th>mean_fractal_dimension</th>\n",
       "      <th>...</th>\n",
       "      <th>worst_texture</th>\n",
       "      <th>worst_perimeter</th>\n",
       "      <th>worst_area</th>\n",
       "      <th>worst_smoothness</th>\n",
       "      <th>worst_compactness</th>\n",
       "      <th>worst_concavity</th>\n",
       "      <th>worst_concave_points</th>\n",
       "      <th>worst_symmetry</th>\n",
       "      <th>worst_fractal_dimension</th>\n",
       "      <th>is_cancer</th>\n",
       "    </tr>\n",
       "  </thead>\n",
       "  <tbody>\n",
       "    <tr>\n",
       "      <th>0</th>\n",
       "      <td>17.99</td>\n",
       "      <td>10.38</td>\n",
       "      <td>122.80</td>\n",
       "      <td>1001.0</td>\n",
       "      <td>0.11840</td>\n",
       "      <td>0.27760</td>\n",
       "      <td>0.3001</td>\n",
       "      <td>0.14710</td>\n",
       "      <td>0.2419</td>\n",
       "      <td>0.07871</td>\n",
       "      <td>...</td>\n",
       "      <td>17.33</td>\n",
       "      <td>184.60</td>\n",
       "      <td>2019.0</td>\n",
       "      <td>0.1622</td>\n",
       "      <td>0.6656</td>\n",
       "      <td>0.7119</td>\n",
       "      <td>0.2654</td>\n",
       "      <td>0.4601</td>\n",
       "      <td>0.11890</td>\n",
       "      <td>1</td>\n",
       "    </tr>\n",
       "    <tr>\n",
       "      <th>1</th>\n",
       "      <td>20.57</td>\n",
       "      <td>17.77</td>\n",
       "      <td>132.90</td>\n",
       "      <td>1326.0</td>\n",
       "      <td>0.08474</td>\n",
       "      <td>0.07864</td>\n",
       "      <td>0.0869</td>\n",
       "      <td>0.07017</td>\n",
       "      <td>0.1812</td>\n",
       "      <td>0.05667</td>\n",
       "      <td>...</td>\n",
       "      <td>23.41</td>\n",
       "      <td>158.80</td>\n",
       "      <td>1956.0</td>\n",
       "      <td>0.1238</td>\n",
       "      <td>0.1866</td>\n",
       "      <td>0.2416</td>\n",
       "      <td>0.1860</td>\n",
       "      <td>0.2750</td>\n",
       "      <td>0.08902</td>\n",
       "      <td>1</td>\n",
       "    </tr>\n",
       "    <tr>\n",
       "      <th>2</th>\n",
       "      <td>19.69</td>\n",
       "      <td>21.25</td>\n",
       "      <td>130.00</td>\n",
       "      <td>1203.0</td>\n",
       "      <td>0.10960</td>\n",
       "      <td>0.15990</td>\n",
       "      <td>0.1974</td>\n",
       "      <td>0.12790</td>\n",
       "      <td>0.2069</td>\n",
       "      <td>0.05999</td>\n",
       "      <td>...</td>\n",
       "      <td>25.53</td>\n",
       "      <td>152.50</td>\n",
       "      <td>1709.0</td>\n",
       "      <td>0.1444</td>\n",
       "      <td>0.4245</td>\n",
       "      <td>0.4504</td>\n",
       "      <td>0.2430</td>\n",
       "      <td>0.3613</td>\n",
       "      <td>0.08758</td>\n",
       "      <td>1</td>\n",
       "    </tr>\n",
       "    <tr>\n",
       "      <th>3</th>\n",
       "      <td>11.42</td>\n",
       "      <td>20.38</td>\n",
       "      <td>77.58</td>\n",
       "      <td>386.1</td>\n",
       "      <td>0.14250</td>\n",
       "      <td>0.28390</td>\n",
       "      <td>0.2414</td>\n",
       "      <td>0.10520</td>\n",
       "      <td>0.2597</td>\n",
       "      <td>0.09744</td>\n",
       "      <td>...</td>\n",
       "      <td>26.50</td>\n",
       "      <td>98.87</td>\n",
       "      <td>567.7</td>\n",
       "      <td>0.2098</td>\n",
       "      <td>0.8663</td>\n",
       "      <td>0.6869</td>\n",
       "      <td>0.2575</td>\n",
       "      <td>0.6638</td>\n",
       "      <td>0.17300</td>\n",
       "      <td>1</td>\n",
       "    </tr>\n",
       "    <tr>\n",
       "      <th>4</th>\n",
       "      <td>20.29</td>\n",
       "      <td>14.34</td>\n",
       "      <td>135.10</td>\n",
       "      <td>1297.0</td>\n",
       "      <td>0.10030</td>\n",
       "      <td>0.13280</td>\n",
       "      <td>0.1980</td>\n",
       "      <td>0.10430</td>\n",
       "      <td>0.1809</td>\n",
       "      <td>0.05883</td>\n",
       "      <td>...</td>\n",
       "      <td>16.67</td>\n",
       "      <td>152.20</td>\n",
       "      <td>1575.0</td>\n",
       "      <td>0.1374</td>\n",
       "      <td>0.2050</td>\n",
       "      <td>0.4000</td>\n",
       "      <td>0.1625</td>\n",
       "      <td>0.2364</td>\n",
       "      <td>0.07678</td>\n",
       "      <td>1</td>\n",
       "    </tr>\n",
       "  </tbody>\n",
       "</table>\n",
       "<p>5 rows × 31 columns</p>\n",
       "</div>"
      ],
      "text/plain": [
       "   mean_radius  mean_texture  mean_perimeter  mean_area  mean_smoothness  \\\n",
       "0        17.99         10.38          122.80     1001.0          0.11840   \n",
       "1        20.57         17.77          132.90     1326.0          0.08474   \n",
       "2        19.69         21.25          130.00     1203.0          0.10960   \n",
       "3        11.42         20.38           77.58      386.1          0.14250   \n",
       "4        20.29         14.34          135.10     1297.0          0.10030   \n",
       "\n",
       "   mean_compactness  mean_concavity  mean_concave_points  mean_symmetry  \\\n",
       "0           0.27760          0.3001              0.14710         0.2419   \n",
       "1           0.07864          0.0869              0.07017         0.1812   \n",
       "2           0.15990          0.1974              0.12790         0.2069   \n",
       "3           0.28390          0.2414              0.10520         0.2597   \n",
       "4           0.13280          0.1980              0.10430         0.1809   \n",
       "\n",
       "   mean_fractal_dimension  ...  worst_texture  worst_perimeter  worst_area  \\\n",
       "0                 0.07871  ...          17.33           184.60      2019.0   \n",
       "1                 0.05667  ...          23.41           158.80      1956.0   \n",
       "2                 0.05999  ...          25.53           152.50      1709.0   \n",
       "3                 0.09744  ...          26.50            98.87       567.7   \n",
       "4                 0.05883  ...          16.67           152.20      1575.0   \n",
       "\n",
       "   worst_smoothness  worst_compactness  worst_concavity  worst_concave_points  \\\n",
       "0            0.1622             0.6656           0.7119                0.2654   \n",
       "1            0.1238             0.1866           0.2416                0.1860   \n",
       "2            0.1444             0.4245           0.4504                0.2430   \n",
       "3            0.2098             0.8663           0.6869                0.2575   \n",
       "4            0.1374             0.2050           0.4000                0.1625   \n",
       "\n",
       "   worst_symmetry  worst_fractal_dimension  is_cancer  \n",
       "0          0.4601                  0.11890          1  \n",
       "1          0.2750                  0.08902          1  \n",
       "2          0.3613                  0.08758          1  \n",
       "3          0.6638                  0.17300          1  \n",
       "4          0.2364                  0.07678          1  \n",
       "\n",
       "[5 rows x 31 columns]"
      ]
     },
<<<<<<< HEAD
     "execution_count": 51,
=======
     "execution_count": 49,
>>>>>>> a282d9ababe32ff030c47b1a9ec33bc3f0a40288
     "metadata": {},
     "output_type": "execute_result"
    }
   ],
   "source": [
    "df.head(5)"
   ]
  },
  {
   "cell_type": "code",
<<<<<<< HEAD
   "execution_count": 52,
=======
   "execution_count": 50,
>>>>>>> a282d9ababe32ff030c47b1a9ec33bc3f0a40288
   "metadata": {},
   "outputs": [
    {
     "data": {
      "text/plain": [
       "(569, 31)"
      ]
     },
<<<<<<< HEAD
     "execution_count": 52,
=======
     "execution_count": 50,
>>>>>>> a282d9ababe32ff030c47b1a9ec33bc3f0a40288
     "metadata": {},
     "output_type": "execute_result"
    }
   ],
   "source": [
    "df.shape"
   ]
  },
  {
   "cell_type": "code",
<<<<<<< HEAD
   "execution_count": 53,
=======
   "execution_count": 59,
>>>>>>> a282d9ababe32ff030c47b1a9ec33bc3f0a40288
   "metadata": {},
   "outputs": [
    {
     "data": {
      "text/plain": [
<<<<<<< HEAD
       "array([1, 1, 1, 1, 0])"
      ]
     },
     "execution_count": 53,
=======
       "array([1, 1, 0, 0, 0])"
      ]
     },
     "execution_count": 59,
>>>>>>> a282d9ababe32ff030c47b1a9ec33bc3f0a40288
     "metadata": {},
     "output_type": "execute_result"
    }
   ],
   "source": [
<<<<<<< HEAD
    "# Let's see what our model predicts for five patients\n",
    "log.predict(X)[15:20]"
=======
    "# lets see what our model predicts for 5 patients\n",
    "log.predict(X)[35:40]"
>>>>>>> a282d9ababe32ff030c47b1a9ec33bc3f0a40288
   ]
  },
  {
   "cell_type": "code",
<<<<<<< HEAD
   "execution_count": 55,
   "metadata": {},
   "outputs": [
    {
     "data": {
      "text/plain": [
       "array([[0.   , 1.   ],\n",
       "       [0.001, 0.999],\n",
       "       [0.   , 1.   ],\n",
       "       [0.   , 1.   ],\n",
       "       [0.986, 0.014]])"
      ]
     },
     "execution_count": 55,
     "metadata": {},
     "output_type": "execute_result"
    }
   ],
   "source": [
    "# Without adding the [:, 1], it shows the probability of yes and no. \n",
    "log.predict_proba(X)[15:20].round(3)#[:, 1]"
   ]
  },
  {
   "cell_type": "code",
   "execution_count": null,
=======
   "execution_count": 62,
>>>>>>> a282d9ababe32ff030c47b1a9ec33bc3f0a40288
   "metadata": {},
   "outputs": [
    {
     "data": {
      "text/plain": [
       "array([1.   , 0.885, 0.   , 0.378, 0.387])"
      ]
     },
     "execution_count": 62,
     "metadata": {},
     "output_type": "execute_result"
    }
   ],
   "source": [
<<<<<<< HEAD
    "# This is the probability of being a 1 or not"
   ]
  },
  {
   "cell_type": "code",
   "execution_count": 56,
   "metadata": {},
   "outputs": [
    {
     "data": {
      "text/plain": [
       "array([1.   , 0.999, 1.   , 1.   , 0.014])"
      ]
     },
     "execution_count": 56,
     "metadata": {},
     "output_type": "execute_result"
    }
   ],
   "source": [
    "log.predict_proba(X)[15:20].round(3)[:, 1]"
=======
    "log.predict_proba(X)[35:40].round(3)[:, 1]"
>>>>>>> a282d9ababe32ff030c47b1a9ec33bc3f0a40288
   ]
  },
  {
   "cell_type": "code",
<<<<<<< HEAD
   "execution_count": 57,
=======
   "execution_count": 63,
>>>>>>> a282d9ababe32ff030c47b1a9ec33bc3f0a40288
   "metadata": {},
   "outputs": [],
   "source": [
    "df3[\"prediction_proba_cancer\"] = log.predict_proba(X)[:, 1]"
   ]
  },
  {
   "cell_type": "code",
<<<<<<< HEAD
   "execution_count": 58,
=======
   "execution_count": 64,
>>>>>>> a282d9ababe32ff030c47b1a9ec33bc3f0a40288
   "metadata": {},
   "outputs": [],
   "source": [
    "df3b[\"prediction_proba_cancer\"] = df3.prediction_proba_cancer"
   ]
  },
  {
   "cell_type": "code",
<<<<<<< HEAD
   "execution_count": 59,
=======
   "execution_count": 65,
>>>>>>> a282d9ababe32ff030c47b1a9ec33bc3f0a40288
   "metadata": {},
   "outputs": [
    {
     "data": {
      "text/html": [
       "<div>\n",
       "<style scoped>\n",
       "    .dataframe tbody tr th:only-of-type {\n",
       "        vertical-align: middle;\n",
       "    }\n",
       "\n",
       "    .dataframe tbody tr th {\n",
       "        vertical-align: top;\n",
       "    }\n",
       "\n",
       "    .dataframe thead th {\n",
       "        text-align: right;\n",
       "    }\n",
       "</style>\n",
       "<table border=\"1\" class=\"dataframe\">\n",
       "  <thead>\n",
       "    <tr style=\"text-align: right;\">\n",
       "      <th></th>\n",
       "      <th>is_cancer</th>\n",
       "      <th>prediction_cancer</th>\n",
       "      <th>correct</th>\n",
       "      <th>prediction_proba_cancer</th>\n",
       "    </tr>\n",
       "  </thead>\n",
       "  <tbody>\n",
       "    <tr>\n",
<<<<<<< HEAD
       "      <th>377</th>\n",
       "      <td>0</td>\n",
       "      <td>0</td>\n",
       "      <td>True</td>\n",
       "      <td>0.098409</td>\n",
       "    </tr>\n",
       "    <tr>\n",
       "      <th>458</th>\n",
       "      <td>0</td>\n",
       "      <td>0</td>\n",
       "      <td>True</td>\n",
       "      <td>0.026049</td>\n",
       "    </tr>\n",
       "    <tr>\n",
       "      <th>205</th>\n",
       "      <td>1</td>\n",
       "      <td>1</td>\n",
       "      <td>True</td>\n",
       "      <td>0.578865</td>\n",
       "    </tr>\n",
       "    <tr>\n",
       "      <th>313</th>\n",
       "      <td>0</td>\n",
       "      <td>0</td>\n",
       "      <td>True</td>\n",
       "      <td>0.000022</td>\n",
       "    </tr>\n",
       "    <tr>\n",
       "      <th>450</th>\n",
       "      <td>0</td>\n",
       "      <td>0</td>\n",
       "      <td>True</td>\n",
       "      <td>0.005402</td>\n",
       "    </tr>\n",
       "    <tr>\n",
       "      <th>72</th>\n",
       "      <td>1</td>\n",
       "      <td>1</td>\n",
       "      <td>True</td>\n",
       "      <td>1.000000</td>\n",
       "    </tr>\n",
       "    <tr>\n",
       "      <th>92</th>\n",
       "      <td>0</td>\n",
       "      <td>0</td>\n",
       "      <td>True</td>\n",
       "      <td>0.350282</td>\n",
       "    </tr>\n",
       "    <tr>\n",
       "      <th>405</th>\n",
       "      <td>0</td>\n",
       "      <td>0</td>\n",
       "      <td>True</td>\n",
       "      <td>0.002803</td>\n",
       "    </tr>\n",
       "    <tr>\n",
       "      <th>12</th>\n",
       "      <td>1</td>\n",
       "      <td>1</td>\n",
       "      <td>True</td>\n",
       "      <td>0.999993</td>\n",
       "    </tr>\n",
       "    <tr>\n",
       "      <th>167</th>\n",
       "      <td>1</td>\n",
       "      <td>1</td>\n",
       "      <td>True</td>\n",
       "      <td>0.999379</td>\n",
=======
       "      <th>159</th>\n",
       "      <td>0</td>\n",
       "      <td>0</td>\n",
       "      <td>True</td>\n",
       "      <td>0.000177</td>\n",
       "    </tr>\n",
       "    <tr>\n",
       "      <th>240</th>\n",
       "      <td>0</td>\n",
       "      <td>0</td>\n",
       "      <td>True</td>\n",
       "      <td>0.004071</td>\n",
       "    </tr>\n",
       "    <tr>\n",
       "      <th>441</th>\n",
       "      <td>1</td>\n",
       "      <td>1</td>\n",
       "      <td>True</td>\n",
       "      <td>0.999917</td>\n",
       "    </tr>\n",
       "    <tr>\n",
       "      <th>143</th>\n",
       "      <td>0</td>\n",
       "      <td>0</td>\n",
       "      <td>True</td>\n",
       "      <td>0.012844</td>\n",
       "    </tr>\n",
       "    <tr>\n",
       "      <th>392</th>\n",
       "      <td>1</td>\n",
       "      <td>1</td>\n",
       "      <td>True</td>\n",
       "      <td>0.999999</td>\n",
       "    </tr>\n",
       "    <tr>\n",
       "      <th>297</th>\n",
       "      <td>1</td>\n",
       "      <td>0</td>\n",
       "      <td>False</td>\n",
       "      <td>0.008882</td>\n",
       "    </tr>\n",
       "    <tr>\n",
       "      <th>530</th>\n",
       "      <td>0</td>\n",
       "      <td>0</td>\n",
       "      <td>True</td>\n",
       "      <td>0.038176</td>\n",
       "    </tr>\n",
       "    <tr>\n",
       "      <th>270</th>\n",
       "      <td>0</td>\n",
       "      <td>0</td>\n",
       "      <td>True</td>\n",
       "      <td>0.000276</td>\n",
       "    </tr>\n",
       "    <tr>\n",
       "      <th>142</th>\n",
       "      <td>0</td>\n",
       "      <td>0</td>\n",
       "      <td>True</td>\n",
       "      <td>0.003539</td>\n",
       "    </tr>\n",
       "    <tr>\n",
       "      <th>534</th>\n",
       "      <td>0</td>\n",
       "      <td>0</td>\n",
       "      <td>True</td>\n",
       "      <td>0.000469</td>\n",
>>>>>>> a282d9ababe32ff030c47b1a9ec33bc3f0a40288
       "    </tr>\n",
       "  </tbody>\n",
       "</table>\n",
       "</div>"
      ],
      "text/plain": [
       "     is_cancer  prediction_cancer  correct  prediction_proba_cancer\n",
<<<<<<< HEAD
       "377          0                  0     True                 0.098409\n",
       "458          0                  0     True                 0.026049\n",
       "205          1                  1     True                 0.578865\n",
       "313          0                  0     True                 0.000022\n",
       "450          0                  0     True                 0.005402\n",
       "72           1                  1     True                 1.000000\n",
       "92           0                  0     True                 0.350282\n",
       "405          0                  0     True                 0.002803\n",
       "12           1                  1     True                 0.999993\n",
       "167          1                  1     True                 0.999379"
      ]
     },
     "execution_count": 59,
=======
       "159          0                  0     True                 0.000177\n",
       "240          0                  0     True                 0.004071\n",
       "441          1                  1     True                 0.999917\n",
       "143          0                  0     True                 0.012844\n",
       "392          1                  1     True                 0.999999\n",
       "297          1                  0    False                 0.008882\n",
       "530          0                  0     True                 0.038176\n",
       "270          0                  0     True                 0.000276\n",
       "142          0                  0     True                 0.003539\n",
       "534          0                  0     True                 0.000469"
      ]
     },
     "execution_count": 65,
>>>>>>> a282d9ababe32ff030c47b1a9ec33bc3f0a40288
     "metadata": {},
     "output_type": "execute_result"
    }
   ],
   "source": [
    "df3b.sample(10)"
   ]
  },
  {
   "cell_type": "markdown",
   "metadata": {},
   "source": [
    "Graphical interpretation in the case of ONE PREDICTOR"
   ]
  },
  {
   "cell_type": "markdown",
   "metadata": {},
   "source": [
    "The curve gives the probability (Y) of cancer given the mean_radius (X)"
   ]
  },
  {
   "cell_type": "markdown",
   "metadata": {},
   "source": [
    "<img src=\"https://static.javatpoint.com/tutorial/machine-learning/images/logistic-regression-in-machine-learning.png\">"
   ]
  },
  {
   "cell_type": "markdown",
   "metadata": {},
   "source": [
    "#### Setting threshold manually"
   ]
  },
  {
   "cell_type": "markdown",
   "metadata": {},
   "source": [
    "Default `predict` just computes `predict_proba` > 0.5"
   ]
  },
  {
   "cell_type": "code",
<<<<<<< HEAD
   "execution_count": 60,
=======
   "execution_count": 66,
>>>>>>> a282d9ababe32ff030c47b1a9ec33bc3f0a40288
   "metadata": {},
   "outputs": [
    {
     "data": {
      "text/html": [
       "<div>\n",
       "<style scoped>\n",
       "    .dataframe tbody tr th:only-of-type {\n",
       "        vertical-align: middle;\n",
       "    }\n",
       "\n",
       "    .dataframe tbody tr th {\n",
       "        vertical-align: top;\n",
       "    }\n",
       "\n",
       "    .dataframe thead th {\n",
       "        text-align: right;\n",
       "    }\n",
       "</style>\n",
       "<table border=\"1\" class=\"dataframe\">\n",
       "  <thead>\n",
       "    <tr style=\"text-align: right;\">\n",
       "      <th></th>\n",
       "      <th>is_cancer</th>\n",
       "      <th>prediction_cancer</th>\n",
       "      <th>correct</th>\n",
       "      <th>prediction_proba_cancer</th>\n",
       "    </tr>\n",
       "  </thead>\n",
       "  <tbody>\n",
       "    <tr>\n",
       "      <th>0</th>\n",
       "      <td>1</td>\n",
       "      <td>1</td>\n",
       "      <td>True</td>\n",
       "      <td>1.000000</td>\n",
       "    </tr>\n",
       "    <tr>\n",
       "      <th>1</th>\n",
       "      <td>1</td>\n",
       "      <td>1</td>\n",
       "      <td>True</td>\n",
       "      <td>0.999996</td>\n",
       "    </tr>\n",
       "    <tr>\n",
       "      <th>2</th>\n",
       "      <td>1</td>\n",
       "      <td>1</td>\n",
       "      <td>True</td>\n",
       "      <td>0.999999</td>\n",
       "    </tr>\n",
       "    <tr>\n",
       "      <th>3</th>\n",
       "      <td>1</td>\n",
       "      <td>1</td>\n",
       "      <td>True</td>\n",
<<<<<<< HEAD
       "      <td>0.689150</td>\n",
=======
       "      <td>0.681318</td>\n",
>>>>>>> a282d9ababe32ff030c47b1a9ec33bc3f0a40288
       "    </tr>\n",
       "    <tr>\n",
       "      <th>4</th>\n",
       "      <td>1</td>\n",
       "      <td>1</td>\n",
       "      <td>True</td>\n",
<<<<<<< HEAD
       "      <td>0.999756</td>\n",
=======
       "      <td>0.999764</td>\n",
>>>>>>> a282d9ababe32ff030c47b1a9ec33bc3f0a40288
       "    </tr>\n",
       "  </tbody>\n",
       "</table>\n",
       "</div>"
      ],
      "text/plain": [
       "   is_cancer  prediction_cancer  correct  prediction_proba_cancer\n",
       "0          1                  1     True                 1.000000\n",
       "1          1                  1     True                 0.999996\n",
       "2          1                  1     True                 0.999999\n",
<<<<<<< HEAD
       "3          1                  1     True                 0.689150\n",
       "4          1                  1     True                 0.999756"
      ]
     },
     "execution_count": 60,
=======
       "3          1                  1     True                 0.681318\n",
       "4          1                  1     True                 0.999764"
      ]
     },
     "execution_count": 66,
>>>>>>> a282d9ababe32ff030c47b1a9ec33bc3f0a40288
     "metadata": {},
     "output_type": "execute_result"
    }
   ],
   "source": [
    "df3b.head()"
   ]
  },
  {
   "cell_type": "markdown",
   "metadata": {},
   "source": [
    "Remember the original confusion matrix"
   ]
  },
  {
   "cell_type": "code",
<<<<<<< HEAD
   "execution_count": 61,
=======
   "execution_count": 67,
>>>>>>> a282d9ababe32ff030c47b1a9ec33bc3f0a40288
   "metadata": {},
   "outputs": [
    {
     "data": {
      "text/html": [
       "<div>\n",
       "<style scoped>\n",
       "    .dataframe tbody tr th:only-of-type {\n",
       "        vertical-align: middle;\n",
       "    }\n",
       "\n",
       "    .dataframe tbody tr th {\n",
       "        vertical-align: top;\n",
       "    }\n",
       "\n",
       "    .dataframe thead th {\n",
       "        text-align: right;\n",
       "    }\n",
       "</style>\n",
       "<table border=\"1\" class=\"dataframe\">\n",
       "  <thead>\n",
       "    <tr style=\"text-align: right;\">\n",
       "      <th>prediction_cancer</th>\n",
       "      <th>0</th>\n",
       "      <th>1</th>\n",
       "    </tr>\n",
       "    <tr>\n",
       "      <th>is_cancer</th>\n",
       "      <th></th>\n",
       "      <th></th>\n",
       "    </tr>\n",
       "  </thead>\n",
       "  <tbody>\n",
       "    <tr>\n",
       "      <th>0</th>\n",
       "      <td>348</td>\n",
       "      <td>9</td>\n",
       "    </tr>\n",
       "    <tr>\n",
       "      <th>1</th>\n",
       "      <td>15</td>\n",
       "      <td>197</td>\n",
       "    </tr>\n",
       "  </tbody>\n",
       "</table>\n",
       "</div>"
      ],
      "text/plain": [
       "prediction_cancer    0    1\n",
       "is_cancer                  \n",
       "0                  348    9\n",
       "1                   15  197"
      ]
     },
<<<<<<< HEAD
     "execution_count": 61,
=======
     "execution_count": 67,
>>>>>>> a282d9ababe32ff030c47b1a9ec33bc3f0a40288
     "metadata": {},
     "output_type": "execute_result"
    }
   ],
   "source": [
    "pd.crosstab(\n",
    "    df3b.is_cancer,\n",
    "    df3b.prediction_cancer\n",
    ")"
   ]
  },
  {
   "cell_type": "markdown",
   "metadata": {},
   "source": [
    "Lets change the default threshold 0.5 and see how results change"
   ]
  },
  {
   "cell_type": "markdown",
   "metadata": {},
   "source": [
    "Setting the threshold as 0.1 *invites* predictions to be Positive"
   ]
  },
  {
   "cell_type": "markdown",
   "metadata": {},
   "source": [
    "Will False Positives increase?  \n",
    "Will False Negatives increase?"
   ]
  },
  {
   "cell_type": "markdown",
   "metadata": {},
   "source": [
    "**Example 1: low threshold**"
   ]
  },
  {
   "cell_type": "code",
<<<<<<< HEAD
   "execution_count": 64,
   "metadata": {},
   "outputs": [
    {
     "data": {
      "text/html": [
       "<div>\n",
       "<style scoped>\n",
       "    .dataframe tbody tr th:only-of-type {\n",
       "        vertical-align: middle;\n",
       "    }\n",
       "\n",
       "    .dataframe tbody tr th {\n",
       "        vertical-align: top;\n",
       "    }\n",
       "\n",
       "    .dataframe thead th {\n",
       "        text-align: right;\n",
       "    }\n",
       "</style>\n",
       "<table border=\"1\" class=\"dataframe\">\n",
       "  <thead>\n",
       "    <tr style=\"text-align: right;\">\n",
       "      <th></th>\n",
       "      <th>is_cancer</th>\n",
       "      <th>prediction_cancer</th>\n",
       "      <th>correct</th>\n",
       "      <th>prediction_proba_cancer</th>\n",
       "    </tr>\n",
       "  </thead>\n",
       "  <tbody>\n",
       "    <tr>\n",
       "      <th>0</th>\n",
       "      <td>1</td>\n",
       "      <td>1</td>\n",
       "      <td>True</td>\n",
       "      <td>1.000000</td>\n",
       "    </tr>\n",
       "    <tr>\n",
       "      <th>1</th>\n",
       "      <td>1</td>\n",
       "      <td>1</td>\n",
       "      <td>True</td>\n",
       "      <td>0.999996</td>\n",
       "    </tr>\n",
       "    <tr>\n",
       "      <th>2</th>\n",
       "      <td>1</td>\n",
       "      <td>1</td>\n",
       "      <td>True</td>\n",
       "      <td>0.999999</td>\n",
       "    </tr>\n",
       "    <tr>\n",
       "      <th>3</th>\n",
       "      <td>1</td>\n",
       "      <td>1</td>\n",
       "      <td>True</td>\n",
       "      <td>0.689150</td>\n",
       "    </tr>\n",
       "    <tr>\n",
       "      <th>4</th>\n",
       "      <td>1</td>\n",
       "      <td>1</td>\n",
       "      <td>True</td>\n",
       "      <td>0.999756</td>\n",
       "    </tr>\n",
       "  </tbody>\n",
       "</table>\n",
       "</div>"
      ],
      "text/plain": [
       "   is_cancer  prediction_cancer  correct  prediction_proba_cancer\n",
       "0          1                  1     True                 1.000000\n",
       "1          1                  1     True                 0.999996\n",
       "2          1                  1     True                 0.999999\n",
       "3          1                  1     True                 0.689150\n",
       "4          1                  1     True                 0.999756"
      ]
     },
     "execution_count": 64,
     "metadata": {},
     "output_type": "execute_result"
    }
   ],
   "source": [
    "df3b.head()"
   ]
  },
  {
   "cell_type": "code",
   "execution_count": 62,
=======
   "execution_count": 78,
>>>>>>> a282d9ababe32ff030c47b1a9ec33bc3f0a40288
   "metadata": {},
   "outputs": [],
   "source": [
    "threshold = 0.1"
   ]
  },
  {
   "cell_type": "code",
<<<<<<< HEAD
   "execution_count": 63,
=======
   "execution_count": 79,
>>>>>>> a282d9ababe32ff030c47b1a9ec33bc3f0a40288
   "metadata": {
    "scrolled": true
   },
   "outputs": [
    {
     "data": {
      "text/html": [
       "<div>\n",
       "<style scoped>\n",
       "    .dataframe tbody tr th:only-of-type {\n",
       "        vertical-align: middle;\n",
       "    }\n",
       "\n",
       "    .dataframe tbody tr th {\n",
       "        vertical-align: top;\n",
       "    }\n",
       "\n",
       "    .dataframe thead th {\n",
       "        text-align: right;\n",
       "    }\n",
       "</style>\n",
       "<table border=\"1\" class=\"dataframe\">\n",
       "  <thead>\n",
       "    <tr style=\"text-align: right;\">\n",
       "      <th>prediction_proba_cancer</th>\n",
       "      <th>False</th>\n",
       "      <th>True</th>\n",
       "    </tr>\n",
       "    <tr>\n",
       "      <th>is_cancer</th>\n",
       "      <th></th>\n",
       "      <th></th>\n",
       "    </tr>\n",
       "  </thead>\n",
       "  <tbody>\n",
       "    <tr>\n",
       "      <th>0</th>\n",
       "      <td>319</td>\n",
       "      <td>38</td>\n",
       "    </tr>\n",
       "    <tr>\n",
       "      <th>1</th>\n",
       "      <td>1</td>\n",
       "      <td>211</td>\n",
       "    </tr>\n",
       "  </tbody>\n",
       "</table>\n",
       "</div>"
      ],
      "text/plain": [
       "prediction_proba_cancer  False  True \n",
       "is_cancer                            \n",
       "0                          319     38\n",
       "1                            1    211"
      ]
     },
<<<<<<< HEAD
     "execution_count": 63,
=======
     "execution_count": 79,
>>>>>>> a282d9ababe32ff030c47b1a9ec33bc3f0a40288
     "metadata": {},
     "output_type": "execute_result"
    }
   ],
   "source": [
    "pd.crosstab(\n",
    "    df3b.is_cancer,\n",
    "    df3b.prediction_proba_cancer > threshold\n",
    ")"
   ]
  },
  {
   "cell_type": "code",
<<<<<<< HEAD
   "execution_count": 65,
=======
   "execution_count": 80,
>>>>>>> a282d9ababe32ff030c47b1a9ec33bc3f0a40288
   "metadata": {},
   "outputs": [
    {
     "data": {
      "text/plain": [
       "0.9314586994727593"
      ]
     },
<<<<<<< HEAD
     "execution_count": 65,
=======
     "execution_count": 80,
>>>>>>> a282d9ababe32ff030c47b1a9ec33bc3f0a40288
     "metadata": {},
     "output_type": "execute_result"
    }
   ],
   "source": [
    "(319 + 211) / df.shape[0]"
   ]
  },
  {
   "cell_type": "markdown",
   "metadata": {},
   "source": [
    "Almost all positives were found (higher **recall**)"
   ]
  },
  {
   "cell_type": "markdown",
   "metadata": {},
   "source": [
    "More false positives appeared (lower **precision**)"
   ]
  },
  {
   "cell_type": "markdown",
   "metadata": {},
   "source": [
    "**Example 2: high threshold**"
   ]
  },
  {
   "cell_type": "markdown",
   "metadata": {},
   "source": [
    "Recall 0.5 threshold crosstab"
   ]
  },
  {
   "cell_type": "code",
<<<<<<< HEAD
   "execution_count": 66,
=======
   "execution_count": 81,
>>>>>>> a282d9ababe32ff030c47b1a9ec33bc3f0a40288
   "metadata": {},
   "outputs": [
    {
     "data": {
      "text/html": [
       "<div>\n",
       "<style scoped>\n",
       "    .dataframe tbody tr th:only-of-type {\n",
       "        vertical-align: middle;\n",
       "    }\n",
       "\n",
       "    .dataframe tbody tr th {\n",
       "        vertical-align: top;\n",
       "    }\n",
       "\n",
       "    .dataframe thead th {\n",
       "        text-align: right;\n",
       "    }\n",
       "</style>\n",
       "<table border=\"1\" class=\"dataframe\">\n",
       "  <thead>\n",
       "    <tr style=\"text-align: right;\">\n",
       "      <th>prediction_cancer</th>\n",
       "      <th>0</th>\n",
       "      <th>1</th>\n",
       "    </tr>\n",
       "    <tr>\n",
       "      <th>is_cancer</th>\n",
       "      <th></th>\n",
       "      <th></th>\n",
       "    </tr>\n",
       "  </thead>\n",
       "  <tbody>\n",
       "    <tr>\n",
       "      <th>0</th>\n",
       "      <td>348</td>\n",
       "      <td>9</td>\n",
       "    </tr>\n",
       "    <tr>\n",
       "      <th>1</th>\n",
       "      <td>15</td>\n",
       "      <td>197</td>\n",
       "    </tr>\n",
       "  </tbody>\n",
       "</table>\n",
       "</div>"
      ],
      "text/plain": [
       "prediction_cancer    0    1\n",
       "is_cancer                  \n",
       "0                  348    9\n",
       "1                   15  197"
      ]
     },
<<<<<<< HEAD
     "execution_count": 66,
=======
     "execution_count": 81,
>>>>>>> a282d9ababe32ff030c47b1a9ec33bc3f0a40288
     "metadata": {},
     "output_type": "execute_result"
    }
   ],
   "source": [
    "pd.crosstab(\n",
    "    df3b.is_cancer,\n",
    "    df3b.prediction_cancer\n",
    ")"
   ]
  },
  {
   "cell_type": "code",
<<<<<<< HEAD
   "execution_count": 67,
=======
   "execution_count": 82,
>>>>>>> a282d9ababe32ff030c47b1a9ec33bc3f0a40288
   "metadata": {},
   "outputs": [],
   "source": [
    "threshold = 0.8"
   ]
  },
  {
   "cell_type": "code",
<<<<<<< HEAD
   "execution_count": 68,
=======
   "execution_count": 83,
>>>>>>> a282d9ababe32ff030c47b1a9ec33bc3f0a40288
   "metadata": {},
   "outputs": [
    {
     "data": {
      "text/html": [
       "<div>\n",
       "<style scoped>\n",
       "    .dataframe tbody tr th:only-of-type {\n",
       "        vertical-align: middle;\n",
       "    }\n",
       "\n",
       "    .dataframe tbody tr th {\n",
       "        vertical-align: top;\n",
       "    }\n",
       "\n",
       "    .dataframe thead th {\n",
       "        text-align: right;\n",
       "    }\n",
       "</style>\n",
       "<table border=\"1\" class=\"dataframe\">\n",
       "  <thead>\n",
       "    <tr style=\"text-align: right;\">\n",
       "      <th>prediction_proba_cancer</th>\n",
       "      <th>False</th>\n",
       "      <th>True</th>\n",
       "    </tr>\n",
       "    <tr>\n",
       "      <th>is_cancer</th>\n",
       "      <th></th>\n",
       "      <th></th>\n",
       "    </tr>\n",
       "  </thead>\n",
       "  <tbody>\n",
       "    <tr>\n",
       "      <th>0</th>\n",
       "      <td>356</td>\n",
       "      <td>1</td>\n",
       "    </tr>\n",
       "    <tr>\n",
       "      <th>1</th>\n",
       "      <td>28</td>\n",
       "      <td>184</td>\n",
       "    </tr>\n",
       "  </tbody>\n",
       "</table>\n",
       "</div>"
      ],
      "text/plain": [
       "prediction_proba_cancer  False  True \n",
       "is_cancer                            \n",
       "0                          356      1\n",
       "1                           28    184"
      ]
     },
<<<<<<< HEAD
     "execution_count": 68,
=======
     "execution_count": 83,
>>>>>>> a282d9ababe32ff030c47b1a9ec33bc3f0a40288
     "metadata": {},
     "output_type": "execute_result"
    }
   ],
   "source": [
    "pd.crosstab(\n",
    "    df3b.is_cancer,\n",
    "    df3b.prediction_proba_cancer > threshold\n",
    ")"
   ]
  },
  {
   "cell_type": "markdown",
   "metadata": {},
   "source": [
    "Almost all predicted positives are true (higher **precision**)"
   ]
  },
  {
   "cell_type": "markdown",
   "metadata": {},
   "source": [
    "We predicted 28 real cancers as False (low **recall**)"
   ]
  },
  {
   "cell_type": "markdown",
   "metadata": {},
   "source": [
    "### Under the hood"
   ]
  },
  {
   "cell_type": "markdown",
   "metadata": {},
   "source": [
    "The logistic function is a mathematical function defined as\n",
    "$$\\sigma(z)=\\frac{1}{1 + e^{-z}}$$"
   ]
  },
  {
   "cell_type": "markdown",
   "metadata": {},
   "source": [
    "**Exercise**: \n",
    " * $\\sigma(0)=\\frac{1}{2}$"
   ]
  },
  {
   "cell_type": "markdown",
   "metadata": {},
   "source": [
<<<<<<< HEAD
    " * $\\lim_{z \\rightarrow \\infty} \\sigma(z)= 1$"
=======
    " * $\\lim_{z \\rightarrow \\infty} \\sigma(z)=1$"
>>>>>>> a282d9ababe32ff030c47b1a9ec33bc3f0a40288
   ]
  },
  {
   "cell_type": "markdown",
   "metadata": {},
   "source": [
<<<<<<< HEAD
    " * $\\lim_{z \\rightarrow -\\infty} \\sigma(z) = 0$"
=======
    " * $\\lim_{z \\rightarrow -\\infty} \\sigma(z)=0$"
>>>>>>> a282d9ababe32ff030c47b1a9ec33bc3f0a40288
   ]
  },
  {
   "cell_type": "code",
<<<<<<< HEAD
   "execution_count": 69,
=======
   "execution_count": 84,
>>>>>>> a282d9ababe32ff030c47b1a9ec33bc3f0a40288
   "metadata": {},
   "outputs": [],
   "source": [
    "z = np.linspace(-10, 10, 100)\n",
    "sigma = 1 / (1 + np.exp(-z))"
   ]
  },
  {
   "cell_type": "code",
<<<<<<< HEAD
   "execution_count": 70,
=======
   "execution_count": 85,
>>>>>>> a282d9ababe32ff030c47b1a9ec33bc3f0a40288
   "metadata": {},
   "outputs": [
    {
     "data": {
      "text/plain": [
<<<<<<< HEAD
       "[<matplotlib.lines.Line2D at 0x7f8c20038dc0>]"
      ]
     },
     "execution_count": 70,
=======
       "[<matplotlib.lines.Line2D at 0x7f091bc981c0>]"
      ]
     },
     "execution_count": 85,
>>>>>>> a282d9ababe32ff030c47b1a9ec33bc3f0a40288
     "metadata": {},
     "output_type": "execute_result"
    },
    {
     "data": {
<<<<<<< HEAD
      "image/png": "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\n",
=======
      "image/png": "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\n",
>>>>>>> a282d9ababe32ff030c47b1a9ec33bc3f0a40288
      "text/plain": [
       "<Figure size 432x288 with 1 Axes>"
      ]
     },
     "metadata": {
      "needs_background": "light"
     },
     "output_type": "display_data"
    }
   ],
   "source": [
    "plt.plot(z, sigma, \"-\")"
   ]
  },
  {
   "cell_type": "markdown",
   "metadata": {},
   "source": [
    "**Exercise**: $$\\sigma'(z)=\\sigma(z)(1-\\sigma(z))$$"
   ]
  },
  {
   "cell_type": "code",
   "execution_count": 87,
   "metadata": {},
   "outputs": [
    {
     "data": {
      "text/plain": [
       "array([[-1.0017136 , -0.18224461,  0.2734288 , -0.02262665,  0.18011999,\n",
       "         0.21740259,  0.53682798,  0.29773058,  0.26754858,  0.03010321,\n",
       "         0.07832322, -1.26373259, -0.11548795,  0.10878935,  0.02579036,\n",
       "        -0.0710564 ,  0.03488539,  0.03853228,  0.03513508, -0.01462993,\n",
       "        -0.14844239,  0.4380293 ,  0.1059508 ,  0.01372193,  0.36113561,\n",
       "         0.68060034,  1.43195266,  0.60874213,  0.72815101,  0.09405403]])"
      ]
     },
     "execution_count": 87,
     "metadata": {},
     "output_type": "execute_result"
    }
   ],
   "source": [
    "log.coef_"
   ]
  },
  {
   "cell_type": "markdown",
   "metadata": {},
   "source": [
    "The logistic regression finds the **optimal** parameters $\\beta_0$, ..., $\\beta_n$ such that the predictions \n",
    "$$\\hat{y}=\\sigma(\\beta _{0}+\\beta _{1}x_1 + ... + \\beta_n x_n)=\\frac{1}{1 + e^{-(\\beta _{0}+\\beta _{1}x_1 + ... + \\beta_n x_n)}}$$ have the least error"
   ]
  },
  {
   "cell_type": "markdown",
   "metadata": {},
   "source": [
    "## Metrics"
   ]
  },
  {
   "cell_type": "code",
<<<<<<< HEAD
   "execution_count": 71,
=======
   "execution_count": 90,
>>>>>>> a282d9ababe32ff030c47b1a9ec33bc3f0a40288
   "metadata": {},
   "outputs": [],
   "source": [
    "from sklearn.metrics import accuracy_score, precision_score, recall_score, f1_score, fbeta_score"
   ]
  },
  {
   "cell_type": "markdown",
   "metadata": {},
   "source": [
    "Remember: \n",
    " * a metric should be chosen a-priori, with deep understanding of the problem. Then several models are trained and the one with best metric result is chosen\n",
    " * here we present different metrics for the same model as an exercise. The results (0.94, 0.92, 0.95 should by no means be compared!!)"
   ]
  },
  {
   "cell_type": "markdown",
   "metadata": {},
   "source": [
    "On the left rectangle, Real Positives  \n",
    "On the right rectangle, Real Negatives"
   ]
  },
  {
   "cell_type": "markdown",
   "metadata": {},
   "source": [
    "Inside the circle, Predicted Positives  \n",
    "Outside the circle, Predicted Negatives"
   ]
  },
  {
   "cell_type": "markdown",
   "metadata": {},
   "source": [
    "<img src=\"https://github.com/andrewwlong/classification_metrics_sklearn/raw/541a0d065ffb8b3ff705161f6d16088d434b2ea7/img/buckets.png\">"
   ]
  },
  {
   "cell_type": "markdown",
   "metadata": {},
   "source": [
    "<img src=\"https://github.com/andrewwlong/classification_metrics_sklearn/raw/541a0d065ffb8b3ff705161f6d16088d434b2ea7/img/conf_matrix.png\">"
   ]
  },
  {
   "cell_type": "markdown",
   "metadata": {},
   "source": [
    "### Accuracy"
   ]
  },
  {
   "cell_type": "markdown",
   "metadata": {},
   "source": [
    " * It represents the proportion of samples predicted correctly\n",
    " * The most common metric for classification\n",
    " * Useful when:\n",
    "  - dataset has balanced classes (similar proportion of True and False)\n",
    "  - there is symmetry between True and False (for example, predicting \"male\" or \"female\")\n",
    " * **Often misused!!** since:\n",
    "  - many problems are not symmetric (for example, cancer vs no cancer)\n",
    "  - many problems have imbalanced classes (for example, terrorist vs no terrorist)\n",
    " * I do not like accuracy metric. Be alert!"
   ]
  },
  {
   "cell_type": "markdown",
   "metadata": {},
   "source": [
    "<img src=\"https://github.com/andrewwlong/classification_metrics_sklearn/raw/541a0d065ffb8b3ff705161f6d16088d434b2ea7/img/accuracy.png\">"
   ]
  },
  {
   "cell_type": "code",
<<<<<<< HEAD
   "execution_count": 72,
=======
   "execution_count": 88,
>>>>>>> a282d9ababe32ff030c47b1a9ec33bc3f0a40288
   "metadata": {},
   "outputs": [
    {
     "data": {
      "text/html": [
       "<div>\n",
       "<style scoped>\n",
       "    .dataframe tbody tr th:only-of-type {\n",
       "        vertical-align: middle;\n",
       "    }\n",
       "\n",
       "    .dataframe tbody tr th {\n",
       "        vertical-align: top;\n",
       "    }\n",
       "\n",
       "    .dataframe thead th {\n",
       "        text-align: right;\n",
       "    }\n",
       "</style>\n",
       "<table border=\"1\" class=\"dataframe\">\n",
       "  <thead>\n",
       "    <tr style=\"text-align: right;\">\n",
       "      <th></th>\n",
       "      <th>is_cancer</th>\n",
       "      <th>prediction_cancer</th>\n",
       "      <th>correct</th>\n",
       "      <th>prediction_proba_cancer</th>\n",
       "    </tr>\n",
       "  </thead>\n",
       "  <tbody>\n",
       "    <tr>\n",
       "      <th>0</th>\n",
       "      <td>1</td>\n",
       "      <td>1</td>\n",
       "      <td>True</td>\n",
       "      <td>1.000000</td>\n",
       "    </tr>\n",
       "    <tr>\n",
       "      <th>1</th>\n",
       "      <td>1</td>\n",
       "      <td>1</td>\n",
       "      <td>True</td>\n",
       "      <td>0.999996</td>\n",
       "    </tr>\n",
       "    <tr>\n",
       "      <th>2</th>\n",
       "      <td>1</td>\n",
       "      <td>1</td>\n",
       "      <td>True</td>\n",
       "      <td>0.999999</td>\n",
       "    </tr>\n",
       "    <tr>\n",
       "      <th>3</th>\n",
       "      <td>1</td>\n",
       "      <td>1</td>\n",
       "      <td>True</td>\n",
<<<<<<< HEAD
       "      <td>0.689150</td>\n",
=======
       "      <td>0.681318</td>\n",
>>>>>>> a282d9ababe32ff030c47b1a9ec33bc3f0a40288
       "    </tr>\n",
       "    <tr>\n",
       "      <th>4</th>\n",
       "      <td>1</td>\n",
       "      <td>1</td>\n",
       "      <td>True</td>\n",
<<<<<<< HEAD
       "      <td>0.999756</td>\n",
=======
       "      <td>0.999764</td>\n",
>>>>>>> a282d9ababe32ff030c47b1a9ec33bc3f0a40288
       "    </tr>\n",
       "  </tbody>\n",
       "</table>\n",
       "</div>"
      ],
      "text/plain": [
       "   is_cancer  prediction_cancer  correct  prediction_proba_cancer\n",
       "0          1                  1     True                 1.000000\n",
       "1          1                  1     True                 0.999996\n",
       "2          1                  1     True                 0.999999\n",
<<<<<<< HEAD
       "3          1                  1     True                 0.689150\n",
       "4          1                  1     True                 0.999756"
      ]
     },
     "execution_count": 72,
=======
       "3          1                  1     True                 0.681318\n",
       "4          1                  1     True                 0.999764"
      ]
     },
     "execution_count": 88,
>>>>>>> a282d9ababe32ff030c47b1a9ec33bc3f0a40288
     "metadata": {},
     "output_type": "execute_result"
    }
   ],
   "source": [
    "df3b.head()"
   ]
  },
  {
   "cell_type": "code",
<<<<<<< HEAD
   "execution_count": 73,
   "metadata": {},
=======
   "execution_count": 91,
   "metadata": {
    "scrolled": true
   },
>>>>>>> a282d9ababe32ff030c47b1a9ec33bc3f0a40288
   "outputs": [
    {
     "data": {
      "text/plain": [
       "0.9578207381370826"
      ]
     },
<<<<<<< HEAD
     "execution_count": 73,
=======
     "execution_count": 91,
>>>>>>> a282d9ababe32ff030c47b1a9ec33bc3f0a40288
     "metadata": {},
     "output_type": "execute_result"
    }
   ],
   "source": [
    "accuracy_score(\n",
    "    y_true=df3b.is_cancer,\n",
    "    y_pred=df3b.prediction_cancer\n",
    ")"
   ]
  },
  {
   "cell_type": "markdown",
   "metadata": {},
   "source": [
    "### Recall"
   ]
  },
  {
   "cell_type": "markdown",
   "metadata": {},
   "source": [
    "(also known as sensitivity) is the fraction of positive events that you predicted correctly, as shown below"
   ]
  },
  {
   "cell_type": "markdown",
   "metadata": {},
   "source": [
    "It values as **crucial** to identify true instances (useful for cancer detection / terrorist detection airport)"
   ]
  },
  {
   "cell_type": "markdown",
   "metadata": {},
   "source": [
    "<img src=\"https://github.com/andrewwlong/classification_metrics_sklearn/raw/541a0d065ffb8b3ff705161f6d16088d434b2ea7/img/recall.png\">"
   ]
  },
  {
   "cell_type": "code",
<<<<<<< HEAD
   "execution_count": 74,
=======
   "execution_count": 92,
>>>>>>> a282d9ababe32ff030c47b1a9ec33bc3f0a40288
   "metadata": {},
   "outputs": [
    {
     "data": {
      "text/plain": [
       "0.9292452830188679"
      ]
     },
<<<<<<< HEAD
     "execution_count": 74,
=======
     "execution_count": 92,
>>>>>>> a282d9ababe32ff030c47b1a9ec33bc3f0a40288
     "metadata": {},
     "output_type": "execute_result"
    }
   ],
   "source": [
    "recall_score(\n",
    "    y_true=df3b.is_cancer,\n",
    "    y_pred=df3b.prediction_cancer\n",
    ")"
   ]
  },
  {
   "cell_type": "markdown",
   "metadata": {},
   "source": [
    "### Precision"
   ]
  },
  {
   "cell_type": "markdown",
   "metadata": {},
   "source": [
    "is the fraction of predicted positives events that are actually positive as shown below"
   ]
  },
  {
   "cell_type": "markdown",
   "metadata": {},
   "source": [
    "It values as **crucial** to **not** have False Positives (very aggresive treatments of not very malicious diseases)"
   ]
  },
  {
   "cell_type": "markdown",
   "metadata": {},
   "source": [
    "<img src=\"https://github.com/andrewwlong/classification_metrics_sklearn/raw/541a0d065ffb8b3ff705161f6d16088d434b2ea7/img/precision.png\">"
   ]
  },
  {
   "cell_type": "code",
<<<<<<< HEAD
   "execution_count": 75,
=======
   "execution_count": 93,
>>>>>>> a282d9ababe32ff030c47b1a9ec33bc3f0a40288
   "metadata": {},
   "outputs": [
    {
     "data": {
      "text/plain": [
       "0.9563106796116505"
      ]
     },
<<<<<<< HEAD
     "execution_count": 75,
=======
     "execution_count": 93,
>>>>>>> a282d9ababe32ff030c47b1a9ec33bc3f0a40288
     "metadata": {},
     "output_type": "execute_result"
    }
   ],
   "source": [
    "precision_score(\n",
    "    y_true=df3b.is_cancer,\n",
    "    y_pred=df3b.prediction_cancer\n",
    ")"
   ]
  },
  {
   "cell_type": "markdown",
   "metadata": {},
   "source": [
    "### F1 score"
   ]
  },
  {
   "cell_type": "markdown",
   "metadata": {},
   "source": [
    " * **recall** is, in general, more important than precision but...\n",
    " * higher recall always implies lower precision (via lower threshold)\n",
    " * a tradeoff should be found"
   ]
  },
  {
   "cell_type": "markdown",
   "metadata": {},
   "source": [
    "The F1 score is the harmonic mean of recall and precision:"
   ]
  },
  {
   "cell_type": "markdown",
   "metadata": {},
   "source": [
    "<img src=\"https://github.com/andrewwlong/classification_metrics_sklearn/raw/541a0d065ffb8b3ff705161f6d16088d434b2ea7/img/f1_score.png\">"
   ]
  },
  {
   "cell_type": "code",
<<<<<<< HEAD
   "execution_count": 76,
=======
   "execution_count": 98,
>>>>>>> a282d9ababe32ff030c47b1a9ec33bc3f0a40288
   "metadata": {},
   "outputs": [
    {
     "data": {
      "text/plain": [
       "0.9425837320574162"
      ]
     },
<<<<<<< HEAD
     "execution_count": 76,
=======
     "execution_count": 98,
>>>>>>> a282d9ababe32ff030c47b1a9ec33bc3f0a40288
     "metadata": {},
     "output_type": "execute_result"
    }
   ],
   "source": [
    "f1_score(\n",
    "    y_true=df3b.is_cancer,\n",
    "    y_pred=df3b.prediction_cancer\n",
    ")"
   ]
  },
  {
   "cell_type": "markdown",
   "metadata": {},
   "source": [
    "### F_beta score"
   ]
  },
  {
   "cell_type": "markdown",
   "metadata": {},
   "source": [
    " * **recall** is, in general, more important than precision but...\n",
    " * higher recall always implies lower precision (via lower threshold)\n",
    " * a tradeoff should be found"
   ]
  },
  {
   "cell_type": "markdown",
   "metadata": {},
   "source": [
    "The $F_1$ score is the harmonic mean of recall and precision"
   ]
  },
  {
   "cell_type": "markdown",
   "metadata": {},
   "source": [
    "The $F_\\beta$ score is a weighed harmonic mean of recall and precision"
   ]
  },
  {
   "cell_type": "markdown",
   "metadata": {},
   "source": [
    "The `beta` parameter determines the weight of **recall** in the combined score"
   ]
  },
  {
   "cell_type": "markdown",
   "metadata": {},
   "source": [
    "We, toguether with doctors (technicians) and government (money, time) decide that $\\beta=3$ is a good choice for breast cancer detection:\n",
    " * we value finding real positives...\n",
    " * 3 times more than...\n",
    " * losing time with false positives"
   ]
  },
  {
   "cell_type": "code",
<<<<<<< HEAD
   "execution_count": 77,
=======
   "execution_count": 102,
>>>>>>> a282d9ababe32ff030c47b1a9ec33bc3f0a40288
   "metadata": {},
   "outputs": [
    {
     "data": {
      "text/plain": [
       "0.9318826868495742"
      ]
     },
<<<<<<< HEAD
     "execution_count": 77,
=======
     "execution_count": 102,
>>>>>>> a282d9ababe32ff030c47b1a9ec33bc3f0a40288
     "metadata": {},
     "output_type": "execute_result"
    }
   ],
   "source": [
    "fbeta_score(\n",
    "    y_true=df3b.is_cancer,\n",
    "    y_pred=df3b.prediction_cancer,\n",
    "    beta=3\n",
    ")"
   ]
  },
  {
   "cell_type": "markdown",
   "metadata": {},
   "source": [
    "## Choosing the best threshold"
   ]
  },
  {
   "cell_type": "markdown",
   "metadata": {},
   "source": [
    "Lets choose the threshold that optimizes $F_3$ score"
   ]
  },
  {
   "cell_type": "code",
<<<<<<< HEAD
   "execution_count": 78,
=======
   "execution_count": 103,
>>>>>>> a282d9ababe32ff030c47b1a9ec33bc3f0a40288
   "metadata": {},
   "outputs": [
    {
     "data": {
      "text/html": [
       "<div>\n",
       "<style scoped>\n",
       "    .dataframe tbody tr th:only-of-type {\n",
       "        vertical-align: middle;\n",
       "    }\n",
       "\n",
       "    .dataframe tbody tr th {\n",
       "        vertical-align: top;\n",
       "    }\n",
       "\n",
       "    .dataframe thead th {\n",
       "        text-align: right;\n",
       "    }\n",
       "</style>\n",
       "<table border=\"1\" class=\"dataframe\">\n",
       "  <thead>\n",
       "    <tr style=\"text-align: right;\">\n",
       "      <th></th>\n",
       "      <th>is_cancer</th>\n",
       "      <th>prediction_cancer</th>\n",
       "      <th>correct</th>\n",
       "      <th>prediction_proba_cancer</th>\n",
       "    </tr>\n",
       "  </thead>\n",
       "  <tbody>\n",
       "    <tr>\n",
       "      <th>0</th>\n",
       "      <td>1</td>\n",
       "      <td>1</td>\n",
       "      <td>True</td>\n",
       "      <td>1.000000</td>\n",
       "    </tr>\n",
       "    <tr>\n",
       "      <th>1</th>\n",
       "      <td>1</td>\n",
       "      <td>1</td>\n",
       "      <td>True</td>\n",
       "      <td>0.999996</td>\n",
       "    </tr>\n",
       "    <tr>\n",
       "      <th>2</th>\n",
       "      <td>1</td>\n",
       "      <td>1</td>\n",
       "      <td>True</td>\n",
       "      <td>0.999999</td>\n",
       "    </tr>\n",
       "    <tr>\n",
       "      <th>3</th>\n",
       "      <td>1</td>\n",
       "      <td>1</td>\n",
       "      <td>True</td>\n",
<<<<<<< HEAD
       "      <td>0.689150</td>\n",
=======
       "      <td>0.681318</td>\n",
>>>>>>> a282d9ababe32ff030c47b1a9ec33bc3f0a40288
       "    </tr>\n",
       "    <tr>\n",
       "      <th>4</th>\n",
       "      <td>1</td>\n",
       "      <td>1</td>\n",
       "      <td>True</td>\n",
<<<<<<< HEAD
       "      <td>0.999756</td>\n",
=======
       "      <td>0.999764</td>\n",
>>>>>>> a282d9ababe32ff030c47b1a9ec33bc3f0a40288
       "    </tr>\n",
       "  </tbody>\n",
       "</table>\n",
       "</div>"
      ],
      "text/plain": [
       "   is_cancer  prediction_cancer  correct  prediction_proba_cancer\n",
       "0          1                  1     True                 1.000000\n",
       "1          1                  1     True                 0.999996\n",
       "2          1                  1     True                 0.999999\n",
<<<<<<< HEAD
       "3          1                  1     True                 0.689150\n",
       "4          1                  1     True                 0.999756"
      ]
     },
     "execution_count": 78,
=======
       "3          1                  1     True                 0.681318\n",
       "4          1                  1     True                 0.999764"
      ]
     },
     "execution_count": 103,
>>>>>>> a282d9ababe32ff030c47b1a9ec33bc3f0a40288
     "metadata": {},
     "output_type": "execute_result"
    }
   ],
   "source": [
    "df3b.head()"
   ]
  },
  {
   "cell_type": "code",
<<<<<<< HEAD
   "execution_count": 79,
=======
   "execution_count": 104,
>>>>>>> a282d9ababe32ff030c47b1a9ec33bc3f0a40288
   "metadata": {},
   "outputs": [],
   "source": [
    "import numpy as np"
   ]
  },
  {
   "cell_type": "code",
<<<<<<< HEAD
   "execution_count": 94,
=======
   "execution_count": 115,
>>>>>>> a282d9ababe32ff030c47b1a9ec33bc3f0a40288
   "metadata": {},
   "outputs": [],
   "source": [
    "results = []"
   ]
  },
  {
   "cell_type": "code",
<<<<<<< HEAD
   "execution_count": 95,
=======
   "execution_count": 116,
>>>>>>> a282d9ababe32ff030c47b1a9ec33bc3f0a40288
   "metadata": {},
   "outputs": [
    {
     "name": "stderr",
     "output_type": "stream",
     "text": [
      "/home/sheriff/miniconda3/envs/ironhack/lib/python3.8/site-packages/sklearn/metrics/_classification.py:1221: UndefinedMetricWarning: Precision is ill-defined and being set to 0.0 due to no predicted samples. Use `zero_division` parameter to control this behavior.\n",
      "  _warn_prf(average, modifier, msg_start, len(result))\n"
     ]
    }
   ],
   "source": [
    "y_true = df3b.is_cancer\n",
    "\n",
    "for threshold in np.arange(0, 1.01, 0.05):\n",
    "    y_pred = df3b.prediction_proba_cancer > threshold\n",
    "    \n",
    "    result = {\n",
    "        \"threshold\": threshold,\n",
    "        \"precision\": precision_score(y_true, y_pred),\n",
    "        \"accuracy\": accuracy_score(y_true, y_pred),\n",
    "        \"recall\": recall_score(y_true, y_pred),\n",
    "        \"f3\": fbeta_score(y_true, y_pred, beta=3)\n",
    "    }\n",
    "    \n",
    "    results.append(result)"
   ]
  },
  {
   "cell_type": "code",
<<<<<<< HEAD
   "execution_count": 96,
=======
   "execution_count": 117,
>>>>>>> a282d9ababe32ff030c47b1a9ec33bc3f0a40288
   "metadata": {},
   "outputs": [
    {
     "data": {
      "text/html": [
       "<div>\n",
       "<style scoped>\n",
       "    .dataframe tbody tr th:only-of-type {\n",
       "        vertical-align: middle;\n",
       "    }\n",
       "\n",
       "    .dataframe tbody tr th {\n",
       "        vertical-align: top;\n",
       "    }\n",
       "\n",
       "    .dataframe thead th {\n",
       "        text-align: right;\n",
       "    }\n",
       "</style>\n",
       "<table border=\"1\" class=\"dataframe\">\n",
       "  <thead>\n",
       "    <tr style=\"text-align: right;\">\n",
       "      <th></th>\n",
       "      <th>threshold</th>\n",
<<<<<<< HEAD
       "      <th>precision</th>\n",
       "      <th>accuracy</th>\n",
=======
       "      <th>accuracy</th>\n",
       "      <th>precision</th>\n",
>>>>>>> a282d9ababe32ff030c47b1a9ec33bc3f0a40288
       "      <th>recall</th>\n",
       "      <th>f3</th>\n",
       "    </tr>\n",
       "  </thead>\n",
       "  <tbody>\n",
       "    <tr>\n",
       "      <th>0</th>\n",
       "      <td>0.00</td>\n",
       "      <td>0.372583</td>\n",
       "      <td>0.372583</td>\n",
       "      <td>1.000000</td>\n",
       "      <td>0.855874</td>\n",
       "    </tr>\n",
       "    <tr>\n",
       "      <th>1</th>\n",
       "      <td>0.05</td>\n",
<<<<<<< HEAD
       "      <td>0.790262</td>\n",
       "      <td>0.899824</td>\n",
=======
       "      <td>0.899824</td>\n",
       "      <td>0.790262</td>\n",
>>>>>>> a282d9ababe32ff030c47b1a9ec33bc3f0a40288
       "      <td>0.995283</td>\n",
       "      <td>0.970115</td>\n",
       "    </tr>\n",
       "    <tr>\n",
       "      <th>2</th>\n",
       "      <td>0.10</td>\n",
<<<<<<< HEAD
       "      <td>0.847390</td>\n",
       "      <td>0.931459</td>\n",
=======
       "      <td>0.931459</td>\n",
       "      <td>0.847390</td>\n",
>>>>>>> a282d9ababe32ff030c47b1a9ec33bc3f0a40288
       "      <td>0.995283</td>\n",
       "      <td>0.978210</td>\n",
       "    </tr>\n",
       "    <tr>\n",
       "      <th>3</th>\n",
       "      <td>0.15</td>\n",
<<<<<<< HEAD
       "      <td>0.882353</td>\n",
       "      <td>0.947276</td>\n",
=======
       "      <td>0.947276</td>\n",
       "      <td>0.882353</td>\n",
>>>>>>> a282d9ababe32ff030c47b1a9ec33bc3f0a40288
       "      <td>0.990566</td>\n",
       "      <td>0.978565</td>\n",
       "    </tr>\n",
       "    <tr>\n",
       "      <th>4</th>\n",
       "      <td>0.20</td>\n",
<<<<<<< HEAD
       "      <td>0.900862</td>\n",
       "      <td>0.954306</td>\n",
=======
       "      <td>0.954306</td>\n",
       "      <td>0.900862</td>\n",
>>>>>>> a282d9ababe32ff030c47b1a9ec33bc3f0a40288
       "      <td>0.985849</td>\n",
       "      <td>0.976636</td>\n",
       "    </tr>\n",
       "    <tr>\n",
       "      <th>5</th>\n",
       "      <td>0.25</td>\n",
<<<<<<< HEAD
       "      <td>0.924107</td>\n",
       "      <td>0.961336</td>\n",
=======
       "      <td>0.961336</td>\n",
       "      <td>0.924107</td>\n",
>>>>>>> a282d9ababe32ff030c47b1a9ec33bc3f0a40288
       "      <td>0.976415</td>\n",
       "      <td>0.970919</td>\n",
       "    </tr>\n",
       "    <tr>\n",
       "      <th>6</th>\n",
       "      <td>0.30</td>\n",
<<<<<<< HEAD
       "      <td>0.923767</td>\n",
       "      <td>0.959578</td>\n",
=======
       "      <td>0.959578</td>\n",
       "      <td>0.923767</td>\n",
>>>>>>> a282d9ababe32ff030c47b1a9ec33bc3f0a40288
       "      <td>0.971698</td>\n",
       "      <td>0.966682</td>\n",
       "    </tr>\n",
       "    <tr>\n",
       "      <th>7</th>\n",
       "      <td>0.35</td>\n",
<<<<<<< HEAD
       "      <td>0.936073</td>\n",
       "      <td>0.963093</td>\n",
       "      <td>0.966981</td>\n",
       "      <td>0.963799</td>\n",
=======
       "      <td>0.964851</td>\n",
       "      <td>0.940367</td>\n",
       "      <td>0.966981</td>\n",
       "      <td>0.964252</td>\n",
>>>>>>> a282d9ababe32ff030c47b1a9ec33bc3f0a40288
       "    </tr>\n",
       "    <tr>\n",
       "      <th>8</th>\n",
       "      <td>0.40</td>\n",
<<<<<<< HEAD
       "      <td>0.947867</td>\n",
       "      <td>0.959578</td>\n",
=======
       "      <td>0.959578</td>\n",
       "      <td>0.947867</td>\n",
>>>>>>> a282d9ababe32ff030c47b1a9ec33bc3f0a40288
       "      <td>0.943396</td>\n",
       "      <td>0.943841</td>\n",
       "    </tr>\n",
       "    <tr>\n",
       "      <th>9</th>\n",
       "      <td>0.45</td>\n",
<<<<<<< HEAD
       "      <td>0.952381</td>\n",
       "      <td>0.961336</td>\n",
=======
       "      <td>0.961336</td>\n",
       "      <td>0.952381</td>\n",
>>>>>>> a282d9ababe32ff030c47b1a9ec33bc3f0a40288
       "      <td>0.943396</td>\n",
       "      <td>0.944287</td>\n",
       "    </tr>\n",
       "    <tr>\n",
       "      <th>10</th>\n",
       "      <td>0.50</td>\n",
<<<<<<< HEAD
       "      <td>0.956311</td>\n",
       "      <td>0.957821</td>\n",
=======
       "      <td>0.957821</td>\n",
       "      <td>0.956311</td>\n",
>>>>>>> a282d9ababe32ff030c47b1a9ec33bc3f0a40288
       "      <td>0.929245</td>\n",
       "      <td>0.931883</td>\n",
       "    </tr>\n",
       "    <tr>\n",
       "      <th>11</th>\n",
       "      <td>0.55</td>\n",
<<<<<<< HEAD
       "      <td>0.956098</td>\n",
       "      <td>0.956063</td>\n",
=======
       "      <td>0.956063</td>\n",
       "      <td>0.956098</td>\n",
>>>>>>> a282d9ababe32ff030c47b1a9ec33bc3f0a40288
       "      <td>0.924528</td>\n",
       "      <td>0.927591</td>\n",
       "    </tr>\n",
       "    <tr>\n",
       "      <th>12</th>\n",
       "      <td>0.60</td>\n",
<<<<<<< HEAD
       "      <td>0.960396</td>\n",
       "      <td>0.954306</td>\n",
=======
       "      <td>0.954306</td>\n",
       "      <td>0.960396</td>\n",
>>>>>>> a282d9ababe32ff030c47b1a9ec33bc3f0a40288
       "      <td>0.915094</td>\n",
       "      <td>0.919431</td>\n",
       "    </tr>\n",
       "    <tr>\n",
       "      <th>13</th>\n",
       "      <td>0.65</td>\n",
<<<<<<< HEAD
       "      <td>0.960396</td>\n",
       "      <td>0.954306</td>\n",
=======
       "      <td>0.954306</td>\n",
       "      <td>0.960396</td>\n",
>>>>>>> a282d9ababe32ff030c47b1a9ec33bc3f0a40288
       "      <td>0.915094</td>\n",
       "      <td>0.919431</td>\n",
       "    </tr>\n",
       "    <tr>\n",
       "      <th>14</th>\n",
       "      <td>0.70</td>\n",
<<<<<<< HEAD
       "      <td>0.974619</td>\n",
       "      <td>0.956063</td>\n",
=======
       "      <td>0.956063</td>\n",
       "      <td>0.974619</td>\n",
>>>>>>> a282d9ababe32ff030c47b1a9ec33bc3f0a40288
       "      <td>0.905660</td>\n",
       "      <td>0.912114</td>\n",
       "    </tr>\n",
       "    <tr>\n",
       "      <th>15</th>\n",
       "      <td>0.75</td>\n",
<<<<<<< HEAD
       "      <td>0.984293</td>\n",
       "      <td>0.952548</td>\n",
=======
       "      <td>0.952548</td>\n",
       "      <td>0.984293</td>\n",
>>>>>>> a282d9ababe32ff030c47b1a9ec33bc3f0a40288
       "      <td>0.886792</td>\n",
       "      <td>0.895665</td>\n",
       "    </tr>\n",
       "    <tr>\n",
       "      <th>16</th>\n",
       "      <td>0.80</td>\n",
<<<<<<< HEAD
       "      <td>0.994595</td>\n",
       "      <td>0.949033</td>\n",
=======
       "      <td>0.949033</td>\n",
       "      <td>0.994595</td>\n",
>>>>>>> a282d9ababe32ff030c47b1a9ec33bc3f0a40288
       "      <td>0.867925</td>\n",
       "      <td>0.879121</td>\n",
       "    </tr>\n",
       "    <tr>\n",
       "      <th>17</th>\n",
       "      <td>0.85</td>\n",
<<<<<<< HEAD
       "      <td>0.994565</td>\n",
       "      <td>0.947276</td>\n",
       "      <td>0.863208</td>\n",
       "      <td>0.874761</td>\n",
=======
       "      <td>0.949033</td>\n",
       "      <td>1.000000</td>\n",
       "      <td>0.863208</td>\n",
       "      <td>0.875179</td>\n",
>>>>>>> a282d9ababe32ff030c47b1a9ec33bc3f0a40288
       "    </tr>\n",
       "    <tr>\n",
       "      <th>18</th>\n",
       "      <td>0.90</td>\n",
<<<<<<< HEAD
       "      <td>1.000000</td>\n",
       "      <td>0.940246</td>\n",
=======
       "      <td>0.940246</td>\n",
       "      <td>1.000000</td>\n",
>>>>>>> a282d9ababe32ff030c47b1a9ec33bc3f0a40288
       "      <td>0.839623</td>\n",
       "      <td>0.853308</td>\n",
       "    </tr>\n",
       "    <tr>\n",
       "      <th>19</th>\n",
       "      <td>0.95</td>\n",
<<<<<<< HEAD
       "      <td>1.000000</td>\n",
       "      <td>0.927944</td>\n",
       "      <td>0.806604</td>\n",
       "      <td>0.822511</td>\n",
       "    </tr>\n",
=======
       "      <td>0.927944</td>\n",
       "      <td>1.000000</td>\n",
       "      <td>0.806604</td>\n",
       "      <td>0.822511</td>\n",
       "    </tr>\n",
       "    <tr>\n",
       "      <th>20</th>\n",
       "      <td>1.00</td>\n",
       "      <td>0.627417</td>\n",
       "      <td>0.000000</td>\n",
       "      <td>0.000000</td>\n",
       "      <td>0.000000</td>\n",
       "    </tr>\n",
>>>>>>> a282d9ababe32ff030c47b1a9ec33bc3f0a40288
       "  </tbody>\n",
       "</table>\n",
       "</div>"
      ],
      "text/plain": [
<<<<<<< HEAD
       "    threshold  precision  accuracy    recall        f3\n",
       "0        0.00   0.372583  0.372583  1.000000  0.855874\n",
       "1        0.05   0.790262  0.899824  0.995283  0.970115\n",
       "2        0.10   0.847390  0.931459  0.995283  0.978210\n",
       "3        0.15   0.882353  0.947276  0.990566  0.978565\n",
       "4        0.20   0.900862  0.954306  0.985849  0.976636\n",
       "5        0.25   0.924107  0.961336  0.976415  0.970919\n",
       "6        0.30   0.923767  0.959578  0.971698  0.966682\n",
       "7        0.35   0.936073  0.963093  0.966981  0.963799\n",
       "8        0.40   0.947867  0.959578  0.943396  0.943841\n",
       "9        0.45   0.952381  0.961336  0.943396  0.944287\n",
       "10       0.50   0.956311  0.957821  0.929245  0.931883\n",
       "11       0.55   0.956098  0.956063  0.924528  0.927591\n",
       "12       0.60   0.960396  0.954306  0.915094  0.919431\n",
       "13       0.65   0.960396  0.954306  0.915094  0.919431\n",
       "14       0.70   0.974619  0.956063  0.905660  0.912114\n",
       "15       0.75   0.984293  0.952548  0.886792  0.895665\n",
       "16       0.80   0.994595  0.949033  0.867925  0.879121\n",
       "17       0.85   0.994565  0.947276  0.863208  0.874761\n",
       "18       0.90   1.000000  0.940246  0.839623  0.853308\n",
       "19       0.95   1.000000  0.927944  0.806604  0.822511"
      ]
     },
     "execution_count": 96,
=======
       "    threshold  accuracy  precision    recall        f3\n",
       "0        0.00  0.372583   0.372583  1.000000  0.855874\n",
       "1        0.05  0.899824   0.790262  0.995283  0.970115\n",
       "2        0.10  0.931459   0.847390  0.995283  0.978210\n",
       "3        0.15  0.947276   0.882353  0.990566  0.978565\n",
       "4        0.20  0.954306   0.900862  0.985849  0.976636\n",
       "5        0.25  0.961336   0.924107  0.976415  0.970919\n",
       "6        0.30  0.959578   0.923767  0.971698  0.966682\n",
       "7        0.35  0.964851   0.940367  0.966981  0.964252\n",
       "8        0.40  0.959578   0.947867  0.943396  0.943841\n",
       "9        0.45  0.961336   0.952381  0.943396  0.944287\n",
       "10       0.50  0.957821   0.956311  0.929245  0.931883\n",
       "11       0.55  0.956063   0.956098  0.924528  0.927591\n",
       "12       0.60  0.954306   0.960396  0.915094  0.919431\n",
       "13       0.65  0.954306   0.960396  0.915094  0.919431\n",
       "14       0.70  0.956063   0.974619  0.905660  0.912114\n",
       "15       0.75  0.952548   0.984293  0.886792  0.895665\n",
       "16       0.80  0.949033   0.994595  0.867925  0.879121\n",
       "17       0.85  0.949033   1.000000  0.863208  0.875179\n",
       "18       0.90  0.940246   1.000000  0.839623  0.853308\n",
       "19       0.95  0.927944   1.000000  0.806604  0.822511\n",
       "20       1.00  0.627417   0.000000  0.000000  0.000000"
      ]
     },
     "execution_count": 117,
>>>>>>> a282d9ababe32ff030c47b1a9ec33bc3f0a40288
     "metadata": {},
     "output_type": "execute_result"
    }
   ],
   "source": [
    "# The graph shows all the possibilities (precision, accuracy, recall and f3), but we need to apply it to the selected.\n",
    "# It is not used to compare them, it is to know the best threshold in one of them. \n",
    "res = pd.DataFrame(results)\n",
    "res"
   ]
  },
  {
   "cell_type": "code",
<<<<<<< HEAD
   "execution_count": 84,
=======
   "execution_count": 118,
>>>>>>> a282d9ababe32ff030c47b1a9ec33bc3f0a40288
   "metadata": {},
   "outputs": [
    {
     "data": {
      "text/plain": [
       "0.15000000000000002"
      ]
     },
<<<<<<< HEAD
     "execution_count": 84,
=======
     "execution_count": 118,
>>>>>>> a282d9ababe32ff030c47b1a9ec33bc3f0a40288
     "metadata": {},
     "output_type": "execute_result"
    }
   ],
   "source": [
    "optimal_threshold = res.threshold[res.f3.argmax()]\n",
    "optimal_threshold"
   ]
  },
  {
   "cell_type": "markdown",
   "metadata": {},
   "source": [
    "<img src=\"https://github.com/andrewwlong/classification_metrics_sklearn/raw/541a0d065ffb8b3ff705161f6d16088d434b2ea7/img/conf_matrix.png\">"
   ]
  },
  {
   "cell_type": "code",
<<<<<<< HEAD
   "execution_count": 85,
=======
   "execution_count": 124,
>>>>>>> a282d9ababe32ff030c47b1a9ec33bc3f0a40288
   "metadata": {},
   "outputs": [
    {
     "data": {
      "text/html": [
       "<div>\n",
       "<style scoped>\n",
       "    .dataframe tbody tr th:only-of-type {\n",
       "        vertical-align: middle;\n",
       "    }\n",
       "\n",
       "    .dataframe tbody tr th {\n",
       "        vertical-align: top;\n",
       "    }\n",
       "\n",
       "    .dataframe thead th {\n",
       "        text-align: right;\n",
       "    }\n",
       "</style>\n",
       "<table border=\"1\" class=\"dataframe\">\n",
       "  <thead>\n",
       "    <tr style=\"text-align: right;\">\n",
       "      <th>prediction_proba_cancer</th>\n",
       "      <th>False</th>\n",
       "      <th>True</th>\n",
       "    </tr>\n",
       "    <tr>\n",
       "      <th>is_cancer</th>\n",
       "      <th></th>\n",
       "      <th></th>\n",
       "    </tr>\n",
       "  </thead>\n",
       "  <tbody>\n",
       "    <tr>\n",
       "      <th>0</th>\n",
       "      <td>329</td>\n",
       "      <td>28</td>\n",
       "    </tr>\n",
       "    <tr>\n",
       "      <th>1</th>\n",
       "      <td>2</td>\n",
       "      <td>210</td>\n",
       "    </tr>\n",
       "  </tbody>\n",
       "</table>\n",
       "</div>"
      ],
      "text/plain": [
       "prediction_proba_cancer  False  True \n",
       "is_cancer                            \n",
       "0                          329     28\n",
       "1                            2    210"
      ]
     },
<<<<<<< HEAD
     "execution_count": 85,
=======
     "execution_count": 124,
>>>>>>> a282d9ababe32ff030c47b1a9ec33bc3f0a40288
     "metadata": {},
     "output_type": "execute_result"
    }
   ],
   "source": [
    "pd.crosstab(df3b.is_cancer, df3b.prediction_proba_cancer > optimal_threshold)"
   ]
  },
  {
   "cell_type": "code",
<<<<<<< HEAD
   "execution_count": 93,
=======
   "execution_count": 120,
>>>>>>> a282d9ababe32ff030c47b1a9ec33bc3f0a40288
   "metadata": {},
   "outputs": [
    {
     "data": {
      "text/html": [
       "<div>\n",
       "<style scoped>\n",
       "    .dataframe tbody tr th:only-of-type {\n",
       "        vertical-align: middle;\n",
       "    }\n",
       "\n",
       "    .dataframe tbody tr th {\n",
       "        vertical-align: top;\n",
       "    }\n",
       "\n",
       "    .dataframe thead th {\n",
       "        text-align: right;\n",
       "    }\n",
       "</style>\n",
       "<table border=\"1\" class=\"dataframe\">\n",
       "  <thead>\n",
       "    <tr style=\"text-align: right;\">\n",
       "      <th>prediction_proba_cancer</th>\n",
       "      <th>False</th>\n",
       "      <th>True</th>\n",
       "    </tr>\n",
       "    <tr>\n",
       "      <th>is_cancer</th>\n",
       "      <th></th>\n",
       "      <th></th>\n",
       "    </tr>\n",
       "  </thead>\n",
       "  <tbody>\n",
       "    <tr>\n",
       "      <th>0</th>\n",
       "      <td>2</td>\n",
       "      <td>355</td>\n",
       "    </tr>\n",
       "    <tr>\n",
       "      <th>1</th>\n",
       "      <td>0</td>\n",
       "      <td>212</td>\n",
       "    </tr>\n",
       "  </tbody>\n",
       "</table>\n",
       "</div>"
      ],
      "text/plain": [
       "prediction_proba_cancer  False  True \n",
       "is_cancer                            \n",
       "0                            2    355\n",
       "1                            0    212"
      ]
     },
<<<<<<< HEAD
     "execution_count": 93,
=======
     "execution_count": 120,
>>>>>>> a282d9ababe32ff030c47b1a9ec33bc3f0a40288
     "metadata": {},
     "output_type": "execute_result"
    }
   ],
   "source": [
    "# if I were to use a ridiculously low threshold\n",
    "# I would have 100% recall\n",
    "# but very low precision\n",
    "pd.crosstab(df3b.is_cancer, df3b.prediction_proba_cancer > 0.000001)"
   ]
  },
  {
   "cell_type": "markdown",
   "metadata": {},
   "source": [
    "<img width=500 src=\"https://2.bp.blogspot.com/-EvSXDotTOwc/XMfeOGZ-CVI/AAAAAAAAEiE/oePFfvhfOQM11dgRn9FkPxlegCXbgOF4QCLcBGAs/s1600/confusionMatrxiUpdated.jpg\">"
   ]
  },
  {
   "cell_type": "markdown",
   "metadata": {},
   "source": [
    "## Summary"
   ]
  },
  {
   "cell_type": "markdown",
   "metadata": {},
   "source": [
    " * Classification predicts qualitative outputs (classes)\n",
    " * Logistic regression is the most commonly used classification algorithm (not for being best, but for being explainable and classic)\n",
    " * Logistic regression predicts probabilities (`.predict_proba`, between 0 and 1) and may apply threshold for you (`.predict`)"
   ]
  },
  {
   "cell_type": "markdown",
   "metadata": {},
   "source": [
    " * We have different classification metrics\n",
    " * A metric should be decided before training different models! Human criteria translates into metric choice\n",
    " * A metric lets us choose the best model (here we chose the best threshold for our final model)\n",
    " * For choosing a metric, look at \n",
    "  - class balance\n",
    "  - class symmetry"
   ]
  },
  {
   "cell_type": "markdown",
   "metadata": {},
   "source": [
    "## Further materials"
   ]
  },
  {
   "cell_type": "markdown",
   "metadata": {},
   "source": [
    "[ROC Curve](https://en.wikipedia.org/wiki/Receiver_operating_characteristic)"
   ]
  }
 ],
 "metadata": {
  "colab": {
   "collapsed_sections": [],
   "name": "supervised-learning.ipynb",
   "provenance": []
  },
  "kernelspec": {
   "display_name": "Python 3",
   "language": "python",
   "name": "python3"
  },
  "language_info": {
   "codemirror_mode": {
    "name": "ipython",
    "version": 3
   },
   "file_extension": ".py",
   "mimetype": "text/x-python",
   "name": "python",
   "nbconvert_exporter": "python",
   "pygments_lexer": "ipython3",
   "version": "3.8.5"
  },
  "toc": {
   "base_numbering": 1,
   "nav_menu": {},
   "number_sections": true,
   "sideBar": true,
   "skip_h1_title": true,
   "title_cell": "Table of Contents",
   "title_sidebar": "Contents",
   "toc_cell": true,
   "toc_position": {
    "height": "calc(100% - 180px)",
    "left": "10px",
    "top": "150px",
    "width": "253.9px"
   },
   "toc_section_display": true,
   "toc_window_display": true
  },
  "varInspector": {
   "cols": {
    "lenName": 16,
    "lenType": 16,
    "lenVar": 40
   },
   "kernels_config": {
    "python": {
     "delete_cmd_postfix": "",
     "delete_cmd_prefix": "del ",
     "library": "var_list.py",
     "varRefreshCmd": "print(var_dic_list())"
    },
    "r": {
     "delete_cmd_postfix": ") ",
     "delete_cmd_prefix": "rm(",
     "library": "var_list.r",
     "varRefreshCmd": "cat(var_dic_list()) "
    }
   },
   "types_to_exclude": [
    "module",
    "function",
    "builtin_function_or_method",
    "instance",
    "_Feature"
   ],
   "window_display": false
  }
 },
 "nbformat": 4,
 "nbformat_minor": 1
}
